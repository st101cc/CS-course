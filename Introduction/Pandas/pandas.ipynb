{
 "cells": [
  {
   "cell_type": "markdown",
   "id": "a9ee0f2d",
   "metadata": {
    "slideshow": {
     "slide_type": "slide"
    }
   },
   "source": [
    "\n",
    "# ST115 Managing and visualising data\n",
    "\n",
    "## Lecture 3: Data wrangling with Pandas\n",
    "\n",
    "### 2022/23 Lent Term"
   ]
  },
  {
   "cell_type": "markdown",
   "id": "fb7a1197",
   "metadata": {
    "slideshow": {
     "slide_type": "slide"
    }
   },
   "source": [
    "## Today's plan\n",
    "\n",
    "Data exploration and data wrangling on _tabular data_ using Pandas.\n",
    "\n",
    "* Tabular data\n",
    "* Pandas: quick recap\n",
    "* Data exploration\n",
    "* Data wrangling\n",
    "    * Remove unnecessary data\n",
    "    * Handle missing data"
   ]
  },
  {
   "cell_type": "markdown",
   "id": "c64e4005",
   "metadata": {
    "slideshow": {
     "slide_type": "slide"
    }
   },
   "source": [
    "## Pandas\n",
    "\n",
    "Pandas is a third party library for data analysis, integrating low level modelling tools such as importing, cleaning and aggregating tabular data.\n",
    "* Main object: _heterogeneous_ `DataFrame`"
   ]
  },
  {
   "cell_type": "markdown",
   "id": "9e37fe26",
   "metadata": {
    "slideshow": {
     "slide_type": "slide"
    }
   },
   "source": [
    "##  Pandas basics\n",
    "\n",
    "If you have not learned `Pandas` before, please finish the following before continuing with the lecture:\n",
    "* [Introduction to Pandas](https://app.dataquest.io/m/291)\n",
    "* [Exploring Data with pandas: Fundamentals](https://app.dataquest.io/m/381)\n",
    "* [Exploring Data with pandas: Intermediate](https://moodle.lse.ac.uk/mod/url/view.php?id=1003173)\n",
    "* [Revision slides](https://moodle.lse.ac.uk/pluginfile.php/2050517/mod_resource/content/0/revision_4_slides.pdf) (optional)\n"
   ]
  },
  {
   "cell_type": "markdown",
   "id": "86e969cf",
   "metadata": {
    "slideshow": {
     "slide_type": "slide"
    }
   },
   "source": [
    "## Install Pandas\n",
    "\n",
    "* Students who are using Anaconda, you should already have Pandas installed\n",
    "* For students who do not have Pandas, you can install it by using the following commands in a terminal:\n",
    "\n",
    "```\n",
    "conda install pandas\n",
    "```\n",
    " \n",
    "or \n",
    "\n",
    "```\n",
    "pip install pandas\n",
    "```\n",
    "\n",
    "depending on which package management system you are using."
   ]
  },
  {
   "cell_type": "markdown",
   "id": "f7903230",
   "metadata": {
    "slideshow": {
     "slide_type": "slide"
    }
   },
   "source": [
    "## Pandas: import\n",
    "\n",
    "Following the official recommendation, we import the module using the following way:"
   ]
  },
  {
   "cell_type": "code",
   "execution_count": 1,
   "id": "2a3335ab",
   "metadata": {},
   "outputs": [],
   "source": [
    "import pandas as pd"
   ]
  },
  {
   "cell_type": "markdown",
   "id": "6c325fbe",
   "metadata": {},
   "source": [
    "Note that the behaviour of different versions of `Pandas` may be slightly different. In today's lecture we are using version _1.4.4_.\n",
    "* You can check your version of `Pandas` by:"
   ]
  },
  {
   "cell_type": "code",
   "execution_count": 2,
   "id": "9d2cbbb7",
   "metadata": {
    "scrolled": true
   },
   "outputs": [
    {
     "data": {
      "text/plain": [
       "'1.4.2'"
      ]
     },
     "execution_count": 2,
     "metadata": {},
     "output_type": "execute_result"
    }
   ],
   "source": [
    "pd.__version__"
   ]
  },
  {
   "cell_type": "markdown",
   "id": "4cadb505",
   "metadata": {},
   "source": [
    "(You can always check for the version of almost any library using `__version__`)"
   ]
  },
  {
   "cell_type": "markdown",
   "id": "c4e37249",
   "metadata": {
    "slideshow": {
     "slide_type": "slide"
    }
   },
   "source": [
    "# Tabular data"
   ]
  },
  {
   "cell_type": "markdown",
   "id": "3d04a437",
   "metadata": {
    "slideshow": {
     "slide_type": "slide"
    }
   },
   "source": [
    "## Tabular data\n",
    "\n",
    "Tabular data is data in a two-dimensional rectangular table, structured with _rows_ and _columns_. \n",
    "* Examples:\n",
    "    * Bitcoin historical data from [Yahoo! Finance](https://finance.yahoo.com/quote/BTC-USD/history?p=BTC-USD): <center><img src=\"figs/bitcoin_yahoo.png\" width=\"700\"></center>\n",
    "    * The premier league player value dataset (Workshop 1):"
   ]
  },
  {
   "cell_type": "code",
   "execution_count": 2,
   "id": "8fa9c6ff",
   "metadata": {
    "scrolled": true
   },
   "outputs": [
    {
     "data": {
      "text/html": [
       "<div>\n",
       "<style scoped>\n",
       "    .dataframe tbody tr th:only-of-type {\n",
       "        vertical-align: middle;\n",
       "    }\n",
       "\n",
       "    .dataframe tbody tr th {\n",
       "        vertical-align: top;\n",
       "    }\n",
       "\n",
       "    .dataframe thead th {\n",
       "        text-align: right;\n",
       "    }\n",
       "</style>\n",
       "<table border=\"1\" class=\"dataframe\">\n",
       "  <thead>\n",
       "    <tr style=\"text-align: right;\">\n",
       "      <th></th>\n",
       "      <th>name</th>\n",
       "      <th>club</th>\n",
       "      <th>position</th>\n",
       "      <th>value</th>\n",
       "    </tr>\n",
       "  </thead>\n",
       "  <tbody>\n",
       "    <tr>\n",
       "      <th>0</th>\n",
       "      <td>Yaser Asprilla</td>\n",
       "      <td>Watford</td>\n",
       "      <td>Attacking Midfield</td>\n",
       "      <td>0.90</td>\n",
       "    </tr>\n",
       "    <tr>\n",
       "      <th>1</th>\n",
       "      <td>Moisés Caicedo</td>\n",
       "      <td>Brighton &amp; Hove Albion</td>\n",
       "      <td>Central Midfield</td>\n",
       "      <td>4.05</td>\n",
       "    </tr>\n",
       "    <tr>\n",
       "      <th>2</th>\n",
       "      <td>Edo Kayembe</td>\n",
       "      <td>Watford</td>\n",
       "      <td>Defensive Midfield</td>\n",
       "      <td>1.17</td>\n",
       "    </tr>\n",
       "  </tbody>\n",
       "</table>\n",
       "</div>"
      ],
      "text/plain": [
       "             name                    club            position  value\n",
       "0  Yaser Asprilla                 Watford  Attacking Midfield   0.90\n",
       "1  Moisés Caicedo  Brighton & Hove Albion    Central Midfield   4.05\n",
       "2     Edo Kayembe                 Watford  Defensive Midfield   1.17"
      ]
     },
     "execution_count": 2,
     "metadata": {},
     "output_type": "execute_result"
    }
   ],
   "source": [
    "# we will talk about the code later\n",
    "pl_players = pd.read_csv('data/pl_player_value.csv')\n",
    "pl_players.head(3)"
   ]
  },
  {
   "cell_type": "markdown",
   "id": "cec51252",
   "metadata": {
    "slideshow": {
     "slide_type": "slide"
    }
   },
   "source": [
    "## Data layout in tables\n",
    "* Rows:\n",
    "    * Each row represents one record or observation of an object or event \n",
    "    * Each row can have multiple pieces of information\n",
    "    * Each row has the same structure\n",
    "* Columns: \n",
    "    * Each column represents an attribute or property of the observations\n",
    "        * Each column contains only one type of data\n",
    "    * Labeled with a header\n",
    "    \n",
    "Each table contains a set of observations of the same kind of object or event."
   ]
  },
  {
   "cell_type": "markdown",
   "id": "381eb1ef",
   "metadata": {
    "slideshow": {
     "slide_type": "slide"
    }
   },
   "source": [
    "## CSV files\n",
    "\n",
    "Often tabular data is stored in _csv_ files.\n",
    "* CSV stands for _comma-separated values_\n",
    "    * Values are separated by the _delimiter_ `,`\n",
    "    * file has the extension `.csv`\n",
    "* Examples:\n",
    "    * Bitcoin data downloaded from Yahoo! Finance: <center><img src=\"figs/bitcoin_csv.png\" width=\"700\"></center>\n",
    "    * Premier league player data: <center><img src=\"figs/pl_csv.png\" width=\"500\"></center>\n"
   ]
  },
  {
   "cell_type": "markdown",
   "id": "615d9d86",
   "metadata": {
    "slideshow": {
     "slide_type": "slide"
    }
   },
   "source": [
    "## Loading csv files into Python as `pd.DataFrame`\n",
    "\n",
    "We can do so very easily with the use of [`pd.read_csv()`](https://pandas.pydata.org/docs/reference/api/pandas.read_csv.html). For example:"
   ]
  },
  {
   "cell_type": "code",
   "execution_count": 6,
   "id": "12218c7c",
   "metadata": {
    "scrolled": true
   },
   "outputs": [
    {
     "data": {
      "text/html": [
       "<div>\n",
       "<style scoped>\n",
       "    .dataframe tbody tr th:only-of-type {\n",
       "        vertical-align: middle;\n",
       "    }\n",
       "\n",
       "    .dataframe tbody tr th {\n",
       "        vertical-align: top;\n",
       "    }\n",
       "\n",
       "    .dataframe thead th {\n",
       "        text-align: right;\n",
       "    }\n",
       "</style>\n",
       "<table border=\"1\" class=\"dataframe\">\n",
       "  <thead>\n",
       "    <tr style=\"text-align: right;\">\n",
       "      <th></th>\n",
       "      <th>name</th>\n",
       "      <th>club</th>\n",
       "      <th>position</th>\n",
       "      <th>value</th>\n",
       "    </tr>\n",
       "  </thead>\n",
       "  <tbody>\n",
       "    <tr>\n",
       "      <th>0</th>\n",
       "      <td>Yaser Asprilla</td>\n",
       "      <td>Watford</td>\n",
       "      <td>Attacking Midfield</td>\n",
       "      <td>0.90</td>\n",
       "    </tr>\n",
       "    <tr>\n",
       "      <th>1</th>\n",
       "      <td>Moisés Caicedo</td>\n",
       "      <td>Brighton &amp; Hove Albion</td>\n",
       "      <td>Central Midfield</td>\n",
       "      <td>4.05</td>\n",
       "    </tr>\n",
       "    <tr>\n",
       "      <th>2</th>\n",
       "      <td>Edo Kayembe</td>\n",
       "      <td>Watford</td>\n",
       "      <td>Defensive Midfield</td>\n",
       "      <td>1.17</td>\n",
       "    </tr>\n",
       "    <tr>\n",
       "      <th>3</th>\n",
       "      <td>Luka Ilic</td>\n",
       "      <td>Manchester City</td>\n",
       "      <td>Attacking Midfield</td>\n",
       "      <td>0.72</td>\n",
       "    </tr>\n",
       "    <tr>\n",
       "      <th>4</th>\n",
       "      <td>Hayao Kawabe</td>\n",
       "      <td>Wolverhampton Wanderers</td>\n",
       "      <td>Central Midfield</td>\n",
       "      <td>1.17</td>\n",
       "    </tr>\n",
       "  </tbody>\n",
       "</table>\n",
       "</div>"
      ],
      "text/plain": [
       "             name                     club            position  value\n",
       "0  Yaser Asprilla                  Watford  Attacking Midfield   0.90\n",
       "1  Moisés Caicedo   Brighton & Hove Albion    Central Midfield   4.05\n",
       "2     Edo Kayembe                  Watford  Defensive Midfield   1.17\n",
       "3       Luka Ilic          Manchester City  Attacking Midfield   0.72\n",
       "4    Hayao Kawabe  Wolverhampton Wanderers    Central Midfield   1.17"
      ]
     },
     "execution_count": 6,
     "metadata": {},
     "output_type": "execute_result"
    }
   ],
   "source": [
    "pl_players = pd.read_csv('data/pl_player_value.csv')\n",
    "pl_players.head()   # first 5 rows"
   ]
  },
  {
   "cell_type": "markdown",
   "id": "6eb220fc",
   "metadata": {
    "slideshow": {
     "slide_type": "slide"
    }
   },
   "source": [
    "## Other file types for tabular data\n",
    "\n",
    "Text files with extension `.txt` and Excel files (e.g. with extension `xlsx`) are other common file types for tabular data. \n",
    "\n",
    "Text file example: [Faculty Salary Data](https://courses.washington.edu/b517/Datasets/datasets.html)\n",
    "<center><img src=\"figs/salary.png\" width=\"700\"></center>\n",
    "\n",
    "Note here each field is separated by _whitespace_.\n"
   ]
  },
  {
   "cell_type": "markdown",
   "id": "c1ac7312",
   "metadata": {
    "slideshow": {
     "slide_type": "slide"
    }
   },
   "source": [
    "## Other file types for tabular data (continue)\n",
    "\n",
    "When whitespace is used to separate the data, we can still load the data into pandas `DataFrame` using `read_csv()`.\n",
    "* But we need to provide the additional argument `delim_whitespace = True`\n",
    "* For example:"
   ]
  },
  {
   "cell_type": "code",
   "execution_count": 6,
   "id": "47d032f1",
   "metadata": {
    "scrolled": false
   },
   "outputs": [
    {
     "ename": "HTTPError",
     "evalue": "HTTP Error 404: ",
     "output_type": "error",
     "traceback": [
      "\u001b[1;31m---------------------------------------------------------------------------\u001b[0m",
      "\u001b[1;31mHTTPError\u001b[0m                                 Traceback (most recent call last)",
      "Input \u001b[1;32mIn [6]\u001b[0m, in \u001b[0;36m<cell line: 1>\u001b[1;34m()\u001b[0m\n\u001b[1;32m----> 1\u001b[0m salary \u001b[38;5;241m=\u001b[39m \u001b[43mpd\u001b[49m\u001b[38;5;241;43m.\u001b[39;49m\u001b[43mread_csv\u001b[49m\u001b[43m(\u001b[49m\u001b[38;5;124;43m'\u001b[39;49m\u001b[38;5;124;43mhttps://courses.washington.edu/b517/Datasets/SalaryData.txt\u001b[39;49m\u001b[38;5;124;43m'\u001b[39;49m\u001b[43m,\u001b[49m\u001b[43m \u001b[49m\n\u001b[0;32m      2\u001b[0m \u001b[43m                     \u001b[49m\u001b[43mdelim_whitespace\u001b[49m\u001b[38;5;241;43m=\u001b[39;49m\u001b[38;5;28;43;01mTrue\u001b[39;49;00m\u001b[43m)\u001b[49m\n\u001b[0;32m      3\u001b[0m salary\u001b[38;5;241m.\u001b[39mhead()\n",
      "File \u001b[1;32m~\\anacondatrue\\lib\\site-packages\\pandas\\util\\_decorators.py:311\u001b[0m, in \u001b[0;36mdeprecate_nonkeyword_arguments.<locals>.decorate.<locals>.wrapper\u001b[1;34m(*args, **kwargs)\u001b[0m\n\u001b[0;32m    305\u001b[0m \u001b[38;5;28;01mif\u001b[39;00m \u001b[38;5;28mlen\u001b[39m(args) \u001b[38;5;241m>\u001b[39m num_allow_args:\n\u001b[0;32m    306\u001b[0m     warnings\u001b[38;5;241m.\u001b[39mwarn(\n\u001b[0;32m    307\u001b[0m         msg\u001b[38;5;241m.\u001b[39mformat(arguments\u001b[38;5;241m=\u001b[39marguments),\n\u001b[0;32m    308\u001b[0m         \u001b[38;5;167;01mFutureWarning\u001b[39;00m,\n\u001b[0;32m    309\u001b[0m         stacklevel\u001b[38;5;241m=\u001b[39mstacklevel,\n\u001b[0;32m    310\u001b[0m     )\n\u001b[1;32m--> 311\u001b[0m \u001b[38;5;28;01mreturn\u001b[39;00m func(\u001b[38;5;241m*\u001b[39margs, \u001b[38;5;241m*\u001b[39m\u001b[38;5;241m*\u001b[39mkwargs)\n",
      "File \u001b[1;32m~\\anacondatrue\\lib\\site-packages\\pandas\\io\\parsers\\readers.py:680\u001b[0m, in \u001b[0;36mread_csv\u001b[1;34m(filepath_or_buffer, sep, delimiter, header, names, index_col, usecols, squeeze, prefix, mangle_dupe_cols, dtype, engine, converters, true_values, false_values, skipinitialspace, skiprows, skipfooter, nrows, na_values, keep_default_na, na_filter, verbose, skip_blank_lines, parse_dates, infer_datetime_format, keep_date_col, date_parser, dayfirst, cache_dates, iterator, chunksize, compression, thousands, decimal, lineterminator, quotechar, quoting, doublequote, escapechar, comment, encoding, encoding_errors, dialect, error_bad_lines, warn_bad_lines, on_bad_lines, delim_whitespace, low_memory, memory_map, float_precision, storage_options)\u001b[0m\n\u001b[0;32m    665\u001b[0m kwds_defaults \u001b[38;5;241m=\u001b[39m _refine_defaults_read(\n\u001b[0;32m    666\u001b[0m     dialect,\n\u001b[0;32m    667\u001b[0m     delimiter,\n\u001b[1;32m   (...)\u001b[0m\n\u001b[0;32m    676\u001b[0m     defaults\u001b[38;5;241m=\u001b[39m{\u001b[38;5;124m\"\u001b[39m\u001b[38;5;124mdelimiter\u001b[39m\u001b[38;5;124m\"\u001b[39m: \u001b[38;5;124m\"\u001b[39m\u001b[38;5;124m,\u001b[39m\u001b[38;5;124m\"\u001b[39m},\n\u001b[0;32m    677\u001b[0m )\n\u001b[0;32m    678\u001b[0m kwds\u001b[38;5;241m.\u001b[39mupdate(kwds_defaults)\n\u001b[1;32m--> 680\u001b[0m \u001b[38;5;28;01mreturn\u001b[39;00m \u001b[43m_read\u001b[49m\u001b[43m(\u001b[49m\u001b[43mfilepath_or_buffer\u001b[49m\u001b[43m,\u001b[49m\u001b[43m \u001b[49m\u001b[43mkwds\u001b[49m\u001b[43m)\u001b[49m\n",
      "File \u001b[1;32m~\\anacondatrue\\lib\\site-packages\\pandas\\io\\parsers\\readers.py:575\u001b[0m, in \u001b[0;36m_read\u001b[1;34m(filepath_or_buffer, kwds)\u001b[0m\n\u001b[0;32m    572\u001b[0m _validate_names(kwds\u001b[38;5;241m.\u001b[39mget(\u001b[38;5;124m\"\u001b[39m\u001b[38;5;124mnames\u001b[39m\u001b[38;5;124m\"\u001b[39m, \u001b[38;5;28;01mNone\u001b[39;00m))\n\u001b[0;32m    574\u001b[0m \u001b[38;5;66;03m# Create the parser.\u001b[39;00m\n\u001b[1;32m--> 575\u001b[0m parser \u001b[38;5;241m=\u001b[39m TextFileReader(filepath_or_buffer, \u001b[38;5;241m*\u001b[39m\u001b[38;5;241m*\u001b[39mkwds)\n\u001b[0;32m    577\u001b[0m \u001b[38;5;28;01mif\u001b[39;00m chunksize \u001b[38;5;129;01mor\u001b[39;00m iterator:\n\u001b[0;32m    578\u001b[0m     \u001b[38;5;28;01mreturn\u001b[39;00m parser\n",
      "File \u001b[1;32m~\\anacondatrue\\lib\\site-packages\\pandas\\io\\parsers\\readers.py:933\u001b[0m, in \u001b[0;36mTextFileReader.__init__\u001b[1;34m(self, f, engine, **kwds)\u001b[0m\n\u001b[0;32m    930\u001b[0m     \u001b[38;5;28mself\u001b[39m\u001b[38;5;241m.\u001b[39moptions[\u001b[38;5;124m\"\u001b[39m\u001b[38;5;124mhas_index_names\u001b[39m\u001b[38;5;124m\"\u001b[39m] \u001b[38;5;241m=\u001b[39m kwds[\u001b[38;5;124m\"\u001b[39m\u001b[38;5;124mhas_index_names\u001b[39m\u001b[38;5;124m\"\u001b[39m]\n\u001b[0;32m    932\u001b[0m \u001b[38;5;28mself\u001b[39m\u001b[38;5;241m.\u001b[39mhandles: IOHandles \u001b[38;5;241m|\u001b[39m \u001b[38;5;28;01mNone\u001b[39;00m \u001b[38;5;241m=\u001b[39m \u001b[38;5;28;01mNone\u001b[39;00m\n\u001b[1;32m--> 933\u001b[0m \u001b[38;5;28mself\u001b[39m\u001b[38;5;241m.\u001b[39m_engine \u001b[38;5;241m=\u001b[39m \u001b[38;5;28;43mself\u001b[39;49m\u001b[38;5;241;43m.\u001b[39;49m\u001b[43m_make_engine\u001b[49m\u001b[43m(\u001b[49m\u001b[43mf\u001b[49m\u001b[43m,\u001b[49m\u001b[43m \u001b[49m\u001b[38;5;28;43mself\u001b[39;49m\u001b[38;5;241;43m.\u001b[39;49m\u001b[43mengine\u001b[49m\u001b[43m)\u001b[49m\n",
      "File \u001b[1;32m~\\anacondatrue\\lib\\site-packages\\pandas\\io\\parsers\\readers.py:1217\u001b[0m, in \u001b[0;36mTextFileReader._make_engine\u001b[1;34m(self, f, engine)\u001b[0m\n\u001b[0;32m   1213\u001b[0m     mode \u001b[38;5;241m=\u001b[39m \u001b[38;5;124m\"\u001b[39m\u001b[38;5;124mrb\u001b[39m\u001b[38;5;124m\"\u001b[39m\n\u001b[0;32m   1214\u001b[0m \u001b[38;5;66;03m# error: No overload variant of \"get_handle\" matches argument types\u001b[39;00m\n\u001b[0;32m   1215\u001b[0m \u001b[38;5;66;03m# \"Union[str, PathLike[str], ReadCsvBuffer[bytes], ReadCsvBuffer[str]]\"\u001b[39;00m\n\u001b[0;32m   1216\u001b[0m \u001b[38;5;66;03m# , \"str\", \"bool\", \"Any\", \"Any\", \"Any\", \"Any\", \"Any\"\u001b[39;00m\n\u001b[1;32m-> 1217\u001b[0m \u001b[38;5;28mself\u001b[39m\u001b[38;5;241m.\u001b[39mhandles \u001b[38;5;241m=\u001b[39m \u001b[43mget_handle\u001b[49m\u001b[43m(\u001b[49m\u001b[43m  \u001b[49m\u001b[38;5;66;43;03m# type: ignore[call-overload]\u001b[39;49;00m\n\u001b[0;32m   1218\u001b[0m \u001b[43m    \u001b[49m\u001b[43mf\u001b[49m\u001b[43m,\u001b[49m\n\u001b[0;32m   1219\u001b[0m \u001b[43m    \u001b[49m\u001b[43mmode\u001b[49m\u001b[43m,\u001b[49m\n\u001b[0;32m   1220\u001b[0m \u001b[43m    \u001b[49m\u001b[43mencoding\u001b[49m\u001b[38;5;241;43m=\u001b[39;49m\u001b[38;5;28;43mself\u001b[39;49m\u001b[38;5;241;43m.\u001b[39;49m\u001b[43moptions\u001b[49m\u001b[38;5;241;43m.\u001b[39;49m\u001b[43mget\u001b[49m\u001b[43m(\u001b[49m\u001b[38;5;124;43m\"\u001b[39;49m\u001b[38;5;124;43mencoding\u001b[39;49m\u001b[38;5;124;43m\"\u001b[39;49m\u001b[43m,\u001b[49m\u001b[43m \u001b[49m\u001b[38;5;28;43;01mNone\u001b[39;49;00m\u001b[43m)\u001b[49m\u001b[43m,\u001b[49m\n\u001b[0;32m   1221\u001b[0m \u001b[43m    \u001b[49m\u001b[43mcompression\u001b[49m\u001b[38;5;241;43m=\u001b[39;49m\u001b[38;5;28;43mself\u001b[39;49m\u001b[38;5;241;43m.\u001b[39;49m\u001b[43moptions\u001b[49m\u001b[38;5;241;43m.\u001b[39;49m\u001b[43mget\u001b[49m\u001b[43m(\u001b[49m\u001b[38;5;124;43m\"\u001b[39;49m\u001b[38;5;124;43mcompression\u001b[39;49m\u001b[38;5;124;43m\"\u001b[39;49m\u001b[43m,\u001b[49m\u001b[43m \u001b[49m\u001b[38;5;28;43;01mNone\u001b[39;49;00m\u001b[43m)\u001b[49m\u001b[43m,\u001b[49m\n\u001b[0;32m   1222\u001b[0m \u001b[43m    \u001b[49m\u001b[43mmemory_map\u001b[49m\u001b[38;5;241;43m=\u001b[39;49m\u001b[38;5;28;43mself\u001b[39;49m\u001b[38;5;241;43m.\u001b[39;49m\u001b[43moptions\u001b[49m\u001b[38;5;241;43m.\u001b[39;49m\u001b[43mget\u001b[49m\u001b[43m(\u001b[49m\u001b[38;5;124;43m\"\u001b[39;49m\u001b[38;5;124;43mmemory_map\u001b[39;49m\u001b[38;5;124;43m\"\u001b[39;49m\u001b[43m,\u001b[49m\u001b[43m \u001b[49m\u001b[38;5;28;43;01mFalse\u001b[39;49;00m\u001b[43m)\u001b[49m\u001b[43m,\u001b[49m\n\u001b[0;32m   1223\u001b[0m \u001b[43m    \u001b[49m\u001b[43mis_text\u001b[49m\u001b[38;5;241;43m=\u001b[39;49m\u001b[43mis_text\u001b[49m\u001b[43m,\u001b[49m\n\u001b[0;32m   1224\u001b[0m \u001b[43m    \u001b[49m\u001b[43merrors\u001b[49m\u001b[38;5;241;43m=\u001b[39;49m\u001b[38;5;28;43mself\u001b[39;49m\u001b[38;5;241;43m.\u001b[39;49m\u001b[43moptions\u001b[49m\u001b[38;5;241;43m.\u001b[39;49m\u001b[43mget\u001b[49m\u001b[43m(\u001b[49m\u001b[38;5;124;43m\"\u001b[39;49m\u001b[38;5;124;43mencoding_errors\u001b[39;49m\u001b[38;5;124;43m\"\u001b[39;49m\u001b[43m,\u001b[49m\u001b[43m \u001b[49m\u001b[38;5;124;43m\"\u001b[39;49m\u001b[38;5;124;43mstrict\u001b[39;49m\u001b[38;5;124;43m\"\u001b[39;49m\u001b[43m)\u001b[49m\u001b[43m,\u001b[49m\n\u001b[0;32m   1225\u001b[0m \u001b[43m    \u001b[49m\u001b[43mstorage_options\u001b[49m\u001b[38;5;241;43m=\u001b[39;49m\u001b[38;5;28;43mself\u001b[39;49m\u001b[38;5;241;43m.\u001b[39;49m\u001b[43moptions\u001b[49m\u001b[38;5;241;43m.\u001b[39;49m\u001b[43mget\u001b[49m\u001b[43m(\u001b[49m\u001b[38;5;124;43m\"\u001b[39;49m\u001b[38;5;124;43mstorage_options\u001b[39;49m\u001b[38;5;124;43m\"\u001b[39;49m\u001b[43m,\u001b[49m\u001b[43m \u001b[49m\u001b[38;5;28;43;01mNone\u001b[39;49;00m\u001b[43m)\u001b[49m\u001b[43m,\u001b[49m\n\u001b[0;32m   1226\u001b[0m \u001b[43m\u001b[49m\u001b[43m)\u001b[49m\n\u001b[0;32m   1227\u001b[0m \u001b[38;5;28;01massert\u001b[39;00m \u001b[38;5;28mself\u001b[39m\u001b[38;5;241m.\u001b[39mhandles \u001b[38;5;129;01mis\u001b[39;00m \u001b[38;5;129;01mnot\u001b[39;00m \u001b[38;5;28;01mNone\u001b[39;00m\n\u001b[0;32m   1228\u001b[0m f \u001b[38;5;241m=\u001b[39m \u001b[38;5;28mself\u001b[39m\u001b[38;5;241m.\u001b[39mhandles\u001b[38;5;241m.\u001b[39mhandle\n",
      "File \u001b[1;32m~\\anacondatrue\\lib\\site-packages\\pandas\\io\\common.py:670\u001b[0m, in \u001b[0;36mget_handle\u001b[1;34m(path_or_buf, mode, encoding, compression, memory_map, is_text, errors, storage_options)\u001b[0m\n\u001b[0;32m    667\u001b[0m     codecs\u001b[38;5;241m.\u001b[39mlookup_error(errors)\n\u001b[0;32m    669\u001b[0m \u001b[38;5;66;03m# open URLs\u001b[39;00m\n\u001b[1;32m--> 670\u001b[0m ioargs \u001b[38;5;241m=\u001b[39m \u001b[43m_get_filepath_or_buffer\u001b[49m\u001b[43m(\u001b[49m\n\u001b[0;32m    671\u001b[0m \u001b[43m    \u001b[49m\u001b[43mpath_or_buf\u001b[49m\u001b[43m,\u001b[49m\n\u001b[0;32m    672\u001b[0m \u001b[43m    \u001b[49m\u001b[43mencoding\u001b[49m\u001b[38;5;241;43m=\u001b[39;49m\u001b[43mencoding\u001b[49m\u001b[43m,\u001b[49m\n\u001b[0;32m    673\u001b[0m \u001b[43m    \u001b[49m\u001b[43mcompression\u001b[49m\u001b[38;5;241;43m=\u001b[39;49m\u001b[43mcompression\u001b[49m\u001b[43m,\u001b[49m\n\u001b[0;32m    674\u001b[0m \u001b[43m    \u001b[49m\u001b[43mmode\u001b[49m\u001b[38;5;241;43m=\u001b[39;49m\u001b[43mmode\u001b[49m\u001b[43m,\u001b[49m\n\u001b[0;32m    675\u001b[0m \u001b[43m    \u001b[49m\u001b[43mstorage_options\u001b[49m\u001b[38;5;241;43m=\u001b[39;49m\u001b[43mstorage_options\u001b[49m\u001b[43m,\u001b[49m\n\u001b[0;32m    676\u001b[0m \u001b[43m\u001b[49m\u001b[43m)\u001b[49m\n\u001b[0;32m    678\u001b[0m handle \u001b[38;5;241m=\u001b[39m ioargs\u001b[38;5;241m.\u001b[39mfilepath_or_buffer\n\u001b[0;32m    679\u001b[0m handles: \u001b[38;5;28mlist\u001b[39m[BaseBuffer]\n",
      "File \u001b[1;32m~\\anacondatrue\\lib\\site-packages\\pandas\\io\\common.py:339\u001b[0m, in \u001b[0;36m_get_filepath_or_buffer\u001b[1;34m(filepath_or_buffer, encoding, compression, mode, storage_options)\u001b[0m\n\u001b[0;32m    337\u001b[0m \u001b[38;5;66;03m# assuming storage_options is to be interpreted as headers\u001b[39;00m\n\u001b[0;32m    338\u001b[0m req_info \u001b[38;5;241m=\u001b[39m urllib\u001b[38;5;241m.\u001b[39mrequest\u001b[38;5;241m.\u001b[39mRequest(filepath_or_buffer, headers\u001b[38;5;241m=\u001b[39mstorage_options)\n\u001b[1;32m--> 339\u001b[0m \u001b[38;5;28;01mwith\u001b[39;00m \u001b[43murlopen\u001b[49m\u001b[43m(\u001b[49m\u001b[43mreq_info\u001b[49m\u001b[43m)\u001b[49m \u001b[38;5;28;01mas\u001b[39;00m req:\n\u001b[0;32m    340\u001b[0m     content_encoding \u001b[38;5;241m=\u001b[39m req\u001b[38;5;241m.\u001b[39mheaders\u001b[38;5;241m.\u001b[39mget(\u001b[38;5;124m\"\u001b[39m\u001b[38;5;124mContent-Encoding\u001b[39m\u001b[38;5;124m\"\u001b[39m, \u001b[38;5;28;01mNone\u001b[39;00m)\n\u001b[0;32m    341\u001b[0m     \u001b[38;5;28;01mif\u001b[39;00m content_encoding \u001b[38;5;241m==\u001b[39m \u001b[38;5;124m\"\u001b[39m\u001b[38;5;124mgzip\u001b[39m\u001b[38;5;124m\"\u001b[39m:\n\u001b[0;32m    342\u001b[0m         \u001b[38;5;66;03m# Override compression based on Content-Encoding header\u001b[39;00m\n",
      "File \u001b[1;32m~\\anacondatrue\\lib\\site-packages\\pandas\\io\\common.py:239\u001b[0m, in \u001b[0;36murlopen\u001b[1;34m(*args, **kwargs)\u001b[0m\n\u001b[0;32m    233\u001b[0m \u001b[38;5;124;03m\"\"\"\u001b[39;00m\n\u001b[0;32m    234\u001b[0m \u001b[38;5;124;03mLazy-import wrapper for stdlib urlopen, as that imports a big chunk of\u001b[39;00m\n\u001b[0;32m    235\u001b[0m \u001b[38;5;124;03mthe stdlib.\u001b[39;00m\n\u001b[0;32m    236\u001b[0m \u001b[38;5;124;03m\"\"\"\u001b[39;00m\n\u001b[0;32m    237\u001b[0m \u001b[38;5;28;01mimport\u001b[39;00m \u001b[38;5;21;01murllib\u001b[39;00m\u001b[38;5;21;01m.\u001b[39;00m\u001b[38;5;21;01mrequest\u001b[39;00m\n\u001b[1;32m--> 239\u001b[0m \u001b[38;5;28;01mreturn\u001b[39;00m urllib\u001b[38;5;241m.\u001b[39mrequest\u001b[38;5;241m.\u001b[39murlopen(\u001b[38;5;241m*\u001b[39margs, \u001b[38;5;241m*\u001b[39m\u001b[38;5;241m*\u001b[39mkwargs)\n",
      "File \u001b[1;32m~\\anacondatrue\\lib\\urllib\\request.py:214\u001b[0m, in \u001b[0;36murlopen\u001b[1;34m(url, data, timeout, cafile, capath, cadefault, context)\u001b[0m\n\u001b[0;32m    212\u001b[0m \u001b[38;5;28;01melse\u001b[39;00m:\n\u001b[0;32m    213\u001b[0m     opener \u001b[38;5;241m=\u001b[39m _opener\n\u001b[1;32m--> 214\u001b[0m \u001b[38;5;28;01mreturn\u001b[39;00m \u001b[43mopener\u001b[49m\u001b[38;5;241;43m.\u001b[39;49m\u001b[43mopen\u001b[49m\u001b[43m(\u001b[49m\u001b[43murl\u001b[49m\u001b[43m,\u001b[49m\u001b[43m \u001b[49m\u001b[43mdata\u001b[49m\u001b[43m,\u001b[49m\u001b[43m \u001b[49m\u001b[43mtimeout\u001b[49m\u001b[43m)\u001b[49m\n",
      "File \u001b[1;32m~\\anacondatrue\\lib\\urllib\\request.py:523\u001b[0m, in \u001b[0;36mOpenerDirector.open\u001b[1;34m(self, fullurl, data, timeout)\u001b[0m\n\u001b[0;32m    521\u001b[0m \u001b[38;5;28;01mfor\u001b[39;00m processor \u001b[38;5;129;01min\u001b[39;00m \u001b[38;5;28mself\u001b[39m\u001b[38;5;241m.\u001b[39mprocess_response\u001b[38;5;241m.\u001b[39mget(protocol, []):\n\u001b[0;32m    522\u001b[0m     meth \u001b[38;5;241m=\u001b[39m \u001b[38;5;28mgetattr\u001b[39m(processor, meth_name)\n\u001b[1;32m--> 523\u001b[0m     response \u001b[38;5;241m=\u001b[39m \u001b[43mmeth\u001b[49m\u001b[43m(\u001b[49m\u001b[43mreq\u001b[49m\u001b[43m,\u001b[49m\u001b[43m \u001b[49m\u001b[43mresponse\u001b[49m\u001b[43m)\u001b[49m\n\u001b[0;32m    525\u001b[0m \u001b[38;5;28;01mreturn\u001b[39;00m response\n",
      "File \u001b[1;32m~\\anacondatrue\\lib\\urllib\\request.py:632\u001b[0m, in \u001b[0;36mHTTPErrorProcessor.http_response\u001b[1;34m(self, request, response)\u001b[0m\n\u001b[0;32m    629\u001b[0m \u001b[38;5;66;03m# According to RFC 2616, \"2xx\" code indicates that the client's\u001b[39;00m\n\u001b[0;32m    630\u001b[0m \u001b[38;5;66;03m# request was successfully received, understood, and accepted.\u001b[39;00m\n\u001b[0;32m    631\u001b[0m \u001b[38;5;28;01mif\u001b[39;00m \u001b[38;5;129;01mnot\u001b[39;00m (\u001b[38;5;241m200\u001b[39m \u001b[38;5;241m<\u001b[39m\u001b[38;5;241m=\u001b[39m code \u001b[38;5;241m<\u001b[39m \u001b[38;5;241m300\u001b[39m):\n\u001b[1;32m--> 632\u001b[0m     response \u001b[38;5;241m=\u001b[39m \u001b[38;5;28;43mself\u001b[39;49m\u001b[38;5;241;43m.\u001b[39;49m\u001b[43mparent\u001b[49m\u001b[38;5;241;43m.\u001b[39;49m\u001b[43merror\u001b[49m\u001b[43m(\u001b[49m\n\u001b[0;32m    633\u001b[0m \u001b[43m        \u001b[49m\u001b[38;5;124;43m'\u001b[39;49m\u001b[38;5;124;43mhttp\u001b[39;49m\u001b[38;5;124;43m'\u001b[39;49m\u001b[43m,\u001b[49m\u001b[43m \u001b[49m\u001b[43mrequest\u001b[49m\u001b[43m,\u001b[49m\u001b[43m \u001b[49m\u001b[43mresponse\u001b[49m\u001b[43m,\u001b[49m\u001b[43m \u001b[49m\u001b[43mcode\u001b[49m\u001b[43m,\u001b[49m\u001b[43m \u001b[49m\u001b[43mmsg\u001b[49m\u001b[43m,\u001b[49m\u001b[43m \u001b[49m\u001b[43mhdrs\u001b[49m\u001b[43m)\u001b[49m\n\u001b[0;32m    635\u001b[0m \u001b[38;5;28;01mreturn\u001b[39;00m response\n",
      "File \u001b[1;32m~\\anacondatrue\\lib\\urllib\\request.py:561\u001b[0m, in \u001b[0;36mOpenerDirector.error\u001b[1;34m(self, proto, *args)\u001b[0m\n\u001b[0;32m    559\u001b[0m \u001b[38;5;28;01mif\u001b[39;00m http_err:\n\u001b[0;32m    560\u001b[0m     args \u001b[38;5;241m=\u001b[39m (\u001b[38;5;28mdict\u001b[39m, \u001b[38;5;124m'\u001b[39m\u001b[38;5;124mdefault\u001b[39m\u001b[38;5;124m'\u001b[39m, \u001b[38;5;124m'\u001b[39m\u001b[38;5;124mhttp_error_default\u001b[39m\u001b[38;5;124m'\u001b[39m) \u001b[38;5;241m+\u001b[39m orig_args\n\u001b[1;32m--> 561\u001b[0m     \u001b[38;5;28;01mreturn\u001b[39;00m \u001b[38;5;28;43mself\u001b[39;49m\u001b[38;5;241;43m.\u001b[39;49m\u001b[43m_call_chain\u001b[49m\u001b[43m(\u001b[49m\u001b[38;5;241;43m*\u001b[39;49m\u001b[43margs\u001b[49m\u001b[43m)\u001b[49m\n",
      "File \u001b[1;32m~\\anacondatrue\\lib\\urllib\\request.py:494\u001b[0m, in \u001b[0;36mOpenerDirector._call_chain\u001b[1;34m(self, chain, kind, meth_name, *args)\u001b[0m\n\u001b[0;32m    492\u001b[0m \u001b[38;5;28;01mfor\u001b[39;00m handler \u001b[38;5;129;01min\u001b[39;00m handlers:\n\u001b[0;32m    493\u001b[0m     func \u001b[38;5;241m=\u001b[39m \u001b[38;5;28mgetattr\u001b[39m(handler, meth_name)\n\u001b[1;32m--> 494\u001b[0m     result \u001b[38;5;241m=\u001b[39m \u001b[43mfunc\u001b[49m\u001b[43m(\u001b[49m\u001b[38;5;241;43m*\u001b[39;49m\u001b[43margs\u001b[49m\u001b[43m)\u001b[49m\n\u001b[0;32m    495\u001b[0m     \u001b[38;5;28;01mif\u001b[39;00m result \u001b[38;5;129;01mis\u001b[39;00m \u001b[38;5;129;01mnot\u001b[39;00m \u001b[38;5;28;01mNone\u001b[39;00m:\n\u001b[0;32m    496\u001b[0m         \u001b[38;5;28;01mreturn\u001b[39;00m result\n",
      "File \u001b[1;32m~\\anacondatrue\\lib\\urllib\\request.py:641\u001b[0m, in \u001b[0;36mHTTPDefaultErrorHandler.http_error_default\u001b[1;34m(self, req, fp, code, msg, hdrs)\u001b[0m\n\u001b[0;32m    640\u001b[0m \u001b[38;5;28;01mdef\u001b[39;00m \u001b[38;5;21mhttp_error_default\u001b[39m(\u001b[38;5;28mself\u001b[39m, req, fp, code, msg, hdrs):\n\u001b[1;32m--> 641\u001b[0m     \u001b[38;5;28;01mraise\u001b[39;00m HTTPError(req\u001b[38;5;241m.\u001b[39mfull_url, code, msg, hdrs, fp)\n",
      "\u001b[1;31mHTTPError\u001b[0m: HTTP Error 404: "
     ]
    }
   ],
   "source": [
    "salary = pd.read_csv('https://courses.washington.edu/b517/Datasets/SalaryData.txt', \n",
    "                     delim_whitespace=True)\n",
    "salary.head()   # first 5 rows"
   ]
  },
  {
   "cell_type": "markdown",
   "id": "e509a19c",
   "metadata": {
    "slideshow": {
     "slide_type": "slide"
    }
   },
   "source": [
    "## Other file types for tabular data (continue)\n",
    "\n",
    "Excel file example: Bitcoin data in `xlsx`\n",
    "<br><center><img src=\"figs/bitcoin_excel.png\" width=\"600\"></center>\n",
    "* Load into `pd.DataFrame` using `pd.read_excel()`:"
   ]
  },
  {
   "cell_type": "code",
   "execution_count": 3,
   "id": "f0310bba",
   "metadata": {
    "scrolled": false
   },
   "outputs": [
    {
     "data": {
      "text/html": [
       "<div>\n",
       "<style scoped>\n",
       "    .dataframe tbody tr th:only-of-type {\n",
       "        vertical-align: middle;\n",
       "    }\n",
       "\n",
       "    .dataframe tbody tr th {\n",
       "        vertical-align: top;\n",
       "    }\n",
       "\n",
       "    .dataframe thead th {\n",
       "        text-align: right;\n",
       "    }\n",
       "</style>\n",
       "<table border=\"1\" class=\"dataframe\">\n",
       "  <thead>\n",
       "    <tr style=\"text-align: right;\">\n",
       "      <th></th>\n",
       "      <th>Date</th>\n",
       "      <th>Open</th>\n",
       "      <th>High</th>\n",
       "      <th>Low</th>\n",
       "      <th>Close</th>\n",
       "      <th>Adj Close</th>\n",
       "      <th>Volume</th>\n",
       "    </tr>\n",
       "  </thead>\n",
       "  <tbody>\n",
       "    <tr>\n",
       "      <th>0</th>\n",
       "      <td>2021-01-12</td>\n",
       "      <td>35516.359375</td>\n",
       "      <td>36568.527344</td>\n",
       "      <td>32697.976563</td>\n",
       "      <td>33922.960938</td>\n",
       "      <td>33922.960938</td>\n",
       "      <td>7.477328e+10</td>\n",
       "    </tr>\n",
       "    <tr>\n",
       "      <th>1</th>\n",
       "      <td>2021-01-13</td>\n",
       "      <td>33915.121094</td>\n",
       "      <td>37599.960938</td>\n",
       "      <td>32584.667969</td>\n",
       "      <td>37316.359375</td>\n",
       "      <td>37316.359375</td>\n",
       "      <td>6.936432e+10</td>\n",
       "    </tr>\n",
       "    <tr>\n",
       "      <th>2</th>\n",
       "      <td>2021-01-14</td>\n",
       "      <td>37325.109375</td>\n",
       "      <td>39966.406250</td>\n",
       "      <td>36868.562500</td>\n",
       "      <td>39187.328125</td>\n",
       "      <td>39187.328125</td>\n",
       "      <td>6.361599e+10</td>\n",
       "    </tr>\n",
       "    <tr>\n",
       "      <th>3</th>\n",
       "      <td>2021-01-15</td>\n",
       "      <td>39156.707031</td>\n",
       "      <td>39577.710938</td>\n",
       "      <td>34659.589844</td>\n",
       "      <td>36825.367188</td>\n",
       "      <td>36825.367188</td>\n",
       "      <td>6.776076e+10</td>\n",
       "    </tr>\n",
       "    <tr>\n",
       "      <th>4</th>\n",
       "      <td>2021-01-16</td>\n",
       "      <td>36821.648438</td>\n",
       "      <td>37864.367188</td>\n",
       "      <td>35633.554688</td>\n",
       "      <td>36178.140625</td>\n",
       "      <td>36178.140625</td>\n",
       "      <td>5.770619e+10</td>\n",
       "    </tr>\n",
       "    <tr>\n",
       "      <th>...</th>\n",
       "      <td>...</td>\n",
       "      <td>...</td>\n",
       "      <td>...</td>\n",
       "      <td>...</td>\n",
       "      <td>...</td>\n",
       "      <td>...</td>\n",
       "      <td>...</td>\n",
       "    </tr>\n",
       "    <tr>\n",
       "      <th>361</th>\n",
       "      <td>2022-01-08</td>\n",
       "      <td>41561.464844</td>\n",
       "      <td>42228.941406</td>\n",
       "      <td>40672.277344</td>\n",
       "      <td>41733.941406</td>\n",
       "      <td>41733.941406</td>\n",
       "      <td>2.806636e+10</td>\n",
       "    </tr>\n",
       "    <tr>\n",
       "      <th>362</th>\n",
       "      <td>2022-01-09</td>\n",
       "      <td>41734.726563</td>\n",
       "      <td>42663.949219</td>\n",
       "      <td>41338.160156</td>\n",
       "      <td>41911.601563</td>\n",
       "      <td>41911.601563</td>\n",
       "      <td>2.129438e+10</td>\n",
       "    </tr>\n",
       "    <tr>\n",
       "      <th>363</th>\n",
       "      <td>2022-01-10</td>\n",
       "      <td>41910.230469</td>\n",
       "      <td>42199.484375</td>\n",
       "      <td>39796.570313</td>\n",
       "      <td>41821.261719</td>\n",
       "      <td>41821.261719</td>\n",
       "      <td>3.210423e+10</td>\n",
       "    </tr>\n",
       "    <tr>\n",
       "      <th>364</th>\n",
       "      <td>2022-01-11</td>\n",
       "      <td>NaN</td>\n",
       "      <td>NaN</td>\n",
       "      <td>NaN</td>\n",
       "      <td>NaN</td>\n",
       "      <td>NaN</td>\n",
       "      <td>NaN</td>\n",
       "    </tr>\n",
       "    <tr>\n",
       "      <th>365</th>\n",
       "      <td>2022-01-12</td>\n",
       "      <td>42783.976563</td>\n",
       "      <td>42817.832031</td>\n",
       "      <td>42783.976563</td>\n",
       "      <td>42817.832031</td>\n",
       "      <td>42817.832031</td>\n",
       "      <td>2.630060e+10</td>\n",
       "    </tr>\n",
       "  </tbody>\n",
       "</table>\n",
       "<p>366 rows × 7 columns</p>\n",
       "</div>"
      ],
      "text/plain": [
       "          Date          Open          High           Low         Close  \\\n",
       "0   2021-01-12  35516.359375  36568.527344  32697.976563  33922.960938   \n",
       "1   2021-01-13  33915.121094  37599.960938  32584.667969  37316.359375   \n",
       "2   2021-01-14  37325.109375  39966.406250  36868.562500  39187.328125   \n",
       "3   2021-01-15  39156.707031  39577.710938  34659.589844  36825.367188   \n",
       "4   2021-01-16  36821.648438  37864.367188  35633.554688  36178.140625   \n",
       "..         ...           ...           ...           ...           ...   \n",
       "361 2022-01-08  41561.464844  42228.941406  40672.277344  41733.941406   \n",
       "362 2022-01-09  41734.726563  42663.949219  41338.160156  41911.601563   \n",
       "363 2022-01-10  41910.230469  42199.484375  39796.570313  41821.261719   \n",
       "364 2022-01-11           NaN           NaN           NaN           NaN   \n",
       "365 2022-01-12  42783.976563  42817.832031  42783.976563  42817.832031   \n",
       "\n",
       "        Adj Close        Volume  \n",
       "0    33922.960938  7.477328e+10  \n",
       "1    37316.359375  6.936432e+10  \n",
       "2    39187.328125  6.361599e+10  \n",
       "3    36825.367188  6.776076e+10  \n",
       "4    36178.140625  5.770619e+10  \n",
       "..            ...           ...  \n",
       "361  41733.941406  2.806636e+10  \n",
       "362  41911.601563  2.129438e+10  \n",
       "363  41821.261719  3.210423e+10  \n",
       "364           NaN           NaN  \n",
       "365  42817.832031  2.630060e+10  \n",
       "\n",
       "[366 rows x 7 columns]"
      ]
     },
     "execution_count": 3,
     "metadata": {},
     "output_type": "execute_result"
    }
   ],
   "source": [
    "# Note you may need to install openpyxl to run the following code\n",
    "bitcoin = pd.read_excel(open('data/BTC-USD.xlsx', 'rb'))\n",
    "bitcoin"
   ]
  },
  {
   "cell_type": "markdown",
   "id": "7b32ff9f",
   "metadata": {
    "slideshow": {
     "slide_type": "slide"
    }
   },
   "source": [
    "# Pandas recap"
   ]
  },
  {
   "cell_type": "markdown",
   "id": "ef9c63c7",
   "metadata": {
    "slideshow": {
     "slide_type": "slide"
    }
   },
   "source": [
    "## Pandas recap\n",
    "\n",
    "* Main data structures\n",
    "* Selecting required data"
   ]
  },
  {
   "cell_type": "markdown",
   "id": "770a0402",
   "metadata": {
    "slideshow": {
     "slide_type": "slide"
    }
   },
   "source": [
    "## Pandas data structures\n",
    "\n",
    "* `DataFrame`: 2D data structure for tabular data\n",
    "    * Similar to `R` `data.frame`\n",
    "    * _Heterogeneous_: Different columns can have different types\n",
    "* `Series`: 1D homogeneous data, can be considered as the \"columns\"\n",
    "* `Index`: Sequence of row labels\n",
    "<center><img src=\"figs/df_annotate.png\" width=\"600\"></center>\n",
    "\n",
    "`DataFrame` can be considered as a dictionary of `Series` that all share the same index. `Series` is similar to 1D `np.ndarray` but with row labels (Index)."
   ]
  },
  {
   "cell_type": "markdown",
   "id": "8895b8f9",
   "metadata": {
    "slideshow": {
     "slide_type": "slide"
    }
   },
   "source": [
    "## Pandas `DataFrame` / `Series` vs NumPy `ndarray`\n",
    "\n",
    "* Similarities:\n",
    "    * Syntax is similar\n",
    "    * Fast vectorised operations\n",
    "* Differences: \n",
    "    * Pandas is for heterogeneous data\n",
    "    * Pandas for 1 and 2 dimensional data\n",
    "    * Pandas data are labeled by row labels"
   ]
  },
  {
   "cell_type": "markdown",
   "id": "786c182d",
   "metadata": {
    "slideshow": {
     "slide_type": "slide"
    }
   },
   "source": [
    "## Pandas data structures: demo\n",
    "\n",
    "We can use `index` to get the Index. For example:"
   ]
  },
  {
   "cell_type": "code",
   "execution_count": 7,
   "id": "1a60fc64",
   "metadata": {},
   "outputs": [
    {
     "data": {
      "text/html": [
       "<div>\n",
       "<style scoped>\n",
       "    .dataframe tbody tr th:only-of-type {\n",
       "        vertical-align: middle;\n",
       "    }\n",
       "\n",
       "    .dataframe tbody tr th {\n",
       "        vertical-align: top;\n",
       "    }\n",
       "\n",
       "    .dataframe thead th {\n",
       "        text-align: right;\n",
       "    }\n",
       "</style>\n",
       "<table border=\"1\" class=\"dataframe\">\n",
       "  <thead>\n",
       "    <tr style=\"text-align: right;\">\n",
       "      <th></th>\n",
       "      <th>name</th>\n",
       "      <th>club</th>\n",
       "      <th>position</th>\n",
       "      <th>value</th>\n",
       "    </tr>\n",
       "  </thead>\n",
       "  <tbody>\n",
       "    <tr>\n",
       "      <th>0</th>\n",
       "      <td>Yaser Asprilla</td>\n",
       "      <td>Watford</td>\n",
       "      <td>Attacking Midfield</td>\n",
       "      <td>0.90</td>\n",
       "    </tr>\n",
       "    <tr>\n",
       "      <th>1</th>\n",
       "      <td>Moisés Caicedo</td>\n",
       "      <td>Brighton &amp; Hove Albion</td>\n",
       "      <td>Central Midfield</td>\n",
       "      <td>4.05</td>\n",
       "    </tr>\n",
       "    <tr>\n",
       "      <th>2</th>\n",
       "      <td>Edo Kayembe</td>\n",
       "      <td>Watford</td>\n",
       "      <td>Defensive Midfield</td>\n",
       "      <td>1.17</td>\n",
       "    </tr>\n",
       "    <tr>\n",
       "      <th>3</th>\n",
       "      <td>Luka Ilic</td>\n",
       "      <td>Manchester City</td>\n",
       "      <td>Attacking Midfield</td>\n",
       "      <td>0.72</td>\n",
       "    </tr>\n",
       "    <tr>\n",
       "      <th>4</th>\n",
       "      <td>Hayao Kawabe</td>\n",
       "      <td>Wolverhampton Wanderers</td>\n",
       "      <td>Central Midfield</td>\n",
       "      <td>1.17</td>\n",
       "    </tr>\n",
       "  </tbody>\n",
       "</table>\n",
       "</div>"
      ],
      "text/plain": [
       "             name                     club            position  value\n",
       "0  Yaser Asprilla                  Watford  Attacking Midfield   0.90\n",
       "1  Moisés Caicedo   Brighton & Hove Albion    Central Midfield   4.05\n",
       "2     Edo Kayembe                  Watford  Defensive Midfield   1.17\n",
       "3       Luka Ilic          Manchester City  Attacking Midfield   0.72\n",
       "4    Hayao Kawabe  Wolverhampton Wanderers    Central Midfield   1.17"
      ]
     },
     "execution_count": 7,
     "metadata": {},
     "output_type": "execute_result"
    }
   ],
   "source": [
    "pl_players.head()"
   ]
  },
  {
   "cell_type": "code",
   "execution_count": 8,
   "id": "091a1819",
   "metadata": {
    "scrolled": false
   },
   "outputs": [
    {
     "data": {
      "text/plain": [
       "RangeIndex(start=0, stop=525, step=1)"
      ]
     },
     "execution_count": 8,
     "metadata": {},
     "output_type": "execute_result"
    }
   ],
   "source": [
    "pl_players.index"
   ]
  },
  {
   "cell_type": "code",
   "execution_count": 9,
   "id": "28d84fc5",
   "metadata": {
    "scrolled": true
   },
   "outputs": [
    {
     "data": {
      "text/plain": [
       "pandas.core.indexes.range.RangeIndex"
      ]
     },
     "execution_count": 9,
     "metadata": {},
     "output_type": "execute_result"
    }
   ],
   "source": [
    "type(pl_players.index)"
   ]
  },
  {
   "cell_type": "markdown",
   "id": "4a01dc2f",
   "metadata": {
    "slideshow": {
     "slide_type": "slide"
    }
   },
   "source": [
    "## Pandas data structures: demo (continue)\n",
    "\n",
    "We can use `[]` with the column label to get a \"column\" and we can see that it is a `Series` with the same `Index`. For example:"
   ]
  },
  {
   "cell_type": "code",
   "execution_count": 10,
   "id": "2d628a8e",
   "metadata": {
    "scrolled": true
   },
   "outputs": [
    {
     "data": {
      "text/plain": [
       "0       0.90\n",
       "1       4.05\n",
       "2       1.17\n",
       "3       0.72\n",
       "4       1.17\n",
       "       ...  \n",
       "520    15.30\n",
       "521     6.30\n",
       "522     0.72\n",
       "523     5.40\n",
       "524     3.60\n",
       "Name: value, Length: 525, dtype: float64"
      ]
     },
     "execution_count": 10,
     "metadata": {},
     "output_type": "execute_result"
    }
   ],
   "source": [
    "pl_players['value']"
   ]
  },
  {
   "cell_type": "code",
   "execution_count": 11,
   "id": "dbe30ec9",
   "metadata": {},
   "outputs": [
    {
     "data": {
      "text/plain": [
       "pandas.core.series.Series"
      ]
     },
     "execution_count": 11,
     "metadata": {},
     "output_type": "execute_result"
    }
   ],
   "source": [
    "type(pl_players['value'])"
   ]
  },
  {
   "cell_type": "code",
   "execution_count": 12,
   "id": "73e4a72d",
   "metadata": {
    "scrolled": true
   },
   "outputs": [
    {
     "data": {
      "text/plain": [
       "RangeIndex(start=0, stop=525, step=1)"
      ]
     },
     "execution_count": 12,
     "metadata": {},
     "output_type": "execute_result"
    }
   ],
   "source": [
    "pl_players['value'].index"
   ]
  },
  {
   "cell_type": "markdown",
   "id": "196da052",
   "metadata": {
    "slideshow": {
     "slide_type": "slide"
    }
   },
   "source": [
    "## Pandas: index\n",
    "\n",
    "The row labels that constitute an index do not have to be unique nor numerical. For example:"
   ]
  },
  {
   "cell_type": "code",
   "execution_count": 9,
   "id": "c9c40af7",
   "metadata": {
    "scrolled": false
   },
   "outputs": [
    {
     "data": {
      "text/html": [
       "<div>\n",
       "<style scoped>\n",
       "    .dataframe tbody tr th:only-of-type {\n",
       "        vertical-align: middle;\n",
       "    }\n",
       "\n",
       "    .dataframe tbody tr th {\n",
       "        vertical-align: top;\n",
       "    }\n",
       "\n",
       "    .dataframe thead th {\n",
       "        text-align: right;\n",
       "    }\n",
       "</style>\n",
       "<table border=\"1\" class=\"dataframe\">\n",
       "  <thead>\n",
       "    <tr style=\"text-align: right;\">\n",
       "      <th></th>\n",
       "      <th>name</th>\n",
       "      <th>position</th>\n",
       "      <th>value</th>\n",
       "    </tr>\n",
       "    <tr>\n",
       "      <th>club</th>\n",
       "      <th></th>\n",
       "      <th></th>\n",
       "      <th></th>\n",
       "    </tr>\n",
       "  </thead>\n",
       "  <tbody>\n",
       "    <tr>\n",
       "      <th>Watford</th>\n",
       "      <td>Yaser Asprilla</td>\n",
       "      <td>Attacking Midfield</td>\n",
       "      <td>0.90</td>\n",
       "    </tr>\n",
       "    <tr>\n",
       "      <th>Brighton &amp; Hove Albion</th>\n",
       "      <td>Moisés Caicedo</td>\n",
       "      <td>Central Midfield</td>\n",
       "      <td>4.05</td>\n",
       "    </tr>\n",
       "    <tr>\n",
       "      <th>Watford</th>\n",
       "      <td>Edo Kayembe</td>\n",
       "      <td>Defensive Midfield</td>\n",
       "      <td>1.17</td>\n",
       "    </tr>\n",
       "    <tr>\n",
       "      <th>Manchester City</th>\n",
       "      <td>Luka Ilic</td>\n",
       "      <td>Attacking Midfield</td>\n",
       "      <td>0.72</td>\n",
       "    </tr>\n",
       "    <tr>\n",
       "      <th>Wolverhampton Wanderers</th>\n",
       "      <td>Hayao Kawabe</td>\n",
       "      <td>Central Midfield</td>\n",
       "      <td>1.17</td>\n",
       "    </tr>\n",
       "  </tbody>\n",
       "</table>\n",
       "</div>"
      ],
      "text/plain": [
       "                                   name            position  value\n",
       "club                                                              \n",
       "Watford                  Yaser Asprilla  Attacking Midfield   0.90\n",
       "Brighton & Hove Albion   Moisés Caicedo    Central Midfield   4.05\n",
       "Watford                     Edo Kayembe  Defensive Midfield   1.17\n",
       "Manchester City               Luka Ilic  Attacking Midfield   0.72\n",
       "Wolverhampton Wanderers    Hayao Kawabe    Central Midfield   1.17"
      ]
     },
     "execution_count": 9,
     "metadata": {},
     "output_type": "execute_result"
    }
   ],
   "source": [
    "pl_players_idx_by_club = pl_players.set_index('club') # use the column \"club\" as index\n",
    "pl_players_idx_by_club.head() "
   ]
  },
  {
   "cell_type": "markdown",
   "id": "147486c0",
   "metadata": {},
   "source": [
    "On the other hand, column labels have to be unique."
   ]
  },
  {
   "cell_type": "markdown",
   "id": "652b7821",
   "metadata": {
    "slideshow": {
     "slide_type": "slide"
    }
   },
   "source": [
    "## Pandas: selecting columns\n",
    "\n",
    "We can select multiple columns by providing a list of column labels:"
   ]
  },
  {
   "cell_type": "code",
   "execution_count": 14,
   "id": "8fe0df02",
   "metadata": {
    "scrolled": true
   },
   "outputs": [
    {
     "data": {
      "text/html": [
       "<div>\n",
       "<style scoped>\n",
       "    .dataframe tbody tr th:only-of-type {\n",
       "        vertical-align: middle;\n",
       "    }\n",
       "\n",
       "    .dataframe tbody tr th {\n",
       "        vertical-align: top;\n",
       "    }\n",
       "\n",
       "    .dataframe thead th {\n",
       "        text-align: right;\n",
       "    }\n",
       "</style>\n",
       "<table border=\"1\" class=\"dataframe\">\n",
       "  <thead>\n",
       "    <tr style=\"text-align: right;\">\n",
       "      <th></th>\n",
       "      <th>name</th>\n",
       "      <th>value</th>\n",
       "    </tr>\n",
       "  </thead>\n",
       "  <tbody>\n",
       "    <tr>\n",
       "      <th>0</th>\n",
       "      <td>Yaser Asprilla</td>\n",
       "      <td>0.90</td>\n",
       "    </tr>\n",
       "    <tr>\n",
       "      <th>1</th>\n",
       "      <td>Moisés Caicedo</td>\n",
       "      <td>4.05</td>\n",
       "    </tr>\n",
       "    <tr>\n",
       "      <th>2</th>\n",
       "      <td>Edo Kayembe</td>\n",
       "      <td>1.17</td>\n",
       "    </tr>\n",
       "    <tr>\n",
       "      <th>3</th>\n",
       "      <td>Luka Ilic</td>\n",
       "      <td>0.72</td>\n",
       "    </tr>\n",
       "    <tr>\n",
       "      <th>4</th>\n",
       "      <td>Hayao Kawabe</td>\n",
       "      <td>1.17</td>\n",
       "    </tr>\n",
       "  </tbody>\n",
       "</table>\n",
       "</div>"
      ],
      "text/plain": [
       "             name  value\n",
       "0  Yaser Asprilla   0.90\n",
       "1  Moisés Caicedo   4.05\n",
       "2     Edo Kayembe   1.17\n",
       "3       Luka Ilic   0.72\n",
       "4    Hayao Kawabe   1.17"
      ]
     },
     "execution_count": 14,
     "metadata": {},
     "output_type": "execute_result"
    }
   ],
   "source": [
    "pl_players[['name', 'value']].head()"
   ]
  },
  {
   "cell_type": "markdown",
   "id": "594b5f92",
   "metadata": {},
   "source": [
    "Note what we get is a `DataFrame`."
   ]
  },
  {
   "cell_type": "markdown",
   "id": "ea6beb7d",
   "metadata": {
    "slideshow": {
     "slide_type": "slide"
    }
   },
   "source": [
    "## Pandas: selecting rows\n",
    "\n",
    "We can slicing like syntax with row numbers. For example:"
   ]
  },
  {
   "cell_type": "code",
   "execution_count": 4,
   "id": "91ef07ce",
   "metadata": {
    "scrolled": false
   },
   "outputs": [
    {
     "data": {
      "text/html": [
       "<div>\n",
       "<style scoped>\n",
       "    .dataframe tbody tr th:only-of-type {\n",
       "        vertical-align: middle;\n",
       "    }\n",
       "\n",
       "    .dataframe tbody tr th {\n",
       "        vertical-align: top;\n",
       "    }\n",
       "\n",
       "    .dataframe thead th {\n",
       "        text-align: right;\n",
       "    }\n",
       "</style>\n",
       "<table border=\"1\" class=\"dataframe\">\n",
       "  <thead>\n",
       "    <tr style=\"text-align: right;\">\n",
       "      <th></th>\n",
       "      <th>name</th>\n",
       "      <th>club</th>\n",
       "      <th>position</th>\n",
       "      <th>value</th>\n",
       "    </tr>\n",
       "  </thead>\n",
       "  <tbody>\n",
       "    <tr>\n",
       "      <th>0</th>\n",
       "      <td>Yaser Asprilla</td>\n",
       "      <td>Watford</td>\n",
       "      <td>Attacking Midfield</td>\n",
       "      <td>0.90</td>\n",
       "    </tr>\n",
       "    <tr>\n",
       "      <th>1</th>\n",
       "      <td>Moisés Caicedo</td>\n",
       "      <td>Brighton &amp; Hove Albion</td>\n",
       "      <td>Central Midfield</td>\n",
       "      <td>4.05</td>\n",
       "    </tr>\n",
       "  </tbody>\n",
       "</table>\n",
       "</div>"
      ],
      "text/plain": [
       "             name                    club            position  value\n",
       "0  Yaser Asprilla                 Watford  Attacking Midfield   0.90\n",
       "1  Moisés Caicedo  Brighton & Hove Albion    Central Midfield   4.05"
      ]
     },
     "execution_count": 4,
     "metadata": {},
     "output_type": "execute_result"
    }
   ],
   "source": [
    "pl_players[0:2] # first 2 rows"
   ]
  },
  {
   "cell_type": "markdown",
   "id": "3334cdf3",
   "metadata": {},
   "source": [
    "Note none of the following work:"
   ]
  },
  {
   "cell_type": "code",
   "execution_count": 7,
   "id": "0afc20bb",
   "metadata": {},
   "outputs": [
    {
     "data": {
      "text/plain": [
       "0    Yaser Asprilla\n",
       "1    Moisés Caicedo\n",
       "2       Edo Kayembe\n",
       "3         Luka Ilic\n",
       "4      Hayao Kawabe\n",
       "Name: name, dtype: object"
      ]
     },
     "execution_count": 7,
     "metadata": {},
     "output_type": "execute_result"
    }
   ],
   "source": [
    "pl_players[\"name\"].head()"
   ]
  },
  {
   "cell_type": "code",
   "execution_count": 25,
   "id": "87fb428a",
   "metadata": {},
   "outputs": [
    {
     "ename": "KeyError",
     "evalue": "\"None of [Int64Index([0, 1], dtype='int64')] are in the [columns]\"",
     "output_type": "error",
     "traceback": [
      "\u001b[0;31m---------------------------------------------------------------------------\u001b[0m",
      "\u001b[0;31mKeyError\u001b[0m                                  Traceback (most recent call last)",
      "\u001b[0;32m/var/folders/y4/tkxp25f55d125kkq5rfnkkn00000gn/T/ipykernel_37759/3202780715.py\u001b[0m in \u001b[0;36m<module>\u001b[0;34m\u001b[0m\n\u001b[1;32m      1\u001b[0m \u001b[0;31m#pl_players[0]\u001b[0m\u001b[0;34m\u001b[0m\u001b[0;34m\u001b[0m\u001b[0m\n\u001b[0;32m----> 2\u001b[0;31m \u001b[0mpl_players\u001b[0m\u001b[0;34m[\u001b[0m\u001b[0;34m[\u001b[0m\u001b[0;36m0\u001b[0m\u001b[0;34m,\u001b[0m\u001b[0;36m1\u001b[0m\u001b[0;34m]\u001b[0m\u001b[0;34m]\u001b[0m\u001b[0;34m\u001b[0m\u001b[0;34m\u001b[0m\u001b[0m\n\u001b[0m",
      "\u001b[0;32m~/opt/anaconda3/lib/python3.9/site-packages/pandas/core/frame.py\u001b[0m in \u001b[0;36m__getitem__\u001b[0;34m(self, key)\u001b[0m\n\u001b[1;32m   3509\u001b[0m             \u001b[0;32mif\u001b[0m \u001b[0mis_iterator\u001b[0m\u001b[0;34m(\u001b[0m\u001b[0mkey\u001b[0m\u001b[0;34m)\u001b[0m\u001b[0;34m:\u001b[0m\u001b[0;34m\u001b[0m\u001b[0;34m\u001b[0m\u001b[0m\n\u001b[1;32m   3510\u001b[0m                 \u001b[0mkey\u001b[0m \u001b[0;34m=\u001b[0m \u001b[0mlist\u001b[0m\u001b[0;34m(\u001b[0m\u001b[0mkey\u001b[0m\u001b[0;34m)\u001b[0m\u001b[0;34m\u001b[0m\u001b[0;34m\u001b[0m\u001b[0m\n\u001b[0;32m-> 3511\u001b[0;31m             \u001b[0mindexer\u001b[0m \u001b[0;34m=\u001b[0m \u001b[0mself\u001b[0m\u001b[0;34m.\u001b[0m\u001b[0mcolumns\u001b[0m\u001b[0;34m.\u001b[0m\u001b[0m_get_indexer_strict\u001b[0m\u001b[0;34m(\u001b[0m\u001b[0mkey\u001b[0m\u001b[0;34m,\u001b[0m \u001b[0;34m\"columns\"\u001b[0m\u001b[0;34m)\u001b[0m\u001b[0;34m[\u001b[0m\u001b[0;36m1\u001b[0m\u001b[0;34m]\u001b[0m\u001b[0;34m\u001b[0m\u001b[0;34m\u001b[0m\u001b[0m\n\u001b[0m\u001b[1;32m   3512\u001b[0m \u001b[0;34m\u001b[0m\u001b[0m\n\u001b[1;32m   3513\u001b[0m         \u001b[0;31m# take() does not accept boolean indexers\u001b[0m\u001b[0;34m\u001b[0m\u001b[0;34m\u001b[0m\u001b[0m\n",
      "\u001b[0;32m~/opt/anaconda3/lib/python3.9/site-packages/pandas/core/indexes/base.py\u001b[0m in \u001b[0;36m_get_indexer_strict\u001b[0;34m(self, key, axis_name)\u001b[0m\n\u001b[1;32m   5794\u001b[0m             \u001b[0mkeyarr\u001b[0m\u001b[0;34m,\u001b[0m \u001b[0mindexer\u001b[0m\u001b[0;34m,\u001b[0m \u001b[0mnew_indexer\u001b[0m \u001b[0;34m=\u001b[0m \u001b[0mself\u001b[0m\u001b[0;34m.\u001b[0m\u001b[0m_reindex_non_unique\u001b[0m\u001b[0;34m(\u001b[0m\u001b[0mkeyarr\u001b[0m\u001b[0;34m)\u001b[0m\u001b[0;34m\u001b[0m\u001b[0;34m\u001b[0m\u001b[0m\n\u001b[1;32m   5795\u001b[0m \u001b[0;34m\u001b[0m\u001b[0m\n\u001b[0;32m-> 5796\u001b[0;31m         \u001b[0mself\u001b[0m\u001b[0;34m.\u001b[0m\u001b[0m_raise_if_missing\u001b[0m\u001b[0;34m(\u001b[0m\u001b[0mkeyarr\u001b[0m\u001b[0;34m,\u001b[0m \u001b[0mindexer\u001b[0m\u001b[0;34m,\u001b[0m \u001b[0maxis_name\u001b[0m\u001b[0;34m)\u001b[0m\u001b[0;34m\u001b[0m\u001b[0;34m\u001b[0m\u001b[0m\n\u001b[0m\u001b[1;32m   5797\u001b[0m \u001b[0;34m\u001b[0m\u001b[0m\n\u001b[1;32m   5798\u001b[0m         \u001b[0mkeyarr\u001b[0m \u001b[0;34m=\u001b[0m \u001b[0mself\u001b[0m\u001b[0;34m.\u001b[0m\u001b[0mtake\u001b[0m\u001b[0;34m(\u001b[0m\u001b[0mindexer\u001b[0m\u001b[0;34m)\u001b[0m\u001b[0;34m\u001b[0m\u001b[0;34m\u001b[0m\u001b[0m\n",
      "\u001b[0;32m~/opt/anaconda3/lib/python3.9/site-packages/pandas/core/indexes/base.py\u001b[0m in \u001b[0;36m_raise_if_missing\u001b[0;34m(self, key, indexer, axis_name)\u001b[0m\n\u001b[1;32m   5854\u001b[0m                 \u001b[0;32mif\u001b[0m \u001b[0muse_interval_msg\u001b[0m\u001b[0;34m:\u001b[0m\u001b[0;34m\u001b[0m\u001b[0;34m\u001b[0m\u001b[0m\n\u001b[1;32m   5855\u001b[0m                     \u001b[0mkey\u001b[0m \u001b[0;34m=\u001b[0m \u001b[0mlist\u001b[0m\u001b[0;34m(\u001b[0m\u001b[0mkey\u001b[0m\u001b[0;34m)\u001b[0m\u001b[0;34m\u001b[0m\u001b[0;34m\u001b[0m\u001b[0m\n\u001b[0;32m-> 5856\u001b[0;31m                 \u001b[0;32mraise\u001b[0m \u001b[0mKeyError\u001b[0m\u001b[0;34m(\u001b[0m\u001b[0;34mf\"None of [{key}] are in the [{axis_name}]\"\u001b[0m\u001b[0;34m)\u001b[0m\u001b[0;34m\u001b[0m\u001b[0;34m\u001b[0m\u001b[0m\n\u001b[0m\u001b[1;32m   5857\u001b[0m \u001b[0;34m\u001b[0m\u001b[0m\n\u001b[1;32m   5858\u001b[0m             \u001b[0mnot_found\u001b[0m \u001b[0;34m=\u001b[0m \u001b[0mlist\u001b[0m\u001b[0;34m(\u001b[0m\u001b[0mensure_index\u001b[0m\u001b[0;34m(\u001b[0m\u001b[0mkey\u001b[0m\u001b[0;34m)\u001b[0m\u001b[0;34m[\u001b[0m\u001b[0mmissing_mask\u001b[0m\u001b[0;34m.\u001b[0m\u001b[0mnonzero\u001b[0m\u001b[0;34m(\u001b[0m\u001b[0;34m)\u001b[0m\u001b[0;34m[\u001b[0m\u001b[0;36m0\u001b[0m\u001b[0;34m]\u001b[0m\u001b[0;34m]\u001b[0m\u001b[0;34m.\u001b[0m\u001b[0munique\u001b[0m\u001b[0;34m(\u001b[0m\u001b[0;34m)\u001b[0m\u001b[0;34m)\u001b[0m\u001b[0;34m\u001b[0m\u001b[0;34m\u001b[0m\u001b[0m\n",
      "\u001b[0;31mKeyError\u001b[0m: \"None of [Int64Index([0, 1], dtype='int64')] are in the [columns]\""
     ]
    }
   ],
   "source": [
    "pl_players[0]\n",
    "pl_players[[0,1]]"
   ]
  },
  {
   "cell_type": "markdown",
   "id": "da4ead6f",
   "metadata": {},
   "source": [
    "As the syntax above is for column selection, and there are not columns called `0`, `1` in `pl_players`."
   ]
  },
  {
   "cell_type": "markdown",
   "id": "eafbaf5c",
   "metadata": {
    "slideshow": {
     "slide_type": "slide"
    }
   },
   "source": [
    "## Checkpoint 3.1\n",
    "\n",
    "Consider the following `pd.DataFrame`:"
   ]
  },
  {
   "cell_type": "code",
   "execution_count": 8,
   "id": "ba45bead",
   "metadata": {},
   "outputs": [
    {
     "data": {
      "text/html": [
       "<div>\n",
       "<style scoped>\n",
       "    .dataframe tbody tr th:only-of-type {\n",
       "        vertical-align: middle;\n",
       "    }\n",
       "\n",
       "    .dataframe tbody tr th {\n",
       "        vertical-align: top;\n",
       "    }\n",
       "\n",
       "    .dataframe thead th {\n",
       "        text-align: right;\n",
       "    }\n",
       "</style>\n",
       "<table border=\"1\" class=\"dataframe\">\n",
       "  <thead>\n",
       "    <tr style=\"text-align: right;\">\n",
       "      <th></th>\n",
       "      <th>1</th>\n",
       "      <th>0</th>\n",
       "      <th>0</th>\n",
       "    </tr>\n",
       "  </thead>\n",
       "  <tbody>\n",
       "    <tr>\n",
       "      <th>0</th>\n",
       "      <td>a</td>\n",
       "      <td>d</td>\n",
       "      <td>g</td>\n",
       "    </tr>\n",
       "    <tr>\n",
       "      <th>1</th>\n",
       "      <td>b</td>\n",
       "      <td>e</td>\n",
       "      <td>h</td>\n",
       "    </tr>\n",
       "    <tr>\n",
       "      <th>2</th>\n",
       "      <td>c</td>\n",
       "      <td>f</td>\n",
       "      <td>i</td>\n",
       "    </tr>\n",
       "  </tbody>\n",
       "</table>\n",
       "</div>"
      ],
      "text/plain": [
       "   1  0  0\n",
       "0  a  d  g\n",
       "1  b  e  h\n",
       "2  c  f  i"
      ]
     },
     "execution_count": 8,
     "metadata": {},
     "output_type": "execute_result"
    }
   ],
   "source": [
    "sample_df = pd.DataFrame({1: ['a', 'b', 'c'], 0: ['d', 'e', 'f'], '0': ['g', 'h', 'i']})\n",
    "sample_df"
   ]
  },
  {
   "cell_type": "markdown",
   "id": "bc252a79",
   "metadata": {},
   "source": [
    "And find out what you get from the following:"
   ]
  },
  {
   "cell_type": "code",
   "execution_count": 19,
   "id": "0b4256ae",
   "metadata": {
    "scrolled": true
   },
   "outputs": [
    {
     "data": {
      "text/plain": [
       "0    d\n",
       "1    e\n",
       "2    f\n",
       "Name: 0, dtype: object"
      ]
     },
     "execution_count": 19,
     "metadata": {},
     "output_type": "execute_result"
    }
   ],
   "source": [
    "sample_df[0]"
   ]
  },
  {
   "cell_type": "code",
   "execution_count": 21,
   "id": "62b3d505",
   "metadata": {
    "scrolled": true
   },
   "outputs": [
    {
     "data": {
      "text/html": [
       "<div>\n",
       "<style scoped>\n",
       "    .dataframe tbody tr th:only-of-type {\n",
       "        vertical-align: middle;\n",
       "    }\n",
       "\n",
       "    .dataframe tbody tr th {\n",
       "        vertical-align: top;\n",
       "    }\n",
       "\n",
       "    .dataframe thead th {\n",
       "        text-align: right;\n",
       "    }\n",
       "</style>\n",
       "<table border=\"1\" class=\"dataframe\">\n",
       "  <thead>\n",
       "    <tr style=\"text-align: right;\">\n",
       "      <th></th>\n",
       "      <th>0</th>\n",
       "    </tr>\n",
       "  </thead>\n",
       "  <tbody>\n",
       "    <tr>\n",
       "      <th>0</th>\n",
       "      <td>d</td>\n",
       "    </tr>\n",
       "    <tr>\n",
       "      <th>1</th>\n",
       "      <td>e</td>\n",
       "    </tr>\n",
       "    <tr>\n",
       "      <th>2</th>\n",
       "      <td>f</td>\n",
       "    </tr>\n",
       "  </tbody>\n",
       "</table>\n",
       "</div>"
      ],
      "text/plain": [
       "   0\n",
       "0  d\n",
       "1  e\n",
       "2  f"
      ]
     },
     "execution_count": 21,
     "metadata": {},
     "output_type": "execute_result"
    }
   ],
   "source": [
    "sample_df[[0]]"
   ]
  },
  {
   "cell_type": "code",
   "execution_count": 22,
   "id": "1ccc63b3",
   "metadata": {},
   "outputs": [
    {
     "data": {
      "text/plain": [
       "0    g\n",
       "1    h\n",
       "2    i\n",
       "Name: 0, dtype: object"
      ]
     },
     "execution_count": 22,
     "metadata": {},
     "output_type": "execute_result"
    }
   ],
   "source": [
    "sample_df['0']"
   ]
  },
  {
   "cell_type": "code",
   "execution_count": 23,
   "id": "30939c49",
   "metadata": {},
   "outputs": [
    {
     "data": {
      "text/html": [
       "<div>\n",
       "<style scoped>\n",
       "    .dataframe tbody tr th:only-of-type {\n",
       "        vertical-align: middle;\n",
       "    }\n",
       "\n",
       "    .dataframe tbody tr th {\n",
       "        vertical-align: top;\n",
       "    }\n",
       "\n",
       "    .dataframe thead th {\n",
       "        text-align: right;\n",
       "    }\n",
       "</style>\n",
       "<table border=\"1\" class=\"dataframe\">\n",
       "  <thead>\n",
       "    <tr style=\"text-align: right;\">\n",
       "      <th></th>\n",
       "      <th>1</th>\n",
       "      <th>0</th>\n",
       "      <th>0</th>\n",
       "    </tr>\n",
       "  </thead>\n",
       "  <tbody>\n",
       "    <tr>\n",
       "      <th>0</th>\n",
       "      <td>a</td>\n",
       "      <td>d</td>\n",
       "      <td>g</td>\n",
       "    </tr>\n",
       "    <tr>\n",
       "      <th>1</th>\n",
       "      <td>b</td>\n",
       "      <td>e</td>\n",
       "      <td>h</td>\n",
       "    </tr>\n",
       "  </tbody>\n",
       "</table>\n",
       "</div>"
      ],
      "text/plain": [
       "   1  0  0\n",
       "0  a  d  g\n",
       "1  b  e  h"
      ]
     },
     "execution_count": 23,
     "metadata": {},
     "output_type": "execute_result"
    }
   ],
   "source": [
    "sample_df[0:2]"
   ]
  },
  {
   "cell_type": "code",
   "execution_count": 24,
   "id": "e9027cac",
   "metadata": {},
   "outputs": [
    {
     "data": {
      "text/html": [
       "<div>\n",
       "<style scoped>\n",
       "    .dataframe tbody tr th:only-of-type {\n",
       "        vertical-align: middle;\n",
       "    }\n",
       "\n",
       "    .dataframe tbody tr th {\n",
       "        vertical-align: top;\n",
       "    }\n",
       "\n",
       "    .dataframe thead th {\n",
       "        text-align: right;\n",
       "    }\n",
       "</style>\n",
       "<table border=\"1\" class=\"dataframe\">\n",
       "  <thead>\n",
       "    <tr style=\"text-align: right;\">\n",
       "      <th></th>\n",
       "      <th>0</th>\n",
       "      <th>1</th>\n",
       "    </tr>\n",
       "  </thead>\n",
       "  <tbody>\n",
       "    <tr>\n",
       "      <th>0</th>\n",
       "      <td>d</td>\n",
       "      <td>a</td>\n",
       "    </tr>\n",
       "    <tr>\n",
       "      <th>1</th>\n",
       "      <td>e</td>\n",
       "      <td>b</td>\n",
       "    </tr>\n",
       "    <tr>\n",
       "      <th>2</th>\n",
       "      <td>f</td>\n",
       "      <td>c</td>\n",
       "    </tr>\n",
       "  </tbody>\n",
       "</table>\n",
       "</div>"
      ],
      "text/plain": [
       "   0  1\n",
       "0  d  a\n",
       "1  e  b\n",
       "2  f  c"
      ]
     },
     "execution_count": 24,
     "metadata": {},
     "output_type": "execute_result"
    }
   ],
   "source": [
    "sample_df[[0,1]]"
   ]
  },
  {
   "cell_type": "markdown",
   "id": "8f3fbafe",
   "metadata": {
    "slideshow": {
     "slide_type": "slide"
    }
   },
   "source": [
    "## Solution"
   ]
  },
  {
   "cell_type": "code",
   "execution_count": 19,
   "id": "ff3b8b93",
   "metadata": {},
   "outputs": [
    {
     "data": {
      "text/plain": [
       "0    d\n",
       "1    e\n",
       "2    f\n",
       "Name: 0, dtype: object"
      ]
     },
     "execution_count": 19,
     "metadata": {},
     "output_type": "execute_result"
    }
   ],
   "source": [
    "sample_df[0]"
   ]
  },
  {
   "cell_type": "markdown",
   "id": "05a30977",
   "metadata": {},
   "source": [
    "This gives `Series` from the second column."
   ]
  },
  {
   "cell_type": "code",
   "execution_count": 20,
   "id": "d514f3c1",
   "metadata": {},
   "outputs": [
    {
     "data": {
      "text/html": [
       "<div>\n",
       "<style scoped>\n",
       "    .dataframe tbody tr th:only-of-type {\n",
       "        vertical-align: middle;\n",
       "    }\n",
       "\n",
       "    .dataframe tbody tr th {\n",
       "        vertical-align: top;\n",
       "    }\n",
       "\n",
       "    .dataframe thead th {\n",
       "        text-align: right;\n",
       "    }\n",
       "</style>\n",
       "<table border=\"1\" class=\"dataframe\">\n",
       "  <thead>\n",
       "    <tr style=\"text-align: right;\">\n",
       "      <th></th>\n",
       "      <th>0</th>\n",
       "    </tr>\n",
       "  </thead>\n",
       "  <tbody>\n",
       "    <tr>\n",
       "      <th>0</th>\n",
       "      <td>d</td>\n",
       "    </tr>\n",
       "    <tr>\n",
       "      <th>1</th>\n",
       "      <td>e</td>\n",
       "    </tr>\n",
       "    <tr>\n",
       "      <th>2</th>\n",
       "      <td>f</td>\n",
       "    </tr>\n",
       "  </tbody>\n",
       "</table>\n",
       "</div>"
      ],
      "text/plain": [
       "   0\n",
       "0  d\n",
       "1  e\n",
       "2  f"
      ]
     },
     "execution_count": 20,
     "metadata": {},
     "output_type": "execute_result"
    }
   ],
   "source": [
    "sample_df[[0]]"
   ]
  },
  {
   "cell_type": "markdown",
   "id": "365c397c",
   "metadata": {},
   "source": [
    "This gives `DataFrame` with the second column from `sample_df`."
   ]
  },
  {
   "cell_type": "code",
   "execution_count": 21,
   "id": "1f54fe14",
   "metadata": {
    "scrolled": false
   },
   "outputs": [
    {
     "data": {
      "text/plain": [
       "0    g\n",
       "1    h\n",
       "2    i\n",
       "Name: 0, dtype: object"
      ]
     },
     "execution_count": 21,
     "metadata": {},
     "output_type": "execute_result"
    }
   ],
   "source": [
    "sample_df['0']"
   ]
  },
  {
   "cell_type": "markdown",
   "id": "684618d7",
   "metadata": {},
   "source": [
    "This gives `Series` from the third column."
   ]
  },
  {
   "cell_type": "markdown",
   "id": "c1e3b115",
   "metadata": {
    "slideshow": {
     "slide_type": "slide"
    }
   },
   "source": [
    "## Solution (continue)"
   ]
  },
  {
   "cell_type": "code",
   "execution_count": 22,
   "id": "ba59cfc1",
   "metadata": {},
   "outputs": [
    {
     "data": {
      "text/html": [
       "<div>\n",
       "<style scoped>\n",
       "    .dataframe tbody tr th:only-of-type {\n",
       "        vertical-align: middle;\n",
       "    }\n",
       "\n",
       "    .dataframe tbody tr th {\n",
       "        vertical-align: top;\n",
       "    }\n",
       "\n",
       "    .dataframe thead th {\n",
       "        text-align: right;\n",
       "    }\n",
       "</style>\n",
       "<table border=\"1\" class=\"dataframe\">\n",
       "  <thead>\n",
       "    <tr style=\"text-align: right;\">\n",
       "      <th></th>\n",
       "      <th>1</th>\n",
       "      <th>0</th>\n",
       "      <th>0</th>\n",
       "    </tr>\n",
       "  </thead>\n",
       "  <tbody>\n",
       "    <tr>\n",
       "      <th>0</th>\n",
       "      <td>a</td>\n",
       "      <td>d</td>\n",
       "      <td>g</td>\n",
       "    </tr>\n",
       "    <tr>\n",
       "      <th>1</th>\n",
       "      <td>b</td>\n",
       "      <td>e</td>\n",
       "      <td>h</td>\n",
       "    </tr>\n",
       "  </tbody>\n",
       "</table>\n",
       "</div>"
      ],
      "text/plain": [
       "   1  0  0\n",
       "0  a  d  g\n",
       "1  b  e  h"
      ]
     },
     "execution_count": 22,
     "metadata": {},
     "output_type": "execute_result"
    }
   ],
   "source": [
    "sample_df[0:2]"
   ]
  },
  {
   "cell_type": "markdown",
   "id": "34969097",
   "metadata": {},
   "source": [
    "This gives `DataFrame` with the first 2 rows from `sample_df`."
   ]
  },
  {
   "cell_type": "code",
   "execution_count": 23,
   "id": "a25c6636",
   "metadata": {},
   "outputs": [
    {
     "data": {
      "text/html": [
       "<div>\n",
       "<style scoped>\n",
       "    .dataframe tbody tr th:only-of-type {\n",
       "        vertical-align: middle;\n",
       "    }\n",
       "\n",
       "    .dataframe tbody tr th {\n",
       "        vertical-align: top;\n",
       "    }\n",
       "\n",
       "    .dataframe thead th {\n",
       "        text-align: right;\n",
       "    }\n",
       "</style>\n",
       "<table border=\"1\" class=\"dataframe\">\n",
       "  <thead>\n",
       "    <tr style=\"text-align: right;\">\n",
       "      <th></th>\n",
       "      <th>0</th>\n",
       "      <th>1</th>\n",
       "    </tr>\n",
       "  </thead>\n",
       "  <tbody>\n",
       "    <tr>\n",
       "      <th>0</th>\n",
       "      <td>d</td>\n",
       "      <td>a</td>\n",
       "    </tr>\n",
       "    <tr>\n",
       "      <th>1</th>\n",
       "      <td>e</td>\n",
       "      <td>b</td>\n",
       "    </tr>\n",
       "    <tr>\n",
       "      <th>2</th>\n",
       "      <td>f</td>\n",
       "      <td>c</td>\n",
       "    </tr>\n",
       "  </tbody>\n",
       "</table>\n",
       "</div>"
      ],
      "text/plain": [
       "   0  1\n",
       "0  d  a\n",
       "1  e  b\n",
       "2  f  c"
      ]
     },
     "execution_count": 23,
     "metadata": {},
     "output_type": "execute_result"
    }
   ],
   "source": [
    "sample_df[[0,1]]"
   ]
  },
  {
   "cell_type": "markdown",
   "id": "e5810476",
   "metadata": {},
   "source": [
    "This gives `DataFrame` with the second and first columns from `sample_df`."
   ]
  },
  {
   "cell_type": "markdown",
   "id": "73a61f6d",
   "metadata": {
    "slideshow": {
     "slide_type": "slide"
    }
   },
   "source": [
    "## Pandas: selecting rows using a condition\n",
    "\n",
    "We can select the rows based on some conditions by `df[condition]`.\n",
    "* The syntax is similar to NumPy\n",
    "* Example: Select all rows for position is `'Attacking Midfield'`:"
   ]
  },
  {
   "cell_type": "code",
   "execution_count": 26,
   "id": "6f772387",
   "metadata": {
    "scrolled": true
   },
   "outputs": [
    {
     "data": {
      "text/html": [
       "<div>\n",
       "<style scoped>\n",
       "    .dataframe tbody tr th:only-of-type {\n",
       "        vertical-align: middle;\n",
       "    }\n",
       "\n",
       "    .dataframe tbody tr th {\n",
       "        vertical-align: top;\n",
       "    }\n",
       "\n",
       "    .dataframe thead th {\n",
       "        text-align: right;\n",
       "    }\n",
       "</style>\n",
       "<table border=\"1\" class=\"dataframe\">\n",
       "  <thead>\n",
       "    <tr style=\"text-align: right;\">\n",
       "      <th></th>\n",
       "      <th>name</th>\n",
       "      <th>club</th>\n",
       "      <th>position</th>\n",
       "      <th>value</th>\n",
       "    </tr>\n",
       "  </thead>\n",
       "  <tbody>\n",
       "    <tr>\n",
       "      <th>0</th>\n",
       "      <td>Yaser Asprilla</td>\n",
       "      <td>Watford</td>\n",
       "      <td>Attacking Midfield</td>\n",
       "      <td>0.90</td>\n",
       "    </tr>\n",
       "    <tr>\n",
       "      <th>3</th>\n",
       "      <td>Luka Ilic</td>\n",
       "      <td>Manchester City</td>\n",
       "      <td>Attacking Midfield</td>\n",
       "      <td>0.72</td>\n",
       "    </tr>\n",
       "    <tr>\n",
       "      <th>17</th>\n",
       "      <td>Kevin De Bruyne</td>\n",
       "      <td>Manchester City</td>\n",
       "      <td>Attacking Midfield</td>\n",
       "      <td>81.00</td>\n",
       "    </tr>\n",
       "    <tr>\n",
       "      <th>18</th>\n",
       "      <td>Bruno Fernandes</td>\n",
       "      <td>Manchester United</td>\n",
       "      <td>Attacking Midfield</td>\n",
       "      <td>81.00</td>\n",
       "    </tr>\n",
       "    <tr>\n",
       "      <th>27</th>\n",
       "      <td>Mason Mount</td>\n",
       "      <td>Chelsea</td>\n",
       "      <td>Attacking Midfield</td>\n",
       "      <td>67.50</td>\n",
       "    </tr>\n",
       "  </tbody>\n",
       "</table>\n",
       "</div>"
      ],
      "text/plain": [
       "               name               club            position  value\n",
       "0    Yaser Asprilla            Watford  Attacking Midfield   0.90\n",
       "3         Luka Ilic    Manchester City  Attacking Midfield   0.72\n",
       "17  Kevin De Bruyne    Manchester City  Attacking Midfield  81.00\n",
       "18  Bruno Fernandes  Manchester United  Attacking Midfield  81.00\n",
       "27      Mason Mount            Chelsea  Attacking Midfield  67.50"
      ]
     },
     "execution_count": 26,
     "metadata": {},
     "output_type": "execute_result"
    }
   ],
   "source": [
    "pl_players[pl_players['position'] == 'Attacking Midfield'].head()"
   ]
  },
  {
   "cell_type": "markdown",
   "id": "790d7f5d",
   "metadata": {
    "slideshow": {
     "slide_type": "slide"
    }
   },
   "source": [
    "## Pandas: selecting rows using a condition\n",
    "\n",
    "We can chain up multiple conditions by `&` and/or `|` like `np.ndarray`.\n",
    "* Example: Select all rows for position is `'Attacking Midfield'` _and_ `club` is `'Manchester United'`:"
   ]
  },
  {
   "cell_type": "code",
   "execution_count": 27,
   "id": "4914cd5a",
   "metadata": {
    "scrolled": false
   },
   "outputs": [
    {
     "data": {
      "text/html": [
       "<div>\n",
       "<style scoped>\n",
       "    .dataframe tbody tr th:only-of-type {\n",
       "        vertical-align: middle;\n",
       "    }\n",
       "\n",
       "    .dataframe tbody tr th {\n",
       "        vertical-align: top;\n",
       "    }\n",
       "\n",
       "    .dataframe thead th {\n",
       "        text-align: right;\n",
       "    }\n",
       "</style>\n",
       "<table border=\"1\" class=\"dataframe\">\n",
       "  <thead>\n",
       "    <tr style=\"text-align: right;\">\n",
       "      <th></th>\n",
       "      <th>name</th>\n",
       "      <th>club</th>\n",
       "      <th>position</th>\n",
       "      <th>value</th>\n",
       "    </tr>\n",
       "  </thead>\n",
       "  <tbody>\n",
       "    <tr>\n",
       "      <th>18</th>\n",
       "      <td>Bruno Fernandes</td>\n",
       "      <td>Manchester United</td>\n",
       "      <td>Attacking Midfield</td>\n",
       "      <td>81.0</td>\n",
       "    </tr>\n",
       "    <tr>\n",
       "      <th>169</th>\n",
       "      <td>Jesse Lingard</td>\n",
       "      <td>Manchester United</td>\n",
       "      <td>Attacking Midfield</td>\n",
       "      <td>18.0</td>\n",
       "    </tr>\n",
       "    <tr>\n",
       "      <th>414</th>\n",
       "      <td>Juan Mata</td>\n",
       "      <td>Manchester United</td>\n",
       "      <td>Attacking Midfield</td>\n",
       "      <td>2.7</td>\n",
       "    </tr>\n",
       "  </tbody>\n",
       "</table>\n",
       "</div>"
      ],
      "text/plain": [
       "                name               club            position  value\n",
       "18   Bruno Fernandes  Manchester United  Attacking Midfield   81.0\n",
       "169    Jesse Lingard  Manchester United  Attacking Midfield   18.0\n",
       "414        Juan Mata  Manchester United  Attacking Midfield    2.7"
      ]
     },
     "execution_count": 27,
     "metadata": {},
     "output_type": "execute_result"
    }
   ],
   "source": [
    "pl_players[(pl_players['position'] == 'Attacking Midfield') & \n",
    "           (pl_players['club'] == 'Manchester United')]"
   ]
  },
  {
   "cell_type": "markdown",
   "id": "fde714c8",
   "metadata": {},
   "source": [
    "* Example: Select all rows for `club` is `'Manchester United'` or `'Manchester City'`:"
   ]
  },
  {
   "cell_type": "code",
   "execution_count": 28,
   "id": "ab12662f",
   "metadata": {},
   "outputs": [
    {
     "data": {
      "text/html": [
       "<div>\n",
       "<style scoped>\n",
       "    .dataframe tbody tr th:only-of-type {\n",
       "        vertical-align: middle;\n",
       "    }\n",
       "\n",
       "    .dataframe tbody tr th {\n",
       "        vertical-align: top;\n",
       "    }\n",
       "\n",
       "    .dataframe thead th {\n",
       "        text-align: right;\n",
       "    }\n",
       "</style>\n",
       "<table border=\"1\" class=\"dataframe\">\n",
       "  <thead>\n",
       "    <tr style=\"text-align: right;\">\n",
       "      <th></th>\n",
       "      <th>name</th>\n",
       "      <th>club</th>\n",
       "      <th>position</th>\n",
       "      <th>value</th>\n",
       "    </tr>\n",
       "  </thead>\n",
       "  <tbody>\n",
       "    <tr>\n",
       "      <th>3</th>\n",
       "      <td>Luka Ilic</td>\n",
       "      <td>Manchester City</td>\n",
       "      <td>Attacking Midfield</td>\n",
       "      <td>0.72</td>\n",
       "    </tr>\n",
       "    <tr>\n",
       "      <th>17</th>\n",
       "      <td>Kevin De Bruyne</td>\n",
       "      <td>Manchester City</td>\n",
       "      <td>Attacking Midfield</td>\n",
       "      <td>81.00</td>\n",
       "    </tr>\n",
       "    <tr>\n",
       "      <th>18</th>\n",
       "      <td>Bruno Fernandes</td>\n",
       "      <td>Manchester United</td>\n",
       "      <td>Attacking Midfield</td>\n",
       "      <td>81.00</td>\n",
       "    </tr>\n",
       "  </tbody>\n",
       "</table>\n",
       "</div>"
      ],
      "text/plain": [
       "               name               club            position  value\n",
       "3         Luka Ilic    Manchester City  Attacking Midfield   0.72\n",
       "17  Kevin De Bruyne    Manchester City  Attacking Midfield  81.00\n",
       "18  Bruno Fernandes  Manchester United  Attacking Midfield  81.00"
      ]
     },
     "execution_count": 28,
     "metadata": {},
     "output_type": "execute_result"
    }
   ],
   "source": [
    "pl_players[(pl_players['club'] == 'Manchester United') | \n",
    "           (pl_players['club'] == 'Manchester City')].head(3)"
   ]
  },
  {
   "cell_type": "markdown",
   "id": "44a59622",
   "metadata": {},
   "source": [
    "Like NumPy, we should not use `and` or `or`, and `()` is required."
   ]
  },
  {
   "cell_type": "markdown",
   "id": "39532bc8",
   "metadata": {
    "slideshow": {
     "slide_type": "slide"
    }
   },
   "source": [
    "## Pandas: matching multiple values\n",
    "\n",
    "The `isin()` method makes it more convenient to find rows that match one of many possible values.\n",
    "* Example: Select all rows for `club` is `'Manchester United'` or `'Manchester City'`:"
   ]
  },
  {
   "cell_type": "code",
   "execution_count": 29,
   "id": "6bd26248",
   "metadata": {
    "scrolled": true
   },
   "outputs": [
    {
     "data": {
      "text/html": [
       "<div>\n",
       "<style scoped>\n",
       "    .dataframe tbody tr th:only-of-type {\n",
       "        vertical-align: middle;\n",
       "    }\n",
       "\n",
       "    .dataframe tbody tr th {\n",
       "        vertical-align: top;\n",
       "    }\n",
       "\n",
       "    .dataframe thead th {\n",
       "        text-align: right;\n",
       "    }\n",
       "</style>\n",
       "<table border=\"1\" class=\"dataframe\">\n",
       "  <thead>\n",
       "    <tr style=\"text-align: right;\">\n",
       "      <th></th>\n",
       "      <th>name</th>\n",
       "      <th>club</th>\n",
       "      <th>position</th>\n",
       "      <th>value</th>\n",
       "    </tr>\n",
       "  </thead>\n",
       "  <tbody>\n",
       "    <tr>\n",
       "      <th>3</th>\n",
       "      <td>Luka Ilic</td>\n",
       "      <td>Manchester City</td>\n",
       "      <td>Attacking Midfield</td>\n",
       "      <td>0.72</td>\n",
       "    </tr>\n",
       "    <tr>\n",
       "      <th>17</th>\n",
       "      <td>Kevin De Bruyne</td>\n",
       "      <td>Manchester City</td>\n",
       "      <td>Attacking Midfield</td>\n",
       "      <td>81.00</td>\n",
       "    </tr>\n",
       "    <tr>\n",
       "      <th>18</th>\n",
       "      <td>Bruno Fernandes</td>\n",
       "      <td>Manchester United</td>\n",
       "      <td>Attacking Midfield</td>\n",
       "      <td>81.00</td>\n",
       "    </tr>\n",
       "  </tbody>\n",
       "</table>\n",
       "</div>"
      ],
      "text/plain": [
       "               name               club            position  value\n",
       "3         Luka Ilic    Manchester City  Attacking Midfield   0.72\n",
       "17  Kevin De Bruyne    Manchester City  Attacking Midfield  81.00\n",
       "18  Bruno Fernandes  Manchester United  Attacking Midfield  81.00"
      ]
     },
     "execution_count": 29,
     "metadata": {},
     "output_type": "execute_result"
    }
   ],
   "source": [
    "pl_players[pl_players['club'].isin(['Manchester United', 'Manchester City'])].head(3)"
   ]
  },
  {
   "cell_type": "markdown",
   "id": "531ec90d",
   "metadata": {},
   "source": [
    "Alternatively we can do the following:"
   ]
  },
  {
   "cell_type": "markdown",
   "id": "8e58f14d",
   "metadata": {},
   "source": [
    "library_name.function_name()"
   ]
  },
  {
   "cell_type": "code",
   "execution_count": 30,
   "id": "a94ef213",
   "metadata": {
    "scrolled": true
   },
   "outputs": [
    {
     "data": {
      "text/html": [
       "<div>\n",
       "<style scoped>\n",
       "    .dataframe tbody tr th:only-of-type {\n",
       "        vertical-align: middle;\n",
       "    }\n",
       "\n",
       "    .dataframe tbody tr th {\n",
       "        vertical-align: top;\n",
       "    }\n",
       "\n",
       "    .dataframe thead th {\n",
       "        text-align: right;\n",
       "    }\n",
       "</style>\n",
       "<table border=\"1\" class=\"dataframe\">\n",
       "  <thead>\n",
       "    <tr style=\"text-align: right;\">\n",
       "      <th></th>\n",
       "      <th>name</th>\n",
       "      <th>club</th>\n",
       "      <th>position</th>\n",
       "      <th>value</th>\n",
       "    </tr>\n",
       "  </thead>\n",
       "  <tbody>\n",
       "    <tr>\n",
       "      <th>3</th>\n",
       "      <td>Luka Ilic</td>\n",
       "      <td>Manchester City</td>\n",
       "      <td>Attacking Midfield</td>\n",
       "      <td>0.72</td>\n",
       "    </tr>\n",
       "    <tr>\n",
       "      <th>17</th>\n",
       "      <td>Kevin De Bruyne</td>\n",
       "      <td>Manchester City</td>\n",
       "      <td>Attacking Midfield</td>\n",
       "      <td>81.00</td>\n",
       "    </tr>\n",
       "    <tr>\n",
       "      <th>18</th>\n",
       "      <td>Bruno Fernandes</td>\n",
       "      <td>Manchester United</td>\n",
       "      <td>Attacking Midfield</td>\n",
       "      <td>81.00</td>\n",
       "    </tr>\n",
       "  </tbody>\n",
       "</table>\n",
       "</div>"
      ],
      "text/plain": [
       "               name               club            position  value\n",
       "3         Luka Ilic    Manchester City  Attacking Midfield   0.72\n",
       "17  Kevin De Bruyne    Manchester City  Attacking Midfield  81.00\n",
       "18  Bruno Fernandes  Manchester United  Attacking Midfield  81.00"
      ]
     },
     "execution_count": 30,
     "metadata": {},
     "output_type": "execute_result"
    }
   ],
   "source": [
    "pl_players[pl_players['club'].str.startswith('Manchester')].head(3)"
   ]
  },
  {
   "cell_type": "markdown",
   "id": "40c30564",
   "metadata": {},
   "source": [
    "We will talk more about these string manipulation later in the course."
   ]
  },
  {
   "cell_type": "markdown",
   "id": "4030e72b",
   "metadata": {
    "slideshow": {
     "slide_type": "slide"
    }
   },
   "source": [
    "## Pandas: more selections\n",
    "\n",
    "To specify the selection for _both_ rows and columns, or to select just a row by indexing or multiple columns by slicing, use `loc[]` and `iloc[]`.\n",
    "* Warning: here is just a quick demonstration\n",
    "    * Please see [here](https://pandas.pydata.org/pandas-docs/stable/generated/pandas.DataFrame.loc.html) and [here](https://pandas.pydata.org/pandas-docs/stable/generated/pandas.DataFrame.iloc.html) to learn more about them"
   ]
  },
  {
   "cell_type": "markdown",
   "id": "062c5f0a",
   "metadata": {
    "slideshow": {
     "slide_type": "slide"
    }
   },
   "source": [
    "## Pandas: `loc[]`\n",
    "\n",
    "`loc[]` allows you to select rows and columns by:\n",
    "* Labels\n",
    "* Boolean array\n",
    "\n",
    "One example: selecting rows by conditions, and columns by slicing on labels:"
   ]
  },
  {
   "cell_type": "code",
   "execution_count": 31,
   "id": "6dd6cba6",
   "metadata": {
    "scrolled": true
   },
   "outputs": [
    {
     "data": {
      "text/html": [
       "<div>\n",
       "<style scoped>\n",
       "    .dataframe tbody tr th:only-of-type {\n",
       "        vertical-align: middle;\n",
       "    }\n",
       "\n",
       "    .dataframe tbody tr th {\n",
       "        vertical-align: top;\n",
       "    }\n",
       "\n",
       "    .dataframe thead th {\n",
       "        text-align: right;\n",
       "    }\n",
       "</style>\n",
       "<table border=\"1\" class=\"dataframe\">\n",
       "  <thead>\n",
       "    <tr style=\"text-align: right;\">\n",
       "      <th></th>\n",
       "      <th>name</th>\n",
       "      <th>club</th>\n",
       "    </tr>\n",
       "  </thead>\n",
       "  <tbody>\n",
       "    <tr>\n",
       "      <th>18</th>\n",
       "      <td>Bruno Fernandes</td>\n",
       "      <td>Manchester United</td>\n",
       "    </tr>\n",
       "    <tr>\n",
       "      <th>21</th>\n",
       "      <td>Marcus Rashford</td>\n",
       "      <td>Manchester United</td>\n",
       "    </tr>\n",
       "    <tr>\n",
       "      <th>22</th>\n",
       "      <td>Jadon Sancho</td>\n",
       "      <td>Manchester United</td>\n",
       "    </tr>\n",
       "  </tbody>\n",
       "</table>\n",
       "</div>"
      ],
      "text/plain": [
       "               name               club\n",
       "18  Bruno Fernandes  Manchester United\n",
       "21  Marcus Rashford  Manchester United\n",
       "22     Jadon Sancho  Manchester United"
      ]
     },
     "execution_count": 31,
     "metadata": {},
     "output_type": "execute_result"
    }
   ],
   "source": [
    "pl_players.loc[(pl_players['club'] == 'Manchester United'), 'name':'club'].head(3)"
   ]
  },
  {
   "cell_type": "markdown",
   "id": "ab649e31",
   "metadata": {},
   "source": [
    "Note:\n",
    "* Similar to NumPy 2D array, before the comma represents the rows to select, and after the comma represents the columns to select\n",
    "* When slicing with `loc[]`, end points are included!"
   ]
  },
  {
   "cell_type": "markdown",
   "id": "967626c2",
   "metadata": {
    "slideshow": {
     "slide_type": "slide"
    }
   },
   "source": [
    "## Pandas: `loc[]` (continue)\n",
    "\n",
    "Another example: selecting rows by a list of row labels:"
   ]
  },
  {
   "cell_type": "code",
   "execution_count": 9,
   "id": "8f4b0f86",
   "metadata": {},
   "outputs": [
    {
     "ename": "KeyError",
     "evalue": "\"None of [Int64Index([0, 3], dtype='int64')] are in the [columns]\"",
     "output_type": "error",
     "traceback": [
      "\u001b[1;31m---------------------------------------------------------------------------\u001b[0m",
      "\u001b[1;31mKeyError\u001b[0m                                  Traceback (most recent call last)",
      "Input \u001b[1;32mIn [9]\u001b[0m, in \u001b[0;36m<cell line: 1>\u001b[1;34m()\u001b[0m\n\u001b[1;32m----> 1\u001b[0m \u001b[43mpl_players\u001b[49m\u001b[43m[\u001b[49m\u001b[43m[\u001b[49m\u001b[38;5;241;43m0\u001b[39;49m\u001b[43m,\u001b[49m\u001b[38;5;241;43m3\u001b[39;49m\u001b[43m]\u001b[49m\u001b[43m]\u001b[49m\u001b[38;5;241m.\u001b[39mhead()\n",
      "File \u001b[1;32m~\\anacondatrue\\lib\\site-packages\\pandas\\core\\frame.py:3511\u001b[0m, in \u001b[0;36mDataFrame.__getitem__\u001b[1;34m(self, key)\u001b[0m\n\u001b[0;32m   3509\u001b[0m     \u001b[38;5;28;01mif\u001b[39;00m is_iterator(key):\n\u001b[0;32m   3510\u001b[0m         key \u001b[38;5;241m=\u001b[39m \u001b[38;5;28mlist\u001b[39m(key)\n\u001b[1;32m-> 3511\u001b[0m     indexer \u001b[38;5;241m=\u001b[39m \u001b[38;5;28;43mself\u001b[39;49m\u001b[38;5;241;43m.\u001b[39;49m\u001b[43mcolumns\u001b[49m\u001b[38;5;241;43m.\u001b[39;49m\u001b[43m_get_indexer_strict\u001b[49m\u001b[43m(\u001b[49m\u001b[43mkey\u001b[49m\u001b[43m,\u001b[49m\u001b[43m \u001b[49m\u001b[38;5;124;43m\"\u001b[39;49m\u001b[38;5;124;43mcolumns\u001b[39;49m\u001b[38;5;124;43m\"\u001b[39;49m\u001b[43m)\u001b[49m[\u001b[38;5;241m1\u001b[39m]\n\u001b[0;32m   3513\u001b[0m \u001b[38;5;66;03m# take() does not accept boolean indexers\u001b[39;00m\n\u001b[0;32m   3514\u001b[0m \u001b[38;5;28;01mif\u001b[39;00m \u001b[38;5;28mgetattr\u001b[39m(indexer, \u001b[38;5;124m\"\u001b[39m\u001b[38;5;124mdtype\u001b[39m\u001b[38;5;124m\"\u001b[39m, \u001b[38;5;28;01mNone\u001b[39;00m) \u001b[38;5;241m==\u001b[39m \u001b[38;5;28mbool\u001b[39m:\n",
      "File \u001b[1;32m~\\anacondatrue\\lib\\site-packages\\pandas\\core\\indexes\\base.py:5782\u001b[0m, in \u001b[0;36mIndex._get_indexer_strict\u001b[1;34m(self, key, axis_name)\u001b[0m\n\u001b[0;32m   5779\u001b[0m \u001b[38;5;28;01melse\u001b[39;00m:\n\u001b[0;32m   5780\u001b[0m     keyarr, indexer, new_indexer \u001b[38;5;241m=\u001b[39m \u001b[38;5;28mself\u001b[39m\u001b[38;5;241m.\u001b[39m_reindex_non_unique(keyarr)\n\u001b[1;32m-> 5782\u001b[0m \u001b[38;5;28;43mself\u001b[39;49m\u001b[38;5;241;43m.\u001b[39;49m\u001b[43m_raise_if_missing\u001b[49m\u001b[43m(\u001b[49m\u001b[43mkeyarr\u001b[49m\u001b[43m,\u001b[49m\u001b[43m \u001b[49m\u001b[43mindexer\u001b[49m\u001b[43m,\u001b[49m\u001b[43m \u001b[49m\u001b[43maxis_name\u001b[49m\u001b[43m)\u001b[49m\n\u001b[0;32m   5784\u001b[0m keyarr \u001b[38;5;241m=\u001b[39m \u001b[38;5;28mself\u001b[39m\u001b[38;5;241m.\u001b[39mtake(indexer)\n\u001b[0;32m   5785\u001b[0m \u001b[38;5;28;01mif\u001b[39;00m \u001b[38;5;28misinstance\u001b[39m(key, Index):\n\u001b[0;32m   5786\u001b[0m     \u001b[38;5;66;03m# GH 42790 - Preserve name from an Index\u001b[39;00m\n",
      "File \u001b[1;32m~\\anacondatrue\\lib\\site-packages\\pandas\\core\\indexes\\base.py:5842\u001b[0m, in \u001b[0;36mIndex._raise_if_missing\u001b[1;34m(self, key, indexer, axis_name)\u001b[0m\n\u001b[0;32m   5840\u001b[0m     \u001b[38;5;28;01mif\u001b[39;00m use_interval_msg:\n\u001b[0;32m   5841\u001b[0m         key \u001b[38;5;241m=\u001b[39m \u001b[38;5;28mlist\u001b[39m(key)\n\u001b[1;32m-> 5842\u001b[0m     \u001b[38;5;28;01mraise\u001b[39;00m \u001b[38;5;167;01mKeyError\u001b[39;00m(\u001b[38;5;124mf\u001b[39m\u001b[38;5;124m\"\u001b[39m\u001b[38;5;124mNone of [\u001b[39m\u001b[38;5;132;01m{\u001b[39;00mkey\u001b[38;5;132;01m}\u001b[39;00m\u001b[38;5;124m] are in the [\u001b[39m\u001b[38;5;132;01m{\u001b[39;00maxis_name\u001b[38;5;132;01m}\u001b[39;00m\u001b[38;5;124m]\u001b[39m\u001b[38;5;124m\"\u001b[39m)\n\u001b[0;32m   5844\u001b[0m not_found \u001b[38;5;241m=\u001b[39m \u001b[38;5;28mlist\u001b[39m(ensure_index(key)[missing_mask\u001b[38;5;241m.\u001b[39mnonzero()[\u001b[38;5;241m0\u001b[39m]]\u001b[38;5;241m.\u001b[39munique())\n\u001b[0;32m   5845\u001b[0m \u001b[38;5;28;01mraise\u001b[39;00m \u001b[38;5;167;01mKeyError\u001b[39;00m(\u001b[38;5;124mf\u001b[39m\u001b[38;5;124m\"\u001b[39m\u001b[38;5;132;01m{\u001b[39;00mnot_found\u001b[38;5;132;01m}\u001b[39;00m\u001b[38;5;124m not in index\u001b[39m\u001b[38;5;124m\"\u001b[39m)\n",
      "\u001b[1;31mKeyError\u001b[0m: \"None of [Int64Index([0, 3], dtype='int64')] are in the [columns]\""
     ]
    }
   ],
   "source": [
    "pl_players[[0,3]].head()"
   ]
  },
  {
   "cell_type": "code",
   "execution_count": 32,
   "id": "02b35a65",
   "metadata": {
    "scrolled": true
   },
   "outputs": [
    {
     "data": {
      "text/html": [
       "<div>\n",
       "<style scoped>\n",
       "    .dataframe tbody tr th:only-of-type {\n",
       "        vertical-align: middle;\n",
       "    }\n",
       "\n",
       "    .dataframe tbody tr th {\n",
       "        vertical-align: top;\n",
       "    }\n",
       "\n",
       "    .dataframe thead th {\n",
       "        text-align: right;\n",
       "    }\n",
       "</style>\n",
       "<table border=\"1\" class=\"dataframe\">\n",
       "  <thead>\n",
       "    <tr style=\"text-align: right;\">\n",
       "      <th></th>\n",
       "      <th>name</th>\n",
       "      <th>club</th>\n",
       "      <th>position</th>\n",
       "      <th>value</th>\n",
       "    </tr>\n",
       "  </thead>\n",
       "  <tbody>\n",
       "    <tr>\n",
       "      <th>0</th>\n",
       "      <td>Yaser Asprilla</td>\n",
       "      <td>Watford</td>\n",
       "      <td>Attacking Midfield</td>\n",
       "      <td>0.90</td>\n",
       "    </tr>\n",
       "    <tr>\n",
       "      <th>3</th>\n",
       "      <td>Luka Ilic</td>\n",
       "      <td>Manchester City</td>\n",
       "      <td>Attacking Midfield</td>\n",
       "      <td>0.72</td>\n",
       "    </tr>\n",
       "  </tbody>\n",
       "</table>\n",
       "</div>"
      ],
      "text/plain": [
       "             name             club            position  value\n",
       "0  Yaser Asprilla          Watford  Attacking Midfield   0.90\n",
       "3       Luka Ilic  Manchester City  Attacking Midfield   0.72"
      ]
     },
     "execution_count": 32,
     "metadata": {},
     "output_type": "execute_result"
    }
   ],
   "source": [
    "pl_players.loc[[0,3]].head()"
   ]
  },
  {
   "cell_type": "markdown",
   "id": "ac20c5fd",
   "metadata": {},
   "source": [
    "Note: \n",
    "* Similar to NumPy 2D array, if we only provide one object, we only specify the rows we want to select"
   ]
  },
  {
   "cell_type": "markdown",
   "id": "bd1ae144",
   "metadata": {
    "slideshow": {
     "slide_type": "slide"
    }
   },
   "source": [
    "## Pandas: `iloc[]`\n",
    "\n",
    "`iloc[]` allows you to select rows and columns by the location indexes.\n",
    "\n",
    "Examples:"
   ]
  },
  {
   "cell_type": "code",
   "execution_count": 41,
   "id": "23fbb3f0",
   "metadata": {
    "scrolled": true
   },
   "outputs": [
    {
     "data": {
      "text/plain": [
       "club\n",
       "Watford            Defensive Midfield\n",
       "Manchester City    Attacking Midfield\n",
       "Name: position, dtype: object"
      ]
     },
     "execution_count": 41,
     "metadata": {},
     "output_type": "execute_result"
    }
   ],
   "source": [
    "pl_players_idx_by_club.iloc[2:4, 1]\n",
    "# [row, column]"
   ]
  },
  {
   "cell_type": "code",
   "execution_count": 44,
   "id": "230b2c54",
   "metadata": {
    "scrolled": false
   },
   "outputs": [
    {
     "data": {
      "text/html": [
       "<div>\n",
       "<style scoped>\n",
       "    .dataframe tbody tr th:only-of-type {\n",
       "        vertical-align: middle;\n",
       "    }\n",
       "\n",
       "    .dataframe tbody tr th {\n",
       "        vertical-align: top;\n",
       "    }\n",
       "\n",
       "    .dataframe thead th {\n",
       "        text-align: right;\n",
       "    }\n",
       "</style>\n",
       "<table border=\"1\" class=\"dataframe\">\n",
       "  <thead>\n",
       "    <tr style=\"text-align: right;\">\n",
       "      <th></th>\n",
       "      <th>name</th>\n",
       "      <th>club</th>\n",
       "      <th>position</th>\n",
       "      <th>value</th>\n",
       "    </tr>\n",
       "  </thead>\n",
       "  <tbody>\n",
       "    <tr>\n",
       "      <th>1</th>\n",
       "      <td>Moisés Caicedo</td>\n",
       "      <td>Brighton &amp; Hove Albion</td>\n",
       "      <td>Central Midfield</td>\n",
       "      <td>4.05</td>\n",
       "    </tr>\n",
       "    <tr>\n",
       "      <th>3</th>\n",
       "      <td>Luka Ilic</td>\n",
       "      <td>Manchester City</td>\n",
       "      <td>Attacking Midfield</td>\n",
       "      <td>0.72</td>\n",
       "    </tr>\n",
       "  </tbody>\n",
       "</table>\n",
       "</div>"
      ],
      "text/plain": [
       "             name                    club            position  value\n",
       "1  Moisés Caicedo  Brighton & Hove Albion    Central Midfield   4.05\n",
       "3       Luka Ilic         Manchester City  Attacking Midfield   0.72"
      ]
     },
     "execution_count": 44,
     "metadata": {},
     "output_type": "execute_result"
    }
   ],
   "source": [
    "pl_players.iloc[[1,3]]"
   ]
  },
  {
   "cell_type": "markdown",
   "id": "71eda997",
   "metadata": {
    "slideshow": {
     "slide_type": "slide"
    }
   },
   "source": [
    "## Pandas: `loc[]` vs `iloc[]`\n",
    "\n",
    "Advantages of `loc[]` over `iloc[]`:\n",
    "* Easier to read\n",
    "* Harder to make mistakes\n",
    "* May work even if the order of rows or columns changed\n",
    "\n",
    "But there are situations where `iloc[]` is useful."
   ]
  },
  {
   "cell_type": "markdown",
   "id": "c5dc3da1",
   "metadata": {
    "slideshow": {
     "slide_type": "slide"
    }
   },
   "source": [
    "## Checkpoint 3.2\n",
    "\n",
    "Continue to work on the same `DataFrame` as Checkpoint 3.1:"
   ]
  },
  {
   "cell_type": "code",
   "execution_count": 45,
   "id": "b0f3d021",
   "metadata": {
    "scrolled": true
   },
   "outputs": [
    {
     "data": {
      "text/html": [
       "<div>\n",
       "<style scoped>\n",
       "    .dataframe tbody tr th:only-of-type {\n",
       "        vertical-align: middle;\n",
       "    }\n",
       "\n",
       "    .dataframe tbody tr th {\n",
       "        vertical-align: top;\n",
       "    }\n",
       "\n",
       "    .dataframe thead th {\n",
       "        text-align: right;\n",
       "    }\n",
       "</style>\n",
       "<table border=\"1\" class=\"dataframe\">\n",
       "  <thead>\n",
       "    <tr style=\"text-align: right;\">\n",
       "      <th></th>\n",
       "      <th>1</th>\n",
       "      <th>0</th>\n",
       "      <th>0</th>\n",
       "    </tr>\n",
       "  </thead>\n",
       "  <tbody>\n",
       "    <tr>\n",
       "      <th>0</th>\n",
       "      <td>a</td>\n",
       "      <td>d</td>\n",
       "      <td>g</td>\n",
       "    </tr>\n",
       "    <tr>\n",
       "      <th>1</th>\n",
       "      <td>b</td>\n",
       "      <td>e</td>\n",
       "      <td>h</td>\n",
       "    </tr>\n",
       "    <tr>\n",
       "      <th>2</th>\n",
       "      <td>c</td>\n",
       "      <td>f</td>\n",
       "      <td>i</td>\n",
       "    </tr>\n",
       "  </tbody>\n",
       "</table>\n",
       "</div>"
      ],
      "text/plain": [
       "   1  0  0\n",
       "0  a  d  g\n",
       "1  b  e  h\n",
       "2  c  f  i"
      ]
     },
     "execution_count": 45,
     "metadata": {},
     "output_type": "execute_result"
    }
   ],
   "source": [
    "sample_df = pd.DataFrame({1: ['a', 'b', 'c'], 0: ['d', 'e', 'f'], '0': ['g', 'h', 'i']})\n",
    "sample_df"
   ]
  },
  {
   "cell_type": "markdown",
   "id": "e885792e",
   "metadata": {},
   "source": [
    "And find out what you get from the following:"
   ]
  },
  {
   "cell_type": "code",
   "execution_count": 46,
   "id": "78620585",
   "metadata": {},
   "outputs": [
    {
     "data": {
      "text/html": [
       "<div>\n",
       "<style scoped>\n",
       "    .dataframe tbody tr th:only-of-type {\n",
       "        vertical-align: middle;\n",
       "    }\n",
       "\n",
       "    .dataframe tbody tr th {\n",
       "        vertical-align: top;\n",
       "    }\n",
       "\n",
       "    .dataframe thead th {\n",
       "        text-align: right;\n",
       "    }\n",
       "</style>\n",
       "<table border=\"1\" class=\"dataframe\">\n",
       "  <thead>\n",
       "    <tr style=\"text-align: right;\">\n",
       "      <th></th>\n",
       "      <th>1</th>\n",
       "      <th>0</th>\n",
       "      <th>0</th>\n",
       "    </tr>\n",
       "  </thead>\n",
       "  <tbody>\n",
       "    <tr>\n",
       "      <th>0</th>\n",
       "      <td>a</td>\n",
       "      <td>d</td>\n",
       "      <td>g</td>\n",
       "    </tr>\n",
       "    <tr>\n",
       "      <th>1</th>\n",
       "      <td>b</td>\n",
       "      <td>e</td>\n",
       "      <td>h</td>\n",
       "    </tr>\n",
       "  </tbody>\n",
       "</table>\n",
       "</div>"
      ],
      "text/plain": [
       "   1  0  0\n",
       "0  a  d  g\n",
       "1  b  e  h"
      ]
     },
     "execution_count": 46,
     "metadata": {},
     "output_type": "execute_result"
    }
   ],
   "source": [
    "sample_df[0:2]"
   ]
  },
  {
   "cell_type": "code",
   "execution_count": 47,
   "id": "1ca53cd1",
   "metadata": {},
   "outputs": [
    {
     "data": {
      "text/html": [
       "<div>\n",
       "<style scoped>\n",
       "    .dataframe tbody tr th:only-of-type {\n",
       "        vertical-align: middle;\n",
       "    }\n",
       "\n",
       "    .dataframe tbody tr th {\n",
       "        vertical-align: top;\n",
       "    }\n",
       "\n",
       "    .dataframe thead th {\n",
       "        text-align: right;\n",
       "    }\n",
       "</style>\n",
       "<table border=\"1\" class=\"dataframe\">\n",
       "  <thead>\n",
       "    <tr style=\"text-align: right;\">\n",
       "      <th></th>\n",
       "      <th>1</th>\n",
       "      <th>0</th>\n",
       "      <th>0</th>\n",
       "    </tr>\n",
       "  </thead>\n",
       "  <tbody>\n",
       "    <tr>\n",
       "      <th>0</th>\n",
       "      <td>a</td>\n",
       "      <td>d</td>\n",
       "      <td>g</td>\n",
       "    </tr>\n",
       "    <tr>\n",
       "      <th>1</th>\n",
       "      <td>b</td>\n",
       "      <td>e</td>\n",
       "      <td>h</td>\n",
       "    </tr>\n",
       "  </tbody>\n",
       "</table>\n",
       "</div>"
      ],
      "text/plain": [
       "   1  0  0\n",
       "0  a  d  g\n",
       "1  b  e  h"
      ]
     },
     "execution_count": 47,
     "metadata": {},
     "output_type": "execute_result"
    }
   ],
   "source": [
    "sample_df.iloc[0:2]"
   ]
  },
  {
   "cell_type": "code",
   "execution_count": 50,
   "id": "deacefbc",
   "metadata": {},
   "outputs": [
    {
     "data": {
      "text/html": [
       "<div>\n",
       "<style scoped>\n",
       "    .dataframe tbody tr th:only-of-type {\n",
       "        vertical-align: middle;\n",
       "    }\n",
       "\n",
       "    .dataframe tbody tr th {\n",
       "        vertical-align: top;\n",
       "    }\n",
       "\n",
       "    .dataframe thead th {\n",
       "        text-align: right;\n",
       "    }\n",
       "</style>\n",
       "<table border=\"1\" class=\"dataframe\">\n",
       "  <thead>\n",
       "    <tr style=\"text-align: right;\">\n",
       "      <th></th>\n",
       "      <th>1</th>\n",
       "      <th>0</th>\n",
       "      <th>0</th>\n",
       "    </tr>\n",
       "  </thead>\n",
       "  <tbody>\n",
       "    <tr>\n",
       "      <th>0</th>\n",
       "      <td>a</td>\n",
       "      <td>d</td>\n",
       "      <td>g</td>\n",
       "    </tr>\n",
       "    <tr>\n",
       "      <th>1</th>\n",
       "      <td>b</td>\n",
       "      <td>e</td>\n",
       "      <td>h</td>\n",
       "    </tr>\n",
       "    <tr>\n",
       "      <th>2</th>\n",
       "      <td>c</td>\n",
       "      <td>f</td>\n",
       "      <td>i</td>\n",
       "    </tr>\n",
       "  </tbody>\n",
       "</table>\n",
       "</div>"
      ],
      "text/plain": [
       "   1  0  0\n",
       "0  a  d  g\n",
       "1  b  e  h\n",
       "2  c  f  i"
      ]
     },
     "execution_count": 50,
     "metadata": {},
     "output_type": "execute_result"
    }
   ],
   "source": [
    "sample_df.loc[0:2]"
   ]
  },
  {
   "cell_type": "markdown",
   "id": "59df70d9",
   "metadata": {
    "slideshow": {
     "slide_type": "slide"
    }
   },
   "source": [
    "## Checkpoint 3.2 (continue)"
   ]
  },
  {
   "cell_type": "code",
   "execution_count": 10,
   "id": "2d08e31c",
   "metadata": {},
   "outputs": [
    {
     "ename": "InvalidIndexError",
     "evalue": "(slice(None, None, None), 0)",
     "output_type": "error",
     "traceback": [
      "\u001b[1;31m---------------------------------------------------------------------------\u001b[0m",
      "\u001b[1;31mTypeError\u001b[0m                                 Traceback (most recent call last)",
      "File \u001b[1;32m~\\anacondatrue\\lib\\site-packages\\pandas\\core\\indexes\\base.py:3621\u001b[0m, in \u001b[0;36mIndex.get_loc\u001b[1;34m(self, key, method, tolerance)\u001b[0m\n\u001b[0;32m   3620\u001b[0m \u001b[38;5;28;01mtry\u001b[39;00m:\n\u001b[1;32m-> 3621\u001b[0m     \u001b[38;5;28;01mreturn\u001b[39;00m \u001b[38;5;28;43mself\u001b[39;49m\u001b[38;5;241;43m.\u001b[39;49m\u001b[43m_engine\u001b[49m\u001b[38;5;241;43m.\u001b[39;49m\u001b[43mget_loc\u001b[49m\u001b[43m(\u001b[49m\u001b[43mcasted_key\u001b[49m\u001b[43m)\u001b[49m\n\u001b[0;32m   3622\u001b[0m \u001b[38;5;28;01mexcept\u001b[39;00m \u001b[38;5;167;01mKeyError\u001b[39;00m \u001b[38;5;28;01mas\u001b[39;00m err:\n",
      "File \u001b[1;32m~\\anacondatrue\\lib\\site-packages\\pandas\\_libs\\index.pyx:136\u001b[0m, in \u001b[0;36mpandas._libs.index.IndexEngine.get_loc\u001b[1;34m()\u001b[0m\n",
      "File \u001b[1;32m~\\anacondatrue\\lib\\site-packages\\pandas\\_libs\\index.pyx:142\u001b[0m, in \u001b[0;36mpandas._libs.index.IndexEngine.get_loc\u001b[1;34m()\u001b[0m\n",
      "\u001b[1;31mTypeError\u001b[0m: '(slice(None, None, None), 0)' is an invalid key",
      "\nDuring handling of the above exception, another exception occurred:\n",
      "\u001b[1;31mInvalidIndexError\u001b[0m                         Traceback (most recent call last)",
      "Input \u001b[1;32mIn [10]\u001b[0m, in \u001b[0;36m<cell line: 1>\u001b[1;34m()\u001b[0m\n\u001b[1;32m----> 1\u001b[0m \u001b[43msample_df\u001b[49m\u001b[43m[\u001b[49m\u001b[43m:\u001b[49m\u001b[43m,\u001b[49m\u001b[38;5;241;43m0\u001b[39;49m\u001b[43m]\u001b[49m\n",
      "File \u001b[1;32m~\\anacondatrue\\lib\\site-packages\\pandas\\core\\frame.py:3505\u001b[0m, in \u001b[0;36mDataFrame.__getitem__\u001b[1;34m(self, key)\u001b[0m\n\u001b[0;32m   3503\u001b[0m \u001b[38;5;28;01mif\u001b[39;00m \u001b[38;5;28mself\u001b[39m\u001b[38;5;241m.\u001b[39mcolumns\u001b[38;5;241m.\u001b[39mnlevels \u001b[38;5;241m>\u001b[39m \u001b[38;5;241m1\u001b[39m:\n\u001b[0;32m   3504\u001b[0m     \u001b[38;5;28;01mreturn\u001b[39;00m \u001b[38;5;28mself\u001b[39m\u001b[38;5;241m.\u001b[39m_getitem_multilevel(key)\n\u001b[1;32m-> 3505\u001b[0m indexer \u001b[38;5;241m=\u001b[39m \u001b[38;5;28;43mself\u001b[39;49m\u001b[38;5;241;43m.\u001b[39;49m\u001b[43mcolumns\u001b[49m\u001b[38;5;241;43m.\u001b[39;49m\u001b[43mget_loc\u001b[49m\u001b[43m(\u001b[49m\u001b[43mkey\u001b[49m\u001b[43m)\u001b[49m\n\u001b[0;32m   3506\u001b[0m \u001b[38;5;28;01mif\u001b[39;00m is_integer(indexer):\n\u001b[0;32m   3507\u001b[0m     indexer \u001b[38;5;241m=\u001b[39m [indexer]\n",
      "File \u001b[1;32m~\\anacondatrue\\lib\\site-packages\\pandas\\core\\indexes\\base.py:3628\u001b[0m, in \u001b[0;36mIndex.get_loc\u001b[1;34m(self, key, method, tolerance)\u001b[0m\n\u001b[0;32m   3623\u001b[0m         \u001b[38;5;28;01mraise\u001b[39;00m \u001b[38;5;167;01mKeyError\u001b[39;00m(key) \u001b[38;5;28;01mfrom\u001b[39;00m \u001b[38;5;21;01merr\u001b[39;00m\n\u001b[0;32m   3624\u001b[0m     \u001b[38;5;28;01mexcept\u001b[39;00m \u001b[38;5;167;01mTypeError\u001b[39;00m:\n\u001b[0;32m   3625\u001b[0m         \u001b[38;5;66;03m# If we have a listlike key, _check_indexing_error will raise\u001b[39;00m\n\u001b[0;32m   3626\u001b[0m         \u001b[38;5;66;03m#  InvalidIndexError. Otherwise we fall through and re-raise\u001b[39;00m\n\u001b[0;32m   3627\u001b[0m         \u001b[38;5;66;03m#  the TypeError.\u001b[39;00m\n\u001b[1;32m-> 3628\u001b[0m         \u001b[38;5;28;43mself\u001b[39;49m\u001b[38;5;241;43m.\u001b[39;49m\u001b[43m_check_indexing_error\u001b[49m\u001b[43m(\u001b[49m\u001b[43mkey\u001b[49m\u001b[43m)\u001b[49m\n\u001b[0;32m   3629\u001b[0m         \u001b[38;5;28;01mraise\u001b[39;00m\n\u001b[0;32m   3631\u001b[0m \u001b[38;5;66;03m# GH#42269\u001b[39;00m\n",
      "File \u001b[1;32m~\\anacondatrue\\lib\\site-packages\\pandas\\core\\indexes\\base.py:5637\u001b[0m, in \u001b[0;36mIndex._check_indexing_error\u001b[1;34m(self, key)\u001b[0m\n\u001b[0;32m   5633\u001b[0m \u001b[38;5;28;01mdef\u001b[39;00m \u001b[38;5;21m_check_indexing_error\u001b[39m(\u001b[38;5;28mself\u001b[39m, key):\n\u001b[0;32m   5634\u001b[0m     \u001b[38;5;28;01mif\u001b[39;00m \u001b[38;5;129;01mnot\u001b[39;00m is_scalar(key):\n\u001b[0;32m   5635\u001b[0m         \u001b[38;5;66;03m# if key is not a scalar, directly raise an error (the code below\u001b[39;00m\n\u001b[0;32m   5636\u001b[0m         \u001b[38;5;66;03m# would convert to numpy arrays and raise later any way) - GH29926\u001b[39;00m\n\u001b[1;32m-> 5637\u001b[0m         \u001b[38;5;28;01mraise\u001b[39;00m InvalidIndexError(key)\n",
      "\u001b[1;31mInvalidIndexError\u001b[0m: (slice(None, None, None), 0)"
     ]
    }
   ],
   "source": [
    "sample_df[:,0]"
   ]
  },
  {
   "cell_type": "code",
   "execution_count": 52,
   "id": "4aa87170",
   "metadata": {},
   "outputs": [
    {
     "data": {
      "text/plain": [
       "0    d\n",
       "1    e\n",
       "2    f\n",
       "Name: 0, dtype: object"
      ]
     },
     "execution_count": 52,
     "metadata": {},
     "output_type": "execute_result"
    }
   ],
   "source": [
    "sample_df.loc[:,0]"
   ]
  },
  {
   "cell_type": "code",
   "execution_count": 53,
   "id": "c95924af",
   "metadata": {
    "scrolled": true
   },
   "outputs": [
    {
     "data": {
      "text/plain": [
       "0    a\n",
       "1    b\n",
       "2    c\n",
       "Name: 1, dtype: object"
      ]
     },
     "execution_count": 53,
     "metadata": {},
     "output_type": "execute_result"
    }
   ],
   "source": [
    "sample_df.iloc[:,0]"
   ]
  },
  {
   "cell_type": "code",
   "execution_count": 54,
   "id": "293b3327",
   "metadata": {},
   "outputs": [
    {
     "data": {
      "text/plain": [
       "0    g\n",
       "1    h\n",
       "2    i\n",
       "Name: 0, dtype: object"
      ]
     },
     "execution_count": 54,
     "metadata": {},
     "output_type": "execute_result"
    }
   ],
   "source": [
    "sample_df.loc[:,'0']"
   ]
  },
  {
   "cell_type": "code",
   "execution_count": 55,
   "id": "beb5213f",
   "metadata": {},
   "outputs": [
    {
     "data": {
      "text/html": [
       "<div>\n",
       "<style scoped>\n",
       "    .dataframe tbody tr th:only-of-type {\n",
       "        vertical-align: middle;\n",
       "    }\n",
       "\n",
       "    .dataframe tbody tr th {\n",
       "        vertical-align: top;\n",
       "    }\n",
       "\n",
       "    .dataframe thead th {\n",
       "        text-align: right;\n",
       "    }\n",
       "</style>\n",
       "<table border=\"1\" class=\"dataframe\">\n",
       "  <thead>\n",
       "    <tr style=\"text-align: right;\">\n",
       "      <th></th>\n",
       "      <th>0</th>\n",
       "    </tr>\n",
       "  </thead>\n",
       "  <tbody>\n",
       "    <tr>\n",
       "      <th>0</th>\n",
       "      <td>g</td>\n",
       "    </tr>\n",
       "    <tr>\n",
       "      <th>1</th>\n",
       "      <td>h</td>\n",
       "    </tr>\n",
       "    <tr>\n",
       "      <th>2</th>\n",
       "      <td>i</td>\n",
       "    </tr>\n",
       "  </tbody>\n",
       "</table>\n",
       "</div>"
      ],
      "text/plain": [
       "   0\n",
       "0  g\n",
       "1  h\n",
       "2  i"
      ]
     },
     "execution_count": 55,
     "metadata": {},
     "output_type": "execute_result"
    }
   ],
   "source": [
    "sample_df.loc[:,['0']]"
   ]
  },
  {
   "cell_type": "code",
   "execution_count": 56,
   "id": "0f744c12",
   "metadata": {},
   "outputs": [
    {
     "ename": "ValueError",
     "evalue": "Location based indexing can only have [integer, integer slice (START point is INCLUDED, END point is EXCLUDED), listlike of integers, boolean array] types",
     "output_type": "error",
     "traceback": [
      "\u001b[0;31m---------------------------------------------------------------------------\u001b[0m",
      "\u001b[0;31mValueError\u001b[0m                                Traceback (most recent call last)",
      "\u001b[0;32m~/opt/anaconda3/lib/python3.9/site-packages/pandas/core/indexing.py\u001b[0m in \u001b[0;36m_validate_tuple_indexer\u001b[0;34m(self, key)\u001b[0m\n\u001b[1;32m    768\u001b[0m             \u001b[0;32mtry\u001b[0m\u001b[0;34m:\u001b[0m\u001b[0;34m\u001b[0m\u001b[0;34m\u001b[0m\u001b[0m\n\u001b[0;32m--> 769\u001b[0;31m                 \u001b[0mself\u001b[0m\u001b[0;34m.\u001b[0m\u001b[0m_validate_key\u001b[0m\u001b[0;34m(\u001b[0m\u001b[0mk\u001b[0m\u001b[0;34m,\u001b[0m \u001b[0mi\u001b[0m\u001b[0;34m)\u001b[0m\u001b[0;34m\u001b[0m\u001b[0;34m\u001b[0m\u001b[0m\n\u001b[0m\u001b[1;32m    770\u001b[0m             \u001b[0;32mexcept\u001b[0m \u001b[0mValueError\u001b[0m \u001b[0;32mas\u001b[0m \u001b[0merr\u001b[0m\u001b[0;34m:\u001b[0m\u001b[0;34m\u001b[0m\u001b[0;34m\u001b[0m\u001b[0m\n",
      "\u001b[0;32m~/opt/anaconda3/lib/python3.9/site-packages/pandas/core/indexing.py\u001b[0m in \u001b[0;36m_validate_key\u001b[0;34m(self, key, axis)\u001b[0m\n\u001b[1;32m   1380\u001b[0m         \u001b[0;32melse\u001b[0m\u001b[0;34m:\u001b[0m\u001b[0;34m\u001b[0m\u001b[0;34m\u001b[0m\u001b[0m\n\u001b[0;32m-> 1381\u001b[0;31m             \u001b[0;32mraise\u001b[0m \u001b[0mValueError\u001b[0m\u001b[0;34m(\u001b[0m\u001b[0;34mf\"Can only index by location with a [{self._valid_types}]\"\u001b[0m\u001b[0;34m)\u001b[0m\u001b[0;34m\u001b[0m\u001b[0;34m\u001b[0m\u001b[0m\n\u001b[0m\u001b[1;32m   1382\u001b[0m \u001b[0;34m\u001b[0m\u001b[0m\n",
      "\u001b[0;31mValueError\u001b[0m: Can only index by location with a [integer, integer slice (START point is INCLUDED, END point is EXCLUDED), listlike of integers, boolean array]",
      "\nThe above exception was the direct cause of the following exception:\n",
      "\u001b[0;31mValueError\u001b[0m                                Traceback (most recent call last)",
      "\u001b[0;32m/var/folders/y4/tkxp25f55d125kkq5rfnkkn00000gn/T/ipykernel_37759/1094224221.py\u001b[0m in \u001b[0;36m<module>\u001b[0;34m\u001b[0m\n\u001b[0;32m----> 1\u001b[0;31m \u001b[0msample_df\u001b[0m\u001b[0;34m.\u001b[0m\u001b[0miloc\u001b[0m\u001b[0;34m[\u001b[0m\u001b[0;34m:\u001b[0m\u001b[0;34m,\u001b[0m\u001b[0;34m'0'\u001b[0m\u001b[0;34m]\u001b[0m\u001b[0;34m\u001b[0m\u001b[0;34m\u001b[0m\u001b[0m\n\u001b[0m",
      "\u001b[0;32m~/opt/anaconda3/lib/python3.9/site-packages/pandas/core/indexing.py\u001b[0m in \u001b[0;36m__getitem__\u001b[0;34m(self, key)\u001b[0m\n\u001b[1;32m    959\u001b[0m             \u001b[0;32mif\u001b[0m \u001b[0mself\u001b[0m\u001b[0;34m.\u001b[0m\u001b[0m_is_scalar_access\u001b[0m\u001b[0;34m(\u001b[0m\u001b[0mkey\u001b[0m\u001b[0;34m)\u001b[0m\u001b[0;34m:\u001b[0m\u001b[0;34m\u001b[0m\u001b[0;34m\u001b[0m\u001b[0m\n\u001b[1;32m    960\u001b[0m                 \u001b[0;32mreturn\u001b[0m \u001b[0mself\u001b[0m\u001b[0;34m.\u001b[0m\u001b[0mobj\u001b[0m\u001b[0;34m.\u001b[0m\u001b[0m_get_value\u001b[0m\u001b[0;34m(\u001b[0m\u001b[0;34m*\u001b[0m\u001b[0mkey\u001b[0m\u001b[0;34m,\u001b[0m \u001b[0mtakeable\u001b[0m\u001b[0;34m=\u001b[0m\u001b[0mself\u001b[0m\u001b[0;34m.\u001b[0m\u001b[0m_takeable\u001b[0m\u001b[0;34m)\u001b[0m\u001b[0;34m\u001b[0m\u001b[0;34m\u001b[0m\u001b[0m\n\u001b[0;32m--> 961\u001b[0;31m             \u001b[0;32mreturn\u001b[0m \u001b[0mself\u001b[0m\u001b[0;34m.\u001b[0m\u001b[0m_getitem_tuple\u001b[0m\u001b[0;34m(\u001b[0m\u001b[0mkey\u001b[0m\u001b[0;34m)\u001b[0m\u001b[0;34m\u001b[0m\u001b[0;34m\u001b[0m\u001b[0m\n\u001b[0m\u001b[1;32m    962\u001b[0m         \u001b[0;32melse\u001b[0m\u001b[0;34m:\u001b[0m\u001b[0;34m\u001b[0m\u001b[0;34m\u001b[0m\u001b[0m\n\u001b[1;32m    963\u001b[0m             \u001b[0;31m# we by definition only have the 0th axis\u001b[0m\u001b[0;34m\u001b[0m\u001b[0;34m\u001b[0m\u001b[0m\n",
      "\u001b[0;32m~/opt/anaconda3/lib/python3.9/site-packages/pandas/core/indexing.py\u001b[0m in \u001b[0;36m_getitem_tuple\u001b[0;34m(self, tup)\u001b[0m\n\u001b[1;32m   1459\u001b[0m     \u001b[0;32mdef\u001b[0m \u001b[0m_getitem_tuple\u001b[0m\u001b[0;34m(\u001b[0m\u001b[0mself\u001b[0m\u001b[0;34m,\u001b[0m \u001b[0mtup\u001b[0m\u001b[0;34m:\u001b[0m \u001b[0mtuple\u001b[0m\u001b[0;34m)\u001b[0m\u001b[0;34m:\u001b[0m\u001b[0;34m\u001b[0m\u001b[0;34m\u001b[0m\u001b[0m\n\u001b[1;32m   1460\u001b[0m \u001b[0;34m\u001b[0m\u001b[0m\n\u001b[0;32m-> 1461\u001b[0;31m         \u001b[0mtup\u001b[0m \u001b[0;34m=\u001b[0m \u001b[0mself\u001b[0m\u001b[0;34m.\u001b[0m\u001b[0m_validate_tuple_indexer\u001b[0m\u001b[0;34m(\u001b[0m\u001b[0mtup\u001b[0m\u001b[0;34m)\u001b[0m\u001b[0;34m\u001b[0m\u001b[0;34m\u001b[0m\u001b[0m\n\u001b[0m\u001b[1;32m   1462\u001b[0m         \u001b[0;32mwith\u001b[0m \u001b[0msuppress\u001b[0m\u001b[0;34m(\u001b[0m\u001b[0mIndexingError\u001b[0m\u001b[0;34m)\u001b[0m\u001b[0;34m:\u001b[0m\u001b[0;34m\u001b[0m\u001b[0;34m\u001b[0m\u001b[0m\n\u001b[1;32m   1463\u001b[0m             \u001b[0;32mreturn\u001b[0m \u001b[0mself\u001b[0m\u001b[0;34m.\u001b[0m\u001b[0m_getitem_lowerdim\u001b[0m\u001b[0;34m(\u001b[0m\u001b[0mtup\u001b[0m\u001b[0;34m)\u001b[0m\u001b[0;34m\u001b[0m\u001b[0;34m\u001b[0m\u001b[0m\n",
      "\u001b[0;32m~/opt/anaconda3/lib/python3.9/site-packages/pandas/core/indexing.py\u001b[0m in \u001b[0;36m_validate_tuple_indexer\u001b[0;34m(self, key)\u001b[0m\n\u001b[1;32m    769\u001b[0m                 \u001b[0mself\u001b[0m\u001b[0;34m.\u001b[0m\u001b[0m_validate_key\u001b[0m\u001b[0;34m(\u001b[0m\u001b[0mk\u001b[0m\u001b[0;34m,\u001b[0m \u001b[0mi\u001b[0m\u001b[0;34m)\u001b[0m\u001b[0;34m\u001b[0m\u001b[0;34m\u001b[0m\u001b[0m\n\u001b[1;32m    770\u001b[0m             \u001b[0;32mexcept\u001b[0m \u001b[0mValueError\u001b[0m \u001b[0;32mas\u001b[0m \u001b[0merr\u001b[0m\u001b[0;34m:\u001b[0m\u001b[0;34m\u001b[0m\u001b[0;34m\u001b[0m\u001b[0m\n\u001b[0;32m--> 771\u001b[0;31m                 raise ValueError(\n\u001b[0m\u001b[1;32m    772\u001b[0m                     \u001b[0;34m\"Location based indexing can only have \"\u001b[0m\u001b[0;34m\u001b[0m\u001b[0;34m\u001b[0m\u001b[0m\n\u001b[1;32m    773\u001b[0m                     \u001b[0;34mf\"[{self._valid_types}] types\"\u001b[0m\u001b[0;34m\u001b[0m\u001b[0;34m\u001b[0m\u001b[0m\n",
      "\u001b[0;31mValueError\u001b[0m: Location based indexing can only have [integer, integer slice (START point is INCLUDED, END point is EXCLUDED), listlike of integers, boolean array] types"
     ]
    }
   ],
   "source": [
    "sample_df.iloc[:,'0']"
   ]
  },
  {
   "cell_type": "markdown",
   "id": "3a855c2b",
   "metadata": {
    "slideshow": {
     "slide_type": "slide"
    }
   },
   "source": [
    "## Solution"
   ]
  },
  {
   "cell_type": "code",
   "execution_count": 57,
   "id": "cdf286ec",
   "metadata": {
    "scrolled": true
   },
   "outputs": [
    {
     "data": {
      "text/html": [
       "<div>\n",
       "<style scoped>\n",
       "    .dataframe tbody tr th:only-of-type {\n",
       "        vertical-align: middle;\n",
       "    }\n",
       "\n",
       "    .dataframe tbody tr th {\n",
       "        vertical-align: top;\n",
       "    }\n",
       "\n",
       "    .dataframe thead th {\n",
       "        text-align: right;\n",
       "    }\n",
       "</style>\n",
       "<table border=\"1\" class=\"dataframe\">\n",
       "  <thead>\n",
       "    <tr style=\"text-align: right;\">\n",
       "      <th></th>\n",
       "      <th>1</th>\n",
       "      <th>0</th>\n",
       "      <th>0</th>\n",
       "    </tr>\n",
       "  </thead>\n",
       "  <tbody>\n",
       "    <tr>\n",
       "      <th>0</th>\n",
       "      <td>a</td>\n",
       "      <td>d</td>\n",
       "      <td>g</td>\n",
       "    </tr>\n",
       "    <tr>\n",
       "      <th>1</th>\n",
       "      <td>b</td>\n",
       "      <td>e</td>\n",
       "      <td>h</td>\n",
       "    </tr>\n",
       "  </tbody>\n",
       "</table>\n",
       "</div>"
      ],
      "text/plain": [
       "   1  0  0\n",
       "0  a  d  g\n",
       "1  b  e  h"
      ]
     },
     "execution_count": 57,
     "metadata": {},
     "output_type": "execute_result"
    }
   ],
   "source": [
    "sample_df[0:2]"
   ]
  },
  {
   "cell_type": "code",
   "execution_count": 58,
   "id": "b17b6cda",
   "metadata": {
    "scrolled": false
   },
   "outputs": [
    {
     "data": {
      "text/html": [
       "<div>\n",
       "<style scoped>\n",
       "    .dataframe tbody tr th:only-of-type {\n",
       "        vertical-align: middle;\n",
       "    }\n",
       "\n",
       "    .dataframe tbody tr th {\n",
       "        vertical-align: top;\n",
       "    }\n",
       "\n",
       "    .dataframe thead th {\n",
       "        text-align: right;\n",
       "    }\n",
       "</style>\n",
       "<table border=\"1\" class=\"dataframe\">\n",
       "  <thead>\n",
       "    <tr style=\"text-align: right;\">\n",
       "      <th></th>\n",
       "      <th>1</th>\n",
       "      <th>0</th>\n",
       "      <th>0</th>\n",
       "    </tr>\n",
       "  </thead>\n",
       "  <tbody>\n",
       "    <tr>\n",
       "      <th>0</th>\n",
       "      <td>a</td>\n",
       "      <td>d</td>\n",
       "      <td>g</td>\n",
       "    </tr>\n",
       "    <tr>\n",
       "      <th>1</th>\n",
       "      <td>b</td>\n",
       "      <td>e</td>\n",
       "      <td>h</td>\n",
       "    </tr>\n",
       "  </tbody>\n",
       "</table>\n",
       "</div>"
      ],
      "text/plain": [
       "   1  0  0\n",
       "0  a  d  g\n",
       "1  b  e  h"
      ]
     },
     "execution_count": 58,
     "metadata": {},
     "output_type": "execute_result"
    }
   ],
   "source": [
    "sample_df.iloc[0:2]"
   ]
  },
  {
   "cell_type": "code",
   "execution_count": 59,
   "id": "16c74463",
   "metadata": {
    "scrolled": false
   },
   "outputs": [
    {
     "data": {
      "text/html": [
       "<div>\n",
       "<style scoped>\n",
       "    .dataframe tbody tr th:only-of-type {\n",
       "        vertical-align: middle;\n",
       "    }\n",
       "\n",
       "    .dataframe tbody tr th {\n",
       "        vertical-align: top;\n",
       "    }\n",
       "\n",
       "    .dataframe thead th {\n",
       "        text-align: right;\n",
       "    }\n",
       "</style>\n",
       "<table border=\"1\" class=\"dataframe\">\n",
       "  <thead>\n",
       "    <tr style=\"text-align: right;\">\n",
       "      <th></th>\n",
       "      <th>1</th>\n",
       "      <th>0</th>\n",
       "      <th>0</th>\n",
       "    </tr>\n",
       "  </thead>\n",
       "  <tbody>\n",
       "    <tr>\n",
       "      <th>0</th>\n",
       "      <td>a</td>\n",
       "      <td>d</td>\n",
       "      <td>g</td>\n",
       "    </tr>\n",
       "    <tr>\n",
       "      <th>1</th>\n",
       "      <td>b</td>\n",
       "      <td>e</td>\n",
       "      <td>h</td>\n",
       "    </tr>\n",
       "    <tr>\n",
       "      <th>2</th>\n",
       "      <td>c</td>\n",
       "      <td>f</td>\n",
       "      <td>i</td>\n",
       "    </tr>\n",
       "  </tbody>\n",
       "</table>\n",
       "</div>"
      ],
      "text/plain": [
       "   1  0  0\n",
       "0  a  d  g\n",
       "1  b  e  h\n",
       "2  c  f  i"
      ]
     },
     "execution_count": 59,
     "metadata": {},
     "output_type": "execute_result"
    }
   ],
   "source": [
    "sample_df.loc[0:2]"
   ]
  },
  {
   "cell_type": "markdown",
   "id": "689f9a19",
   "metadata": {},
   "source": [
    "Remember with `loc`, the slicing includes the end points. Note all return a `DataFrame`."
   ]
  },
  {
   "cell_type": "markdown",
   "id": "7130a430",
   "metadata": {
    "slideshow": {
     "slide_type": "slide"
    }
   },
   "source": [
    "## Solution (continue)"
   ]
  },
  {
   "cell_type": "code",
   "execution_count": null,
   "id": "baa6c98f",
   "metadata": {},
   "outputs": [],
   "source": [
    "sample_df[:,0]"
   ]
  },
  {
   "cell_type": "markdown",
   "id": "2708de19",
   "metadata": {},
   "source": [
    "This throws an error as with `[]` only, we can only select rows or columns but not both."
   ]
  },
  {
   "cell_type": "code",
   "execution_count": 38,
   "id": "bde4ef16",
   "metadata": {
    "scrolled": true
   },
   "outputs": [
    {
     "data": {
      "text/plain": [
       "0    d\n",
       "1    e\n",
       "2    f\n",
       "Name: 0, dtype: object"
      ]
     },
     "execution_count": 38,
     "metadata": {},
     "output_type": "execute_result"
    }
   ],
   "source": [
    "sample_df.loc[:,0]"
   ]
  },
  {
   "cell_type": "markdown",
   "id": "7ebb1e3e",
   "metadata": {},
   "source": [
    "This gives the column with label `0`  as `Series`. "
   ]
  },
  {
   "cell_type": "code",
   "execution_count": 39,
   "id": "922d30bc",
   "metadata": {
    "scrolled": false
   },
   "outputs": [
    {
     "data": {
      "text/plain": [
       "0    a\n",
       "1    b\n",
       "2    c\n",
       "Name: 1, dtype: object"
      ]
     },
     "execution_count": 39,
     "metadata": {},
     "output_type": "execute_result"
    }
   ],
   "source": [
    "sample_df.iloc[:,0]"
   ]
  },
  {
   "cell_type": "markdown",
   "id": "b3837b5d",
   "metadata": {},
   "source": [
    "This gives the column with index 0 as `Series`."
   ]
  },
  {
   "cell_type": "markdown",
   "id": "630b90bf",
   "metadata": {
    "slideshow": {
     "slide_type": "slide"
    }
   },
   "source": [
    "## Solution (continue)"
   ]
  },
  {
   "cell_type": "code",
   "execution_count": 40,
   "id": "627e21df",
   "metadata": {},
   "outputs": [
    {
     "data": {
      "text/plain": [
       "0    g\n",
       "1    h\n",
       "2    i\n",
       "Name: 0, dtype: object"
      ]
     },
     "execution_count": 40,
     "metadata": {},
     "output_type": "execute_result"
    }
   ],
   "source": [
    "sample_df.loc[:,'0']"
   ]
  },
  {
   "cell_type": "markdown",
   "id": "46519acc",
   "metadata": {},
   "source": [
    "This gives the column with label `'0'`  as `Series`. "
   ]
  },
  {
   "cell_type": "code",
   "execution_count": 41,
   "id": "081a89c0",
   "metadata": {},
   "outputs": [
    {
     "data": {
      "text/html": [
       "<div>\n",
       "<style scoped>\n",
       "    .dataframe tbody tr th:only-of-type {\n",
       "        vertical-align: middle;\n",
       "    }\n",
       "\n",
       "    .dataframe tbody tr th {\n",
       "        vertical-align: top;\n",
       "    }\n",
       "\n",
       "    .dataframe thead th {\n",
       "        text-align: right;\n",
       "    }\n",
       "</style>\n",
       "<table border=\"1\" class=\"dataframe\">\n",
       "  <thead>\n",
       "    <tr style=\"text-align: right;\">\n",
       "      <th></th>\n",
       "      <th>0</th>\n",
       "    </tr>\n",
       "  </thead>\n",
       "  <tbody>\n",
       "    <tr>\n",
       "      <th>0</th>\n",
       "      <td>g</td>\n",
       "    </tr>\n",
       "    <tr>\n",
       "      <th>1</th>\n",
       "      <td>h</td>\n",
       "    </tr>\n",
       "    <tr>\n",
       "      <th>2</th>\n",
       "      <td>i</td>\n",
       "    </tr>\n",
       "  </tbody>\n",
       "</table>\n",
       "</div>"
      ],
      "text/plain": [
       "   0\n",
       "0  g\n",
       "1  h\n",
       "2  i"
      ]
     },
     "execution_count": 41,
     "metadata": {},
     "output_type": "execute_result"
    }
   ],
   "source": [
    "sample_df.loc[:,['0']]"
   ]
  },
  {
   "cell_type": "markdown",
   "id": "e1334a51",
   "metadata": {},
   "source": [
    "This gives the column with label `'0'`  as `DataFrame`. "
   ]
  },
  {
   "cell_type": "code",
   "execution_count": null,
   "id": "64ef5ad3",
   "metadata": {},
   "outputs": [],
   "source": [
    "sample_df.iloc[:,'0']"
   ]
  },
  {
   "cell_type": "markdown",
   "id": "be5c15d4",
   "metadata": {},
   "source": [
    "This throws an error as `iloc` is for index, not labels."
   ]
  },
  {
   "cell_type": "markdown",
   "id": "670cf7e8",
   "metadata": {
    "slideshow": {
     "slide_type": "slide"
    }
   },
   "source": [
    "## Arithmetic and data alignment\n",
    "\n",
    "Like `np.ndarray`, we can do element-wise calculations (and other manipulations) very easily on `Pandas` `Series` and `DataFrame`. For example:"
   ]
  },
  {
   "cell_type": "code",
   "execution_count": 11,
   "id": "72a6f0bf",
   "metadata": {},
   "outputs": [
    {
     "data": {
      "text/html": [
       "<div>\n",
       "<style scoped>\n",
       "    .dataframe tbody tr th:only-of-type {\n",
       "        vertical-align: middle;\n",
       "    }\n",
       "\n",
       "    .dataframe tbody tr th {\n",
       "        vertical-align: top;\n",
       "    }\n",
       "\n",
       "    .dataframe thead th {\n",
       "        text-align: right;\n",
       "    }\n",
       "</style>\n",
       "<table border=\"1\" class=\"dataframe\">\n",
       "  <thead>\n",
       "    <tr style=\"text-align: right;\">\n",
       "      <th></th>\n",
       "      <th>ps_1</th>\n",
       "      <th>ps_2</th>\n",
       "    </tr>\n",
       "  </thead>\n",
       "  <tbody>\n",
       "    <tr>\n",
       "      <th>Harry</th>\n",
       "      <td>70</td>\n",
       "      <td>88</td>\n",
       "    </tr>\n",
       "    <tr>\n",
       "      <th>Hermione</th>\n",
       "      <td>100</td>\n",
       "      <td>92</td>\n",
       "    </tr>\n",
       "    <tr>\n",
       "      <th>Ron</th>\n",
       "      <td>82</td>\n",
       "      <td>83</td>\n",
       "    </tr>\n",
       "  </tbody>\n",
       "</table>\n",
       "</div>"
      ],
      "text/plain": [
       "          ps_1  ps_2\n",
       "Harry       70    88\n",
       "Hermione   100    92\n",
       "Ron         82    83"
      ]
     },
     "execution_count": 11,
     "metadata": {},
     "output_type": "execute_result"
    }
   ],
   "source": [
    "marks = pd.DataFrame({'ps_1': [70, 100, 82], 'ps_2': [88, 92, 83]}, \n",
    "                     index=['Harry', 'Hermione', 'Ron'])\n",
    "marks"
   ]
  },
  {
   "cell_type": "code",
   "execution_count": 12,
   "id": "10ac9287",
   "metadata": {
    "scrolled": true
   },
   "outputs": [
    {
     "data": {
      "text/plain": [
       "Harry       158\n",
       "Hermione    192\n",
       "Ron         165\n",
       "dtype: int64"
      ]
     },
     "execution_count": 12,
     "metadata": {},
     "output_type": "execute_result"
    }
   ],
   "source": [
    "marks['ps_1'] + marks['ps_2']"
   ]
  },
  {
   "cell_type": "markdown",
   "id": "cdd0d313",
   "metadata": {},
   "source": [
    "However, notice that the alignment is based on the row label (`Index`), not the location:"
   ]
  },
  {
   "cell_type": "code",
   "execution_count": 14,
   "id": "71577a9a",
   "metadata": {},
   "outputs": [
    {
     "data": {
      "text/plain": [
       "pandas.core.series.Series"
      ]
     },
     "execution_count": 14,
     "metadata": {},
     "output_type": "execute_result"
    }
   ],
   "source": [
    "ls = [100, 70, 90]\n",
    "type(pd.Series(ls))"
   ]
  },
  {
   "cell_type": "code",
   "execution_count": 16,
   "id": "9241f56f",
   "metadata": {},
   "outputs": [
    {
     "data": {
      "text/plain": [
       "Harry        80.0\n",
       "Hermione    100.0\n",
       "Ron          76.0\n",
       "dtype: float64"
      ]
     },
     "execution_count": 16,
     "metadata": {},
     "output_type": "execute_result"
    }
   ],
   "source": [
    "ps_3 = pd.Series([100, 70, 90], index=['Hermione', 'Ron', 'Harry'])\n",
    "(marks['ps_1'] + ps_3)/2"
   ]
  },
  {
   "cell_type": "code",
   "execution_count": 18,
   "id": "f3250d0c",
   "metadata": {},
   "outputs": [
    {
     "data": {
      "text/html": [
       "<div>\n",
       "<style scoped>\n",
       "    .dataframe tbody tr th:only-of-type {\n",
       "        vertical-align: middle;\n",
       "    }\n",
       "\n",
       "    .dataframe tbody tr th {\n",
       "        vertical-align: top;\n",
       "    }\n",
       "\n",
       "    .dataframe thead th {\n",
       "        text-align: right;\n",
       "    }\n",
       "</style>\n",
       "<table border=\"1\" class=\"dataframe\">\n",
       "  <thead>\n",
       "    <tr style=\"text-align: right;\">\n",
       "      <th></th>\n",
       "      <th>ps_1</th>\n",
       "      <th>ps_2</th>\n",
       "      <th>ps_3</th>\n",
       "    </tr>\n",
       "  </thead>\n",
       "  <tbody>\n",
       "    <tr>\n",
       "      <th>Harry</th>\n",
       "      <td>70</td>\n",
       "      <td>88</td>\n",
       "      <td>90</td>\n",
       "    </tr>\n",
       "    <tr>\n",
       "      <th>Hermione</th>\n",
       "      <td>100</td>\n",
       "      <td>92</td>\n",
       "      <td>100</td>\n",
       "    </tr>\n",
       "    <tr>\n",
       "      <th>Ron</th>\n",
       "      <td>82</td>\n",
       "      <td>83</td>\n",
       "      <td>70</td>\n",
       "    </tr>\n",
       "  </tbody>\n",
       "</table>\n",
       "</div>"
      ],
      "text/plain": [
       "          ps_1  ps_2  ps_3\n",
       "Harry       70    88    90\n",
       "Hermione   100    92   100\n",
       "Ron         82    83    70"
      ]
     },
     "execution_count": 18,
     "metadata": {},
     "output_type": "execute_result"
    }
   ],
   "source": [
    "marks['ps_3'] = ps_3\n",
    "marks"
   ]
  },
  {
   "cell_type": "markdown",
   "id": "465d6a6e",
   "metadata": {
    "slideshow": {
     "slide_type": "slide"
    }
   },
   "source": [
    "# Data exploration"
   ]
  },
  {
   "cell_type": "markdown",
   "id": "3ff64deb",
   "metadata": {
    "slideshow": {
     "slide_type": "slide"
    }
   },
   "source": [
    "## Recall: Data science project lifecycle\n",
    "\n",
    "Before we can analyse the data, we should explore the data:\n",
    "<br><center><img src=\"figs/ds_process_2.png\" width=\"600\"></center>"
   ]
  },
  {
   "cell_type": "markdown",
   "id": "4cdd417e",
   "metadata": {
    "slideshow": {
     "slide_type": "slide"
    }
   },
   "source": [
    "## Data exploration\n",
    "\n",
    "Data exploration helps to develop a sound understanding of the data we need before doing the actual analysis. For example:\n",
    "* What does the data contain? \n",
    "    * How many observations are there? What attributes do we have? \n",
    "* Do we need some more data to answer the questions that we have?\n",
    "* What kind of questions can we ask?\n",
    "* Are there anomalies or egregious issues? \n",
    "* Any interesting patterns?\n"
   ]
  },
  {
   "cell_type": "markdown",
   "id": "2dde1fda",
   "metadata": {
    "slideshow": {
     "slide_type": "slide"
    }
   },
   "source": [
    "## Data exploration: common steps\n",
    "\n",
    "Some common steps of data exploration:\n",
    "* Quick look of the data to learn about\n",
    "    * Size of the data\n",
    "    * Attributes \n",
    "* Check if there is any issue with the data (e.g. missing or wrong data)\n",
    "* Use some simple descriptive statistics / graphs to get some insights about the data"
   ]
  },
  {
   "cell_type": "markdown",
   "id": "381c7338",
   "metadata": {
    "slideshow": {
     "slide_type": "slide"
    }
   },
   "source": [
    "## Data exploration: demo\n",
    "\n",
    "In this part, we will use the DC character dataset from [FiveThirtyEight](https://github.com/fivethirtyeight/data/tree/master/comic-characters) to demonstrate the data exploration process.\n",
    "\n",
    "* Following [this article](https://fivethirtyeight.com/features/women-in-comic-books/#fn-8), the question we want to answer is whether DC characters are still dominated by males based on the given dataset"
   ]
  },
  {
   "cell_type": "markdown",
   "id": "15b05499",
   "metadata": {
    "slideshow": {
     "slide_type": "slide"
    }
   },
   "source": [
    "## Load in the data\n",
    "\n",
    "We load in the data using `pd.read_csv()`:"
   ]
  },
  {
   "cell_type": "code",
   "execution_count": 19,
   "id": "daec03d4",
   "metadata": {},
   "outputs": [],
   "source": [
    "import pandas as pd\n",
    "dc = pd.read_csv('data/dc-wikia-data.csv')"
   ]
  },
  {
   "cell_type": "markdown",
   "id": "7da05485",
   "metadata": {
    "slideshow": {
     "slide_type": "slide"
    }
   },
   "source": [
    "## Quick look of the data\n",
    "\n",
    "We can see what kind of information the dataset provides by quickly have a look of the subset of the data:"
   ]
  },
  {
   "cell_type": "code",
   "execution_count": 20,
   "id": "9c8f4066",
   "metadata": {
    "scrolled": false
   },
   "outputs": [
    {
     "data": {
      "text/html": [
       "<div>\n",
       "<style scoped>\n",
       "    .dataframe tbody tr th:only-of-type {\n",
       "        vertical-align: middle;\n",
       "    }\n",
       "\n",
       "    .dataframe tbody tr th {\n",
       "        vertical-align: top;\n",
       "    }\n",
       "\n",
       "    .dataframe thead th {\n",
       "        text-align: right;\n",
       "    }\n",
       "</style>\n",
       "<table border=\"1\" class=\"dataframe\">\n",
       "  <thead>\n",
       "    <tr style=\"text-align: right;\">\n",
       "      <th></th>\n",
       "      <th>page_id</th>\n",
       "      <th>name</th>\n",
       "      <th>urlslug</th>\n",
       "      <th>ID</th>\n",
       "      <th>ALIGN</th>\n",
       "      <th>EYE</th>\n",
       "      <th>HAIR</th>\n",
       "      <th>SEX</th>\n",
       "      <th>GSM</th>\n",
       "      <th>ALIVE</th>\n",
       "      <th>APPEARANCES</th>\n",
       "      <th>FIRST APPEARANCE</th>\n",
       "      <th>YEAR</th>\n",
       "    </tr>\n",
       "  </thead>\n",
       "  <tbody>\n",
       "    <tr>\n",
       "      <th>0</th>\n",
       "      <td>1422</td>\n",
       "      <td>Batman (Bruce Wayne)</td>\n",
       "      <td>\\/wiki\\/Batman_(Bruce_Wayne)</td>\n",
       "      <td>Secret Identity</td>\n",
       "      <td>Good Characters</td>\n",
       "      <td>Blue Eyes</td>\n",
       "      <td>Black Hair</td>\n",
       "      <td>Male Characters</td>\n",
       "      <td>NaN</td>\n",
       "      <td>Living Characters</td>\n",
       "      <td>3093.0</td>\n",
       "      <td>1939, May</td>\n",
       "      <td>1939.0</td>\n",
       "    </tr>\n",
       "    <tr>\n",
       "      <th>1</th>\n",
       "      <td>23387</td>\n",
       "      <td>Superman (Clark Kent)</td>\n",
       "      <td>\\/wiki\\/Superman_(Clark_Kent)</td>\n",
       "      <td>Secret Identity</td>\n",
       "      <td>Good Characters</td>\n",
       "      <td>Blue Eyes</td>\n",
       "      <td>Black Hair</td>\n",
       "      <td>Male Characters</td>\n",
       "      <td>NaN</td>\n",
       "      <td>Living Characters</td>\n",
       "      <td>2496.0</td>\n",
       "      <td>1986, October</td>\n",
       "      <td>1986.0</td>\n",
       "    </tr>\n",
       "  </tbody>\n",
       "</table>\n",
       "</div>"
      ],
      "text/plain": [
       "   page_id                   name                        urlslug  \\\n",
       "0     1422   Batman (Bruce Wayne)   \\/wiki\\/Batman_(Bruce_Wayne)   \n",
       "1    23387  Superman (Clark Kent)  \\/wiki\\/Superman_(Clark_Kent)   \n",
       "\n",
       "                ID            ALIGN        EYE        HAIR              SEX  \\\n",
       "0  Secret Identity  Good Characters  Blue Eyes  Black Hair  Male Characters   \n",
       "1  Secret Identity  Good Characters  Blue Eyes  Black Hair  Male Characters   \n",
       "\n",
       "   GSM              ALIVE  APPEARANCES FIRST APPEARANCE    YEAR  \n",
       "0  NaN  Living Characters       3093.0        1939, May  1939.0  \n",
       "1  NaN  Living Characters       2496.0    1986, October  1986.0  "
      ]
     },
     "metadata": {},
     "output_type": "display_data"
    }
   ],
   "source": [
    "display(dc.head(2))"
   ]
  },
  {
   "cell_type": "code",
   "execution_count": 21,
   "id": "5e2b9401",
   "metadata": {},
   "outputs": [
    {
     "data": {
      "text/html": [
       "<div>\n",
       "<style scoped>\n",
       "    .dataframe tbody tr th:only-of-type {\n",
       "        vertical-align: middle;\n",
       "    }\n",
       "\n",
       "    .dataframe tbody tr th {\n",
       "        vertical-align: top;\n",
       "    }\n",
       "\n",
       "    .dataframe thead th {\n",
       "        text-align: right;\n",
       "    }\n",
       "</style>\n",
       "<table border=\"1\" class=\"dataframe\">\n",
       "  <thead>\n",
       "    <tr style=\"text-align: right;\">\n",
       "      <th></th>\n",
       "      <th>page_id</th>\n",
       "      <th>name</th>\n",
       "      <th>urlslug</th>\n",
       "      <th>ID</th>\n",
       "      <th>ALIGN</th>\n",
       "      <th>EYE</th>\n",
       "      <th>HAIR</th>\n",
       "      <th>SEX</th>\n",
       "      <th>GSM</th>\n",
       "      <th>ALIVE</th>\n",
       "      <th>APPEARANCES</th>\n",
       "      <th>FIRST APPEARANCE</th>\n",
       "      <th>YEAR</th>\n",
       "    </tr>\n",
       "  </thead>\n",
       "  <tbody>\n",
       "    <tr>\n",
       "      <th>6894</th>\n",
       "      <td>283471</td>\n",
       "      <td>William McKinley (New Earth)</td>\n",
       "      <td>\\/wiki\\/William_McKinley_(New_Earth)</td>\n",
       "      <td>Public Identity</td>\n",
       "      <td>Good Characters</td>\n",
       "      <td>NaN</td>\n",
       "      <td>NaN</td>\n",
       "      <td>Male Characters</td>\n",
       "      <td>NaN</td>\n",
       "      <td>Living Characters</td>\n",
       "      <td>NaN</td>\n",
       "      <td>NaN</td>\n",
       "      <td>NaN</td>\n",
       "    </tr>\n",
       "    <tr>\n",
       "      <th>6895</th>\n",
       "      <td>150660</td>\n",
       "      <td>Mookie (New Earth)</td>\n",
       "      <td>\\/wiki\\/Mookie_(New_Earth)</td>\n",
       "      <td>Public Identity</td>\n",
       "      <td>Bad Characters</td>\n",
       "      <td>Blue Eyes</td>\n",
       "      <td>Blond Hair</td>\n",
       "      <td>Male Characters</td>\n",
       "      <td>NaN</td>\n",
       "      <td>Living Characters</td>\n",
       "      <td>NaN</td>\n",
       "      <td>NaN</td>\n",
       "      <td>NaN</td>\n",
       "    </tr>\n",
       "  </tbody>\n",
       "</table>\n",
       "</div>"
      ],
      "text/plain": [
       "      page_id                          name  \\\n",
       "6894   283471  William McKinley (New Earth)   \n",
       "6895   150660            Mookie (New Earth)   \n",
       "\n",
       "                                   urlslug               ID            ALIGN  \\\n",
       "6894  \\/wiki\\/William_McKinley_(New_Earth)  Public Identity  Good Characters   \n",
       "6895            \\/wiki\\/Mookie_(New_Earth)  Public Identity   Bad Characters   \n",
       "\n",
       "            EYE        HAIR              SEX  GSM              ALIVE  \\\n",
       "6894        NaN         NaN  Male Characters  NaN  Living Characters   \n",
       "6895  Blue Eyes  Blond Hair  Male Characters  NaN  Living Characters   \n",
       "\n",
       "      APPEARANCES FIRST APPEARANCE  YEAR  \n",
       "6894          NaN              NaN   NaN  \n",
       "6895          NaN              NaN   NaN  "
      ]
     },
     "metadata": {},
     "output_type": "display_data"
    }
   ],
   "source": [
    "display(dc.tail(2))"
   ]
  },
  {
   "cell_type": "markdown",
   "id": "ad20fa7b",
   "metadata": {},
   "source": [
    "Here we use [`head()`](https://pandas.pydata.org/docs/reference/api/pandas.DataFrame.head.html) or [`tail()`](https://pandas.pydata.org/docs/reference/api/pandas.DataFrame.tail.html) to have a look of the first / last few rows. What is `GSM`?"
   ]
  },
  {
   "cell_type": "markdown",
   "id": "3459f2bd",
   "metadata": {
    "slideshow": {
     "slide_type": "slide"
    }
   },
   "source": [
    "## Description of the data\n",
    "\n",
    "From the GitHub page where the data is available:\n",
    "<br><center><img src=\"figs/metadata.png\" width=\"550\"></center>\n",
    "\n",
    "This page provides us the _metadata_ of the DC character data."
   ]
  },
  {
   "cell_type": "markdown",
   "id": "1162bd1c",
   "metadata": {
    "slideshow": {
     "slide_type": "slide"
    }
   },
   "source": [
    "## Metadata\n",
    "\n",
    "Metadata is \"data about data\", i.e. data that provides information about the main data, but it is not part of the main data.\n",
    "\n",
    "* For the DC character dataset: \n",
    "    * Introduction of the data\n",
    "    * Data source (including data range)\n",
    "    * Information about the columns"
   ]
  },
  {
   "cell_type": "markdown",
   "id": "7cae4f4e",
   "metadata": {
    "slideshow": {
     "slide_type": "slide"
    }
   },
   "source": [
    "## Check if it contains all information we need\n",
    "\n",
    "We can see that for each character, we have the information about:\n",
    "* Name (with the universe information)\n",
    "* Some information about where the data is from (url, page_id)\n",
    "* Characteristics of the character like identity, gender, align, physical appearance\n",
    "* Appearances in the comic like year of first appearance and number of appearances\n",
    "\n",
    "For our analysis, we need the gender and the year of appearance, and maybe we will use alignment and the number of appearances\n",
    "* The dataset has all the information we need (although it is not up-to-date), but it also has some information we do not need (e.g. physical appearance)"
   ]
  },
  {
   "cell_type": "markdown",
   "id": "01ca00d4",
   "metadata": {
    "slideshow": {
     "slide_type": "slide"
    }
   },
   "source": [
    "## Quick look of the data - identify possible issues\n",
    "\n",
    "We can also notice some possible issues with the data:"
   ]
  },
  {
   "cell_type": "code",
   "execution_count": 3,
   "id": "53e8eff3",
   "metadata": {
    "scrolled": false
   },
   "outputs": [
    {
     "data": {
      "text/html": [
       "<div>\n",
       "<style scoped>\n",
       "    .dataframe tbody tr th:only-of-type {\n",
       "        vertical-align: middle;\n",
       "    }\n",
       "\n",
       "    .dataframe tbody tr th {\n",
       "        vertical-align: top;\n",
       "    }\n",
       "\n",
       "    .dataframe thead th {\n",
       "        text-align: right;\n",
       "    }\n",
       "</style>\n",
       "<table border=\"1\" class=\"dataframe\">\n",
       "  <thead>\n",
       "    <tr style=\"text-align: right;\">\n",
       "      <th></th>\n",
       "      <th>page_id</th>\n",
       "      <th>name</th>\n",
       "      <th>urlslug</th>\n",
       "      <th>ID</th>\n",
       "      <th>ALIGN</th>\n",
       "      <th>EYE</th>\n",
       "      <th>HAIR</th>\n",
       "      <th>SEX</th>\n",
       "      <th>GSM</th>\n",
       "      <th>ALIVE</th>\n",
       "      <th>APPEARANCES</th>\n",
       "      <th>FIRST APPEARANCE</th>\n",
       "      <th>YEAR</th>\n",
       "    </tr>\n",
       "  </thead>\n",
       "  <tbody>\n",
       "    <tr>\n",
       "      <th>0</th>\n",
       "      <td>1422</td>\n",
       "      <td>Batman (Bruce Wayne)</td>\n",
       "      <td>\\/wiki\\/Batman_(Bruce_Wayne)</td>\n",
       "      <td>Secret Identity</td>\n",
       "      <td>Good Characters</td>\n",
       "      <td>Blue Eyes</td>\n",
       "      <td>Black Hair</td>\n",
       "      <td>Male Characters</td>\n",
       "      <td>NaN</td>\n",
       "      <td>Living Characters</td>\n",
       "      <td>3093.0</td>\n",
       "      <td>1939, May</td>\n",
       "      <td>1939.0</td>\n",
       "    </tr>\n",
       "  </tbody>\n",
       "</table>\n",
       "</div>"
      ],
      "text/plain": [
       "   page_id                  name                       urlslug  \\\n",
       "0     1422  Batman (Bruce Wayne)  \\/wiki\\/Batman_(Bruce_Wayne)   \n",
       "\n",
       "                ID            ALIGN        EYE        HAIR              SEX  \\\n",
       "0  Secret Identity  Good Characters  Blue Eyes  Black Hair  Male Characters   \n",
       "\n",
       "   GSM              ALIVE  APPEARANCES FIRST APPEARANCE    YEAR  \n",
       "0  NaN  Living Characters       3093.0        1939, May  1939.0  "
      ]
     },
     "metadata": {},
     "output_type": "display_data"
    },
    {
     "data": {
      "text/html": [
       "<div>\n",
       "<style scoped>\n",
       "    .dataframe tbody tr th:only-of-type {\n",
       "        vertical-align: middle;\n",
       "    }\n",
       "\n",
       "    .dataframe tbody tr th {\n",
       "        vertical-align: top;\n",
       "    }\n",
       "\n",
       "    .dataframe thead th {\n",
       "        text-align: right;\n",
       "    }\n",
       "</style>\n",
       "<table border=\"1\" class=\"dataframe\">\n",
       "  <thead>\n",
       "    <tr style=\"text-align: right;\">\n",
       "      <th></th>\n",
       "      <th>page_id</th>\n",
       "      <th>name</th>\n",
       "      <th>urlslug</th>\n",
       "      <th>ID</th>\n",
       "      <th>ALIGN</th>\n",
       "      <th>EYE</th>\n",
       "      <th>HAIR</th>\n",
       "      <th>SEX</th>\n",
       "      <th>GSM</th>\n",
       "      <th>ALIVE</th>\n",
       "      <th>APPEARANCES</th>\n",
       "      <th>FIRST APPEARANCE</th>\n",
       "      <th>YEAR</th>\n",
       "    </tr>\n",
       "  </thead>\n",
       "  <tbody>\n",
       "    <tr>\n",
       "      <th>6895</th>\n",
       "      <td>150660</td>\n",
       "      <td>Mookie (New Earth)</td>\n",
       "      <td>\\/wiki\\/Mookie_(New_Earth)</td>\n",
       "      <td>Public Identity</td>\n",
       "      <td>Bad Characters</td>\n",
       "      <td>Blue Eyes</td>\n",
       "      <td>Blond Hair</td>\n",
       "      <td>Male Characters</td>\n",
       "      <td>NaN</td>\n",
       "      <td>Living Characters</td>\n",
       "      <td>NaN</td>\n",
       "      <td>NaN</td>\n",
       "      <td>NaN</td>\n",
       "    </tr>\n",
       "  </tbody>\n",
       "</table>\n",
       "</div>"
      ],
      "text/plain": [
       "      page_id                name                     urlslug  \\\n",
       "6895   150660  Mookie (New Earth)  \\/wiki\\/Mookie_(New_Earth)   \n",
       "\n",
       "                   ID           ALIGN        EYE        HAIR              SEX  \\\n",
       "6895  Public Identity  Bad Characters  Blue Eyes  Blond Hair  Male Characters   \n",
       "\n",
       "      GSM              ALIVE  APPEARANCES FIRST APPEARANCE  YEAR  \n",
       "6895  NaN  Living Characters          NaN              NaN   NaN  "
      ]
     },
     "metadata": {},
     "output_type": "display_data"
    }
   ],
   "source": [
    "display(dc.head(1))\n",
    "display(dc.tail(1))"
   ]
  },
  {
   "cell_type": "markdown",
   "id": "a84f279e",
   "metadata": {},
   "source": [
    "* Missing data: `NaN` hints that the corresponding data is not available in the dataset\n",
    "* Some pre-processing may be needed: \n",
    "    * `YEAR` is now floating point numbers\n",
    "    * Depending on the analysis, we may want to separate the information of actual name and universe from the column \"name\""
   ]
  },
  {
   "cell_type": "markdown",
   "id": "955381d3",
   "metadata": {
    "slideshow": {
     "slide_type": "slide"
    }
   },
   "source": [
    "## Get the dimension of the data\n",
    "\n",
    "For tabular data, the number of observations is equal to the number of rows and the number of attributes (or variables) is equal to the number of columns.\n",
    "\n",
    "For `pd.DataFrame`, we can quickly check the dimension of the data by [`shape`](https://pandas.pydata.org/docs/reference/api/pandas.DataFrame.shape.html?highlight=shape):"
   ]
  },
  {
   "cell_type": "code",
   "execution_count": 4,
   "id": "19e83d26",
   "metadata": {
    "scrolled": true
   },
   "outputs": [
    {
     "data": {
      "text/plain": [
       "(6896, 13)"
      ]
     },
     "execution_count": 4,
     "metadata": {},
     "output_type": "execute_result"
    }
   ],
   "source": [
    "dc.shape"
   ]
  },
  {
   "cell_type": "markdown",
   "id": "0e4ad0d2",
   "metadata": {},
   "source": [
    "The shape is a tuple with the number of rows and the number of columns."
   ]
  },
  {
   "cell_type": "markdown",
   "id": "41fba19a",
   "metadata": {
    "slideshow": {
     "slide_type": "slide"
    }
   },
   "source": [
    "## Data type\n",
    "\n",
    "Check if the type of data is what you expected by `dtypes`:"
   ]
  },
  {
   "cell_type": "code",
   "execution_count": 5,
   "id": "120c442f",
   "metadata": {
    "scrolled": false
   },
   "outputs": [
    {
     "data": {
      "text/plain": [
       "page_id               int64\n",
       "name                 object\n",
       "urlslug              object\n",
       "ID                   object\n",
       "ALIGN                object\n",
       "EYE                  object\n",
       "HAIR                 object\n",
       "SEX                  object\n",
       "GSM                  object\n",
       "ALIVE                object\n",
       "APPEARANCES         float64\n",
       "FIRST APPEARANCE     object\n",
       "YEAR                float64\n",
       "dtype: object"
      ]
     },
     "execution_count": 5,
     "metadata": {},
     "output_type": "execute_result"
    }
   ],
   "source": [
    "dc.dtypes "
   ]
  },
  {
   "cell_type": "code",
   "execution_count": 24,
   "id": "39cc41ec",
   "metadata": {},
   "outputs": [
    {
     "ename": "IntCastingNaNError",
     "evalue": "Cannot convert non-finite values (NA or inf) to integer",
     "output_type": "error",
     "traceback": [
      "\u001b[1;31m---------------------------------------------------------------------------\u001b[0m",
      "\u001b[1;31mIntCastingNaNError\u001b[0m                        Traceback (most recent call last)",
      "Input \u001b[1;32mIn [24]\u001b[0m, in \u001b[0;36m<cell line: 1>\u001b[1;34m()\u001b[0m\n\u001b[1;32m----> 1\u001b[0m \u001b[43mdc\u001b[49m\u001b[43m[\u001b[49m\u001b[43m[\u001b[49m\u001b[38;5;124;43m\"\u001b[39;49m\u001b[38;5;124;43mYEAR\u001b[39;49m\u001b[38;5;124;43m\"\u001b[39;49m\u001b[43m]\u001b[49m\u001b[43m]\u001b[49m\u001b[38;5;241;43m.\u001b[39;49m\u001b[43mastype\u001b[49m\u001b[43m(\u001b[49m\u001b[38;5;28;43mint\u001b[39;49m\u001b[43m)\u001b[49m\n",
      "File \u001b[1;32m~\\anacondatrue\\lib\\site-packages\\pandas\\core\\generic.py:5912\u001b[0m, in \u001b[0;36mNDFrame.astype\u001b[1;34m(self, dtype, copy, errors)\u001b[0m\n\u001b[0;32m   5905\u001b[0m     results \u001b[38;5;241m=\u001b[39m [\n\u001b[0;32m   5906\u001b[0m         \u001b[38;5;28mself\u001b[39m\u001b[38;5;241m.\u001b[39miloc[:, i]\u001b[38;5;241m.\u001b[39mastype(dtype, copy\u001b[38;5;241m=\u001b[39mcopy)\n\u001b[0;32m   5907\u001b[0m         \u001b[38;5;28;01mfor\u001b[39;00m i \u001b[38;5;129;01min\u001b[39;00m \u001b[38;5;28mrange\u001b[39m(\u001b[38;5;28mlen\u001b[39m(\u001b[38;5;28mself\u001b[39m\u001b[38;5;241m.\u001b[39mcolumns))\n\u001b[0;32m   5908\u001b[0m     ]\n\u001b[0;32m   5910\u001b[0m \u001b[38;5;28;01melse\u001b[39;00m:\n\u001b[0;32m   5911\u001b[0m     \u001b[38;5;66;03m# else, only a single dtype is given\u001b[39;00m\n\u001b[1;32m-> 5912\u001b[0m     new_data \u001b[38;5;241m=\u001b[39m \u001b[38;5;28;43mself\u001b[39;49m\u001b[38;5;241;43m.\u001b[39;49m\u001b[43m_mgr\u001b[49m\u001b[38;5;241;43m.\u001b[39;49m\u001b[43mastype\u001b[49m\u001b[43m(\u001b[49m\u001b[43mdtype\u001b[49m\u001b[38;5;241;43m=\u001b[39;49m\u001b[43mdtype\u001b[49m\u001b[43m,\u001b[49m\u001b[43m \u001b[49m\u001b[43mcopy\u001b[49m\u001b[38;5;241;43m=\u001b[39;49m\u001b[43mcopy\u001b[49m\u001b[43m,\u001b[49m\u001b[43m \u001b[49m\u001b[43merrors\u001b[49m\u001b[38;5;241;43m=\u001b[39;49m\u001b[43merrors\u001b[49m\u001b[43m)\u001b[49m\n\u001b[0;32m   5913\u001b[0m     \u001b[38;5;28;01mreturn\u001b[39;00m \u001b[38;5;28mself\u001b[39m\u001b[38;5;241m.\u001b[39m_constructor(new_data)\u001b[38;5;241m.\u001b[39m__finalize__(\u001b[38;5;28mself\u001b[39m, method\u001b[38;5;241m=\u001b[39m\u001b[38;5;124m\"\u001b[39m\u001b[38;5;124mastype\u001b[39m\u001b[38;5;124m\"\u001b[39m)\n\u001b[0;32m   5915\u001b[0m \u001b[38;5;66;03m# GH 33113: handle empty frame or series\u001b[39;00m\n",
      "File \u001b[1;32m~\\anacondatrue\\lib\\site-packages\\pandas\\core\\internals\\managers.py:419\u001b[0m, in \u001b[0;36mBaseBlockManager.astype\u001b[1;34m(self, dtype, copy, errors)\u001b[0m\n\u001b[0;32m    418\u001b[0m \u001b[38;5;28;01mdef\u001b[39;00m \u001b[38;5;21mastype\u001b[39m(\u001b[38;5;28mself\u001b[39m: T, dtype, copy: \u001b[38;5;28mbool\u001b[39m \u001b[38;5;241m=\u001b[39m \u001b[38;5;28;01mFalse\u001b[39;00m, errors: \u001b[38;5;28mstr\u001b[39m \u001b[38;5;241m=\u001b[39m \u001b[38;5;124m\"\u001b[39m\u001b[38;5;124mraise\u001b[39m\u001b[38;5;124m\"\u001b[39m) \u001b[38;5;241m-\u001b[39m\u001b[38;5;241m>\u001b[39m T:\n\u001b[1;32m--> 419\u001b[0m     \u001b[38;5;28;01mreturn\u001b[39;00m \u001b[38;5;28;43mself\u001b[39;49m\u001b[38;5;241;43m.\u001b[39;49m\u001b[43mapply\u001b[49m\u001b[43m(\u001b[49m\u001b[38;5;124;43m\"\u001b[39;49m\u001b[38;5;124;43mastype\u001b[39;49m\u001b[38;5;124;43m\"\u001b[39;49m\u001b[43m,\u001b[49m\u001b[43m \u001b[49m\u001b[43mdtype\u001b[49m\u001b[38;5;241;43m=\u001b[39;49m\u001b[43mdtype\u001b[49m\u001b[43m,\u001b[49m\u001b[43m \u001b[49m\u001b[43mcopy\u001b[49m\u001b[38;5;241;43m=\u001b[39;49m\u001b[43mcopy\u001b[49m\u001b[43m,\u001b[49m\u001b[43m \u001b[49m\u001b[43merrors\u001b[49m\u001b[38;5;241;43m=\u001b[39;49m\u001b[43merrors\u001b[49m\u001b[43m)\u001b[49m\n",
      "File \u001b[1;32m~\\anacondatrue\\lib\\site-packages\\pandas\\core\\internals\\managers.py:304\u001b[0m, in \u001b[0;36mBaseBlockManager.apply\u001b[1;34m(self, f, align_keys, ignore_failures, **kwargs)\u001b[0m\n\u001b[0;32m    302\u001b[0m         applied \u001b[38;5;241m=\u001b[39m b\u001b[38;5;241m.\u001b[39mapply(f, \u001b[38;5;241m*\u001b[39m\u001b[38;5;241m*\u001b[39mkwargs)\n\u001b[0;32m    303\u001b[0m     \u001b[38;5;28;01melse\u001b[39;00m:\n\u001b[1;32m--> 304\u001b[0m         applied \u001b[38;5;241m=\u001b[39m \u001b[38;5;28mgetattr\u001b[39m(b, f)(\u001b[38;5;241m*\u001b[39m\u001b[38;5;241m*\u001b[39mkwargs)\n\u001b[0;32m    305\u001b[0m \u001b[38;5;28;01mexcept\u001b[39;00m (\u001b[38;5;167;01mTypeError\u001b[39;00m, \u001b[38;5;167;01mNotImplementedError\u001b[39;00m):\n\u001b[0;32m    306\u001b[0m     \u001b[38;5;28;01mif\u001b[39;00m \u001b[38;5;129;01mnot\u001b[39;00m ignore_failures:\n",
      "File \u001b[1;32m~\\anacondatrue\\lib\\site-packages\\pandas\\core\\internals\\blocks.py:580\u001b[0m, in \u001b[0;36mBlock.astype\u001b[1;34m(self, dtype, copy, errors)\u001b[0m\n\u001b[0;32m    562\u001b[0m \u001b[38;5;124;03m\"\"\"\u001b[39;00m\n\u001b[0;32m    563\u001b[0m \u001b[38;5;124;03mCoerce to the new dtype.\u001b[39;00m\n\u001b[0;32m    564\u001b[0m \n\u001b[1;32m   (...)\u001b[0m\n\u001b[0;32m    576\u001b[0m \u001b[38;5;124;03mBlock\u001b[39;00m\n\u001b[0;32m    577\u001b[0m \u001b[38;5;124;03m\"\"\"\u001b[39;00m\n\u001b[0;32m    578\u001b[0m values \u001b[38;5;241m=\u001b[39m \u001b[38;5;28mself\u001b[39m\u001b[38;5;241m.\u001b[39mvalues\n\u001b[1;32m--> 580\u001b[0m new_values \u001b[38;5;241m=\u001b[39m \u001b[43mastype_array_safe\u001b[49m\u001b[43m(\u001b[49m\u001b[43mvalues\u001b[49m\u001b[43m,\u001b[49m\u001b[43m \u001b[49m\u001b[43mdtype\u001b[49m\u001b[43m,\u001b[49m\u001b[43m \u001b[49m\u001b[43mcopy\u001b[49m\u001b[38;5;241;43m=\u001b[39;49m\u001b[43mcopy\u001b[49m\u001b[43m,\u001b[49m\u001b[43m \u001b[49m\u001b[43merrors\u001b[49m\u001b[38;5;241;43m=\u001b[39;49m\u001b[43merrors\u001b[49m\u001b[43m)\u001b[49m\n\u001b[0;32m    582\u001b[0m new_values \u001b[38;5;241m=\u001b[39m maybe_coerce_values(new_values)\n\u001b[0;32m    583\u001b[0m newb \u001b[38;5;241m=\u001b[39m \u001b[38;5;28mself\u001b[39m\u001b[38;5;241m.\u001b[39mmake_block(new_values)\n",
      "File \u001b[1;32m~\\anacondatrue\\lib\\site-packages\\pandas\\core\\dtypes\\cast.py:1292\u001b[0m, in \u001b[0;36mastype_array_safe\u001b[1;34m(values, dtype, copy, errors)\u001b[0m\n\u001b[0;32m   1289\u001b[0m     dtype \u001b[38;5;241m=\u001b[39m dtype\u001b[38;5;241m.\u001b[39mnumpy_dtype\n\u001b[0;32m   1291\u001b[0m \u001b[38;5;28;01mtry\u001b[39;00m:\n\u001b[1;32m-> 1292\u001b[0m     new_values \u001b[38;5;241m=\u001b[39m \u001b[43mastype_array\u001b[49m\u001b[43m(\u001b[49m\u001b[43mvalues\u001b[49m\u001b[43m,\u001b[49m\u001b[43m \u001b[49m\u001b[43mdtype\u001b[49m\u001b[43m,\u001b[49m\u001b[43m \u001b[49m\u001b[43mcopy\u001b[49m\u001b[38;5;241;43m=\u001b[39;49m\u001b[43mcopy\u001b[49m\u001b[43m)\u001b[49m\n\u001b[0;32m   1293\u001b[0m \u001b[38;5;28;01mexcept\u001b[39;00m (\u001b[38;5;167;01mValueError\u001b[39;00m, \u001b[38;5;167;01mTypeError\u001b[39;00m):\n\u001b[0;32m   1294\u001b[0m     \u001b[38;5;66;03m# e.g. astype_nansafe can fail on object-dtype of strings\u001b[39;00m\n\u001b[0;32m   1295\u001b[0m     \u001b[38;5;66;03m#  trying to convert to float\u001b[39;00m\n\u001b[0;32m   1296\u001b[0m     \u001b[38;5;28;01mif\u001b[39;00m errors \u001b[38;5;241m==\u001b[39m \u001b[38;5;124m\"\u001b[39m\u001b[38;5;124mignore\u001b[39m\u001b[38;5;124m\"\u001b[39m:\n",
      "File \u001b[1;32m~\\anacondatrue\\lib\\site-packages\\pandas\\core\\dtypes\\cast.py:1237\u001b[0m, in \u001b[0;36mastype_array\u001b[1;34m(values, dtype, copy)\u001b[0m\n\u001b[0;32m   1234\u001b[0m     values \u001b[38;5;241m=\u001b[39m values\u001b[38;5;241m.\u001b[39mastype(dtype, copy\u001b[38;5;241m=\u001b[39mcopy)\n\u001b[0;32m   1236\u001b[0m \u001b[38;5;28;01melse\u001b[39;00m:\n\u001b[1;32m-> 1237\u001b[0m     values \u001b[38;5;241m=\u001b[39m \u001b[43mastype_nansafe\u001b[49m\u001b[43m(\u001b[49m\u001b[43mvalues\u001b[49m\u001b[43m,\u001b[49m\u001b[43m \u001b[49m\u001b[43mdtype\u001b[49m\u001b[43m,\u001b[49m\u001b[43m \u001b[49m\u001b[43mcopy\u001b[49m\u001b[38;5;241;43m=\u001b[39;49m\u001b[43mcopy\u001b[49m\u001b[43m)\u001b[49m\n\u001b[0;32m   1239\u001b[0m \u001b[38;5;66;03m# in pandas we don't store numpy str dtypes, so convert to object\u001b[39;00m\n\u001b[0;32m   1240\u001b[0m \u001b[38;5;28;01mif\u001b[39;00m \u001b[38;5;28misinstance\u001b[39m(dtype, np\u001b[38;5;241m.\u001b[39mdtype) \u001b[38;5;129;01mand\u001b[39;00m \u001b[38;5;28missubclass\u001b[39m(values\u001b[38;5;241m.\u001b[39mdtype\u001b[38;5;241m.\u001b[39mtype, \u001b[38;5;28mstr\u001b[39m):\n",
      "File \u001b[1;32m~\\anacondatrue\\lib\\site-packages\\pandas\\core\\dtypes\\cast.py:1098\u001b[0m, in \u001b[0;36mastype_nansafe\u001b[1;34m(arr, dtype, copy, skipna)\u001b[0m\n\u001b[0;32m   1096\u001b[0m \u001b[38;5;28;01mif\u001b[39;00m arr\u001b[38;5;241m.\u001b[39mndim \u001b[38;5;241m>\u001b[39m \u001b[38;5;241m1\u001b[39m:\n\u001b[0;32m   1097\u001b[0m     flat \u001b[38;5;241m=\u001b[39m arr\u001b[38;5;241m.\u001b[39mravel()\n\u001b[1;32m-> 1098\u001b[0m     result \u001b[38;5;241m=\u001b[39m \u001b[43mastype_nansafe\u001b[49m\u001b[43m(\u001b[49m\u001b[43mflat\u001b[49m\u001b[43m,\u001b[49m\u001b[43m \u001b[49m\u001b[43mdtype\u001b[49m\u001b[43m,\u001b[49m\u001b[43m \u001b[49m\u001b[43mcopy\u001b[49m\u001b[38;5;241;43m=\u001b[39;49m\u001b[43mcopy\u001b[49m\u001b[43m,\u001b[49m\u001b[43m \u001b[49m\u001b[43mskipna\u001b[49m\u001b[38;5;241;43m=\u001b[39;49m\u001b[43mskipna\u001b[49m\u001b[43m)\u001b[49m\n\u001b[0;32m   1099\u001b[0m     \u001b[38;5;66;03m# error: Item \"ExtensionArray\" of \"Union[ExtensionArray, ndarray]\" has no\u001b[39;00m\n\u001b[0;32m   1100\u001b[0m     \u001b[38;5;66;03m# attribute \"reshape\"\u001b[39;00m\n\u001b[0;32m   1101\u001b[0m     \u001b[38;5;28;01mreturn\u001b[39;00m result\u001b[38;5;241m.\u001b[39mreshape(arr\u001b[38;5;241m.\u001b[39mshape)  \u001b[38;5;66;03m# type: ignore[union-attr]\u001b[39;00m\n",
      "File \u001b[1;32m~\\anacondatrue\\lib\\site-packages\\pandas\\core\\dtypes\\cast.py:1148\u001b[0m, in \u001b[0;36mastype_nansafe\u001b[1;34m(arr, dtype, copy, skipna)\u001b[0m\n\u001b[0;32m   1145\u001b[0m     \u001b[38;5;28;01mraise\u001b[39;00m \u001b[38;5;167;01mTypeError\u001b[39;00m(\u001b[38;5;124mf\u001b[39m\u001b[38;5;124m\"\u001b[39m\u001b[38;5;124mcannot astype a timedelta from [\u001b[39m\u001b[38;5;132;01m{\u001b[39;00marr\u001b[38;5;241m.\u001b[39mdtype\u001b[38;5;132;01m}\u001b[39;00m\u001b[38;5;124m] to [\u001b[39m\u001b[38;5;132;01m{\u001b[39;00mdtype\u001b[38;5;132;01m}\u001b[39;00m\u001b[38;5;124m]\u001b[39m\u001b[38;5;124m\"\u001b[39m)\n\u001b[0;32m   1147\u001b[0m \u001b[38;5;28;01melif\u001b[39;00m np\u001b[38;5;241m.\u001b[39missubdtype(arr\u001b[38;5;241m.\u001b[39mdtype, np\u001b[38;5;241m.\u001b[39mfloating) \u001b[38;5;129;01mand\u001b[39;00m np\u001b[38;5;241m.\u001b[39missubdtype(dtype, np\u001b[38;5;241m.\u001b[39minteger):\n\u001b[1;32m-> 1148\u001b[0m     \u001b[38;5;28;01mreturn\u001b[39;00m \u001b[43mastype_float_to_int_nansafe\u001b[49m\u001b[43m(\u001b[49m\u001b[43marr\u001b[49m\u001b[43m,\u001b[49m\u001b[43m \u001b[49m\u001b[43mdtype\u001b[49m\u001b[43m,\u001b[49m\u001b[43m \u001b[49m\u001b[43mcopy\u001b[49m\u001b[43m)\u001b[49m\n\u001b[0;32m   1150\u001b[0m \u001b[38;5;28;01melif\u001b[39;00m is_object_dtype(arr\u001b[38;5;241m.\u001b[39mdtype):\n\u001b[0;32m   1151\u001b[0m \n\u001b[0;32m   1152\u001b[0m     \u001b[38;5;66;03m# work around NumPy brokenness, #1987\u001b[39;00m\n\u001b[0;32m   1153\u001b[0m     \u001b[38;5;28;01mif\u001b[39;00m np\u001b[38;5;241m.\u001b[39missubdtype(dtype\u001b[38;5;241m.\u001b[39mtype, np\u001b[38;5;241m.\u001b[39minteger):\n",
      "File \u001b[1;32m~\\anacondatrue\\lib\\site-packages\\pandas\\core\\dtypes\\cast.py:1193\u001b[0m, in \u001b[0;36mastype_float_to_int_nansafe\u001b[1;34m(values, dtype, copy)\u001b[0m\n\u001b[0;32m   1189\u001b[0m \u001b[38;5;124;03m\"\"\"\u001b[39;00m\n\u001b[0;32m   1190\u001b[0m \u001b[38;5;124;03mastype with a check preventing converting NaN to an meaningless integer value.\u001b[39;00m\n\u001b[0;32m   1191\u001b[0m \u001b[38;5;124;03m\"\"\"\u001b[39;00m\n\u001b[0;32m   1192\u001b[0m \u001b[38;5;28;01mif\u001b[39;00m \u001b[38;5;129;01mnot\u001b[39;00m np\u001b[38;5;241m.\u001b[39misfinite(values)\u001b[38;5;241m.\u001b[39mall():\n\u001b[1;32m-> 1193\u001b[0m     \u001b[38;5;28;01mraise\u001b[39;00m IntCastingNaNError(\n\u001b[0;32m   1194\u001b[0m         \u001b[38;5;124m\"\u001b[39m\u001b[38;5;124mCannot convert non-finite values (NA or inf) to integer\u001b[39m\u001b[38;5;124m\"\u001b[39m\n\u001b[0;32m   1195\u001b[0m     )\n\u001b[0;32m   1196\u001b[0m \u001b[38;5;28;01mreturn\u001b[39;00m values\u001b[38;5;241m.\u001b[39mastype(dtype, copy\u001b[38;5;241m=\u001b[39mcopy)\n",
      "\u001b[1;31mIntCastingNaNError\u001b[0m: Cannot convert non-finite values (NA or inf) to integer"
     ]
    }
   ],
   "source": [
    "dc[[\"YEAR\"]].astype(int)"
   ]
  },
  {
   "cell_type": "markdown",
   "id": "f3d971e4",
   "metadata": {},
   "source": [
    "* For the variables of interest, we may want to convert \"YEAR\" and \"APPEARANCES\" to `int` and \"SEX\" to `category`\n",
    "* If we also work on other variables, we may for example want to convert \"ALIVE\" to bool\n",
    "* You can also use `info()` to check the type information"
   ]
  },
  {
   "cell_type": "markdown",
   "id": "bb41c8bd",
   "metadata": {
    "slideshow": {
     "slide_type": "slide"
    }
   },
   "source": [
    "## Amount of missing data\n",
    "\n",
    "Check the amount of missing data: If there are too many missing values, the dataset may not be useful.\n",
    "* We can check the number of missing data per column in `Pandas` with the following:"
   ]
  },
  {
   "cell_type": "code",
   "execution_count": 4,
   "id": "70f1102b",
   "metadata": {
    "scrolled": false
   },
   "outputs": [
    {
     "data": {
      "text/plain": [
       "page_id                0\n",
       "name                   0\n",
       "urlslug                0\n",
       "ID                  2013\n",
       "ALIGN                601\n",
       "EYE                 3628\n",
       "HAIR                2274\n",
       "SEX                  125\n",
       "GSM                 6832\n",
       "ALIVE                  3\n",
       "APPEARANCES          355\n",
       "FIRST APPEARANCE      69\n",
       "YEAR                  69\n",
       "dtype: int64"
      ]
     },
     "execution_count": 4,
     "metadata": {},
     "output_type": "execute_result"
    }
   ],
   "source": [
    "# we will learn more about the code later when we talk about missing data\n",
    "dc.isnull().sum()"
   ]
  },
  {
   "cell_type": "markdown",
   "id": "5df69a42",
   "metadata": {},
   "source": [
    "* For the variables that we need (\"NAME\", \"ALIGN\", \"SEX\", \"APPEARANCES\" and \"YEAR\") have only relatively small amount of missing data\n",
    "    * We will see how we can handle missing data later\n",
    "* If our analysis requires some variables like \"EYE\" which have a large ratio of missing data, we need to be very cautious"
   ]
  },
  {
   "cell_type": "markdown",
   "id": "92569005",
   "metadata": {
    "slideshow": {
     "slide_type": "slide"
    }
   },
   "source": [
    "## Descriptive statistics\n",
    "\n",
    "A descriptive statistic quantitatively describes or summarises features from a collection of data.\n",
    "* We can use some simple descriptive statistic to have some more idea about the data like:\n",
    "    * Central tendency: what is the \"common\" or \"representative\" value?\n",
    "    * Data dispersion: the spread of the data - do we have a wide range of value?"
   ]
  },
  {
   "cell_type": "markdown",
   "id": "72d9061d",
   "metadata": {
    "slideshow": {
     "slide_type": "slide"
    }
   },
   "source": [
    "## Descriptive statistics in `Pandas`\n",
    "\n",
    "For Pandas, like `np.ndarray`, we can use some methods to get some descriptive statistic. For example:\n",
    "* Maximum values:"
   ]
  },
  {
   "cell_type": "code",
   "execution_count": 5,
   "id": "ef3b44bf",
   "metadata": {
    "scrolled": true
   },
   "outputs": [
    {
     "data": {
      "text/plain": [
       "page_id        404010.0\n",
       "APPEARANCES      3093.0\n",
       "YEAR             2013.0\n",
       "dtype: float64"
      ]
     },
     "execution_count": 5,
     "metadata": {},
     "output_type": "execute_result"
    }
   ],
   "source": [
    "dc.max(numeric_only = True)"
   ]
  },
  {
   "cell_type": "markdown",
   "id": "df0e3f7c",
   "metadata": {},
   "source": [
    "Note here by default you get the calculation along the axis 0."
   ]
  },
  {
   "cell_type": "markdown",
   "id": "c94d5d75",
   "metadata": {},
   "source": [
    "* Most appearance values:"
   ]
  },
  {
   "cell_type": "code",
   "execution_count": 6,
   "id": "ddd2f992",
   "metadata": {
    "scrolled": false
   },
   "outputs": [
    {
     "data": {
      "text/plain": [
       "0    Bad Characters\n",
       "Name: ALIGN, dtype: object"
      ]
     },
     "execution_count": 6,
     "metadata": {},
     "output_type": "execute_result"
    }
   ],
   "source": [
    "dc['ALIGN'].mode()"
   ]
  },
  {
   "cell_type": "markdown",
   "id": "2df915c7",
   "metadata": {},
   "source": [
    "Also note that by default, missing data is ignored."
   ]
  },
  {
   "cell_type": "markdown",
   "id": "dcbf23db",
   "metadata": {
    "slideshow": {
     "slide_type": "slide"
    }
   },
   "source": [
    "## Some insights from descriptive statistics\n",
    "\n",
    "From the statistics from the previous slide, we already get some useful insights:\n",
    "* Bad characters are most appearing alignment\n",
    "* The most recently debuted character is from 2013 - the dataset is not up-to-date!"
   ]
  },
  {
   "cell_type": "markdown",
   "id": "9f1a7c30",
   "metadata": {
    "slideshow": {
     "slide_type": "slide"
    }
   },
   "source": [
    "## Descriptive statistics in `Pandas` (continue)\n",
    "\n",
    "Instead of calculating the statistics one by one, we can use [`describe()`](https://pandas.pydata.org/docs/reference/api/pandas.DataFrame.describe.html) to generate a selection of descriptive statistics:"
   ]
  },
  {
   "cell_type": "code",
   "execution_count": 7,
   "id": "e01f776c",
   "metadata": {
    "scrolled": false
   },
   "outputs": [
    {
     "data": {
      "text/html": [
       "<div>\n",
       "<style scoped>\n",
       "    .dataframe tbody tr th:only-of-type {\n",
       "        vertical-align: middle;\n",
       "    }\n",
       "\n",
       "    .dataframe tbody tr th {\n",
       "        vertical-align: top;\n",
       "    }\n",
       "\n",
       "    .dataframe thead th {\n",
       "        text-align: right;\n",
       "    }\n",
       "</style>\n",
       "<table border=\"1\" class=\"dataframe\">\n",
       "  <thead>\n",
       "    <tr style=\"text-align: right;\">\n",
       "      <th></th>\n",
       "      <th>page_id</th>\n",
       "      <th>name</th>\n",
       "      <th>urlslug</th>\n",
       "      <th>ID</th>\n",
       "      <th>ALIGN</th>\n",
       "      <th>EYE</th>\n",
       "      <th>HAIR</th>\n",
       "      <th>SEX</th>\n",
       "      <th>GSM</th>\n",
       "      <th>ALIVE</th>\n",
       "      <th>APPEARANCES</th>\n",
       "      <th>FIRST APPEARANCE</th>\n",
       "      <th>YEAR</th>\n",
       "    </tr>\n",
       "  </thead>\n",
       "  <tbody>\n",
       "    <tr>\n",
       "      <th>count</th>\n",
       "      <td>6896.000000</td>\n",
       "      <td>6896</td>\n",
       "      <td>6896</td>\n",
       "      <td>4883</td>\n",
       "      <td>6295</td>\n",
       "      <td>3268</td>\n",
       "      <td>4622</td>\n",
       "      <td>6771</td>\n",
       "      <td>64</td>\n",
       "      <td>6893</td>\n",
       "      <td>6541.000000</td>\n",
       "      <td>6827</td>\n",
       "      <td>6827.000000</td>\n",
       "    </tr>\n",
       "    <tr>\n",
       "      <th>unique</th>\n",
       "      <td>NaN</td>\n",
       "      <td>6896</td>\n",
       "      <td>6896</td>\n",
       "      <td>3</td>\n",
       "      <td>4</td>\n",
       "      <td>17</td>\n",
       "      <td>17</td>\n",
       "      <td>4</td>\n",
       "      <td>2</td>\n",
       "      <td>2</td>\n",
       "      <td>NaN</td>\n",
       "      <td>774</td>\n",
       "      <td>NaN</td>\n",
       "    </tr>\n",
       "    <tr>\n",
       "      <th>top</th>\n",
       "      <td>NaN</td>\n",
       "      <td>Batman (Bruce Wayne)</td>\n",
       "      <td>\\/wiki\\/Batman_(Bruce_Wayne)</td>\n",
       "      <td>Public Identity</td>\n",
       "      <td>Bad Characters</td>\n",
       "      <td>Blue Eyes</td>\n",
       "      <td>Black Hair</td>\n",
       "      <td>Male Characters</td>\n",
       "      <td>Homosexual Characters</td>\n",
       "      <td>Living Characters</td>\n",
       "      <td>NaN</td>\n",
       "      <td>2010, December</td>\n",
       "      <td>NaN</td>\n",
       "    </tr>\n",
       "    <tr>\n",
       "      <th>freq</th>\n",
       "      <td>NaN</td>\n",
       "      <td>1</td>\n",
       "      <td>1</td>\n",
       "      <td>2466</td>\n",
       "      <td>2895</td>\n",
       "      <td>1102</td>\n",
       "      <td>1574</td>\n",
       "      <td>4783</td>\n",
       "      <td>54</td>\n",
       "      <td>5200</td>\n",
       "      <td>NaN</td>\n",
       "      <td>78</td>\n",
       "      <td>NaN</td>\n",
       "    </tr>\n",
       "    <tr>\n",
       "      <th>mean</th>\n",
       "      <td>147441.209252</td>\n",
       "      <td>NaN</td>\n",
       "      <td>NaN</td>\n",
       "      <td>NaN</td>\n",
       "      <td>NaN</td>\n",
       "      <td>NaN</td>\n",
       "      <td>NaN</td>\n",
       "      <td>NaN</td>\n",
       "      <td>NaN</td>\n",
       "      <td>NaN</td>\n",
       "      <td>23.625134</td>\n",
       "      <td>NaN</td>\n",
       "      <td>1989.766662</td>\n",
       "    </tr>\n",
       "    <tr>\n",
       "      <th>std</th>\n",
       "      <td>108388.631149</td>\n",
       "      <td>NaN</td>\n",
       "      <td>NaN</td>\n",
       "      <td>NaN</td>\n",
       "      <td>NaN</td>\n",
       "      <td>NaN</td>\n",
       "      <td>NaN</td>\n",
       "      <td>NaN</td>\n",
       "      <td>NaN</td>\n",
       "      <td>NaN</td>\n",
       "      <td>87.378509</td>\n",
       "      <td>NaN</td>\n",
       "      <td>16.824194</td>\n",
       "    </tr>\n",
       "    <tr>\n",
       "      <th>min</th>\n",
       "      <td>1380.000000</td>\n",
       "      <td>NaN</td>\n",
       "      <td>NaN</td>\n",
       "      <td>NaN</td>\n",
       "      <td>NaN</td>\n",
       "      <td>NaN</td>\n",
       "      <td>NaN</td>\n",
       "      <td>NaN</td>\n",
       "      <td>NaN</td>\n",
       "      <td>NaN</td>\n",
       "      <td>1.000000</td>\n",
       "      <td>NaN</td>\n",
       "      <td>1935.000000</td>\n",
       "    </tr>\n",
       "    <tr>\n",
       "      <th>25%</th>\n",
       "      <td>44105.500000</td>\n",
       "      <td>NaN</td>\n",
       "      <td>NaN</td>\n",
       "      <td>NaN</td>\n",
       "      <td>NaN</td>\n",
       "      <td>NaN</td>\n",
       "      <td>NaN</td>\n",
       "      <td>NaN</td>\n",
       "      <td>NaN</td>\n",
       "      <td>NaN</td>\n",
       "      <td>2.000000</td>\n",
       "      <td>NaN</td>\n",
       "      <td>1983.000000</td>\n",
       "    </tr>\n",
       "    <tr>\n",
       "      <th>50%</th>\n",
       "      <td>141267.000000</td>\n",
       "      <td>NaN</td>\n",
       "      <td>NaN</td>\n",
       "      <td>NaN</td>\n",
       "      <td>NaN</td>\n",
       "      <td>NaN</td>\n",
       "      <td>NaN</td>\n",
       "      <td>NaN</td>\n",
       "      <td>NaN</td>\n",
       "      <td>NaN</td>\n",
       "      <td>6.000000</td>\n",
       "      <td>NaN</td>\n",
       "      <td>1992.000000</td>\n",
       "    </tr>\n",
       "    <tr>\n",
       "      <th>75%</th>\n",
       "      <td>213203.000000</td>\n",
       "      <td>NaN</td>\n",
       "      <td>NaN</td>\n",
       "      <td>NaN</td>\n",
       "      <td>NaN</td>\n",
       "      <td>NaN</td>\n",
       "      <td>NaN</td>\n",
       "      <td>NaN</td>\n",
       "      <td>NaN</td>\n",
       "      <td>NaN</td>\n",
       "      <td>15.000000</td>\n",
       "      <td>NaN</td>\n",
       "      <td>2003.000000</td>\n",
       "    </tr>\n",
       "    <tr>\n",
       "      <th>max</th>\n",
       "      <td>404010.000000</td>\n",
       "      <td>NaN</td>\n",
       "      <td>NaN</td>\n",
       "      <td>NaN</td>\n",
       "      <td>NaN</td>\n",
       "      <td>NaN</td>\n",
       "      <td>NaN</td>\n",
       "      <td>NaN</td>\n",
       "      <td>NaN</td>\n",
       "      <td>NaN</td>\n",
       "      <td>3093.000000</td>\n",
       "      <td>NaN</td>\n",
       "      <td>2013.000000</td>\n",
       "    </tr>\n",
       "  </tbody>\n",
       "</table>\n",
       "</div>"
      ],
      "text/plain": [
       "              page_id                  name                       urlslug  \\\n",
       "count     6896.000000                  6896                          6896   \n",
       "unique            NaN                  6896                          6896   \n",
       "top               NaN  Batman (Bruce Wayne)  \\/wiki\\/Batman_(Bruce_Wayne)   \n",
       "freq              NaN                     1                             1   \n",
       "mean    147441.209252                   NaN                           NaN   \n",
       "std     108388.631149                   NaN                           NaN   \n",
       "min       1380.000000                   NaN                           NaN   \n",
       "25%      44105.500000                   NaN                           NaN   \n",
       "50%     141267.000000                   NaN                           NaN   \n",
       "75%     213203.000000                   NaN                           NaN   \n",
       "max     404010.000000                   NaN                           NaN   \n",
       "\n",
       "                     ID           ALIGN        EYE        HAIR  \\\n",
       "count              4883            6295       3268        4622   \n",
       "unique                3               4         17          17   \n",
       "top     Public Identity  Bad Characters  Blue Eyes  Black Hair   \n",
       "freq               2466            2895       1102        1574   \n",
       "mean                NaN             NaN        NaN         NaN   \n",
       "std                 NaN             NaN        NaN         NaN   \n",
       "min                 NaN             NaN        NaN         NaN   \n",
       "25%                 NaN             NaN        NaN         NaN   \n",
       "50%                 NaN             NaN        NaN         NaN   \n",
       "75%                 NaN             NaN        NaN         NaN   \n",
       "max                 NaN             NaN        NaN         NaN   \n",
       "\n",
       "                    SEX                    GSM              ALIVE  \\\n",
       "count              6771                     64               6893   \n",
       "unique                4                      2                  2   \n",
       "top     Male Characters  Homosexual Characters  Living Characters   \n",
       "freq               4783                     54               5200   \n",
       "mean                NaN                    NaN                NaN   \n",
       "std                 NaN                    NaN                NaN   \n",
       "min                 NaN                    NaN                NaN   \n",
       "25%                 NaN                    NaN                NaN   \n",
       "50%                 NaN                    NaN                NaN   \n",
       "75%                 NaN                    NaN                NaN   \n",
       "max                 NaN                    NaN                NaN   \n",
       "\n",
       "        APPEARANCES FIRST APPEARANCE         YEAR  \n",
       "count   6541.000000             6827  6827.000000  \n",
       "unique          NaN              774          NaN  \n",
       "top             NaN   2010, December          NaN  \n",
       "freq            NaN               78          NaN  \n",
       "mean      23.625134              NaN  1989.766662  \n",
       "std       87.378509              NaN    16.824194  \n",
       "min        1.000000              NaN  1935.000000  \n",
       "25%        2.000000              NaN  1983.000000  \n",
       "50%        6.000000              NaN  1992.000000  \n",
       "75%       15.000000              NaN  2003.000000  \n",
       "max     3093.000000              NaN  2013.000000  "
      ]
     },
     "execution_count": 7,
     "metadata": {},
     "output_type": "execute_result"
    }
   ],
   "source": [
    "dc.describe(include = 'all')"
   ]
  },
  {
   "cell_type": "markdown",
   "id": "bb0b206a",
   "metadata": {},
   "source": [
    "Notice that not all statistics are available for all variables. Why?"
   ]
  },
  {
   "cell_type": "markdown",
   "id": "f45d4116",
   "metadata": {
    "slideshow": {
     "slide_type": "slide"
    }
   },
   "source": [
    "## Types of attributes / variables\n",
    "\n",
    "* Quantitative data (i.e. numerical), which can either be:\n",
    "    * Discrete: a finite number of values are possible in any bounded interval\n",
    "        * Example: Number of appearance of characters\n",
    "    * Continuous: an infinite number of values are possible in any bounded interval\n",
    "        * Example: Height of people"
   ]
  },
  {
   "cell_type": "markdown",
   "id": "15ecdd2a",
   "metadata": {
    "slideshow": {
     "slide_type": "slide"
    }
   },
   "source": [
    "## Types of attributes / variables (continue)\n",
    "\n",
    "* Categorical data:\n",
    "    * Ordinal: non-numerical but has ranking\n",
    "        * Example: Level of Python of students\n",
    "    * Nominal: no inherent order among the values\n",
    "        * Example: Eye colours of the characters"
   ]
  },
  {
   "cell_type": "markdown",
   "id": "891fa712",
   "metadata": {
    "slideshow": {
     "slide_type": "slide"
    }
   },
   "source": [
    "## Descriptive statistics: central tendency\n",
    "\n",
    "Mean, median and mode are common statistics used to measure central tendency.\n",
    "* Mean: arithmetic average value \n",
    "    * e.g. mean of $1, 3, 2, 7, 7$ is $4$\n",
    "* Median: \"the middle\" value\n",
    "    * e.g. median of $1, 3, 2, 7, 7$ is $3$\n",
    "* Mode: the most appearing value\n",
    "    * e.g. mode of $1, 3, 2, 7, 7$ is $7$\n",
    "    * Useful for categorical data"
   ]
  },
  {
   "cell_type": "markdown",
   "id": "f747ab54",
   "metadata": {
    "slideshow": {
     "slide_type": "slide"
    }
   },
   "source": [
    "## Measure of central tendency in Pandas\n",
    "\n",
    "When using `describe()`, mean is in the `mean` row, median is in the `50%` row and mode is in the `top` row. For example:"
   ]
  },
  {
   "cell_type": "code",
   "execution_count": 8,
   "id": "f15e3201",
   "metadata": {
    "scrolled": true
   },
   "outputs": [
    {
     "data": {
      "text/html": [
       "<div>\n",
       "<style scoped>\n",
       "    .dataframe tbody tr th:only-of-type {\n",
       "        vertical-align: middle;\n",
       "    }\n",
       "\n",
       "    .dataframe tbody tr th {\n",
       "        vertical-align: top;\n",
       "    }\n",
       "\n",
       "    .dataframe thead th {\n",
       "        text-align: right;\n",
       "    }\n",
       "</style>\n",
       "<table border=\"1\" class=\"dataframe\">\n",
       "  <thead>\n",
       "    <tr style=\"text-align: right;\">\n",
       "      <th></th>\n",
       "      <th>SEX</th>\n",
       "      <th>GSM</th>\n",
       "      <th>ALIVE</th>\n",
       "      <th>APPEARANCES</th>\n",
       "      <th>FIRST APPEARANCE</th>\n",
       "      <th>YEAR</th>\n",
       "    </tr>\n",
       "  </thead>\n",
       "  <tbody>\n",
       "    <tr>\n",
       "      <th>mean</th>\n",
       "      <td>NaN</td>\n",
       "      <td>NaN</td>\n",
       "      <td>NaN</td>\n",
       "      <td>23.625134</td>\n",
       "      <td>NaN</td>\n",
       "      <td>1989.766662</td>\n",
       "    </tr>\n",
       "    <tr>\n",
       "      <th>50%</th>\n",
       "      <td>NaN</td>\n",
       "      <td>NaN</td>\n",
       "      <td>NaN</td>\n",
       "      <td>6.000000</td>\n",
       "      <td>NaN</td>\n",
       "      <td>1992.000000</td>\n",
       "    </tr>\n",
       "    <tr>\n",
       "      <th>top</th>\n",
       "      <td>Male Characters</td>\n",
       "      <td>Homosexual Characters</td>\n",
       "      <td>Living Characters</td>\n",
       "      <td>NaN</td>\n",
       "      <td>2010, December</td>\n",
       "      <td>NaN</td>\n",
       "    </tr>\n",
       "  </tbody>\n",
       "</table>\n",
       "</div>"
      ],
      "text/plain": [
       "                  SEX                    GSM              ALIVE  APPEARANCES  \\\n",
       "mean              NaN                    NaN                NaN    23.625134   \n",
       "50%               NaN                    NaN                NaN     6.000000   \n",
       "top   Male Characters  Homosexual Characters  Living Characters          NaN   \n",
       "\n",
       "     FIRST APPEARANCE         YEAR  \n",
       "mean              NaN  1989.766662  \n",
       "50%               NaN  1992.000000  \n",
       "top    2010, December          NaN  "
      ]
     },
     "execution_count": 8,
     "metadata": {},
     "output_type": "execute_result"
    }
   ],
   "source": [
    "# only the relevant rows and a few columns are shown\n",
    "dc.describe(include = 'all').loc[['mean', '50%', 'top'], 'SEX':]"
   ]
  },
  {
   "cell_type": "markdown",
   "id": "c4510832",
   "metadata": {
    "slideshow": {
     "slide_type": "slide"
    }
   },
   "source": [
    "## Measure of central tendency in Pandas (continue)\n",
    "\n",
    "Alternatively, we can use the methods `mean()`, `median()` and `mode()`. For example:"
   ]
  },
  {
   "cell_type": "code",
   "execution_count": 9,
   "id": "91298975",
   "metadata": {},
   "outputs": [
    {
     "data": {
      "text/plain": [
       "23.62513377159456"
      ]
     },
     "execution_count": 9,
     "metadata": {},
     "output_type": "execute_result"
    }
   ],
   "source": [
    "dc['APPEARANCES'].mean()"
   ]
  },
  {
   "cell_type": "code",
   "execution_count": 12,
   "id": "4c6cae56",
   "metadata": {},
   "outputs": [
    {
     "data": {
      "text/plain": [
       "6.0"
      ]
     },
     "execution_count": 12,
     "metadata": {},
     "output_type": "execute_result"
    }
   ],
   "source": [
    "dc['APPEARANCES'].median()"
   ]
  },
  {
   "cell_type": "code",
   "execution_count": 13,
   "id": "221db9c8",
   "metadata": {
    "scrolled": false
   },
   "outputs": [
    {
     "data": {
      "text/plain": [
       "0    1.0\n",
       "dtype: float64"
      ]
     },
     "execution_count": 13,
     "metadata": {},
     "output_type": "execute_result"
    }
   ],
   "source": [
    "dc['APPEARANCES'].mode()"
   ]
  },
  {
   "cell_type": "markdown",
   "id": "7d172b15",
   "metadata": {
    "slideshow": {
     "slide_type": "slide"
    }
   },
   "source": [
    "## Measure of central tendency in Pandas (continue)\n",
    "\n",
    "Alternatively, you can use `aggregate()` with numpy universal functions:"
   ]
  },
  {
   "cell_type": "code",
   "execution_count": 25,
   "id": "0eede273",
   "metadata": {},
   "outputs": [
    {
     "data": {
      "text/plain": [
       "mean      23.625134\n",
       "median     6.000000\n",
       "Name: APPEARANCES, dtype: float64"
      ]
     },
     "execution_count": 25,
     "metadata": {},
     "output_type": "execute_result"
    }
   ],
   "source": [
    "import numpy as np\n",
    "# note here we only calculate mean and median as there is no universal function for mode\n",
    "dc['APPEARANCES'].aggregate([np.mean, np.median]) "
   ]
  },
  {
   "cell_type": "markdown",
   "id": "3ba6b985",
   "metadata": {},
   "source": [
    "Question: Why different values are given for different measures? Which one should we use?"
   ]
  },
  {
   "cell_type": "markdown",
   "id": "d40bf855",
   "metadata": {
    "slideshow": {
     "slide_type": "slide"
    }
   },
   "source": [
    "## Central tendency: mean vs median \n",
    "\n",
    "The mean is more sensitive to extreme values (outliers) when comparing with median. For example:"
   ]
  },
  {
   "cell_type": "code",
   "execution_count": 11,
   "id": "56cb93b2",
   "metadata": {},
   "outputs": [
    {
     "name": "stdout",
     "output_type": "stream",
     "text": [
      "mean: 5.2 median:  5.5\n"
     ]
    }
   ],
   "source": [
    "import numpy as np\n",
    "original_data = np.array([0, 1, 2, 4, 5, 6, 7, 8, 9, 10])\n",
    "print('mean:', original_data.mean(), 'median: ', np.median(original_data))"
   ]
  },
  {
   "cell_type": "code",
   "execution_count": 12,
   "id": "df241929",
   "metadata": {
    "scrolled": true
   },
   "outputs": [
    {
     "name": "stdout",
     "output_type": "stream",
     "text": [
      "mean: 104.2 median:  5.5\n"
     ]
    }
   ],
   "source": [
    "data_with_outlier = np.array([0, 1, 2, 4, 5, 6, 7, 8, 9, 1000])\n",
    "print('mean:', data_with_outlier.mean(), 'median: ', np.median(data_with_outlier))"
   ]
  },
  {
   "cell_type": "markdown",
   "id": "35d82b4e",
   "metadata": {},
   "source": [
    "* With outlier, median provides a better measure of \"central\" or \"representative\" value\n",
    "* The difference between mean and median also gives us some idea about the _skewness_ of the data"
   ]
  },
  {
   "cell_type": "markdown",
   "id": "fe330da0",
   "metadata": {
    "slideshow": {
     "slide_type": "slide"
    }
   },
   "source": [
    "## Central tendency: DC dataset\n",
    "\n",
    "For the DC dataset, some main characters appear much more frequently than other characters:"
   ]
  },
  {
   "cell_type": "code",
   "execution_count": 13,
   "id": "978ed7ef",
   "metadata": {},
   "outputs": [
    {
     "data": {
      "text/html": [
       "<div>\n",
       "<style scoped>\n",
       "    .dataframe tbody tr th:only-of-type {\n",
       "        vertical-align: middle;\n",
       "    }\n",
       "\n",
       "    .dataframe tbody tr th {\n",
       "        vertical-align: top;\n",
       "    }\n",
       "\n",
       "    .dataframe thead th {\n",
       "        text-align: right;\n",
       "    }\n",
       "</style>\n",
       "<table border=\"1\" class=\"dataframe\">\n",
       "  <thead>\n",
       "    <tr style=\"text-align: right;\">\n",
       "      <th></th>\n",
       "      <th>name</th>\n",
       "      <th>APPEARANCES</th>\n",
       "    </tr>\n",
       "  </thead>\n",
       "  <tbody>\n",
       "    <tr>\n",
       "      <th>0</th>\n",
       "      <td>Batman (Bruce Wayne)</td>\n",
       "      <td>3093.0</td>\n",
       "    </tr>\n",
       "    <tr>\n",
       "      <th>1</th>\n",
       "      <td>Superman (Clark Kent)</td>\n",
       "      <td>2496.0</td>\n",
       "    </tr>\n",
       "    <tr>\n",
       "      <th>2</th>\n",
       "      <td>Green Lantern (Hal Jordan)</td>\n",
       "      <td>1565.0</td>\n",
       "    </tr>\n",
       "    <tr>\n",
       "      <th>3</th>\n",
       "      <td>James Gordon (New Earth)</td>\n",
       "      <td>1316.0</td>\n",
       "    </tr>\n",
       "    <tr>\n",
       "      <th>4</th>\n",
       "      <td>Richard Grayson (New Earth)</td>\n",
       "      <td>1237.0</td>\n",
       "    </tr>\n",
       "  </tbody>\n",
       "</table>\n",
       "</div>"
      ],
      "text/plain": [
       "                          name  APPEARANCES\n",
       "0         Batman (Bruce Wayne)       3093.0\n",
       "1        Superman (Clark Kent)       2496.0\n",
       "2   Green Lantern (Hal Jordan)       1565.0\n",
       "3     James Gordon (New Earth)       1316.0\n",
       "4  Richard Grayson (New Earth)       1237.0"
      ]
     },
     "execution_count": 13,
     "metadata": {},
     "output_type": "execute_result"
    }
   ],
   "source": [
    "dc.sort_values('APPEARANCES', ascending=False)[['name', 'APPEARANCES']].head()"
   ]
  },
  {
   "cell_type": "markdown",
   "id": "22ff8efb",
   "metadata": {},
   "source": [
    "Therefore, while on average the number of appearances of each character is $23.6$ (median), half of the characters appear not more than 6 times (median) and 1 is the most frequently seen number of appearances (mode)."
   ]
  },
  {
   "cell_type": "markdown",
   "id": "9b6e1fe0",
   "metadata": {
    "slideshow": {
     "slide_type": "slide"
    }
   },
   "source": [
    "## Central tendency: DC dataset (continue)\n",
    "\n",
    "From the descriptive statistics for the categorical data `SEX`, we can also see that the most appearing gender is male:"
   ]
  },
  {
   "cell_type": "code",
   "execution_count": 14,
   "id": "af49e36e",
   "metadata": {},
   "outputs": [
    {
     "data": {
      "text/html": [
       "<div>\n",
       "<style scoped>\n",
       "    .dataframe tbody tr th:only-of-type {\n",
       "        vertical-align: middle;\n",
       "    }\n",
       "\n",
       "    .dataframe tbody tr th {\n",
       "        vertical-align: top;\n",
       "    }\n",
       "\n",
       "    .dataframe thead th {\n",
       "        text-align: right;\n",
       "    }\n",
       "</style>\n",
       "<table border=\"1\" class=\"dataframe\">\n",
       "  <thead>\n",
       "    <tr style=\"text-align: right;\">\n",
       "      <th></th>\n",
       "      <th>SEX</th>\n",
       "      <th>GSM</th>\n",
       "      <th>ALIVE</th>\n",
       "      <th>APPEARANCES</th>\n",
       "      <th>FIRST APPEARANCE</th>\n",
       "      <th>YEAR</th>\n",
       "    </tr>\n",
       "  </thead>\n",
       "  <tbody>\n",
       "    <tr>\n",
       "      <th>mean</th>\n",
       "      <td>NaN</td>\n",
       "      <td>NaN</td>\n",
       "      <td>NaN</td>\n",
       "      <td>23.625134</td>\n",
       "      <td>NaN</td>\n",
       "      <td>1989.766662</td>\n",
       "    </tr>\n",
       "    <tr>\n",
       "      <th>50%</th>\n",
       "      <td>NaN</td>\n",
       "      <td>NaN</td>\n",
       "      <td>NaN</td>\n",
       "      <td>6.000000</td>\n",
       "      <td>NaN</td>\n",
       "      <td>1992.000000</td>\n",
       "    </tr>\n",
       "    <tr>\n",
       "      <th>top</th>\n",
       "      <td>Male Characters</td>\n",
       "      <td>Homosexual Characters</td>\n",
       "      <td>Living Characters</td>\n",
       "      <td>NaN</td>\n",
       "      <td>2010, December</td>\n",
       "      <td>NaN</td>\n",
       "    </tr>\n",
       "  </tbody>\n",
       "</table>\n",
       "</div>"
      ],
      "text/plain": [
       "                  SEX                    GSM              ALIVE  APPEARANCES  \\\n",
       "mean              NaN                    NaN                NaN    23.625134   \n",
       "50%               NaN                    NaN                NaN     6.000000   \n",
       "top   Male Characters  Homosexual Characters  Living Characters          NaN   \n",
       "\n",
       "     FIRST APPEARANCE         YEAR  \n",
       "mean              NaN  1989.766662  \n",
       "50%               NaN  1992.000000  \n",
       "top    2010, December          NaN  "
      ]
     },
     "execution_count": 14,
     "metadata": {},
     "output_type": "execute_result"
    }
   ],
   "source": [
    "dc.describe(include = 'all').loc[['mean', '50%', 'top'], 'SEX':]"
   ]
  },
  {
   "cell_type": "markdown",
   "id": "f55968fc",
   "metadata": {
    "slideshow": {
     "slide_type": "slide"
    }
   },
   "source": [
    "## Measures of dispersion for quantitative variables\n",
    "\n",
    "The dispersion of a sample of observations measures the variation of the data. \n",
    "* Common examples of measures of dispersion are:\n",
    "    * Range\n",
    "        * Range = Maximum value - Minimum value\n",
    "    * Interquartile range (IQR)\n",
    "        * Difference between the 75th percentile ($Q_3$) and 25th percentiles ($Q_1$) of the data\n",
    "        * $IQR = Q_3 - Q_1$\n",
    "    * Variance\n",
    "    * Standard deviation: square root of variance\n",
    "    \n",
    "Variance and standard deviation are good measure of dispersion _if_ the data is roughly normally distributed."
   ]
  },
  {
   "cell_type": "markdown",
   "id": "15f20057",
   "metadata": {
    "slideshow": {
     "slide_type": "slide"
    }
   },
   "source": [
    "## Measures of dispersion in Pandas\n",
    "\n",
    "You can get the max and min, 25th percentile , 75th percentile from `describe()`:"
   ]
  },
  {
   "cell_type": "code",
   "execution_count": 19,
   "id": "4d395e91",
   "metadata": {
    "scrolled": true
   },
   "outputs": [
    {
     "data": {
      "text/html": [
       "<div>\n",
       "<style scoped>\n",
       "    .dataframe tbody tr th:only-of-type {\n",
       "        vertical-align: middle;\n",
       "    }\n",
       "\n",
       "    .dataframe tbody tr th {\n",
       "        vertical-align: top;\n",
       "    }\n",
       "\n",
       "    .dataframe thead th {\n",
       "        text-align: right;\n",
       "    }\n",
       "</style>\n",
       "<table border=\"1\" class=\"dataframe\">\n",
       "  <thead>\n",
       "    <tr style=\"text-align: right;\">\n",
       "      <th></th>\n",
       "      <th>page_id</th>\n",
       "      <th>name</th>\n",
       "      <th>urlslug</th>\n",
       "      <th>ID</th>\n",
       "      <th>ALIGN</th>\n",
       "      <th>EYE</th>\n",
       "      <th>HAIR</th>\n",
       "      <th>SEX</th>\n",
       "      <th>GSM</th>\n",
       "      <th>ALIVE</th>\n",
       "      <th>APPEARANCES</th>\n",
       "      <th>FIRST APPEARANCE</th>\n",
       "      <th>YEAR</th>\n",
       "    </tr>\n",
       "  </thead>\n",
       "  <tbody>\n",
       "    <tr>\n",
       "      <th>min</th>\n",
       "      <td>1380.000000</td>\n",
       "      <td>NaN</td>\n",
       "      <td>NaN</td>\n",
       "      <td>NaN</td>\n",
       "      <td>NaN</td>\n",
       "      <td>NaN</td>\n",
       "      <td>NaN</td>\n",
       "      <td>NaN</td>\n",
       "      <td>NaN</td>\n",
       "      <td>NaN</td>\n",
       "      <td>1.000000</td>\n",
       "      <td>NaN</td>\n",
       "      <td>1935.000000</td>\n",
       "    </tr>\n",
       "    <tr>\n",
       "      <th>max</th>\n",
       "      <td>404010.000000</td>\n",
       "      <td>NaN</td>\n",
       "      <td>NaN</td>\n",
       "      <td>NaN</td>\n",
       "      <td>NaN</td>\n",
       "      <td>NaN</td>\n",
       "      <td>NaN</td>\n",
       "      <td>NaN</td>\n",
       "      <td>NaN</td>\n",
       "      <td>NaN</td>\n",
       "      <td>3093.000000</td>\n",
       "      <td>NaN</td>\n",
       "      <td>2013.000000</td>\n",
       "    </tr>\n",
       "    <tr>\n",
       "      <th>25%</th>\n",
       "      <td>44105.500000</td>\n",
       "      <td>NaN</td>\n",
       "      <td>NaN</td>\n",
       "      <td>NaN</td>\n",
       "      <td>NaN</td>\n",
       "      <td>NaN</td>\n",
       "      <td>NaN</td>\n",
       "      <td>NaN</td>\n",
       "      <td>NaN</td>\n",
       "      <td>NaN</td>\n",
       "      <td>2.000000</td>\n",
       "      <td>NaN</td>\n",
       "      <td>1983.000000</td>\n",
       "    </tr>\n",
       "    <tr>\n",
       "      <th>75%</th>\n",
       "      <td>213203.000000</td>\n",
       "      <td>NaN</td>\n",
       "      <td>NaN</td>\n",
       "      <td>NaN</td>\n",
       "      <td>NaN</td>\n",
       "      <td>NaN</td>\n",
       "      <td>NaN</td>\n",
       "      <td>NaN</td>\n",
       "      <td>NaN</td>\n",
       "      <td>NaN</td>\n",
       "      <td>15.000000</td>\n",
       "      <td>NaN</td>\n",
       "      <td>2003.000000</td>\n",
       "    </tr>\n",
       "    <tr>\n",
       "      <th>std</th>\n",
       "      <td>108388.631149</td>\n",
       "      <td>NaN</td>\n",
       "      <td>NaN</td>\n",
       "      <td>NaN</td>\n",
       "      <td>NaN</td>\n",
       "      <td>NaN</td>\n",
       "      <td>NaN</td>\n",
       "      <td>NaN</td>\n",
       "      <td>NaN</td>\n",
       "      <td>NaN</td>\n",
       "      <td>87.378509</td>\n",
       "      <td>NaN</td>\n",
       "      <td>16.824194</td>\n",
       "    </tr>\n",
       "  </tbody>\n",
       "</table>\n",
       "</div>"
      ],
      "text/plain": [
       "           page_id name urlslug   ID ALIGN  EYE HAIR  SEX  GSM ALIVE  \\\n",
       "min    1380.000000  NaN     NaN  NaN   NaN  NaN  NaN  NaN  NaN   NaN   \n",
       "max  404010.000000  NaN     NaN  NaN   NaN  NaN  NaN  NaN  NaN   NaN   \n",
       "25%   44105.500000  NaN     NaN  NaN   NaN  NaN  NaN  NaN  NaN   NaN   \n",
       "75%  213203.000000  NaN     NaN  NaN   NaN  NaN  NaN  NaN  NaN   NaN   \n",
       "std  108388.631149  NaN     NaN  NaN   NaN  NaN  NaN  NaN  NaN   NaN   \n",
       "\n",
       "     APPEARANCES FIRST APPEARANCE         YEAR  \n",
       "min     1.000000              NaN  1935.000000  \n",
       "max  3093.000000              NaN  2013.000000  \n",
       "25%     2.000000              NaN  1983.000000  \n",
       "75%    15.000000              NaN  2003.000000  \n",
       "std    87.378509              NaN    16.824194  "
      ]
     },
     "execution_count": 19,
     "metadata": {},
     "output_type": "execute_result"
    }
   ],
   "source": [
    "dc.describe(include = 'all').loc[['min', 'max', '25%', '75%', 'std']]"
   ]
  },
  {
   "cell_type": "markdown",
   "id": "c5954daa",
   "metadata": {},
   "source": [
    "And calculate range and IQR from there."
   ]
  },
  {
   "cell_type": "markdown",
   "id": "b4defcaa",
   "metadata": {
    "slideshow": {
     "slide_type": "slide"
    }
   },
   "source": [
    "## Measures of dispersion in Pandas (continue)\n",
    "\n",
    "Or you can use some methods like `max()`, `min()`, `quantile()`, etc to calculate them. For example:\n",
    "\n",
    "* Range:"
   ]
  },
  {
   "cell_type": "code",
   "execution_count": 20,
   "id": "8d8680c6",
   "metadata": {},
   "outputs": [
    {
     "data": {
      "text/plain": [
       "3092.0"
      ]
     },
     "execution_count": 20,
     "metadata": {},
     "output_type": "execute_result"
    }
   ],
   "source": [
    "dc.APPEARANCES.max() - dc.APPEARANCES.min()"
   ]
  },
  {
   "cell_type": "markdown",
   "id": "c9dd2477",
   "metadata": {},
   "source": [
    "* IQR:"
   ]
  },
  {
   "cell_type": "code",
   "execution_count": 21,
   "id": "2aff806c",
   "metadata": {},
   "outputs": [
    {
     "data": {
      "text/plain": [
       "13.0"
      ]
     },
     "execution_count": 21,
     "metadata": {},
     "output_type": "execute_result"
    }
   ],
   "source": [
    "dc.APPEARANCES.quantile(0.75) - dc.APPEARANCES.quantile(0.25)"
   ]
  },
  {
   "cell_type": "markdown",
   "id": "2d37d11c",
   "metadata": {},
   "source": [
    "* Standard deviation:"
   ]
  },
  {
   "cell_type": "code",
   "execution_count": 22,
   "id": "63e434ad",
   "metadata": {
    "scrolled": true
   },
   "outputs": [
    {
     "data": {
      "text/plain": [
       "87.37850877836128"
      ]
     },
     "execution_count": 22,
     "metadata": {},
     "output_type": "execute_result"
    }
   ],
   "source": [
    "dc.APPEARANCES.std()"
   ]
  },
  {
   "cell_type": "markdown",
   "id": "1447e50d",
   "metadata": {
    "slideshow": {
     "slide_type": "slide"
    }
   },
   "source": [
    "## Measures of variability in categorical data\n",
    "\n",
    "We are not going into details how we can measure variability of categorical data here, but we can, for example, knows the number of distinct values by `nunique()`.\n",
    "* Example:"
   ]
  },
  {
   "cell_type": "code",
   "execution_count": 23,
   "id": "a2579d38",
   "metadata": {
    "scrolled": true
   },
   "outputs": [
    {
     "data": {
      "text/plain": [
       "4"
      ]
     },
     "execution_count": 23,
     "metadata": {},
     "output_type": "execute_result"
    }
   ],
   "source": [
    "dc['SEX'].nunique()"
   ]
  },
  {
   "cell_type": "markdown",
   "id": "17698743",
   "metadata": {},
   "source": [
    "You can find out the unique values by `unique()`. For example:"
   ]
  },
  {
   "cell_type": "code",
   "execution_count": 24,
   "id": "ebbf6860",
   "metadata": {},
   "outputs": [
    {
     "data": {
      "text/plain": [
       "array(['Male Characters', 'Female Characters', nan,\n",
       "       'Genderless Characters', 'Transgender Characters'], dtype=object)"
      ]
     },
     "execution_count": 24,
     "metadata": {},
     "output_type": "execute_result"
    }
   ],
   "source": [
    "dc['SEX'].unique()"
   ]
  },
  {
   "cell_type": "markdown",
   "id": "17127fd5",
   "metadata": {},
   "source": [
    "We can see there are not just 'Male' and 'Female', but also 'Genderless', 'Transgender'. "
   ]
  },
  {
   "cell_type": "markdown",
   "id": "48ce9f5f",
   "metadata": {
    "slideshow": {
     "slide_type": "slide"
    }
   },
   "source": [
    "## Counting appearances \n",
    "\n",
    "To count the appearance for each category, we can use `value_counts()`. For example:"
   ]
  },
  {
   "cell_type": "code",
   "execution_count": 25,
   "id": "3fd96516",
   "metadata": {
    "scrolled": false
   },
   "outputs": [
    {
     "data": {
      "text/plain": [
       "Male Characters           4783\n",
       "Female Characters         1967\n",
       "Genderless Characters       20\n",
       "Transgender Characters       1\n",
       "Name: SEX, dtype: int64"
      ]
     },
     "execution_count": 25,
     "metadata": {},
     "output_type": "execute_result"
    }
   ],
   "source": [
    "dc['SEX'].value_counts()"
   ]
  },
  {
   "cell_type": "markdown",
   "id": "41b5a247",
   "metadata": {},
   "source": [
    "To calculate percentage count, use additional argument `normalize = True`:"
   ]
  },
  {
   "cell_type": "code",
   "execution_count": 26,
   "id": "b4ec4931",
   "metadata": {},
   "outputs": [
    {
     "data": {
      "text/plain": [
       "Male Characters           70.639492\n",
       "Female Characters         29.050362\n",
       "Genderless Characters      0.295377\n",
       "Transgender Characters     0.014769\n",
       "Name: SEX, dtype: float64"
      ]
     },
     "execution_count": 26,
     "metadata": {},
     "output_type": "execute_result"
    }
   ],
   "source": [
    "dc['SEX'].value_counts(normalize=True)*100"
   ]
  },
  {
   "cell_type": "markdown",
   "id": "e36542b6",
   "metadata": {
    "slideshow": {
     "slide_type": "slide"
    }
   },
   "source": [
    "## Counting appearances (continue)\n",
    "\n",
    "Another example, showing by default result is sorted by counts in descending order:"
   ]
  },
  {
   "cell_type": "code",
   "execution_count": 27,
   "id": "617c0a9d",
   "metadata": {
    "scrolled": false
   },
   "outputs": [
    {
     "data": {
      "text/plain": [
       "2006.0    303\n",
       "1988.0    286\n",
       "2010.0    279\n",
       "1989.0    266\n",
       "1987.0    254\n",
       "Name: YEAR, dtype: int64"
      ]
     },
     "execution_count": 27,
     "metadata": {},
     "output_type": "execute_result"
    }
   ],
   "source": [
    "dc['YEAR'].value_counts().head()"
   ]
  },
  {
   "cell_type": "markdown",
   "id": "b5a0149f",
   "metadata": {
    "slideshow": {
     "slide_type": "slide"
    }
   },
   "source": [
    "## Other insights we can get from descriptive statistics \n",
    "\n",
    "* From min and max:\n",
    "    * Any wrong data:\n",
    "        * Minimum for `APPEARANCES` has to be positive (from row \"min\")\n",
    "        * Minimum for `YEAR` should not be smaller than 1900; Maximum for `YEAR` should not be larger than 2022\n",
    "    * Cover required data range:\n",
    "        * Maximum for `YEAR` is 2013 - the dataset does not seem to be updated\n",
    "* Missing data (from row \"count\")"
   ]
  },
  {
   "cell_type": "markdown",
   "id": "8b12153b",
   "metadata": {
    "slideshow": {
     "slide_type": "slide"
    }
   },
   "source": [
    "## Other insights we can get from descriptive statistics (continue)"
   ]
  },
  {
   "cell_type": "code",
   "execution_count": 28,
   "id": "15e50e18",
   "metadata": {
    "scrolled": false
   },
   "outputs": [
    {
     "data": {
      "text/html": [
       "<div>\n",
       "<style scoped>\n",
       "    .dataframe tbody tr th:only-of-type {\n",
       "        vertical-align: middle;\n",
       "    }\n",
       "\n",
       "    .dataframe tbody tr th {\n",
       "        vertical-align: top;\n",
       "    }\n",
       "\n",
       "    .dataframe thead th {\n",
       "        text-align: right;\n",
       "    }\n",
       "</style>\n",
       "<table border=\"1\" class=\"dataframe\">\n",
       "  <thead>\n",
       "    <tr style=\"text-align: right;\">\n",
       "      <th></th>\n",
       "      <th>ALIGN</th>\n",
       "      <th>SEX</th>\n",
       "      <th>APPEARANCES</th>\n",
       "      <th>YEAR</th>\n",
       "    </tr>\n",
       "  </thead>\n",
       "  <tbody>\n",
       "    <tr>\n",
       "      <th>count</th>\n",
       "      <td>6295</td>\n",
       "      <td>6771</td>\n",
       "      <td>6541.000000</td>\n",
       "      <td>6827.000000</td>\n",
       "    </tr>\n",
       "    <tr>\n",
       "      <th>unique</th>\n",
       "      <td>4</td>\n",
       "      <td>4</td>\n",
       "      <td>NaN</td>\n",
       "      <td>NaN</td>\n",
       "    </tr>\n",
       "    <tr>\n",
       "      <th>top</th>\n",
       "      <td>Bad Characters</td>\n",
       "      <td>Male Characters</td>\n",
       "      <td>NaN</td>\n",
       "      <td>NaN</td>\n",
       "    </tr>\n",
       "    <tr>\n",
       "      <th>freq</th>\n",
       "      <td>2895</td>\n",
       "      <td>4783</td>\n",
       "      <td>NaN</td>\n",
       "      <td>NaN</td>\n",
       "    </tr>\n",
       "    <tr>\n",
       "      <th>mean</th>\n",
       "      <td>NaN</td>\n",
       "      <td>NaN</td>\n",
       "      <td>23.625134</td>\n",
       "      <td>1989.766662</td>\n",
       "    </tr>\n",
       "    <tr>\n",
       "      <th>std</th>\n",
       "      <td>NaN</td>\n",
       "      <td>NaN</td>\n",
       "      <td>87.378509</td>\n",
       "      <td>16.824194</td>\n",
       "    </tr>\n",
       "    <tr>\n",
       "      <th>min</th>\n",
       "      <td>NaN</td>\n",
       "      <td>NaN</td>\n",
       "      <td>1.000000</td>\n",
       "      <td>1935.000000</td>\n",
       "    </tr>\n",
       "    <tr>\n",
       "      <th>25%</th>\n",
       "      <td>NaN</td>\n",
       "      <td>NaN</td>\n",
       "      <td>2.000000</td>\n",
       "      <td>1983.000000</td>\n",
       "    </tr>\n",
       "    <tr>\n",
       "      <th>50%</th>\n",
       "      <td>NaN</td>\n",
       "      <td>NaN</td>\n",
       "      <td>6.000000</td>\n",
       "      <td>1992.000000</td>\n",
       "    </tr>\n",
       "    <tr>\n",
       "      <th>75%</th>\n",
       "      <td>NaN</td>\n",
       "      <td>NaN</td>\n",
       "      <td>15.000000</td>\n",
       "      <td>2003.000000</td>\n",
       "    </tr>\n",
       "    <tr>\n",
       "      <th>max</th>\n",
       "      <td>NaN</td>\n",
       "      <td>NaN</td>\n",
       "      <td>3093.000000</td>\n",
       "      <td>2013.000000</td>\n",
       "    </tr>\n",
       "  </tbody>\n",
       "</table>\n",
       "</div>"
      ],
      "text/plain": [
       "                 ALIGN              SEX  APPEARANCES         YEAR\n",
       "count             6295             6771  6541.000000  6827.000000\n",
       "unique               4                4          NaN          NaN\n",
       "top     Bad Characters  Male Characters          NaN          NaN\n",
       "freq              2895             4783          NaN          NaN\n",
       "mean               NaN              NaN    23.625134  1989.766662\n",
       "std                NaN              NaN    87.378509    16.824194\n",
       "min                NaN              NaN     1.000000  1935.000000\n",
       "25%                NaN              NaN     2.000000  1983.000000\n",
       "50%                NaN              NaN     6.000000  1992.000000\n",
       "75%                NaN              NaN    15.000000  2003.000000\n",
       "max                NaN              NaN  3093.000000  2013.000000"
      ]
     },
     "execution_count": 28,
     "metadata": {},
     "output_type": "execute_result"
    }
   ],
   "source": [
    "dc.describe(include = 'all')[['ALIGN', 'SEX', 'APPEARANCES', 'YEAR']]"
   ]
  },
  {
   "cell_type": "markdown",
   "id": "39256ba3",
   "metadata": {
    "slideshow": {
     "slide_type": "slide"
    }
   },
   "source": [
    "# Data wrangling"
   ]
  },
  {
   "cell_type": "markdown",
   "id": "6ce862e5",
   "metadata": {
    "slideshow": {
     "slide_type": "slide"
    }
   },
   "source": [
    "## Data wrangling\n",
    "\n",
    "Data wrangling (or data cleaning, data munging) refers to a variety of processes designed to transform raw data into more readily used formats\n",
    "* Examples:\n",
    "    * Filtering: removing unnecessary or irrelevant data\n",
    "    * Formating the data\n",
    "    * Handle extreme outliers, missing, duplicate or wrong values in data\n",
    "    * Merging multiple data sources\n",
    "    * Reshaping the data\n",
    "    \n",
    "How to perform data wrangling depends on the data you are working on and the goal you are trying to achieve."
   ]
  },
  {
   "cell_type": "markdown",
   "id": "34a9eab5",
   "metadata": {
    "slideshow": {
     "slide_type": "slide"
    }
   },
   "source": [
    "# Filtering data"
   ]
  },
  {
   "cell_type": "markdown",
   "id": "b8d40204",
   "metadata": {
    "slideshow": {
     "slide_type": "slide"
    }
   },
   "source": [
    "## Removing unnecessary columns\n",
    "\n",
    "Previously we have seen that we only need to keep columns like `name`, `SEX`, `APPEARANCES`, `YEAR`, `ALIGN`.\n",
    "\n",
    "* In pandas, we can discard the rows or columns by using `drop()`:"
   ]
  },
  {
   "cell_type": "code",
   "execution_count": 15,
   "id": "a569f960",
   "metadata": {
    "scrolled": true
   },
   "outputs": [
    {
     "data": {
      "text/html": [
       "<div>\n",
       "<style scoped>\n",
       "    .dataframe tbody tr th:only-of-type {\n",
       "        vertical-align: middle;\n",
       "    }\n",
       "\n",
       "    .dataframe tbody tr th {\n",
       "        vertical-align: top;\n",
       "    }\n",
       "\n",
       "    .dataframe thead th {\n",
       "        text-align: right;\n",
       "    }\n",
       "</style>\n",
       "<table border=\"1\" class=\"dataframe\">\n",
       "  <thead>\n",
       "    <tr style=\"text-align: right;\">\n",
       "      <th></th>\n",
       "      <th>page_id</th>\n",
       "      <th>name</th>\n",
       "      <th>urlslug</th>\n",
       "      <th>ID</th>\n",
       "      <th>ALIGN</th>\n",
       "      <th>EYE</th>\n",
       "      <th>HAIR</th>\n",
       "      <th>SEX</th>\n",
       "      <th>GSM</th>\n",
       "      <th>ALIVE</th>\n",
       "      <th>APPEARANCES</th>\n",
       "      <th>FIRST APPEARANCE</th>\n",
       "      <th>YEAR</th>\n",
       "    </tr>\n",
       "  </thead>\n",
       "  <tbody>\n",
       "    <tr>\n",
       "      <th>0</th>\n",
       "      <td>1422</td>\n",
       "      <td>Batman (Bruce Wayne)</td>\n",
       "      <td>\\/wiki\\/Batman_(Bruce_Wayne)</td>\n",
       "      <td>Secret Identity</td>\n",
       "      <td>Good Characters</td>\n",
       "      <td>Blue Eyes</td>\n",
       "      <td>Black Hair</td>\n",
       "      <td>Male Characters</td>\n",
       "      <td>NaN</td>\n",
       "      <td>Living Characters</td>\n",
       "      <td>3093.0</td>\n",
       "      <td>1939, May</td>\n",
       "      <td>1939.0</td>\n",
       "    </tr>\n",
       "    <tr>\n",
       "      <th>1</th>\n",
       "      <td>23387</td>\n",
       "      <td>Superman (Clark Kent)</td>\n",
       "      <td>\\/wiki\\/Superman_(Clark_Kent)</td>\n",
       "      <td>Secret Identity</td>\n",
       "      <td>Good Characters</td>\n",
       "      <td>Blue Eyes</td>\n",
       "      <td>Black Hair</td>\n",
       "      <td>Male Characters</td>\n",
       "      <td>NaN</td>\n",
       "      <td>Living Characters</td>\n",
       "      <td>2496.0</td>\n",
       "      <td>1986, October</td>\n",
       "      <td>1986.0</td>\n",
       "    </tr>\n",
       "  </tbody>\n",
       "</table>\n",
       "</div>"
      ],
      "text/plain": [
       "   page_id                   name                        urlslug  \\\n",
       "0     1422   Batman (Bruce Wayne)   \\/wiki\\/Batman_(Bruce_Wayne)   \n",
       "1    23387  Superman (Clark Kent)  \\/wiki\\/Superman_(Clark_Kent)   \n",
       "\n",
       "                ID            ALIGN        EYE        HAIR              SEX  \\\n",
       "0  Secret Identity  Good Characters  Blue Eyes  Black Hair  Male Characters   \n",
       "1  Secret Identity  Good Characters  Blue Eyes  Black Hair  Male Characters   \n",
       "\n",
       "   GSM              ALIVE  APPEARANCES FIRST APPEARANCE    YEAR  \n",
       "0  NaN  Living Characters       3093.0        1939, May  1939.0  \n",
       "1  NaN  Living Characters       2496.0    1986, October  1986.0  "
      ]
     },
     "execution_count": 15,
     "metadata": {},
     "output_type": "execute_result"
    }
   ],
   "source": [
    "import pandas as pd\n",
    "dc = pd.read_csv('data/dc-wikia-data.csv')\n",
    "dc.head(2)"
   ]
  },
  {
   "cell_type": "code",
   "execution_count": 16,
   "id": "557113cf",
   "metadata": {
    "scrolled": true
   },
   "outputs": [
    {
     "data": {
      "text/html": [
       "<div>\n",
       "<style scoped>\n",
       "    .dataframe tbody tr th:only-of-type {\n",
       "        vertical-align: middle;\n",
       "    }\n",
       "\n",
       "    .dataframe tbody tr th {\n",
       "        vertical-align: top;\n",
       "    }\n",
       "\n",
       "    .dataframe thead th {\n",
       "        text-align: right;\n",
       "    }\n",
       "</style>\n",
       "<table border=\"1\" class=\"dataframe\">\n",
       "  <thead>\n",
       "    <tr style=\"text-align: right;\">\n",
       "      <th></th>\n",
       "      <th>name</th>\n",
       "      <th>urlslug</th>\n",
       "      <th>ID</th>\n",
       "      <th>ALIGN</th>\n",
       "      <th>EYE</th>\n",
       "      <th>HAIR</th>\n",
       "      <th>SEX</th>\n",
       "      <th>GSM</th>\n",
       "      <th>ALIVE</th>\n",
       "      <th>APPEARANCES</th>\n",
       "      <th>FIRST APPEARANCE</th>\n",
       "      <th>YEAR</th>\n",
       "    </tr>\n",
       "  </thead>\n",
       "  <tbody>\n",
       "    <tr>\n",
       "      <th>0</th>\n",
       "      <td>Batman (Bruce Wayne)</td>\n",
       "      <td>\\/wiki\\/Batman_(Bruce_Wayne)</td>\n",
       "      <td>Secret Identity</td>\n",
       "      <td>Good Characters</td>\n",
       "      <td>Blue Eyes</td>\n",
       "      <td>Black Hair</td>\n",
       "      <td>Male Characters</td>\n",
       "      <td>NaN</td>\n",
       "      <td>Living Characters</td>\n",
       "      <td>3093.0</td>\n",
       "      <td>1939, May</td>\n",
       "      <td>1939.0</td>\n",
       "    </tr>\n",
       "    <tr>\n",
       "      <th>1</th>\n",
       "      <td>Superman (Clark Kent)</td>\n",
       "      <td>\\/wiki\\/Superman_(Clark_Kent)</td>\n",
       "      <td>Secret Identity</td>\n",
       "      <td>Good Characters</td>\n",
       "      <td>Blue Eyes</td>\n",
       "      <td>Black Hair</td>\n",
       "      <td>Male Characters</td>\n",
       "      <td>NaN</td>\n",
       "      <td>Living Characters</td>\n",
       "      <td>2496.0</td>\n",
       "      <td>1986, October</td>\n",
       "      <td>1986.0</td>\n",
       "    </tr>\n",
       "  </tbody>\n",
       "</table>\n",
       "</div>"
      ],
      "text/plain": [
       "                    name                        urlslug               ID  \\\n",
       "0   Batman (Bruce Wayne)   \\/wiki\\/Batman_(Bruce_Wayne)  Secret Identity   \n",
       "1  Superman (Clark Kent)  \\/wiki\\/Superman_(Clark_Kent)  Secret Identity   \n",
       "\n",
       "             ALIGN        EYE        HAIR              SEX  GSM  \\\n",
       "0  Good Characters  Blue Eyes  Black Hair  Male Characters  NaN   \n",
       "1  Good Characters  Blue Eyes  Black Hair  Male Characters  NaN   \n",
       "\n",
       "               ALIVE  APPEARANCES FIRST APPEARANCE    YEAR  \n",
       "0  Living Characters       3093.0        1939, May  1939.0  \n",
       "1  Living Characters       2496.0    1986, October  1986.0  "
      ]
     },
     "execution_count": 16,
     "metadata": {},
     "output_type": "execute_result"
    }
   ],
   "source": [
    "# axis = 1 means we drop the column(s), inplace means to change the original data\n",
    "dc.drop('page_id', axis = 1, inplace = True) \n",
    "dc.head(2)"
   ]
  },
  {
   "cell_type": "markdown",
   "id": "fa92291c",
   "metadata": {
    "slideshow": {
     "slide_type": "slide"
    }
   },
   "source": [
    "## Removing unnecessary columns (continue)\n",
    "\n",
    "Alternately, you can select the columns you want:"
   ]
  },
  {
   "cell_type": "code",
   "execution_count": 26,
   "id": "1d3be403",
   "metadata": {
    "scrolled": true
   },
   "outputs": [
    {
     "data": {
      "text/html": [
       "<div>\n",
       "<style scoped>\n",
       "    .dataframe tbody tr th:only-of-type {\n",
       "        vertical-align: middle;\n",
       "    }\n",
       "\n",
       "    .dataframe tbody tr th {\n",
       "        vertical-align: top;\n",
       "    }\n",
       "\n",
       "    .dataframe thead th {\n",
       "        text-align: right;\n",
       "    }\n",
       "</style>\n",
       "<table border=\"1\" class=\"dataframe\">\n",
       "  <thead>\n",
       "    <tr style=\"text-align: right;\">\n",
       "      <th></th>\n",
       "      <th>name</th>\n",
       "      <th>SEX</th>\n",
       "      <th>APPEARANCES</th>\n",
       "      <th>YEAR</th>\n",
       "      <th>ALIGN</th>\n",
       "    </tr>\n",
       "  </thead>\n",
       "  <tbody>\n",
       "    <tr>\n",
       "      <th>0</th>\n",
       "      <td>Batman (Bruce Wayne)</td>\n",
       "      <td>Male Characters</td>\n",
       "      <td>3093.0</td>\n",
       "      <td>1939.0</td>\n",
       "      <td>Good Characters</td>\n",
       "    </tr>\n",
       "    <tr>\n",
       "      <th>1</th>\n",
       "      <td>Superman (Clark Kent)</td>\n",
       "      <td>Male Characters</td>\n",
       "      <td>2496.0</td>\n",
       "      <td>1986.0</td>\n",
       "      <td>Good Characters</td>\n",
       "    </tr>\n",
       "    <tr>\n",
       "      <th>2</th>\n",
       "      <td>Green Lantern (Hal Jordan)</td>\n",
       "      <td>Male Characters</td>\n",
       "      <td>1565.0</td>\n",
       "      <td>1959.0</td>\n",
       "      <td>Good Characters</td>\n",
       "    </tr>\n",
       "  </tbody>\n",
       "</table>\n",
       "</div>"
      ],
      "text/plain": [
       "                         name              SEX  APPEARANCES    YEAR  \\\n",
       "0        Batman (Bruce Wayne)  Male Characters       3093.0  1939.0   \n",
       "1       Superman (Clark Kent)  Male Characters       2496.0  1986.0   \n",
       "2  Green Lantern (Hal Jordan)  Male Characters       1565.0  1959.0   \n",
       "\n",
       "             ALIGN  \n",
       "0  Good Characters  \n",
       "1  Good Characters  \n",
       "2  Good Characters  "
      ]
     },
     "metadata": {},
     "output_type": "display_data"
    },
    {
     "data": {
      "text/html": [
       "<div>\n",
       "<style scoped>\n",
       "    .dataframe tbody tr th:only-of-type {\n",
       "        vertical-align: middle;\n",
       "    }\n",
       "\n",
       "    .dataframe tbody tr th {\n",
       "        vertical-align: top;\n",
       "    }\n",
       "\n",
       "    .dataframe thead th {\n",
       "        text-align: right;\n",
       "    }\n",
       "</style>\n",
       "<table border=\"1\" class=\"dataframe\">\n",
       "  <thead>\n",
       "    <tr style=\"text-align: right;\">\n",
       "      <th></th>\n",
       "      <th>name</th>\n",
       "      <th>SEX</th>\n",
       "      <th>APPEARANCES</th>\n",
       "      <th>YEAR</th>\n",
       "      <th>ALIGN</th>\n",
       "    </tr>\n",
       "  </thead>\n",
       "  <tbody>\n",
       "    <tr>\n",
       "      <th>6893</th>\n",
       "      <td>William Harrison (New Earth)</td>\n",
       "      <td>Male Characters</td>\n",
       "      <td>NaN</td>\n",
       "      <td>NaN</td>\n",
       "      <td>Good Characters</td>\n",
       "    </tr>\n",
       "    <tr>\n",
       "      <th>6894</th>\n",
       "      <td>William McKinley (New Earth)</td>\n",
       "      <td>Male Characters</td>\n",
       "      <td>NaN</td>\n",
       "      <td>NaN</td>\n",
       "      <td>Good Characters</td>\n",
       "    </tr>\n",
       "    <tr>\n",
       "      <th>6895</th>\n",
       "      <td>Mookie (New Earth)</td>\n",
       "      <td>Male Characters</td>\n",
       "      <td>NaN</td>\n",
       "      <td>NaN</td>\n",
       "      <td>Bad Characters</td>\n",
       "    </tr>\n",
       "  </tbody>\n",
       "</table>\n",
       "</div>"
      ],
      "text/plain": [
       "                              name              SEX  APPEARANCES  YEAR  \\\n",
       "6893  William Harrison (New Earth)  Male Characters          NaN   NaN   \n",
       "6894  William McKinley (New Earth)  Male Characters          NaN   NaN   \n",
       "6895            Mookie (New Earth)  Male Characters          NaN   NaN   \n",
       "\n",
       "                ALIGN  \n",
       "6893  Good Characters  \n",
       "6894  Good Characters  \n",
       "6895   Bad Characters  "
      ]
     },
     "metadata": {},
     "output_type": "display_data"
    }
   ],
   "source": [
    "dc = dc[['name', 'SEX', 'APPEARANCES', 'YEAR', 'ALIGN']]\n",
    "display(dc.head(3))\n",
    "display(dc.tail(3))"
   ]
  },
  {
   "cell_type": "markdown",
   "id": "50002004",
   "metadata": {},
   "source": [
    "Note reassignment is needed."
   ]
  },
  {
   "cell_type": "markdown",
   "id": "aaf90de4",
   "metadata": {
    "slideshow": {
     "slide_type": "slide"
    }
   },
   "source": [
    "## Filtering data based on some conditions\n",
    "\n",
    "Depending on the analysis, we may only want to keep rows fulfilling certain conditions. For example:\n",
    "* Select data with `YEAR` between 2000 to 2010:"
   ]
  },
  {
   "cell_type": "code",
   "execution_count": 27,
   "id": "e66d3eeb",
   "metadata": {
    "scrolled": true
   },
   "outputs": [
    {
     "data": {
      "text/html": [
       "<div>\n",
       "<style scoped>\n",
       "    .dataframe tbody tr th:only-of-type {\n",
       "        vertical-align: middle;\n",
       "    }\n",
       "\n",
       "    .dataframe tbody tr th {\n",
       "        vertical-align: top;\n",
       "    }\n",
       "\n",
       "    .dataframe thead th {\n",
       "        text-align: right;\n",
       "    }\n",
       "</style>\n",
       "<table border=\"1\" class=\"dataframe\">\n",
       "  <thead>\n",
       "    <tr style=\"text-align: right;\">\n",
       "      <th></th>\n",
       "      <th>name</th>\n",
       "      <th>SEX</th>\n",
       "      <th>APPEARANCES</th>\n",
       "      <th>YEAR</th>\n",
       "      <th>ALIGN</th>\n",
       "    </tr>\n",
       "  </thead>\n",
       "  <tbody>\n",
       "    <tr>\n",
       "      <th>71</th>\n",
       "      <td>Kara Zor-El (New Earth)</td>\n",
       "      <td>Female Characters</td>\n",
       "      <td>297.0</td>\n",
       "      <td>2004.0</td>\n",
       "      <td>Good Characters</td>\n",
       "    </tr>\n",
       "    <tr>\n",
       "      <th>159</th>\n",
       "      <td>Jason Rusch (New Earth)</td>\n",
       "      <td>Male Characters</td>\n",
       "      <td>165.0</td>\n",
       "      <td>2004.0</td>\n",
       "      <td>Good Characters</td>\n",
       "    </tr>\n",
       "    <tr>\n",
       "      <th>162</th>\n",
       "      <td>Jaime Reyes (New Earth)</td>\n",
       "      <td>Male Characters</td>\n",
       "      <td>164.0</td>\n",
       "      <td>2006.0</td>\n",
       "      <td>Good Characters</td>\n",
       "    </tr>\n",
       "    <tr>\n",
       "      <th>246</th>\n",
       "      <td>Crispus Allen (New Earth)</td>\n",
       "      <td>Male Characters</td>\n",
       "      <td>116.0</td>\n",
       "      <td>2000.0</td>\n",
       "      <td>Good Characters</td>\n",
       "    </tr>\n",
       "    <tr>\n",
       "      <th>263</th>\n",
       "      <td>Mia Dearden (New Earth)</td>\n",
       "      <td>Female Characters</td>\n",
       "      <td>109.0</td>\n",
       "      <td>2001.0</td>\n",
       "      <td>Good Characters</td>\n",
       "    </tr>\n",
       "  </tbody>\n",
       "</table>\n",
       "</div>"
      ],
      "text/plain": [
       "                          name                SEX  APPEARANCES    YEAR  \\\n",
       "71     Kara Zor-El (New Earth)  Female Characters        297.0  2004.0   \n",
       "159    Jason Rusch (New Earth)    Male Characters        165.0  2004.0   \n",
       "162    Jaime Reyes (New Earth)    Male Characters        164.0  2006.0   \n",
       "246  Crispus Allen (New Earth)    Male Characters        116.0  2000.0   \n",
       "263    Mia Dearden (New Earth)  Female Characters        109.0  2001.0   \n",
       "\n",
       "               ALIGN  \n",
       "71   Good Characters  \n",
       "159  Good Characters  \n",
       "162  Good Characters  \n",
       "246  Good Characters  \n",
       "263  Good Characters  "
      ]
     },
     "execution_count": 27,
     "metadata": {},
     "output_type": "execute_result"
    }
   ],
   "source": [
    "dc[dc['YEAR'].between(2000, 2010)].head() # by default include the end points"
   ]
  },
  {
   "cell_type": "markdown",
   "id": "aa8facc0",
   "metadata": {
    "slideshow": {
     "slide_type": "slide"
    }
   },
   "source": [
    "## Filtering data based on some conditions (continue)\n",
    "\n",
    "* Select characters that are not male or female (note characters with no gender information will also be included):"
   ]
  },
  {
   "cell_type": "code",
   "execution_count": 18,
   "id": "5c4226aa",
   "metadata": {
    "scrolled": true
   },
   "outputs": [
    {
     "data": {
      "text/html": [
       "<div>\n",
       "<style scoped>\n",
       "    .dataframe tbody tr th:only-of-type {\n",
       "        vertical-align: middle;\n",
       "    }\n",
       "\n",
       "    .dataframe tbody tr th {\n",
       "        vertical-align: top;\n",
       "    }\n",
       "\n",
       "    .dataframe thead th {\n",
       "        text-align: right;\n",
       "    }\n",
       "</style>\n",
       "<table border=\"1\" class=\"dataframe\">\n",
       "  <thead>\n",
       "    <tr style=\"text-align: right;\">\n",
       "      <th></th>\n",
       "      <th>name</th>\n",
       "      <th>SEX</th>\n",
       "      <th>APPEARANCES</th>\n",
       "      <th>YEAR</th>\n",
       "      <th>ALIGN</th>\n",
       "    </tr>\n",
       "  </thead>\n",
       "  <tbody>\n",
       "    <tr>\n",
       "      <th>242</th>\n",
       "      <td>Khaji Da (New Earth)</td>\n",
       "      <td>NaN</td>\n",
       "      <td>121.0</td>\n",
       "      <td>1964.0</td>\n",
       "      <td>Good Characters</td>\n",
       "    </tr>\n",
       "    <tr>\n",
       "      <th>343</th>\n",
       "      <td>Rosabelle Mendez (New Earth)</td>\n",
       "      <td>NaN</td>\n",
       "      <td>86.0</td>\n",
       "      <td>1991.0</td>\n",
       "      <td>Good Characters</td>\n",
       "    </tr>\n",
       "    <tr>\n",
       "      <th>352</th>\n",
       "      <td>Parallax (New Earth)</td>\n",
       "      <td>NaN</td>\n",
       "      <td>84.0</td>\n",
       "      <td>1994.0</td>\n",
       "      <td>Bad Characters</td>\n",
       "    </tr>\n",
       "    <tr>\n",
       "      <th>514</th>\n",
       "      <td>Chemo (New Earth)</td>\n",
       "      <td>NaN</td>\n",
       "      <td>58.0</td>\n",
       "      <td>1962.0</td>\n",
       "      <td>Bad Characters</td>\n",
       "    </tr>\n",
       "    <tr>\n",
       "      <th>628</th>\n",
       "      <td>Ion (New Earth)</td>\n",
       "      <td>NaN</td>\n",
       "      <td>45.0</td>\n",
       "      <td>2006.0</td>\n",
       "      <td>Good Characters</td>\n",
       "    </tr>\n",
       "  </tbody>\n",
       "</table>\n",
       "</div>"
      ],
      "text/plain": [
       "                             name  SEX  APPEARANCES    YEAR            ALIGN\n",
       "242          Khaji Da (New Earth)  NaN        121.0  1964.0  Good Characters\n",
       "343  Rosabelle Mendez (New Earth)  NaN         86.0  1991.0  Good Characters\n",
       "352          Parallax (New Earth)  NaN         84.0  1994.0   Bad Characters\n",
       "514             Chemo (New Earth)  NaN         58.0  1962.0   Bad Characters\n",
       "628               Ion (New Earth)  NaN         45.0  2006.0  Good Characters"
      ]
     },
     "execution_count": 18,
     "metadata": {},
     "output_type": "execute_result"
    }
   ],
   "source": [
    "dc[~dc['SEX'].isin(['Male Characters', 'Female Characters'])].head()"
   ]
  },
  {
   "cell_type": "markdown",
   "id": "9f24dd80",
   "metadata": {},
   "source": [
    "Note `~` is used to invert boolean sequence."
   ]
  },
  {
   "cell_type": "markdown",
   "id": "3b77859c",
   "metadata": {
    "slideshow": {
     "slide_type": "slide"
    }
   },
   "source": [
    "# Formating data"
   ]
  },
  {
   "cell_type": "markdown",
   "id": "9e53f8f6",
   "metadata": {
    "slideshow": {
     "slide_type": "slide"
    }
   },
   "source": [
    "## Renaming columns\n",
    "\n",
    "Note above we have `name` in lowercase but other columns are in capital letters. We can unify it by renaming the `name` column using `rename()`:"
   ]
  },
  {
   "cell_type": "code",
   "execution_count": 6,
   "id": "73236573",
   "metadata": {
    "scrolled": false
   },
   "outputs": [
    {
     "data": {
      "text/html": [
       "<div>\n",
       "<style scoped>\n",
       "    .dataframe tbody tr th:only-of-type {\n",
       "        vertical-align: middle;\n",
       "    }\n",
       "\n",
       "    .dataframe tbody tr th {\n",
       "        vertical-align: top;\n",
       "    }\n",
       "\n",
       "    .dataframe thead th {\n",
       "        text-align: right;\n",
       "    }\n",
       "</style>\n",
       "<table border=\"1\" class=\"dataframe\">\n",
       "  <thead>\n",
       "    <tr style=\"text-align: right;\">\n",
       "      <th></th>\n",
       "      <th>NAME</th>\n",
       "      <th>SEX</th>\n",
       "      <th>APPEARANCES</th>\n",
       "      <th>YEAR</th>\n",
       "      <th>ALIGN</th>\n",
       "    </tr>\n",
       "  </thead>\n",
       "  <tbody>\n",
       "    <tr>\n",
       "      <th>0</th>\n",
       "      <td>Batman (Bruce Wayne)</td>\n",
       "      <td>Male Characters</td>\n",
       "      <td>3093.0</td>\n",
       "      <td>1939.0</td>\n",
       "      <td>Good Characters</td>\n",
       "    </tr>\n",
       "    <tr>\n",
       "      <th>1</th>\n",
       "      <td>Superman (Clark Kent)</td>\n",
       "      <td>Male Characters</td>\n",
       "      <td>2496.0</td>\n",
       "      <td>1986.0</td>\n",
       "      <td>Good Characters</td>\n",
       "    </tr>\n",
       "    <tr>\n",
       "      <th>2</th>\n",
       "      <td>Green Lantern (Hal Jordan)</td>\n",
       "      <td>Male Characters</td>\n",
       "      <td>1565.0</td>\n",
       "      <td>1959.0</td>\n",
       "      <td>Good Characters</td>\n",
       "    </tr>\n",
       "    <tr>\n",
       "      <th>3</th>\n",
       "      <td>James Gordon (New Earth)</td>\n",
       "      <td>Male Characters</td>\n",
       "      <td>1316.0</td>\n",
       "      <td>1987.0</td>\n",
       "      <td>Good Characters</td>\n",
       "    </tr>\n",
       "    <tr>\n",
       "      <th>4</th>\n",
       "      <td>Richard Grayson (New Earth)</td>\n",
       "      <td>Male Characters</td>\n",
       "      <td>1237.0</td>\n",
       "      <td>1940.0</td>\n",
       "      <td>Good Characters</td>\n",
       "    </tr>\n",
       "  </tbody>\n",
       "</table>\n",
       "</div>"
      ],
      "text/plain": [
       "                          NAME              SEX  APPEARANCES    YEAR  \\\n",
       "0         Batman (Bruce Wayne)  Male Characters       3093.0  1939.0   \n",
       "1        Superman (Clark Kent)  Male Characters       2496.0  1986.0   \n",
       "2   Green Lantern (Hal Jordan)  Male Characters       1565.0  1959.0   \n",
       "3     James Gordon (New Earth)  Male Characters       1316.0  1987.0   \n",
       "4  Richard Grayson (New Earth)  Male Characters       1237.0  1940.0   \n",
       "\n",
       "             ALIGN  \n",
       "0  Good Characters  \n",
       "1  Good Characters  \n",
       "2  Good Characters  \n",
       "3  Good Characters  \n",
       "4  Good Characters  "
      ]
     },
     "execution_count": 6,
     "metadata": {},
     "output_type": "execute_result"
    }
   ],
   "source": [
    "dc.rename(columns=str.upper).head()"
   ]
  },
  {
   "cell_type": "markdown",
   "id": "e89a1154",
   "metadata": {},
   "source": [
    "With the use of the string function `upper()`:"
   ]
  },
  {
   "cell_type": "code",
   "execution_count": 7,
   "id": "751b8ed2",
   "metadata": {
    "scrolled": false
   },
   "outputs": [
    {
     "data": {
      "text/plain": [
       "'NAME'"
      ]
     },
     "execution_count": 7,
     "metadata": {},
     "output_type": "execute_result"
    }
   ],
   "source": [
    "str.upper('name')"
   ]
  },
  {
   "cell_type": "code",
   "execution_count": 28,
   "id": "dc0d0be4",
   "metadata": {},
   "outputs": [
    {
     "data": {
      "text/plain": [
       "'HELLO'"
      ]
     },
     "execution_count": 28,
     "metadata": {},
     "output_type": "execute_result"
    }
   ],
   "source": [
    "str.upper('hello')"
   ]
  },
  {
   "cell_type": "markdown",
   "id": "087ff5aa",
   "metadata": {
    "slideshow": {
     "slide_type": "slide"
    }
   },
   "source": [
    "## Renaming columns (continue)\n",
    "\n",
    "Alternatively, we can provide `columns={'name': 'NAME'}` for which it indicates we want to change the column name from `'name'` to `'NAME'`:"
   ]
  },
  {
   "cell_type": "code",
   "execution_count": 8,
   "id": "5a3b67ab",
   "metadata": {
    "scrolled": true
   },
   "outputs": [
    {
     "data": {
      "text/html": [
       "<div>\n",
       "<style scoped>\n",
       "    .dataframe tbody tr th:only-of-type {\n",
       "        vertical-align: middle;\n",
       "    }\n",
       "\n",
       "    .dataframe tbody tr th {\n",
       "        vertical-align: top;\n",
       "    }\n",
       "\n",
       "    .dataframe thead th {\n",
       "        text-align: right;\n",
       "    }\n",
       "</style>\n",
       "<table border=\"1\" class=\"dataframe\">\n",
       "  <thead>\n",
       "    <tr style=\"text-align: right;\">\n",
       "      <th></th>\n",
       "      <th>NAME</th>\n",
       "      <th>SEX</th>\n",
       "      <th>APPEARANCES</th>\n",
       "      <th>YEAR</th>\n",
       "      <th>ALIGN</th>\n",
       "    </tr>\n",
       "  </thead>\n",
       "  <tbody>\n",
       "    <tr>\n",
       "      <th>0</th>\n",
       "      <td>Batman (Bruce Wayne)</td>\n",
       "      <td>Male Characters</td>\n",
       "      <td>3093.0</td>\n",
       "      <td>1939.0</td>\n",
       "      <td>Good Characters</td>\n",
       "    </tr>\n",
       "    <tr>\n",
       "      <th>1</th>\n",
       "      <td>Superman (Clark Kent)</td>\n",
       "      <td>Male Characters</td>\n",
       "      <td>2496.0</td>\n",
       "      <td>1986.0</td>\n",
       "      <td>Good Characters</td>\n",
       "    </tr>\n",
       "    <tr>\n",
       "      <th>2</th>\n",
       "      <td>Green Lantern (Hal Jordan)</td>\n",
       "      <td>Male Characters</td>\n",
       "      <td>1565.0</td>\n",
       "      <td>1959.0</td>\n",
       "      <td>Good Characters</td>\n",
       "    </tr>\n",
       "    <tr>\n",
       "      <th>3</th>\n",
       "      <td>James Gordon (New Earth)</td>\n",
       "      <td>Male Characters</td>\n",
       "      <td>1316.0</td>\n",
       "      <td>1987.0</td>\n",
       "      <td>Good Characters</td>\n",
       "    </tr>\n",
       "    <tr>\n",
       "      <th>4</th>\n",
       "      <td>Richard Grayson (New Earth)</td>\n",
       "      <td>Male Characters</td>\n",
       "      <td>1237.0</td>\n",
       "      <td>1940.0</td>\n",
       "      <td>Good Characters</td>\n",
       "    </tr>\n",
       "  </tbody>\n",
       "</table>\n",
       "</div>"
      ],
      "text/plain": [
       "                          NAME              SEX  APPEARANCES    YEAR  \\\n",
       "0         Batman (Bruce Wayne)  Male Characters       3093.0  1939.0   \n",
       "1        Superman (Clark Kent)  Male Characters       2496.0  1986.0   \n",
       "2   Green Lantern (Hal Jordan)  Male Characters       1565.0  1959.0   \n",
       "3     James Gordon (New Earth)  Male Characters       1316.0  1987.0   \n",
       "4  Richard Grayson (New Earth)  Male Characters       1237.0  1940.0   \n",
       "\n",
       "             ALIGN  \n",
       "0  Good Characters  \n",
       "1  Good Characters  \n",
       "2  Good Characters  \n",
       "3  Good Characters  \n",
       "4  Good Characters  "
      ]
     },
     "execution_count": 8,
     "metadata": {},
     "output_type": "execute_result"
    }
   ],
   "source": [
    "dc.rename(columns={'name': 'NAME'}, inplace=True)\n",
    "dc.head()"
   ]
  },
  {
   "cell_type": "markdown",
   "id": "f22daeb6",
   "metadata": {
    "slideshow": {
     "slide_type": "slide"
    }
   },
   "source": [
    "## Converting the variables to the desired type\n",
    "\n",
    "We can do so using `astype()`. For example:"
   ]
  },
  {
   "cell_type": "code",
   "execution_count": 29,
   "id": "75460d36",
   "metadata": {},
   "outputs": [
    {
     "name": "stdout",
     "output_type": "stream",
     "text": [
      "<class 'pandas.core.frame.DataFrame'>\n",
      "RangeIndex: 6896 entries, 0 to 6895\n",
      "Data columns (total 5 columns):\n",
      " #   Column       Non-Null Count  Dtype  \n",
      "---  ------       --------------  -----  \n",
      " 0   name         6896 non-null   object \n",
      " 1   SEX          6771 non-null   object \n",
      " 2   APPEARANCES  6541 non-null   float64\n",
      " 3   YEAR         6827 non-null   float64\n",
      " 4   ALIGN        6295 non-null   object \n",
      "dtypes: float64(2), object(3)\n",
      "memory usage: 269.5+ KB\n"
     ]
    }
   ],
   "source": [
    "dc.info()"
   ]
  },
  {
   "cell_type": "code",
   "execution_count": 9,
   "id": "b6a10aaf",
   "metadata": {},
   "outputs": [],
   "source": [
    "dc['SEX'] = dc['SEX'].astype('category')\n",
    "dc['ALIGN'] = dc['ALIGN'].astype('category')"
   ]
  },
  {
   "cell_type": "code",
   "execution_count": 10,
   "id": "b90a2771",
   "metadata": {
    "scrolled": true
   },
   "outputs": [
    {
     "name": "stdout",
     "output_type": "stream",
     "text": [
      "<class 'pandas.core.frame.DataFrame'>\n",
      "RangeIndex: 6896 entries, 0 to 6895\n",
      "Data columns (total 5 columns):\n",
      " #   Column       Non-Null Count  Dtype   \n",
      "---  ------       --------------  -----   \n",
      " 0   NAME         6896 non-null   object  \n",
      " 1   SEX          6771 non-null   category\n",
      " 2   APPEARANCES  6541 non-null   float64 \n",
      " 3   YEAR         6827 non-null   float64 \n",
      " 4   ALIGN        6295 non-null   category\n",
      "dtypes: category(2), float64(2), object(1)\n",
      "memory usage: 175.6+ KB\n"
     ]
    }
   ],
   "source": [
    "dc.info()"
   ]
  },
  {
   "cell_type": "markdown",
   "id": "3c9a05b5",
   "metadata": {
    "slideshow": {
     "slide_type": "slide"
    }
   },
   "source": [
    "## Converting the variables to the desired type (continue)\n",
    "\n",
    "Note for now we cannot convert the data type of `YEAR` or `APPEARANCES` to `int`, as non-finite values (`NA` or `inf`) cannot be converted to `int`.\n",
    "* For example, try run the following code and you will see an error message:"
   ]
  },
  {
   "cell_type": "code",
   "execution_count": null,
   "id": "946ba54e",
   "metadata": {
    "scrolled": true
   },
   "outputs": [],
   "source": [
    "dc['YEAR'] = dc['YEAR'].astype(int)"
   ]
  },
  {
   "cell_type": "markdown",
   "id": "cdd0e542",
   "metadata": {},
   "source": [
    "We can convert the data type after we have handled the missing data."
   ]
  },
  {
   "cell_type": "markdown",
   "id": "8ab10af0",
   "metadata": {
    "slideshow": {
     "slide_type": "slide"
    }
   },
   "source": [
    "## Sorting the data\n",
    "\n",
    "Depending on the analysis, you may want to sort your data based on the index or the values. For example:\n",
    "* Sort the characters by number of appearances in descending order:"
   ]
  },
  {
   "cell_type": "code",
   "execution_count": 13,
   "id": "cd01e6a0",
   "metadata": {
    "scrolled": false
   },
   "outputs": [
    {
     "data": {
      "text/html": [
       "<div>\n",
       "<style scoped>\n",
       "    .dataframe tbody tr th:only-of-type {\n",
       "        vertical-align: middle;\n",
       "    }\n",
       "\n",
       "    .dataframe tbody tr th {\n",
       "        vertical-align: top;\n",
       "    }\n",
       "\n",
       "    .dataframe thead th {\n",
       "        text-align: right;\n",
       "    }\n",
       "</style>\n",
       "<table border=\"1\" class=\"dataframe\">\n",
       "  <thead>\n",
       "    <tr style=\"text-align: right;\">\n",
       "      <th></th>\n",
       "      <th>NAME</th>\n",
       "      <th>SEX</th>\n",
       "      <th>APPEARANCES</th>\n",
       "      <th>YEAR</th>\n",
       "      <th>ALIGN</th>\n",
       "    </tr>\n",
       "  </thead>\n",
       "  <tbody>\n",
       "    <tr>\n",
       "      <th>0</th>\n",
       "      <td>Batman (Bruce Wayne)</td>\n",
       "      <td>Male Characters</td>\n",
       "      <td>3093.0</td>\n",
       "      <td>1939.0</td>\n",
       "      <td>Good Characters</td>\n",
       "    </tr>\n",
       "    <tr>\n",
       "      <th>1</th>\n",
       "      <td>Superman (Clark Kent)</td>\n",
       "      <td>Male Characters</td>\n",
       "      <td>2496.0</td>\n",
       "      <td>1986.0</td>\n",
       "      <td>Good Characters</td>\n",
       "    </tr>\n",
       "    <tr>\n",
       "      <th>2</th>\n",
       "      <td>Green Lantern (Hal Jordan)</td>\n",
       "      <td>Male Characters</td>\n",
       "      <td>1565.0</td>\n",
       "      <td>1959.0</td>\n",
       "      <td>Good Characters</td>\n",
       "    </tr>\n",
       "    <tr>\n",
       "      <th>3</th>\n",
       "      <td>James Gordon (New Earth)</td>\n",
       "      <td>Male Characters</td>\n",
       "      <td>1316.0</td>\n",
       "      <td>1987.0</td>\n",
       "      <td>Good Characters</td>\n",
       "    </tr>\n",
       "    <tr>\n",
       "      <th>4</th>\n",
       "      <td>Richard Grayson (New Earth)</td>\n",
       "      <td>Male Characters</td>\n",
       "      <td>1237.0</td>\n",
       "      <td>1940.0</td>\n",
       "      <td>Good Characters</td>\n",
       "    </tr>\n",
       "  </tbody>\n",
       "</table>\n",
       "</div>"
      ],
      "text/plain": [
       "                          NAME              SEX  APPEARANCES    YEAR  \\\n",
       "0         Batman (Bruce Wayne)  Male Characters       3093.0  1939.0   \n",
       "1        Superman (Clark Kent)  Male Characters       2496.0  1986.0   \n",
       "2   Green Lantern (Hal Jordan)  Male Characters       1565.0  1959.0   \n",
       "3     James Gordon (New Earth)  Male Characters       1316.0  1987.0   \n",
       "4  Richard Grayson (New Earth)  Male Characters       1237.0  1940.0   \n",
       "\n",
       "             ALIGN  \n",
       "0  Good Characters  \n",
       "1  Good Characters  \n",
       "2  Good Characters  \n",
       "3  Good Characters  \n",
       "4  Good Characters  "
      ]
     },
     "execution_count": 13,
     "metadata": {},
     "output_type": "execute_result"
    }
   ],
   "source": [
    "dc.sort_values(by='APPEARANCES', ascending=False).head()"
   ]
  },
  {
   "cell_type": "markdown",
   "id": "7ba36dd0",
   "metadata": {
    "slideshow": {
     "slide_type": "slide"
    }
   },
   "source": [
    "## Sorting the data (continue)\n",
    "\n",
    "Consider the number of coronavirus cases data downloaded from [UK government](https://coronavirus.data.gov.uk/details/cases?areaType=overview&areaName=United%20Kingdom):"
   ]
  },
  {
   "cell_type": "code",
   "execution_count": 19,
   "id": "0185f53d",
   "metadata": {
    "scrolled": false
   },
   "outputs": [
    {
     "data": {
      "text/html": [
       "<div>\n",
       "<style scoped>\n",
       "    .dataframe tbody tr th:only-of-type {\n",
       "        vertical-align: middle;\n",
       "    }\n",
       "\n",
       "    .dataframe tbody tr th {\n",
       "        vertical-align: top;\n",
       "    }\n",
       "\n",
       "    .dataframe thead th {\n",
       "        text-align: right;\n",
       "    }\n",
       "</style>\n",
       "<table border=\"1\" class=\"dataframe\">\n",
       "  <thead>\n",
       "    <tr style=\"text-align: right;\">\n",
       "      <th></th>\n",
       "      <th>areaType</th>\n",
       "      <th>areaName</th>\n",
       "      <th>areaCode</th>\n",
       "      <th>newCasesBySpecimenDate</th>\n",
       "      <th>cumCasesBySpecimenDate</th>\n",
       "    </tr>\n",
       "    <tr>\n",
       "      <th>date</th>\n",
       "      <th></th>\n",
       "      <th></th>\n",
       "      <th></th>\n",
       "      <th></th>\n",
       "      <th></th>\n",
       "    </tr>\n",
       "  </thead>\n",
       "  <tbody>\n",
       "    <tr>\n",
       "      <th>2022-01-29</th>\n",
       "      <td>overview</td>\n",
       "      <td>United Kingdom</td>\n",
       "      <td>K02000001</td>\n",
       "      <td>NaN</td>\n",
       "      <td>16374031</td>\n",
       "    </tr>\n",
       "    <tr>\n",
       "      <th>2022-01-28</th>\n",
       "      <td>overview</td>\n",
       "      <td>United Kingdom</td>\n",
       "      <td>K02000001</td>\n",
       "      <td>NaN</td>\n",
       "      <td>16374031</td>\n",
       "    </tr>\n",
       "    <tr>\n",
       "      <th>2022-01-27</th>\n",
       "      <td>overview</td>\n",
       "      <td>United Kingdom</td>\n",
       "      <td>K02000001</td>\n",
       "      <td>77983.0</td>\n",
       "      <td>16374031</td>\n",
       "    </tr>\n",
       "  </tbody>\n",
       "</table>\n",
       "</div>"
      ],
      "text/plain": [
       "            areaType        areaName   areaCode  newCasesBySpecimenDate  \\\n",
       "date                                                                      \n",
       "2022-01-29  overview  United Kingdom  K02000001                     NaN   \n",
       "2022-01-28  overview  United Kingdom  K02000001                     NaN   \n",
       "2022-01-27  overview  United Kingdom  K02000001                 77983.0   \n",
       "\n",
       "            cumCasesBySpecimenDate  \n",
       "date                                \n",
       "2022-01-29                16374031  \n",
       "2022-01-28                16374031  \n",
       "2022-01-27                16374031  "
      ]
     },
     "execution_count": 19,
     "metadata": {},
     "output_type": "execute_result"
    }
   ],
   "source": [
    "cases = pd.read_csv('data/cases.csv',\n",
    "                    parse_dates=True, index_col=3) # use date as index\n",
    "cases.head(3)"
   ]
  },
  {
   "cell_type": "markdown",
   "id": "61d6b7c2",
   "metadata": {},
   "source": [
    "Currently data is sorted in descending order by date. We can sort it into chronological order by:"
   ]
  },
  {
   "cell_type": "code",
   "execution_count": 15,
   "id": "ea3811c1",
   "metadata": {},
   "outputs": [
    {
     "data": {
      "text/html": [
       "<div>\n",
       "<style scoped>\n",
       "    .dataframe tbody tr th:only-of-type {\n",
       "        vertical-align: middle;\n",
       "    }\n",
       "\n",
       "    .dataframe tbody tr th {\n",
       "        vertical-align: top;\n",
       "    }\n",
       "\n",
       "    .dataframe thead th {\n",
       "        text-align: right;\n",
       "    }\n",
       "</style>\n",
       "<table border=\"1\" class=\"dataframe\">\n",
       "  <thead>\n",
       "    <tr style=\"text-align: right;\">\n",
       "      <th></th>\n",
       "      <th>areaType</th>\n",
       "      <th>areaName</th>\n",
       "      <th>areaCode</th>\n",
       "      <th>newCasesBySpecimenDate</th>\n",
       "      <th>cumCasesBySpecimenDate</th>\n",
       "    </tr>\n",
       "    <tr>\n",
       "      <th>date</th>\n",
       "      <th></th>\n",
       "      <th></th>\n",
       "      <th></th>\n",
       "      <th></th>\n",
       "      <th></th>\n",
       "    </tr>\n",
       "  </thead>\n",
       "  <tbody>\n",
       "    <tr>\n",
       "      <th>2020-01-30</th>\n",
       "      <td>overview</td>\n",
       "      <td>United Kingdom</td>\n",
       "      <td>K02000001</td>\n",
       "      <td>2.0</td>\n",
       "      <td>2</td>\n",
       "    </tr>\n",
       "    <tr>\n",
       "      <th>2020-01-31</th>\n",
       "      <td>overview</td>\n",
       "      <td>United Kingdom</td>\n",
       "      <td>K02000001</td>\n",
       "      <td>0.0</td>\n",
       "      <td>2</td>\n",
       "    </tr>\n",
       "    <tr>\n",
       "      <th>2020-02-01</th>\n",
       "      <td>overview</td>\n",
       "      <td>United Kingdom</td>\n",
       "      <td>K02000001</td>\n",
       "      <td>0.0</td>\n",
       "      <td>2</td>\n",
       "    </tr>\n",
       "  </tbody>\n",
       "</table>\n",
       "</div>"
      ],
      "text/plain": [
       "            areaType        areaName   areaCode  newCasesBySpecimenDate  \\\n",
       "date                                                                      \n",
       "2020-01-30  overview  United Kingdom  K02000001                     2.0   \n",
       "2020-01-31  overview  United Kingdom  K02000001                     0.0   \n",
       "2020-02-01  overview  United Kingdom  K02000001                     0.0   \n",
       "\n",
       "            cumCasesBySpecimenDate  \n",
       "date                                \n",
       "2020-01-30                       2  \n",
       "2020-01-31                       2  \n",
       "2020-02-01                       2  "
      ]
     },
     "execution_count": 15,
     "metadata": {},
     "output_type": "execute_result"
    }
   ],
   "source": [
    "cases.sort_index().head(3)"
   ]
  },
  {
   "cell_type": "markdown",
   "id": "89410c5b",
   "metadata": {},
   "source": [
    "We do not need `ascending=True` as by default `ascending=True` is used."
   ]
  },
  {
   "cell_type": "markdown",
   "id": "448058d4",
   "metadata": {
    "slideshow": {
     "slide_type": "slide"
    }
   },
   "source": [
    "## Removing duplicate data\n",
    "\n",
    "* Sometimes we may have duplicate values in the data\n",
    "    * For example, some students handed in the pre-course survey twice as they thought the first time the survey was not submitted properly\n",
    "* We can remove duplicate data by `drop_duplicate()`. For example:"
   ]
  },
  {
   "cell_type": "code",
   "execution_count": 30,
   "id": "78a44689",
   "metadata": {
    "scrolled": true
   },
   "outputs": [
    {
     "data": {
      "text/html": [
       "<div>\n",
       "<style scoped>\n",
       "    .dataframe tbody tr th:only-of-type {\n",
       "        vertical-align: middle;\n",
       "    }\n",
       "\n",
       "    .dataframe tbody tr th {\n",
       "        vertical-align: top;\n",
       "    }\n",
       "\n",
       "    .dataframe thead th {\n",
       "        text-align: right;\n",
       "    }\n",
       "</style>\n",
       "<table border=\"1\" class=\"dataframe\">\n",
       "  <thead>\n",
       "    <tr style=\"text-align: right;\">\n",
       "      <th></th>\n",
       "      <th>names</th>\n",
       "      <th>python_level</th>\n",
       "    </tr>\n",
       "  </thead>\n",
       "  <tbody>\n",
       "    <tr>\n",
       "      <th>0</th>\n",
       "      <td>Harry</td>\n",
       "      <td>High</td>\n",
       "    </tr>\n",
       "    <tr>\n",
       "      <th>1</th>\n",
       "      <td>Ron</td>\n",
       "      <td>Low</td>\n",
       "    </tr>\n",
       "    <tr>\n",
       "      <th>2</th>\n",
       "      <td>Harry</td>\n",
       "      <td>High</td>\n",
       "    </tr>\n",
       "  </tbody>\n",
       "</table>\n",
       "</div>"
      ],
      "text/plain": [
       "   names python_level\n",
       "0  Harry         High\n",
       "1    Ron          Low\n",
       "2  Harry         High"
      ]
     },
     "execution_count": 30,
     "metadata": {},
     "output_type": "execute_result"
    }
   ],
   "source": [
    "students = pd.DataFrame({'names': ['Harry', 'Ron', 'Harry'], \n",
    "                         'python_level': ['High', 'Low', 'High']})\n",
    "students"
   ]
  },
  {
   "cell_type": "code",
   "execution_count": 31,
   "id": "25d63dbb",
   "metadata": {},
   "outputs": [
    {
     "data": {
      "text/html": [
       "<div>\n",
       "<style scoped>\n",
       "    .dataframe tbody tr th:only-of-type {\n",
       "        vertical-align: middle;\n",
       "    }\n",
       "\n",
       "    .dataframe tbody tr th {\n",
       "        vertical-align: top;\n",
       "    }\n",
       "\n",
       "    .dataframe thead th {\n",
       "        text-align: right;\n",
       "    }\n",
       "</style>\n",
       "<table border=\"1\" class=\"dataframe\">\n",
       "  <thead>\n",
       "    <tr style=\"text-align: right;\">\n",
       "      <th></th>\n",
       "      <th>names</th>\n",
       "      <th>python_level</th>\n",
       "    </tr>\n",
       "  </thead>\n",
       "  <tbody>\n",
       "    <tr>\n",
       "      <th>0</th>\n",
       "      <td>Harry</td>\n",
       "      <td>High</td>\n",
       "    </tr>\n",
       "    <tr>\n",
       "      <th>1</th>\n",
       "      <td>Ron</td>\n",
       "      <td>Low</td>\n",
       "    </tr>\n",
       "  </tbody>\n",
       "</table>\n",
       "</div>"
      ],
      "text/plain": [
       "   names python_level\n",
       "0  Harry         High\n",
       "1    Ron          Low"
      ]
     },
     "execution_count": 31,
     "metadata": {},
     "output_type": "execute_result"
    }
   ],
   "source": [
    "students.drop_duplicates(inplace = True)\n",
    "students"
   ]
  },
  {
   "cell_type": "markdown",
   "id": "b29b53ed",
   "metadata": {
    "slideshow": {
     "slide_type": "slide"
    }
   },
   "source": [
    "# Handling missing data"
   ]
  },
  {
   "cell_type": "markdown",
   "id": "0c41d99b",
   "metadata": {
    "slideshow": {
     "slide_type": "slide"
    }
   },
   "source": [
    "## Missing data\n",
    "\n",
    "Missing data occur when no data value is stored for the variable in an observation. \n",
    "* Missing data is a common problem and missing data can arise from various places in data:\n",
    "    * Survey data:\n",
    "        * Participants randomly miss some questions\n",
    "        * A respondent chooses not to respond to questions like \"Have you ever cheated in an exam?\"\n",
    "    * Study / experiment over time:\n",
    "        * Participants drop out of the study in a medical research\n",
    "        * Collecting a new variable partway through the data collection of a study\n",
    "    * Others:\n",
    "        * Corrupted results or measurements\n",
    "        * Movie review: each user only explicitly expresses his or her preferences small subset of movies"
   ]
  },
  {
   "cell_type": "markdown",
   "id": "2b70ce6b",
   "metadata": {
    "slideshow": {
     "slide_type": "slide"
    }
   },
   "source": [
    "## Representing missing data in Pandas\n",
    "\n",
    "`NaN` is used to indicate missing data. For example:"
   ]
  },
  {
   "cell_type": "code",
   "execution_count": 18,
   "id": "958dcebe",
   "metadata": {
    "scrolled": true
   },
   "outputs": [
    {
     "data": {
      "text/plain": [
       "6886    1936.0\n",
       "6887       NaN\n",
       "6888       NaN\n",
       "6889       NaN\n",
       "6890       NaN\n",
       "6891       NaN\n",
       "6892       NaN\n",
       "6893       NaN\n",
       "6894       NaN\n",
       "6895       NaN\n",
       "Name: YEAR, dtype: float64"
      ]
     },
     "execution_count": 18,
     "metadata": {},
     "output_type": "execute_result"
    }
   ],
   "source": [
    "dc.YEAR.tail(10)"
   ]
  },
  {
   "cell_type": "markdown",
   "id": "46ccd7b7",
   "metadata": {
    "slideshow": {
     "slide_type": "slide"
    }
   },
   "source": [
    "## Finding missing data in Pandas\n",
    "\n",
    "* `isnull()` and `notnull()` can be used to check if the data has missing data. For example:"
   ]
  },
  {
   "cell_type": "code",
   "execution_count": 19,
   "id": "28445138",
   "metadata": {
    "scrolled": false
   },
   "outputs": [
    {
     "data": {
      "text/plain": [
       "6886    False\n",
       "6887     True\n",
       "6888     True\n",
       "6889     True\n",
       "6890     True\n",
       "6891     True\n",
       "6892     True\n",
       "6893     True\n",
       "6894     True\n",
       "6895     True\n",
       "Name: YEAR, dtype: bool"
      ]
     },
     "execution_count": 19,
     "metadata": {},
     "output_type": "execute_result"
    }
   ],
   "source": [
    "dc.YEAR.isnull().tail(10)"
   ]
  },
  {
   "cell_type": "markdown",
   "id": "e59d2b7d",
   "metadata": {},
   "source": [
    "`isnull()` provides the value `True` if the corresponding data is missing."
   ]
  },
  {
   "cell_type": "markdown",
   "id": "ad3a412f",
   "metadata": {
    "slideshow": {
     "slide_type": "slide"
    }
   },
   "source": [
    "## Missing data in Pandas\n",
    "\n",
    "Notice often by default Pandas ignores the missing data for you when calculating statistics.  \n",
    "* For example, we have seen above `YEAR` has missing data, but we can calculate the following statistics without any issues:"
   ]
  },
  {
   "cell_type": "code",
   "execution_count": 20,
   "id": "e58e4f28",
   "metadata": {},
   "outputs": [
    {
     "data": {
      "text/plain": [
       "1989.7666617840925"
      ]
     },
     "execution_count": 20,
     "metadata": {},
     "output_type": "execute_result"
    }
   ],
   "source": [
    "dc.YEAR.mean()"
   ]
  },
  {
   "cell_type": "code",
   "execution_count": 21,
   "id": "128d71fa",
   "metadata": {
    "scrolled": true
   },
   "outputs": [
    {
     "data": {
      "text/plain": [
       "0    2006.0\n",
       "dtype: float64"
      ]
     },
     "execution_count": 21,
     "metadata": {},
     "output_type": "execute_result"
    }
   ],
   "source": [
    "dc.YEAR.mode()"
   ]
  },
  {
   "cell_type": "code",
   "execution_count": 22,
   "id": "e5d1a941",
   "metadata": {
    "scrolled": false
   },
   "outputs": [
    {
     "data": {
      "text/html": [
       "<div>\n",
       "<style scoped>\n",
       "    .dataframe tbody tr th:only-of-type {\n",
       "        vertical-align: middle;\n",
       "    }\n",
       "\n",
       "    .dataframe tbody tr th {\n",
       "        vertical-align: top;\n",
       "    }\n",
       "\n",
       "    .dataframe thead th {\n",
       "        text-align: right;\n",
       "    }\n",
       "</style>\n",
       "<table border=\"1\" class=\"dataframe\">\n",
       "  <thead>\n",
       "    <tr style=\"text-align: right;\">\n",
       "      <th></th>\n",
       "      <th>APPEARANCES</th>\n",
       "      <th>YEAR</th>\n",
       "    </tr>\n",
       "  </thead>\n",
       "  <tbody>\n",
       "    <tr>\n",
       "      <th>APPEARANCES</th>\n",
       "      <td>1.00000</td>\n",
       "      <td>-0.25016</td>\n",
       "    </tr>\n",
       "    <tr>\n",
       "      <th>YEAR</th>\n",
       "      <td>-0.25016</td>\n",
       "      <td>1.00000</td>\n",
       "    </tr>\n",
       "  </tbody>\n",
       "</table>\n",
       "</div>"
      ],
      "text/plain": [
       "             APPEARANCES     YEAR\n",
       "APPEARANCES      1.00000 -0.25016\n",
       "YEAR            -0.25016  1.00000"
      ]
     },
     "execution_count": 22,
     "metadata": {},
     "output_type": "execute_result"
    }
   ],
   "source": [
    "dc.corr()"
   ]
  },
  {
   "cell_type": "markdown",
   "id": "f3cc26ad",
   "metadata": {
    "slideshow": {
     "slide_type": "slide"
    }
   },
   "source": [
    "## Why handling missing data?\n",
    "\n",
    "* Sometimes missing data in a row may indicate something wrong with the observation so it may be better not to use the observation for an analysis\n",
    "* Sometimes missing data must be handled. For example, models usually requires the given data is free from missing data.\n",
    "    * Demo: we can fit a linear regression model when there is no missing data:"
   ]
  },
  {
   "cell_type": "code",
   "execution_count": 32,
   "id": "5dcf126b",
   "metadata": {
    "scrolled": true
   },
   "outputs": [],
   "source": [
    "from sklearn.linear_model import LinearRegression\n",
    "import numpy as np\n",
    "X = np.array([[1, 1], [1, 2], [2, 2], [2, 3]], dtype = float)\n",
    "y = np.dot(X, np.array([1, 2])) + 3\n",
    "reg = LinearRegression().fit(X, y)"
   ]
  },
  {
   "cell_type": "markdown",
   "id": "f5a74b60",
   "metadata": {},
   "source": [
    "But not when there is missing data:"
   ]
  },
  {
   "cell_type": "code",
   "execution_count": 23,
   "id": "1394f0da",
   "metadata": {},
   "outputs": [
    {
     "ename": "ValueError",
     "evalue": "Input contains NaN, infinity or a value too large for dtype('float64').",
     "output_type": "error",
     "traceback": [
      "\u001b[0;31m---------------------------------------------------------------------------\u001b[0m",
      "\u001b[0;31mValueError\u001b[0m                                Traceback (most recent call last)",
      "\u001b[0;32m/var/folders/y4/tkxp25f55d125kkq5rfnkkn00000gn/T/ipykernel_52385/42221173.py\u001b[0m in \u001b[0;36m<module>\u001b[0;34m\u001b[0m\n\u001b[1;32m      1\u001b[0m \u001b[0mX\u001b[0m\u001b[0;34m[\u001b[0m\u001b[0;36m0\u001b[0m\u001b[0;34m,\u001b[0m\u001b[0;36m0\u001b[0m\u001b[0;34m]\u001b[0m \u001b[0;34m=\u001b[0m \u001b[0mnp\u001b[0m\u001b[0;34m.\u001b[0m\u001b[0mnan\u001b[0m\u001b[0;34m\u001b[0m\u001b[0;34m\u001b[0m\u001b[0m\n\u001b[0;32m----> 2\u001b[0;31m \u001b[0mreg\u001b[0m \u001b[0;34m=\u001b[0m \u001b[0mLinearRegression\u001b[0m\u001b[0;34m(\u001b[0m\u001b[0;34m)\u001b[0m\u001b[0;34m.\u001b[0m\u001b[0mfit\u001b[0m\u001b[0;34m(\u001b[0m\u001b[0mX\u001b[0m\u001b[0;34m,\u001b[0m \u001b[0my\u001b[0m\u001b[0;34m)\u001b[0m\u001b[0;34m\u001b[0m\u001b[0;34m\u001b[0m\u001b[0m\n\u001b[0m",
      "\u001b[0;32m~/opt/anaconda3/lib/python3.9/site-packages/sklearn/linear_model/_base.py\u001b[0m in \u001b[0;36mfit\u001b[0;34m(self, X, y, sample_weight)\u001b[0m\n\u001b[1;32m    660\u001b[0m         \u001b[0maccept_sparse\u001b[0m \u001b[0;34m=\u001b[0m \u001b[0;32mFalse\u001b[0m \u001b[0;32mif\u001b[0m \u001b[0mself\u001b[0m\u001b[0;34m.\u001b[0m\u001b[0mpositive\u001b[0m \u001b[0;32melse\u001b[0m \u001b[0;34m[\u001b[0m\u001b[0;34m\"csr\"\u001b[0m\u001b[0;34m,\u001b[0m \u001b[0;34m\"csc\"\u001b[0m\u001b[0;34m,\u001b[0m \u001b[0;34m\"coo\"\u001b[0m\u001b[0;34m]\u001b[0m\u001b[0;34m\u001b[0m\u001b[0;34m\u001b[0m\u001b[0m\n\u001b[1;32m    661\u001b[0m \u001b[0;34m\u001b[0m\u001b[0m\n\u001b[0;32m--> 662\u001b[0;31m         X, y = self._validate_data(\n\u001b[0m\u001b[1;32m    663\u001b[0m             \u001b[0mX\u001b[0m\u001b[0;34m,\u001b[0m \u001b[0my\u001b[0m\u001b[0;34m,\u001b[0m \u001b[0maccept_sparse\u001b[0m\u001b[0;34m=\u001b[0m\u001b[0maccept_sparse\u001b[0m\u001b[0;34m,\u001b[0m \u001b[0my_numeric\u001b[0m\u001b[0;34m=\u001b[0m\u001b[0;32mTrue\u001b[0m\u001b[0;34m,\u001b[0m \u001b[0mmulti_output\u001b[0m\u001b[0;34m=\u001b[0m\u001b[0;32mTrue\u001b[0m\u001b[0;34m\u001b[0m\u001b[0;34m\u001b[0m\u001b[0m\n\u001b[1;32m    664\u001b[0m         )\n",
      "\u001b[0;32m~/opt/anaconda3/lib/python3.9/site-packages/sklearn/base.py\u001b[0m in \u001b[0;36m_validate_data\u001b[0;34m(self, X, y, reset, validate_separately, **check_params)\u001b[0m\n\u001b[1;32m    579\u001b[0m                 \u001b[0my\u001b[0m \u001b[0;34m=\u001b[0m \u001b[0mcheck_array\u001b[0m\u001b[0;34m(\u001b[0m\u001b[0my\u001b[0m\u001b[0;34m,\u001b[0m \u001b[0;34m**\u001b[0m\u001b[0mcheck_y_params\u001b[0m\u001b[0;34m)\u001b[0m\u001b[0;34m\u001b[0m\u001b[0;34m\u001b[0m\u001b[0m\n\u001b[1;32m    580\u001b[0m             \u001b[0;32melse\u001b[0m\u001b[0;34m:\u001b[0m\u001b[0;34m\u001b[0m\u001b[0;34m\u001b[0m\u001b[0m\n\u001b[0;32m--> 581\u001b[0;31m                 \u001b[0mX\u001b[0m\u001b[0;34m,\u001b[0m \u001b[0my\u001b[0m \u001b[0;34m=\u001b[0m \u001b[0mcheck_X_y\u001b[0m\u001b[0;34m(\u001b[0m\u001b[0mX\u001b[0m\u001b[0;34m,\u001b[0m \u001b[0my\u001b[0m\u001b[0;34m,\u001b[0m \u001b[0;34m**\u001b[0m\u001b[0mcheck_params\u001b[0m\u001b[0;34m)\u001b[0m\u001b[0;34m\u001b[0m\u001b[0;34m\u001b[0m\u001b[0m\n\u001b[0m\u001b[1;32m    582\u001b[0m             \u001b[0mout\u001b[0m \u001b[0;34m=\u001b[0m \u001b[0mX\u001b[0m\u001b[0;34m,\u001b[0m \u001b[0my\u001b[0m\u001b[0;34m\u001b[0m\u001b[0;34m\u001b[0m\u001b[0m\n\u001b[1;32m    583\u001b[0m \u001b[0;34m\u001b[0m\u001b[0m\n",
      "\u001b[0;32m~/opt/anaconda3/lib/python3.9/site-packages/sklearn/utils/validation.py\u001b[0m in \u001b[0;36mcheck_X_y\u001b[0;34m(X, y, accept_sparse, accept_large_sparse, dtype, order, copy, force_all_finite, ensure_2d, allow_nd, multi_output, ensure_min_samples, ensure_min_features, y_numeric, estimator)\u001b[0m\n\u001b[1;32m    962\u001b[0m         \u001b[0;32mraise\u001b[0m \u001b[0mValueError\u001b[0m\u001b[0;34m(\u001b[0m\u001b[0;34m\"y cannot be None\"\u001b[0m\u001b[0;34m)\u001b[0m\u001b[0;34m\u001b[0m\u001b[0;34m\u001b[0m\u001b[0m\n\u001b[1;32m    963\u001b[0m \u001b[0;34m\u001b[0m\u001b[0m\n\u001b[0;32m--> 964\u001b[0;31m     X = check_array(\n\u001b[0m\u001b[1;32m    965\u001b[0m         \u001b[0mX\u001b[0m\u001b[0;34m,\u001b[0m\u001b[0;34m\u001b[0m\u001b[0;34m\u001b[0m\u001b[0m\n\u001b[1;32m    966\u001b[0m         \u001b[0maccept_sparse\u001b[0m\u001b[0;34m=\u001b[0m\u001b[0maccept_sparse\u001b[0m\u001b[0;34m,\u001b[0m\u001b[0;34m\u001b[0m\u001b[0;34m\u001b[0m\u001b[0m\n",
      "\u001b[0;32m~/opt/anaconda3/lib/python3.9/site-packages/sklearn/utils/validation.py\u001b[0m in \u001b[0;36mcheck_array\u001b[0;34m(array, accept_sparse, accept_large_sparse, dtype, order, copy, force_all_finite, ensure_2d, allow_nd, ensure_min_samples, ensure_min_features, estimator)\u001b[0m\n\u001b[1;32m    798\u001b[0m \u001b[0;34m\u001b[0m\u001b[0m\n\u001b[1;32m    799\u001b[0m         \u001b[0;32mif\u001b[0m \u001b[0mforce_all_finite\u001b[0m\u001b[0;34m:\u001b[0m\u001b[0;34m\u001b[0m\u001b[0;34m\u001b[0m\u001b[0m\n\u001b[0;32m--> 800\u001b[0;31m             \u001b[0m_assert_all_finite\u001b[0m\u001b[0;34m(\u001b[0m\u001b[0marray\u001b[0m\u001b[0;34m,\u001b[0m \u001b[0mallow_nan\u001b[0m\u001b[0;34m=\u001b[0m\u001b[0mforce_all_finite\u001b[0m \u001b[0;34m==\u001b[0m \u001b[0;34m\"allow-nan\"\u001b[0m\u001b[0;34m)\u001b[0m\u001b[0;34m\u001b[0m\u001b[0;34m\u001b[0m\u001b[0m\n\u001b[0m\u001b[1;32m    801\u001b[0m \u001b[0;34m\u001b[0m\u001b[0m\n\u001b[1;32m    802\u001b[0m     \u001b[0;32mif\u001b[0m \u001b[0mensure_min_samples\u001b[0m \u001b[0;34m>\u001b[0m \u001b[0;36m0\u001b[0m\u001b[0;34m:\u001b[0m\u001b[0;34m\u001b[0m\u001b[0;34m\u001b[0m\u001b[0m\n",
      "\u001b[0;32m~/opt/anaconda3/lib/python3.9/site-packages/sklearn/utils/validation.py\u001b[0m in \u001b[0;36m_assert_all_finite\u001b[0;34m(X, allow_nan, msg_dtype)\u001b[0m\n\u001b[1;32m    112\u001b[0m         ):\n\u001b[1;32m    113\u001b[0m             \u001b[0mtype_err\u001b[0m \u001b[0;34m=\u001b[0m \u001b[0;34m\"infinity\"\u001b[0m \u001b[0;32mif\u001b[0m \u001b[0mallow_nan\u001b[0m \u001b[0;32melse\u001b[0m \u001b[0;34m\"NaN, infinity\"\u001b[0m\u001b[0;34m\u001b[0m\u001b[0;34m\u001b[0m\u001b[0m\n\u001b[0;32m--> 114\u001b[0;31m             raise ValueError(\n\u001b[0m\u001b[1;32m    115\u001b[0m                 msg_err.format(\n\u001b[1;32m    116\u001b[0m                     \u001b[0mtype_err\u001b[0m\u001b[0;34m,\u001b[0m \u001b[0mmsg_dtype\u001b[0m \u001b[0;32mif\u001b[0m \u001b[0mmsg_dtype\u001b[0m \u001b[0;32mis\u001b[0m \u001b[0;32mnot\u001b[0m \u001b[0;32mNone\u001b[0m \u001b[0;32melse\u001b[0m \u001b[0mX\u001b[0m\u001b[0;34m.\u001b[0m\u001b[0mdtype\u001b[0m\u001b[0;34m\u001b[0m\u001b[0;34m\u001b[0m\u001b[0m\n",
      "\u001b[0;31mValueError\u001b[0m: Input contains NaN, infinity or a value too large for dtype('float64')."
     ]
    }
   ],
   "source": [
    "X[0,0] = np.nan\n",
    "reg = LinearRegression().fit(X, y)"
   ]
  },
  {
   "cell_type": "markdown",
   "id": "8f329821",
   "metadata": {
    "slideshow": {
     "slide_type": "slide"
    }
   },
   "source": [
    "## Simple ways to handle missing data\n",
    "\n",
    "* Drop the observations that have any missing values\n",
    "* Filling the missing data with some substituted values\n",
    "\n",
    "To learn more about how missing data can be handled with Pandas, please have a look [here](https://pandas.pydata.org/pandas-docs/stable/user_guide/missing_data.html#filling-missing-values-fillna)."
   ]
  },
  {
   "cell_type": "markdown",
   "id": "b81ebdc4",
   "metadata": {
    "slideshow": {
     "slide_type": "slide"
    }
   },
   "source": [
    "## Dropping missing observations in pandas\n",
    "\n",
    "We can use the method `dropna()` to drop `NaN` data, for which by default it keeps only rows with all attributes presents. \n",
    "* For example:"
   ]
  },
  {
   "cell_type": "code",
   "execution_count": 33,
   "id": "edf9f034",
   "metadata": {
    "scrolled": true
   },
   "outputs": [
    {
     "data": {
      "text/html": [
       "<div>\n",
       "<style scoped>\n",
       "    .dataframe tbody tr th:only-of-type {\n",
       "        vertical-align: middle;\n",
       "    }\n",
       "\n",
       "    .dataframe tbody tr th {\n",
       "        vertical-align: top;\n",
       "    }\n",
       "\n",
       "    .dataframe thead th {\n",
       "        text-align: right;\n",
       "    }\n",
       "</style>\n",
       "<table border=\"1\" class=\"dataframe\">\n",
       "  <thead>\n",
       "    <tr style=\"text-align: right;\">\n",
       "      <th></th>\n",
       "      <th>name</th>\n",
       "      <th>SEX</th>\n",
       "      <th>APPEARANCES</th>\n",
       "      <th>YEAR</th>\n",
       "      <th>ALIGN</th>\n",
       "    </tr>\n",
       "  </thead>\n",
       "  <tbody>\n",
       "    <tr>\n",
       "      <th>0</th>\n",
       "      <td>Batman (Bruce Wayne)</td>\n",
       "      <td>Male Characters</td>\n",
       "      <td>3093.0</td>\n",
       "      <td>1939.0</td>\n",
       "      <td>Good Characters</td>\n",
       "    </tr>\n",
       "    <tr>\n",
       "      <th>1</th>\n",
       "      <td>Superman (Clark Kent)</td>\n",
       "      <td>Male Characters</td>\n",
       "      <td>2496.0</td>\n",
       "      <td>1986.0</td>\n",
       "      <td>Good Characters</td>\n",
       "    </tr>\n",
       "    <tr>\n",
       "      <th>2</th>\n",
       "      <td>Green Lantern (Hal Jordan)</td>\n",
       "      <td>Male Characters</td>\n",
       "      <td>1565.0</td>\n",
       "      <td>1959.0</td>\n",
       "      <td>Good Characters</td>\n",
       "    </tr>\n",
       "  </tbody>\n",
       "</table>\n",
       "</div>"
      ],
      "text/plain": [
       "                         name              SEX  APPEARANCES    YEAR  \\\n",
       "0        Batman (Bruce Wayne)  Male Characters       3093.0  1939.0   \n",
       "1       Superman (Clark Kent)  Male Characters       2496.0  1986.0   \n",
       "2  Green Lantern (Hal Jordan)  Male Characters       1565.0  1959.0   \n",
       "\n",
       "             ALIGN  \n",
       "0  Good Characters  \n",
       "1  Good Characters  \n",
       "2  Good Characters  "
      ]
     },
     "metadata": {},
     "output_type": "display_data"
    },
    {
     "data": {
      "text/html": [
       "<div>\n",
       "<style scoped>\n",
       "    .dataframe tbody tr th:only-of-type {\n",
       "        vertical-align: middle;\n",
       "    }\n",
       "\n",
       "    .dataframe tbody tr th {\n",
       "        vertical-align: top;\n",
       "    }\n",
       "\n",
       "    .dataframe thead th {\n",
       "        text-align: right;\n",
       "    }\n",
       "</style>\n",
       "<table border=\"1\" class=\"dataframe\">\n",
       "  <thead>\n",
       "    <tr style=\"text-align: right;\">\n",
       "      <th></th>\n",
       "      <th>name</th>\n",
       "      <th>SEX</th>\n",
       "      <th>APPEARANCES</th>\n",
       "      <th>YEAR</th>\n",
       "      <th>ALIGN</th>\n",
       "    </tr>\n",
       "  </thead>\n",
       "  <tbody>\n",
       "    <tr>\n",
       "      <th>6526</th>\n",
       "      <td>Green Arrow (Oliver Queen)</td>\n",
       "      <td>Male Characters</td>\n",
       "      <td>1.0</td>\n",
       "      <td>1941.0</td>\n",
       "      <td>Good Characters</td>\n",
       "    </tr>\n",
       "    <tr>\n",
       "      <th>6528</th>\n",
       "      <td>Robert Mason (New Earth)</td>\n",
       "      <td>Male Characters</td>\n",
       "      <td>1.0</td>\n",
       "      <td>1941.0</td>\n",
       "      <td>Neutral Characters</td>\n",
       "    </tr>\n",
       "    <tr>\n",
       "      <th>6529</th>\n",
       "      <td>Diablo the Horse (New Earth)</td>\n",
       "      <td>Male Characters</td>\n",
       "      <td>1.0</td>\n",
       "      <td>1940.0</td>\n",
       "      <td>Good Characters</td>\n",
       "    </tr>\n",
       "  </tbody>\n",
       "</table>\n",
       "</div>"
      ],
      "text/plain": [
       "                              name              SEX  APPEARANCES    YEAR  \\\n",
       "6526    Green Arrow (Oliver Queen)  Male Characters          1.0  1941.0   \n",
       "6528      Robert Mason (New Earth)  Male Characters          1.0  1941.0   \n",
       "6529  Diablo the Horse (New Earth)  Male Characters          1.0  1940.0   \n",
       "\n",
       "                   ALIGN  \n",
       "6526     Good Characters  \n",
       "6528  Neutral Characters  \n",
       "6529     Good Characters  "
      ]
     },
     "metadata": {},
     "output_type": "display_data"
    }
   ],
   "source": [
    "dc_no_na = dc.dropna().copy() # here we explicitly create a copy\n",
    "display(dc_no_na.head(3))\n",
    "display(dc_no_na.tail(3))"
   ]
  },
  {
   "cell_type": "code",
   "execution_count": 34,
   "id": "8433e9ba",
   "metadata": {
    "scrolled": false
   },
   "outputs": [
    {
     "data": {
      "text/plain": [
       "(5834, 5)"
      ]
     },
     "execution_count": 34,
     "metadata": {},
     "output_type": "execute_result"
    }
   ],
   "source": [
    "dc_no_na.shape"
   ]
  },
  {
   "cell_type": "markdown",
   "id": "acc127e6",
   "metadata": {
    "slideshow": {
     "slide_type": "slide"
    }
   },
   "source": [
    "## More about `dropna()`\n",
    "\n",
    "By default only rows with all attributes presents are kept. If there are many missing data in some particular columns, many rows can be dropped.\n",
    "* For example:"
   ]
  },
  {
   "cell_type": "code",
   "execution_count": 34,
   "id": "8e48434e",
   "metadata": {},
   "outputs": [
    {
     "data": {
      "text/plain": [
       "6858"
      ]
     },
     "execution_count": 34,
     "metadata": {},
     "output_type": "execute_result"
    }
   ],
   "source": [
    "dc_to_drop_all_na = pd.read_csv('data/dc-wikia-data.csv')\n",
    "# number of observations that there are at least one NaN\n",
    "dc_to_drop_all_na.isnull().any(axis = 1).sum()"
   ]
  },
  {
   "cell_type": "markdown",
   "id": "d549ab09",
   "metadata": {},
   "source": [
    "Many rows are dropped:"
   ]
  },
  {
   "cell_type": "code",
   "execution_count": 35,
   "id": "0f55f18b",
   "metadata": {
    "scrolled": true
   },
   "outputs": [
    {
     "data": {
      "text/plain": [
       "(38, 13)"
      ]
     },
     "execution_count": 35,
     "metadata": {},
     "output_type": "execute_result"
    }
   ],
   "source": [
    "dc_to_drop_all_na.dropna(inplace=True)\n",
    "dc_to_drop_all_na.shape"
   ]
  },
  {
   "cell_type": "markdown",
   "id": "9c148a14",
   "metadata": {
    "slideshow": {
     "slide_type": "slide"
    }
   },
   "source": [
    "## More about `dropna()`\n",
    "\n",
    "Alternatively, you can use the additional argument `how='all'` to drop only rows with all only missing data. For example:"
   ]
  },
  {
   "cell_type": "code",
   "execution_count": 36,
   "id": "c655d873",
   "metadata": {
    "scrolled": true
   },
   "outputs": [
    {
     "data": {
      "text/html": [
       "<div>\n",
       "<style scoped>\n",
       "    .dataframe tbody tr th:only-of-type {\n",
       "        vertical-align: middle;\n",
       "    }\n",
       "\n",
       "    .dataframe tbody tr th {\n",
       "        vertical-align: top;\n",
       "    }\n",
       "\n",
       "    .dataframe thead th {\n",
       "        text-align: right;\n",
       "    }\n",
       "</style>\n",
       "<table border=\"1\" class=\"dataframe\">\n",
       "  <thead>\n",
       "    <tr style=\"text-align: right;\">\n",
       "      <th></th>\n",
       "      <th>names</th>\n",
       "      <th>python_level</th>\n",
       "    </tr>\n",
       "  </thead>\n",
       "  <tbody>\n",
       "    <tr>\n",
       "      <th>0</th>\n",
       "      <td>Harry</td>\n",
       "      <td>High</td>\n",
       "    </tr>\n",
       "    <tr>\n",
       "      <th>1</th>\n",
       "      <td>Ron</td>\n",
       "      <td>Low</td>\n",
       "    </tr>\n",
       "    <tr>\n",
       "      <th>2</th>\n",
       "      <td>NaN</td>\n",
       "      <td>NaN</td>\n",
       "    </tr>\n",
       "    <tr>\n",
       "      <th>3</th>\n",
       "      <td>Hermione</td>\n",
       "      <td>NaN</td>\n",
       "    </tr>\n",
       "  </tbody>\n",
       "</table>\n",
       "</div>"
      ],
      "text/plain": [
       "      names python_level\n",
       "0     Harry         High\n",
       "1       Ron          Low\n",
       "2       NaN          NaN\n",
       "3  Hermione          NaN"
      ]
     },
     "execution_count": 36,
     "metadata": {},
     "output_type": "execute_result"
    }
   ],
   "source": [
    "students = pd.DataFrame({'names': ['Harry', 'Ron', np.nan, 'Hermione'], \n",
    "                         'python_level': ['High', 'Low', np.nan, np.nan]})\n",
    "students"
   ]
  },
  {
   "cell_type": "code",
   "execution_count": 37,
   "id": "55a3182e",
   "metadata": {},
   "outputs": [
    {
     "data": {
      "text/html": [
       "<div>\n",
       "<style scoped>\n",
       "    .dataframe tbody tr th:only-of-type {\n",
       "        vertical-align: middle;\n",
       "    }\n",
       "\n",
       "    .dataframe tbody tr th {\n",
       "        vertical-align: top;\n",
       "    }\n",
       "\n",
       "    .dataframe thead th {\n",
       "        text-align: right;\n",
       "    }\n",
       "</style>\n",
       "<table border=\"1\" class=\"dataframe\">\n",
       "  <thead>\n",
       "    <tr style=\"text-align: right;\">\n",
       "      <th></th>\n",
       "      <th>names</th>\n",
       "      <th>python_level</th>\n",
       "    </tr>\n",
       "  </thead>\n",
       "  <tbody>\n",
       "    <tr>\n",
       "      <th>0</th>\n",
       "      <td>Harry</td>\n",
       "      <td>High</td>\n",
       "    </tr>\n",
       "    <tr>\n",
       "      <th>1</th>\n",
       "      <td>Ron</td>\n",
       "      <td>Low</td>\n",
       "    </tr>\n",
       "    <tr>\n",
       "      <th>3</th>\n",
       "      <td>Hermione</td>\n",
       "      <td>NaN</td>\n",
       "    </tr>\n",
       "  </tbody>\n",
       "</table>\n",
       "</div>"
      ],
      "text/plain": [
       "      names python_level\n",
       "0     Harry         High\n",
       "1       Ron          Low\n",
       "3  Hermione          NaN"
      ]
     },
     "execution_count": 37,
     "metadata": {},
     "output_type": "execute_result"
    }
   ],
   "source": [
    "students.dropna(how='all')"
   ]
  },
  {
   "cell_type": "markdown",
   "id": "bfb14fad",
   "metadata": {
    "slideshow": {
     "slide_type": "slide"
    }
   },
   "source": [
    "## Implication of dropping observations\n",
    "\n",
    "* Can result in losing a lot of data\n",
    "* May cause bias \n",
    "    * For example, we have students' mark and we ask students to tell us the number of hours students spent on revising the course materials. Assume:\n",
    "        * Students who spent low number of hours in revision are more likely not answering the question\n",
    "        * The number of hours and the mark is positively correlated\n",
    "        \n",
    "By discarding the observations that number of hours is missing, the average mark from the data will be different."
   ]
  },
  {
   "cell_type": "markdown",
   "id": "2da5f051",
   "metadata": {
    "slideshow": {
     "slide_type": "slide"
    }
   },
   "source": [
    "## Demo: biased caused by dropping missing data"
   ]
  },
  {
   "cell_type": "code",
   "execution_count": 24,
   "id": "953b651f",
   "metadata": {
    "scrolled": false
   },
   "outputs": [
    {
     "data": {
      "text/html": [
       "<div>\n",
       "<style scoped>\n",
       "    .dataframe tbody tr th:only-of-type {\n",
       "        vertical-align: middle;\n",
       "    }\n",
       "\n",
       "    .dataframe tbody tr th {\n",
       "        vertical-align: top;\n",
       "    }\n",
       "\n",
       "    .dataframe thead th {\n",
       "        text-align: right;\n",
       "    }\n",
       "</style>\n",
       "<table border=\"1\" class=\"dataframe\">\n",
       "  <thead>\n",
       "    <tr style=\"text-align: right;\">\n",
       "      <th></th>\n",
       "      <th>hours</th>\n",
       "      <th>marks</th>\n",
       "    </tr>\n",
       "  </thead>\n",
       "  <tbody>\n",
       "    <tr>\n",
       "      <th>95</th>\n",
       "      <td>4.0</td>\n",
       "      <td>69</td>\n",
       "    </tr>\n",
       "    <tr>\n",
       "      <th>96</th>\n",
       "      <td>9.0</td>\n",
       "      <td>95</td>\n",
       "    </tr>\n",
       "    <tr>\n",
       "      <th>97</th>\n",
       "      <td>2.0</td>\n",
       "      <td>67</td>\n",
       "    </tr>\n",
       "    <tr>\n",
       "      <th>98</th>\n",
       "      <td>NaN</td>\n",
       "      <td>64</td>\n",
       "    </tr>\n",
       "    <tr>\n",
       "      <th>99</th>\n",
       "      <td>7.0</td>\n",
       "      <td>77</td>\n",
       "    </tr>\n",
       "  </tbody>\n",
       "</table>\n",
       "</div>"
      ],
      "text/plain": [
       "    hours  marks\n",
       "95    4.0     69\n",
       "96    9.0     95\n",
       "97    2.0     67\n",
       "98    NaN     64\n",
       "99    7.0     77"
      ]
     },
     "execution_count": 24,
     "metadata": {},
     "output_type": "execute_result"
    }
   ],
   "source": [
    "students = pd.read_csv('data/sample_marks.csv')\n",
    "students.tail()"
   ]
  },
  {
   "cell_type": "markdown",
   "id": "f6241d5a",
   "metadata": {},
   "source": [
    "Average mark for students not reporting number of hours:"
   ]
  },
  {
   "cell_type": "code",
   "execution_count": 25,
   "id": "e10599f8",
   "metadata": {
    "scrolled": true
   },
   "outputs": [
    {
     "data": {
      "text/plain": [
       "56.75"
      ]
     },
     "execution_count": 25,
     "metadata": {},
     "output_type": "execute_result"
    }
   ],
   "source": [
    "students.marks[students.hours.isnull()].mean()"
   ]
  },
  {
   "cell_type": "markdown",
   "id": "b911353b",
   "metadata": {},
   "source": [
    "Average mark for students who have reported the number of hours:"
   ]
  },
  {
   "cell_type": "code",
   "execution_count": 40,
   "id": "fd0075ee",
   "metadata": {},
   "outputs": [
    {
     "data": {
      "text/plain": [
       "76.54545454545455"
      ]
     },
     "execution_count": 40,
     "metadata": {},
     "output_type": "execute_result"
    }
   ],
   "source": [
    "students.marks[students.hours.notnull()].mean()"
   ]
  },
  {
   "cell_type": "markdown",
   "id": "bbf8c101",
   "metadata": {
    "slideshow": {
     "slide_type": "slide"
    }
   },
   "source": [
    "## Demo: biased caused by dropping missing data (continue)\n",
    "\n",
    "Before removing missing data:"
   ]
  },
  {
   "cell_type": "code",
   "execution_count": 41,
   "id": "248c4354",
   "metadata": {
    "scrolled": true
   },
   "outputs": [
    {
     "data": {
      "text/plain": [
       "74.17"
      ]
     },
     "execution_count": 41,
     "metadata": {},
     "output_type": "execute_result"
    }
   ],
   "source": [
    "students.marks.mean()"
   ]
  },
  {
   "cell_type": "markdown",
   "id": "9ed82556",
   "metadata": {},
   "source": [
    "After removing missing data:"
   ]
  },
  {
   "cell_type": "code",
   "execution_count": 42,
   "id": "44019a33",
   "metadata": {
    "scrolled": true
   },
   "outputs": [
    {
     "data": {
      "text/plain": [
       "76.54545454545455"
      ]
     },
     "execution_count": 42,
     "metadata": {},
     "output_type": "execute_result"
    }
   ],
   "source": [
    "students.dropna(inplace=True)\n",
    "students.marks.mean()"
   ]
  },
  {
   "cell_type": "markdown",
   "id": "e541f663",
   "metadata": {
    "slideshow": {
     "slide_type": "slide"
    }
   },
   "source": [
    "## Converting the variables to the desired type (continue)\n",
    "\n",
    "With no more missing data for `YEAR` and `APPEARANCES`, their data type can now be converted to `int`:"
   ]
  },
  {
   "cell_type": "code",
   "execution_count": 43,
   "id": "20070dab",
   "metadata": {},
   "outputs": [],
   "source": [
    "dc_no_na['YEAR'] = dc_no_na['YEAR'].astype(int)\n",
    "dc_no_na['APPEARANCES'] = dc_no_na['APPEARANCES'].astype(int)"
   ]
  },
  {
   "cell_type": "markdown",
   "id": "ee0fc112",
   "metadata": {},
   "source": [
    "Now all the columns have the desired data types:"
   ]
  },
  {
   "cell_type": "code",
   "execution_count": 44,
   "id": "69bea15e",
   "metadata": {
    "scrolled": false
   },
   "outputs": [
    {
     "name": "stdout",
     "output_type": "stream",
     "text": [
      "<class 'pandas.core.frame.DataFrame'>\n",
      "Int64Index: 5834 entries, 0 to 6529\n",
      "Data columns (total 5 columns):\n",
      " #   Column       Non-Null Count  Dtype   \n",
      "---  ------       --------------  -----   \n",
      " 0   NAME         5834 non-null   object  \n",
      " 1   SEX          5834 non-null   category\n",
      " 2   APPEARANCES  5834 non-null   int64   \n",
      " 3   YEAR         5834 non-null   int64   \n",
      " 4   ALIGN        5834 non-null   category\n",
      "dtypes: category(2), int64(2), object(1)\n",
      "memory usage: 194.1+ KB\n"
     ]
    }
   ],
   "source": [
    "dc_no_na.info()"
   ]
  },
  {
   "cell_type": "markdown",
   "id": "600beecb",
   "metadata": {
    "slideshow": {
     "slide_type": "slide"
    }
   },
   "source": [
    "## Should I remove rows with missing data?\n",
    "\n",
    "The answer is it depends. \n",
    "* Sometimes missing data in a row may indicate something wrong with the observation so it may be better not to use the observation for an analysis\n",
    "    * e.g. Scrapping the wrong page \n",
    "* Sometimes we know how we can fill the missing data, so it is better to fill the data than removing them\n",
    "    * e.g. Missing UK coronavirus vaccine data in 2020 can be filled by 0.\n",
    "* Sometimes we need to fit data into a model that does not allow missing data. Then removing missing data is the simplest way to allow us to fit the model\n"
   ]
  },
  {
   "cell_type": "markdown",
   "id": "d6766e37",
   "metadata": {
    "slideshow": {
     "slide_type": "slide"
    }
   },
   "source": [
    "## DC dataset: removing observations with missing values\n",
    "\n",
    "Notice that when we analyse whether the gender parity achieve when introducing new characters, we only need the information about gender and year of debut, for which the number of missing values for those two attributes are small:"
   ]
  },
  {
   "cell_type": "code",
   "execution_count": 45,
   "id": "eb482ded",
   "metadata": {},
   "outputs": [
    {
     "data": {
      "text/plain": [
       "193"
      ]
     },
     "execution_count": 45,
     "metadata": {},
     "output_type": "execute_result"
    }
   ],
   "source": [
    "dc[['SEX', 'YEAR']].isnull().any(axis = 1).sum()"
   ]
  },
  {
   "cell_type": "markdown",
   "id": "e9f84938",
   "metadata": {},
   "source": [
    "On the other hand, we will remove many more observations if we remove all observations with any missing attributes:"
   ]
  },
  {
   "cell_type": "code",
   "execution_count": 46,
   "id": "61f42f76",
   "metadata": {},
   "outputs": [
    {
     "data": {
      "text/plain": [
       "1062"
      ]
     },
     "execution_count": 46,
     "metadata": {},
     "output_type": "execute_result"
    }
   ],
   "source": [
    "dc.isnull().any(axis = 1).sum()"
   ]
  },
  {
   "cell_type": "markdown",
   "id": "a06177b6",
   "metadata": {},
   "source": [
    "Therefore, instead we may want to keep all data first, and handle the missing data later for some particular questions we want to find the answers."
   ]
  },
  {
   "cell_type": "markdown",
   "id": "f06674b9",
   "metadata": {
    "slideshow": {
     "slide_type": "slide"
    }
   },
   "source": [
    "## Imputation\n",
    "\n",
    "Imputation is the process of replacing missing data with substituted values.\n",
    "* Impute the mean/median (if quantitative) or most common class (if nominal) for all missing values\n",
    "* Fill the missing data using data point before and after the missing data point (for time series / order data)"
   ]
  },
  {
   "cell_type": "markdown",
   "id": "6b7456c8",
   "metadata": {
    "slideshow": {
     "slide_type": "slide"
    }
   },
   "source": [
    "## Impute with `fillna()`\n",
    "\n",
    "With pandas, you can fill the missing data using `fillna()` and provide the values / methods to fill the missing data. \n",
    "* For example with the following data:"
   ]
  },
  {
   "cell_type": "code",
   "execution_count": 47,
   "id": "11857148",
   "metadata": {
    "scrolled": false
   },
   "outputs": [
    {
     "data": {
      "text/plain": [
       "name             0\n",
       "ALIGN          601\n",
       "SEX            125\n",
       "APPEARANCES    355\n",
       "YEAR            69\n",
       "dtype: int64"
      ]
     },
     "execution_count": 47,
     "metadata": {},
     "output_type": "execute_result"
    }
   ],
   "source": [
    "dc_fill_na = pd.read_csv('data/dc-wikia-data.csv', \n",
    "                         usecols=['name', 'SEX', 'APPEARANCES', 'YEAR', 'ALIGN'])\n",
    "dc_fill_na.isnull().sum()"
   ]
  },
  {
   "cell_type": "markdown",
   "id": "7fd62f48",
   "metadata": {
    "slideshow": {
     "slide_type": "slide"
    }
   },
   "source": [
    "## Impute with `fillna()` (continue)\n",
    "\n",
    "We can replace the missing data by mean / median / mode in the DC dataset as follows:"
   ]
  },
  {
   "cell_type": "code",
   "execution_count": 48,
   "id": "551449c8",
   "metadata": {
    "scrolled": true
   },
   "outputs": [
    {
     "data": {
      "text/plain": [
       "name           0\n",
       "ALIGN          0\n",
       "SEX            0\n",
       "APPEARANCES    0\n",
       "YEAR           0\n",
       "dtype: int64"
      ]
     },
     "execution_count": 48,
     "metadata": {},
     "output_type": "execute_result"
    }
   ],
   "source": [
    "# Illustrative only. Some of the imputation may not make sense. \n",
    "dc_fill_na['APPEARANCES'] = dc_fill_na['APPEARANCES'].fillna(1)\n",
    "dc_fill_na['YEAR'] = dc_fill_na['YEAR'].fillna(round(dc_fill_na['YEAR'].mean()))\n",
    "dc_fill_na['SEX'] = dc_fill_na['SEX'].fillna(dc_fill_na['SEX'].mode()[0])\n",
    "dc_fill_na['ALIGN'] = dc_fill_na['ALIGN'].fillna(dc_fill_na['ALIGN'].mode()[0])\n",
    "dc_fill_na.isnull().sum()"
   ]
  },
  {
   "cell_type": "markdown",
   "id": "1b2e10f4",
   "metadata": {},
   "source": [
    "See [here](https://pandas.pydata.org/docs/reference/api/pandas.DataFrame.fillna.html) for more details."
   ]
  },
  {
   "cell_type": "markdown",
   "id": "e2a359fd",
   "metadata": {
    "slideshow": {
     "slide_type": "slide"
    }
   },
   "source": [
    "## Impute with mean / median / mode (continue)\n",
    "\n",
    "After the operations in the previous slide, there is no more missing data (as count is the same as the number of observations):"
   ]
  },
  {
   "cell_type": "code",
   "execution_count": 49,
   "id": "d175f6b0",
   "metadata": {
    "scrolled": true
   },
   "outputs": [
    {
     "data": {
      "text/html": [
       "<div>\n",
       "<style scoped>\n",
       "    .dataframe tbody tr th:only-of-type {\n",
       "        vertical-align: middle;\n",
       "    }\n",
       "\n",
       "    .dataframe tbody tr th {\n",
       "        vertical-align: top;\n",
       "    }\n",
       "\n",
       "    .dataframe thead th {\n",
       "        text-align: right;\n",
       "    }\n",
       "</style>\n",
       "<table border=\"1\" class=\"dataframe\">\n",
       "  <thead>\n",
       "    <tr style=\"text-align: right;\">\n",
       "      <th></th>\n",
       "      <th>name</th>\n",
       "      <th>ALIGN</th>\n",
       "      <th>SEX</th>\n",
       "      <th>APPEARANCES</th>\n",
       "      <th>YEAR</th>\n",
       "    </tr>\n",
       "  </thead>\n",
       "  <tbody>\n",
       "    <tr>\n",
       "      <th>count</th>\n",
       "      <td>6896</td>\n",
       "      <td>6896</td>\n",
       "      <td>6896</td>\n",
       "      <td>6896.000000</td>\n",
       "      <td>6896.000000</td>\n",
       "    </tr>\n",
       "    <tr>\n",
       "      <th>unique</th>\n",
       "      <td>6896</td>\n",
       "      <td>4</td>\n",
       "      <td>4</td>\n",
       "      <td>NaN</td>\n",
       "      <td>NaN</td>\n",
       "    </tr>\n",
       "    <tr>\n",
       "      <th>top</th>\n",
       "      <td>Batman (Bruce Wayne)</td>\n",
       "      <td>Bad Characters</td>\n",
       "      <td>Male Characters</td>\n",
       "      <td>NaN</td>\n",
       "      <td>NaN</td>\n",
       "    </tr>\n",
       "    <tr>\n",
       "      <th>freq</th>\n",
       "      <td>1</td>\n",
       "      <td>3496</td>\n",
       "      <td>4908</td>\n",
       "      <td>NaN</td>\n",
       "      <td>NaN</td>\n",
       "    </tr>\n",
       "    <tr>\n",
       "      <th>mean</th>\n",
       "      <td>NaN</td>\n",
       "      <td>NaN</td>\n",
       "      <td>NaN</td>\n",
       "      <td>22.460412</td>\n",
       "      <td>1989.768997</td>\n",
       "    </tr>\n",
       "    <tr>\n",
       "      <th>std</th>\n",
       "      <td>NaN</td>\n",
       "      <td>NaN</td>\n",
       "      <td>NaN</td>\n",
       "      <td>85.246129</td>\n",
       "      <td>16.739817</td>\n",
       "    </tr>\n",
       "    <tr>\n",
       "      <th>min</th>\n",
       "      <td>NaN</td>\n",
       "      <td>NaN</td>\n",
       "      <td>NaN</td>\n",
       "      <td>1.000000</td>\n",
       "      <td>1935.000000</td>\n",
       "    </tr>\n",
       "    <tr>\n",
       "      <th>25%</th>\n",
       "      <td>NaN</td>\n",
       "      <td>NaN</td>\n",
       "      <td>NaN</td>\n",
       "      <td>2.000000</td>\n",
       "      <td>1983.000000</td>\n",
       "    </tr>\n",
       "    <tr>\n",
       "      <th>50%</th>\n",
       "      <td>NaN</td>\n",
       "      <td>NaN</td>\n",
       "      <td>NaN</td>\n",
       "      <td>5.000000</td>\n",
       "      <td>1992.000000</td>\n",
       "    </tr>\n",
       "    <tr>\n",
       "      <th>75%</th>\n",
       "      <td>NaN</td>\n",
       "      <td>NaN</td>\n",
       "      <td>NaN</td>\n",
       "      <td>14.000000</td>\n",
       "      <td>2003.000000</td>\n",
       "    </tr>\n",
       "    <tr>\n",
       "      <th>max</th>\n",
       "      <td>NaN</td>\n",
       "      <td>NaN</td>\n",
       "      <td>NaN</td>\n",
       "      <td>3093.000000</td>\n",
       "      <td>2013.000000</td>\n",
       "    </tr>\n",
       "  </tbody>\n",
       "</table>\n",
       "</div>"
      ],
      "text/plain": [
       "                        name           ALIGN              SEX  APPEARANCES  \\\n",
       "count                   6896            6896             6896  6896.000000   \n",
       "unique                  6896               4                4          NaN   \n",
       "top     Batman (Bruce Wayne)  Bad Characters  Male Characters          NaN   \n",
       "freq                       1            3496             4908          NaN   \n",
       "mean                     NaN             NaN              NaN    22.460412   \n",
       "std                      NaN             NaN              NaN    85.246129   \n",
       "min                      NaN             NaN              NaN     1.000000   \n",
       "25%                      NaN             NaN              NaN     2.000000   \n",
       "50%                      NaN             NaN              NaN     5.000000   \n",
       "75%                      NaN             NaN              NaN    14.000000   \n",
       "max                      NaN             NaN              NaN  3093.000000   \n",
       "\n",
       "               YEAR  \n",
       "count   6896.000000  \n",
       "unique          NaN  \n",
       "top             NaN  \n",
       "freq            NaN  \n",
       "mean    1989.768997  \n",
       "std       16.739817  \n",
       "min     1935.000000  \n",
       "25%     1983.000000  \n",
       "50%     1992.000000  \n",
       "75%     2003.000000  \n",
       "max     2013.000000  "
      ]
     },
     "execution_count": 49,
     "metadata": {},
     "output_type": "execute_result"
    }
   ],
   "source": [
    "dc_fill_na.describe(include = 'all')"
   ]
  },
  {
   "cell_type": "markdown",
   "id": "f4280a64",
   "metadata": {
    "slideshow": {
     "slide_type": "slide"
    }
   },
   "source": [
    "## Implication of imputation with mean / mode / median\n",
    "\n",
    "* May cause bias\n",
    "    * For example:"
   ]
  },
  {
   "cell_type": "code",
   "execution_count": 50,
   "id": "a7024509",
   "metadata": {
    "scrolled": true
   },
   "outputs": [
    {
     "data": {
      "text/plain": [
       "Male Characters           70.639492\n",
       "Female Characters         29.050362\n",
       "Genderless Characters      0.295377\n",
       "Transgender Characters     0.014769\n",
       "Name: SEX, dtype: float64"
      ]
     },
     "execution_count": 50,
     "metadata": {},
     "output_type": "execute_result"
    }
   ],
   "source": [
    "# original data\n",
    "(dc['SEX'].value_counts(normalize=True))*100"
   ]
  },
  {
   "cell_type": "code",
   "execution_count": 51,
   "id": "5cb72dea",
   "metadata": {
    "scrolled": true
   },
   "outputs": [
    {
     "data": {
      "text/plain": [
       "Male Characters           71.171694\n",
       "Female Characters         28.523782\n",
       "Genderless Characters      0.290023\n",
       "Transgender Characters     0.014501\n",
       "Name: SEX, dtype: float64"
      ]
     },
     "execution_count": 51,
     "metadata": {},
     "output_type": "execute_result"
    }
   ],
   "source": [
    "# with missing data filled by the mode, which is \"Male Characters\"\n",
    "(dc_fill_na['SEX'].value_counts(normalize=True))*100"
   ]
  },
  {
   "cell_type": "markdown",
   "id": "1779054d",
   "metadata": {},
   "source": [
    "For our analysis, filling with mode may not be appropriate. "
   ]
  },
  {
   "cell_type": "markdown",
   "id": "3c140531",
   "metadata": {
    "slideshow": {
     "slide_type": "slide"
    }
   },
   "source": [
    "## Implication of imputation with mean / mode / median (continue)\n",
    "\n",
    "Back to the students mark vs number of revision hour example. Assume:\n",
    "* Students who spent low number of hours in revision are more likely not answering the question\n",
    "* Number of hours and the mark is positively correlated\n",
    "        \n",
    "By replacing the number of hours by the average, then we are likely to \"overestimate\" the marks for students who did not answer the question."
   ]
  },
  {
   "cell_type": "markdown",
   "id": "44b314bf",
   "metadata": {
    "slideshow": {
     "slide_type": "slide"
    }
   },
   "source": [
    "## Time series data\n",
    "\n",
    "A time series is a series of data points indexed in time order, at successive equally spaced points in time. \n",
    "* Example:"
   ]
  },
  {
   "cell_type": "code",
   "execution_count": 52,
   "id": "14414fd4",
   "metadata": {
    "scrolled": false
   },
   "outputs": [
    {
     "data": {
      "text/plain": [
       "2021-01-14    130.800003\n",
       "2021-01-15    128.779999\n",
       "2021-01-16           NaN\n",
       "2021-01-17           NaN\n",
       "2021-01-18           NaN\n",
       "2021-01-19    127.779999\n",
       "2021-01-20    128.660004\n",
       "Freq: D, Name: Open, dtype: float64"
      ]
     },
     "execution_count": 52,
     "metadata": {},
     "output_type": "execute_result"
    }
   ],
   "source": [
    "aapl = pd.read_csv('data/AAPL.csv', index_col= 0, parse_dates=True,)\n",
    "idx = pd.date_range(aapl.index.min(), aapl.index.max())\n",
    "price = aapl.reindex(idx, fill_value=pd.NA)['Open']\n",
    "price.head(7)"
   ]
  },
  {
   "cell_type": "markdown",
   "id": "90c6ca5c",
   "metadata": {
    "slideshow": {
     "slide_type": "slide"
    }
   },
   "source": [
    "## Time series data (continue)\n",
    "\n",
    "Here we plot the opening price of AAPL:"
   ]
  },
  {
   "cell_type": "code",
   "execution_count": 53,
   "id": "57f1cc38",
   "metadata": {
    "scrolled": true
   },
   "outputs": [
    {
     "data": {
      "image/png": "[encoded data removed]",
      "text/plain": [
       "<Figure size 1080x360 with 1 Axes>"
      ]
     },
     "metadata": {
      "needs_background": "light"
     },
     "output_type": "display_data"
    }
   ],
   "source": [
    "# we will learn the code in the next week\n",
    "price.plot(figsize = (15,5)); "
   ]
  },
  {
   "cell_type": "markdown",
   "id": "02774879",
   "metadata": {},
   "source": [
    "We can see there is some missing data."
   ]
  },
  {
   "cell_type": "markdown",
   "id": "10a00247",
   "metadata": {
    "slideshow": {
     "slide_type": "slide"
    }
   },
   "source": [
    "## Fill missing data: forward fill\n",
    "\n",
    "* We can provide`fillna()` with different methods. For example: \n",
    "    * `method = 'ffill'`: 'forward fill' with the previous value "
   ]
  },
  {
   "cell_type": "code",
   "execution_count": 54,
   "id": "ce6b067f",
   "metadata": {
    "scrolled": true
   },
   "outputs": [
    {
     "data": {
      "text/html": [
       "<div>\n",
       "<style scoped>\n",
       "    .dataframe tbody tr th:only-of-type {\n",
       "        vertical-align: middle;\n",
       "    }\n",
       "\n",
       "    .dataframe tbody tr th {\n",
       "        vertical-align: top;\n",
       "    }\n",
       "\n",
       "    .dataframe thead th {\n",
       "        text-align: right;\n",
       "    }\n",
       "</style>\n",
       "<table border=\"1\" class=\"dataframe\">\n",
       "  <thead>\n",
       "    <tr style=\"text-align: right;\">\n",
       "      <th></th>\n",
       "      <th>original</th>\n",
       "      <th>ffill</th>\n",
       "    </tr>\n",
       "  </thead>\n",
       "  <tbody>\n",
       "    <tr>\n",
       "      <th>2021-01-14</th>\n",
       "      <td>130.800003</td>\n",
       "      <td>130.800003</td>\n",
       "    </tr>\n",
       "    <tr>\n",
       "      <th>2021-01-15</th>\n",
       "      <td>128.779999</td>\n",
       "      <td>128.779999</td>\n",
       "    </tr>\n",
       "    <tr>\n",
       "      <th>2021-01-16</th>\n",
       "      <td>NaN</td>\n",
       "      <td>128.779999</td>\n",
       "    </tr>\n",
       "    <tr>\n",
       "      <th>2021-01-17</th>\n",
       "      <td>NaN</td>\n",
       "      <td>128.779999</td>\n",
       "    </tr>\n",
       "    <tr>\n",
       "      <th>2021-01-18</th>\n",
       "      <td>NaN</td>\n",
       "      <td>128.779999</td>\n",
       "    </tr>\n",
       "    <tr>\n",
       "      <th>2021-01-19</th>\n",
       "      <td>127.779999</td>\n",
       "      <td>127.779999</td>\n",
       "    </tr>\n",
       "    <tr>\n",
       "      <th>2021-01-20</th>\n",
       "      <td>128.660004</td>\n",
       "      <td>128.660004</td>\n",
       "    </tr>\n",
       "  </tbody>\n",
       "</table>\n",
       "</div>"
      ],
      "text/plain": [
       "              original       ffill\n",
       "2021-01-14  130.800003  130.800003\n",
       "2021-01-15  128.779999  128.779999\n",
       "2021-01-16         NaN  128.779999\n",
       "2021-01-17         NaN  128.779999\n",
       "2021-01-18         NaN  128.779999\n",
       "2021-01-19  127.779999  127.779999\n",
       "2021-01-20  128.660004  128.660004"
      ]
     },
     "execution_count": 54,
     "metadata": {},
     "output_type": "execute_result"
    }
   ],
   "source": [
    "ffill_price = price.fillna(method = 'ffill')\n",
    "pd.DataFrame({'original': price, 'ffill': ffill_price}).head(7)"
   ]
  },
  {
   "cell_type": "markdown",
   "id": "cef4fd87",
   "metadata": {},
   "source": [
    "It is a sensible way to fill the data here as there is missing data because the market was not open on those days (e.g. weekend or public holiday). "
   ]
  },
  {
   "cell_type": "markdown",
   "id": "882cc196",
   "metadata": {
    "slideshow": {
     "slide_type": "slide"
    }
   },
   "source": [
    "## Fill missing data: linear interpolation\n",
    "\n",
    "Another way you can fill the missing data with linear average, with the use of `interpolate(method = 'linear')`. For example:"
   ]
  },
  {
   "cell_type": "code",
   "execution_count": 55,
   "id": "f3be8fd5",
   "metadata": {
    "scrolled": false
   },
   "outputs": [
    {
     "data": {
      "text/html": [
       "<div>\n",
       "<style scoped>\n",
       "    .dataframe tbody tr th:only-of-type {\n",
       "        vertical-align: middle;\n",
       "    }\n",
       "\n",
       "    .dataframe tbody tr th {\n",
       "        vertical-align: top;\n",
       "    }\n",
       "\n",
       "    .dataframe thead th {\n",
       "        text-align: right;\n",
       "    }\n",
       "</style>\n",
       "<table border=\"1\" class=\"dataframe\">\n",
       "  <thead>\n",
       "    <tr style=\"text-align: right;\">\n",
       "      <th></th>\n",
       "      <th>original</th>\n",
       "      <th>linear_fill</th>\n",
       "    </tr>\n",
       "  </thead>\n",
       "  <tbody>\n",
       "    <tr>\n",
       "      <th>2021-01-14</th>\n",
       "      <td>130.800003</td>\n",
       "      <td>130.800003</td>\n",
       "    </tr>\n",
       "    <tr>\n",
       "      <th>2021-01-15</th>\n",
       "      <td>128.779999</td>\n",
       "      <td>128.779999</td>\n",
       "    </tr>\n",
       "    <tr>\n",
       "      <th>2021-01-16</th>\n",
       "      <td>NaN</td>\n",
       "      <td>128.529999</td>\n",
       "    </tr>\n",
       "    <tr>\n",
       "      <th>2021-01-17</th>\n",
       "      <td>NaN</td>\n",
       "      <td>128.279999</td>\n",
       "    </tr>\n",
       "    <tr>\n",
       "      <th>2021-01-18</th>\n",
       "      <td>NaN</td>\n",
       "      <td>128.029999</td>\n",
       "    </tr>\n",
       "    <tr>\n",
       "      <th>2021-01-19</th>\n",
       "      <td>127.779999</td>\n",
       "      <td>127.779999</td>\n",
       "    </tr>\n",
       "    <tr>\n",
       "      <th>2021-01-20</th>\n",
       "      <td>128.660004</td>\n",
       "      <td>128.660004</td>\n",
       "    </tr>\n",
       "  </tbody>\n",
       "</table>\n",
       "</div>"
      ],
      "text/plain": [
       "              original  linear_fill\n",
       "2021-01-14  130.800003   130.800003\n",
       "2021-01-15  128.779999   128.779999\n",
       "2021-01-16         NaN   128.529999\n",
       "2021-01-17         NaN   128.279999\n",
       "2021-01-18         NaN   128.029999\n",
       "2021-01-19  127.779999   127.779999\n",
       "2021-01-20  128.660004   128.660004"
      ]
     },
     "execution_count": 55,
     "metadata": {},
     "output_type": "execute_result"
    }
   ],
   "source": [
    "linear_fill_price = price.interpolate(method='linear')\n",
    "pd.DataFrame({'original': price, 'linear_fill': linear_fill_price}).head(7)"
   ]
  },
  {
   "cell_type": "markdown",
   "id": "305c50ca",
   "metadata": {
    "slideshow": {
     "slide_type": "slide"
    }
   },
   "source": [
    "## More on filling missing data using linear interpolation\n",
    "\n",
    "Linear averaging a simple way to fill the missing data if there is some (simple) pattens in the data. For example:"
   ]
  },
  {
   "cell_type": "code",
   "execution_count": 56,
   "id": "35c34c0d",
   "metadata": {},
   "outputs": [
    {
     "data": {
      "image/png": "[encoded data removed]",
      "text/plain": [
       "<Figure size 432x288 with 1 Axes>"
      ]
     },
     "metadata": {
      "needs_background": "light"
     },
     "output_type": "display_data"
    }
   ],
   "source": [
    "import numpy as np\n",
    "import matplotlib.pyplot as plt\n",
    "n = 15\n",
    "ts = np.sin(np.linspace(0, 2*np.pi, n))\n",
    "np.random.seed(1)\n",
    "ts[np.random.randint(n, size = 3)] = np.nan\n",
    "ts = pd.DataFrame({'ts':ts}, index = np.arange(n))\n",
    "ts.reset_index().plot.scatter(x = 'index', y = 'ts');"
   ]
  },
  {
   "cell_type": "markdown",
   "id": "51d42d6f",
   "metadata": {
    "slideshow": {
     "slide_type": "slide"
    }
   },
   "source": [
    "## More on filling missing data using linear interpolation (continue)"
   ]
  },
  {
   "cell_type": "code",
   "execution_count": 57,
   "id": "e7edcc90",
   "metadata": {
    "scrolled": true
   },
   "outputs": [
    {
     "data": {
      "image/png": "[encoded data removed]",
      "text/plain": [
       "<Figure size 432x288 with 1 Axes>"
      ]
     },
     "metadata": {
      "needs_background": "light"
     },
     "output_type": "display_data"
    }
   ],
   "source": [
    "linear_fill_ts = ts.interpolate(method='linear')\n",
    "plt.scatter(y = linear_fill_ts, x = np.arange(n));\n",
    "plt.scatter(y = ts['ts'], x = np.arange(n));"
   ]
  },
  {
   "cell_type": "markdown",
   "id": "59281d10",
   "metadata": {},
   "source": [
    "Pandas also provides other interpolation methods. See [here](https://pandas.pydata.org/docs/reference/api/pandas.DataFrame.interpolate.html) to learn more."
   ]
  },
  {
   "cell_type": "markdown",
   "id": "b511a63a",
   "metadata": {
    "slideshow": {
     "slide_type": "slide"
    }
   },
   "source": [
    "## Filling missing data: graphical illustration\n",
    "\n",
    "Let us graphically illustrate how the missing data is filled with two different methods:"
   ]
  },
  {
   "cell_type": "code",
   "execution_count": 58,
   "id": "1ba8721a",
   "metadata": {
    "scrolled": true
   },
   "outputs": [
    {
     "data": {
      "image/png": "[encoded data removed]",
      "text/plain": [
       "<Figure size 1080x360 with 1 Axes>"
      ]
     },
     "metadata": {
      "needs_background": "light"
     },
     "output_type": "display_data"
    }
   ],
   "source": [
    "linear_fill_price = price.interpolate(method='linear')\n",
    "ffill_price = price.fillna(method = 'ffill')\n",
    "pd.DataFrame({'ffill': ffill_price, 'linear_fill': linear_fill_price, \n",
    "              'original': price})[:100]\\\n",
    "    .plot(figsize = (15,5), style = ['--', '-.', '-']);"
   ]
  },
  {
   "cell_type": "markdown",
   "id": "1ab4f47a",
   "metadata": {
    "slideshow": {
     "slide_type": "slide"
    }
   },
   "source": [
    "## More on handling missing data\n",
    "\n",
    "There are some other ways to handle missing data. For example:\n",
    "* Randomly fill the missing data\n",
    "* Model the imputation \n",
    "* Use missingness indicator variable\n",
    "    \n",
    "But we are not going to discuss them in this course."
   ]
  },
  {
   "cell_type": "markdown",
   "id": "ef677988",
   "metadata": {
    "slideshow": {
     "slide_type": "slide"
    }
   },
   "source": [
    "## Summary\n",
    "\n",
    "* Data exploration\n",
    "* Data wrangling \n",
    "    * Handling missing data"
   ]
  },
  {
   "cell_type": "markdown",
   "id": "890cc988",
   "metadata": {
    "slideshow": {
     "slide_type": "slide"
    }
   },
   "source": [
    "## Preview of workshop\n",
    "\n",
    "More on data wrangling with Pandas\n",
    "* Merging data\n",
    "* Data aggregation\n",
    "* Reshaping data with pivot table"
   ]
  },
  {
   "cell_type": "markdown",
   "id": "92134051",
   "metadata": {
    "slideshow": {
     "slide_type": "slide"
    }
   },
   "source": [
    "## Reading resources\n",
    "\n",
    "* [10 minutes to Pandas](https://pandas.pydata.org/pandas-docs/stable/user_guide/10min.html)\n",
    "* Python for Data Analysis Ch 5, 6.1 (before JSON), 7.1-7.2"
   ]
  },
  {
   "cell_type": "code",
   "execution_count": 35,
   "id": "3a5226d7",
   "metadata": {},
   "outputs": [
    {
     "data": {
      "text/html": [
       "<div>\n",
       "<style scoped>\n",
       "    .dataframe tbody tr th:only-of-type {\n",
       "        vertical-align: middle;\n",
       "    }\n",
       "\n",
       "    .dataframe tbody tr th {\n",
       "        vertical-align: top;\n",
       "    }\n",
       "\n",
       "    .dataframe thead th {\n",
       "        text-align: right;\n",
       "    }\n",
       "</style>\n",
       "<table border=\"1\" class=\"dataframe\">\n",
       "  <thead>\n",
       "    <tr style=\"text-align: right;\">\n",
       "      <th></th>\n",
       "      <th>names</th>\n",
       "      <th>score</th>\n",
       "    </tr>\n",
       "  </thead>\n",
       "  <tbody>\n",
       "    <tr>\n",
       "      <th>0</th>\n",
       "      <td>Amber</td>\n",
       "      <td>86.0</td>\n",
       "    </tr>\n",
       "    <tr>\n",
       "      <th>1</th>\n",
       "      <td>Andy</td>\n",
       "      <td>90.0</td>\n",
       "    </tr>\n",
       "    <tr>\n",
       "      <th>2</th>\n",
       "      <td>Peter</td>\n",
       "      <td>NaN</td>\n",
       "    </tr>\n",
       "    <tr>\n",
       "      <th>3</th>\n",
       "      <td>Judy</td>\n",
       "      <td>75.0</td>\n",
       "    </tr>\n",
       "    <tr>\n",
       "      <th>4</th>\n",
       "      <td>Jerry</td>\n",
       "      <td>53.0</td>\n",
       "    </tr>\n",
       "  </tbody>\n",
       "</table>\n",
       "</div>"
      ],
      "text/plain": [
       "   names  score\n",
       "0  Amber   86.0\n",
       "1   Andy   90.0\n",
       "2  Peter    NaN\n",
       "3   Judy   75.0\n",
       "4  Jerry   53.0"
      ]
     },
     "execution_count": 35,
     "metadata": {},
     "output_type": "execute_result"
    }
   ],
   "source": [
    "grade = pd.DataFrame({'names': ['Amber', 'Andy', 'Peter', 'Judy', 'Jerry'],\n",
    "                                           'score': [86, 90, np.nan, 75, 53]})\n",
    "grade"
   ]
  },
  {
   "cell_type": "code",
   "execution_count": 59,
   "id": "b89e4947",
   "metadata": {},
   "outputs": [
    {
     "data": {
      "text/plain": [
       "80.5"
      ]
     },
     "execution_count": 59,
     "metadata": {},
     "output_type": "execute_result"
    }
   ],
   "source": [
    "grade['score'].median()"
   ]
  },
  {
   "cell_type": "code",
   "execution_count": 43,
   "id": "a1d301b2",
   "metadata": {},
   "outputs": [
    {
     "data": {
      "text/plain": [
       "'Peter'"
      ]
     },
     "execution_count": 43,
     "metadata": {},
     "output_type": "execute_result"
    }
   ],
   "source": [
    "grade['names'][2]"
   ]
  },
  {
   "cell_type": "code",
   "execution_count": 47,
   "id": "3b10c961",
   "metadata": {},
   "outputs": [
    {
     "data": {
      "text/plain": [
       "(5, 2)"
      ]
     },
     "execution_count": 47,
     "metadata": {},
     "output_type": "execute_result"
    }
   ],
   "source": [
    "grade.shape"
   ]
  },
  {
   "cell_type": "code",
   "execution_count": 49,
   "id": "42adcf26",
   "metadata": {},
   "outputs": [
    {
     "data": {
      "text/plain": [
       "(4, 2)"
      ]
     },
     "execution_count": 49,
     "metadata": {},
     "output_type": "execute_result"
    }
   ],
   "source": [
    "grade.dropna().shape"
   ]
  },
  {
   "cell_type": "code",
   "execution_count": 56,
   "id": "f51fbc47",
   "metadata": {},
   "outputs": [
    {
     "data": {
      "text/plain": [
       "1"
      ]
     },
     "execution_count": 56,
     "metadata": {},
     "output_type": "execute_result"
    }
   ],
   "source": [
    "grade['score'].isnull().sum()"
   ]
  },
  {
   "cell_type": "code",
   "execution_count": 61,
   "id": "ee666e05",
   "metadata": {},
   "outputs": [
    {
     "data": {
      "text/plain": [
       "<bound method IndexOpsMixin.value_counts of 0    86.0\n",
       "1    90.0\n",
       "2     NaN\n",
       "3    75.0\n",
       "4    53.0\n",
       "Name: score, dtype: float64>"
      ]
     },
     "execution_count": 61,
     "metadata": {},
     "output_type": "execute_result"
    }
   ],
   "source": [
    "grade['score'].value_counts"
   ]
  },
  {
   "cell_type": "code",
   "execution_count": 62,
   "id": "8d0f7cad",
   "metadata": {},
   "outputs": [],
   "source": [
    "grade = pd.DataFrame({'name': ['Amber', 'Andy', 'Peter', 'Judy', 'Jerry'],\n",
    "                                           'score': [86, 90, np.nan, 75, 53], \n",
    "                                           'sex': ['Female', 'Male', 'Male', 'Female', 'Female']})"
   ]
  },
  {
   "cell_type": "code",
   "execution_count": 64,
   "id": "5dd84db6",
   "metadata": {},
   "outputs": [
    {
     "data": {
      "text/plain": [
       "Female    3\n",
       "Male      2\n",
       "Name: sex, dtype: int64"
      ]
     },
     "execution_count": 64,
     "metadata": {},
     "output_type": "execute_result"
    }
   ],
   "source": [
    "grade['sex'].value_counts()"
   ]
  },
  {
   "cell_type": "code",
   "execution_count": 71,
   "id": "14102a7a",
   "metadata": {},
   "outputs": [
    {
     "data": {
      "text/plain": [
       "dtype('O')"
      ]
     },
     "execution_count": 71,
     "metadata": {},
     "output_type": "execute_result"
    }
   ],
   "source": [
    "grade.dtypes"
   ]
  },
  {
   "cell_type": "code",
   "execution_count": null,
   "id": "24af0013",
   "metadata": {},
   "outputs": [],
   "source": []
  }
 ],
 "metadata": {
  "celltoolbar": "Slideshow",
  "kernelspec": {
   "display_name": "Python 3 (ipykernel)",
   "language": "python",
   "name": "python3"
  },
  "language_info": {
   "codemirror_mode": {
    "name": "ipython",
    "version": 3
   },
   "file_extension": ".py",
   "mimetype": "text/x-python",
   "name": "python",
   "nbconvert_exporter": "python",
   "pygments_lexer": "ipython3",
   "version": "3.9.12"
  }
 },
 "nbformat": 4,
 "nbformat_minor": 5
}
