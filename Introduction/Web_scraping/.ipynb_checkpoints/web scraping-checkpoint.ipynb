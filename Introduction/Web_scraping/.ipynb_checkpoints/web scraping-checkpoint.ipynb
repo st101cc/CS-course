{
 "cells": [
  {
   "cell_type": "markdown",
   "metadata": {
    "lines_to_next_cell": 0,
    "slideshow": {
     "slide_type": "slide"
    }
   },
   "source": [
    "# Collecting data from the Internet"
   ]
  },
  {
   "cell_type": "markdown",
   "metadata": {
    "slideshow": {
     "slide_type": "slide"
    }
   },
   "source": [
    "## Today's plan\n",
    "\n",
    "* Internet and the web\n",
    "* Collecting data from the Internet\n",
    "    * Web scraping "
   ]
  },
  {
   "cell_type": "markdown",
   "metadata": {
    "slideshow": {
     "slide_type": "slide"
    }
   },
   "source": [
    "# Self-study Python materials"
   ]
  },
  {
   "cell_type": "markdown",
   "metadata": {
    "slideshow": {
     "slide_type": "slide"
    }
   },
   "source": [
    "## Useful Python functionality (1): f-string\n",
    "\n",
    "Example: To create a string `Hello, x!`, with x someone's name stored in a variable.\n",
    "* By string concatenation:"
   ]
  },
  {
   "cell_type": "code",
   "execution_count": 1,
   "metadata": {
    "scrolled": true
   },
   "outputs": [
    {
     "data": {
      "text/plain": [
       "'Hello, Harry!'"
      ]
     },
     "execution_count": 1,
     "metadata": {},
     "output_type": "execute_result"
    }
   ],
   "source": [
    "name = 'Harry'\n",
    "'Hello, '+name+'!'"
   ]
  },
  {
   "cell_type": "markdown",
   "metadata": {},
   "source": [
    "* By f-string:"
   ]
  },
  {
   "cell_type": "code",
   "execution_count": 2,
   "metadata": {
    "scrolled": true
   },
   "outputs": [
    {
     "data": {
      "text/plain": [
       "'Hello, Harry!'"
      ]
     },
     "execution_count": 2,
     "metadata": {},
     "output_type": "execute_result"
    }
   ],
   "source": [
    "f'Hello, {name}!'"
   ]
  },
  {
   "cell_type": "markdown",
   "metadata": {},
   "source": [
    "`{name}` is replaced by the value of the variable. Note you need the `f` in front of the quotation. The following does not work:"
   ]
  },
  {
   "cell_type": "code",
   "execution_count": 3,
   "metadata": {},
   "outputs": [
    {
     "data": {
      "text/plain": [
       "'Hello, {name}'"
      ]
     },
     "execution_count": 3,
     "metadata": {},
     "output_type": "execute_result"
    }
   ],
   "source": [
    "'Hello, {name}' # f is missing"
   ]
  },
  {
   "cell_type": "markdown",
   "metadata": {
    "slideshow": {
     "slide_type": "slide"
    }
   },
   "source": [
    "## Useful Python functionality (2): split string\n",
    "\n",
    "Sometimes a string can be very long. You can split it into pieces by the use of `\\`. Examples:"
   ]
  },
  {
   "cell_type": "code",
   "execution_count": 1,
   "metadata": {},
   "outputs": [
    {
     "name": "stdout",
     "output_type": "stream",
     "text": [
      "This is a very very very long string, too long to display in one line so we are going to split it into half and here we are showing you how to do it with the use of \\.\n"
     ]
    }
   ],
   "source": [
    "s = 'This is a very very very long string, too long to display ' \\\n",
    "'in one line so we are going to split it into half and here ' \\\n",
    "'we are showing you how to do it with the use of \\\\.'\n",
    "print(s)"
   ]
  },
  {
   "cell_type": "markdown",
   "metadata": {
    "slideshow": {
     "slide_type": "slide"
    }
   },
   "source": [
    "## Internet\n",
    "\n",
    "The Internet is a huge global network of computers all connected together.\n",
    "\n",
    "* Through the Internet, people can share information and communicate from anywhere with an Internet connection\n",
    "    * The world wide web and email are some applications running on top of the Internet"
   ]
  },
  {
   "cell_type": "markdown",
   "metadata": {
    "slideshow": {
     "slide_type": "slide"
    }
   },
   "source": [
    "## World wide web\n",
    "\n",
    "World wide web (WWW) is an information system of web pages and other web resources accessible over the Internet.\n",
    "* It is commonly known as the Web\n",
    "* Three important components:\n",
    "    * URL: addressing scheme to find resources\n",
    "    * HTTP: protocol on how web browsers and web servers communicate\n",
    "        * Protocol: set of standard conventions that the world has agreed upon for computers to communicate with\n",
    "    * HTML: a markup language to format pages containing _hypertexts_\n",
    "        * Hypertext: text displayed on a computer display that links to other text the reader can immediately access"
   ]
  },
  {
   "cell_type": "markdown",
   "metadata": {
    "slideshow": {
     "slide_type": "slide"
    }
   },
   "source": [
    "## Example: URL and html\n",
    "\n",
    "<center><img src=\"figs/url_html.png\" width=\"600\"/></center>\n",
    "\n",
    "You can see the html code by right clicking on a web page and click \"Inspect Element\" (if you are using safari) or \"Inspect\" (if you are using chrome)"
   ]
  },
  {
   "cell_type": "markdown",
   "metadata": {
    "slideshow": {
     "slide_type": "slide"
    }
   },
   "source": [
    "## Example: HTTP \n",
    "\n",
    "<center><img src=\"figs/http.png\" width=\"600\"/></center>"
   ]
  },
  {
   "cell_type": "markdown",
   "metadata": {
    "slideshow": {
     "slide_type": "slide"
    }
   },
   "source": [
    "## URL\n",
    "\n",
    "\n",
    "URL (Uniform Resource Locator, or \"web address\") can be considered as an address of a given unique resource.\n",
    "\n",
    "* Example: https://www.lse.ac.uk/resources/calendar2021-2022/courseGuides/ST/2021_ST115.htm\n",
    "* URLs occur most commonly to reference web pages (http) but are also used for file transfer (ftp), email (mailto), etc\n",
    "    * e.g. [mailto:statistics@lse.ac.uk](mailto:statistics@lse.ac.uk)"
   ]
  },
  {
   "cell_type": "markdown",
   "metadata": {
    "slideshow": {
     "slide_type": "slide"
    }
   },
   "source": [
    "## URL (continue)\n",
    "\n",
    "A typical URL could have the form: `<scheme>://<host>:<port>/<path><;parameters><?query><#fragment>`.\n",
    "* Scheme (e.g., http, https, mailto, ftp)\n",
    "* Location of the server, e.g. a hostname or IP address\n",
    "* [optional] port: communication endpoint\n",
    "* Path to the resource on the server\n",
    "* [optional] parameters (;something), query string (?something), fragment identifier (#something)"
   ]
  },
  {
   "cell_type": "markdown",
   "metadata": {
    "slideshow": {
     "slide_type": "slide"
    }
   },
   "source": [
    "## URL example 1\n",
    "\n",
    "https://www.lse.ac.uk/resources/calendar2021-2022/courseGuides/ST/2021_ST115.htm\n",
    "* `https`: scheme\n",
    "* `www.lse.ac.uk`: hostname which can help with identifying the location of the server\n",
    "* `resources/calendar2021-2022/courseGuides/ST/2021_ST115.htm`: path to the resource on the serve"
   ]
  },
  {
   "cell_type": "markdown",
   "metadata": {
    "slideshow": {
     "slide_type": "slide"
    }
   },
   "source": [
    "## URL example 2\n",
    "\n",
    "http://216.58.194.196/search?q=lse\n",
    "* `http`: scheme\n",
    "* `216.58.194.196`: IP address (Internet Protocol address) of Google \n",
    "* `?q=lse`: query string\n",
    "\n",
    "We will see more examples of the query string when we talk about API. "
   ]
  },
  {
   "cell_type": "markdown",
   "metadata": {
    "slideshow": {
     "slide_type": "slide"
    }
   },
   "source": [
    "## URL example 3\n",
    "\n",
    "http://127.0.0.1:8888/notebooks/ST115/week_08_webscraping/lecture_8.ipynb#URL-example-3 (this jupyter notebook on my computer)\n",
    "* `http`: scheme\n",
    "* `127.0.0.1`: IP address of the current device (or _localhost_)\n",
    "* `8888`: port\n",
    "* `notebooks/ST115/week_08_webscraping/lecture_8.ipynb`: path to the resource on the serve\n",
    "* `#URL-example-3`: fragment identifier\n",
    "\n",
    "<center><img src=\"figs/jupyter_notebook.png\" width=\"800\"/></center>"
   ]
  },
  {
   "cell_type": "markdown",
   "metadata": {
    "slideshow": {
     "slide_type": "slide"
    }
   },
   "source": [
    "## Servers\n",
    "\n",
    "* Server is a piece of computer hardware or software that provides functionality for _clients_\n",
    "    * Client: a piece of computer hardware or software that accesses a service made available by a server\n",
    "* Communications between server and client:\n",
    "<center><img src=\"figs/request_response.png\" width=\"800\"/></center>"
   ]
  },
  {
   "cell_type": "markdown",
   "metadata": {
    "slideshow": {
     "slide_type": "slide"
    }
   },
   "source": [
    "## Behind the scene when loading a web page\n",
    "\n",
    "* After entering a URL in a browser (or clicking on some links, hitting a button, etc), your computer requests another computer (server) specified by the given URL for information \n",
    "* Server decodes the request, sends back the information (response)\n",
    "* Your computer interprets the response and display it"
   ]
  },
  {
   "cell_type": "markdown",
   "metadata": {
    "slideshow": {
     "slide_type": "slide"
    }
   },
   "source": [
    "## HTTP\n",
    "\n",
    "HTTP (Hypertext Transfer Protocol) is a protocol which determines how a web page is requested and what the response looks like.\n",
    "* Example of HTTP request header:\n",
    "\n",
    "<center><img src=\"figs/request_header.png\" width=\"700\"></center>"
   ]
  },
  {
   "cell_type": "markdown",
   "metadata": {
    "slideshow": {
     "slide_type": "slide"
    }
   },
   "source": [
    "## HTTP requests\n",
    "\n",
    "* Request messages are sent by a client to a target server\n",
    "* A HTTP request has the following components:\n",
    "    * Request line, which includes\n",
    "        * URL \n",
    "        * Method (e.g. GET)\n",
    "        * Protocol version\n",
    "    * Headers: meta-information about a request\n",
    "    * Message body (optional)"
   ]
  },
  {
   "cell_type": "markdown",
   "metadata": {
    "slideshow": {
     "slide_type": "slide"
    }
   },
   "source": [
    "## HTTP request methods\n",
    "\n",
    "HTTP request methods indicate the desired action to be performed on the identified resource. \n",
    "* Some example request methods:\n",
    "\n",
    "| Method      |Description                                                                      |\n",
    "|-------------|---------------------------------------------------------------------------------|\n",
    "| GET         | Retrieve information from the specified URL                                    |\n",
    "| HEAD        | Retrieve the meta information from the header of the specified URL             |\n",
    "| POST        | Send the attached information for appending to the source URL                  |\n",
    "| PUT         | Send the attached information for replacing the resource at the specified URL  |\n",
    "| DELETE      | Delete the information identified by the URL                                    |\n",
    "\n",
    "A GET request is sent when you enter a url in browser. In this lecture we only consider GET as we focus on retrieving information."
   ]
  },
  {
   "cell_type": "markdown",
   "metadata": {
    "slideshow": {
     "slide_type": "slide"
    }
   },
   "source": [
    "## HTTP response\n",
    "\n",
    "* Response message is sent by a server to a client as a reply to its former request. \n",
    "* HTTP response has the following components:\n",
    "    * Status line, which includes\n",
    "        * Status code (numerical, e.g. 404) with the textual reason phrase (e.g. Not Found)\n",
    "        * Protocol version\n",
    "    * Headers\n",
    "    * Message body (optional)\n",
    "\n",
    "<center><img src=\"figs/response_header.png\" width=\"400\"/></center>\n"
   ]
  },
  {
   "cell_type": "markdown",
   "metadata": {
    "slideshow": {
     "slide_type": "slide"
    }
   },
   "source": [
    "## HTTP status code\n",
    "\n",
    "| Status Code | Description                                                 |\n",
    "|-------------|-------------------------------------------------------------|\n",
    "| 1xx         | Informational response e.g. server is processing the request|\n",
    "| 2xx         | Success. The action requested by the client was received, understood, and accepted |\n",
    "| 3xx         | Redirection e.g. when requested resource has moved          |\n",
    "| 4xx         | Client error. Examples: <br> 401 _unauthorised_ <br> 404  _page not found_ <br> 429 _too many requests_|\n",
    "| 5xx         | Server error                                                |"
   ]
  },
  {
   "cell_type": "markdown",
   "metadata": {
    "slideshow": {
     "slide_type": "slide"
    }
   },
   "source": [
    "## Example: 404 Not found\n",
    "\n",
    "<center><img src=\"figs/404.png\" width=\"600\"></center>"
   ]
  },
  {
   "cell_type": "markdown",
   "metadata": {
    "slideshow": {
     "slide_type": "slide"
    }
   },
   "source": [
    "## Sending request in Python\n",
    "\n",
    "In Python, we can use the `requests` module, which allows users to send HTTP requests and get the response easily."
   ]
  },
  {
   "cell_type": "code",
   "execution_count": 2,
   "metadata": {
    "scrolled": true
   },
   "outputs": [],
   "source": [
    "import requests\n",
    "url = 'https://www.lse.ac.uk/resources/calendar2022-2023/courseGuides/ST/2022_ST115.htm'\n",
    "r = requests.get(url)"
   ]
  },
  {
   "cell_type": "code",
   "execution_count": 3,
   "metadata": {},
   "outputs": [
    {
     "data": {
      "text/plain": [
       "(200, 'OK')"
      ]
     },
     "execution_count": 3,
     "metadata": {},
     "output_type": "execute_result"
    }
   ],
   "source": [
    "r.status_code, r.reason"
   ]
  },
  {
   "cell_type": "code",
   "execution_count": 4,
   "metadata": {
    "scrolled": true
   },
   "outputs": [
    {
     "data": {
      "text/plain": [
       "{'date': 'Sun, 11 Feb 2024 10:12:31 GMT', 'content-type': 'text/html', 'last-modified': 'Mon, 16 Jan 2023 14:40:20 GMT', 'transfer-encoding': 'chunked', 'etag': 'W/\"63c561d4-30de\"', 'x-contensis-viewer-groups': '|0|', 'content-encoding': 'gzip', 'x-origin-server': 'rp_10_65_29_4_lse_static_cloud_contensis_com_443_ssl', 'x-content-type-options': 'nosniff', 'referrer-policy': 'strict-origin-when-cross-origin', 'connection': 'close'}"
      ]
     },
     "execution_count": 4,
     "metadata": {},
     "output_type": "execute_result"
    }
   ],
   "source": [
    "r.headers"
   ]
  },
  {
   "cell_type": "code",
   "execution_count": 5,
   "metadata": {},
   "outputs": [
    {
     "data": {
      "text/plain": [
       "'<html>\\n<head>\\n<meta http-equiv=\"Content-Type\" content=\"text/html; charset=iso-8859-1\">\\n<title>ST115 Managing and Visualising Data</title>\\n<meta content=\"Calendar web editor\" name=\"dc.creator\">\\n<meta content=\"calendar@lse.ac.uk\" name=\"dc.creator.email\">\\n<meta content=\"Academic Registrar&#39;s Division\" name=\"lse.pagesource\">\\n<link rel=\"stylesheet\" type=\"text/css\" href=\"/css/capis.css\">\\n<link href=\"../../Default.htm\" rel=\"start\" title=\"Calendar\">\\n<link href=\"../../undergraduate.htm\" rel=\"prev\" title=\"Undergraduate\">\\n<link href=\"../../courseGuides/undergraduate.htm\" rel=\"prev\" title=\"Course guides\">\\n<script src=\"https://ajax.googleapis.com/ajax/libs/jquery/1.4.2/jquery.min.js\" type=\"text/javascript\"></script><script src=\"https://www.gstatic.com/charts/loader.js\" type=\"text/javascript\"></script><script type=\"text/javascript\">\\n\\n        function buildChart() { // made sure function is loaded before so that google chart\\'s callback needs it\\n\\n            var examsContentId ;\\n            var examsData ;\\n            var examsChart ;\\n\\n            function loadChartData(id, nr) {\\n                var data = new Array();\\n                var heading = new Array();\\n                $(\\'#\\' + id + \\' > table th\\').each(function() {\\n                    heading.push($(this).html().replace(\\'<br>\\', \\' \\'));\\n                });\\n                data.push(heading);\\n                var line = null;\\n                $(\\'#\\' + id + \\' > table > tbody > tr:visible > td\\').each(function(index) {\\n                    if (index % nr == 0) {\\n                        line = new Array();\\n                        line.push($(this).text());\\n                    }\\n                    else {\\n                        if ($(\\'table\\', $(this)).length == 0) {    // ignore nested table.\\n                            line.push(parseFloat($(this).text()));    // convert to number.\\n                            data.push(line);\\n                        }\\n                    }\\n                });\\n\\n                return data;\\n            };\\n\\n            // chart for exam classification.\\n            examsContentId = \\'exams-Content\\';\\n            if ($(\\'#\\' + examsContentId).length > 0) {\\n                examsData = google.visualization.arrayToDataTable(loadChartData(examsContentId, 2));\\n                examsChart = new google.visualization.BarChart(document.getElementById(examsContentId + \\'-Graph\\'));\\n                examsChart.draw(examsData, {\\n                    width: 400,\\n                    height: 250,\\n                    colors: [\\'#285886\\'],\\n                    tooltip: {isHtml: false, textStyle: {fontSize: 13, bold: false, italic: false}},\\n                    legend: {position: \\'none\\'},\\n                    chartArea: {width: \\'70%\\', height: \\'75%\\'},\\n                    vAxis: {textStyle: {fontSize: 11, bold: false, italic: false}},\\n                    hAxis: {\\n                        title: \\'% of students\\',\\n                        textPosition: \\'out\\',\\n                        minValue: 0,\\n                        maxValue: 100,\\n                        titleTextStyle: {fontSize: 12, bold: false, italic: false}\\n                    }\\n                });\\n\\n                $(\\'#\\' + examsContentId + \\' table\\').hide();    // hide exams data table.\\n            }\\n\\n        } // end of buildChart()\\n\\n        google.charts.load(\\'current\\', {\\'packages\\':[\\'corechart\\']\\n            , \\'callback\\': buildChart   // alt to .setOnLoadCallback() ensures google.charts guaranteed to have callback code\\n        });\\n\\n\\n    </script><script type=\"text/javascript\">var _gaq = _gaq || [];_gaq.push([\\'_setAccount\\', \\'UA-1994817-8\\']); _gaq.push([\\'_setDomainName\\', \\'lse.ac.uk\\']); _gaq.push([\\'_addIgnoredRef\\', \\'lse.ac.uk\\']); _gaq.push([\\'_setAllowAnchor\\', true]); _gaq.push([\\'_trackPageview\\']);(function() { var ga = document.createElement(\\'script\\'); ga.type = \\'text/javascript\\'; ga.async = true; ga.src = (\\'https:\\' == document.location.protocol ? \\'https://ssl\\' : \\'http://www\\') + \\'.google-analytics.com/ga.js\\'; var s = document.getElementsByTagName(\\'script\\')[0]; s.parentNode.insertBefore(ga, s); })();</script>\\n</head><body><div class=\"container\">\\n<div class=\"header\">\\n<div class=\"mainlinks\">\\n<a href=\"#navtrail\"><img src=\"/images/spacer.gif\" alt=\"Skip\" width=\"1\" height=\"1\" border=\"0\"></a><a href=\"/\">Home</a> |\\n\\t<a href=\"/resources/help/\">Help</a> |\\n\\t<a href=\"/resources/search/\">Search</a> |\\n    <a href=\"http://www.lse.ac.uk/lseforyou/\">LSE for You</a>&nbsp;\\n\\t</div>\\n<div class=\"header-image\"></div>\\n<div class=\"clear\">&nbsp;</div>\\n</div>\\n<div class=\"navtrail\">\\n<a name=\"navtrail\"></a><a href=\"#content\"><img src=\"/images/spacer.gif\" alt=\"Skip\" width=\"1\" height=\"1\" border=\"0\"></a>&nbsp;You are here - <a href=\"/\">Welcome to LSE</a> &gt; <a href=\"../../Default.htm\">Calendar</a> &gt; <a href=\"../../undergraduate.htm\">Undergraduate</a> &gt; <a href=\"../../courseGuides/undergraduate.htm\">Course guides</a> &gt; ST115 Managing and Visualising Data</div>\\n<div class=\"content\">\\n<div class=\"left\"></div>\\n<div class=\"right-container\">\\n<div class=\"right-left\">\\n<h2>\\n<span id=\"courseCode\">ST115</span>&nbsp;&nbsp;&nbsp;&nbsp;&nbsp; <span>Half Unit</span><br><span id=\"title\">Managing and Visualising Data</span>\\n</h2>\\n<p id=\"session\"><b>This information is for the 2022/23 session.</b></p>\\n<p id=\"teacherResponsible-Label\"><b><span>Teacher responsible</span></b> </p>\\n<div id=\"teacherResponsible-Content\">\\n<p align=\"justify\"></p>\\n<p>Dr Mona Azadkia </p> </div>\\n<p id=\"availability-Label\"><b><span>Availability</span></b> </p>\\n<div id=\"availability-Content\">\\n<p align=\"justify\">This course is compulsory on the BSc in Data Science. This course is available on the BSc in Actuarial Science. This course is available with permission as an outside option to students on other programmes where regulations permit and to General Course students.<br></p>\\n<p>This course has a limited number of places (it is capped). Students who have this course as a compulsory course are guaranteed a place. Places for all other students are allocated on a first come first served basis.</p> </div>\\n<p id=\"preRequisites-Label\"><b><span>Pre-requisites</span></b> </p>\\n<div id=\"preRequisites-Content\">\\n<p align=\"justify\"></p>\\n<p>Students who have no previous experience in Python are required to take an online pre-sessional Python course from the Digital Skills Lab (https://moodle.lse.ac.uk/course/view.php?id=7696).</p>\\n<p>Although not a formal requirement, it is preferable that students have some familiarity with the basic concepts of probability and statistics, to the level of ST102/ST107 first 2 chapters (Data visualisation and descriptive statistics and probability theory).</p> </div>\\n<p id=\"courseContent-Label\"><b><span>Course content</span></b> </p>\\n<div id=\"courseContent-Content\">\\n<p align=\"justify\"></p>\\n<p>The course focuses on the fundamental principles of effective manipulation and visualisation of data. This will cover the key steps of a data analytics pipeline, starting with formulation of a data science problem, going through manipulation and visualisation of data, and, finally, creating actionable insights. The topics covered include methods for data cleaning and transformation, manipulation of data using tabular data structures, relational database models, structured query languages (e.g. SQL), processing of various human-readable data formats (e.g. JSON and XML), data visualisation methods for explanatory data analysis, using various statistical plots such as histograms and boxplots, data visualisation plots for time series data, multivariate data, graph data visualisation methods.</p>\\n<p>The course will cover basic concepts and principles and will enable students to gain hands-on experience in using Python programming for manipulation and visualisation of data. This will include use of standard modules and libraries such as NumPy, Pandas, Matplotlib and Seaborn, and programming environments such as Jupyter notebook.</p>\\n<p>The course will use examples drawn from a wide range of applications such as those that arise in online services, social media, social networks, finance, and machine learning. The principles and methods learned will enable students to effectively derive insights from data and communicate results to end users.</p> </div>\\n<p id=\"teaching-Label\"><b><span>Teaching</span></b> </p>\\n<div id=\"teaching-Content\">\\n<p align=\"justify\">20 hours of lectures and 15 hours of seminars in the LT.<br></p>\\n<p>This course will be delivered through a combination of classes, lectures and Q&amp;A sessions totalling a minimum of 35 hours in Lent Term. This course includes a reading week in Week 6 of Lent Term.</p>\\n<p>Students are required to install Python on their own laptops and use their own laptops in the lectures and classes.</p> </div>\\n<p id=\"formativeCoursework-Label\"><b><span>Formative coursework</span></b> </p>\\n<div id=\"formativeCoursework-Content\">\\n<p align=\"justify\">Students will be expected to produce 8 exercises in the LT.<br></p>\\n<p>Weekly exercises will be given, using Python and various libraries to apply various data manipulation and visualisation methods to data.&nbsp;&nbsp;</p> </div>\\n<p id=\"indicativeReading-Label\"><b><span>Indicative reading</span></b> </p>\\n<div id=\"indicativeReading-Content\">\\n<p align=\"justify\"><div>\\n<br><strong>Essential Reading:</strong>\\n</div><br><ol>\\n<li>W. Mckinney, Python for Data Analysis, 2nd Edition, O&rsquo;Reilly 2017</li>\\n<li>A. C. Muller and S. Guido, Introduction to Machine Learning with Python, O&rsquo;Reilly, 2016</li>\\n<li>Easley, David, and Jon Kleinberg. Networks, crowds, and markets: Reasoning about a highly connected world. Cambridge university press, 2010</li>\\n<li>R. Ramakrishnan and J. Gehrke, Database Management Systems, 3rd Edition, McGraw Hill, 2002</li>\\n</ol></p>\\n<p><strong>Additional Reading:&nbsp;</strong></p>\\n<ol>\\n<li>NumPy, https://numpy.org/</li>\\n<li>Python Data Analysis Library, https://pandas.pydata.org/</li>\\n<li>Matplotlib, https://matplotlib.org</li>\\n<li>Seaborn: statistical data visualization https://seaborn.pydata.org</li>\\n<li>NetworkX: Software for complex networks,&nbsp;https://networkx.org</li>\\n</ol> </div>\\n<p id=\"assessment-Label\"><b><span>Assessment</span></b> </p>\\n<div id=\"assessment-Content\">\\n<p align=\"justify\">Coursework (30%) and project (70%) in the LT.<br></p>\\n<p>Students are required to hand in solutions to 2 sets of exercises using Python each accounting for 15% of the final assessment, and hand in a report for a project (accounting for 70% of the final assessment). The project consists of applying data manipulation and visualisation methods to some dataset(s).</p> </div> </div>\\n<div class=\"right-right\">\\n<p id=\"keyFacts-Label\"><b> <span>Key facts</span> </b> </p>\\n<div id=\"keyFacts-Content\">\\n<p align=\"justify\">Department: Statistics</p>\\n<p align=\"justify\">Total students 2021/22: 56</p>\\n<p align=\"justify\">Average class size 2021/22: 29</p>\\n<p align=\"justify\">Capped 2021/22: Yes (60)</p>\\n<p align=\"justify\">Value: Half Unit</p> </div>\\n<a href=\"http://www.lse.ac.uk/resources/calendar/courseGuides/GuidelinesForCourseGuides.htm\" id=\"ecgInstructions\" target=\"_blank\">Guidelines for interpreting course guide information</a><p id=\"course-selection-videos-Label\"><b>Course selection videos</b></p>\\n<div id=\"course-selection-videos-content\">\\n<p>Some departments have produced short videos to introduce their courses. Please refer to the <a href=\"https://www.lse.ac.uk/resources/calendar/courseGuides/CourseIntroductionVideos.htm\">course selection videos index page</a> for further information.</p> </div>\\n<p id=\"pdam-Label\"><b>Personal development skills</b></p>\\n<div id=\"pdam-Content\">\\n<ul>\\n<li>Self-management</li>\\n<li>Team working</li>\\n<li>Problem solving</li>\\n<li>Application of information skills</li>\\n<li>Communication</li>\\n<li>Application of numeracy skills</li>\\n<li>Specialist skills</li> </ul> </div>\\n</div>\\n</div>\\n<div class=\"clear\">&nbsp;</div>\\n</div>\\n<div class=\"footer\">\\n<div class=\"footer-links\">Copyright &copy; LSE 2018&nbsp;&nbsp;&nbsp;\\n          <a href=\"https://www.lse.ac.uk/lse-information/secure/report-a-page\">Report a page</a> | <a href=\"http://www.lse.ac.uk/aboutLSE/FOI/Home.aspx\">Freedom of information</a> | <a href=\"http://www.lse.ac.uk/aboutThisWebsite/Home.aspx\">About this site</a> | <a href=\"http://www.lse.ac.uk/newsAndMedia/lseinSocialMedia.aspx\">Social media</a>&nbsp;<img src=\"http://www.lse.ac.uk/v4global/images/SocialMediaFooter.jpg\" alt=\"LSE Social media listings page\" width=\"80\" height=\"15\">\\n</div>\\n<div class=\"clear\">&nbsp;</div>\\n</div>\\n</div></body></html>\\n'"
      ]
     },
     "execution_count": 5,
     "metadata": {},
     "output_type": "execute_result"
    }
   ],
   "source": [
    "r.text # see the content of the response (here is HTML code)"
   ]
  },
  {
   "cell_type": "markdown",
   "metadata": {
    "slideshow": {
     "slide_type": "slide"
    }
   },
   "source": [
    "## Sending request in Python (continue)\n",
    "\n",
    "Example of providing a wrong url:"
   ]
  },
  {
   "cell_type": "code",
   "execution_count": 6,
   "metadata": {},
   "outputs": [
    {
     "data": {
      "text/plain": [
       "(404, 'Not Found')"
      ]
     },
     "execution_count": 6,
     "metadata": {},
     "output_type": "execute_result"
    }
   ],
   "source": [
    "url = 'https://www.lse.ac.uk/resources/calendar2021-2022/courseGuides/ST/2021_ST120.htm'\n",
    "r = requests.get(url)\n",
    "r.status_code, r.reason"
   ]
  },
  {
   "cell_type": "code",
   "execution_count": 7,
   "metadata": {},
   "outputs": [
    {
     "data": {
      "text/plain": [
       "'<html>\\r\\n<head><title>404 Not Found</title></head>\\r\\n<body bgcolor=\"white\">\\r\\n<center><h1>404 Not Found</h1></center>\\r\\n<hr><center>nginx/1.10.3 (Ubuntu)</center>\\r\\n</body>\\r\\n</html>\\r\\n'"
      ]
     },
     "execution_count": 7,
     "metadata": {},
     "output_type": "execute_result"
    }
   ],
   "source": [
    "r.text"
   ]
  },
  {
   "cell_type": "markdown",
   "metadata": {
    "slideshow": {
     "slide_type": "slide"
    }
   },
   "source": [
    "## Collecting information on/from the Internet\n",
    "\n",
    "* API (Application Programming Interface): \n",
    "    * Set of defined rules that explains how computers or applications communicate with one another\n",
    "* RSS (Rich Site Summary or Really Simple Syndication): \n",
    "    * Provide subscribers with summary of the new content from frequently updated websites in standard format\n",
    "        * Examples: news-related sites, blogs\n",
    "* Web scraping: \n",
    "    * Use software, scripts or by-hand extracting data from a web page"
   ]
  },
  {
   "cell_type": "markdown",
   "metadata": {
    "slideshow": {
     "slide_type": "slide"
    }
   },
   "source": [
    "## API demo\n",
    "\n",
    "Get the search results related to \"London School of Economics\" on Wikipedia via an API call with the url http://en.wikipedia.org/w/api.php?action=query&list=search&srsearch=London%20School%20of%20Economics&srlimit=1&format=json:"
   ]
  },
  {
   "cell_type": "code",
   "execution_count": 8,
   "metadata": {
    "scrolled": true
   },
   "outputs": [
    {
     "data": {
      "text/plain": [
       "'{\"batchcomplete\":\"\",\"continue\":{\"sroffset\":1,\"continue\":\"-||\"},\"query\":{\"searchinfo\":{\"totalhits\":23229},\"search\":[{\"ns\":0,\"title\":\"London School of Economics\",\"pageid\":67704,\"size\":184398,\"wordcount\":15608,\"snippet\":\"The <span class=\\\\\"searchmatch\\\\\">London</span> <span class=\\\\\"searchmatch\\\\\">School</span> <span class=\\\\\"searchmatch\\\\\">of</span> <span class=\\\\\"searchmatch\\\\\">Economics</span> and Political Science (LSE) is a public research university in <span class=\\\\\"searchmatch\\\\\">London</span>, England, and a member institution <span class=\\\\\"searchmatch\\\\\">of</span> the University\",\"timestamp\":\"2024-02-04T16:38:30Z\"}]}}'"
      ]
     },
     "execution_count": 8,
     "metadata": {},
     "output_type": "execute_result"
    }
   ],
   "source": [
    "url = 'http://en.wikipedia.org/w/api.php?action=query&list=search&' \\\n",
    "    'srsearch=London%20School%20of%20Economics&srlimit=1&format=json'\n",
    "r = requests.get(url)\n",
    "r.text"
   ]
  },
  {
   "cell_type": "markdown",
   "metadata": {
    "slideshow": {
     "slide_type": "slide"
    }
   },
   "source": [
    "## API demo (continue)"
   ]
  },
  {
   "cell_type": "code",
   "execution_count": 9,
   "metadata": {},
   "outputs": [
    {
     "data": {
      "text/plain": [
       "{'batchcomplete': '',\n",
       " 'continue': {'sroffset': 1, 'continue': '-||'},\n",
       " 'query': {'searchinfo': {'totalhits': 23229},\n",
       "  'search': [{'ns': 0,\n",
       "    'title': 'London School of Economics',\n",
       "    'pageid': 67704,\n",
       "    'size': 184398,\n",
       "    'wordcount': 15608,\n",
       "    'snippet': 'The <span class=\"searchmatch\">London</span> <span class=\"searchmatch\">School</span> <span class=\"searchmatch\">of</span> <span class=\"searchmatch\">Economics</span> and Political Science (LSE) is a public research university in <span class=\"searchmatch\">London</span>, England, and a member institution <span class=\"searchmatch\">of</span> the University',\n",
       "    'timestamp': '2024-02-04T16:38:30Z'}]}}"
      ]
     },
     "execution_count": 9,
     "metadata": {},
     "output_type": "execute_result"
    }
   ],
   "source": [
    "import json\n",
    "\n",
    "parsed = json.loads(r.text)\n",
    "parsed"
   ]
  },
  {
   "cell_type": "code",
   "execution_count": 10,
   "metadata": {},
   "outputs": [
    {
     "data": {
      "text/plain": [
       "'The <span class=\"searchmatch\">London</span> <span class=\"searchmatch\">School</span> <span class=\"searchmatch\">of</span> <span class=\"searchmatch\">Economics</span> and Political Science (LSE) is a public research university in <span class=\"searchmatch\">London</span>, England, and a member institution <span class=\"searchmatch\">of</span> the University'"
      ]
     },
     "execution_count": 10,
     "metadata": {},
     "output_type": "execute_result"
    }
   ],
   "source": [
    "parsed['query']['search'][0]['snippet']"
   ]
  },
  {
   "cell_type": "code",
   "execution_count": 13,
   "metadata": {},
   "outputs": [
    {
     "data": {
      "text/plain": [
       "23229"
      ]
     },
     "execution_count": 13,
     "metadata": {},
     "output_type": "execute_result"
    }
   ],
   "source": [
    "parsed['query']['searchinfo']['totalhits']"
   ]
  },
  {
   "cell_type": "markdown",
   "metadata": {},
   "source": [
    "See [here](https://www.mediawiki.org/wiki/API:Tutorial) to learn more about Wikipedia API for searching."
   ]
  },
  {
   "cell_type": "markdown",
   "metadata": {
    "slideshow": {
     "slide_type": "slide"
    }
   },
   "source": [
    "## RSS demo\n",
    "\n",
    "Get the latest news from [BBC via RSS](http://feeds.bbci.co.uk/news/rss.xml):"
   ]
  },
  {
   "cell_type": "code",
   "execution_count": 19,
   "metadata": {
    "scrolled": false
   },
   "outputs": [
    {
     "ename": "ModuleNotFoundError",
     "evalue": "No module named 'feedparser'",
     "output_type": "error",
     "traceback": [
      "\u001b[1;31m---------------------------------------------------------------------------\u001b[0m",
      "\u001b[1;31mModuleNotFoundError\u001b[0m                       Traceback (most recent call last)",
      "Input \u001b[1;32mIn [19]\u001b[0m, in \u001b[0;36m<cell line: 1>\u001b[1;34m()\u001b[0m\n\u001b[1;32m----> 1\u001b[0m \u001b[38;5;28;01mimport\u001b[39;00m \u001b[38;5;21;01mfeedparser\u001b[39;00m\n\u001b[0;32m      2\u001b[0m url \u001b[38;5;241m=\u001b[39m \u001b[38;5;124m'\u001b[39m\u001b[38;5;124mhttp://feeds.bbci.co.uk/news/rss.xml\u001b[39m\u001b[38;5;124m'\u001b[39m\n\u001b[0;32m      3\u001b[0m feed \u001b[38;5;241m=\u001b[39m feedparser\u001b[38;5;241m.\u001b[39mparse(url)\n",
      "\u001b[1;31mModuleNotFoundError\u001b[0m: No module named 'feedparser'"
     ]
    }
   ],
   "source": [
    "import feedparser\n",
    "url = 'http://feeds.bbci.co.uk/news/rss.xml'\n",
    "feed = feedparser.parse(url)\n",
    "feed.entries[0]"
   ]
  },
  {
   "cell_type": "markdown",
   "metadata": {
    "slideshow": {
     "slide_type": "slide"
    }
   },
   "source": [
    "## Web scraping demo\n",
    "\n",
    "Get course title and essential reading list from https://www.lse.ac.uk/resources/calendar2021-2022/courseGuides/ST/2021_ST115.htm:"
   ]
  },
  {
   "cell_type": "code",
   "execution_count": 15,
   "metadata": {},
   "outputs": [
    {
     "data": {
      "text/plain": [
       "<html>\n",
       "<head>\n",
       "<meta content=\"text/html; charset=utf-8\" http-equiv=\"Content-Type\"/>\n",
       "<title>ST115 Managing and Visualising Data</title>\n",
       "<meta content=\"Calendar web editor\" name=\"dc.creator\"/>\n",
       "<meta content=\"calendar@lse.ac.uk\" name=\"dc.creator.email\"/>\n",
       "<meta content=\"Academic Registrar's Division\" name=\"lse.pagesource\"/>\n",
       "<link href=\"/css/capis.css\" rel=\"stylesheet\" type=\"text/css\"/>\n",
       "<link href=\"../../Default.htm\" rel=\"start\" title=\"Calendar\"/>\n",
       "<link href=\"../../undergraduate.htm\" rel=\"prev\" title=\"Undergraduate\"/>\n",
       "<link href=\"../../courseGuides/undergraduate.htm\" rel=\"prev\" title=\"Course guides\"/>\n",
       "<script src=\"https://ajax.googleapis.com/ajax/libs/jquery/1.4.2/jquery.min.js\" type=\"text/javascript\"></script><script src=\"https://www.gstatic.com/charts/loader.js\" type=\"text/javascript\"></script><script type=\"text/javascript\">\n",
       "\n",
       "        function buildChart() { // made sure function is loaded before so that google chart's callback needs it\n",
       "\n",
       "            var examsContentId ;\n",
       "            var examsData ;\n",
       "            var examsChart ;\n",
       "\n",
       "            function loadChartData(id, nr) {\n",
       "                var data = new Array();\n",
       "                var heading = new Array();\n",
       "                $('#' + id + ' > table th').each(function() {\n",
       "                    heading.push($(this).html().replace('<br>', ' '));\n",
       "                });\n",
       "                data.push(heading);\n",
       "                var line = null;\n",
       "                $('#' + id + ' > table > tbody > tr:visible > td').each(function(index) {\n",
       "                    if (index % nr == 0) {\n",
       "                        line = new Array();\n",
       "                        line.push($(this).text());\n",
       "                    }\n",
       "                    else {\n",
       "                        if ($('table', $(this)).length == 0) {    // ignore nested table.\n",
       "                            line.push(parseFloat($(this).text()));    // convert to number.\n",
       "                            data.push(line);\n",
       "                        }\n",
       "                    }\n",
       "                });\n",
       "\n",
       "                return data;\n",
       "            };\n",
       "\n",
       "            // chart for exam classification.\n",
       "            examsContentId = 'exams-Content';\n",
       "            if ($('#' + examsContentId).length > 0) {\n",
       "                examsData = google.visualization.arrayToDataTable(loadChartData(examsContentId, 2));\n",
       "                examsChart = new google.visualization.BarChart(document.getElementById(examsContentId + '-Graph'));\n",
       "                examsChart.draw(examsData, {\n",
       "                    width: 400,\n",
       "                    height: 250,\n",
       "                    colors: ['#285886'],\n",
       "                    tooltip: {isHtml: false, textStyle: {fontSize: 13, bold: false, italic: false}},\n",
       "                    legend: {position: 'none'},\n",
       "                    chartArea: {width: '70%', height: '75%'},\n",
       "                    vAxis: {textStyle: {fontSize: 11, bold: false, italic: false}},\n",
       "                    hAxis: {\n",
       "                        title: '% of students',\n",
       "                        textPosition: 'out',\n",
       "                        minValue: 0,\n",
       "                        maxValue: 100,\n",
       "                        titleTextStyle: {fontSize: 12, bold: false, italic: false}\n",
       "                    }\n",
       "                });\n",
       "\n",
       "                $('#' + examsContentId + ' table').hide();    // hide exams data table.\n",
       "            }\n",
       "\n",
       "        } // end of buildChart()\n",
       "\n",
       "        google.charts.load('current', {'packages':['corechart']\n",
       "            , 'callback': buildChart   // alt to .setOnLoadCallback() ensures google.charts guaranteed to have callback code\n",
       "        });\n",
       "\n",
       "\n",
       "    </script><script type=\"text/javascript\">var _gaq = _gaq || [];_gaq.push(['_setAccount', 'UA-1994817-8']); _gaq.push(['_setDomainName', 'lse.ac.uk']); _gaq.push(['_addIgnoredRef', 'lse.ac.uk']); _gaq.push(['_setAllowAnchor', true]); _gaq.push(['_trackPageview']);(function() { var ga = document.createElement('script'); ga.type = 'text/javascript'; ga.async = true; ga.src = ('https:' == document.location.protocol ? 'https://ssl' : 'http://www') + '.google-analytics.com/ga.js'; var s = document.getElementsByTagName('script')[0]; s.parentNode.insertBefore(ga, s); })();</script>\n",
       "</head><body><div class=\"container\">\n",
       "<div class=\"header\">\n",
       "<div class=\"mainlinks\">\n",
       "<a href=\"#navtrail\"><img alt=\"Skip\" border=\"0\" height=\"1\" src=\"/images/spacer.gif\" width=\"1\"/></a><a href=\"/\">Home</a> |\n",
       "\t<a href=\"/resources/help/\">Help</a> |\n",
       "\t<a href=\"/resources/search/\">Search</a> |\n",
       "    <a href=\"http://www.lse.ac.uk/lseforyou/\">LSE for You</a> \n",
       "\t</div>\n",
       "<div class=\"header-image\"></div>\n",
       "<div class=\"clear\"> </div>\n",
       "</div>\n",
       "<div class=\"navtrail\">\n",
       "<a name=\"navtrail\"></a><a href=\"#content\"><img alt=\"Skip\" border=\"0\" height=\"1\" src=\"/images/spacer.gif\" width=\"1\"/></a> You are here - <a href=\"/\">Welcome to LSE</a> &gt; <a href=\"../../Default.htm\">Calendar</a> &gt; <a href=\"../../undergraduate.htm\">Undergraduate</a> &gt; <a href=\"../../courseGuides/undergraduate.htm\">Course guides</a> &gt; ST115 Managing and Visualising Data</div>\n",
       "<div class=\"content\">\n",
       "<div class=\"left\"></div>\n",
       "<div class=\"right-container\">\n",
       "<div class=\"right-left\">\n",
       "<h2>\n",
       "<span id=\"courseCode\">ST115</span>      <span>Half Unit</span><br/><span id=\"title\">Managing and Visualising Data</span>\n",
       "</h2>\n",
       "<p id=\"session\"><b>This information is for the 2022/23 session.</b></p>\n",
       "<p id=\"teacherResponsible-Label\"><b><span>Teacher responsible</span></b> </p>\n",
       "<div id=\"teacherResponsible-Content\">\n",
       "<p align=\"justify\"></p>\n",
       "<p>Dr Mona Azadkia </p> </div>\n",
       "<p id=\"availability-Label\"><b><span>Availability</span></b> </p>\n",
       "<div id=\"availability-Content\">\n",
       "<p align=\"justify\">This course is compulsory on the BSc in Data Science. This course is available on the BSc in Actuarial Science. This course is available with permission as an outside option to students on other programmes where regulations permit and to General Course students.<br/></p>\n",
       "<p>This course has a limited number of places (it is capped). Students who have this course as a compulsory course are guaranteed a place. Places for all other students are allocated on a first come first served basis.</p> </div>\n",
       "<p id=\"preRequisites-Label\"><b><span>Pre-requisites</span></b> </p>\n",
       "<div id=\"preRequisites-Content\">\n",
       "<p align=\"justify\"></p>\n",
       "<p>Students who have no previous experience in Python are required to take an online pre-sessional Python course from the Digital Skills Lab (https://moodle.lse.ac.uk/course/view.php?id=7696).</p>\n",
       "<p>Although not a formal requirement, it is preferable that students have some familiarity with the basic concepts of probability and statistics, to the level of ST102/ST107 first 2 chapters (Data visualisation and descriptive statistics and probability theory).</p> </div>\n",
       "<p id=\"courseContent-Label\"><b><span>Course content</span></b> </p>\n",
       "<div id=\"courseContent-Content\">\n",
       "<p align=\"justify\"></p>\n",
       "<p>The course focuses on the fundamental principles of effective manipulation and visualisation of data. This will cover the key steps of a data analytics pipeline, starting with formulation of a data science problem, going through manipulation and visualisation of data, and, finally, creating actionable insights. The topics covered include methods for data cleaning and transformation, manipulation of data using tabular data structures, relational database models, structured query languages (e.g. SQL), processing of various human-readable data formats (e.g. JSON and XML), data visualisation methods for explanatory data analysis, using various statistical plots such as histograms and boxplots, data visualisation plots for time series data, multivariate data, graph data visualisation methods.</p>\n",
       "<p>The course will cover basic concepts and principles and will enable students to gain hands-on experience in using Python programming for manipulation and visualisation of data. This will include use of standard modules and libraries such as NumPy, Pandas, Matplotlib and Seaborn, and programming environments such as Jupyter notebook.</p>\n",
       "<p>The course will use examples drawn from a wide range of applications such as those that arise in online services, social media, social networks, finance, and machine learning. The principles and methods learned will enable students to effectively derive insights from data and communicate results to end users.</p> </div>\n",
       "<p id=\"teaching-Label\"><b><span>Teaching</span></b> </p>\n",
       "<div id=\"teaching-Content\">\n",
       "<p align=\"justify\">20 hours of lectures and 15 hours of seminars in the LT.<br/></p>\n",
       "<p>This course will be delivered through a combination of classes, lectures and Q&amp;A sessions totalling a minimum of 35 hours in Lent Term. This course includes a reading week in Week 6 of Lent Term.</p>\n",
       "<p>Students are required to install Python on their own laptops and use their own laptops in the lectures and classes.</p> </div>\n",
       "<p id=\"formativeCoursework-Label\"><b><span>Formative coursework</span></b> </p>\n",
       "<div id=\"formativeCoursework-Content\">\n",
       "<p align=\"justify\">Students will be expected to produce 8 exercises in the LT.<br/></p>\n",
       "<p>Weekly exercises will be given, using Python and various libraries to apply various data manipulation and visualisation methods to data.  </p> </div>\n",
       "<p id=\"indicativeReading-Label\"><b><span>Indicative reading</span></b> </p>\n",
       "<div id=\"indicativeReading-Content\">\n",
       "<p align=\"justify\"></p><div>\n",
       "<br/><strong>Essential Reading:</strong>\n",
       "</div><br/><ol>\n",
       "<li>W. Mckinney, Python for Data Analysis, 2nd Edition, O’Reilly 2017</li>\n",
       "<li>A. C. Muller and S. Guido, Introduction to Machine Learning with Python, O’Reilly, 2016</li>\n",
       "<li>Easley, David, and Jon Kleinberg. Networks, crowds, and markets: Reasoning about a highly connected world. Cambridge university press, 2010</li>\n",
       "<li>R. Ramakrishnan and J. Gehrke, Database Management Systems, 3rd Edition, McGraw Hill, 2002</li>\n",
       "</ol>\n",
       "<p><strong>Additional Reading: </strong></p>\n",
       "<ol>\n",
       "<li>NumPy, https://numpy.org/</li>\n",
       "<li>Python Data Analysis Library, https://pandas.pydata.org/</li>\n",
       "<li>Matplotlib, https://matplotlib.org</li>\n",
       "<li>Seaborn: statistical data visualization https://seaborn.pydata.org</li>\n",
       "<li>NetworkX: Software for complex networks, https://networkx.org</li>\n",
       "</ol> </div>\n",
       "<p id=\"assessment-Label\"><b><span>Assessment</span></b> </p>\n",
       "<div id=\"assessment-Content\">\n",
       "<p align=\"justify\">Coursework (30%) and project (70%) in the LT.<br/></p>\n",
       "<p>Students are required to hand in solutions to 2 sets of exercises using Python each accounting for 15% of the final assessment, and hand in a report for a project (accounting for 70% of the final assessment). The project consists of applying data manipulation and visualisation methods to some dataset(s).</p> </div> </div>\n",
       "<div class=\"right-right\">\n",
       "<p id=\"keyFacts-Label\"><b> <span>Key facts</span> </b> </p>\n",
       "<div id=\"keyFacts-Content\">\n",
       "<p align=\"justify\">Department: Statistics</p>\n",
       "<p align=\"justify\">Total students 2021/22: 56</p>\n",
       "<p align=\"justify\">Average class size 2021/22: 29</p>\n",
       "<p align=\"justify\">Capped 2021/22: Yes (60)</p>\n",
       "<p align=\"justify\">Value: Half Unit</p> </div>\n",
       "<a href=\"http://www.lse.ac.uk/resources/calendar/courseGuides/GuidelinesForCourseGuides.htm\" id=\"ecgInstructions\" target=\"_blank\">Guidelines for interpreting course guide information</a><p id=\"course-selection-videos-Label\"><b>Course selection videos</b></p>\n",
       "<div id=\"course-selection-videos-content\">\n",
       "<p>Some departments have produced short videos to introduce their courses. Please refer to the <a href=\"https://www.lse.ac.uk/resources/calendar/courseGuides/CourseIntroductionVideos.htm\">course selection videos index page</a> for further information.</p> </div>\n",
       "<p id=\"pdam-Label\"><b>Personal development skills</b></p>\n",
       "<div id=\"pdam-Content\">\n",
       "<ul>\n",
       "<li>Self-management</li>\n",
       "<li>Team working</li>\n",
       "<li>Problem solving</li>\n",
       "<li>Application of information skills</li>\n",
       "<li>Communication</li>\n",
       "<li>Application of numeracy skills</li>\n",
       "<li>Specialist skills</li> </ul> </div>\n",
       "</div>\n",
       "</div>\n",
       "<div class=\"clear\"> </div>\n",
       "</div>\n",
       "<div class=\"footer\">\n",
       "<div class=\"footer-links\">Copyright © LSE 2018   \n",
       "          <a href=\"https://www.lse.ac.uk/lse-information/secure/report-a-page\">Report a page</a> | <a href=\"http://www.lse.ac.uk/aboutLSE/FOI/Home.aspx\">Freedom of information</a> | <a href=\"http://www.lse.ac.uk/aboutThisWebsite/Home.aspx\">About this site</a> | <a href=\"http://www.lse.ac.uk/newsAndMedia/lseinSocialMedia.aspx\">Social media</a> <img alt=\"LSE Social media listings page\" height=\"15\" src=\"http://www.lse.ac.uk/v4global/images/SocialMediaFooter.jpg\" width=\"80\"/>\n",
       "</div>\n",
       "<div class=\"clear\"> </div>\n",
       "</div>\n",
       "</div></body></html>"
      ]
     },
     "execution_count": 15,
     "metadata": {},
     "output_type": "execute_result"
    }
   ],
   "source": [
    "from bs4 import BeautifulSoup \n",
    "\n",
    "url = 'https://www.lse.ac.uk/resources/calendar2022-2023/courseGuides/ST/2022_ST115.htm'\n",
    "r = requests.get(url)\n",
    "soup = BeautifulSoup(r.content,'lxml')\n",
    "soup"
   ]
  },
  {
   "cell_type": "code",
   "execution_count": 16,
   "metadata": {},
   "outputs": [
    {
     "name": "stdout",
     "output_type": "stream",
     "text": [
      "Managing and Visualising Data\n"
     ]
    }
   ],
   "source": [
    "# get course title\n",
    "print(soup.find('span', {'id': 'title'}).text.strip())"
   ]
  },
  {
   "cell_type": "code",
   "execution_count": 17,
   "metadata": {},
   "outputs": [
    {
     "name": "stdout",
     "output_type": "stream",
     "text": [
      "\n",
      "W. Mckinney, Python for Data Analysis, 2nd Edition, O’Reilly 2017\n",
      "A. C. Muller and S. Guido, Introduction to Machine Learning with Python, O’Reilly, 2016\n",
      "Easley, David, and Jon Kleinberg. Networks, crowds, and markets: Reasoning about a highly connected world. Cambridge university press, 2010\n",
      "R. Ramakrishnan and J. Gehrke, Database Management Systems, 3rd Edition, McGraw Hill, 2002\n",
      "\n"
     ]
    }
   ],
   "source": [
    "# get reading list\n",
    "print(soup.find(text='Essential Reading:').find_next('ol').text)"
   ]
  },
  {
   "cell_type": "markdown",
   "metadata": {
    "slideshow": {
     "slide_type": "slide"
    }
   },
   "source": [
    "# HTML: A short tutorial"
   ]
  },
  {
   "cell_type": "markdown",
   "metadata": {
    "slideshow": {
     "slide_type": "slide"
    }
   },
   "source": [
    "## HTML\n",
    "\n",
    "HTML (HyperText Markup Language) is a markup language that web pages are written in.\n",
    "\n",
    "* HTML contains:\n",
    "    * Content\n",
    "    * _Tags_ and _attributes_ to describe how the browser should display the pages\n"
   ]
  },
  {
   "cell_type": "markdown",
   "metadata": {
    "slideshow": {
     "slide_type": "slide"
    }
   },
   "source": [
    "## HTML example"
   ]
  },
  {
   "cell_type": "code",
   "execution_count": 20,
   "metadata": {
    "scrolled": true
   },
   "outputs": [
    {
     "data": {
      "text/html": [
       "\n",
       "<!DOCTYPE html>\n",
       "<html>\n",
       "    <head>\n",
       "        <title>This is a title</title>\n",
       "    </head>\n",
       "    \n",
       "    <body>\n",
       "        <h2 style=\"color:red;\">This is a header</h2>\n",
       "        <p>This is a paragraph</p>\n",
       "        <img src=\"figs/lse_logo.gif\"/>\n",
       "    </body>\n",
       "</html>\n"
      ],
      "text/plain": [
       "<IPython.core.display.HTML object>"
      ]
     },
     "execution_count": 20,
     "metadata": {},
     "output_type": "execute_result"
    }
   ],
   "source": [
    "from IPython.display import HTML\n",
    "\n",
    "# <start>content</start>\n",
    "\n",
    "html_code = \"\"\"\n",
    "<!DOCTYPE html>\n",
    "<html>\n",
    "    <head>\n",
    "        <title>This is a title</title>\n",
    "    </head>\n",
    "    \n",
    "    <body>\n",
    "        <h2 style=\"color:red;\">This is a header</h2>\n",
    "        <p>This is a paragraph</p>\n",
    "        <img src=\"figs/lse_logo.gif\"/>\n",
    "    </body>\n",
    "</html>\n",
    "\"\"\"\n",
    "\n",
    "HTML(html_code)"
   ]
  },
  {
   "cell_type": "markdown",
   "metadata": {
    "slideshow": {
     "slide_type": "slide"
    }
   },
   "source": [
    "## HTML example (continue)\n",
    "\n",
    "* `<!DOCTYPE html>`: a declaration that the page follows the HTML standard\n",
    "* Pairs of tags like `<html>` and `</html>`\n",
    "    * The first is a start or open tag, and the second is a close tag\n",
    "* Some start tag like `h2` has some attributes like `style=\"color:red;\"` which specifies the colour of the text"
   ]
  },
  {
   "cell_type": "markdown",
   "metadata": {
    "slideshow": {
     "slide_type": "slide"
    }
   },
   "source": [
    "## HTML elements and tags\n",
    "\n",
    "HTML consists of HTML elements, _often_  an HTML element starts with a start tag and ends with an end tag.\n",
    "\n",
    "* Tags are written in angle brackets, _often_ in pairs\n",
    "* Tags are predefined. Tags used in the previous example:\n",
    "    * `<html>`: Enclosed code is interpreted as HTML\n",
    "    * `<head>` and `<body>`: Browser tab and browser content areas\n",
    "    * `<title>`: Define the text that appears within the tab or window heading area\n",
    "    * `<h2>`: Heading styles\n",
    "    * `<p>`: A paragraph separated by lines\n",
    "    * `<img>`: Self enclosing image tag with attributes"
   ]
  },
  {
   "cell_type": "markdown",
   "metadata": {
    "slideshow": {
     "slide_type": "slide"
    }
   },
   "source": [
    "<h2>HTML: tree structure</h2>\n",
    "<center>\n",
    "    <img src=\"figs/html_tree.png\" width=\"700\"/>\n",
    "</center>\n",
    "\n",
    "<p>By the way, this page is written in html (double click on the jupyter notebook version to reveal it).</p>"
   ]
  },
  {
   "cell_type": "markdown",
   "metadata": {
    "slideshow": {
     "slide_type": "slide"
    }
   },
   "source": [
    "<h2>HTML tags related to tables</h2>\n",
    "\n",
    "<table>\n",
    "    <tr>\n",
    "        <th>HTML tag</th>\n",
    "        <th>use</th>\n",
    "    </tr>\n",
    "    <tr>\n",
    "        <td>&lt;table&gt;</td>\n",
    "        <td>Define a table</td>\n",
    "    </tr>\n",
    "    <tr>\n",
    "        <td>&lt;tr&gt;</td>\n",
    "        <td>Define a row of cells in a table</td>\n",
    "    </tr>\n",
    "    <tr>\n",
    "        <td>&lt;th&gt;</td>\n",
    "        <td>Define a cell in a table header row</td>\n",
    "    </tr>\n",
    "    <tr>\n",
    "        <td>&lt;td&gt;</td>\n",
    "        <td>Define a cell in a row</td>\n",
    "    </tr>\n",
    "</table>\n",
    "\n",
    "<p>&lt;thead&gt; and &lt;tbody&gt; can be used as well to group header and body content.</p>\n",
    "<p>(Double click on the jupyter notebook version to see the corresponding html code)</p>"
   ]
  },
  {
   "cell_type": "markdown",
   "metadata": {
    "slideshow": {
     "slide_type": "slide"
    }
   },
   "source": [
    "<h2> HTML tags related to list</h2>\n",
    "\n",
    "<ul>\n",
    "    <li>For unordered list\n",
    "        <ul>\n",
    "            <li>&lt;ul&gt;: Define an unordered list</li>\n",
    "            <li>&lt;li&gt;: Define a list item</li>\n",
    "        </ul>\n",
    "    </li>\n",
    "    <li>For order list:\n",
    "        <ol>\n",
    "            <li>&lt;ol&gt;: Define an ordered list</li>\n",
    "            <li>&lt;li&gt;: Define a list item (same as above)</li>\n",
    "        </ol>\n",
    "    </li>\n",
    "</ul>\n",
    "\n",
    "<p>(Double click on the jupyter notebook version to see the corresponding html code)</p>"
   ]
  },
  {
   "cell_type": "markdown",
   "metadata": {
    "slideshow": {
     "slide_type": "slide"
    }
   },
   "source": [
    "## Some other example tags \n",
    "\n",
    "* `<h1></h1> ... <h6></h6>`: Headings, with h1 largest and h6 smallest\n",
    "* `<div></div>`: Define a section \n",
    "* `<span></span>`: Define a (small) section \n",
    "* `<a></a>`: link tag (e.g. hyperlink in the text) with attributes"
   ]
  },
  {
   "cell_type": "markdown",
   "metadata": {
    "slideshow": {
     "slide_type": "slide"
    }
   },
   "source": [
    "<h2>Example use of tags</h2>"
   ]
  },
  {
   "cell_type": "code",
   "execution_count": 21,
   "metadata": {},
   "outputs": [
    {
     "data": {
      "text/html": [
       "\n",
       "<!DOCTYPE html>\n",
       "<html>\n",
       "    <h3>This is an h3 header</h3>\n",
       "    <div style=\"color:blue;\"> \n",
       "        <p>This is a simple section with a link and an image:</p>\n",
       "        <center>\n",
       "            <a href='https://www.lse.ac.uk/resources/calendar2021-2022/courseGuides/ST/2021_ST101.htm'>\n",
       "                example link\n",
       "            </a>\n",
       "            <br>\n",
       "            <img src='https://www.lse.ac.uk/Statistics/Assets/Images/General/Globe1.jpg' width=150/>\n",
       "        </center>\n",
       "        Note all text has the same style in the same div.\n",
       "    </div>\n",
       "</html>"
      ],
      "text/plain": [
       "<IPython.core.display.HTML object>"
      ]
     },
     "execution_count": 21,
     "metadata": {},
     "output_type": "execute_result"
    }
   ],
   "source": [
    "html_code = \"\"\"\n",
    "<!DOCTYPE html>\n",
    "<html>\n",
    "    <h3>This is an h3 header</h3>\n",
    "    <div style=\"color:blue;\"> \n",
    "        <p>This is a simple section with a link and an image:</p>\n",
    "        <center>\n",
    "            <a href='https://www.lse.ac.uk/resources/calendar2021-2022/courseGuides/ST/2021_ST101.htm'>\n",
    "                example link\n",
    "            </a>\n",
    "            <br>\n",
    "            <img src='https://www.lse.ac.uk/Statistics/Assets/Images/General/Globe1.jpg' width=150/>\n",
    "        </center>\n",
    "        Note all text has the same style in the same div.\n",
    "    </div>\n",
    "</html>\"\"\"\n",
    "HTML(html_code)"
   ]
  },
  {
   "cell_type": "markdown",
   "metadata": {
    "slideshow": {
     "slide_type": "slide"
    }
   },
   "source": [
    "# Web scraping"
   ]
  },
  {
   "cell_type": "markdown",
   "metadata": {
    "slideshow": {
     "slide_type": "slide"
    }
   },
   "source": [
    "## Web scraping\n",
    "\n",
    "Web scraping (or web harvesting, or web data extraction) is to extract data from websites.\n",
    "* While web scraping can be done manually, the term typically refers to automated processes implemented using a bot or web crawler\n",
    "* Advantages:\n",
    "    * Vast source of updated information that may not be available in other ways\n",
    "    * Automate data downloading tasks"
   ]
  },
  {
   "cell_type": "markdown",
   "metadata": {
    "slideshow": {
     "slide_type": "slide"
    }
   },
   "source": [
    "## Warning\n",
    "\n",
    "Web scraping is often not welcomed by website owners. Beware of computational and legal issues related with web scrapping\n",
    "* Read the terms of use of a website. Most sites prohibit you from using the data for commercial purposes\n",
    "    * Some prohibit you doing it for any purpose (especially those who provide _paid service_):\n",
    "<center><img src=\"figs/linkedin.png\" width=\"400\"></center>\n",
    "* Read the _robots exclusion protocol_\n",
    "    \n",
    "\n"
   ]
  },
  {
   "cell_type": "markdown",
   "metadata": {
    "slideshow": {
     "slide_type": "slide"
    }
   },
   "source": [
    "## Robots exclusion protocol\n",
    "\n",
    "Robots exclusion protocol specifies which areas of the website should not be processed or scanned by robots.\n",
    "\n",
    "* The robots exclusion protocol is located at the top-level directory of the web server. You can by adding `/robots.txt` to a website's URL\n",
    "    * Example: https://en.wikipedia.org/robots.txt\n",
    "* Purpose of robots exclusion protocol:\n",
    "    * Hide things from robots\n",
    "    * Improve search engine optimization by excluding duplicate content\n",
    "    \n",
    "Read the terms of use if you are not sure."
   ]
  },
  {
   "cell_type": "markdown",
   "metadata": {
    "slideshow": {
     "slide_type": "slide"
    }
   },
   "source": [
    "## Warning (continue)\n",
    "\n",
    "* Be polite and careful \n",
    "    * No spam or overloading the websites. You may be blocked if you send out excessive requests\n",
    "    * Scrape in off-peak times\n",
    "* Ethical issues? Privacy concerns?\n",
    "    * Scraping the Personal Identifiable Information of EU citizens may breach General Data Protection Regulation (GDPR)\n",
    "* If possible, use API instead"
   ]
  },
  {
   "cell_type": "markdown",
   "metadata": {
    "slideshow": {
     "slide_type": "slide"
    }
   },
   "source": [
    "## HTML and web scraping\n",
    "\n",
    "Languages used in creating web pages:\n",
    "* HTML: the basic structure of web pages, display mostly static contents\n",
    "* CSS: Improve the aesthetics of web pages by providing more control in terms of presentation, formatting, layout, etc\n",
    "* JavaScript: Control dynamic behavior and allow interactive web sites\n",
    "    * Many contents of dynamic web pages (e.g. Google Map) cannot be found anywhere in html\n",
    "\n",
    "In this course we only learn about scraping content written in HTML.\n"
   ]
  },
  {
   "cell_type": "markdown",
   "metadata": {
    "slideshow": {
     "slide_type": "slide"
    }
   },
   "source": [
    "## Web-scraping steps\n",
    "\n",
    "1. Get the contents from the web \n",
    "    * `requests`: simple HTTP library to send requests to servers\n",
    "2. Extract information: \n",
    "    * `BeautifulSoup`: parse HTML (and XML) and help to navigate, search and extract the data from the parsed data\n",
    "3. Reshape and save the information as data "
   ]
  },
  {
   "cell_type": "markdown",
   "metadata": {
    "slideshow": {
     "slide_type": "slide"
    }
   },
   "source": [
    "## Web scraping example 1: [example.com](http://example.com)\n",
    "\n",
    "Step 1: Get contents from the website using `requests`:"
   ]
  },
  {
   "cell_type": "code",
   "execution_count": 22,
   "metadata": {
    "scrolled": false
   },
   "outputs": [
    {
     "name": "stdout",
     "output_type": "stream",
     "text": [
      "b'<!doctype html>\\n<html>\\n<head>\\n    <title>Example Domain</title>\\n\\n    <meta charset=\"utf-8\" />\\n    <meta http-equiv=\"Content-type\" content=\"text/html; charset=utf-8\" />\\n    <meta name=\"viewport\" content=\"width=device-width, initial-scale=1\" />\\n    <style type=\"text/css\">\\n    body {\\n        background-color: #f0f0f2;\\n        margin: 0;\\n        padding: 0;\\n        font-family: -apple-system, system-ui, BlinkMacSystemFont, \"Segoe UI\", \"Open Sans\", \"Helvetica Neue\", Helvetica, Arial, sans-serif;\\n        \\n    }\\n    div {\\n        width: 600px;\\n        margin: 5em auto;\\n        padding: 2em;\\n        background-color: #fdfdff;\\n        border-radius: 0.5em;\\n        box-shadow: 2px 3px 7px 2px rgba(0,0,0,0.02);\\n    }\\n    a:link, a:visited {\\n        color: #38488f;\\n        text-decoration: none;\\n    }\\n    @media (max-width: 700px) {\\n        div {\\n            margin: 0 auto;\\n            width: auto;\\n        }\\n    }\\n    </style>    \\n</head>\\n\\n<body>\\n<div>\\n    <h1>Example Domain</h1>\\n    <p>This domain is for use in illustrative examples in documents. You may use this\\n    domain in literature without prior coordination or asking for permission.</p>\\n    <p><a href=\"https://www.iana.org/domains/example\">More information...</a></p>\\n</div>\\n</body>\\n</html>\\n'\n"
     ]
    }
   ],
   "source": [
    "url = 'http://example.com'\n",
    "r = requests.get(url) \n",
    "print(r.content)"
   ]
  },
  {
   "cell_type": "markdown",
   "metadata": {
    "slideshow": {
     "slide_type": "slide"
    }
   },
   "source": [
    "## Example 1: parse content by BeautifulSoup \n",
    "\n",
    "Step 2: Extract information from html using `BeautifulSoup`:"
   ]
  },
  {
   "cell_type": "code",
   "execution_count": 23,
   "metadata": {},
   "outputs": [
    {
     "name": "stdout",
     "output_type": "stream",
     "text": [
      "<class 'bs4.BeautifulSoup'>\n"
     ]
    }
   ],
   "source": [
    "# you may need to install the module before using it\n",
    "from bs4 import BeautifulSoup\n",
    "soup = BeautifulSoup(r.content,'lxml')\n",
    "print(type(soup))"
   ]
  },
  {
   "cell_type": "code",
   "execution_count": 24,
   "metadata": {},
   "outputs": [
    {
     "data": {
      "text/plain": [
       "['html',\n",
       " <html>\n",
       " <head>\n",
       " <title>Example Domain</title>\n",
       " <meta charset=\"utf-8\"/>\n",
       " <meta content=\"text/html; charset=utf-8\" http-equiv=\"Content-type\"/>\n",
       " <meta content=\"width=device-width, initial-scale=1\" name=\"viewport\"/>\n",
       " <style type=\"text/css\">\n",
       "     body {\n",
       "         background-color: #f0f0f2;\n",
       "         margin: 0;\n",
       "         padding: 0;\n",
       "         font-family: -apple-system, system-ui, BlinkMacSystemFont, \"Segoe UI\", \"Open Sans\", \"Helvetica Neue\", Helvetica, Arial, sans-serif;\n",
       "         \n",
       "     }\n",
       "     div {\n",
       "         width: 600px;\n",
       "         margin: 5em auto;\n",
       "         padding: 2em;\n",
       "         background-color: #fdfdff;\n",
       "         border-radius: 0.5em;\n",
       "         box-shadow: 2px 3px 7px 2px rgba(0,0,0,0.02);\n",
       "     }\n",
       "     a:link, a:visited {\n",
       "         color: #38488f;\n",
       "         text-decoration: none;\n",
       "     }\n",
       "     @media (max-width: 700px) {\n",
       "         div {\n",
       "             margin: 0 auto;\n",
       "             width: auto;\n",
       "         }\n",
       "     }\n",
       "     </style>\n",
       " </head>\n",
       " <body>\n",
       " <div>\n",
       " <h1>Example Domain</h1>\n",
       " <p>This domain is for use in illustrative examples in documents. You may use this\n",
       "     domain in literature without prior coordination or asking for permission.</p>\n",
       " <p><a href=\"https://www.iana.org/domains/example\">More information...</a></p>\n",
       " </div>\n",
       " </body>\n",
       " </html>,\n",
       " '\\n']"
      ]
     },
     "execution_count": 24,
     "metadata": {},
     "output_type": "execute_result"
    }
   ],
   "source": [
    "soup.contents"
   ]
  },
  {
   "cell_type": "markdown",
   "metadata": {
    "slideshow": {
     "slide_type": "slide"
    }
   },
   "source": [
    "## Example 1: Visualise the tree structure\n",
    "\n",
    "<center><img src=\"figs/example_tree_1.png\" width=\"700\"/></center>"
   ]
  },
  {
   "cell_type": "markdown",
   "metadata": {
    "slideshow": {
     "slide_type": "slide"
    }
   },
   "source": [
    "## Get an element by its tag\n",
    "\n",
    "Find the _first_ appearance of the element with the given tag using `find()`. For example:"
   ]
  },
  {
   "cell_type": "code",
   "execution_count": 25,
   "metadata": {
    "scrolled": true
   },
   "outputs": [
    {
     "data": {
      "text/plain": [
       "<div>\n",
       "<h1>Example Domain</h1>\n",
       "<p>This domain is for use in illustrative examples in documents. You may use this\n",
       "    domain in literature without prior coordination or asking for permission.</p>\n",
       "<p><a href=\"https://www.iana.org/domains/example\">More information...</a></p>\n",
       "</div>"
      ]
     },
     "execution_count": 25,
     "metadata": {},
     "output_type": "execute_result"
    }
   ],
   "source": [
    "section = soup.find('div')\n",
    "section"
   ]
  },
  {
   "cell_type": "markdown",
   "metadata": {},
   "source": [
    "Note you can also do the following:"
   ]
  },
  {
   "cell_type": "code",
   "execution_count": 26,
   "metadata": {
    "scrolled": true
   },
   "outputs": [
    {
     "data": {
      "text/plain": [
       "<div>\n",
       "<h1>Example Domain</h1>\n",
       "<p>This domain is for use in illustrative examples in documents. You may use this\n",
       "    domain in literature without prior coordination or asking for permission.</p>\n",
       "<p><a href=\"https://www.iana.org/domains/example\">More information...</a></p>\n",
       "</div>"
      ]
     },
     "execution_count": 26,
     "metadata": {},
     "output_type": "execute_result"
    }
   ],
   "source": [
    "soup.div"
   ]
  },
  {
   "cell_type": "markdown",
   "metadata": {
    "slideshow": {
     "slide_type": "slide"
    }
   },
   "source": [
    "## Get an element by its tag (continue)\n",
    "\n",
    "* Inside `soup.find('div')` there are some other elements with tags `<h1>`, `<p>`\n",
    "<center><img src=\"figs/example_tree_1_1.png\" width=\"400\"/></center>\n",
    "* These elements are their children and we can continue to navigate (recursively) to other elements. For example:"
   ]
  },
  {
   "cell_type": "code",
   "execution_count": 27,
   "metadata": {
    "scrolled": false
   },
   "outputs": [
    {
     "data": {
      "text/plain": [
       "<h1>Example Domain</h1>"
      ]
     },
     "execution_count": 27,
     "metadata": {},
     "output_type": "execute_result"
    }
   ],
   "source": [
    "section.find('h1')"
   ]
  },
  {
   "cell_type": "markdown",
   "metadata": {},
   "source": [
    "To get the text, use `.text`:"
   ]
  },
  {
   "cell_type": "code",
   "execution_count": 28,
   "metadata": {},
   "outputs": [
    {
     "data": {
      "text/plain": [
       "'Example Domain'"
      ]
     },
     "execution_count": 28,
     "metadata": {},
     "output_type": "execute_result"
    }
   ],
   "source": [
    "section.find('h1').text"
   ]
  },
  {
   "cell_type": "markdown",
   "metadata": {
    "slideshow": {
     "slide_type": "slide"
    }
   },
   "source": [
    "## Get all elements with the given tag\n",
    "\n",
    "Note with `find()` we only get the first element with the given tag. For example:"
   ]
  },
  {
   "cell_type": "code",
   "execution_count": 29,
   "metadata": {},
   "outputs": [
    {
     "data": {
      "text/plain": [
       "<p>This domain is for use in illustrative examples in documents. You may use this\n",
       "    domain in literature without prior coordination or asking for permission.</p>"
      ]
     },
     "execution_count": 29,
     "metadata": {},
     "output_type": "execute_result"
    }
   ],
   "source": [
    "soup.find('p')"
   ]
  },
  {
   "cell_type": "markdown",
   "metadata": {},
   "source": [
    "If we want to get all the elements, use `find_all()` instead. Example:"
   ]
  },
  {
   "cell_type": "code",
   "execution_count": 30,
   "metadata": {
    "scrolled": false
   },
   "outputs": [
    {
     "data": {
      "text/plain": [
       "[<p>This domain is for use in illustrative examples in documents. You may use this\n",
       "     domain in literature without prior coordination or asking for permission.</p>,\n",
       " <p><a href=\"https://www.iana.org/domains/example\">More information...</a></p>]"
      ]
     },
     "execution_count": 30,
     "metadata": {},
     "output_type": "execute_result"
    }
   ],
   "source": [
    "soup.find_all('p') # return a list"
   ]
  },
  {
   "cell_type": "markdown",
   "metadata": {
    "slideshow": {
     "slide_type": "slide"
    }
   },
   "source": [
    "## Get all elements with the given list of tags\n",
    "\n",
    "Apart from providing a tag, you can also provide a list of tags:"
   ]
  },
  {
   "cell_type": "code",
   "execution_count": 31,
   "metadata": {},
   "outputs": [
    {
     "data": {
      "text/plain": [
       "[<p>This domain is for use in illustrative examples in documents. You may use this\n",
       "     domain in literature without prior coordination or asking for permission.</p>,\n",
       " <p><a href=\"https://www.iana.org/domains/example\">More information...</a></p>,\n",
       " <a href=\"https://www.iana.org/domains/example\">More information...</a>]"
      ]
     },
     "execution_count": 31,
     "metadata": {},
     "output_type": "execute_result"
    }
   ],
   "source": [
    "soup.find_all(['p', 'a'])"
   ]
  },
  {
   "cell_type": "markdown",
   "metadata": {},
   "source": [
    "Note that `<a href=\"https://www.iana.org/domains/example\">More information...</a>` appear twice! Why?"
   ]
  },
  {
   "cell_type": "markdown",
   "metadata": {
    "slideshow": {
     "slide_type": "slide"
    }
   },
   "source": [
    "## Graphical explanation\n",
    "\n",
    "<center><img src=\"figs/example_tree_1_2.png\" width=\"600\"/></center>\n",
    "\n",
    "`find_all()` by default the search is done recursively. So as `find()`."
   ]
  },
  {
   "cell_type": "markdown",
   "metadata": {
    "slideshow": {
     "slide_type": "slide"
    }
   },
   "source": [
    "## Get elements with the given tag: some more examples\n",
    "\n",
    "`None` is returned when the tag cannot be found for `find()`, and empty list for `find_all()`. For example:"
   ]
  },
  {
   "cell_type": "code",
   "execution_count": 32,
   "metadata": {
    "scrolled": true
   },
   "outputs": [
    {
     "name": "stdout",
     "output_type": "stream",
     "text": [
      "None\n"
     ]
    }
   ],
   "source": [
    "print(soup.find('img'))"
   ]
  },
  {
   "cell_type": "code",
   "execution_count": 33,
   "metadata": {},
   "outputs": [
    {
     "name": "stdout",
     "output_type": "stream",
     "text": [
      "[]\n"
     ]
    }
   ],
   "source": [
    "print(soup.find_all('img'))"
   ]
  },
  {
   "cell_type": "markdown",
   "metadata": {},
   "source": [
    "As `find_all()` returns a list, we can iterate over each of the element within it. For example:"
   ]
  },
  {
   "cell_type": "code",
   "execution_count": 31,
   "metadata": {},
   "outputs": [
    {
     "name": "stdout",
     "output_type": "stream",
     "text": [
      "This domain is for use in illustrative examples in documents. You may use this\n",
      "    domain in literature without prior coordination or asking for permission.\n",
      "------\n",
      "More information...\n",
      "------\n"
     ]
    }
   ],
   "source": [
    "for paragraph in soup.find_all('p'):\n",
    "    print(paragraph.text)\n",
    "    print('------')"
   ]
  },
  {
   "cell_type": "markdown",
   "metadata": {
    "slideshow": {
     "slide_type": "slide"
    }
   },
   "source": [
    "## Get attributes\n",
    "\n",
    "Some elements have some attributes, for example `href=\"https://...\"` is the attribute of the following element:"
   ]
  },
  {
   "cell_type": "code",
   "execution_count": 34,
   "metadata": {
    "scrolled": false
   },
   "outputs": [
    {
     "data": {
      "text/plain": [
       "<a href=\"https://www.iana.org/domains/example\">More information...</a>"
      ]
     },
     "execution_count": 34,
     "metadata": {},
     "output_type": "execute_result"
    }
   ],
   "source": [
    "soup.find('a')"
   ]
  },
  {
   "cell_type": "markdown",
   "metadata": {},
   "source": [
    "You can extract the attribute by `['name of attribute']`. For example:"
   ]
  },
  {
   "cell_type": "code",
   "execution_count": 35,
   "metadata": {},
   "outputs": [
    {
     "data": {
      "text/plain": [
       "'https://www.iana.org/domains/example'"
      ]
     },
     "execution_count": 35,
     "metadata": {},
     "output_type": "execute_result"
    }
   ],
   "source": [
    "soup.find('a')['href']"
   ]
  },
  {
   "cell_type": "markdown",
   "metadata": {
    "slideshow": {
     "slide_type": "slide"
    }
   },
   "source": [
    "## Get elements by text\n",
    "\n",
    "If you want to match text instead of tag, you can use the argument `string`. For example:"
   ]
  },
  {
   "cell_type": "code",
   "execution_count": 36,
   "metadata": {},
   "outputs": [
    {
     "data": {
      "text/plain": [
       "['Example Domain', 'Example Domain']"
      ]
     },
     "execution_count": 36,
     "metadata": {},
     "output_type": "execute_result"
    }
   ],
   "source": [
    "elements = soup.find_all(string = 'Example Domain')\n",
    "elements"
   ]
  },
  {
   "cell_type": "markdown",
   "metadata": {},
   "source": [
    "While it seems you just get back a list of the same \"string\", it is not the case:"
   ]
  },
  {
   "cell_type": "code",
   "execution_count": 35,
   "metadata": {},
   "outputs": [
    {
     "data": {
      "text/plain": [
       "bs4.element.NavigableString"
      ]
     },
     "execution_count": 35,
     "metadata": {},
     "output_type": "execute_result"
    }
   ],
   "source": [
    "type(elements[0])"
   ]
  },
  {
   "cell_type": "markdown",
   "metadata": {},
   "source": [
    "You can for example do something like:"
   ]
  },
  {
   "cell_type": "code",
   "execution_count": 36,
   "metadata": {},
   "outputs": [
    {
     "data": {
      "text/plain": [
       "<p>This domain is for use in illustrative examples in documents. You may use this\n",
       "    domain in literature without prior coordination or asking for permission.</p>"
      ]
     },
     "execution_count": 36,
     "metadata": {},
     "output_type": "execute_result"
    }
   ],
   "source": [
    "elements[1].find_next('p') # demonstrate later"
   ]
  },
  {
   "cell_type": "markdown",
   "metadata": {
    "slideshow": {
     "slide_type": "slide"
    }
   },
   "source": [
    "## Modified example\n",
    "\n",
    "Here we add a `<p>` with an _attribute_, for which it will be easier for us to extract the corresponding data later."
   ]
  },
  {
   "cell_type": "code",
   "execution_count": 38,
   "metadata": {},
   "outputs": [],
   "source": [
    "html_code = \"\"\"\n",
    "<!DOCTYPE html>\n",
    "<html>\n",
    "    <head>\n",
    "        <title>Example Domain</title>\n",
    "    </head>\n",
    "    <body>\n",
    "        <p>This domain is for use in illustrative examples in documents. You may use this\n",
    "            domain in literature without prior coordination or asking for permission.</p>\n",
    "        <p class='additional-text'>Example text to be extracted by attribute</p>\n",
    "        <p><a href=\"https://www.iana.org/domains/example\">More information...</a></p>\n",
    "    </body>    \n",
    "</html>\"\"\"\n",
    "soup = BeautifulSoup(html_code,'lxml')"
   ]
  },
  {
   "cell_type": "markdown",
   "metadata": {
    "slideshow": {
     "slide_type": "slide"
    }
   },
   "source": [
    "## Modified example: tree\n",
    "\n",
    "<center><img src=\"figs/example_tree_2.png\" width=\"700\"/></center>"
   ]
  },
  {
   "cell_type": "markdown",
   "metadata": {
    "slideshow": {
     "slide_type": "slide"
    }
   },
   "source": [
    "## Search using attribute\n",
    "\n",
    "For the find functions like `find()` and `find_all()`, you can provide the attribute to be matched. \n",
    "* For example, here we get the first `<p>` with `class='additional-text'`:"
   ]
  },
  {
   "cell_type": "code",
   "execution_count": 39,
   "metadata": {
    "scrolled": true
   },
   "outputs": [
    {
     "data": {
      "text/plain": [
       "<p class=\"additional-text\">Example text to be extracted by attribute</p>"
      ]
     },
     "execution_count": 39,
     "metadata": {},
     "output_type": "execute_result"
    }
   ],
   "source": [
    "p = soup.find('p', attrs={'class': 'additional-text'})\n",
    "p"
   ]
  },
  {
   "cell_type": "markdown",
   "metadata": {},
   "source": [
    "Compare to:"
   ]
  },
  {
   "cell_type": "code",
   "execution_count": 40,
   "metadata": {
    "scrolled": false
   },
   "outputs": [
    {
     "data": {
      "text/plain": [
       "<p>This domain is for use in illustrative examples in documents. You may use this\n",
       "            domain in literature without prior coordination or asking for permission.</p>"
      ]
     },
     "execution_count": 40,
     "metadata": {},
     "output_type": "execute_result"
    }
   ],
   "source": [
    "soup.find('p')"
   ]
  },
  {
   "cell_type": "markdown",
   "metadata": {
    "slideshow": {
     "slide_type": "slide"
    }
   },
   "source": [
    "## Search the tree \n",
    "\n",
    "Use `find_previous()` and `find_next()` if you want to find the tag before and after the current location of the document. Example:"
   ]
  },
  {
   "cell_type": "code",
   "execution_count": 41,
   "metadata": {
    "scrolled": false
   },
   "outputs": [
    {
     "data": {
      "text/plain": [
       "<p>This domain is for use in illustrative examples in documents. You may use this\n",
       "            domain in literature without prior coordination or asking for permission.</p>"
      ]
     },
     "execution_count": 41,
     "metadata": {},
     "output_type": "execute_result"
    }
   ],
   "source": [
    "p.find_previous('p') # previous <p>"
   ]
  },
  {
   "cell_type": "code",
   "execution_count": 42,
   "metadata": {},
   "outputs": [
    {
     "data": {
      "text/plain": [
       "<a href=\"https://www.iana.org/domains/example\">More information...</a>"
      ]
     },
     "execution_count": 42,
     "metadata": {},
     "output_type": "execute_result"
    }
   ],
   "source": [
    "p.find_next('a') # next <a>"
   ]
  },
  {
   "cell_type": "markdown",
   "metadata": {},
   "source": [
    "The following does not work as the element with `<p class='additional-text'>` does not have any children with tag `<p>`:"
   ]
  },
  {
   "cell_type": "code",
   "execution_count": 42,
   "metadata": {},
   "outputs": [],
   "source": [
    "p.find('p')"
   ]
  },
  {
   "cell_type": "markdown",
   "metadata": {
    "slideshow": {
     "slide_type": "slide"
    }
   },
   "source": [
    "## Search the tree (continue)\n",
    "\n",
    "There is also `find_all_previous()` and `find_all_next()`. Example:"
   ]
  },
  {
   "cell_type": "code",
   "execution_count": 43,
   "metadata": {
    "scrolled": false
   },
   "outputs": [
    {
     "data": {
      "text/plain": [
       "[<p><a href=\"https://www.iana.org/domains/example\">More information...</a></p>,\n",
       " <a href=\"https://www.iana.org/domains/example\">More information...</a>]"
      ]
     },
     "execution_count": 43,
     "metadata": {},
     "output_type": "execute_result"
    }
   ],
   "source": [
    "p.find_all_next(['p','a'])"
   ]
  },
  {
   "cell_type": "markdown",
   "metadata": {
    "slideshow": {
     "slide_type": "slide"
    }
   },
   "source": [
    "## Web scraping example 2 (previous demo)\n",
    "\n",
    "You should now understand the code below:"
   ]
  },
  {
   "cell_type": "code",
   "execution_count": 44,
   "metadata": {
    "scrolled": false
   },
   "outputs": [
    {
     "name": "stdout",
     "output_type": "stream",
     "text": [
      "Managing and Visualising Data\n",
      "\n",
      "W. Mckinney, Python for Data Analysis, 2nd Edition, O’Reilly 2017\n",
      "A. C. Muller and S. Guido, Introduction to Machine Learning with Python, O’Reilly, 2016\n",
      "Easley, David, and Jon Kleinberg. Networks, crowds, and markets: Reasoning about a highly connected world. Cambridge university press, 2010\n",
      "R. Ramakrishnan and J. Gehrke, Database Management Systems, 3rd Edition, McGraw Hill, 2002\n",
      "\n"
     ]
    }
   ],
   "source": [
    "url = 'https://www.lse.ac.uk/resources/calendar2022-2023/courseGuides/ST/2022_ST115.htm'\n",
    "r = requests.get(url)\n",
    "soup = BeautifulSoup(r.content,'lxml')\n",
    "# get course title\n",
    "print(soup.find('span', {'id': 'title'}).text.strip())\n",
    "# get reading list\n",
    "print(soup.find(text='Essential Reading:').find_next('ol').text)"
   ]
  },
  {
   "cell_type": "markdown",
   "metadata": {},
   "source": [
    "But how can you know which tags, attributes, etc to use, especially when the html code can be very long?"
   ]
  },
  {
   "cell_type": "markdown",
   "metadata": {
    "slideshow": {
     "slide_type": "slide"
    }
   },
   "source": [
    "## Developer tools\n",
    "\n",
    "To inspect a specific web element in Chrome, select and right-click on the element you want to extract the information and select the Inspect option\n",
    "* Example:\n",
    "\n",
    "<center><img src=\"figs/inspect.png\" width=\"800\"/></center>"
   ]
  },
  {
   "cell_type": "markdown",
   "metadata": {
    "slideshow": {
     "slide_type": "slide"
    }
   },
   "source": [
    "## Web scraping example 3: Extracting table\n",
    "\n",
    "You should now understand the following code, and also able to write the following code:"
   ]
  },
  {
   "cell_type": "code",
   "execution_count": 45,
   "metadata": {
    "scrolled": true
   },
   "outputs": [
    {
     "data": {
      "text/html": [
       "<div>\n",
       "<style scoped>\n",
       "    .dataframe tbody tr th:only-of-type {\n",
       "        vertical-align: middle;\n",
       "    }\n",
       "\n",
       "    .dataframe tbody tr th {\n",
       "        vertical-align: top;\n",
       "    }\n",
       "\n",
       "    .dataframe thead th {\n",
       "        text-align: right;\n",
       "    }\n",
       "</style>\n",
       "<table border=\"1\" class=\"dataframe\">\n",
       "  <thead>\n",
       "    <tr style=\"text-align: right;\">\n",
       "      <th></th>\n",
       "      <th>#</th>\n",
       "      <th>Country (or dependency)</th>\n",
       "      <th>Population (2023)</th>\n",
       "      <th>Yearly Change</th>\n",
       "      <th>Net Change</th>\n",
       "      <th>Density (P/Km²)</th>\n",
       "      <th>Land Area (Km²)</th>\n",
       "      <th>Migrants (net)</th>\n",
       "      <th>Fert. Rate</th>\n",
       "      <th>Med. Age</th>\n",
       "      <th>Urban Pop %</th>\n",
       "      <th>World Share</th>\n",
       "    </tr>\n",
       "  </thead>\n",
       "  <tbody>\n",
       "    <tr>\n",
       "      <th>0</th>\n",
       "      <td>1</td>\n",
       "      <td>India</td>\n",
       "      <td>1,428,627,663</td>\n",
       "      <td>0.81 %</td>\n",
       "      <td>11,454,490</td>\n",
       "      <td>481</td>\n",
       "      <td>2,973,190</td>\n",
       "      <td>-486,136</td>\n",
       "      <td>2.0</td>\n",
       "      <td>28</td>\n",
       "      <td>36 %</td>\n",
       "      <td>17.76 %</td>\n",
       "    </tr>\n",
       "    <tr>\n",
       "      <th>1</th>\n",
       "      <td>2</td>\n",
       "      <td>China</td>\n",
       "      <td>1,425,671,352</td>\n",
       "      <td>-0.02 %</td>\n",
       "      <td>-215,985</td>\n",
       "      <td>152</td>\n",
       "      <td>9,388,211</td>\n",
       "      <td>-310,220</td>\n",
       "      <td>1.2</td>\n",
       "      <td>39</td>\n",
       "      <td>65 %</td>\n",
       "      <td>17.72 %</td>\n",
       "    </tr>\n",
       "    <tr>\n",
       "      <th>2</th>\n",
       "      <td>3</td>\n",
       "      <td>United States</td>\n",
       "      <td>339,996,563</td>\n",
       "      <td>0.50 %</td>\n",
       "      <td>1,706,706</td>\n",
       "      <td>37</td>\n",
       "      <td>9,147,420</td>\n",
       "      <td>999,700</td>\n",
       "      <td>1.7</td>\n",
       "      <td>38</td>\n",
       "      <td>83 %</td>\n",
       "      <td>4.23 %</td>\n",
       "    </tr>\n",
       "    <tr>\n",
       "      <th>3</th>\n",
       "      <td>4</td>\n",
       "      <td>Indonesia</td>\n",
       "      <td>277,534,122</td>\n",
       "      <td>0.74 %</td>\n",
       "      <td>2,032,783</td>\n",
       "      <td>153</td>\n",
       "      <td>1,811,570</td>\n",
       "      <td>-49,997</td>\n",
       "      <td>2.1</td>\n",
       "      <td>30</td>\n",
       "      <td>59 %</td>\n",
       "      <td>3.45 %</td>\n",
       "    </tr>\n",
       "    <tr>\n",
       "      <th>4</th>\n",
       "      <td>5</td>\n",
       "      <td>Pakistan</td>\n",
       "      <td>240,485,658</td>\n",
       "      <td>1.98 %</td>\n",
       "      <td>4,660,796</td>\n",
       "      <td>312</td>\n",
       "      <td>770,880</td>\n",
       "      <td>-165,988</td>\n",
       "      <td>3.3</td>\n",
       "      <td>21</td>\n",
       "      <td>35 %</td>\n",
       "      <td>2.99 %</td>\n",
       "    </tr>\n",
       "    <tr>\n",
       "      <th>...</th>\n",
       "      <td>...</td>\n",
       "      <td>...</td>\n",
       "      <td>...</td>\n",
       "      <td>...</td>\n",
       "      <td>...</td>\n",
       "      <td>...</td>\n",
       "      <td>...</td>\n",
       "      <td>...</td>\n",
       "      <td>...</td>\n",
       "      <td>...</td>\n",
       "      <td>...</td>\n",
       "      <td>...</td>\n",
       "    </tr>\n",
       "    <tr>\n",
       "      <th>229</th>\n",
       "      <td>230</td>\n",
       "      <td>Montserrat</td>\n",
       "      <td>4,386</td>\n",
       "      <td>-0.09 %</td>\n",
       "      <td>-4</td>\n",
       "      <td>44</td>\n",
       "      <td>100</td>\n",
       "      <td>0</td>\n",
       "      <td>1.6</td>\n",
       "      <td>44</td>\n",
       "      <td>11 %</td>\n",
       "      <td>0.00 %</td>\n",
       "    </tr>\n",
       "    <tr>\n",
       "      <th>230</th>\n",
       "      <td>231</td>\n",
       "      <td>Falkland Islands</td>\n",
       "      <td>3,791</td>\n",
       "      <td>0.29 %</td>\n",
       "      <td>11</td>\n",
       "      <td>0</td>\n",
       "      <td>12,170</td>\n",
       "      <td>0</td>\n",
       "      <td>1.6</td>\n",
       "      <td>40</td>\n",
       "      <td>62 %</td>\n",
       "      <td>0.00 %</td>\n",
       "    </tr>\n",
       "    <tr>\n",
       "      <th>231</th>\n",
       "      <td>232</td>\n",
       "      <td>Niue</td>\n",
       "      <td>1,935</td>\n",
       "      <td>0.05 %</td>\n",
       "      <td>1</td>\n",
       "      <td>7</td>\n",
       "      <td>260</td>\n",
       "      <td>0</td>\n",
       "      <td>2.4</td>\n",
       "      <td>36</td>\n",
       "      <td>41 %</td>\n",
       "      <td>0.00 %</td>\n",
       "    </tr>\n",
       "    <tr>\n",
       "      <th>232</th>\n",
       "      <td>233</td>\n",
       "      <td>Tokelau</td>\n",
       "      <td>1,893</td>\n",
       "      <td>1.18 %</td>\n",
       "      <td>22</td>\n",
       "      <td>189</td>\n",
       "      <td>10</td>\n",
       "      <td>0</td>\n",
       "      <td>2.6</td>\n",
       "      <td>27</td>\n",
       "      <td>0 %</td>\n",
       "      <td>0.00 %</td>\n",
       "    </tr>\n",
       "    <tr>\n",
       "      <th>233</th>\n",
       "      <td>234</td>\n",
       "      <td>Holy See</td>\n",
       "      <td>518</td>\n",
       "      <td>1.57 %</td>\n",
       "      <td>8</td>\n",
       "      <td>1,295</td>\n",
       "      <td>0</td>\n",
       "      <td>0</td>\n",
       "      <td></td>\n",
       "      <td></td>\n",
       "      <td>N.A.</td>\n",
       "      <td>0.00 %</td>\n",
       "    </tr>\n",
       "  </tbody>\n",
       "</table>\n",
       "<p>234 rows × 12 columns</p>\n",
       "</div>"
      ],
      "text/plain": [
       "       # Country (or dependency) Population (2023) Yearly Change  Net Change  \\\n",
       "0      1                   India     1,428,627,663        0.81 %  11,454,490   \n",
       "1      2                   China     1,425,671,352       -0.02 %    -215,985   \n",
       "2      3           United States       339,996,563        0.50 %   1,706,706   \n",
       "3      4               Indonesia       277,534,122        0.74 %   2,032,783   \n",
       "4      5                Pakistan       240,485,658        1.98 %   4,660,796   \n",
       "..   ...                     ...               ...           ...         ...   \n",
       "229  230              Montserrat             4,386       -0.09 %          -4   \n",
       "230  231        Falkland Islands             3,791        0.29 %          11   \n",
       "231  232                    Niue             1,935        0.05 %           1   \n",
       "232  233                 Tokelau             1,893        1.18 %          22   \n",
       "233  234                Holy See               518        1.57 %           8   \n",
       "\n",
       "    Density (P/Km²) Land Area (Km²) Migrants (net) Fert. Rate Med. Age  \\\n",
       "0               481       2,973,190       -486,136        2.0       28   \n",
       "1               152       9,388,211       -310,220        1.2       39   \n",
       "2                37       9,147,420        999,700        1.7       38   \n",
       "3               153       1,811,570        -49,997        2.1       30   \n",
       "4               312         770,880       -165,988        3.3       21   \n",
       "..              ...             ...            ...        ...      ...   \n",
       "229              44             100              0        1.6       44   \n",
       "230               0          12,170              0        1.6       40   \n",
       "231               7             260              0        2.4       36   \n",
       "232             189              10              0        2.6       27   \n",
       "233           1,295               0              0                       \n",
       "\n",
       "    Urban Pop % World Share  \n",
       "0          36 %     17.76 %  \n",
       "1          65 %     17.72 %  \n",
       "2          83 %      4.23 %  \n",
       "3          59 %      3.45 %  \n",
       "4          35 %      2.99 %  \n",
       "..          ...         ...  \n",
       "229        11 %      0.00 %  \n",
       "230        62 %      0.00 %  \n",
       "231        41 %      0.00 %  \n",
       "232         0 %      0.00 %  \n",
       "233        N.A.      0.00 %  \n",
       "\n",
       "[234 rows x 12 columns]"
      ]
     },
     "execution_count": 45,
     "metadata": {},
     "output_type": "execute_result"
    }
   ],
   "source": [
    "import pandas as pd\n",
    "url = 'http://www.worldometers.info/world-population/population-by-country/'\n",
    "page = requests.get(url)\n",
    "soup = BeautifulSoup(page.content,'lxml')\n",
    "result =[]\n",
    "\n",
    "for row in soup.find('table').find('tbody').find_all('tr'):\n",
    "    result.append([cell.text for cell in row.find_all('td')])\n",
    "    \n",
    "pd.DataFrame(result, columns=[cell.text for cell in soup.find('thead').find('tr').find_all('th')])"
   ]
  },
  {
   "cell_type": "markdown",
   "metadata": {},
   "source": [
    "But there is a much easier way to scrape the table withe the use of pandas!"
   ]
  },
  {
   "cell_type": "markdown",
   "metadata": {
    "slideshow": {
     "slide_type": "slide"
    }
   },
   "source": [
    "## Example 3: using pandas\n",
    "\n",
    "You can easily scrap the table with the use of `pd.read_html()`:"
   ]
  },
  {
   "cell_type": "code",
   "execution_count": 46,
   "metadata": {
    "scrolled": false
   },
   "outputs": [
    {
     "data": {
      "text/html": [
       "<div>\n",
       "<style scoped>\n",
       "    .dataframe tbody tr th:only-of-type {\n",
       "        vertical-align: middle;\n",
       "    }\n",
       "\n",
       "    .dataframe tbody tr th {\n",
       "        vertical-align: top;\n",
       "    }\n",
       "\n",
       "    .dataframe thead th {\n",
       "        text-align: right;\n",
       "    }\n",
       "</style>\n",
       "<table border=\"1\" class=\"dataframe\">\n",
       "  <thead>\n",
       "    <tr style=\"text-align: right;\">\n",
       "      <th></th>\n",
       "      <th>#</th>\n",
       "      <th>Country (or dependency)</th>\n",
       "      <th>Population (2020)</th>\n",
       "      <th>Yearly Change</th>\n",
       "      <th>Net Change</th>\n",
       "      <th>Density (P/Km²)</th>\n",
       "      <th>Land Area (Km²)</th>\n",
       "      <th>Migrants (net)</th>\n",
       "      <th>Fert. Rate</th>\n",
       "      <th>Med. Age</th>\n",
       "      <th>Urban Pop %</th>\n",
       "      <th>World Share</th>\n",
       "    </tr>\n",
       "  </thead>\n",
       "  <tbody>\n",
       "    <tr>\n",
       "      <th>0</th>\n",
       "      <td>1</td>\n",
       "      <td>China</td>\n",
       "      <td>1439323776</td>\n",
       "      <td>0.39 %</td>\n",
       "      <td>5540090</td>\n",
       "      <td>153</td>\n",
       "      <td>9388211</td>\n",
       "      <td>-348399.0</td>\n",
       "      <td>1.7</td>\n",
       "      <td>38</td>\n",
       "      <td>61 %</td>\n",
       "      <td>18.47 %</td>\n",
       "    </tr>\n",
       "    <tr>\n",
       "      <th>1</th>\n",
       "      <td>2</td>\n",
       "      <td>India</td>\n",
       "      <td>1380004385</td>\n",
       "      <td>0.99 %</td>\n",
       "      <td>13586631</td>\n",
       "      <td>464</td>\n",
       "      <td>2973190</td>\n",
       "      <td>-532687.0</td>\n",
       "      <td>2.2</td>\n",
       "      <td>28</td>\n",
       "      <td>35 %</td>\n",
       "      <td>17.70 %</td>\n",
       "    </tr>\n",
       "    <tr>\n",
       "      <th>2</th>\n",
       "      <td>3</td>\n",
       "      <td>United States</td>\n",
       "      <td>331002651</td>\n",
       "      <td>0.59 %</td>\n",
       "      <td>1937734</td>\n",
       "      <td>36</td>\n",
       "      <td>9147420</td>\n",
       "      <td>954806.0</td>\n",
       "      <td>1.8</td>\n",
       "      <td>38</td>\n",
       "      <td>83 %</td>\n",
       "      <td>4.25 %</td>\n",
       "    </tr>\n",
       "    <tr>\n",
       "      <th>3</th>\n",
       "      <td>4</td>\n",
       "      <td>Indonesia</td>\n",
       "      <td>273523615</td>\n",
       "      <td>1.07 %</td>\n",
       "      <td>2898047</td>\n",
       "      <td>151</td>\n",
       "      <td>1811570</td>\n",
       "      <td>-98955.0</td>\n",
       "      <td>2.3</td>\n",
       "      <td>30</td>\n",
       "      <td>56 %</td>\n",
       "      <td>3.51 %</td>\n",
       "    </tr>\n",
       "    <tr>\n",
       "      <th>4</th>\n",
       "      <td>5</td>\n",
       "      <td>Pakistan</td>\n",
       "      <td>220892340</td>\n",
       "      <td>2.00 %</td>\n",
       "      <td>4327022</td>\n",
       "      <td>287</td>\n",
       "      <td>770880</td>\n",
       "      <td>-233379.0</td>\n",
       "      <td>3.6</td>\n",
       "      <td>23</td>\n",
       "      <td>35 %</td>\n",
       "      <td>2.83 %</td>\n",
       "    </tr>\n",
       "    <tr>\n",
       "      <th>...</th>\n",
       "      <td>...</td>\n",
       "      <td>...</td>\n",
       "      <td>...</td>\n",
       "      <td>...</td>\n",
       "      <td>...</td>\n",
       "      <td>...</td>\n",
       "      <td>...</td>\n",
       "      <td>...</td>\n",
       "      <td>...</td>\n",
       "      <td>...</td>\n",
       "      <td>...</td>\n",
       "      <td>...</td>\n",
       "    </tr>\n",
       "    <tr>\n",
       "      <th>230</th>\n",
       "      <td>231</td>\n",
       "      <td>Montserrat</td>\n",
       "      <td>4992</td>\n",
       "      <td>0.06 %</td>\n",
       "      <td>3</td>\n",
       "      <td>50</td>\n",
       "      <td>100</td>\n",
       "      <td>NaN</td>\n",
       "      <td>N.A.</td>\n",
       "      <td>N.A.</td>\n",
       "      <td>10 %</td>\n",
       "      <td>0.00 %</td>\n",
       "    </tr>\n",
       "    <tr>\n",
       "      <th>231</th>\n",
       "      <td>232</td>\n",
       "      <td>Falkland Islands</td>\n",
       "      <td>3480</td>\n",
       "      <td>3.05 %</td>\n",
       "      <td>103</td>\n",
       "      <td>0</td>\n",
       "      <td>12170</td>\n",
       "      <td>NaN</td>\n",
       "      <td>N.A.</td>\n",
       "      <td>N.A.</td>\n",
       "      <td>66 %</td>\n",
       "      <td>0.00 %</td>\n",
       "    </tr>\n",
       "    <tr>\n",
       "      <th>232</th>\n",
       "      <td>233</td>\n",
       "      <td>Niue</td>\n",
       "      <td>1626</td>\n",
       "      <td>0.68 %</td>\n",
       "      <td>11</td>\n",
       "      <td>6</td>\n",
       "      <td>260</td>\n",
       "      <td>NaN</td>\n",
       "      <td>N.A.</td>\n",
       "      <td>N.A.</td>\n",
       "      <td>46 %</td>\n",
       "      <td>0.00 %</td>\n",
       "    </tr>\n",
       "    <tr>\n",
       "      <th>233</th>\n",
       "      <td>234</td>\n",
       "      <td>Tokelau</td>\n",
       "      <td>1357</td>\n",
       "      <td>1.27 %</td>\n",
       "      <td>17</td>\n",
       "      <td>136</td>\n",
       "      <td>10</td>\n",
       "      <td>NaN</td>\n",
       "      <td>N.A.</td>\n",
       "      <td>N.A.</td>\n",
       "      <td>0 %</td>\n",
       "      <td>0.00 %</td>\n",
       "    </tr>\n",
       "    <tr>\n",
       "      <th>234</th>\n",
       "      <td>235</td>\n",
       "      <td>Holy See</td>\n",
       "      <td>801</td>\n",
       "      <td>0.25 %</td>\n",
       "      <td>2</td>\n",
       "      <td>2003</td>\n",
       "      <td>0</td>\n",
       "      <td>NaN</td>\n",
       "      <td>N.A.</td>\n",
       "      <td>N.A.</td>\n",
       "      <td>N.A.</td>\n",
       "      <td>0.00 %</td>\n",
       "    </tr>\n",
       "  </tbody>\n",
       "</table>\n",
       "<p>235 rows × 12 columns</p>\n",
       "</div>"
      ],
      "text/plain": [
       "       # Country (or dependency)  Population (2020) Yearly Change  Net Change  \\\n",
       "0      1                   China         1439323776        0.39 %     5540090   \n",
       "1      2                   India         1380004385        0.99 %    13586631   \n",
       "2      3           United States          331002651        0.59 %     1937734   \n",
       "3      4               Indonesia          273523615        1.07 %     2898047   \n",
       "4      5                Pakistan          220892340        2.00 %     4327022   \n",
       "..   ...                     ...                ...           ...         ...   \n",
       "230  231              Montserrat               4992        0.06 %           3   \n",
       "231  232        Falkland Islands               3480        3.05 %         103   \n",
       "232  233                    Niue               1626        0.68 %          11   \n",
       "233  234                 Tokelau               1357        1.27 %          17   \n",
       "234  235                Holy See                801        0.25 %           2   \n",
       "\n",
       "     Density (P/Km²)  Land Area (Km²)  Migrants (net) Fert. Rate Med. Age  \\\n",
       "0                153          9388211       -348399.0        1.7       38   \n",
       "1                464          2973190       -532687.0        2.2       28   \n",
       "2                 36          9147420        954806.0        1.8       38   \n",
       "3                151          1811570        -98955.0        2.3       30   \n",
       "4                287           770880       -233379.0        3.6       23   \n",
       "..               ...              ...             ...        ...      ...   \n",
       "230               50              100             NaN       N.A.     N.A.   \n",
       "231                0            12170             NaN       N.A.     N.A.   \n",
       "232                6              260             NaN       N.A.     N.A.   \n",
       "233              136               10             NaN       N.A.     N.A.   \n",
       "234             2003                0             NaN       N.A.     N.A.   \n",
       "\n",
       "    Urban Pop % World Share  \n",
       "0          61 %     18.47 %  \n",
       "1          35 %     17.70 %  \n",
       "2          83 %      4.25 %  \n",
       "3          56 %      3.51 %  \n",
       "4          35 %      2.83 %  \n",
       "..          ...         ...  \n",
       "230        10 %      0.00 %  \n",
       "231        66 %      0.00 %  \n",
       "232        46 %      0.00 %  \n",
       "233         0 %      0.00 %  \n",
       "234        N.A.      0.00 %  \n",
       "\n",
       "[235 rows x 12 columns]"
      ]
     },
     "execution_count": 46,
     "metadata": {},
     "output_type": "execute_result"
    }
   ],
   "source": [
    "pd.read_html(page.content)[0]"
   ]
  },
  {
   "cell_type": "markdown",
   "metadata": {
    "slideshow": {
     "slide_type": "slide"
    }
   },
   "source": [
    "## Exercise\n",
    "\n",
    "Get the list of all LSE directors from the wikipedia page."
   ]
  },
  {
   "cell_type": "code",
   "execution_count": 47,
   "metadata": {},
   "outputs": [
    {
     "data": {
      "text/html": [
       "<div>\n",
       "<style scoped>\n",
       "    .dataframe tbody tr th:only-of-type {\n",
       "        vertical-align: middle;\n",
       "    }\n",
       "\n",
       "    .dataframe tbody tr th {\n",
       "        vertical-align: top;\n",
       "    }\n",
       "\n",
       "    .dataframe thead th {\n",
       "        text-align: right;\n",
       "    }\n",
       "</style>\n",
       "<table border=\"1\" class=\"dataframe\">\n",
       "  <thead>\n",
       "    <tr style=\"text-align: right;\">\n",
       "      <th></th>\n",
       "      <th>Years</th>\n",
       "      <th>Name</th>\n",
       "    </tr>\n",
       "  </thead>\n",
       "  <tbody>\n",
       "    <tr>\n",
       "      <th>0</th>\n",
       "      <td>1895–1903</td>\n",
       "      <td>William Hewins</td>\n",
       "    </tr>\n",
       "    <tr>\n",
       "      <th>1</th>\n",
       "      <td>1903–1908</td>\n",
       "      <td>Sir Halford Mackinder</td>\n",
       "    </tr>\n",
       "    <tr>\n",
       "      <th>2</th>\n",
       "      <td>1908–1919</td>\n",
       "      <td>The Hon. William Pember Reeves</td>\n",
       "    </tr>\n",
       "    <tr>\n",
       "      <th>3</th>\n",
       "      <td>1919–1937</td>\n",
       "      <td>Lord Beveridge</td>\n",
       "    </tr>\n",
       "    <tr>\n",
       "      <th>4</th>\n",
       "      <td>1937–1957</td>\n",
       "      <td>Sir Alexander Carr-Saunders</td>\n",
       "    </tr>\n",
       "    <tr>\n",
       "      <th>5</th>\n",
       "      <td>1957–1967</td>\n",
       "      <td>Sir Sydney Caine</td>\n",
       "    </tr>\n",
       "    <tr>\n",
       "      <th>6</th>\n",
       "      <td>1967–1974</td>\n",
       "      <td>Sir Walter Adams</td>\n",
       "    </tr>\n",
       "    <tr>\n",
       "      <th>7</th>\n",
       "      <td>1974–1984</td>\n",
       "      <td>Lord Dahrendorf</td>\n",
       "    </tr>\n",
       "    <tr>\n",
       "      <th>8</th>\n",
       "      <td>1984–1990</td>\n",
       "      <td>Indraprasad Gordhanbhai Patel</td>\n",
       "    </tr>\n",
       "    <tr>\n",
       "      <th>9</th>\n",
       "      <td>1990–1996</td>\n",
       "      <td>Sir John Ashworth</td>\n",
       "    </tr>\n",
       "    <tr>\n",
       "      <th>10</th>\n",
       "      <td>1996–2003</td>\n",
       "      <td>Lord Giddens</td>\n",
       "    </tr>\n",
       "    <tr>\n",
       "      <th>11</th>\n",
       "      <td>2003–2011</td>\n",
       "      <td>Sir Howard Davies</td>\n",
       "    </tr>\n",
       "    <tr>\n",
       "      <th>12</th>\n",
       "      <td>2011–2012</td>\n",
       "      <td>Dame Judith Rees</td>\n",
       "    </tr>\n",
       "    <tr>\n",
       "      <th>13</th>\n",
       "      <td>2012–2016†</td>\n",
       "      <td>Craig Calhoun</td>\n",
       "    </tr>\n",
       "    <tr>\n",
       "      <th>14</th>\n",
       "      <td>2016–2017</td>\n",
       "      <td>Julia Black</td>\n",
       "    </tr>\n",
       "    <tr>\n",
       "      <th>15</th>\n",
       "      <td>2017–present</td>\n",
       "      <td>Dame Nemat Shafik (1st President and VC of LSE)</td>\n",
       "    </tr>\n",
       "  </tbody>\n",
       "</table>\n",
       "</div>"
      ],
      "text/plain": [
       "           Years                                             Name\n",
       "0      1895–1903                                   William Hewins\n",
       "1      1903–1908                            Sir Halford Mackinder\n",
       "2      1908–1919                   The Hon. William Pember Reeves\n",
       "3      1919–1937                                   Lord Beveridge\n",
       "4      1937–1957                      Sir Alexander Carr-Saunders\n",
       "5      1957–1967                                 Sir Sydney Caine\n",
       "6      1967–1974                                 Sir Walter Adams\n",
       "7      1974–1984                                  Lord Dahrendorf\n",
       "8      1984–1990                    Indraprasad Gordhanbhai Patel\n",
       "9      1990–1996                                Sir John Ashworth\n",
       "10     1996–2003                                     Lord Giddens\n",
       "11     2003–2011                                Sir Howard Davies\n",
       "12     2011–2012                                 Dame Judith Rees\n",
       "13    2012–2016†                                    Craig Calhoun\n",
       "14     2016–2017                                      Julia Black\n",
       "15  2017–present  Dame Nemat Shafik (1st President and VC of LSE)"
      ]
     },
     "execution_count": 47,
     "metadata": {},
     "output_type": "execute_result"
    }
   ],
   "source": [
    "page = requests.get('https://en.wikipedia.org/wiki/London_School_of_Economics')\n",
    "pd.read_html(page.content)[2]"
   ]
  },
  {
   "cell_type": "markdown",
   "metadata": {
    "slideshow": {
     "slide_type": "slide"
    }
   },
   "source": [
    "## Important practical tips on web scraping\n",
    "\n",
    "* Do not request too many times in a short period of time\n",
    "    * You can use `time.sleep()` and `random()` to prevent sending too many requests in a short period of time, and make it look \"less like a bot\". Example:"
   ]
  },
  {
   "cell_type": "code",
   "execution_count": 46,
   "metadata": {
    "scrolled": true
   },
   "outputs": [
    {
     "name": "stdout",
     "output_type": "stream",
     "text": [
      "ST101 Programming for Data Science\n",
      "ST115 Managing and Visualising Data\n",
      "ST207 Databases\n"
     ]
    }
   ],
   "source": [
    "import time\n",
    "import random\n",
    "for course_code in ['ST101', 'ST115', 'ST207']:\n",
    "    url = f'https://www.lse.ac.uk/resources/calendar2021-2022/courseGuides/ST/'\\\n",
    "        f'2021_{course_code}.htm'\n",
    "    r = requests.get(url)\n",
    "    soup = BeautifulSoup(r.content,'lxml')\n",
    "    print(course_code, soup.find('span', {'id': 'title'}).text.strip())\n",
    "    time.sleep(random.randint(1,5)) "
   ]
  },
  {
   "cell_type": "markdown",
   "metadata": {},
   "source": [
    "* Web scraping can be time consuming - spare enough time to collect the data"
   ]
  },
  {
   "cell_type": "markdown",
   "metadata": {
    "slideshow": {
     "slide_type": "slide"
    }
   },
   "source": [
    "## Important practical tips on web scraping (continue)\n",
    "\n",
    "* Web pages are not written with the intention for you to collect the data\n",
    "    * There is no guarantee structure of web pages\n",
    "        * For example, for the list of [Harry Potters characters on wikipedia page](https://en.wikipedia.org/wiki/List_of_Harry_Potter_characters), a quick glance of the list seems to suggest that the data is in the format of `[name] – [descriptive]` but there are some exceptions:\n",
    "    <center><img src=\"figs/harry_potter.png\" width=\"800\"/></center>   \n",
    "    * The structure of a web page can change as they like. For example, there is no guarantee that the title always have the attribute `id=\"title\"`. You may need to rewrite your code if they decide to change their html code\n",
    "* Use API if possible"
   ]
  },
  {
   "cell_type": "markdown",
   "metadata": {
    "slideshow": {
     "slide_type": "slide"
    }
   },
   "source": [
    "# API"
   ]
  },
  {
   "cell_type": "markdown",
   "metadata": {
    "slideshow": {
     "slide_type": "slide"
    }
   },
   "source": [
    "## API \n",
    "\n",
    "API (Application programming interface) is a set of rules and specifications that software programs can follow to communicate with each other. \n",
    "* It serves as an interface between different software programs and facilitates their interaction\n",
    "* How an API works:\n",
    "    * A client application initiates an API call to request information\n",
    "        * Request includes: request method, headers. etc\n",
    "    * If the request is valid, the API makes a call to the external program or web server\n",
    "    * The server sends a response to the API with the requested information\n",
    "    * The API transfers the data to the initial requesting application\n",
    "    \n",
    "Sound familiar?"
   ]
  },
  {
   "cell_type": "markdown",
   "metadata": {
    "slideshow": {
     "slide_type": "slide"
    }
   },
   "source": [
    "## API vs web scraping\n",
    "* Advantage of API Scraping:\n",
    "    * API calls are faster than web scraping\n",
    "    * Data from API is in more standard format\n",
    "    * Authorised way to access data\n",
    "* Limitations of API Scraping:\n",
    "    * Availability: not all websites have APIs\n",
    "    * Most APIs have limited usage policy\n",
    "        * Rate limit: number of API calls, a user can make within a given time period\n",
    "        * Can be different for different types of users (e.g. free and paid users)\n",
    "            * e.g. For normal developer account, users can only get back up to previous 7 day tweets\n",
    "            \n",
    "\n"
   ]
  },
  {
   "cell_type": "markdown",
   "metadata": {
    "slideshow": {
     "slide_type": "slide"
    }
   },
   "source": [
    "## Example 1: OpenWeather API\n",
    "\n",
    "OpenWeather provides API for users to retrieve weather data, including real time and historical weather.\n",
    "* See the whole list of data provided [here](https://openweathermap.org/price#weather)"
   ]
  },
  {
   "cell_type": "markdown",
   "metadata": {
    "slideshow": {
     "slide_type": "slide"
    }
   },
   "source": [
    "## How to use OpenWeather API\n",
    "\n",
    "* Before using it, please first open an account [here](https://home.openweathermap.org/users/sign_up)\n",
    "* Then at the top right, click your account -> My API keys: <center><img src=\"figs/weather_api_key_1.png\" width=\"500\"/></center>\n",
    "* Copy your API key from the page: <center><img src=\"figs/weather_api_key_2.png\" width=\"500\"/></center>"
   ]
  },
  {
   "cell_type": "markdown",
   "metadata": {
    "slideshow": {
     "slide_type": "slide"
    }
   },
   "source": [
    "## API Keys\n",
    "\n",
    "\n",
    "To prevent unauthorised use of API, API calls are restricted to those that provide proper authentication credentials, and these credentials are in the form of an _API key_.\n",
    "* API key: a unique identifier that authenticates and associates with a user or an app\n",
    "    * For now, you can consider API key is your log in details. Just like your other log in details, you should NOT share and expose it to others!"
   ]
  },
  {
   "cell_type": "markdown",
   "metadata": {
    "slideshow": {
     "slide_type": "slide"
    }
   },
   "source": [
    "## OpenWeather API: Get the current weather information\n",
    "\n",
    "Follow the instruction from the [official document](https://openweathermap.org/current#name):\n",
    "\n",
    "<center><img src=\"figs/weather_api_current.png\" width=\"300\"/></center>"
   ]
  },
  {
   "cell_type": "markdown",
   "metadata": {
    "slideshow": {
     "slide_type": "slide"
    }
   },
   "source": [
    "## Get the current weather information (continue)\n",
    "\n",
    "Get the current weather of London using the given API call:"
   ]
  },
  {
   "cell_type": "code",
   "execution_count": 58,
   "metadata": {
    "scrolled": true
   },
   "outputs": [
    {
     "data": {
      "text/plain": [
       "<Response [401]>"
      ]
     },
     "execution_count": 58,
     "metadata": {},
     "output_type": "execute_result"
    }
   ],
   "source": [
    "# I stored my key here to hide it from you\n",
    "with open('keys.json') as f:\n",
    "    keys = json.load(f)\n",
    "# But for now you can just change the following line and put your api key \n",
    "# at the right hand side\n",
    "api_key = keys['open_weather']['api_key'] \n",
    "\n",
    "city_name = 'London'\n",
    "url = f'http://api.openweathermap.org/data/2.5/weather?q={city_name}&appid={api_key}'\n",
    "r = requests.get(url)\n",
    "r"
   ]
  },
  {
   "cell_type": "code",
   "execution_count": 49,
   "metadata": {
    "scrolled": true
   },
   "outputs": [
    {
     "data": {
      "text/plain": [
       "'{\"coord\":{\"lon\":-0.1257,\"lat\":51.5085},\"weather\":[{\"id\":804,\"main\":\"Clouds\",\"description\":\"overcast clouds\",\"icon\":\"04d\"}],\"base\":\"stations\",\"main\":{\"temp\":282.72,\"feels_like\":281.42,\"temp_min\":280.64,\"temp_max\":284.46,\"pressure\":1018,\"humidity\":79},\"visibility\":10000,\"wind\":{\"speed\":2.57,\"deg\":140},\"clouds\":{\"all\":100},\"dt\":1646900275,\"sys\":{\"type\":2,\"id\":2019646,\"country\":\"GB\",\"sunrise\":1646893583,\"sunset\":1646934929},\"timezone\":0,\"id\":2643743,\"name\":\"London\",\"cod\":200}'"
      ]
     },
     "execution_count": 49,
     "metadata": {},
     "output_type": "execute_result"
    }
   ],
   "source": [
    "r.text"
   ]
  },
  {
   "cell_type": "markdown",
   "metadata": {
    "slideshow": {
     "slide_type": "slide"
    }
   },
   "source": [
    "## Get the current weather information (continue)"
   ]
  },
  {
   "cell_type": "code",
   "execution_count": 50,
   "metadata": {},
   "outputs": [],
   "source": [
    "weather = json.loads(r.text)"
   ]
  },
  {
   "cell_type": "code",
   "execution_count": 51,
   "metadata": {},
   "outputs": [
    {
     "data": {
      "text/plain": [
       "282.72"
      ]
     },
     "execution_count": 51,
     "metadata": {},
     "output_type": "execute_result"
    }
   ],
   "source": [
    "weather['main']['temp']"
   ]
  },
  {
   "cell_type": "markdown",
   "metadata": {},
   "source": [
    "Why is the number so high?"
   ]
  },
  {
   "cell_type": "markdown",
   "metadata": {
    "slideshow": {
     "slide_type": "slide"
    }
   },
   "source": [
    "## Get the current weather information (continue)\n",
    "\n",
    "Provide additional argument to have the right unit of weather details:"
   ]
  },
  {
   "cell_type": "code",
   "execution_count": 52,
   "metadata": {},
   "outputs": [
    {
     "data": {
      "text/plain": [
       "<Response [200]>"
      ]
     },
     "execution_count": 52,
     "metadata": {},
     "output_type": "execute_result"
    }
   ],
   "source": [
    "url = f'http://api.openweathermap.org/data/2.5/weather'\\\n",
    "    f'?q={city_name}&appid={api_key}&units=metric'\n",
    "r = requests.get(url)\n",
    "r"
   ]
  },
  {
   "cell_type": "code",
   "execution_count": 53,
   "metadata": {},
   "outputs": [
    {
     "data": {
      "text/plain": [
       "9.56"
      ]
     },
     "execution_count": 53,
     "metadata": {},
     "output_type": "execute_result"
    }
   ],
   "source": [
    "weather = json.loads(r.text)\n",
    "weather['main']['temp']"
   ]
  },
  {
   "cell_type": "markdown",
   "metadata": {},
   "source": [
    "Lesson: Always read the official documentation - do not assume it will do what you _think_ it will do."
   ]
  },
  {
   "cell_type": "markdown",
   "metadata": {
    "slideshow": {
     "slide_type": "slide"
    }
   },
   "source": [
    "## Recall: URL\n",
    "\n",
    "* A typical URL could have the form: `<scheme>://<host>:<port>/<path><;parameters><?query><#fragment>`\n",
    "    * Scheme (e.g., http, https)\n",
    "    * Location of the server, e.g. a hostname or IP address\n",
    "    * [optional] port: communication endpoint\n",
    "    * Path to the resource on the server\n",
    "    * [optional] parameters (;something), query string (?something), fragment identifier (#something)"
   ]
  },
  {
   "cell_type": "markdown",
   "metadata": {
    "slideshow": {
     "slide_type": "slide"
    }
   },
   "source": [
    "## More on API\n",
    "\n",
    "* Providers often decides the API, and clients have to read the documentations to know how to use their API\n",
    "* Today we have only provided a very brief introduction and simple demonstration of the use of API. We will continue our discussion and demostration of API in the workshop"
   ]
  },
  {
   "cell_type": "markdown",
   "metadata": {
    "slideshow": {
     "slide_type": "slide"
    }
   },
   "source": [
    "## Summary\n",
    "\n",
    "Collecting data from the Internet.\n",
    "\n",
    "* Web scraping \n",
    "    * Examples\n",
    "    * Things to be aware of when collecting data via web scraping\n"
   ]
  },
  {
   "cell_type": "markdown",
   "metadata": {
    "slideshow": {
     "slide_type": "slide"
    }
   },
   "source": [
    "## Preview of workshop\n",
    "\n",
    "Get data using API."
   ]
  },
  {
   "cell_type": "markdown",
   "metadata": {
    "slideshow": {
     "slide_type": "slide"
    }
   },
   "source": [
    "## Further readings\n",
    "\n",
    "* Python for Data Analysis Ch 6.1 on XML and HTML\n",
    "* [BeautifulSoup quick start](https://www.crummy.com/software/BeautifulSoup/bs4/doc/#quick-start)\n",
    "* [Requests quick start](https://docs.python-requests.org/en/latest/user/quickstart/#make-a-request)\n",
    "* APIs and Web Scraping in Python from [DataQuest](https://app.dataquest.io/course/apis-and-scraping)"
   ]
  },
  {
   "cell_type": "code",
   "execution_count": 47,
   "metadata": {},
   "outputs": [
    {
     "data": {
      "text/plain": [
       "(200, 'OK')"
      ]
     },
     "execution_count": 47,
     "metadata": {},
     "output_type": "execute_result"
    }
   ],
   "source": [
    "import requests\n",
    "from bs4 import BeautifulSoup \n",
    "\n",
    "url = 'https://en.wikipedia.org/wiki/Elizabeth_Maitland,_Duchess_of_Lauderdale'\n",
    "r = requests.get(url)\n",
    "soup = BeautifulSoup(r.text, 'html.parser')"
   ]
  },
  {
   "cell_type": "code",
   "execution_count": 89,
   "metadata": {},
   "outputs": [
    {
     "data": {
      "text/plain": [
       "200"
      ]
     },
     "execution_count": 89,
     "metadata": {},
     "output_type": "execute_result"
    }
   ],
   "source": [
    "r.status_code"
   ]
  },
  {
   "cell_type": "code",
   "execution_count": 57,
   "metadata": {},
   "outputs": [],
   "source": [
    "soup = BeautifulSoup(r.text, 'html.parser')"
   ]
  },
  {
   "cell_type": "code",
   "execution_count": 59,
   "metadata": {
    "scrolled": true
   },
   "outputs": [
    {
     "name": "stdout",
     "output_type": "stream",
     "text": [
      "Elizabeth Maitland, Duchess of Lauderdale\n"
     ]
    }
   ],
   "source": [
    "title = soup.find('h1', {'class': 'firstHeading'}).text.strip()\n",
    "print(title)"
   ]
  },
  {
   "cell_type": "code",
   "execution_count": 95,
   "metadata": {},
   "outputs": [
    {
     "name": "stdout",
     "output_type": "stream",
     "text": [
      "<h2 class=\"vector-pinnable-header-label\">Contents</h2>\n",
      "Early life\n"
     ]
    }
   ],
   "source": [
    "h2 = soup.find('h2')\n",
    "print(h2)\n",
    "print(h2.find_next('h2').text)"
   ]
  },
  {
   "cell_type": "code",
   "execution_count": 86,
   "metadata": {},
   "outputs": [
    {
     "data": {
      "text/plain": [
       "<div class=\"vector-header-start\">\n",
       "<nav aria-label=\"Site\" class=\"vector-main-menu-landmark\" role=\"navigation\">\n",
       "<div class=\"vector-dropdown vector-main-menu-dropdown vector-button-flush-left vector-button-flush-right\" id=\"vector-main-menu-dropdown\">\n",
       "<input aria-haspopup=\"true\" aria-label=\"Main menu\" class=\"vector-dropdown-checkbox\" data-event-name=\"ui.dropdown-vector-main-menu-dropdown\" id=\"vector-main-menu-dropdown-checkbox\" role=\"button\" type=\"checkbox\"/>\n",
       "<label aria-hidden=\"true\" class=\"vector-dropdown-label cdx-button cdx-button--fake-button cdx-button--fake-button--enabled cdx-button--weight-quiet cdx-button--icon-only\" for=\"vector-main-menu-dropdown-checkbox\" id=\"vector-main-menu-dropdown-label\"><span class=\"vector-icon mw-ui-icon-menu mw-ui-icon-wikimedia-menu\"></span>\n",
       "<span class=\"vector-dropdown-label-text\">Main menu</span>\n",
       "</label>\n",
       "<div class=\"vector-dropdown-content\">\n",
       "<div class=\"vector-unpinned-container\" id=\"vector-main-menu-unpinned-container\">\n",
       "<div class=\"vector-main-menu vector-pinnable-element\" id=\"vector-main-menu\">\n",
       "<div class=\"vector-pinnable-header vector-main-menu-pinnable-header vector-pinnable-header-unpinned\" data-feature-name=\"main-menu-pinned\" data-pinnable-element-id=\"vector-main-menu\" data-pinned-container-id=\"vector-main-menu-pinned-container\" data-unpinned-container-id=\"vector-main-menu-unpinned-container\">\n",
       "<div class=\"vector-pinnable-header-label\">Main menu</div>\n",
       "<button class=\"vector-pinnable-header-toggle-button vector-pinnable-header-pin-button\" data-event-name=\"pinnable-header.vector-main-menu.pin\">move to sidebar</button>\n",
       "<button class=\"vector-pinnable-header-toggle-button vector-pinnable-header-unpin-button\" data-event-name=\"pinnable-header.vector-main-menu.unpin\">hide</button>\n",
       "</div>\n",
       "<div class=\"vector-menu mw-portlet mw-portlet-navigation\" id=\"p-navigation\">\n",
       "<div class=\"vector-menu-heading\">\n",
       "\t\tNavigation\n",
       "\t</div>\n",
       "<div class=\"vector-menu-content\">\n",
       "<ul class=\"vector-menu-content-list\">\n",
       "<li class=\"mw-list-item\" id=\"n-mainpage-description\"><a accesskey=\"z\" href=\"/wiki/Main_Page\" title=\"Visit the main page [z]\"><span>Main page</span></a></li><li class=\"mw-list-item\" id=\"n-contents\"><a href=\"/wiki/Wikipedia:Contents\" title=\"Guides to browsing Wikipedia\"><span>Contents</span></a></li><li class=\"mw-list-item\" id=\"n-currentevents\"><a href=\"/wiki/Portal:Current_events\" title=\"Articles related to current events\"><span>Current events</span></a></li><li class=\"mw-list-item\" id=\"n-randompage\"><a accesskey=\"x\" href=\"/wiki/Special:Random\" title=\"Visit a randomly selected article [x]\"><span>Random article</span></a></li><li class=\"mw-list-item\" id=\"n-aboutsite\"><a href=\"/wiki/Wikipedia:About\" title=\"Learn about Wikipedia and how it works\"><span>About Wikipedia</span></a></li><li class=\"mw-list-item\" id=\"n-contactpage\"><a href=\"//en.wikipedia.org/wiki/Wikipedia:Contact_us\" title=\"How to contact Wikipedia\"><span>Contact us</span></a></li><li class=\"mw-list-item\" id=\"n-sitesupport\"><a href=\"https://donate.wikimedia.org/wiki/Special:FundraiserRedirector?utm_source=donate&amp;utm_medium=sidebar&amp;utm_campaign=C13_en.wikipedia.org&amp;uselang=en\" title=\"Support us by donating to the Wikimedia Foundation\"><span>Donate</span></a></li>\n",
       "</ul>\n",
       "</div>\n",
       "</div>\n",
       "<div class=\"vector-menu mw-portlet mw-portlet-interaction\" id=\"p-interaction\">\n",
       "<div class=\"vector-menu-heading\">\n",
       "\t\tContribute\n",
       "\t</div>\n",
       "<div class=\"vector-menu-content\">\n",
       "<ul class=\"vector-menu-content-list\">\n",
       "<li class=\"mw-list-item\" id=\"n-help\"><a href=\"/wiki/Help:Contents\" title=\"Guidance on how to use and edit Wikipedia\"><span>Help</span></a></li><li class=\"mw-list-item\" id=\"n-introduction\"><a href=\"/wiki/Help:Introduction\" title=\"Learn how to edit Wikipedia\"><span>Learn to edit</span></a></li><li class=\"mw-list-item\" id=\"n-portal\"><a href=\"/wiki/Wikipedia:Community_portal\" title=\"The hub for editors\"><span>Community portal</span></a></li><li class=\"mw-list-item\" id=\"n-recentchanges\"><a accesskey=\"r\" href=\"/wiki/Special:RecentChanges\" title=\"A list of recent changes to Wikipedia [r]\"><span>Recent changes</span></a></li><li class=\"mw-list-item\" id=\"n-upload\"><a href=\"/wiki/Wikipedia:File_upload_wizard\" title=\"Add images or other media for use on Wikipedia\"><span>Upload file</span></a></li>\n",
       "</ul>\n",
       "</div>\n",
       "</div>\n",
       "<div class=\"vector-main-menu-action vector-main-menu-action-lang-alert\">\n",
       "<div class=\"vector-main-menu-action-item\">\n",
       "<div class=\"vector-main-menu-action-heading vector-menu-heading\">Languages</div>\n",
       "<div class=\"vector-main-menu-action-content vector-menu-content\">\n",
       "<div class=\"mw-message-box cdx-message cdx-message--block mw-message-box-notice cdx-message--notice vector-language-sidebar-alert\"><span class=\"cdx-message__icon\"></span><div class=\"cdx-message__content\">Language links are at the top of the page.</div></div>\n",
       "</div>\n",
       "</div>\n",
       "</div>\n",
       "</div>\n",
       "</div>\n",
       "</div>\n",
       "</div>\n",
       "</nav>\n",
       "<a class=\"mw-logo\" href=\"/wiki/Main_Page\">\n",
       "<img alt=\"\" aria-hidden=\"true\" class=\"mw-logo-icon\" height=\"50\" src=\"/static/images/icons/wikipedia.png\" width=\"50\"/>\n",
       "<span class=\"mw-logo-container\">\n",
       "<img alt=\"Wikipedia\" class=\"mw-logo-wordmark\" src=\"/static/images/mobile/copyright/wikipedia-wordmark-en.svg\" style=\"width: 7.5em; height: 1.125em;\"/>\n",
       "<img alt=\"The Free Encyclopedia\" class=\"mw-logo-tagline\" height=\"13\" src=\"/static/images/mobile/copyright/wikipedia-tagline-en.svg\" style=\"width: 7.3125em; height: 0.8125em;\" width=\"117\"/>\n",
       "</span>\n",
       "</a>\n",
       "</div>"
      ]
     },
     "execution_count": 86,
     "metadata": {},
     "output_type": "execute_result"
    }
   ],
   "source": [
    "section = soup.find('div')"
   ]
  },
  {
   "cell_type": "code",
   "execution_count": 85,
   "metadata": {},
   "outputs": [
    {
     "name": "stdout",
     "output_type": "stream",
     "text": [
      "\n",
      "^ Lauderdale acknowledged Elizabeth's intervention in his will dated 13 July 1670, bequeathing her \"...the summe of fifteen hundred pounds stirlin in gold...as a token of my gratitude for the paines and charges she was at in preserving my life when I was a prisoner in the year 1651...\"[22] In 1670, £1500 covered the annual wages of 59 skilled tradesmen.[23]\n",
      "\n",
      "^ Her code name was \"Mrs. Grey\" and her letters were later intercepted and monitored by the Commonwealth's secret service.[24]\n",
      "\n",
      "^ In 1660, £800 was equivalent to 31 years' wages of a skilled tradesman.[30]\n",
      "\n",
      "^ Shortly after his brother's death, Tweedale was convicted of debasing the coinage while serving as Master-General of the Scottish Mint and was subjected to a substantial fine.[47]\n",
      "\n",
      "^ In late 1688, Elizabeth offered James II sanctuary at Ham House as he fled the advance of William of Orange – an offer declined on the grounds of lack of comfort.[52]\n",
      "\n",
      "\n"
     ]
    }
   ],
   "source": [
    "# get reading list\n",
    "print(soup.find(text='Sources').find_next('ol').text)"
   ]
  },
  {
   "cell_type": "code",
   "execution_count": null,
   "metadata": {},
   "outputs": [],
   "source": []
  }
 ],
 "metadata": {
  "celltoolbar": "Slideshow",
  "jupytext": {
   "cell_metadata_filter": "eval,language,-all",
   "main_language": "python",
   "notebook_metadata_filter": "-all"
  },
  "kernelspec": {
   "display_name": "Python 3 (ipykernel)",
   "language": "python",
   "name": "python3"
  },
  "language_info": {
   "codemirror_mode": {
    "name": "ipython",
    "version": 3
   },
   "file_extension": ".py",
   "mimetype": "text/x-python",
   "name": "python",
   "nbconvert_exporter": "python",
   "pygments_lexer": "ipython3",
   "version": "3.9.12"
  }
 },
 "nbformat": 4,
 "nbformat_minor": 4
}
