{
 "cells": [
  {
   "cell_type": "code",
   "execution_count": null,
   "id": "4e3e6d2d",
   "metadata": {},
   "outputs": [],
   "source": [
    "# https://www.kaggle.com/datasets/yasserh/titanic-dataset/data"
   ]
  },
  {
   "cell_type": "markdown",
   "id": "d14194f9",
   "metadata": {},
   "source": [
    "### Import necessary libraries"
   ]
  },
  {
   "cell_type": "code",
   "execution_count": 5,
   "id": "bc80c8bf",
   "metadata": {},
   "outputs": [],
   "source": [
    "# write your code here\n",
    "import pandas as pd"
   ]
  },
  {
   "cell_type": "markdown",
   "id": "a5c02437",
   "metadata": {},
   "source": [
    "### Read the dataset"
   ]
  },
  {
   "cell_type": "code",
<<<<<<< HEAD
   "execution_count": 29,
=======
   "execution_count": 23,
>>>>>>> edd0ef65c9588b283152b9258c0d28cfa6f96e50
   "id": "7834d8c1",
   "metadata": {
    "scrolled": true
   },
   "outputs": [],
   "source": [
    "# use pd.read_csv()\n",
    "df = pd.read_csv(\"Titanic.csv\")"
   ]
  },
  {
   "cell_type": "markdown",
   "id": "34f1586f",
   "metadata": {},
   "source": [
    "### Have a look at the dataset"
   ]
  },
  {
   "cell_type": "code",
   "execution_count": 30,
   "id": "8a1690ea",
   "metadata": {},
   "outputs": [
    {
     "data": {
      "text/html": [
       "<div>\n",
       "<style scoped>\n",
       "    .dataframe tbody tr th:only-of-type {\n",
       "        vertical-align: middle;\n",
       "    }\n",
       "\n",
       "    .dataframe tbody tr th {\n",
       "        vertical-align: top;\n",
       "    }\n",
       "\n",
       "    .dataframe thead th {\n",
       "        text-align: right;\n",
       "    }\n",
       "</style>\n",
       "<table border=\"1\" class=\"dataframe\">\n",
       "  <thead>\n",
       "    <tr style=\"text-align: right;\">\n",
       "      <th></th>\n",
       "      <th>PassengerId</th>\n",
       "      <th>Survived</th>\n",
       "      <th>Pclass</th>\n",
       "      <th>Age</th>\n",
       "      <th>SibSp</th>\n",
       "      <th>Parch</th>\n",
       "      <th>Fare</th>\n",
       "    </tr>\n",
       "  </thead>\n",
       "  <tbody>\n",
       "    <tr>\n",
       "      <th>count</th>\n",
       "      <td>891.000000</td>\n",
       "      <td>891.000000</td>\n",
       "      <td>891.000000</td>\n",
       "      <td>714.000000</td>\n",
       "      <td>891.000000</td>\n",
       "      <td>891.000000</td>\n",
       "      <td>891.000000</td>\n",
       "    </tr>\n",
       "    <tr>\n",
       "      <th>mean</th>\n",
       "      <td>446.000000</td>\n",
       "      <td>0.383838</td>\n",
       "      <td>2.308642</td>\n",
       "      <td>29.699118</td>\n",
       "      <td>0.523008</td>\n",
       "      <td>0.381594</td>\n",
       "      <td>32.204208</td>\n",
       "    </tr>\n",
       "    <tr>\n",
       "      <th>std</th>\n",
       "      <td>257.353842</td>\n",
       "      <td>0.486592</td>\n",
       "      <td>0.836071</td>\n",
       "      <td>14.526497</td>\n",
       "      <td>1.102743</td>\n",
       "      <td>0.806057</td>\n",
       "      <td>49.693429</td>\n",
       "    </tr>\n",
       "    <tr>\n",
       "      <th>min</th>\n",
       "      <td>1.000000</td>\n",
       "      <td>0.000000</td>\n",
       "      <td>1.000000</td>\n",
       "      <td>0.420000</td>\n",
       "      <td>0.000000</td>\n",
       "      <td>0.000000</td>\n",
       "      <td>0.000000</td>\n",
       "    </tr>\n",
       "    <tr>\n",
       "      <th>25%</th>\n",
       "      <td>223.500000</td>\n",
       "      <td>0.000000</td>\n",
       "      <td>2.000000</td>\n",
       "      <td>20.125000</td>\n",
       "      <td>0.000000</td>\n",
       "      <td>0.000000</td>\n",
       "      <td>7.910400</td>\n",
       "    </tr>\n",
       "    <tr>\n",
       "      <th>50%</th>\n",
       "      <td>446.000000</td>\n",
       "      <td>0.000000</td>\n",
       "      <td>3.000000</td>\n",
       "      <td>28.000000</td>\n",
       "      <td>0.000000</td>\n",
       "      <td>0.000000</td>\n",
       "      <td>14.454200</td>\n",
       "    </tr>\n",
       "    <tr>\n",
       "      <th>75%</th>\n",
       "      <td>668.500000</td>\n",
       "      <td>1.000000</td>\n",
       "      <td>3.000000</td>\n",
       "      <td>38.000000</td>\n",
       "      <td>1.000000</td>\n",
       "      <td>0.000000</td>\n",
       "      <td>31.000000</td>\n",
       "    </tr>\n",
       "    <tr>\n",
       "      <th>max</th>\n",
       "      <td>891.000000</td>\n",
       "      <td>1.000000</td>\n",
       "      <td>3.000000</td>\n",
       "      <td>80.000000</td>\n",
       "      <td>8.000000</td>\n",
       "      <td>6.000000</td>\n",
       "      <td>512.329200</td>\n",
       "    </tr>\n",
       "  </tbody>\n",
       "</table>\n",
       "</div>"
      ],
      "text/plain": [
       "       PassengerId    Survived      Pclass         Age       SibSp  \\\n",
       "count   891.000000  891.000000  891.000000  714.000000  891.000000   \n",
       "mean    446.000000    0.383838    2.308642   29.699118    0.523008   \n",
       "std     257.353842    0.486592    0.836071   14.526497    1.102743   \n",
       "min       1.000000    0.000000    1.000000    0.420000    0.000000   \n",
       "25%     223.500000    0.000000    2.000000   20.125000    0.000000   \n",
       "50%     446.000000    0.000000    3.000000   28.000000    0.000000   \n",
       "75%     668.500000    1.000000    3.000000   38.000000    1.000000   \n",
       "max     891.000000    1.000000    3.000000   80.000000    8.000000   \n",
       "\n",
       "            Parch        Fare  \n",
       "count  891.000000  891.000000  \n",
       "mean     0.381594   32.204208  \n",
       "std      0.806057   49.693429  \n",
       "min      0.000000    0.000000  \n",
       "25%      0.000000    7.910400  \n",
       "50%      0.000000   14.454200  \n",
       "75%      0.000000   31.000000  \n",
       "max      6.000000  512.329200  "
      ]
     },
     "execution_count": 30,
     "metadata": {},
     "output_type": "execute_result"
    }
   ],
   "source": [
    "# use head(), describe(), info(), isnull().sum()\n",
    "df.describe()"
   ]
  },
  {
   "cell_type": "code",
   "execution_count": 8,
   "id": "98871077",
   "metadata": {},
   "outputs": [
    {
     "name": "stdout",
     "output_type": "stream",
     "text": [
      "<class 'pandas.core.frame.DataFrame'>\n",
      "RangeIndex: 891 entries, 0 to 890\n",
      "Data columns (total 12 columns):\n",
      " #   Column       Non-Null Count  Dtype  \n",
      "---  ------       --------------  -----  \n",
      " 0   PassengerId  891 non-null    int64  \n",
      " 1   Survived     891 non-null    int64  \n",
      " 2   Pclass       891 non-null    int64  \n",
      " 3   Name         891 non-null    object \n",
      " 4   Sex          891 non-null    object \n",
      " 5   Age          714 non-null    float64\n",
      " 6   SibSp        891 non-null    int64  \n",
      " 7   Parch        891 non-null    int64  \n",
      " 8   Ticket       891 non-null    object \n",
      " 9   Fare         891 non-null    float64\n",
      " 10  Cabin        204 non-null    object \n",
      " 11  Embarked     889 non-null    object \n",
      "dtypes: float64(2), int64(5), object(5)\n",
      "memory usage: 83.7+ KB\n"
     ]
    }
   ],
   "source": [
    "df.info()"
   ]
  },
  {
   "cell_type": "code",
   "execution_count": 24,
   "id": "4fd5d7d8",
   "metadata": {},
   "outputs": [
    {
     "data": {
      "text/plain": [
       "Survived    0\n",
       "Pclass      0\n",
       "Sex         0\n",
       "Age         0\n",
       "SibSp       0\n",
       "Parch       0\n",
       "Fare        0\n",
       "Embarked    2\n",
       "dtype: int64"
      ]
     },
     "execution_count": 24,
     "metadata": {},
     "output_type": "execute_result"
    }
   ],
   "source": [
    "df.isnull().sum()"
   ]
  },
  {
   "cell_type": "code",
   "execution_count": 4,
   "id": "2101eb66-e8da-4fa5-9cf5-124276b2e9cb",
   "metadata": {},
   "outputs": [
    {
     "data": {
      "text/html": [
       "<div>\n",
       "<style scoped>\n",
       "    .dataframe tbody tr th:only-of-type {\n",
       "        vertical-align: middle;\n",
       "    }\n",
       "\n",
       "    .dataframe tbody tr th {\n",
       "        vertical-align: top;\n",
       "    }\n",
       "\n",
       "    .dataframe thead th {\n",
       "        text-align: right;\n",
       "    }\n",
       "</style>\n",
       "<table border=\"1\" class=\"dataframe\">\n",
       "  <thead>\n",
       "    <tr style=\"text-align: right;\">\n",
       "      <th></th>\n",
       "      <th>PassengerId</th>\n",
       "      <th>Survived</th>\n",
       "      <th>Pclass</th>\n",
       "      <th>Name</th>\n",
       "      <th>Sex</th>\n",
       "      <th>Age</th>\n",
       "      <th>SibSp</th>\n",
       "      <th>Parch</th>\n",
       "      <th>Ticket</th>\n",
       "      <th>Fare</th>\n",
       "      <th>Cabin</th>\n",
       "      <th>Embarked</th>\n",
       "    </tr>\n",
       "  </thead>\n",
       "  <tbody>\n",
       "    <tr>\n",
       "      <th>0</th>\n",
       "      <td>1</td>\n",
       "      <td>0</td>\n",
       "      <td>3</td>\n",
       "      <td>Braund, Mr. Owen Harris</td>\n",
       "      <td>male</td>\n",
       "      <td>22.0</td>\n",
       "      <td>1</td>\n",
       "      <td>0</td>\n",
       "      <td>A/5 21171</td>\n",
       "      <td>7.2500</td>\n",
       "      <td>NaN</td>\n",
       "      <td>S</td>\n",
       "    </tr>\n",
       "    <tr>\n",
       "      <th>1</th>\n",
       "      <td>2</td>\n",
       "      <td>1</td>\n",
       "      <td>1</td>\n",
       "      <td>Cumings, Mrs. John Bradley (Florence Briggs Th...</td>\n",
       "      <td>female</td>\n",
       "      <td>38.0</td>\n",
       "      <td>1</td>\n",
       "      <td>0</td>\n",
       "      <td>PC 17599</td>\n",
       "      <td>71.2833</td>\n",
       "      <td>C85</td>\n",
       "      <td>C</td>\n",
       "    </tr>\n",
       "    <tr>\n",
       "      <th>2</th>\n",
       "      <td>3</td>\n",
       "      <td>1</td>\n",
       "      <td>3</td>\n",
       "      <td>Heikkinen, Miss. Laina</td>\n",
       "      <td>female</td>\n",
       "      <td>26.0</td>\n",
       "      <td>0</td>\n",
       "      <td>0</td>\n",
       "      <td>STON/O2. 3101282</td>\n",
       "      <td>7.9250</td>\n",
       "      <td>NaN</td>\n",
       "      <td>S</td>\n",
       "    </tr>\n",
       "    <tr>\n",
       "      <th>3</th>\n",
       "      <td>4</td>\n",
       "      <td>1</td>\n",
       "      <td>1</td>\n",
       "      <td>Futrelle, Mrs. Jacques Heath (Lily May Peel)</td>\n",
       "      <td>female</td>\n",
       "      <td>35.0</td>\n",
       "      <td>1</td>\n",
       "      <td>0</td>\n",
       "      <td>113803</td>\n",
       "      <td>53.1000</td>\n",
       "      <td>C123</td>\n",
       "      <td>S</td>\n",
       "    </tr>\n",
       "    <tr>\n",
       "      <th>4</th>\n",
       "      <td>5</td>\n",
       "      <td>0</td>\n",
       "      <td>3</td>\n",
       "      <td>Allen, Mr. William Henry</td>\n",
       "      <td>male</td>\n",
       "      <td>35.0</td>\n",
       "      <td>0</td>\n",
       "      <td>0</td>\n",
       "      <td>373450</td>\n",
       "      <td>8.0500</td>\n",
       "      <td>NaN</td>\n",
       "      <td>S</td>\n",
       "    </tr>\n",
       "  </tbody>\n",
       "</table>\n",
       "</div>"
      ],
      "text/plain": [
       "   PassengerId  Survived  Pclass  \\\n",
       "0            1         0       3   \n",
       "1            2         1       1   \n",
       "2            3         1       3   \n",
       "3            4         1       1   \n",
       "4            5         0       3   \n",
       "\n",
       "                                                Name     Sex   Age  SibSp  \\\n",
       "0                            Braund, Mr. Owen Harris    male  22.0      1   \n",
       "1  Cumings, Mrs. John Bradley (Florence Briggs Th...  female  38.0      1   \n",
       "2                             Heikkinen, Miss. Laina  female  26.0      0   \n",
       "3       Futrelle, Mrs. Jacques Heath (Lily May Peel)  female  35.0      1   \n",
       "4                           Allen, Mr. William Henry    male  35.0      0   \n",
       "\n",
       "   Parch            Ticket     Fare Cabin Embarked  \n",
       "0      0         A/5 21171   7.2500   NaN        S  \n",
       "1      0          PC 17599  71.2833   C85        C  \n",
       "2      0  STON/O2. 3101282   7.9250   NaN        S  \n",
       "3      0            113803  53.1000  C123        S  \n",
       "4      0            373450   8.0500   NaN        S  "
      ]
     },
     "execution_count": 4,
     "metadata": {},
     "output_type": "execute_result"
    }
   ],
   "source": [
    "df.head()"
   ]
  },
  {
   "cell_type": "code",
   "execution_count": 5,
   "id": "d9c00b5f-f570-4a26-9598-7fa9abfe9296",
   "metadata": {},
   "outputs": [
    {
     "data": {
      "text/html": [
       "<div>\n",
       "<style scoped>\n",
       "    .dataframe tbody tr th:only-of-type {\n",
       "        vertical-align: middle;\n",
       "    }\n",
       "\n",
       "    .dataframe tbody tr th {\n",
       "        vertical-align: top;\n",
       "    }\n",
       "\n",
       "    .dataframe thead th {\n",
       "        text-align: right;\n",
       "    }\n",
       "</style>\n",
       "<table border=\"1\" class=\"dataframe\">\n",
       "  <thead>\n",
       "    <tr style=\"text-align: right;\">\n",
       "      <th></th>\n",
       "      <th>PassengerId</th>\n",
       "      <th>Survived</th>\n",
       "      <th>Pclass</th>\n",
       "      <th>Age</th>\n",
       "      <th>SibSp</th>\n",
       "      <th>Parch</th>\n",
       "      <th>Fare</th>\n",
       "    </tr>\n",
       "  </thead>\n",
       "  <tbody>\n",
       "    <tr>\n",
       "      <th>count</th>\n",
       "      <td>891.000000</td>\n",
       "      <td>891.000000</td>\n",
       "      <td>891.000000</td>\n",
       "      <td>714.000000</td>\n",
       "      <td>891.000000</td>\n",
       "      <td>891.000000</td>\n",
       "      <td>891.000000</td>\n",
       "    </tr>\n",
       "    <tr>\n",
       "      <th>mean</th>\n",
       "      <td>446.000000</td>\n",
       "      <td>0.383838</td>\n",
       "      <td>2.308642</td>\n",
       "      <td>29.699118</td>\n",
       "      <td>0.523008</td>\n",
       "      <td>0.381594</td>\n",
       "      <td>32.204208</td>\n",
       "    </tr>\n",
       "    <tr>\n",
       "      <th>std</th>\n",
       "      <td>257.353842</td>\n",
       "      <td>0.486592</td>\n",
       "      <td>0.836071</td>\n",
       "      <td>14.526497</td>\n",
       "      <td>1.102743</td>\n",
       "      <td>0.806057</td>\n",
       "      <td>49.693429</td>\n",
       "    </tr>\n",
       "    <tr>\n",
       "      <th>min</th>\n",
       "      <td>1.000000</td>\n",
       "      <td>0.000000</td>\n",
       "      <td>1.000000</td>\n",
       "      <td>0.420000</td>\n",
       "      <td>0.000000</td>\n",
       "      <td>0.000000</td>\n",
       "      <td>0.000000</td>\n",
       "    </tr>\n",
       "    <tr>\n",
       "      <th>25%</th>\n",
       "      <td>223.500000</td>\n",
       "      <td>0.000000</td>\n",
       "      <td>2.000000</td>\n",
       "      <td>20.125000</td>\n",
       "      <td>0.000000</td>\n",
       "      <td>0.000000</td>\n",
       "      <td>7.910400</td>\n",
       "    </tr>\n",
       "    <tr>\n",
       "      <th>50%</th>\n",
       "      <td>446.000000</td>\n",
       "      <td>0.000000</td>\n",
       "      <td>3.000000</td>\n",
       "      <td>28.000000</td>\n",
       "      <td>0.000000</td>\n",
       "      <td>0.000000</td>\n",
       "      <td>14.454200</td>\n",
       "    </tr>\n",
       "    <tr>\n",
       "      <th>75%</th>\n",
       "      <td>668.500000</td>\n",
       "      <td>1.000000</td>\n",
       "      <td>3.000000</td>\n",
       "      <td>38.000000</td>\n",
       "      <td>1.000000</td>\n",
       "      <td>0.000000</td>\n",
       "      <td>31.000000</td>\n",
       "    </tr>\n",
       "    <tr>\n",
       "      <th>max</th>\n",
       "      <td>891.000000</td>\n",
       "      <td>1.000000</td>\n",
       "      <td>3.000000</td>\n",
       "      <td>80.000000</td>\n",
       "      <td>8.000000</td>\n",
       "      <td>6.000000</td>\n",
       "      <td>512.329200</td>\n",
       "    </tr>\n",
       "  </tbody>\n",
       "</table>\n",
       "</div>"
      ],
      "text/plain": [
       "       PassengerId    Survived      Pclass         Age       SibSp  \\\n",
       "count   891.000000  891.000000  891.000000  714.000000  891.000000   \n",
       "mean    446.000000    0.383838    2.308642   29.699118    0.523008   \n",
       "std     257.353842    0.486592    0.836071   14.526497    1.102743   \n",
       "min       1.000000    0.000000    1.000000    0.420000    0.000000   \n",
       "25%     223.500000    0.000000    2.000000   20.125000    0.000000   \n",
       "50%     446.000000    0.000000    3.000000   28.000000    0.000000   \n",
       "75%     668.500000    1.000000    3.000000   38.000000    1.000000   \n",
       "max     891.000000    1.000000    3.000000   80.000000    8.000000   \n",
       "\n",
       "            Parch        Fare  \n",
       "count  891.000000  891.000000  \n",
       "mean     0.381594   32.204208  \n",
       "std      0.806057   49.693429  \n",
       "min      0.000000    0.000000  \n",
       "25%      0.000000    7.910400  \n",
       "50%      0.000000   14.454200  \n",
       "75%      0.000000   31.000000  \n",
       "max      6.000000  512.329200  "
      ]
     },
     "execution_count": 5,
     "metadata": {},
     "output_type": "execute_result"
    }
   ],
   "source": [
    "df.describe()"
   ]
  },
  {
   "cell_type": "code",
   "execution_count": 6,
   "id": "a6e49988-89ed-43a2-ad7a-fe01c64b2745",
   "metadata": {},
   "outputs": [
    {
     "name": "stdout",
     "output_type": "stream",
     "text": [
      "<class 'pandas.core.frame.DataFrame'>\n",
      "RangeIndex: 891 entries, 0 to 890\n",
      "Data columns (total 12 columns):\n",
      " #   Column       Non-Null Count  Dtype  \n",
      "---  ------       --------------  -----  \n",
      " 0   PassengerId  891 non-null    int64  \n",
      " 1   Survived     891 non-null    int64  \n",
      " 2   Pclass       891 non-null    int64  \n",
      " 3   Name         891 non-null    object \n",
      " 4   Sex          891 non-null    object \n",
      " 5   Age          714 non-null    float64\n",
      " 6   SibSp        891 non-null    int64  \n",
      " 7   Parch        891 non-null    int64  \n",
      " 8   Ticket       891 non-null    object \n",
      " 9   Fare         891 non-null    float64\n",
      " 10  Cabin        204 non-null    object \n",
      " 11  Embarked     889 non-null    object \n",
      "dtypes: float64(2), int64(5), object(5)\n",
      "memory usage: 83.7+ KB\n"
     ]
    }
   ],
   "source": [
    "df.info()"
   ]
  },
  {
   "cell_type": "code",
   "execution_count": 7,
   "id": "88d2f3cd-c20d-4b6b-8713-6990a6186e41",
   "metadata": {},
   "outputs": [
    {
     "data": {
      "text/plain": [
       "PassengerId      0\n",
       "Survived         0\n",
       "Pclass           0\n",
       "Name             0\n",
       "Sex              0\n",
       "Age            177\n",
       "SibSp            0\n",
       "Parch            0\n",
       "Ticket           0\n",
       "Fare             0\n",
       "Cabin          687\n",
       "Embarked         2\n",
       "dtype: int64"
      ]
     },
     "execution_count": 7,
     "metadata": {},
     "output_type": "execute_result"
    }
   ],
   "source": [
    "df.isnull().sum()"
   ]
  },
  {
   "cell_type": "markdown",
   "id": "3e62ab82",
   "metadata": {},
   "source": [
    "### Deal with missing values"
   ]
  },
  {
   "cell_type": "code",
<<<<<<< HEAD
   "execution_count": 17,
=======
   "execution_count": 24,
>>>>>>> edd0ef65c9588b283152b9258c0d28cfa6f96e50
   "id": "0798192f",
   "metadata": {},
   "outputs": [],
   "source": [
    "# fill the missing value in the \"Age\" column with its mean\n",
    "df[\"Age\"].fillna(df[\"Age\"].mean(),inplace=True)"
   ]
  },
  {
   "cell_type": "code",
<<<<<<< HEAD
   "execution_count": 23,
=======
   "execution_count": 25,
>>>>>>> edd0ef65c9588b283152b9258c0d28cfa6f96e50
   "id": "eb7570d2",
   "metadata": {},
   "outputs": [],
   "source": [
    "# fill the missing value in the \"Embarked\" column with the most frequent value\n",
<<<<<<< HEAD
    "df[\"Embarked\"].fillna(df[\"Embarked\"].mode(),inplace=True)"
=======
    "df[\"Embarked\"].fillna(df[\"Embarked\"].mode(), inplace=True)"
>>>>>>> edd0ef65c9588b283152b9258c0d28cfa6f96e50
   ]
  },
  {
   "cell_type": "code",
<<<<<<< HEAD
   "execution_count": 25,
   "id": "93cdfcb9",
=======
   "execution_count": 26,
   "id": "1c498324-859a-4270-9658-00e4d4dd5118",
>>>>>>> edd0ef65c9588b283152b9258c0d28cfa6f96e50
   "metadata": {},
   "outputs": [
    {
     "data": {
      "text/plain": [
<<<<<<< HEAD
       "Survived    0\n",
       "Pclass      0\n",
       "Sex         0\n",
       "Age         0\n",
       "SibSp       0\n",
       "Parch       0\n",
       "Fare        0\n",
       "Embarked    2\n",
       "dtype: int64"
      ]
     },
     "execution_count": 25,
=======
       "PassengerId      0\n",
       "Survived         0\n",
       "Pclass           0\n",
       "Name             0\n",
       "Sex              0\n",
       "Age              0\n",
       "SibSp            0\n",
       "Parch            0\n",
       "Ticket           0\n",
       "Fare             0\n",
       "Cabin          687\n",
       "Embarked         2\n",
       "dtype: int64"
      ]
     },
     "execution_count": 26,
>>>>>>> edd0ef65c9588b283152b9258c0d28cfa6f96e50
     "metadata": {},
     "output_type": "execute_result"
    }
   ],
   "source": [
    "df.isnull().sum()"
   ]
  },
  {
   "cell_type": "code",
<<<<<<< HEAD
   "execution_count": 31,
=======
   "execution_count": 27,
>>>>>>> edd0ef65c9588b283152b9258c0d28cfa6f96e50
   "id": "fd369311",
   "metadata": {},
   "outputs": [
    {
     "data": {
      "text/html": [
       "<div>\n",
       "<style scoped>\n",
       "    .dataframe tbody tr th:only-of-type {\n",
       "        vertical-align: middle;\n",
       "    }\n",
       "\n",
       "    .dataframe tbody tr th {\n",
       "        vertical-align: top;\n",
       "    }\n",
       "\n",
       "    .dataframe thead th {\n",
       "        text-align: right;\n",
       "    }\n",
       "</style>\n",
       "<table border=\"1\" class=\"dataframe\">\n",
       "  <thead>\n",
       "    <tr style=\"text-align: right;\">\n",
       "      <th></th>\n",
       "      <th>Survived</th>\n",
       "      <th>Pclass</th>\n",
       "      <th>Sex</th>\n",
       "      <th>Age</th>\n",
       "      <th>SibSp</th>\n",
       "      <th>Parch</th>\n",
       "      <th>Fare</th>\n",
       "      <th>Embarked</th>\n",
       "    </tr>\n",
       "  </thead>\n",
       "  <tbody>\n",
       "    <tr>\n",
       "      <th>0</th>\n",
       "      <td>0</td>\n",
       "      <td>3</td>\n",
       "      <td>male</td>\n",
       "      <td>22.0</td>\n",
       "      <td>1</td>\n",
       "      <td>0</td>\n",
       "      <td>7.2500</td>\n",
       "      <td>S</td>\n",
       "    </tr>\n",
       "    <tr>\n",
       "      <th>1</th>\n",
       "      <td>1</td>\n",
       "      <td>1</td>\n",
       "      <td>female</td>\n",
       "      <td>38.0</td>\n",
       "      <td>1</td>\n",
       "      <td>0</td>\n",
       "      <td>71.2833</td>\n",
       "      <td>C</td>\n",
       "    </tr>\n",
       "    <tr>\n",
       "      <th>2</th>\n",
       "      <td>1</td>\n",
       "      <td>3</td>\n",
       "      <td>female</td>\n",
       "      <td>26.0</td>\n",
       "      <td>0</td>\n",
       "      <td>0</td>\n",
       "      <td>7.9250</td>\n",
       "      <td>S</td>\n",
       "    </tr>\n",
       "    <tr>\n",
       "      <th>3</th>\n",
       "      <td>1</td>\n",
       "      <td>1</td>\n",
       "      <td>female</td>\n",
       "      <td>35.0</td>\n",
       "      <td>1</td>\n",
       "      <td>0</td>\n",
       "      <td>53.1000</td>\n",
       "      <td>S</td>\n",
       "    </tr>\n",
       "    <tr>\n",
       "      <th>4</th>\n",
       "      <td>0</td>\n",
       "      <td>3</td>\n",
       "      <td>male</td>\n",
       "      <td>35.0</td>\n",
       "      <td>0</td>\n",
       "      <td>0</td>\n",
       "      <td>8.0500</td>\n",
       "      <td>S</td>\n",
       "    </tr>\n",
       "  </tbody>\n",
       "</table>\n",
       "</div>"
      ],
      "text/plain": [
       "   Survived  Pclass     Sex   Age  SibSp  Parch     Fare Embarked\n",
       "0         0       3    male  22.0      1      0   7.2500        S\n",
       "1         1       1  female  38.0      1      0  71.2833        C\n",
       "2         1       3  female  26.0      0      0   7.9250        S\n",
       "3         1       1  female  35.0      1      0  53.1000        S\n",
       "4         0       3    male  35.0      0      0   8.0500        S"
      ]
     },
<<<<<<< HEAD
     "execution_count": 31,
=======
     "execution_count": 27,
>>>>>>> edd0ef65c9588b283152b9258c0d28cfa6f96e50
     "metadata": {},
     "output_type": "execute_result"
    }
   ],
<<<<<<< HEAD
   "source": [
    "# drop the \"Cabin\", \"Ticket\", \"PassengerId\", and \"Name\" column and set inplace as true\n",
    "df.drop(columns=['Cabin', 'Ticket', 'PassengerId', 'Name'], axis=1, inplace=True)\n",
    "df.head()"
=======
   "source": [
    "# drop the \"Cabin\", \"Ticket\", \"PassengerId\", and \"Name\" column and set inplace as true\n",
    "df.drop(columns=[\"Cabin\", \"Ticket\", \"PassengerId\", \"Name\"], axis=1, inplace=True)\n",
    "df.head()"
   ]
  },
  {
   "cell_type": "code",
   "execution_count": 28,
   "id": "7ecf10b6-bc93-4933-ab86-82a21dea6b3e",
   "metadata": {},
   "outputs": [],
   "source": [
    "import matplotlib.pyplot as plt\n",
    "import seaborn as sns"
>>>>>>> edd0ef65c9588b283152b9258c0d28cfa6f96e50
   ]
  },
  {
   "cell_type": "markdown",
   "id": "2c7a94c2",
   "metadata": {},
   "source": [
    "### Create the boxplot of age by Pclass"
   ]
  },
  {
   "cell_type": "code",
<<<<<<< HEAD
   "execution_count": 43,
   "id": "4fc86699",
=======
   "execution_count": 31,
   "id": "1cf23049",
>>>>>>> edd0ef65c9588b283152b9258c0d28cfa6f96e50
   "metadata": {},
   "outputs": [
    {
     "data": {
      "text/plain": [
       "<Axes: xlabel='Pclass', ylabel='Age'>"
      ]
     },
     "execution_count": 31,
     "metadata": {},
     "output_type": "execute_result"
    },
    {
     "data": {
      "image/png": "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",
      "text/plain": [
       "<Figure size 640x480 with 1 Axes>"
      ]
     },
     "metadata": {},
     "output_type": "display_data"
    }
   ],
   "source": [
<<<<<<< HEAD
    "import matplotlib.pyplot as plt\n",
    "import seaborn as sns"
   ]
  },
  {
   "cell_type": "code",
   "execution_count": 44,
   "id": "1cf23049",
   "metadata": {},
   "outputs": [
    {
     "data": {
      "text/plain": [
       "<Axes: xlabel='Pclass', ylabel='Age'>"
      ]
     },
     "execution_count": 44,
     "metadata": {},
     "output_type": "execute_result"
    },
    {
     "data": {
      "image/png": "iVBORw0KGgoAAAANSUhEUgAAAjMAAAGwCAYAAABcnuQpAAAAOXRFWHRTb2Z0d2FyZQBNYXRwbG90bGliIHZlcnNpb24zLjcuMiwgaHR0cHM6Ly9tYXRwbG90bGliLm9yZy8pXeV/AAAACXBIWXMAAA9hAAAPYQGoP6dpAAAwpUlEQVR4nO3dfXRU9YH/8c9N0JmJJEFRZoiEGDViIdCiPDQEBatAqfKwIKIJHli1q4K6Abso0tbgQyJxQRQsVRaBClmsDzzYqiHqEpWHbrCLIniwWhaCGqP5YRJCZiLJ/f3BMiWGpwiZ772Z9+uce07m3puZz8wZmE++9zv3WrZt2wIAAHCpGNMBAAAATgVlBgAAuBplBgAAuBplBgAAuBplBgAAuBplBgAAuBplBgAAuFo70wFaW2Njo7744gvFx8fLsizTcQAAwEmwbVs1NTVKSkpSTMzxx17afJn54osvlJycbDoGAAD4AcrKytSlS5fj7tPmy0x8fLykQy9GQkKC4TQAAOBkVFdXKzk5Ofw5fjxtvswcPrSUkJBAmQEAwGVOZooIE4ABAICrUWYAAICrUWYAAICrUWYAAICrUWYAAICrUWYAAICrUWYAAICrUWYAAICrUWYAAICrUWYAAICrGS0zBw8e1K9//WulpqbK5/Ppwgsv1EMPPaTGxsbwPrZtKzc3V0lJSfL5fBo8eLC2b99uMDUAAHASo2Vm9uzZ+v3vf68FCxbo448/VkFBgR5//HHNnz8/vE9BQYHmzp2rBQsWqLS0VIFAQEOGDFFNTY3B5AAAwCks27ZtUw9+3XXXye/3a/HixeF1Y8eOVVxcnJ5//nnZtq2kpCTl5OTovvvukySFQiH5/X7Nnj1bt99++wkfo7q6WomJiaqqqnLthSZt21YwGDSeIRQKSZI8Hs9JXfirNXm9XuMZAACtpyWf30avmj1w4ED9/ve/1yeffKJLLrlEH3zwgd577z3NmzdPkrRr1y6Vl5dr6NCh4d/xeDwaNGiQNm7ceNQyEwqFwh+60qEXw+2CwaCGDRtmOoajFBUVyefzmY4BAHAAo2XmvvvuU1VVlS699FLFxsaqoaFBjz76qG666SZJUnl5uSTJ7/c3+T2/36/du3cf9T7z8/M1a9as1g0OAAAcw2iZeeGFF7R8+XIVFhaqR48e2rp1q3JycpSUlKSJEyeG9/v+4QTbto95iGHGjBmaNm1a+HZ1dbWSk5Nb5wlEiNfrVVFRkdEMwWBQo0aNkiStWbNGXq/XaB7Tjw8AcA6jZebf/u3fdP/99+vGG2+UJPXs2VO7d+9Wfn6+Jk6cqEAgIOnQCE3nzp3Dv1dRUdFstOYwj8cjj8fT+uEjyLIsRx1S8Xq9jsoDAIhuRr/NdODAAcXENI0QGxsb/mp2amqqAoGAiouLw9vr6+tVUlKiAQMGRDQrAABwJqMjMyNGjNCjjz6qrl27qkePHvqf//kfzZ07V7fccoukQyMSOTk5ysvLU1pamtLS0pSXl6e4uDhlZWWZjA4AABzCaJmZP3++fvOb32jy5MmqqKhQUlKSbr/9dv32t78N7zN9+nTV1dVp8uTJ2rdvn/r3769169YpPj7eYHIAAOAURs8zEwlt4TwzTlBXVxf+ejhfiwYAtLaWfH5zbSYAAOBqlBkAAOBqlBkAAOBqlBkAAOBqlBkAAOBqlBkAAOBqlBkAAOBqlBkAAOBqlBkAAOBqlBkAAOBqlBkAAOBqlBkAAOBqlBkAAOBqlBkAAE6TDRs2aNy4cdqwYYPpKFGFMgMAwGkQDAY1Z84cffXVV5ozZ46CwaDpSFGDMgMAwGmwfPlyVVZWSpIqKyu1YsUKw4miB2UGAIBTtHfvXq1YsUK2bUuSbNvWihUrtHfvXsPJogNlBgCAU2Dbtp544oljrj9ccNB6KDMAAJyC3bt3q7S0VA0NDU3WNzQ0qLS0VLt37zaULHpQZgAAOAUpKSnq27evYmNjm6yPjY1Vv379lJKSYihZ9KDMAABwCizL0tSpU4+53rIsA6miC2UGAIBT1KVLF2VnZ4eLi2VZys7O1vnnn284WXSgzAAAcBpMmDBBHTt2lCSde+65ys7ONpwoelBmAAA4Dbxer+699175/X5NmzZNXq/XdKSo0c50AAAA2orMzExlZmaajhF1GJkBAACuRpkBAACuRpkBAACuRpkBAOA02bBhg8aNG6cNGzaYjhJVKDMAAJwGwWBQc+bM0VdffaU5c+YoGAyajhQ1KDMAXIu/guEky5cvV2VlpSSpsrJSK1asMJwoelBmALgSfwXDSfbu3asVK1aEr5Bt27ZWrFihvXv3Gk4WHYyWmQsuuECWZTVbpkyZIunQmyE3N1dJSUny+XwaPHiwtm/fbjIyAIfgr2A4hW3beuKJJ465/nDBQesxWmZKS0v15Zdfhpfi4mJJ0rhx4yRJBQUFmjt3rhYsWKDS0lIFAgENGTJENTU1JmMDMIy/guEku3fvVmlpqRoaGpqsb2hoUGlpqXbv3m0oWfQwWmbOO+88BQKB8PKnP/1JF110kQYNGiTbtjVv3jzNnDlTY8aMUXp6upYtW6YDBw6osLDwmPcZCoVUXV3dZAHQdvBXMJwmJSVFffv2VWxsbJP1sbGx6tevn1JSUgwlix6OmTNTX1+v5cuX65ZbbpFlWdq1a5fKy8s1dOjQ8D4ej0eDBg3Sxo0bj3k/+fn5SkxMDC/JycmRiA8gQvgrGE5jWZamTp16zPWHr6SN1uOYMrN69Wp9++23mjRpkiSpvLxckuT3+5vs5/f7w9uOZsaMGaqqqgovZWVlrZYZQOTxVzCcqEuXLsrOzg4XF8uylJ2drfPPP99wsujgmDKzePFiDR8+XElJSU3Wf7/R2rZ93Jbr8XiUkJDQZAHQdvBXMJxqwoQJ6tixoyTp3HPPVXZ2tuFE0cMRZWb37t168803ddttt4XXBQIBSWo2ClNRUdFstAZAdOGvYDiR1+vVvffeK7/fr2nTpsnr9ZqOFDUcUWaWLFmiTp066dprrw2vS01NVSAQCH/DSTo0r6akpEQDBgwwEROAg/BXMJwoMzNTL774ojIzM01HiSrGy0xjY6OWLFmiiRMnql27duH1lmUpJydHeXl5WrVqlT766CNNmjRJcXFxysrKMpgYgBPwVzCAw9qdeJfW9eabb2rPnj265ZZbmm2bPn266urqNHnyZO3bt0/9+/fXunXrFB8fbyApAKfJzMzkL2AAsuw2flKG6upqJSYmqqqqisnAp6Curk7Dhg2TJBUVFcnn8xlOBABoy1ry+W38MBMAAMCpoMwAAABXo8wAAABXo8wAAABXo8wAcK0NGzZo3Lhx2rBhg+koAAyizABwpWAwqDlz5uirr77SnDlzFAwGTUcCYAhlBoArLV++XJWVlZKkyspKrVixwnAiAKZQZgC4zt69e7VixQodPk2WbdtasWKF9u7dazgZABMoMwBcxbZtPfHEE8dc38bPAwqHYx6XGZQZAK6ye/dulZaWqqGhocn6hoYGlZaWavfu3YaSIdoxj8scygwAV0lJSVHfvn0VGxvbZH1sbKz69eunlJQUQ8kQ7ZjHZQ5lBoCrWJalqVOnHnO9ZVkGUiHaMY/LLMoMANfp0qWLsrOzw8XFsixlZ2fr/PPPN5wM0Yh5XOZRZgC40oQJE9SxY0dJ0rnnnqvs7GzDiRCtmMdlHmUGgCt5vV7de++98vv9mjZtmrxer+lIiFLM4zKPMgPAtTIzM/Xiiy8qMzPTdBREMeZxmUeZAQDgFDGPyyzKDAAAp8GECRPUvn17SVJ8fDzzuCKIMgMAwGnCISUzKDMAAJwGy5cvV01NjSSppqaGk+ZFEGUGAIBTxEnzzKLMAHAtLuoHJ+CkeeZRZgC4Ehf1g1Nw0jzzKDMAXImL+sEpOGmeeZQZAK7D/AQ4CSfNM48yA8BVmJ8AJ+KkeWZRZgC4CvMT4FTXX399kzIzduxYw4miB2UGgKswPwFO9dJLL6mxsVGS1NjYqJdfftlwouhBmQHgKsxPgBMdnsd1JOZxRQ5lBoDrHJ6fcCTmJ8AU5nGZR5kB4ErXX3+9YmIO/RcWExPD/AQYwzwu84yXmc8//1wTJkxQx44dFRcXp5/85Cd6//33w9tt21Zubq6SkpLk8/k0ePBgbd++3WBiAE7w0ksvNflqNvMTYArzuMwzWmb27dunzMxMnXHGGXr99de1Y8cOzZkzRx06dAjvU1BQoLlz52rBggUqLS1VIBDQkCFDwhfzAhB9OM8MnIR5XOYZLTOzZ89WcnKylixZon79+umCCy7Q1VdfrYsuukjSof+g5s2bp5kzZ2rMmDFKT0/XsmXLdODAARUWFh71PkOhkKqrq5ssANoO5ifAiTjPjFlGy8zatWvVp08fjRs3Tp06dVLv3r21aNGi8PZdu3apvLxcQ4cODa/zeDwaNGiQNm7ceNT7zM/PV2JiYnhJTk5u9ecBIHKYnwCnmjBhguLj4yVJCQkJzSapo/UYLTN///vftXDhQqWlpamoqEh33HGH7rnnHv3hD3+QJJWXl0uS/H5/k9/z+/3hbd83Y8YMVVVVhZeysrLWfRIAIurw/ITDk38PY34CnODwyODh880gMoyWmcbGRl122WXKy8tT7969dfvtt+uXv/ylFi5c2GS/7x9vtG37mMcgPR6PEhISmiwA2o7D8xC+fzjJtm3mJ8Co5cuXa//+/ZKk/fv3c/HTCDJaZjp37qzu3bs3WfejH/1Ie/bskSQFAgFJajYKU1FR0Wy0BkB0s22b+TIwhknpZhktM5mZmdq5c2eTdZ988kl4mDg1NVWBQEDFxcXh7fX19SopKdGAAQMimhWAMxye6Pv9ERjLspgADCOYlG6e0TIzdepUbd68WXl5efr0009VWFioZ599VlOmTJF06D+nnJwc5eXladWqVfroo480adIkxcXFKSsry2R0AIYcngD8/TkJjY2NTACGEUxKN89omenbt69WrVql//zP/1R6eroefvhhzZs3r8kM8OnTpysnJ0eTJ09Wnz599Pnnn2vdunXhGeMAogsnKIPT8J40z7Lb+PhXdXW1EhMTVVVVxWTgU1BXV6dhw4ZJkoqKiuTz+QwnQjTbu3evbr755iZ/Cbdr107PP/885/WAEbwnT7+WfH4bv5wBALQUF5qE03DSPLMoMwBcacSIEU1uX3fddYaSAIccvs6gJJ177rmcNC+CKDMAXOmhhx5qcvvhhx82lAQ4xOv16t5775Xf79e0adPk9XpNR4oa7UwHAICW2rJli7Zt29Zk3YcffqgtW7aoT58+hlIBh045kpmZaTpG1GFkBoCrNDY2Kjc396jbcnNzOY08EIUoMwBcZdOmTaqurj7qturqam3atCnCiQCYRpkB4CoZGRnH/JpmYmKiMjIyIpwI+IcNGzZo3Lhx2rBhg+koUYUyA8BVYmJijnmYadasWc2upg1ESjAY1Jw5c/TVV19pzpw5CgaDpiNFDf7VA3CdPn36qGfPnk3W9erVS5dddpmhRMChq2ZXVlZKkiorK7lqdgRRZgC40qOPPhoehYmJidEjjzxiOBGiGVfNNosyA8CVOnTooAkTJigmJkYTJkxQhw4dTEdClOKq2eZxnhkALWbbtvH5ALZta+zYsRo7dqw8Ho/q6uqM5vF6veFT2SO6HL5q9vcdedXsCy64IPLBoghlBkCLBYPB8IVHcQgXYI1eh6+a/de//rXJhSZjY2N1+eWXc9XsCOAwEwAAp8CyLE2dOvWY6xmxa32MzABoMa/Xq6KiIqMZgsGgRo0aJUlas2aN8evgmH58mHX4qtnPP/+8bNvmqtkRRpkB0GKWZTnqkIrX63VUHkSnCRMm6LXXXtM333zDVbMjjMNMAACcBlw12xxGZgAAOE24arYZjMwAAABXo8wAAABXo8wAAABXo8wAAABXo8wAAABXo8wAAABXo8wAAABXo8wAAABXo8wAAABXo8wAAABX43IGAADXs21bwWDQeIZQKCRJ8ng8sizLaB6v12s8Q6RQZgAArhcMBjVs2DDTMRylqKgoaq4mz2EmAADgakZHZnJzczVr1qwm6/x+v8rLyyUdGrKbNWuWnn32We3bt0/9+/fX008/rR49epiICwBwKK/Xq6KiIqMZgsGgRo0aJUlas2aNvF6v0TymHz+SjB9m6tGjh958883w7djY2PDPBQUFmjt3rpYuXapLLrlEjzzyiIYMGaKdO3cqPj7eRFwAgANZluWoQyper9dRedo644eZ2rVrp0AgEF7OO+88SYdGZebNm6eZM2dqzJgxSk9P17Jly3TgwAEVFhYaTg0AAJzCeJn529/+pqSkJKWmpurGG2/U3//+d0nSrl27VF5erqFDh4b39Xg8GjRokDZu3HjM+wuFQqqurm6yAACAtstomenfv7/+8Ic/qKioSIsWLVJ5ebkGDBigysrK8LwZv9/f5HeOnFNzNPn5+UpMTAwvycnJrfocAACAWUbLzPDhwzV27Fj17NlT11xzjf785z9LkpYtWxbe5/vfkbdt+7jfm58xY4aqqqrCS1lZWeuEBwAAjmB8AvCRzjrrLPXs2VN/+9vfNHr0aElSeXm5OnfuHN6noqKi2WjNkTwejzwez2nL5IQTMTnBka8Br8ch0XRCKgBwMkeVmVAopI8//lhXXHGFUlNTFQgEVFxcrN69e0uS6uvrVVJSotmzZ0csEydiau7wVw+jXTSdkAoAnMxomfnVr36lESNGqGvXrqqoqNAjjzyi6upqTZw4UZZlKScnR3l5eUpLS1NaWpry8vIUFxenrKwsk7EBAICDGC0ze/fu1U033aRvvvlG5513nn76059q8+bNSklJkSRNnz5ddXV1mjx5cvikeevWrTN2jpnay7KlGEcNZkWObUuNBw/9HNNOitbDK40HddZfV5hOAQA4gtFP5pUrVx53u2VZys3NVW5ubmQCnUhMOyn2DNMpDDrTdAAAAJoxfp4ZAACAU0GZAQAArkaZAQAArkaZAQAArkaZAQAArkaZAQAArkaZAQAArkaZAQAArkaZAQAArkaZAQAArkaZAQAArkaZAQAArkaZAQAArkaZAQAArkaZAQAArkaZAQAArkaZAQAArkaZAQAArkaZAQAArkaZAQAArkaZAQAArkaZAQAArkaZAQAArvaDy0x9fb127typgwcPns48AAAALdLiMnPgwAHdeuutiouLU48ePbRnzx5J0j333KPHHnvstAcEAAA4nhaXmRkzZuiDDz7Q+vXr5fV6w+uvueYavfDCC6c1HAAAwIm0a+kvrF69Wi+88IJ++tOfyrKs8Pru3bvrs88+O63hAAAATqTFIzNff/21OnXq1Gx9bW1tk3IDAAAQCS0uM3379tWf//zn8O3DBWbRokXKyMg4fckAAABOQosPM+Xn5+vnP/+5duzYoYMHD+rJJ5/U9u3btWnTJpWUlLRGRgAAgGNq8cjMgAEDtGHDBh04cEAXXXSR1q1bJ7/fr02bNunyyy9vjYwAAADH9IPOM9OzZ08tW7ZMH330kXbs2KHly5erZ8+epxQkPz9flmUpJycnvM62beXm5iopKUk+n0+DBw/W9u3bT+lxAABA29LiMlNdXX3UpaamRvX19T8oRGlpqZ599ln16tWryfqCggLNnTtXCxYsUGlpqQKBgIYMGaKampof9DgAAKDtaXGZ6dChg84+++xmS4cOHeTz+ZSSkqIHH3xQjY2NJ3V/+/fvV3Z2thYtWqSzzz47vN62bc2bN08zZ87UmDFjlJ6ermXLlunAgQMqLCxsaWwAANBGtbjMLF26VElJSXrggQe0evVqrVq1Sg888IDOP/98LVy4UP/yL/+ip5566qTPBjxlyhRde+21uuaaa5qs37Vrl8rLyzV06NDwOo/Ho0GDBmnjxo3HvL9QKNRs1AgAALRdLf4207JlyzRnzhzdcMMN4XUjR45Uz5499cwzz+itt95S165d9eijj+qBBx447n2tXLlSf/3rX1VaWtpsW3l5uSTJ7/c3We/3+7V79+5j3md+fr5mzZrVkqcEAABcrMUjM5s2bVLv3r2bre/du7c2bdokSRo4cGD4mk3HUlZWpn/913/V8uXLm1wW4fu+fyI+27aPe3K+GTNmqKqqKryUlZUdNwcAAHC3FpeZLl26aPHixc3WL168WMnJyZKkysrKJvNfjub9999XRUWFLr/8crVr107t2rVTSUmJnnrqKbVr1y48InN4hOawioqKZqM1R/J4PEpISGiyAACAtqvFh5n+/d//XePGjdPrr7+uvn37yrIslZaW6uOPP9bLL78s6dC3k8aPH3/c+7n66qu1bdu2Juv++Z//WZdeeqnuu+8+XXjhhQoEAiouLg6PBNXX16ukpESzZ89uaWwAANBGtbjMjBw5Up988okWLlyoTz75RLZta/jw4Vq9erW+/fZbSdKdd955wvuJj49Xenp6k3VnnXWWOnbsGF6fk5OjvLw8paWlKS0tTXl5eYqLi1NWVlZLYwMAgDaqxWVGklJSUsLfVvr222+1YsUKjR07Vlu3blVDQ8NpCzd9+nTV1dVp8uTJ2rdvn/r3769169YpPj7+tD0GAABwtx9UZiTp7bff1nPPPadXXnlFKSkpGjt2rP7jP/7jlMKsX7++yW3LspSbm6vc3NxTul8AANB2tajM7N27V0uXLtVzzz2n2tpa3XDDDfruu+/08ssvq3v37q2VEQAA4JhO+ttMv/jFL9S9e3ft2LFD8+fP1xdffKH58+e3ZjYAAIATOumRmXXr1umee+7RnXfeqbS0tNbMBAAAcNJOusy8++67eu6559SnTx9deumluvnmm0/49eu2wLbtf9xo+M5cEDjDEe+BJu8NAIAxJ11mMjIylJGRoSeffFIrV67Uc889p2nTpqmxsVHFxcVKTk5uk98yCoVC4Z/P+h8ucIl/CIVCiouLMx0DAKJei88AHBcXp1tuuUXvvfeetm3bpnvvvVePPfaYOnXqpJEjR7ZGRgAAgGP6wV/NlqRu3bqpoKBA+fn5evXVV/Xcc8+drlyO4fF4wj/X9s6SYs8wmAbGNXwXHqE78r0BADDnlMrMYbGxsRo9erRGjx59Ou7OUZpc1DL2DMoMwo53wVMAQOScljIDIHJs21YwGDQdw7gjXwNej0O8Xi8lG1GJMgO4TDAY1LBhw0zHcJRRo0aZjuAIRUVF8vl8pmMAEdfiCcAAAABOwsgM4GJPX/mtPLHReb4b25bqGw/9fGaMFK1HV0INlqa808F0DMAoygzgYp5YW95Y0ynM4YCKJEVnmQWOxGEmAADgapQZAADgapQZAADgapQZAADgapQZAADgapQZAADgapQZAADgapQZAADgapQZAADgapQZAADgapQZAADgapQZAADgalxoEgBwSmzbVjAYNB3DuCNfA16PQ7xer6wIXNKeMgMAOCXBYFDDhg0zHcNRRo0aZTqCIxQVFcnna/3r23OYCQAAuBojMwCA06ZhREP0frLYkhr+7+dYSa1/dMWZDkqxr8ZG9CGj9S0HAGgN7RTdnyxnmA4QnTjMBAAAXM1omVm4cKF69eqlhIQEJSQkKCMjQ6+//np4u23bys3NVVJSknw+nwYPHqzt27cbTAwAAJzGaJnp0qWLHnvsMW3ZskVbtmzRz372M40aNSpcWAoKCjR37lwtWLBApaWlCgQCGjJkiGpqakzGBgAADmK0zIwYMUK/+MUvdMkll+iSSy7Ro48+qvbt22vz5s2ybVvz5s3TzJkzNWbMGKWnp2vZsmU6cOCACgsLTcYGAAAO4pg5Mw0NDVq5cqVqa2uVkZGhXbt2qby8XEOHDg3v4/F4NGjQIG3cuPGY9xMKhVRdXd1kAQAAbZfxMrNt2za1b99eHo9Hd9xxh1atWqXu3burvLxckuT3+5vs7/f7w9uOJj8/X4mJieElOTm5VfMDAACzjJeZbt26aevWrdq8ebPuvPNOTZw4UTt27Ahv//5pkG3bPu6pkWfMmKGqqqrwUlZW1mrZAQCAecbPBnDmmWfq4osvliT16dNHpaWlevLJJ3XfffdJksrLy9W5c+fw/hUVFc1Ga47k8Xjk8XhaNzRgkG3b4Z9DDcfZEVHhyPfAke8NIJoYLzPfZ9u2QqGQUlNTFQgEVFxcrN69e0uS6uvrVVJSotmzZxtOCZgTCoXCP09552yDSeA0oVBIcXFxpmMAEWe0zDzwwAMaPny4kpOTVVNTo5UrV2r9+vV64403ZFmWcnJylJeXp7S0NKWlpSkvL09xcXHKysoyGRsAADiI0TLz1Vdf6eabb9aXX36pxMRE9erVS2+88YaGDBkiSZo+fbrq6uo0efJk7du3T/3799e6desUHx9vMjZg1JGHUZ++cp88kb0EChwm1PCPEToOsSNaGS0zixcvPu52y7KUm5ur3NzcyAQCXODICfCeWMlLmcH/Od6XI4C2zPi3mQAAAE4FZQYAALgaZQYAALgaZQYAALia484z42iNB00nMMe2//H8Y9pJ0TrRMJrfAwDgUJSZFjjrrytMRwAAAN/DYSYAAOBqjMycgNfrVVFRkekYxgWDQY0aNUqStGbNGnm9XsOJzOM1AABnoMycgGVZ8vl8pmM4itfr5TUBADgGh5kAAICrUWYAAICrUWYAAICrUWYAAICrUWYAAICrUWYAAICrUWYAAICrcZ4ZAMApsW37Hze4fBmOeA80eW+0IsoMAOCUhEKh8M+xr8YaTAKnCYVCiouLa/XH4TATAABwNUZmAACnxOPxhH9uGNHAJ0u0O/iPEboj3xutibccAOCUWJb1jxvtxCcLwpq8N1oRbznAxUINlqTITLBzGtuW6hsP/XxmjBSh/zMd59B7AIhulBnAxaa808F0BAAwjgnAAADA1RiZAVzG6/WqqKjIdAzjgsGgRo0aJUlas2aNvF6v4UTm8RogWlFmAJexLEs+n890DEfxer28JkAU4zATAABwNcoMAABwNcoMAABwNcoMAABwNcoMAABwNcoMAABwNaNlJj8/X3379lV8fLw6deqk0aNHa+fOnU32sW1bubm5SkpKks/n0+DBg7V9+3ZDiQEAgNMYLTMlJSWaMmWKNm/erOLiYh08eFBDhw5VbW1teJ+CggLNnTtXCxYsUGlpqQKBgIYMGaKamhqDyQEAgFMYPWneG2+80eT2kiVL1KlTJ73//vu68sorZdu25s2bp5kzZ2rMmDGSpGXLlsnv96uwsFC33357s/sMhUIKhULh29XV1a37JAAAgFGOmjNTVVUlSTrnnHMkSbt27VJ5ebmGDh0a3sfj8WjQoEHauHHjUe8jPz9fiYmJ4SU5Obn1gwMAAGMcU2Zs29a0adM0cOBApaenS5LKy8slSX6/v8m+fr8/vO37ZsyYoaqqqvBSVlbWusEBAIBRjrk201133aUPP/xQ7733XrNtlmU1uW3bdrN1h3k8Hnk8nlbJCAAAnMcRIzN333231q5dq//6r/9Sly5dwusDgYAkNRuFqaioaDZaAwAAopPRMmPbtu666y698sorevvtt5Wamtpke2pqqgKBgIqLi8Pr6uvrVVJSogEDBkQ6LgAAcCCjh5mmTJmiwsJCrVmzRvHx8eERmMTERPl8PlmWpZycHOXl5SktLU1paWnKy8tTXFycsrKyTEYHAAAOYbTMLFy4UJI0ePDgJuuXLFmiSZMmSZKmT5+uuro6TZ48Wfv27VP//v21bt06xcfHRzgtAABwIqNlxrbtE+5jWZZyc3OVm5vb+oEAAKfmoOkABtmSGv7v51hJR/+eSttn4D3gmG8zAQDcL/bVWNMREIUc8W0mAACAH4qRGQDAKfF6vSoqKjIdw7hgMKhRo0ZJktasWSOv12s4kXmReg0oMwCAU2JZlnw+n+kYjuL1enlNIojDTAAAwNUoMwAAwNUoMwAAwNUoMwAAwNUoMwAAwNUoMwAAwNUoMwAAwNUoMwAAwNUoMwAAwNUoMwAAwNUoMwAAwNUoMwAAwNUoMwAAwNUoMwAAwNUoMwAAwNUoMwAAwNUoMwAAwNUoMwAAwNUoMwAAwNUoMwAAwNUoMwAAwNUoMwAAwNUoMwAAwNUoMwAAwNUoMwAAwNUoMwAAwNUoMwAAwNWMlpl33nlHI0aMUFJSkizL0urVq5tst21bubm5SkpKks/n0+DBg7V9+3YzYQEAgCMZLTO1tbX68Y9/rAULFhx1e0FBgebOnasFCxaotLRUgUBAQ4YMUU1NTYSTAgAAp2pn8sGHDx+u4cOHH3WbbduaN2+eZs6cqTFjxkiSli1bJr/fr8LCQt1+++1H/b1QKKRQKBS+XV1dffqDAwAAx3DsnJldu3apvLxcQ4cODa/zeDwaNGiQNm7ceMzfy8/PV2JiYnhJTk6ORFwAAGCIY8tMeXm5JMnv9zdZ7/f7w9uOZsaMGaqqqgovZWVlrZoTAACYZfQw08mwLKvJbdu2m607ksfjkcfjae1YAADAIRw7MhMIBCSp2ShMRUVFs9EaAAAQvRxbZlJTUxUIBFRcXBxeV19fr5KSEg0YMMBgMgAA4CRGDzPt379fn376afj2rl27tHXrVp1zzjnq2rWrcnJylJeXp7S0NKWlpSkvL09xcXHKysoymBoAADiJ0TKzZcsWXXXVVeHb06ZNkyRNnDhRS5cu1fTp01VXV6fJkydr37596t+/v9atW6f4+HhTkQEAgMMYLTODBw+WbdvH3G5ZlnJzc5Wbmxu5UAAAwFUcO2cGAADgZFBmAACAq1FmAACAq1FmAACAq1FmAACAq1FmAACAq1FmAACAq1FmAACAq1FmAACAq1FmAACAq1FmAACAq1FmAACAq1FmAACAq1FmAACAq1FmAACAq1FmAACAq7UzHQCA+9i2rWAwaDTDkY9vOoskeb1eWZZlOgYQlSgzAFosGAxq2LBhpmOEjRo1ynQEFRUVyefzmY4BRCUOMwEAAFdjZAZAi3m9XhUVFRnNkJ2drW+++SZ8+7zzztPy5cuN5fF6vcYeG4h2lBkALWZZltFDKq+//nqTIiNJX3/9tdavX6/hw4cbSgXAFA4zAXCVhoYGFRQUHHVbQUGBGhoaIpwIgGmUGQCusnbt2mMWloaGBq1duzbCiQCYRpkB4CojR45UbGzsUbe1a9dOI0eOjHAiAKZRZgC4SmxsrMaNG3fUbePHjz9m0QHQdlFmALhKY2OjXnvttaNue/XVV9XY2BjhRABMo8wAcJVNmzapurr6qNuqq6u1adOmCCcCYBplBoCrZGRkKCEh4ajbEhMTlZGREeFEAEyjzABwlZiYGN10001H3ZaVlaWYGP5bA6INJ81zAS7q1xwX9YtejY2Nev7554+6bdmyZRo/fjyFBogylBkX4KJ+zXFRv+i1ceNGHThw4KjbDhw4oI0bN2rgwIERTgXAJFeUmd/97nd6/PHH9eWXX6pHjx6aN2+errjiCtOxABhg2/YpbUfbxAh2c9E0gu34MvPCCy8oJydHv/vd75SZmalnnnlGw4cP144dO9S1a1fT8SLCCRf1s21boVBIkuTxeIz/A+GiftHr/PPPP6XtaJsYwW4umkawHV9m5s6dq1tvvVW33XabJGnevHkqKirSwoULlZ+fbzhdZJi+qN9hcXFxpiMASk1NVbdu3bRz585m2y699FKlpqYaSAXAJEeXmfr6er3//vu6//77m6wfOnSoNm7ceNTfCYVC4REEScc8HwUAd7IsSw8++KCysrKabXvwwQeNjxrCDEawm4umEWxHl5lvvvlGDQ0N8vv9Tdb7/X6Vl5cf9Xfy8/M1a9asSMQDYEiXLl10ww036I9//GN43fjx4znEFMUYwY5urvj+4vfbrW3bx2y8M2bMUFVVVXgpKyuLREQAEXbbbbeFP7zi4uJ06623Gk4EwBRHl5lzzz1XsbGxzUZhKioqmo3WHObxeJSQkNBkAdD2eL1e/fa3v5Xf79dvfvObqBpSB9CUo8vMmWeeqcsvv1zFxcVN1hcXF2vAgAGGUgFwiszMTL344ovKzMw0HQWAQY6eMyNJ06ZN080336w+ffooIyNDzz77rPbs2aM77rjDdDQAAOAAji8z48ePV2VlpR566CF9+eWXSk9P12uvvaaUlBTT0QAAgANYdhs/XWZ1dbUSExNVVVXF/BkAAFyiJZ/fjp4zAwAAcCKUGQAA4GqUGQAA4GqUGQAA4GqUGQAA4GqUGQAA4GqUGQAA4GqOP2neqTp8Gp3q6mrDSQAAwMk6/Ll9MqfDa/NlpqamRpKUnJxsOAkAAGipmpoaJSYmHnefNn8G4MbGRn3xxReKj4+XZVmm47hadXW1kpOTVVZWxtmU4Qi8J+E0vCdPH9u2VVNTo6SkJMXEHH9WTJsfmYmJiVGXLl1Mx2hTEhIS+EcKR+E9CafhPXl6nGhE5jAmAAMAAFejzAAAAFejzOCkeTwePfjgg/J4PKajAJJ4T8J5eE+a0eYnAAMAgLaNkRkAAOBqlBkAAOBqlBkAAOBqlBkAAOBqlBmc0DvvvKMRI0YoKSlJlmVp9erVpiMhyuXn56tv376Kj49Xp06dNHr0aO3cudN0LESxhQsXqlevXuGT5WVkZOj11183HStqUGZwQrW1tfrxj3+sBQsWmI4CSJJKSko0ZcoUbd68WcXFxTp48KCGDh2q2tpa09EQpbp06aLHHntMW7Zs0ZYtW/Szn/1Mo0aN0vbt201Hiwp8NRstYlmWVq1apdGjR5uOAoR9/fXX6tSpk0pKSnTllVeajgNIks455xw9/vjjuvXWW01HafPa/LWZALR9VVVVkg59eACmNTQ06MUXX1Rtba0yMjJMx4kKlBkArmbbtqZNm6aBAwcqPT3ddBxEsW3btikjI0PBYFDt27fXqlWr1L17d9OxogJlBoCr3XXXXfrwww/13nvvmY6CKNetWzdt3bpV3377rV5++WVNnDhRJSUlFJoIoMwAcK27775ba9eu1TvvvKMuXbqYjoMod+aZZ+riiy+WJPXp00elpaV68skn9cwzzxhO1vZRZgC4jm3buvvuu7Vq1SqtX79eqamppiMBzdi2rVAoZDpGVKDM4IT279+vTz/9NHx7165d2rp1q8455xx17drVYDJEqylTpqiwsFBr1qxRfHy8ysvLJUmJiYny+XyG0yEaPfDAAxo+fLiSk5NVU1OjlStXav369XrjjTdMR4sKfDUbJ7R+/XpdddVVzdZPnDhRS5cujXwgRD3Lso66fsmSJZo0aVJkwwCSbr31Vr311lv68ssvlZiYqF69eum+++7TkCFDTEeLCpQZAADgapwBGAAAuBplBgAAuBplBgAAuBplBgAAuBplBgAAuBplBgAAuBplBgAAuBplBgAAuBplBoBrTJo0SaNHjzYdA4DDUGYARNSkSZNkWZYsy9IZZ5yhCy+8UL/61a9UW1trOhoAl+JCkwAi7uc//7mWLFmi7777Tu+++65uu+021dbWauHChaajAXAhRmYARJzH41EgEFBycrKysrKUnZ2t1atXS5K2b9+ua6+9VgkJCYqPj9cVV1yhzz777Kj388Ybb2jgwIHq0KGDOnbsqOuuu67JvvX19brrrrvUuXNneb1eXXDBBcrPzw9vz83NVdeuXeXxeJSUlKR77rmnVZ83gNbByAwA43w+n7777jt9/vnnuvLKKzV48GC9/fbbSkhI0IYNG3Tw4MGj/l5tba2mTZumnj17qra2Vr/97W/1T//0T9q6datiYmL01FNPae3atfrjH/+orl27qqysTGVlZZKkl156SU888YRWrlypHj16qLy8XB988EEknzaA04QyA8Co//7v/1ZhYaGuvvpqPf3000pMTNTKlSt1xhlnSJIuueSSY/7u2LFjm9xevHixOnXqpB07dig9PV179uxRWlqaBg4cKMuylJKSEt53z549CgQCuuaaa3TGGWeoa9eu6tevX+s8SQCtisNMACLuT3/6k9q3by+v16uMjAxdeeWVmj9/vrZu3aorrrgiXGRO5LPPPlNWVpYuvPBCJSQkKDU1VdKhoiIdmmy8detWdevWTffcc4/WrVsX/t1x48aprq5OF154oX75y19q1apVxxwBAuBslBkAEXfVVVdp69at2rlzp4LBoF555RV16tRJPp+vRfczYsQIVVZWatGiRfrLX/6iv/zlL5IOzZWRpMsuu0y7du3Sww8/rLq6Ot1www26/vrrJUnJycnauXOnnn76afl8Pk2ePFlXXnmlvvvuu9P7ZAG0OsoMgIg766yzdPHFFyslJaXJKEyvXr307rvvnlShqKys1Mcff6xf//rXuvrqq/WjH/1I+/bta7ZfQkKCxo8fr0WLFumFF17Qyy+/rP/3//6fpENzdUaOHKmnnnpK69ev16ZNm7Rt27bT90QBRARzZgA4xl133aX58+frxhtv1IwZM5SYmKjNmzerX79+6tatW5N9zz77bHXs2FHPPvusOnfurD179uj+++9vss8TTzyhzp076yc/+YliYmL04osvKhAIqEOHDlq6dKkaGhrUv39/xcXF6fnnn5fP52syrwaAOzAyA8AxOnbsqLffflv79+/XoEGDdPnll2vRokVHnUMTExOjlStX6v3331d6erqmTp2qxx9/vMk+7du31+zZs9WnTx/17dtX//u//6vXXntNMTEx6tChgxYtWqTMzEz16tVLb731ll599VV17NgxUk8XwGli2bZtmw4BAADwQzEyAwAAXI0yAwAAXI0yAwAAXI0yAwAAXI0yAwAAXI0yAwAAXI0yAwAAXI0yAwAAXI0yAwAAXI0yAwAAXI0yAwAAXO3/A/Iah8W53fsCAAAAAElFTkSuQmCC",
      "text/plain": [
       "<Figure size 640x480 with 1 Axes>"
      ]
     },
     "metadata": {},
     "output_type": "display_data"
    }
   ],
   "source": [
    "# use sns.boxplot()\n",
    "sns.boxplot(x=df[\"Pclass\"],y=df[\"Age\"])"
=======
    "# use sns.boxplot()\n",
    "sns.boxplot(x=df[\"Pclass\"], y=df[\"Age\"])"
>>>>>>> edd0ef65c9588b283152b9258c0d28cfa6f96e50
   ]
  },
  {
   "cell_type": "markdown",
   "id": "0cf5d45f",
   "metadata": {},
   "source": [
    "### Explore the distribution of survivers by age "
   ]
  },
  {
   "cell_type": "code",
<<<<<<< HEAD
   "execution_count": 46,
=======
   "execution_count": 36,
>>>>>>> edd0ef65c9588b283152b9258c0d28cfa6f96e50
   "id": "09fcefab",
   "metadata": {},
   "outputs": [
    {
<<<<<<< HEAD
=======
     "name": "stderr",
     "output_type": "stream",
     "text": [
      "C:\\Users\\yuche\\anaconda3\\Lib\\site-packages\\seaborn\\_oldcore.py:1119: FutureWarning: use_inf_as_na option is deprecated and will be removed in a future version. Convert inf values to NaN before operating instead.\n",
      "  with pd.option_context('mode.use_inf_as_na', True):\n"
     ]
    },
    {
>>>>>>> edd0ef65c9588b283152b9258c0d28cfa6f96e50
     "data": {
      "text/plain": [
       "<Axes: xlabel='Age', ylabel='Count'>"
      ]
     },
<<<<<<< HEAD
     "execution_count": 46,
=======
     "execution_count": 36,
>>>>>>> edd0ef65c9588b283152b9258c0d28cfa6f96e50
     "metadata": {},
     "output_type": "execute_result"
    },
    {
     "data": {
<<<<<<< HEAD
      "image/png": "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",
=======
      "image/png": "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",
>>>>>>> edd0ef65c9588b283152b9258c0d28cfa6f96e50
      "text/plain": [
       "<Figure size 640x480 with 1 Axes>"
      ]
     },
     "metadata": {},
     "output_type": "display_data"
    }
   ],
   "source": [
    "# use sns.histplot() and set hue=\"Survived\" and kde=True\n",
    "sns.histplot(x=\"Age\", hue=\"Survived\", data=df, kde=True)"
   ]
  },
  {
   "cell_type": "markdown",
   "id": "e4758f6d",
   "metadata": {},
   "source": [
    "### Explore the distribution of survivers by gender"
   ]
  },
  {
   "cell_type": "code",
<<<<<<< HEAD
   "execution_count": 49,
=======
   "execution_count": 39,
>>>>>>> edd0ef65c9588b283152b9258c0d28cfa6f96e50
   "id": "c28671b6",
   "metadata": {},
   "outputs": [
    {
     "data": {
      "text/plain": [
       "<Axes: xlabel='Survived', ylabel='count'>"
      ]
     },
<<<<<<< HEAD
     "execution_count": 49,
=======
     "execution_count": 39,
>>>>>>> edd0ef65c9588b283152b9258c0d28cfa6f96e50
     "metadata": {},
     "output_type": "execute_result"
    },
    {
     "data": {
<<<<<<< HEAD
      "image/png": "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",
=======
      "image/png": "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",
>>>>>>> edd0ef65c9588b283152b9258c0d28cfa6f96e50
      "text/plain": [
       "<Figure size 640x480 with 1 Axes>"
      ]
     },
     "metadata": {},
     "output_type": "display_data"
    }
   ],
   "source": [
    "# use sns.countplot() and set hue=\"Sex\" \n",
<<<<<<< HEAD
    "sns. countplot(x=\"Survived\", hue=\"Sex\", data=df)"
=======
    "sns.countplot(x=df[\"Survived\"], hue=df[\"Sex\"])"
>>>>>>> edd0ef65c9588b283152b9258c0d28cfa6f96e50
   ]
  },
  {
   "cell_type": "markdown",
   "id": "af27f31c",
   "metadata": {},
   "source": [
    "### Explore the distribution of surviver by passenger class"
   ]
  },
  {
   "cell_type": "code",
   "execution_count": 41,
   "id": "4cff22e3",
   "metadata": {},
   "outputs": [
    {
     "data": {
      "text/plain": [
       "<seaborn.axisgrid.FacetGrid at 0x2721984ad10>"
      ]
     },
     "execution_count": 41,
     "metadata": {},
     "output_type": "execute_result"
    },
    {
     "data": {
      "image/png": "iVBORw0KGgoAAAANSUhEUgAABEEAAAHqCAYAAADrglBeAAAAOXRFWHRTb2Z0d2FyZQBNYXRwbG90bGliIHZlcnNpb24zLjguMCwgaHR0cHM6Ly9tYXRwbG90bGliLm9yZy81sbWrAAAACXBIWXMAAA9hAAAPYQGoP6dpAAA9HUlEQVR4nO3de5hXZb03/veX04gyjHKagUSER3JrgCmaYiZ4AHN7zvJYypbsgGKIpwdTo8OW1J1Y2iZzezbDSjHbHkkDJbKUa5PHrYkYuGPCFGYEcUD8Pn/4c357EjVx4MuwXq/rWtfFWutea31uriX3+J57rVUql8vlAAAAAGzi2lW6AAAAAIANQQgCAAAAFIIQBAAAACgEIQgAAABQCEIQAAAAoBCEIAAAAEAhCEEAAACAQhCCAAAAAIUgBAEAAAAKQQgCtJqZM2emVCpl2bJl6/U6o0ePzuGHH75erwEAG5IxFGDDEILAJmbJkiX58pe/nG222SZVVVWpq6vLAQcckN/97nfr/dp77rlnFi9enJqamvV+rfVt4cKFOeSQQ7LFFlukR48eOe2007Jq1apKlwXAemQMbR1f+9rXMnTo0FRVVeXjH/94pcsBaKFDpQsAWteRRx6Z1atX5/rrr8+AAQPy17/+Nffff39eeeWVdT5nuVzOmjVr0qHDe/+T0alTp9TV1a3zdTYWa9asyUEHHZSePXtm9uzZefnll3PiiSemXC7n8ssvr3R5AKwnxtDWUS6Xc9JJJ+X3v/99HnvssUqXA9CCmSCwCVm2bFlmz56diy66KPvss0/69euXT3ziE5k4cWIOOuigJMkLL7yQUqmUefPmtTiuVCpl5syZSf7/Kbn33ntvdt1111RVVeXqq69OqVTKf//3f7e45qWXXpptt9025XK5xVTehoaGdO7cOffcc0+L9rfddlu22GKLLF++PEnyP//zPzn66KOz1VZbpXv37jnssMPywgsvNLdfs2ZNJkyYkC233DLdu3fP2WefnXK53Pp/ef/Lfffdl6eeeio33XRTdt555+y///753ve+l6uuuiqNjY3r9doAVIYxtPX84Ac/yCmnnJIBAwas92sBfFBCENiEdOnSJV26dMntt9+epqamD32+s88+O5MnT87TTz+dz372sxk6dGh+8pOftGhz880357jjjkupVGqxvaamJgcddNBa2x922GHp0qVLXnvtteyzzz7p0qVLHnzwwcyePTtdunTJpz/96eZHT773ve/lmmuuydVXX53Zs2fnlVdeyfTp09+z7oULFzb/Xbzb8pWvfOVdj//d736XQYMGpU+fPs3bDjjggDQ1NWXu3Ln/0N8dAG2LMfQtH3YMBdjYeRwGNiEdOnTIddddl5NPPjk/+tGPsssuu2T48OE55phjMmTIkA98vm9961sZOXJk8/rxxx+fK664It/+9reTJM8++2zmzp2bG264Ya3HH3/88TnhhBPy2muvZfPNN09jY2PuvPPO3HrrrUmSadOmpV27dvmP//iP5h8Ar7322my55ZaZOXNmRo0alcsuuywTJ07MkUcemST50Y9+lHvvvfc96+7Tp0+L39KtTdeuXd91X319fWpra1ts22qrrdKpU6fU19e/53kBaJuMoW/5sGMowMbOTBDYxBx55JH5y1/+kjvuuCMHHHBAZs6cmV122SXXXXfdBz7Xrrvu2mL9mGOOyZ///Oc8/PDDSZKf/OQn+fjHP54dd9xxrccfdNBB6dChQ+64444kya233prq6uqMGjUqSTJ37tw899xzqa6ubv7tUrdu3fL6669n/vz5aWhoyOLFizNs2LDmc3bo0OEddf29Dh06ZLvttnvPpVevXu95jr//rVzy1jPOa9sOwKbBGNo6YyjAxkwIApugzTbbLCNHjswFF1yQOXPmZPTo0fnGN76RJGnX7q3/7P/3M8GrV69e63m22GKLFuu9e/fOPvvsk5tvvjlJ8tOf/jSf//zn37WOTp065bOf/Wxz+5tvvjlHH31088vh3nzzzQwdOjTz5s1rsTz77LM57rjj1rH3H34qb11d3TtmfCxdujSrV69+xwwRADYtxlCPwwCbNo/DQAHsuOOOuf3225MkPXv2TJIsXrw4O++8c5K877TX/+3444/POeeck2OPPTbz58/PMccc877tR40alSeffDK/+c1vmqcBJ8kuu+ySW265Jb169XrXqbW9e/fOww8/nL333jtJ8sYbb2Tu3LnZZZdd3vWaH3Yq77Bhw/Kv//qvWbx4cXr37p3krZelVlVVZejQoe95XgA2LcbQd/I4DNCWCUFgE/Lyyy/nc5/7XE466aQMGTIk1dXVefTRR3PxxRfnsMMOS5J07tw5e+yxR7773e9m2223zd/+9recd955//A1PvOZz+SrX/1qvvrVr2afffbJRz7ykfdsP3z48NTW1ub444/Ptttumz322KN53/HHH59LLrkkhx12WL71rW9l6623zsKFC3PbbbflrLPOytZbb52vfe1r+e53v5uBAwdmhx12yKWXXpply5a95zXfnsq7rkaNGpUdd9wxX/jCF3LJJZfklVdeyZlnnpmTTz7ZD34Amyhj6Fs+7BiaJM8991yWL1+e+vr6rFy5sjlU2XHHHdOpU6cPdW6AD8vjMLAJ6dKlS3bfffdMmTIle++9dwYNGpTzzz8/J598cq644ormdtdcc01Wr16dXXfdNV/72tfyne985x++RteuXXPIIYfkj3/8Y44//vj3bV8qlXLssceutf3mm2+eBx98MNtss00+85nPZIcddshJJ52UlStXNocNZ5xxRk444YSMHj06w4YNS3V1dY444oh/uN510b59+9x5553ZbLPN8slPfjJHHXVUDj/88Pzbv/3ber0uAJVjDG09X/ziF7PzzjvnyiuvzLPPPpudd945O++8c/7yl7+s92sDvJ9SeUN8LBwAAACgwswEAQAAAApBCAIAAAAUghAEAAAAKAQhCAAAAFAIQhAAAACgEIQgAAAAQCEIQZKUy+U0NjbG14IB4IMxhgIAbYkQJMmrr76ampqavPrqq5UuBQDaFGMoANCWCEEAAACAQhCCAAAAAIUgBAEAAAAKQQgCAAAAFIIQBAAAACgEIQgAAABQCEIQAAAAoBCEIAAAAEAhCEEAAACAQhCCAAAAAIUgBAEAAAAKQQgCAAAAFIIQBAAAACgEIQgAAABQCBUNQaZOnZohQ4aka9eu6dq1a4YNG5a77767eX+5XM6kSZPSp0+fdO7cOSNGjMiTTz7Z4hxNTU0ZN25cevTokS222CKHHnpoXnzxxQ3dFQAAAGAjV9EQZOutt853v/vdPProo3n00Uez77775rDDDmsOOi6++OJceumlueKKK/LII4+krq4uI0eOzKuvvtp8jvHjx2f69OmZNm1aZs+eneXLl+fggw/OmjVrKtUtAAAAYCNUKpfL5UoX8b9169Ytl1xySU466aT06dMn48ePzznnnJPkrVkftbW1ueiii/LlL385DQ0N6dmzZ2688cYcffTRSZK//OUv6du3b+66664ccMAB/9A1GxsbU1NTk4aGhnTt2nW99Q0ANjXGUACgLdlo3gmyZs2aTJs2LStWrMiwYcOyYMGC1NfXZ9SoUc1tqqqqMnz48MyZMydJMnfu3KxevbpFmz59+mTQoEHNbQAAAACSpEOlC3j88cczbNiwvP766+nSpUumT5+eHXfcsTnEqK2tbdG+trY2f/7zn5Mk9fX16dSpU7baaqt3tKmvr3/XazY1NaWpqal5vbGxsbW6AwCbNGMoANCWVTwE2X777TNv3rwsW7Yst956a0488cTMmjWreX+pVGrRvlwuv2Pb33u/NpMnT843v/nND1c4QBsx9KwbKl3CBjP3khMqXcImzxgKALRlFX8cplOnTtluu+2y6667ZvLkydlpp53y/e9/P3V1dUnyjhkdS5YsaZ4dUldXl1WrVmXp0qXv2mZtJk6cmIaGhuZl0aJFrdwrANg0GUMBgLas4iHI3yuXy2lqakr//v1TV1eXGTNmNO9btWpVZs2alT333DNJMnTo0HTs2LFFm8WLF+eJJ55obrM2VVVVzZ/lfXsBAN6fMRQAaMsq+jjMueeemwMPPDB9+/bNq6++mmnTpmXmzJm55557UiqVMn78+Fx44YUZOHBgBg4cmAsvvDCbb755jjvuuCRJTU1NxowZkzPOOCPdu3dPt27dcuaZZ2bw4MHZf//9K9k1AAAAYCNT0RDkr3/9a77whS9k8eLFqampyZAhQ3LPPfdk5MiRSZKzzz47K1euzNixY7N06dLsvvvuue+++1JdXd18jilTpqRDhw456qijsnLlyuy333657rrr0r59+0p1CwAAANgIlcrlcrnSRVRaY2Njampq0tDQYFovsMnxYlTWJ2MoANCWbHTvBAEAAABYH4QgAAAAQCEIQQAAAIBCEIIAAAAAhSAEAQAAAApBCAIAAAAUghAEAAAAKAQhCAAAAFAIQhAAAACgEIQgAAAAQCEIQQAAAIBCEIIAAAAAhSAEAQAAAApBCAIAAAAUghAEAAAAKAQhCAAAAFAIQhAAAACgEIQgAAAAQCEIQQAAAIBCEIIAAAAAhSAEAQAAAApBCAIAAAAUghAEAAAAKAQhCAAAAFAIQhAAAACgEIQgAAAAQCEIQQAAAIBCEIIAAAAAhSAEAQAAAApBCAIAAAAUghAEAAAAKAQhCAAAAFAIQhAAAACgEIQgAAAAQCEIQQAAAIBCEIIAAAAAhSAEAQAAAApBCAIAAAAUghAEAAAAKAQhCAAAAFAIQhAAAACgEIQgAAAAQCEIQQAAAIBCEIIAAAAAhSAEAQAAAApBCAIAAAAUghAEAAAAKAQhCAAAAFAIQhAAAACgEIQgAAAAQCEIQQAAAIBCEIIAAAAAhSAEAQAAAApBCAIAAAAUQkVDkMmTJ2e33XZLdXV1evXqlcMPPzzPPPNMizajR49OqVRqseyxxx4t2jQ1NWXcuHHp0aNHtthiixx66KF58cUXN2RXAAAAgI1cRUOQWbNm5ZRTTsnDDz+cGTNm5I033sioUaOyYsWKFu0+/elPZ/Hixc3LXXfd1WL/+PHjM3369EybNi2zZ8/O8uXLc/DBB2fNmjUbsjsAAADARqxDJS9+zz33tFi/9tpr06tXr8ydOzd777138/aqqqrU1dWt9RwNDQ25+uqrc+ONN2b//fdPktx0003p27dvfv3rX+eAAw5Yfx0AAAAA2oyN6p0gDQ0NSZJu3bq12D5z5sz06tUrH/3oR3PyySdnyZIlzfvmzp2b1atXZ9SoUc3b+vTpk0GDBmXOnDlrvU5TU1MaGxtbLADA+zOGAgBt2UYTgpTL5UyYMCF77bVXBg0a1Lz9wAMPzE9+8pM88MAD+d73vpdHHnkk++67b5qampIk9fX16dSpU7baaqsW56utrU19ff1arzV58uTU1NQ0L3379l1/HQOATYgxFABoyzaaEOTUU0/NY489lp/+9Kctth999NE56KCDMmjQoBxyyCG5++678+yzz+bOO+98z/OVy+WUSqW17ps4cWIaGhqal0WLFrVaPwBgU2YMBQDasoq+E+Rt48aNyx133JEHH3wwW2+99Xu27d27d/r165c//elPSZK6urqsWrUqS5cubTEbZMmSJdlzzz3Xeo6qqqpUVVW1XgcAoCCMoQBAW1bRmSDlcjmnnnpqbrvttjzwwAPp37//+x7z8ssvZ9GiRendu3eSZOjQoenYsWNmzJjR3Gbx4sV54okn3jUEAQAAAIqnojNBTjnllNx888355S9/merq6uZ3eNTU1KRz585Zvnx5Jk2alCOPPDK9e/fOCy+8kHPPPTc9evTIEUcc0dx2zJgxOeOMM9K9e/d069YtZ555ZgYPHtz8tRgAAACAioYgU6dOTZKMGDGixfZrr702o0ePTvv27fP444/nhhtuyLJly9K7d+/ss88+ueWWW1JdXd3cfsqUKenQoUOOOuqorFy5Mvvtt1+uu+66tG/ffkN2BwAAANiIlcrlcrnSRVRaY2Njampq0tDQkK5du1a6HIBWNfSsGypdwgYz95ITKl1C4RhDAYC2ZKP5OgwAAADA+iQEAQAAAApBCAIAAAAUghAEAAAAKAQhCAAAAFAIQhAAAACgEIQgAAAAQCEIQQAAAIBCEIIAAAAAhSAEAQAAAApBCAIAAAAUghAEAAAAKAQhCAAAAFAIQhAAAACgEIQgAAAAQCEIQQAAAIBCEIIAAAAAhSAEAQAAAApBCAIAAAAUghAEAAAAKAQhCAAAAFAIQhAAAACgEIQgAAAAQCEIQQAAAIBCEIIAAAAAhSAEAQAAAApBCAIAAAAUghAEAAAAKAQhCAAAAFAIQhAAAACgEIQgAAAAQCEIQQAAAIBCEIIAAAAAhSAEAQAAAApBCAIAAAAUghAEAAAAKAQhCAAAAFAIQhAAAACgEIQgAAAAQCEIQQAAAIBCEIIAAAAAhSAEAQAAAApBCAIAAAAUghAEAAAAKAQhCAAAAFAIQhAAAACgEIQgAAAAQCEIQQAAAIBCEIIAAAAAhSAEAQAAAApBCAIAAAAUghAEAAAAKAQhCAAAAFAIQhAAAACgECoagkyePDm77bZbqqur06tXrxx++OF55plnWrQpl8uZNGlS+vTpk86dO2fEiBF58sknW7RpamrKuHHj0qNHj2yxxRY59NBD8+KLL27IrgAAAAAbuYqGILNmzcopp5yShx9+ODNmzMgbb7yRUaNGZcWKFc1tLr744lx66aW54oor8sgjj6Suri4jR47Mq6++2txm/PjxmT59eqZNm5bZs2dn+fLlOfjgg7NmzZpKdAsAAADYCJXK5XK50kW87aWXXkqvXr0ya9as7L333imXy+nTp0/Gjx+fc845J8lbsz5qa2tz0UUX5ctf/nIaGhrSs2fP3HjjjTn66KOTJH/5y1/St2/f3HXXXTnggAPe97qNjY2pqalJQ0NDunbtul77CLChDT3rhkqXsMHMveSESpdQOMZQAKAt2ajeCdLQ0JAk6datW5JkwYIFqa+vz6hRo5rbVFVVZfjw4ZkzZ06SZO7cuVm9enWLNn369MmgQYOa2/y9pqamNDY2tlgAgPdnDAUA2rKNJgQpl8uZMGFC9tprrwwaNChJUl9fnySpra1t0ba2trZ5X319fTp16pStttrqXdv8vcmTJ6empqZ56du3b2t3BwA2ScZQAKAt22hCkFNPPTWPPfZYfvrTn75jX6lUarFeLpffse3vvVebiRMnpqGhoXlZtGjRuhcOAAViDAUA2rIOlS4gScaNG5c77rgjDz74YLbeeuvm7XV1dUnemu3Ru3fv5u1Llixpnh1SV1eXVatWZenSpS1mgyxZsiR77rnnWq9XVVWVqqqq9dEVANikGUMBgLasojNByuVyTj311Nx222154IEH0r9//xb7+/fvn7q6usyYMaN526pVqzJr1qzmgGPo0KHp2LFjizaLFy/OE0888a4hCAAAAFA8FZ0Jcsopp+Tmm2/OL3/5y1RXVze/w6OmpiadO3dOqVTK+PHjc+GFF2bgwIEZOHBgLrzwwmy++eY57rjjmtuOGTMmZ5xxRrp3755u3brlzDPPzODBg7P//vtXsnsAAADARqSiIcjUqVOTJCNGjGix/dprr83o0aOTJGeffXZWrlyZsWPHZunSpdl9991z3333pbq6urn9lClT0qFDhxx11FFZuXJl9ttvv1x33XVp3779huoKAAAAsJErlcvlcqWLqLTGxsbU1NSkoaEhXbt2rXQ5AK1q6Fk3VLqEDWbuJSdUuoTCMYYCAG3JRvN1GAAAAID1SQgCAAAAFIIQBAAAACgEIQgAAABQCEIQAAAAoBCEIAAAAEAhCEEAAACAQhCCAAAAAIUgBAEAAAAKQQgCAAAAFIIQBAAAACgEIQgAAABQCEIQAAAAoBCEIAAAAEAhCEEAAACAQhCCAAAAAIUgBAEAAAAKQQgCAAAAFIIQBAAAACgEIQgAAABQCEIQAAAAoBCEIAAAAEAhCEEAAACAQhCCAAAAAIUgBAEAAAAKQQgCAAAAFIIQBAAAACgEIQgAAABQCEIQAAAAoBCEIAAAAEAhCEEAAACAQlinEGTffffNsmXL3rG9sbEx++6774etCQAAAKDVrVMIMnPmzKxateod219//fU89NBDH7ooAAAAgNbW4YM0fuyxx5r//NRTT6W+vr55fc2aNbnnnnvykY98pPWqAwAAAD6UJUuW5Pzzz8/dd9+dv/71r9lqq62y0047ZdKkSRk2bFily9ugPlAI8vGPfzylUimlUmmtj7107tw5l19+easVBwAAAHw4Rx55ZFavXp3rr78+AwYMyF//+tfcf//9eeWVVypd2gb3gUKQBQsWpFwuZ8CAAfnDH/6Qnj17Nu/r1KlTevXqlfbt27d6kQAAAMAHt2zZssyePTszZ87M8OHDkyT9+vXLJz7xieY2DQ0NOeuss3L77bfn9ddfz6677popU6Zkp512yksvvZTBgwfntNNOy7nnnpsk+f3vf59PfepT+c///M+MGjWqIv1aVx8oBOnXr1+S5M0331wvxQAAAACtp0uXLunSpUtuv/327LHHHqmqqmqxv1wu56CDDkq3bt1y1113paamJldeeWX222+/PPvss+nZs2euueaaHH744Rk1alT+6Z/+KZ///OczduzYNheAJEmpXC6X1+XAZ599NjNnzsySJUveEYpccMEFrVLchtLY2Jiampo0NDSka9eulS4HoFUNPeuGSpewwcy95IRKl1A4xlAA2PjdeuutOfnkk7Ny5crssssuGT58eI455pgMGTIkDzzwQI444ogsWbKkRUCy3Xbb5eyzz86XvvSlJMkpp5ySX//619ltt93yxz/+MY888kg222yzSnVpnX2gmSBvu+qqq/LVr341PXr0SF1dXUqlUvO+UqnU5kIQAAAA2FQdeeSROeigg/LQQw/ld7/7Xe65555cfPHF+Y//+I+89NJLWb58ebp3797imJUrV2b+/PnN6//2b/+WQYMG5Wc/+1keffTRNhmAJOsYgnznO9/Jv/7rv+acc85p7XoAAACAVrbZZptl5MiRGTlyZC644IJ88YtfzDe+8Y2MHTs2vXv3zsyZM99xzJZbbtn85+effz5/+ctf8uabb+bPf/5zhgwZsuGKb0XrFIIsXbo0n/vc51q7FgAAAGAD2HHHHXP77bdnl112SX19fTp06JBtt912rW1XrVqV448/PkcffXT+6Z/+KWPGjMnjjz+e2traDVt0K2i3Lgd97nOfy3333dfatQAAAACt6OWXX86+++6bm266KY899lgWLFiQn//857n44otz2GGHZf/998+wYcNy+OGH5957780LL7yQOXPm5Lzzzsujjz6aJPn617+ehoaG/OAHP8jZZ5+dHXbYIWPGjKlwz9bNOs0E2W677XL++efn4YcfzuDBg9OxY8cW+0877bRWKQ4AAABYd126dMnuu++eKVOmZP78+Vm9enX69u2bk08+Oeeee25KpVLuuuuufP3rX89JJ52Ul156KXV1ddl7771TW1ubmTNn5rLLLstvfvOb5peg33jjjRkyZEimTp2ar371qxXu4QezTl+H6d+//7ufsFTK888//6GK2tC82R7YlPk6DOuTMRQAaEvWaSbIggULWrsOAAAAgPVqnd4JAgAAANDWrNNMkJNOOuk9919zzTXrVAwAAADA+rLOn8j931avXp0nnngiy5Yty7777tsqhQEAAAC0pnUKQaZPn/6ObW+++WbGjh2bAQMGfOiiAAAAAFpbq70TpF27djn99NMzZcqU1jolAAAAQKtp1Rejzp8/P2+88UZrnhIAAACgVazT4zATJkxosV4ul7N48eLceeedOfHEE1ulMAAAAIDWtE4hyH/913+1WG/Xrl169uyZ733ve+/75RgAAACASlinx2F+85vftFjuv//+TJs2LV/60pfSocM/nqs8+OCDOeSQQ9KnT5+USqXcfvvtLfaPHj06pVKpxbLHHnu0aNPU1JRx48alR48e2WKLLXLooYfmxRdfXJduAQAAAK1g9OjROfzwwytdxjus00yQt7300kt55plnUiqV8tGPfjQ9e/b8QMevWLEiO+20U/7lX/4lRx555FrbfPrTn861117bvN6pU6cW+8ePH59f/epXmTZtWrp3754zzjgjBx98cObOnZv27dt/8E4BAABAKxp61g0b7FpzLzlhg12rLVqnEGTFihUZN25cbrjhhrz55ptJkvbt2+eEE07I5Zdfns033/wfOs+BBx6YAw888D3bVFVVpa6ubq37GhoacvXVV+fGG2/M/vvvnyS56aab0rdv3/z617/OAQcc8AF6BQAAAGzK1ulxmAkTJmTWrFn51a9+lWXLlmXZsmX55S9/mVmzZuWMM85o1QJnzpyZXr165aMf/WhOPvnkLFmypHnf3Llzs3r16owaNap5W58+fTJo0KDMmTOnVesAAACATdGIESMybty4jB8/PltttVVqa2vz4x//OCtWrMi//Mu/pLq6Ov/n//yf3H333UmSNWvWZMyYMenfv386d+6c7bffPt///vff8xrlcjkXX3xxBgwYkM6dO2ennXbKL37xiw3RvRbWaSbIrbfeml/84hcZMWJE87Z//ud/TufOnXPUUUdl6tSprVLcgQcemM997nPp169fFixYkPPPPz/77rtv5s6dm6qqqtTX16dTp07ZaqutWhxXW1ub+vr6dz1vU1NTmpqamtcbGxtbpV4A2NQZQwFg03T99dfn7LPPzh/+8Ifccsst+epXv5rbb789RxxxRM4999xMmTIlX/jCF7Jw4cJ07NgxW2+9dX72s5+lR48emTNnTr70pS+ld+/eOeqoo9Z6/vPOOy+33XZbpk6dmoEDB+bBBx/M5z//+fTs2TPDhw/fYP1cpxDktddeS21t7Tu29+rVK6+99tqHLuptRx99dPOfBw0alF133TX9+vXLnXfemc985jPvely5XE6pVHrX/ZMnT843v/nNVqsTAIrCGAoAm6addtop5513XpJk4sSJ+e53v5sePXrk5JNPTpJccMEFmTp1ah577LHsscceLX4e6N+/f+bMmZOf/exnaw1BVqxYkUsvvTQPPPBAhg0bliQZMGBAZs+enSuvvHKDhiDr9DjMsGHD8o1vfCOvv/5687aVK1fmm9/8ZnOH1ofevXunX79++dOf/pQkqaury6pVq7J06dIW7ZYsWbLWkOZtEydOTENDQ/OyaNGi9VYzAGxKjKEAsGkaMmRI85/bt2+f7t27Z/Dgwc3b3v5/7LdfUfGjH/0ou+66a3r27JkuXbrkqquuysKFC9d67qeeeiqvv/56Ro4cmS5dujQvN9xwQ+bPn78ee/VO6zQT5LLLLsuBBx6YrbfeOjvttFNKpVLmzZuXqqqq3Hfffa1dY7OXX345ixYtSu/evZMkQ4cOTceOHTNjxozmtGnx4sV54okncvHFF7/reaqqqlJVVbXe6gSATZUxFAA2TR07dmyxXiqVWmx7+2mLN998Mz/72c9y+umn53vf+16GDRuW6urqXHLJJfn973+/1nO//UGVO++8Mx/5yEda7NvQP1esUwgyePDg/OlPf8pNN92U//7v/065XM4xxxyT448/Pp07d/6Hz7N8+fI899xzzesLFizIvHnz0q1bt3Tr1i2TJk3KkUcemd69e+eFF17Iueeemx49euSII45IktTU1GTMmDE544wz0r1793Tr1i1nnnlmBg8e3Py1GAAAAKD1PPTQQ9lzzz0zduzY5m3vNaNjxx13TFVVVRYuXLhBH31Zm3UKQSZPnpza2trmZ4Peds011+Sll17KOeec8w+d59FHH80+++zTvD5hwoQkyYknnpipU6fm8ccfzw033JBly5ald+/e2WeffXLLLbekurq6+ZgpU6akQ4cOOeqoo7Jy5crst99+ue6669K+fft16RoAAADwHrbbbrvccMMNuffee9O/f//ceOONeeSRR9K/f/+1tq+urs6ZZ56Z008/PW+++Wb22muvNDY2Zs6cOenSpUtOPPHEDVb7OoUgV155ZW6++eZ3bP/Yxz6WY4455h8OQUaMGJFyufyu+++99973Pcdmm22Wyy+/PJdffvk/dE0AAABg3X3lK1/JvHnzcvTRR6dUKuXYY4/N2LFjmz+huzbf/va306tXr0yePDnPP/98ttxyy+yyyy4599xzN2DlSan8XinEu9hss83y9NNPvyPlef7557Pjjju2eGFqW9DY2Jiampo0NDSka9eulS4HoFUNPeuGSpewwcy95IRKl1A4xlAAoC1Zp6/D9O3bN7/97W/fsf23v/1t+vTp86GLAgAAAGht6/Q4zBe/+MWMHz8+q1evzr777pskuf/++3P22WfnjDPOaNUCAQAAAFrDOoUgZ599dl555ZWMHTs2q1atSvLWIzLnnHNOJk6c2KoFAgAAALSGdQpBSqVSLrroopx//vl5+umn07lz5wwcOHCDf98XAAAA4B+1TiHI27p06ZLddtuttWoBAAAAWG/W6cWoAAAAAG2NEAQAAAAoBCEIAAAAUAhCEAAAAKAQhCAAAABQYOVyOV/60pfSrVu3lEqlzJs3ryJ1vPDCC+v9+h/q6zAAAADAe1v4rcEb7FrbXPD4Bz7mnnvuyXXXXZeZM2dmwIAB6dGjx3qobOMgBAEAAIACmz9/fnr37p0999yz0qWsdx6HAQAAgIIaPXp0xo0bl4ULF6ZUKmXbbbdNuVzOxRdfnAEDBqRz587Zaaed8otf/KL5mJkzZ6ZUKuXee+/NzjvvnM6dO2fffffNkiVLcvfdd2eHHXZI165dc+yxx+a1115rPu6ee+7JXnvtlS233DLdu3fPwQcfnPnz579nfU899VT++Z//OV26dEltbW2+8IUv5G9/+9s691cIAgAAAAX1/e9/P9/61rey9dZbZ/HixXnkkUdy3nnn5dprr83UqVPz5JNP5vTTT8/nP//5zJo1q8WxkyZNyhVXXJE5c+Zk0aJFOeqoo3LZZZfl5ptvzp133pkZM2bk8ssvb26/YsWKTJgwIY888kjuv//+tGvXLkcccUTefPPNtda2ePHiDB8+PB//+Mfz6KOP5p577slf//rXHHXUUevcX4/DAAAAQEHV1NSkuro67du3T11dXVasWJFLL700DzzwQIYNG5YkGTBgQGbPnp0rr7wyw4cPbz72O9/5Tj75yU8mScaMGZOJEydm/vz5GTBgQJLks5/9bH7zm9/knHPOSZIceeSRLa599dVXp1evXnnqqacyaNCgd9Q2derU7LLLLrnwwgubt11zzTXp27dvnn322Xz0ox/9wP0VggAAAABJ3nr85PXXX8/IkSNbbF+1alV23nnnFtuGDBnS/Ofa2tpsvvnmzQHI29v+8Ic/NK/Pnz8/559/fh5++OH87W9/a54BsnDhwrWGIHPnzs1vfvObdOnS5R375s+fLwQBAAAA1t3bwcSdd96Zj3zkIy32VVVVtVjv2LFj859LpVKL9be3/e9HXQ455JD07ds3V111Vfr06ZM333wzgwYNyqpVq961lkMOOSQXXXTRO/b17t37g3Xs/yMEAQAAAJIkO+64Y6qqqrJw4cIWj758WC+//HKefvrpXHnllfnUpz6VJJk9e/Z7HrPLLrvk1ltvzbbbbpsOHVonvvBiVAAAACBJUl1dnTPPPDOnn356rr/++syfPz//9V//lR/+8Ie5/vrr1/m8W221Vbp3754f//jHee655/LAAw9kwoQJ73nMKaeckldeeSXHHnts/vCHP+T555/Pfffdl5NOOilr1qxZpzrMBAEAAACaffvb306vXr0yefLkPP/889lyyy2zyy675Nxzz13nc7Zr1y7Tpk3LaaedlkGDBmX77bfPD37wg4wYMeJdj+nTp09++9vf5pxzzskBBxyQpqam9OvXL5/+9KfTrt26zekolcvl8jr2YZPR2NiYmpqaNDQ0pGvXrpUuB6BVDT3rhkqXsMHMveSESpdQOMZQAKAt8TgMAAAAUAhCEAAAAKAQhCAAAABAIQhBAAAAgEIQggAAAACFIAQBAAAACkEIAgAAABSCEAQAAAAoBCEIAAAAUAhCEAAAAKAQhCAAAABAIQhBAAAAgEIQggAAAACFIAQBAAAACkEIAgAAABSCEAQAAAAoBCEIAAAAUAhCEAAAAKAQhCAAAABAIQhBAAAAgEIQggAAAACFIAQBAAAACkEIAgAAABSCEAQAAAAoBCEIAAAAUAhCEAAAAKAQhCAAAABAIQhBAAAAgEIQggAAAACFIAQBAAAACkEIAgAAABSCEAQAAAAohIqGIA8++GAOOeSQ9OnTJ6VSKbfffnuL/eVyOZMmTUqfPn3SuXPnjBgxIk8++WSLNk1NTRk3blx69OiRLbbYIoceemhefPHFDdgLAAAAoC2oaAiyYsWK7LTTTrniiivWuv/iiy/OpZdemiuuuCKPPPJI6urqMnLkyLz66qvNbcaPH5/p06dn2rRpmT17dpYvX56DDz44a9as2VDdAAAAANqADpW8+IEHHpgDDzxwrfvK5XIuu+yyfP3rX89nPvOZJMn111+f2tra3Hzzzfnyl7+choaGXH311bnxxhuz//77J0luuumm9O3bN7/+9a9zwAEHbLC+AAAAABu3jfadIAsWLEh9fX1GjRrVvK2qqirDhw/PnDlzkiRz587N6tWrW7Tp06dPBg0a1NxmbZqamtLY2NhiAQDenzEUAGjLNtoQpL6+PklSW1vbYnttbW3zvvr6+nTq1ClbbbXVu7ZZm8mTJ6empqZ56du3bytXDwCbJmMoANCWbbQhyNtKpVKL9XK5/I5tf+/92kycODENDQ3Ny6JFi1qlVgDY1BlDAYC2rKLvBHkvdXV1Sd6a7dG7d+/m7UuWLGmeHVJXV5dVq1Zl6dKlLWaDLFmyJHvuuee7nruqqipVVVXrqXIA2HQZQwGAtmyjnQnSv3//1NXVZcaMGc3bVq1alVmzZjUHHEOHDk3Hjh1btFm8eHGeeOKJ9wxBAAAAgOKp6EyQ5cuX57nnnmteX7BgQebNm5du3bplm222yfjx43PhhRdm4MCBGThwYC688MJsvvnmOe6445IkNTU1GTNmTM4444x079493bp1y5lnnpnBgwc3fy0GAAAAIKlwCPLoo49mn332aV6fMGFCkuTEE0/Mddddl7PPPjsrV67M2LFjs3Tp0uy+++657777Ul1d3XzMlClT0qFDhxx11FFZuXJl9ttvv1x33XVp3779Bu8PAAAAsPEqlcvlcqWLqLTGxsbU1NSkoaEhXbt2rXQ5AK1q6Fk3VLqEDWbuJSdUuoTCMYYCAG3JRvtOEAAAAIDWJAQBAAAACkEIAgAAABSCEAQAAAAoBCEIAAAAUAgV/UQu8E5F+pJH4mseQLEs/NbgSpewwWxzweOVLgEA3sFMEAAAAKAQhCAAAABAIQhBAAAAgEIQggAAAACFIAQBAAAACkEIAgAAABSCEAQAAAAoBCEIAAAAUAhCEAAAAKAQhCAAAABAIQhBAAAAgEIQggAAAACFIAQBAAAACkEIAgAAABSCEAQAAAAoBCEIAAAAUAhCEAAAAKAQOlS6gE3B0LNuqHQJG8zcS06odAkAAACwTswEAQAAAApBCAIAAAAUghAEAAAAKAQhCAAAAFAIQhAAAACgEIQgAAAAQCH4RC4Am4yF3xpc6RI2qG0ueLzSJQCwCSnSOGoMLS4zQQAAAIBCMBMEAADaoCL91j7xm3ugdZgJAgAAABSCEAQAAAAoBCEIAAAAUAhCEAAAAKAQhCAAAABAIQhBAAAAgEIQggAAAACFIAQBAAAACkEIAgAAABSCEAQAAAAoBCEIAAAAUAhCEAAAAKAQhCAAAABAIQhBAAAAgEIQggAAAACFIAQBAAAACkEIAgAAABSCEAQAAAAoBCEIAAAAUAhCEAAAAKAQhCAAAABAIWzUIcikSZNSKpVaLHV1dc37y+VyJk2alD59+qRz584ZMWJEnnzyyQpWDAAAAGysNuoQJEk+9rGPZfHixc3L448/3rzv4osvzqWXXporrrgijzzySOrq6jJy5Mi8+uqrFawYAAAA2Bht9CFIhw4dUldX17z07NkzyVuzQC677LJ8/etfz2c+85kMGjQo119/fV577bXcfPPNFa4aAAAA2Nhs9CHIn/70p/Tp0yf9+/fPMccck+effz5JsmDBgtTX12fUqFHNbauqqjJ8+PDMmTPnPc/Z1NSUxsbGFgsA8P6MoQBAW7ZRhyC77757brjhhtx777256qqrUl9fnz333DMvv/xy6uvrkyS1tbUtjqmtrW3e924mT56cmpqa5qVv377rrQ8AsCkxhgIAbdlGHYIceOCBOfLIIzN48ODsv//+ufPOO5Mk119/fXObUqnU4phyufyObX9v4sSJaWhoaF4WLVrU+sUDwCbIGAoAtGUdKl3AB7HFFltk8ODB+dOf/pTDDz88SVJfX5/evXs3t1myZMk7Zof8vaqqqlRVVa3PUgFgk2QMBQDaso16Jsjfa2pqytNPP53evXunf//+qaury4wZM5r3r1q1KrNmzcqee+5ZwSoBAACAjdFGPRPkzDPPzCGHHJJtttkmS5YsyXe+8500NjbmxBNPTKlUyvjx43PhhRdm4MCBGThwYC688MJsvvnmOe644ypdOgAA0MYNPeuGSpewQU2vrnQFsP5t1CHIiy++mGOPPTZ/+9vf0rNnz+yxxx55+OGH069fvyTJ2WefnZUrV2bs2LFZunRpdt9999x3332prvZfLwAAANDSRh2CTJs27T33l0qlTJo0KZMmTdowBQEAAABt1kYdggAAmzZTzQGADalNvRgVAAAAYF0JQQAAAIBCEIIAAAAAhSAEAQAAAApBCAIAAAAUghAEAAAAKAQhCAAAAFAIQhAAAACgEIQgAAAAQCEIQQAAAIBCEIIAAAAAhSAEAQAAAApBCAIAAAAUghAEAAAAKAQhCAAAAFAIQhAAAACgEIQgAAAAQCEIQQAAAIBCEIIAAAAAhSAEAQAAAApBCAIAAAAUghAEAAAAKAQhCAAAAFAIQhAAAACgEIQgAAAAQCEIQQAAAIBCEIIAAAAAhSAEAQAAAApBCAIAAAAUghAEAAAAKAQhCAAAAFAIQhAAAACgEIQgAAAAQCEIQQAAAIBCEIIAAAAAhdCh0gUAAEBrGXrWDZUuYYOZXl3pCgDaHjNBAAAAgEIQggAAAACFIAQBAAAACkEIAgAAABSCEAQAAAAoBCEIAAAAUAhCEAAAAKAQhCAAAABAIQhBAAAAgEIQggAAAACFIAQBAAAACkEIAgAAABSCEAQAAAAohA6VLgAotoXfGlzpEjaYbS54vNIlAABAoZkJAgAAABSCEAQAAAAohE0mBPn3f//39O/fP5tttlmGDh2ahx56qNIlAQAAABuRTeKdILfcckvGjx+ff//3f88nP/nJXHnllTnwwAPz1FNPZZtttql0eZuUIr2/IfEOBwAAgE3JJjET5NJLL82YMWPyxS9+MTvssEMuu+yy9O3bN1OnTq10aQAAAMBGos2HIKtWrcrcuXMzatSoFttHjRqVOXPmVKgqAAAAYGPT5h+H+dvf/pY1a9aktra2xfba2trU19ev9ZimpqY0NTU1rzc0NCRJGhsb16mGNU0r1+m4tujVjmsqXcIGta73xIdRpPspKdY9VYn7KSnWPVWk+yn58PdUdXV1SqXSBzrGGPrhFOke9W/e+lek+ynxc9mGUKR7qhJjKBuHNh+CvO3vb8ByufyuN+XkyZPzzW9+8x3b+/btu15q25QMqnQBG9rkmkpXsMkr1D3lflrvCnU/JR/6nmpoaEjXrl0/2CWNoR9Koe5R/+atd4W6nxL31AZQqHuqAmMoG4dSuVwuV7qID2PVqlXZfPPN8/Of/zxHHHFE8/avfe1rmTdvXmbNmvWOY/7+t1hvvvlmXnnllXTv3l2a9x4aGxvTt2/fLFq0yH/wtAr3FK3J/fTBtcZMEGPoP849SmtyP9Ha3FMfjJkgbVebnwnSqVOnDB06NDNmzGgRgsyYMSOHHXbYWo+pqqpKVVVVi21bbrnl+ixzk9K1a1f/MNKq3FO0JvfT+mUM/fDco7Qm9xOtzT3Fpq7NhyBJMmHChHzhC1/IrrvummHDhuXHP/5xFi5cmK985SuVLg0AAADYSGwSIcjRRx+dl19+Od/61reyePHiDBo0KHfddVf69etX6dIAAACAjcQmEYIkydixYzN27NhKl7FJq6qqyje+8Y13TIOGdeWeojW5n9jYuUdpTe4nWpt7iqJo8y9GBQAAAPhHtKt0AQAAAAAbghAEAAAAKAQhCAAAAFAIQhDe14MPPphDDjkkffr0SalUyu23317pkmjDJk+enN122y3V1dXp1atXDj/88DzzzDOVLos2bOrUqRkyZEi6du2arl27ZtiwYbn77rsrXRY0M47SmoyjtCZjKEUkBOF9rVixIjvttFOuuOKKSpfCJmDWrFk55ZRT8vDDD2fGjBl54403MmrUqKxYsaLSpdFGbb311vnud7+bRx99NI8++mj23XffHHbYYXnyyScrXRokMY7SuoyjtCZjKEXk6zB8IKVSKdOnT8/hhx9e6VLYRLz00kvp1atXZs2alb333rvS5bCJ6NatWy655JKMGTOm0qVAC8ZRWptxlNZmDGVT16HSBQDF1tDQkOStARc+rDVr1uTnP/95VqxYkWHDhlW6HID1zjhKazGGUhRCEKBiyuVyJkyYkL322iuDBg2qdDm0YY8//niGDRuW119/PV26dMn06dOz4447VrosgPXKOEprMIZSNEIQoGJOPfXUPPbYY5k9e3alS6GN23777TNv3rwsW7Yst956a0488cTMmjXLD3HAJs04SmswhlI0QhCgIsaNG5c77rgjDz74YLbeeutKl0Mb16lTp2y33XZJkl133TWPPPJIvv/97+fKK6+scGUA64dxlNZiDKVohCDABlUulzNu3LhMnz49M2fOTP/+/StdEpugcrmcpqamSpcB0OqMo6xvxlA2dUIQ3tfy5cvz3HPPNa8vWLAg8+bNS7du3bLNNttUsDLaolNOOSU333xzfvnLX6a6ujr19fVJkpqamnTu3LnC1dEWnXvuuTnwwAPTt2/fvPrqq5k2bVpmzpyZe+65p9KlQRLjKK3LOEprMoZSRD6Ry/uaOXNm9tlnn3dsP/HEE3Pddddt+IJo00ql0lq3X3vttRk9evSGLYZNwpgxY3L//fdn8eLFqampyZAhQ3LOOedk5MiRlS4NkhhHaV3GUVqTMZQiEoIAAAAAhdCu0gUAAAAAbAhCEAAAAKAQhCAAAABAIQhBAAAAgEIQggAAAACFIAQBAAAACkEIAgAAABSCEAQAAAAoBCEIsMGMHj06hx9+eKXLAIA2xxgK0DqEIMAHMnr06JRKpZRKpXTs2DEDBgzImWeemRUrVlS6NADYqBlDASqvQ6ULANqeT3/607n22muzevXqPPTQQ/niF7+YFStWZOrUqZUuDQA2asZQgMoyEwT4wKqqqlJXV5e+ffvmuOOOy/HHH5/bb789SfLkk0/moIMOSteuXVNdXZ1PfepTmT9//lrPc88992SvvfbKlltume7du+fggw9u0XbVqlU59dRT07t372y22WbZdtttM3ny5Ob9kyZNyjbbbJOqqqr06dMnp5122nrtNwB8WMZQgMoyEwT40Dp37pzVq1fnf/7nf7L33ntnxIgReeCBB9K1a9f89re/zRtvvLHW41asWJEJEyZk8ODBWbFiRS644IIcccQRmTdvXtq1a5cf/OAHueOOO/Kzn/0s22yzTRYtWpRFixYlSX7xi19kypQpmTZtWj72sY+lvr4+f/zjHzdktwHgQzOGAmxYQhDgQ/nDH/6Qm2++Ofvtt19++MMfpqamJtOmTUvHjh2TJB/96Eff9dgjjzyyxfrVV1+dXr165amnnsqgQYOycOHCDBw4MHvttVdKpVL69evX3HbhwoWpq6vL/vvvn44dO2abbbbJJz7xifXTSQBYD4yhABuex2GAD+w///M/06VLl2y22WYZNmxY9t5771x++eWZN29ePvWpTzX/8PZ+5s+fn+OOOy4DBgxI165d079//yRv/XCWvPUCuXnz5mX77bfPaaedlvvuu6/52M997nNZuXJlBgwYkJNPPjnTp09/19+WAcDGwhgKUFlCEOAD22effTJv3rw888wzef3113PbbbelV69e6dy58wc6zyGHHJKXX345V111VX7/+9/n97//fZK3nmNOkl122SULFizIt7/97axcuTJHHXVUPvvZzyZJ+vbtm2eeeSY//OEP07lz54wdOzZ77713Vq9e3bqdBYBWZAwFqCwhCPCBbbHFFtluu+3Sr1+/Fr+xGjJkSB566KF/6Ieol19+OU8//XTOO++87Lffftlhhx2ydOnSd7Tr2rVrjj766Fx11VW55ZZbcuutt+aVV15J8tZz1Iceemh+8IMfZObMmfnd736Xxx9/vPU6CgCtzBgKUFneCQK0mlNPPTWXX355jjnmmEycODE1NTV5+OGH84lPfCLbb799i7ZbbbVVunfvnh//+Mfp3bt3Fi5cmP/7f/9vizZTpkxJ79698/GPfzzt2rXLz3/+89TV1WXLLbfMddddlzVr1mT33XfP5ptvnhtvvDGdO3du8cwzALQVxlCADcNMEKDVdO/ePQ888ECWL1+e4cOHZ+jQobnqqqvW+nxzu3btMm3atMydOzeDBg3K6aefnksuuaRFmy5duuSiiy7Krrvumt122y0vvPBC7rrrrrRr1y5bbrllrrrqqnzyk5/MkCFDcv/99+dXv/pVunfvvqG6CwCtxhgKsGGUyuVyudJFAAAAAKxvZoIAAAAAhSAEAQAAAApBCAIAAAAUghAEAAAAKAQhCAAAAFAIQhAAAACgEIQgAAAAQCEIQQAAAIBCEIIAAAAAhSAEAQAAAApBCAIAAAAUghAEAAAAKIT/B7cM9lpf5P68AAAAAElFTkSuQmCC",
      "text/plain": [
       "<Figure size 1098x500 with 2 Axes>"
      ]
     },
     "metadata": {},
     "output_type": "display_data"
    }
   ],
   "source": [
    "# use sns.countplot() and set hue=\"Pclass\" \n",
    "sns.catplot(x=\"Pclass\", hue=\"Sex\", col=\"Survived\", kind=\"count\", data=df)"
   ]
  },
  {
   "cell_type": "code",
   "execution_count": 50,
   "id": "ba08b834",
   "metadata": {},
   "outputs": [
    {
     "data": {
      "text/plain": [
       "<Axes: xlabel='Survived', ylabel='count'>"
      ]
     },
     "execution_count": 50,
     "metadata": {},
     "output_type": "execute_result"
    },
    {
     "data": {
      "image/png": "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",
      "text/plain": [
       "<Figure size 640x480 with 1 Axes>"
      ]
     },
     "metadata": {},
     "output_type": "display_data"
    }
   ],
   "source": [
    "sns. countplot(x=\"Survived\", hue=\"Pclass\", data=df)"
   ]
  },
  {
   "cell_type": "code",
   "execution_count": null,
   "id": "bdd04b76",
   "metadata": {},
   "outputs": [],
   "source": []
  }
 ],
 "metadata": {
  "kernelspec": {
   "display_name": "Python 3 (ipykernel)",
   "language": "python",
   "name": "python3"
  },
  "language_info": {
   "codemirror_mode": {
    "name": "ipython",
    "version": 3
   },
   "file_extension": ".py",
   "mimetype": "text/x-python",
   "name": "python",
   "nbconvert_exporter": "python",
   "pygments_lexer": "ipython3",
<<<<<<< HEAD
   "version": "3.11.5"
=======
   "version": "3.11.7"
>>>>>>> edd0ef65c9588b283152b9258c0d28cfa6f96e50
  }
 },
 "nbformat": 4,
 "nbformat_minor": 5
}
