{
 "cells": [
  {
   "cell_type": "code",
   "execution_count": null,
   "id": "4e3e6d2d",
   "metadata": {},
   "outputs": [],
   "source": [
    "# https://www.kaggle.com/datasets/yasserh/titanic-dataset/data"
   ]
  },
  {
   "cell_type": "markdown",
   "id": "d14194f9",
   "metadata": {},
   "source": [
    "### Import necessary libraries"
   ]
  },
  {
   "cell_type": "code",
   "execution_count": 1,
   "id": "bc80c8bf",
   "metadata": {},
   "outputs": [],
   "source": [
    "# write your code here"
   ]
  },
  {
   "cell_type": "markdown",
   "id": "a5c02437",
   "metadata": {},
   "source": [
    "### Read the dataset"
   ]
  },
  {
   "cell_type": "code",
   "execution_count": 2,
   "id": "7834d8c1",
   "metadata": {},
   "outputs": [],
   "source": [
    "# use pd.read_csv()"
   ]
  },
  {
   "cell_type": "markdown",
   "id": "34f1586f",
   "metadata": {},
   "source": [
    "### Have a look at the dataset"
   ]
  },
  {
   "cell_type": "code",
   "execution_count": 3,
   "id": "8a1690ea",
   "metadata": {},
   "outputs": [],
   "source": [
    "# use head(), describe(), info(), isnull().sum()"
   ]
  },
  {
   "cell_type": "markdown",
   "id": "3e62ab82",
   "metadata": {},
   "source": [
    "### Deal with missing values"
   ]
  },
  {
   "cell_type": "code",
   "execution_count": 4,
   "id": "0798192f",
   "metadata": {},
   "outputs": [],
   "source": [
    "# fill the missing value in the \"Age\" column with its mean"
   ]
  },
  {
   "cell_type": "code",
   "execution_count": 6,
   "id": "eb7570d2",
   "metadata": {},
   "outputs": [],
   "source": [
    "# fill the missing value in the \"Embarked\" column with the most frequent value"
   ]
  },
  {
   "cell_type": "code",
   "execution_count": 5,
   "id": "fd369311",
   "metadata": {},
   "outputs": [],
   "source": [
    "# drop the \"Cabin\", \"Ticket\", \"PassengerId\", and \"Name\" column and set inplace as true"
   ]
  },
  {
   "cell_type": "markdown",
   "id": "2c7a94c2",
   "metadata": {},
   "source": [
    "### Create the boxplot of age by Pclass"
   ]
  },
  {
   "cell_type": "code",
   "execution_count": null,
   "id": "1cf23049",
   "metadata": {},
   "outputs": [],
   "source": [
    "# use sns.boxplot()"
   ]
  },
  {
   "cell_type": "markdown",
   "id": "0cf5d45f",
   "metadata": {},
   "source": [
    "### Explore the distribution of survivers by age "
   ]
  },
  {
   "cell_type": "code",
   "execution_count": 7,
   "id": "09fcefab",
   "metadata": {},
   "outputs": [],
   "source": [
    "# use sns.histplot() and set hue=\"Survived\" and kde=True"
   ]
  },
  {
   "cell_type": "markdown",
   "id": "e4758f6d",
   "metadata": {},
   "source": [
    "### Explore the distribution of survivers by gender"
   ]
  },
  {
   "cell_type": "code",
   "execution_count": 8,
   "id": "c28671b6",
   "metadata": {},
   "outputs": [],
   "source": [
    "# use sns.countplot() and set hue=\"Sex\" "
   ]
  },
  {
   "cell_type": "markdown",
   "id": "af27f31c",
   "metadata": {},
   "source": [
    "### Explore the distribution of surviver by passenger class"
   ]
  },
  {
   "cell_type": "code",
   "execution_count": 9,
   "id": "4cff22e3",
   "metadata": {},
   "outputs": [],
   "source": [
    "# use sns.countplot() and set hue=\"Pclass\" "
   ]
  },
  {
   "cell_type": "code",
   "execution_count": null,
   "id": "ba08b834",
   "metadata": {},
   "outputs": [],
   "source": []
  }
 ],
 "metadata": {
  "kernelspec": {
   "display_name": "Python 3 (ipykernel)",
   "language": "python",
   "name": "python3"
  },
  "language_info": {
   "codemirror_mode": {
    "name": "ipython",
    "version": 3
   },
   "file_extension": ".py",
   "mimetype": "text/x-python",
   "name": "python",
   "nbconvert_exporter": "python",
   "pygments_lexer": "ipython3",
   "version": "3.9.12"
  }
 },
 "nbformat": 4,
 "nbformat_minor": 5
}
