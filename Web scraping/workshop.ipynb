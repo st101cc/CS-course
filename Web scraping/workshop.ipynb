{
 "cells": [
  {
   "cell_type": "markdown",
   "id": "6315064e",
   "metadata": {
    "slideshow": {
     "slide_type": "slide"
    }
   },
   "source": [
    "\n",
    "# Workshop: Collecting data from the Internet: API"
   ]
  },
  {
   "cell_type": "markdown",
   "id": "45fe99f9",
   "metadata": {
    "slideshow": {
     "slide_type": "slide"
    }
   },
   "source": [
    "## Today's plan\n",
    "\n",
    "API\n",
    "* Introduction\n",
    "* Examples: OpenWeather, Reddit\n",
    "* Demos: Twitter, Finnhub"
   ]
  },
  {
   "cell_type": "markdown",
   "id": "2da8d395",
   "metadata": {
    "slideshow": {
     "slide_type": "slide"
    }
   },
   "source": [
    "## API \n",
    "\n",
    "API (Application programming interface) is a set of rules and specifications that software programs can follow to communicate with each other. \n",
    "* It serves as an interface between different software programs and facilitates their interaction\n",
    "* Example:\n",
    "    * A client application initiates an API call (send a request to an API)\n",
    "    * If the request is valid, the API makes a call to the external program or web server\n",
    "    * The server sends a response to the API with the requested information\n",
    "    * The API transfers the data to the initial requesting application\n",
    "    \n",
    "Sound familiar?"
   ]
  },
  {
   "cell_type": "markdown",
   "id": "3d133216",
   "metadata": {
    "slideshow": {
     "slide_type": "slide"
    }
   },
   "source": [
    "## API: Advantages\n",
    "* Advantage of API over web scraping:\n",
    "    * API calls are faster than web scraping\n",
    "    * Data from API is in a more standard format\n",
    "    * Authorised way to access data"
   ]
  },
  {
   "cell_type": "markdown",
   "id": "0645c949",
   "metadata": {
    "slideshow": {
     "slide_type": "slide"
    }
   },
   "source": [
    "## API: Limitations\n",
    "\n",
    "* Availability: not all websites have APIs. For example:\n",
    "<center><img src=\"figs/glassdoor_api.png\" width=\"800\"/></center>\n",
    "* Most APIs have a limited usage policy\n",
    "    * Rate limit: number of API calls a user can make within a given time period\n",
    "    * Can be different for different types of users (e.g. free and paid users)\n",
    "        * e.g. For Twitter normal developer account, users can only get back up to the last seven day tweets"
   ]
  },
  {
   "cell_type": "markdown",
   "id": "70c2f1cf",
   "metadata": {
    "slideshow": {
     "slide_type": "slide"
    }
   },
   "source": [
    "## Example 1: OpenWeather API\n",
    "\n",
    "OpenWeather provides API for users to retrieve weather data, including real-time and historical weather.\n",
    "* See the whole list of data provided [here](https://openweathermap.org/price#weather)"
   ]
  },
  {
   "cell_type": "markdown",
   "id": "dbfc316b",
   "metadata": {
    "slideshow": {
     "slide_type": "slide"
    }
   },
   "source": [
    "## How to use OpenWeather API\n",
    "\n",
    "1. Before using it, please first sign up [here](https://home.openweathermap.org/users/sign_up) and then log in\n",
    "2. At the top right, click your account -> My API keys: <center><img src=\"figs/weather_api_key_1.png\" width=\"500\"/></center>\n",
    "3. Copy your API key from the page: <center><img src=\"figs/weather_api_key_2.png\" width=\"500\"/></center>"
   ]
  },
  {
   "cell_type": "markdown",
   "id": "8cc87bf1",
   "metadata": {
    "slideshow": {
     "slide_type": "slide"
    }
   },
   "source": [
    "## API Keys\n",
    "\n",
    "\n",
    "To prevent unauthorised use of API, API calls are restricted to those that provide proper authentication credentials, and these credentials are in the form of an _API key_.\n",
    "* API key: a unique identifier that authenticates and associates with a user or an app\n",
    "    * For now, you can consider API keys as your login details. Just like your other log in details, you should NOT share and expose them to others!"
   ]
  },
  {
   "cell_type": "markdown",
   "id": "3f9b1f17",
   "metadata": {
    "slideshow": {
     "slide_type": "slide"
    }
   },
   "source": [
    "## API Keys (continue)\n",
    "\n",
    "Instead of putting the API key directly to the code, we will store our API key in a json file `keys.json` with the content like the following:\n",
    "\n",
    "```\n",
    "{\"open_weather\": {\n",
    "  \"api_key\": \"XXXXXXXXXX\"\n",
    "  },\n",
    "  \"reddit\": {\n",
    "    \"app_id\": \"XXXXXXXXXX\",\n",
    "    \"app_secret\": \"XXXXXXXXXX\",\n",
    "    \"user_name\": \"XXXXXXXXXX\",\n",
    "    \"password\": \"XXXXXXXXXX\"\n",
    "  }\n",
    "}\n",
    "```\n",
    "\n",
    "By doing so, we can \"hide\" our API key from people who have access to the code.\n",
    "* When handing in your work, please do NOT submit the `keys.json` file!"
   ]
  },
  {
   "cell_type": "markdown",
   "id": "564ed869",
   "metadata": {
    "slideshow": {
     "slide_type": "slide"
    }
   },
   "source": [
    "## API Keys (continue)\n",
    "\n",
    "To get back the API key to access the API, we use the module `json` to parse the data. For example:"
   ]
  },
  {
   "cell_type": "code",
   "execution_count": 1,
   "id": "7b79569a",
   "metadata": {},
   "outputs": [],
   "source": [
    "import requests\n",
    "import json\n",
    "\n",
    "with open('keys.json') as f:\n",
    "    keys = json.load(f)\n",
    "api_key = keys['open_weather']['api_key'] "
   ]
  },
  {
   "cell_type": "markdown",
   "id": "66fe5a36",
   "metadata": {
    "slideshow": {
     "slide_type": "slide"
    }
   },
   "source": [
    "## OpenWeather API: Get the current weather information\n",
    "\n",
    "Read the instruction from the [official document](https://openweathermap.org/current#name) to understand how to make the API call:\n",
    "\n",
    "<center><img src=\"figs/weather_api_current.png\" width=\"300\"/></center>"
   ]
  },
  {
   "cell_type": "markdown",
   "id": "1dac841d",
   "metadata": {
    "slideshow": {
     "slide_type": "slide"
    }
   },
   "source": [
    "## Get the current weather information (continue)\n",
    "\n",
    "Get the current weather of London using the given API call:"
   ]
  },
  {
   "cell_type": "code",
   "execution_count": 2,
   "id": "e16f7863",
   "metadata": {
    "scrolled": true
   },
   "outputs": [
    {
     "data": {
      "text/plain": [
       "<Response [200]>"
      ]
     },
     "execution_count": 2,
     "metadata": {},
     "output_type": "execute_result"
    }
   ],
   "source": [
    "city_name = 'London'\n",
    "url = f'http://api.openweathermap.org/data/2.5/weather?q={city_name}&appid={api_key}'\n",
    "r = requests.get(url)\n",
    "r"
   ]
  },
  {
   "cell_type": "code",
   "execution_count": 3,
   "id": "9db5143d",
   "metadata": {
    "scrolled": true
   },
   "outputs": [
    {
     "data": {
      "text/plain": [
       "'{\"coord\":{\"lon\":-0.1257,\"lat\":51.5085},\"weather\":[{\"id\":803,\"main\":\"Clouds\",\"description\":\"broken clouds\",\"icon\":\"04n\"}],\"base\":\"stations\",\"main\":{\"temp\":284.81,\"feels_like\":284.41,\"temp_min\":283.76,\"temp_max\":285.45,\"pressure\":1009,\"humidity\":91},\"visibility\":10000,\"wind\":{\"speed\":5.66,\"deg\":230,\"gust\":11.32},\"clouds\":{\"all\":75},\"dt\":1707862401,\"sys\":{\"type\":2,\"id\":2075535,\"country\":\"GB\",\"sunrise\":1707808778,\"sunset\":1707844201},\"timezone\":0,\"id\":2643743,\"name\":\"London\",\"cod\":200}'"
      ]
     },
     "execution_count": 3,
     "metadata": {},
     "output_type": "execute_result"
    }
   ],
   "source": [
    "r.text"
   ]
  },
  {
   "cell_type": "markdown",
   "id": "eda44d6e",
   "metadata": {
    "slideshow": {
     "slide_type": "slide"
    }
   },
   "source": [
    "## Get the current weather information (continue)\n",
    "\n",
    "The received data is in the form of json, and we can parse it using the `json.loads()`:"
   ]
  },
  {
   "cell_type": "code",
   "execution_count": 4,
   "id": "3879b397",
   "metadata": {},
   "outputs": [],
   "source": [
    "weather = json.loads(r.text)"
   ]
  },
  {
   "cell_type": "code",
   "execution_count": 5,
   "id": "ccc4139b",
   "metadata": {},
   "outputs": [
    {
     "data": {
      "text/plain": [
       "{'coord': {'lon': -0.1257, 'lat': 51.5085},\n",
       " 'weather': [{'id': 803,\n",
       "   'main': 'Clouds',\n",
       "   'description': 'broken clouds',\n",
       "   'icon': '04n'}],\n",
       " 'base': 'stations',\n",
       " 'main': {'temp': 284.81,\n",
       "  'feels_like': 284.41,\n",
       "  'temp_min': 283.76,\n",
       "  'temp_max': 285.45,\n",
       "  'pressure': 1009,\n",
       "  'humidity': 91},\n",
       " 'visibility': 10000,\n",
       " 'wind': {'speed': 5.66, 'deg': 230, 'gust': 11.32},\n",
       " 'clouds': {'all': 75},\n",
       " 'dt': 1707862401,\n",
       " 'sys': {'type': 2,\n",
       "  'id': 2075535,\n",
       "  'country': 'GB',\n",
       "  'sunrise': 1707808778,\n",
       "  'sunset': 1707844201},\n",
       " 'timezone': 0,\n",
       " 'id': 2643743,\n",
       " 'name': 'London',\n",
       " 'cod': 200}"
      ]
     },
     "execution_count": 5,
     "metadata": {},
     "output_type": "execute_result"
    }
   ],
   "source": [
    "weather"
   ]
  },
  {
   "cell_type": "markdown",
   "id": "316f79c1",
   "metadata": {
    "slideshow": {
     "slide_type": "slide"
    }
   },
   "source": [
    "## Get the current weather information (continue)\n",
    "\n",
    "And retrieve the data we want, say temperature:"
   ]
  },
  {
   "cell_type": "code",
   "execution_count": 6,
   "id": "d949d784",
   "metadata": {},
   "outputs": [
    {
     "data": {
      "text/plain": [
       "284.81"
      ]
     },
     "execution_count": 6,
     "metadata": {},
     "output_type": "execute_result"
    }
   ],
   "source": [
    "weather['main']['temp']"
   ]
  },
  {
   "cell_type": "markdown",
   "id": "e79f26a3",
   "metadata": {},
   "source": [
    "Why is the number so high? Go back and read the documentation carefully!"
   ]
  },
  {
   "cell_type": "markdown",
   "id": "28641952",
   "metadata": {
    "slideshow": {
     "slide_type": "slide"
    }
   },
   "source": [
    "## Get the current weather information (continue)\n",
    "\n",
    "Provide additional argument to have the right unit of weather details:"
   ]
  },
  {
   "cell_type": "code",
   "execution_count": 7,
   "id": "15d23343",
   "metadata": {
    "scrolled": true
   },
   "outputs": [
    {
     "data": {
      "text/plain": [
       "<Response [200]>"
      ]
     },
     "execution_count": 7,
     "metadata": {},
     "output_type": "execute_result"
    }
   ],
   "source": [
    "url = f'http://api.openweathermap.org/data/2.5/weather'\\\n",
    "    f'?q={city_name}&appid={api_key}&units=metric'\n",
    "r = requests.get(url)\n",
    "r"
   ]
  },
  {
   "cell_type": "markdown",
   "id": "57adb955",
   "metadata": {},
   "source": [
    "Get the temperature again:"
   ]
  },
  {
   "cell_type": "code",
   "execution_count": 8,
   "id": "f6d45df3",
   "metadata": {},
   "outputs": [
    {
     "data": {
      "text/plain": [
       "4.09"
      ]
     },
     "execution_count": 8,
     "metadata": {},
     "output_type": "execute_result"
    }
   ],
   "source": [
    "weather = json.loads(r.text)\n",
    "weather['main']['temp']"
   ]
  },
  {
   "cell_type": "markdown",
   "id": "f329ea90",
   "metadata": {},
   "source": [
    "Lesson: Always read the official documentation - do not assume it will do what you _think_ it will do."
   ]
  },
  {
   "cell_type": "markdown",
   "id": "5a113141",
   "metadata": {
    "slideshow": {
     "slide_type": "slide"
    }
   },
   "source": [
    "## Recall: URL\n",
    "\n",
    "* URL form: `<scheme>://<host>:<port>/<path><;parameters><?query><#fragment>`\n",
    "    * Scheme (e.g., http, https)\n",
    "    * Location of the server, e.g. a hostname or IP address\n",
    "    * [optional] port: communication endpoint\n",
    "    * Path to the resource on the server\n",
    "    * [optional] parameters (;something), query string (?something), fragment identifier (#something)"
   ]
  },
  {
   "cell_type": "markdown",
   "id": "77d682a5",
   "metadata": {
    "slideshow": {
     "slide_type": "slide"
    }
   },
   "source": [
    "## Activity 8.1\n",
    "\n",
    "1. Update the code above to get the current weather information of a city you are interested in\n",
    "2. Read https://openweathermap.org/api/geocoding-api and create an API call to get the latitude and longitude of Paris, France"
   ]
  },
  {
   "cell_type": "code",
   "execution_count": 8,
   "id": "a3c44e3c",
   "metadata": {},
   "outputs": [],
   "source": [
    "# write your code for question 1 here"
   ]
  },
  {
   "cell_type": "code",
   "execution_count": 9,
   "id": "8f33dfb0",
   "metadata": {},
   "outputs": [],
   "source": [
    "# write your code for question 2 here\n",
    "# hint: use json.loads(r.text) and locate the index of longitude and latitude inside the API documentation"
   ]
  },
  {
   "cell_type": "markdown",
   "id": "5dfc22f2",
   "metadata": {
    "slideshow": {
     "slide_type": "slide"
    }
   },
   "source": [
    "## Example 2: Reddit API\n",
    "\n",
    "[Reddit API](https://www.reddit.com/dev/api/) allows users to automate what they can do manually on the Reddit website with the use of API calls.\n",
    "\n",
    "In this workshop, we will follow the [Quick Start Example](https://github.com/reddit-archive/reddit/wiki/OAuth2-Quick-Start-Example) from Reddit."
   ]
  },
  {
   "cell_type": "markdown",
   "id": "9f15b6fc",
   "metadata": {
    "slideshow": {
     "slide_type": "slide"
    }
   },
   "source": [
    "## Reddit API: Sign up and set up the application\n",
    "\n",
    "1. Sign up and log in to a Reddit account\n",
    "2. Go to https://www.reddit.com/prefs/apps. Hit `are you a developer? create an app...` and enter the details like the following:\n",
    "<center><img src=\"figs/reddit_app.png\" width=\"700\"/></center>\n",
    "You should then get the following:\n",
    "<center><img src=\"figs/reddit_id_secret.png\" width=\"400\"/></center>"
   ]
  },
  {
   "cell_type": "markdown",
   "id": "4cd53bde",
   "metadata": {
    "slideshow": {
     "slide_type": "slide"
    }
   },
   "source": [
    "## Reddit API: Sign up and set up the application\n",
    "\n",
    "3. Go to https://www.reddit.com/wiki/api. Hit `Read the full API terms and sign up for usage` and fill in the form with the app id you have got from (2)\n",
    "4. Update the `keys.json` with your Reddit username, password, app id and app secret from (2)"
   ]
  },
  {
   "cell_type": "markdown",
   "id": "9389360c",
   "metadata": {
    "slideshow": {
     "slide_type": "slide"
    }
   },
   "source": [
    "## Reddit API: Request a token\n",
    "\n",
    "To request a token, we need to:\n",
    "1. Provide the application id and secret (or call the client id and secret) for authentication\n",
    "2. Provide Reddit username and password \n",
    "\n",
    "We first retrieve the required id, secret, etc from `keys.json`:"
   ]
  },
  {
   "cell_type": "code",
   "execution_count": 10,
   "id": "b4d8e05a",
   "metadata": {},
   "outputs": [],
   "source": [
    "with open('keys.json') as f:\n",
    "    keys = json.load(f)\n",
    "    \n",
    "app_id = keys['reddit']['app_id']\n",
    "app_secret = keys['reddit']['app_secret']\n",
    "username = keys['reddit']['username']\n",
    "password = keys['reddit']['password']"
   ]
  },
  {
   "cell_type": "markdown",
   "id": "0df69bf1",
   "metadata": {
    "slideshow": {
     "slide_type": "slide"
    }
   },
   "source": [
    "## Reddit API: Request a token (continue)\n",
    "\n",
    "We then follow the example from the [Reddit API github page](https://github.com/reddit-archive/reddit/wiki/OAuth2-Quick-Start-Example#python-example) to request a token:"
   ]
  },
  {
   "cell_type": "code",
   "execution_count": 11,
   "id": "ce03ecc2",
   "metadata": {},
   "outputs": [],
   "source": [
    "import requests.auth\n",
    "\n",
    "client_auth = requests.auth.HTTPBasicAuth(app_id, app_secret)\n",
    "post_data = {'grant_type': 'password', \n",
    "             'username': username, \n",
    "             'password': password}\n",
    "headers = {'User-Agent': f'testing lse/0.0.1 by {username}'}\n",
    "\n",
    "r = requests.post('https://www.reddit.com/api/v1/access_token',\n",
    "                  auth=client_auth, data=post_data, headers=headers)"
   ]
  },
  {
   "cell_type": "markdown",
   "id": "41328062",
   "metadata": {},
   "source": [
    "In this example:\n",
    "* We use post instead of get\n",
    "* Headers are included"
   ]
  },
  {
   "cell_type": "markdown",
   "id": "06de2e1d",
   "metadata": {
    "slideshow": {
     "slide_type": "slide"
    }
   },
   "source": [
    "## Recap: HTTP requests\n",
    "\n",
    "* An HTTP request has the following components:\n",
    "    * Request line, which includes\n",
    "        * URL \n",
    "        * Method (e.g. GET)\n",
    "        * Protocol version\n",
    "    * Headers: meta-information about a request\n",
    "    * Message body (optional)"
   ]
  },
  {
   "cell_type": "markdown",
   "id": "7b0f50f1",
   "metadata": {
    "slideshow": {
     "slide_type": "slide"
    }
   },
   "source": [
    "## Recap: HTTP request methods\n",
    "\n",
    "HTTP request methods indicate the desired action to be performed on the identified resource. \n",
    "* Some example request methods:\n",
    "\n",
    "| Method      |Description                                                                      |\n",
    "|-------------|---------------------------------------------------------------------------------|\n",
    "| GET         | Retrieve information from the specified URL                                    |\n",
    "| HEAD        | Retrieve the meta information from the header of the specified URL             |\n",
    "| POST        | Send the attached information for appending to the source URL                  |\n",
    "| PUT         | Send the attached information for replacing the resource at the specified URL  |\n",
    "| DELETE      | Delete the information identified by the URL                                    |\n"
   ]
  },
  {
   "cell_type": "markdown",
   "id": "5e981dd5",
   "metadata": {
    "slideshow": {
     "slide_type": "slide"
    }
   },
   "source": [
    "## Reddit API: Request a token (continue)\n",
    "\n",
    "Check if we have successfully got the token:"
   ]
  },
  {
   "cell_type": "code",
   "execution_count": 12,
   "id": "11ae9cf2",
   "metadata": {
    "scrolled": true
   },
   "outputs": [
    {
     "data": {
      "text/plain": [
       "<Response [200]>"
      ]
     },
     "execution_count": 12,
     "metadata": {},
     "output_type": "execute_result"
    }
   ],
   "source": [
    "r"
   ]
  },
  {
   "cell_type": "markdown",
   "id": "d00b5ec6",
   "metadata": {},
   "source": [
    "In the response we get the \"access_token\" for which we will use later:"
   ]
  },
  {
   "cell_type": "code",
   "execution_count": 13,
   "id": "35741d37",
   "metadata": {},
   "outputs": [],
   "source": [
    "access_token = json.loads(r.text)['access_token']"
   ]
  },
  {
   "cell_type": "markdown",
   "id": "246ba0a2",
   "metadata": {
    "slideshow": {
     "slide_type": "slide"
    }
   },
   "source": [
    "## Reddit API: use the access token to send a request\n",
    "\n",
    "Now we use the access token to create an API call to show the top posts from the subreddit `datascience`:"
   ]
  },
  {
   "cell_type": "code",
   "execution_count": 14,
   "id": "e3a09d08",
   "metadata": {
    "scrolled": true
   },
   "outputs": [
    {
     "data": {
      "text/plain": [
       "<Response [200]>"
      ]
     },
     "execution_count": 14,
     "metadata": {},
     "output_type": "execute_result"
    }
   ],
   "source": [
    "headers = {\"Authorization\": f\"bearer {access_token}\", \n",
    "           'User-Agent': f'lse/0.0.1 by {username}'}\n",
    "\n",
    "r = requests.get(\"https://oauth.reddit.com/r/datascience/hot?limit=3\",\n",
    "                 headers=headers)\n",
    "r"
   ]
  },
  {
   "cell_type": "markdown",
   "id": "bc40f273",
   "metadata": {},
   "source": [
    "Note:\n",
    "* Here we make use of `headers` to provide the access token\n",
    "* Here we set `limit=3`, which means the maximum number of items to return is 3\n",
    "\n",
    "To learn how to make the API call, See [here](https://www.reddit.com/dev/api/#GET_{sort})."
   ]
  },
  {
   "cell_type": "markdown",
   "id": "8e760b4c",
   "metadata": {
    "slideshow": {
     "slide_type": "slide"
    }
   },
   "source": [
    "## Reddit API: have a look at the data we have got"
   ]
  },
  {
   "cell_type": "code",
   "execution_count": 15,
   "id": "73066448",
   "metadata": {
    "scrolled": false
   },
   "outputs": [
    {
     "name": "stdout",
     "output_type": "stream",
     "text": [
      "Weekly Entering &amp; Transitioning - Thread 12 Feb, 2024 - 19 Feb, 2024 https://www.reddit.com/r/datascience/comments/1aos1w7/weekly_entering_transitioning_thread_12_feb_2024/\n",
      "How do land a causal inference focused DS job? https://www.reddit.com/r/datascience/comments/1apwzdn/how_do_land_a_causal_inference_focused_ds_job/\n",
      "Essential Math for Data Science VS Math for machine learning, which is a better book? https://www.reddit.com/r/datascience/comments/1aq3q1h/essential_math_for_data_science_vs_math_for/\n",
      "Refreshing math skills https://www.reddit.com/r/datascience/comments/1apycq9/refreshing_math_skills/\n"
     ]
    }
   ],
   "source": [
    "for post in json.loads(r.text)['data']['children']:\n",
    "    print(post['data']['title'], post['data']['url'])"
   ]
  },
  {
   "cell_type": "markdown",
   "id": "49e0411b",
   "metadata": {
    "slideshow": {
     "slide_type": "slide"
    }
   },
   "source": [
    "## Activity 8.2\n",
    "\n",
    "1. Read the first section of https://www.reddit.com/dev/api to understand what `after` / `before`, `limit`, `count`, and `show`\n",
    "2. Read https://www.reddit.com/dev/api/#GET_search and use the API to get the 100 posts related to python from the subreddit `datascience`. Print out the title of the post and the score of the post"
   ]
  },
  {
   "cell_type": "code",
   "execution_count": null,
   "id": "831cb279",
   "metadata": {},
   "outputs": [],
   "source": [
    "# write your code for question 2 here\n",
    "# hint: use for loop to print out the title and score of the post in parsed_data['data']['children']"
   ]
  },
  {
   "cell_type": "markdown",
   "id": "87a77f4b",
   "metadata": {
    "slideshow": {
     "slide_type": "slide"
    }
   },
   "source": [
    "##  API remark\n",
    "\n",
    "* Providers often decide the API, and clients have to read the documentation to know how to use their API"
   ]
  },
  {
   "cell_type": "markdown",
   "id": "96e34f32",
   "metadata": {
    "slideshow": {
     "slide_type": "slide"
    }
   },
   "source": [
    "# General feedback on project proposal"
   ]
  },
  {
   "cell_type": "markdown",
   "id": "00e277df",
   "metadata": {
    "slideshow": {
     "slide_type": "slide"
    }
   },
   "source": [
    "## Project proposal: data source\n",
    "\n",
    "* Unless you have prior experience, please do NOT use web scraping on Facebook / Instagram with or without the use of third party libraries\n",
    "    * Your accounts are likely to be blocked!\n",
    "* Supported API: Twitter and Reddit\n",
    "    * You are allowed to use other APIs, but I may not be able to provide much help\n",
    "    * For students who use Twitter API, you are strongly advised to apply for a developer account as soon as possible\n",
    "* Please don't be too ambitious\n",
    "    * Unless you are experienced, using one API / web scraping _should_ be enough for you to show your data collection skills\n",
    "    * Three data sources _should_ be more than enough in this project"
   ]
  },
  {
   "cell_type": "markdown",
   "id": "3e5b5da1",
   "metadata": {
    "slideshow": {
     "slide_type": "slide"
    }
   },
   "source": [
    "## Project proposal: data source (continue)\n",
    "\n",
    "* For many of the APIs, there is a limitation on how many posts you can get\n",
    "    * Twitter: posts from the last seven days if you have a normal account\n",
    "    * Reddit: not more than 1000 posts from a subreddit\n",
    "    * You are advised to start collecting the data earlier so that you can get more data\n",
    "* Because of the limitation, you may not able to answer questions like \"how the public opinion on xxx changed in the past z years\" using these APIs\n",
    "    * Instead, you may answer questions like \"how the public opinion different between xxx and yyy\""
   ]
  },
  {
   "cell_type": "markdown",
   "id": "2c365b12",
   "metadata": {
    "slideshow": {
     "slide_type": "slide"
    }
   },
   "source": [
    "## Project proposal: data source (continue)\n",
    "\n",
    "* You will NOT be penalised because you can only get a limited amount of data due to the limitation of the data source, but in your report you need to:\n",
    "    * Highlight the limitation and what you have tried (but failed)\n",
    "        * Your effort will be taken into account\n",
    "    * Reduce the scope of your question based on the limitation on the data you can collect \n",
    "        * \"how the public opinion on xxx changed in the past z years\" -> \"how the public opinion differs for xxx and yyy in the last week\"\n",
    "        * \"Whether Instagram or Twitter is a better platform to engage students\" -> \"Is Twitter an effective platform to engage students?\"\n",
    "* Remember data science lifecycle is an iterative process!"
   ]
  },
  {
   "cell_type": "markdown",
   "id": "f20b7757",
   "metadata": {
    "slideshow": {
     "slide_type": "slide"
    }
   },
   "source": [
    "## Data science lifecycle\n",
    "\n",
    "<center><img src=\"figs/ds_process_2.png\" width=\"500\"/></center>"
   ]
  },
  {
   "cell_type": "markdown",
   "id": "663c11ac",
   "metadata": {
    "slideshow": {
     "slide_type": "slide"
    }
   },
   "source": [
    "## Project proposal: Some more feedback\n",
    "\n",
    "* We use the project to assess your ability to perform the data science lifecycle and its main steps and tasks (except modelling) using real-life data to answer real-world questions\n",
    "* List of steps and tasks:\n",
    "    * Formulate questions to answer\n",
    "    * Collect relevant data\n",
    "    * Explore data\n",
    "        * Data wrangling\n",
    "        * EDA (with visualisation)\n",
    "    * Report the result\n",
    "        * with visualisation"
   ]
  },
  {
   "cell_type": "markdown",
   "id": "4abe0007",
   "metadata": {
    "slideshow": {
     "slide_type": "slide"
    }
   },
   "source": [
    "## Project proposal: Some more feedback (continue)\n",
    "\n",
    "* To get a good grade, your project should demonstrate your ability in performing _most_ (if not all) of the steps and tasks above\n",
    "* Try to use your time wisely and not to spend too much time on one of the areas\n",
    "    * For example, if you have spent a lot of time figuring out how to use an API to collect the data, you may want to stop and use another source instead so that you can spend enough time in other areas\n",
    "* You can do modelling if you want, but make sure you have put enough effort into the main steps and tasks listed above\n",
    "    * This is a first-year course, modeling is allowed but NOT required"
   ]
  },
  {
   "cell_type": "markdown",
   "id": "eddfa919",
   "metadata": {
    "slideshow": {
     "slide_type": "slide"
    }
   },
   "source": [
    "# API demo"
   ]
  },
  {
   "cell_type": "markdown",
   "id": "c6c55808",
   "metadata": {
    "slideshow": {
     "slide_type": "slide"
    }
   },
   "source": [
    "## Further examples on API\n",
    "\n",
    "Here I provide 2 more examples of using API to collect data as a _demonstration_. The purpose of the demo is as follows:\n",
    "1. To show how you can get data from Twitter using their API (can be useful for students who analyse Twitter data in their project)\n",
    "2. To show how you can collect real-time financial data through API (can be useful for students who are interested in jobs in the financial industry)\n",
    "\n",
    "The use of the Twitter and Finnhub API will NOT appear in problem set questions. Not to worry if you are not able to run the code from here.\n",
    "* Getting a Twitter developer account can be difficult..."
   ]
  },
  {
   "cell_type": "markdown",
   "id": "a5b8583c",
   "metadata": {
    "slideshow": {
     "slide_type": "slide"
    }
   },
   "source": [
    "## Demo 1: Twitter API\n",
    "\n",
    "Before you can use Twitter API, you need to apply for a developer account. \n",
    "\n",
    "Follow the [link](https://developer.twitter.com/en/docs/tutorials/step-by-step-guide-to-making-your-first-request-to-the-twitter-api-v2) to:\n",
    "1. Sign up for a developer account\n",
    "2. Create a Project and connect to an app\n",
    "    * In this workshop, we will only use the bearer to connect to an app"
   ]
  },
  {
   "cell_type": "markdown",
   "id": "42b252df",
   "metadata": {
    "slideshow": {
     "slide_type": "slide"
    }
   },
   "source": [
    "## Twitter API: demo \n",
    "\n",
    "Get information about a Twitter account:"
   ]
  },
  {
   "cell_type": "code",
   "execution_count": 32,
   "id": "36d1b6d8",
   "metadata": {},
   "outputs": [],
   "source": [
    "bearer_token = keys['twitter']['bearer_token']\n",
    "headers = {\n",
    "    'Authorization': f\"Bearer {bearer_token}\"\n",
    "}\n",
    "r = requests.get('https://api.twitter.com/2/users/by/username/elonmusk', headers=headers)"
   ]
  },
  {
   "cell_type": "code",
   "execution_count": 33,
   "id": "3e4e2608",
   "metadata": {},
   "outputs": [
    {
     "data": {
      "text/plain": [
       "'{\\n  \"title\": \"Unauthorized\",\\n  \"type\": \"about:blank\",\\n  \"status\": 401,\\n  \"detail\": \"Unauthorized\"\\n}'"
      ]
     },
     "execution_count": 33,
     "metadata": {},
     "output_type": "execute_result"
    }
   ],
   "source": [
    "r.text"
   ]
  },
  {
   "cell_type": "markdown",
   "id": "b024d9cd",
   "metadata": {
    "slideshow": {
     "slide_type": "slide"
    }
   },
   "source": [
    "## Twitter API: demo (continue)\n",
    "\n",
    "Get a few tweets from the given user using the user id:"
   ]
  },
  {
   "cell_type": "code",
   "execution_count": 34,
   "id": "9944034e",
   "metadata": {},
   "outputs": [
    {
     "data": {
      "text/plain": [
       "<Response [401]>"
      ]
     },
     "execution_count": 34,
     "metadata": {},
     "output_type": "execute_result"
    }
   ],
   "source": [
    "r = requests.get('https://api.twitter.com/2/users/44196397/tweets', headers=headers)\n",
    "r"
   ]
  },
  {
   "cell_type": "markdown",
   "id": "bdb2a768",
   "metadata": {
    "slideshow": {
     "slide_type": "slide"
    }
   },
   "source": [
    "## Twitter API: demo (continue)"
   ]
  },
  {
   "cell_type": "code",
   "execution_count": 19,
   "id": "a2a71568",
   "metadata": {},
   "outputs": [
    {
     "data": {
      "text/plain": [
       "{'title': 'Unauthorized',\n",
       " 'type': 'about:blank',\n",
       " 'status': 401,\n",
       " 'detail': 'Unauthorized'}"
      ]
     },
     "execution_count": 19,
     "metadata": {},
     "output_type": "execute_result"
    }
   ],
   "source": [
    "json.loads(r.text)"
   ]
  },
  {
   "cell_type": "markdown",
   "id": "8793f8c2",
   "metadata": {
    "slideshow": {
     "slide_type": "slide"
    }
   },
   "source": [
    "## Twitter API: demo (continue)\n",
    "\n",
    "Get the details of a tweet given its id. \n",
    "* You can specify what field you want under `tweet.fields=...`\n",
    "    * Here we get the `author_id` and `public_metrics` (measure Tweet engagement)\n",
    "    * See [here](https://developer.twitter.com/en/docs/twitter-api/data-dictionary/object-model/tweet) for more details"
   ]
  },
  {
   "cell_type": "code",
   "execution_count": 20,
   "id": "78e39984",
   "metadata": {},
   "outputs": [],
   "source": [
    "r = requests.get('https://api.twitter.com/2/tweets?ids=1501796086255693827&' \\\n",
    "                 'tweet.fields=author_id,public_metrics', \n",
    "                 headers=headers)"
   ]
  },
  {
   "cell_type": "code",
   "execution_count": 21,
   "id": "c0057254",
   "metadata": {
    "scrolled": true
   },
   "outputs": [
    {
     "data": {
      "text/plain": [
       "{'title': 'Unauthorized',\n",
       " 'type': 'about:blank',\n",
       " 'status': 401,\n",
       " 'detail': 'Unauthorized'}"
      ]
     },
     "execution_count": 21,
     "metadata": {},
     "output_type": "execute_result"
    }
   ],
   "source": [
    "json.loads(r.text)"
   ]
  },
  {
   "cell_type": "markdown",
   "id": "6b315047",
   "metadata": {
    "slideshow": {
     "slide_type": "slide"
    }
   },
   "source": [
    "## Twitter API: demo (continue)\n",
    "\n",
    "Get a collection of relevant Tweets matching a specified query - here search for \"elon musk\":"
   ]
  },
  {
   "cell_type": "code",
   "execution_count": 22,
   "id": "9bdd37ba",
   "metadata": {
    "scrolled": true
   },
   "outputs": [
    {
     "data": {
      "text/plain": [
       "<Response [400]>"
      ]
     },
     "execution_count": 22,
     "metadata": {},
     "output_type": "execute_result"
    }
   ],
   "source": [
    "#%20 is a space in a url\n",
    "api_call = 'https://api.twitter.com/1.1/search/tweets.json?q=elon%20musk&count=100' \n",
    "r = requests.get(api_call, \n",
    "                 headers=headers)\n",
    "r"
   ]
  },
  {
   "cell_type": "code",
   "execution_count": 23,
   "id": "2a3a7ad6",
   "metadata": {},
   "outputs": [],
   "source": [
    "tweets = json.loads(r.text)"
   ]
  },
  {
   "cell_type": "code",
   "execution_count": 29,
   "id": "530e0786",
   "metadata": {},
   "outputs": [
    {
     "ename": "KeyError",
     "evalue": "'statuses'",
     "output_type": "error",
     "traceback": [
      "\u001b[1;31m---------------------------------------------------------------------------\u001b[0m",
      "\u001b[1;31mKeyError\u001b[0m                                  Traceback (most recent call last)",
      "Input \u001b[1;32mIn [29]\u001b[0m, in \u001b[0;36m<cell line: 1>\u001b[1;34m()\u001b[0m\n\u001b[1;32m----> 1\u001b[0m \u001b[38;5;28mlen\u001b[39m(\u001b[43mtweets\u001b[49m\u001b[43m[\u001b[49m\u001b[38;5;124;43m'\u001b[39;49m\u001b[38;5;124;43mstatuses\u001b[39;49m\u001b[38;5;124;43m'\u001b[39;49m\u001b[43m]\u001b[49m)\n",
      "\u001b[1;31mKeyError\u001b[0m: 'statuses'"
     ]
    }
   ],
   "source": [
    "len(tweets['statuses'])"
   ]
  },
  {
   "cell_type": "markdown",
   "id": "b3af312d",
   "metadata": {},
   "source": [
    "See [here](https://developer.twitter.com/en/docs/twitter-api/v1/tweets/search/api-reference/get-search-tweets) to learn more about how to get search results using Twitter API, and see [here](https://en.wikipedia.org/wiki/Percent-encoding) to learn about percent encoding."
   ]
  },
  {
   "cell_type": "markdown",
   "id": "4980224e",
   "metadata": {
    "slideshow": {
     "slide_type": "slide"
    }
   },
   "source": [
    "## Twitter API: demo (continue)\n",
    "\n",
    "Get a collection of the most recent Tweets posted by the user - here with the given user id of Elon Musk:"
   ]
  },
  {
   "cell_type": "code",
   "execution_count": 25,
   "id": "9d8d60b6",
   "metadata": {},
   "outputs": [
    {
     "data": {
      "text/plain": [
       "<Response [400]>"
      ]
     },
     "execution_count": 25,
     "metadata": {},
     "output_type": "execute_result"
    }
   ],
   "source": [
    "url='https://api.twitter.com/1.1/statuses/user_timeline.json?user_id=44196397&count=200'\n",
    "r=requests.get(url, headers=headers)\n",
    "r"
   ]
  },
  {
   "cell_type": "code",
   "execution_count": 26,
   "id": "3056074a",
   "metadata": {},
   "outputs": [],
   "source": [
    "tweets = json.loads(r.text)"
   ]
  },
  {
   "cell_type": "code",
   "execution_count": 27,
   "id": "f9864381",
   "metadata": {
    "scrolled": true
   },
   "outputs": [
    {
     "data": {
      "text/plain": [
       "1"
      ]
     },
     "execution_count": 27,
     "metadata": {},
     "output_type": "execute_result"
    }
   ],
   "source": [
    "len(tweets)"
   ]
  },
  {
   "cell_type": "markdown",
   "id": "9be90151",
   "metadata": {},
   "source": [
    "See [here](https://developer.twitter.com/en/docs/twitter-api/v1/tweets/timelines/api-reference/get-statuses-user_timeline) to learn more about how to the most recent Tweets posted from a user."
   ]
  },
  {
   "cell_type": "markdown",
   "id": "87d2594b",
   "metadata": {
    "slideshow": {
     "slide_type": "slide"
    }
   },
   "source": [
    "## Demo 2: receiving real-time financial data\n",
    "\n",
    "The code of the demo is under `finnhub.ipynb`."
   ]
  },
  {
   "cell_type": "markdown",
   "id": "b7a700f4",
   "metadata": {
    "slideshow": {
     "slide_type": "slide"
    }
   },
   "source": [
    "## Select files to submit on GitHub\n",
    "\n",
    "Unselect `keys.json` before commit and push:\n",
    "\n",
    "<center><img src=\"figs/github.png\" width=\"500\"/></center>"
   ]
  },
  {
   "cell_type": "markdown",
   "id": "35a0f464",
   "metadata": {
    "slideshow": {
     "slide_type": "slide"
    }
   },
   "source": [
    "## Summary\n",
    "\n",
    "* API examples and exercises\n",
    "* API demo to:\n",
    "    * Help you to prepare for the project\n",
    "    * See how we can collect real-time data"
   ]
  }
 ],
 "metadata": {
  "celltoolbar": "Slideshow",
  "kernelspec": {
   "display_name": "Python 3 (ipykernel)",
   "language": "python",
   "name": "python3"
  },
  "language_info": {
   "codemirror_mode": {
    "name": "ipython",
    "version": 3
   },
   "file_extension": ".py",
   "mimetype": "text/x-python",
   "name": "python",
   "nbconvert_exporter": "python",
   "pygments_lexer": "ipython3",
   "version": "3.9.12"
  }
 },
 "nbformat": 4,
 "nbformat_minor": 5
}
