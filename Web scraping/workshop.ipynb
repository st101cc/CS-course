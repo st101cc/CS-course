{
 "cells": [
  {
   "cell_type": "markdown",
   "id": "6315064e",
   "metadata": {
    "slideshow": {
     "slide_type": "slide"
    }
   },
   "source": [
    "\n",
    "# Workshop: Collecting data from the Internet: API"
   ]
  },
  {
   "cell_type": "markdown",
   "id": "45fe99f9",
   "metadata": {
    "slideshow": {
     "slide_type": "slide"
    }
   },
   "source": [
    "## Today's plan\n",
    "\n",
    "API\n",
    "* Introduction\n",
    "* Examples: OpenWeather, Reddit\n",
    "* Demos: Twitter, Finnhub"
   ]
  },
  {
   "cell_type": "markdown",
   "id": "2da8d395",
   "metadata": {
    "slideshow": {
     "slide_type": "slide"
    }
   },
   "source": [
    "## API \n",
    "\n",
    "API (Application programming interface) is a set of rules and specifications that software programs can follow to communicate with each other. \n",
    "* It serves as an interface between different software programs and facilitates their interaction\n",
    "* Example:\n",
    "    * A client application initiates an API call (send a request to an API)\n",
    "    * If the request is valid, the API makes a call to the external program or web server\n",
    "    * The server sends a response to the API with the requested information\n",
    "    * The API transfers the data to the initial requesting application\n",
    "    \n",
    "Sound familiar?"
   ]
  },
  {
   "cell_type": "markdown",
   "id": "3d133216",
   "metadata": {
    "slideshow": {
     "slide_type": "slide"
    }
   },
   "source": [
    "## API: Advantages\n",
    "* Advantage of API over web scraping:\n",
    "    * API calls are faster than web scraping\n",
    "    * Data from API is in a more standard format\n",
    "    * Authorised way to access data"
   ]
  },
  {
   "cell_type": "markdown",
   "id": "0645c949",
   "metadata": {
    "slideshow": {
     "slide_type": "slide"
    }
   },
   "source": [
    "## API: Limitations\n",
    "\n",
    "* Availability: not all websites have APIs. For example:\n",
    "<center><img src=\"figs/glassdoor_api.png\" width=\"800\"/></center>\n",
    "* Most APIs have a limited usage policy\n",
    "    * Rate limit: number of API calls a user can make within a given time period\n",
    "    * Can be different for different types of users (e.g. free and paid users)\n",
    "        * e.g. For Twitter normal developer account, users can only get back up to the last seven day tweets"
   ]
  },
  {
   "cell_type": "markdown",
   "id": "70c2f1cf",
   "metadata": {
    "slideshow": {
     "slide_type": "slide"
    }
   },
   "source": [
    "## Example 1: OpenWeather API\n",
    "\n",
    "OpenWeather provides API for users to retrieve weather data, including real-time and historical weather.\n",
    "* See the whole list of data provided [here](https://openweathermap.org/price#weather)"
   ]
  },
  {
   "cell_type": "markdown",
   "id": "dbfc316b",
   "metadata": {
    "slideshow": {
     "slide_type": "slide"
    }
   },
   "source": [
    "## How to use OpenWeather API\n",
    "\n",
    "1. Before using it, please first sign up [here](https://home.openweathermap.org/users/sign_up) and then log in\n",
    "2. At the top right, click your account -> My API keys: <center><img src=\"figs/weather_api_key_1.png\" width=\"500\"/></center>\n",
    "3. Copy your API key from the page: <center><img src=\"figs/weather_api_key_2.png\" width=\"500\"/></center>"
   ]
  },
  {
   "cell_type": "markdown",
   "id": "8cc87bf1",
   "metadata": {
    "slideshow": {
     "slide_type": "slide"
    }
   },
   "source": [
    "## API Keys\n",
    "\n",
    "\n",
    "To prevent unauthorised use of API, API calls are restricted to those that provide proper authentication credentials, and these credentials are in the form of an _API key_.\n",
    "* API key: a unique identifier that authenticates and associates with a user or an app\n",
    "    * For now, you can consider API keys as your login details. Just like your other log in details, you should NOT share and expose them to others!"
   ]
  },
  {
   "cell_type": "markdown",
   "id": "3f9b1f17",
   "metadata": {
    "slideshow": {
     "slide_type": "slide"
    }
   },
   "source": [
    "## API Keys (continue)\n",
    "\n",
    "Instead of putting the API key directly to the code, we will store our API key in a json file `keys.json` with the content like the following:\n",
    "\n",
    "```\n",
    "{\"open_weather\": {\n",
    "  \"api_key\": \"XXXXXXXXXX\"\n",
    "  },\n",
    "  \"reddit\": {\n",
    "    \"app_id\": \"XXXXXXXXXX\",\n",
    "    \"app_secret\": \"XXXXXXXXXX\",\n",
    "    \"user_name\": \"XXXXXXXXXX\",\n",
    "    \"password\": \"XXXXXXXXXX\"\n",
    "  }\n",
    "}\n",
    "```\n",
    "\n",
    "By doing so, we can \"hide\" our API key from people who have access to the code.\n",
    "* When handing in your work, please do NOT submit the `keys.json` file!"
   ]
  },
  {
   "cell_type": "markdown",
   "id": "564ed869",
   "metadata": {
    "slideshow": {
     "slide_type": "slide"
    }
   },
   "source": [
    "## API Keys (continue)\n",
    "\n",
    "To get back the API key to access the API, we use the module `json` to parse the data. For example:"
   ]
  },
  {
   "cell_type": "code",
   "execution_count": 36,
   "id": "7b79569a",
   "metadata": {},
   "outputs": [],
   "source": [
    "import requests\n",
    "import json\n",
    "\n",
    "with open('keys.json') as f:\n",
    "    keys = json.load(f)\n",
    "\n",
    "api_key = keys['open_weather']['api_key'] "
   ]
  },
  {
   "cell_type": "markdown",
   "id": "66fe5a36",
   "metadata": {
    "slideshow": {
     "slide_type": "slide"
    }
   },
   "source": [
    "## OpenWeather API: Get the current weather information\n",
    "\n",
    "Read the instruction from the [official document](https://openweathermap.org/current#name) to understand how to make the API call:\n",
    "\n",
    "<center><img src=\"figs/weather_api_current.png\" width=\"300\"/></center>"
   ]
  },
  {
   "cell_type": "markdown",
   "id": "1dac841d",
   "metadata": {
    "slideshow": {
     "slide_type": "slide"
    }
   },
   "source": [
    "## Get the current weather information (continue)\n",
    "\n",
    "Get the current weather of London using the given API call:"
   ]
  },
  {
   "cell_type": "code",
   "execution_count": 37,
   "id": "e16f7863",
   "metadata": {
    "scrolled": true
   },
   "outputs": [
    {
     "data": {
      "text/plain": [
       "<Response [200]>"
      ]
     },
     "execution_count": 37,
     "metadata": {},
     "output_type": "execute_result"
    }
   ],
   "source": [
    "city_name = 'London'\n",
    "url = f'http://api.openweathermap.org/data/2.5/weather?q={city_name}&appid={api_key}'\n",
    "r = requests.get(url)\n",
    "r"
   ]
  },
  {
   "cell_type": "code",
   "execution_count": 38,
   "id": "9db5143d",
   "metadata": {
    "scrolled": true
   },
   "outputs": [
    {
     "data": {
      "text/plain": [
       "'{\"coord\":{\"lon\":-0.1257,\"lat\":51.5085},\"weather\":[{\"id\":804,\"main\":\"Clouds\",\"description\":\"overcast clouds\",\"icon\":\"04d\"}],\"base\":\"stations\",\"main\":{\"temp\":285.43,\"feels_like\":285.14,\"temp_min\":284.32,\"temp_max\":286.08,\"pressure\":1011,\"humidity\":93},\"visibility\":10000,\"wind\":{\"speed\":3.6,\"deg\":220},\"clouds\":{\"all\":100},\"dt\":1707906307,\"sys\":{\"type\":2,\"id\":2075535,\"country\":\"GB\",\"sunrise\":1707895066,\"sunset\":1707930712},\"timezone\":0,\"id\":2643743,\"name\":\"London\",\"cod\":200}'"
      ]
     },
     "execution_count": 38,
     "metadata": {},
     "output_type": "execute_result"
    }
   ],
   "source": [
    "r.text"
   ]
  },
  {
   "cell_type": "markdown",
   "id": "eda44d6e",
   "metadata": {
    "slideshow": {
     "slide_type": "slide"
    }
   },
   "source": [
    "## Get the current weather information (continue)\n",
    "\n",
    "The received data is in the form of json, and we can parse it using the `json.loads()`:"
   ]
  },
  {
   "cell_type": "code",
   "execution_count": 39,
   "id": "3879b397",
   "metadata": {},
   "outputs": [],
   "source": [
    "weather = json.loads(r.text)"
   ]
  },
  {
   "cell_type": "code",
   "execution_count": 40,
   "id": "ccc4139b",
   "metadata": {},
   "outputs": [
    {
     "data": {
      "text/plain": [
       "{'coord': {'lon': -0.1257, 'lat': 51.5085},\n",
       " 'weather': [{'id': 804,\n",
       "   'main': 'Clouds',\n",
       "   'description': 'overcast clouds',\n",
       "   'icon': '04d'}],\n",
       " 'base': 'stations',\n",
       " 'main': {'temp': 285.43,\n",
       "  'feels_like': 285.14,\n",
       "  'temp_min': 284.32,\n",
       "  'temp_max': 286.08,\n",
       "  'pressure': 1011,\n",
       "  'humidity': 93},\n",
       " 'visibility': 10000,\n",
       " 'wind': {'speed': 3.6, 'deg': 220},\n",
       " 'clouds': {'all': 100},\n",
       " 'dt': 1707906307,\n",
       " 'sys': {'type': 2,\n",
       "  'id': 2075535,\n",
       "  'country': 'GB',\n",
       "  'sunrise': 1707895066,\n",
       "  'sunset': 1707930712},\n",
       " 'timezone': 0,\n",
       " 'id': 2643743,\n",
       " 'name': 'London',\n",
       " 'cod': 200}"
      ]
     },
     "execution_count": 40,
     "metadata": {},
     "output_type": "execute_result"
    }
   ],
   "source": [
    "weather"
   ]
  },
  {
   "cell_type": "code",
   "execution_count": 42,
   "id": "ded77558",
   "metadata": {},
   "outputs": [
    {
     "data": {
      "text/plain": [
       "-0.1257"
      ]
     },
     "execution_count": 42,
     "metadata": {},
     "output_type": "execute_result"
    }
   ],
   "source": [
    "weather['coord']['lon']"
   ]
  },
  {
   "cell_type": "markdown",
   "id": "316f79c1",
   "metadata": {
    "slideshow": {
     "slide_type": "slide"
    }
   },
   "source": [
    "## Get the current weather information (continue)\n",
    "\n",
    "And retrieve the data we want, say temperature:"
   ]
  },
  {
   "cell_type": "code",
   "execution_count": 6,
   "id": "d949d784",
   "metadata": {},
   "outputs": [
    {
     "data": {
      "text/plain": [
       "284.81"
      ]
     },
     "execution_count": 6,
     "metadata": {},
     "output_type": "execute_result"
    }
   ],
   "source": [
    "weather['main']['temp']"
   ]
  },
  {
   "cell_type": "markdown",
   "id": "e79f26a3",
   "metadata": {},
   "source": [
    "Why is the number so high? Go back and read the documentation carefully!"
   ]
  },
  {
   "cell_type": "markdown",
   "id": "28641952",
   "metadata": {
    "slideshow": {
     "slide_type": "slide"
    }
   },
   "source": [
    "## Get the current weather information (continue)\n",
    "\n",
    "Provide additional argument to have the right unit of weather details:"
   ]
  },
  {
   "cell_type": "code",
   "execution_count": 43,
   "id": "15d23343",
   "metadata": {
    "scrolled": true
   },
   "outputs": [
    {
     "data": {
      "text/plain": [
       "<Response [200]>"
      ]
     },
     "execution_count": 43,
     "metadata": {},
     "output_type": "execute_result"
    }
   ],
   "source": [
    "url = f'http://api.openweathermap.org/data/2.5/weather'\\\n",
    "    f'?q={city_name}&appid={api_key}&units=metric'\n",
    "r = requests.get(url)\n",
    "r"
   ]
  },
  {
   "cell_type": "markdown",
   "id": "57adb955",
   "metadata": {},
   "source": [
    "Get the temperature again:"
   ]
  },
  {
   "cell_type": "code",
   "execution_count": 44,
   "id": "f6d45df3",
   "metadata": {},
   "outputs": [
    {
     "data": {
      "text/plain": [
       "12.31"
      ]
     },
     "execution_count": 44,
     "metadata": {},
     "output_type": "execute_result"
    }
   ],
   "source": [
    "weather = json.loads(r.text)\n",
    "weather['main']['temp']"
   ]
  },
  {
   "cell_type": "markdown",
   "id": "f329ea90",
   "metadata": {},
   "source": [
    "Lesson: Always read the official documentation - do not assume it will do what you _think_ it will do."
   ]
  },
  {
   "cell_type": "markdown",
   "id": "5a113141",
   "metadata": {
    "slideshow": {
     "slide_type": "slide"
    }
   },
   "source": [
    "## Recall: URL\n",
    "\n",
    "* URL form: `<scheme>://<host>:<port>/<path><;parameters><?query><#fragment>`\n",
    "    * Scheme (e.g., http, https)\n",
    "    * Location of the server, e.g. a hostname or IP address\n",
    "    * [optional] port: communication endpoint\n",
    "    * Path to the resource on the server\n",
    "    * [optional] parameters (;something), query string (?something), fragment identifier (#something)"
   ]
  },
  {
   "cell_type": "markdown",
   "id": "77d682a5",
   "metadata": {
    "slideshow": {
     "slide_type": "slide"
    }
   },
   "source": [
    "## Activity 8.1\n",
    "\n",
    "1. Update the code above to get the current weather information of a city you are interested in\n",
    "2. Read https://openweathermap.org/api/geocoding-api and create an API call to get the latitude and longitude of Paris, France"
   ]
  },
  {
   "cell_type": "code",
   "execution_count": 48,
   "id": "a3c44e3c",
   "metadata": {},
   "outputs": [
    {
     "data": {
      "text/plain": [
       "<Response [200]>"
      ]
     },
     "execution_count": 48,
     "metadata": {},
     "output_type": "execute_result"
    }
   ],
   "source": [
    "# write your code for question 1 here\n",
    "city_name = 'Taipei'\n",
    "url = f'http://api.openweathermap.org/data/2.5/weather?q={city_name}&appid={api_key}&units=metric'\n",
    "r = requests.get(url)\n",
    "r"
   ]
  },
  {
   "cell_type": "code",
   "execution_count": 49,
   "id": "a85fb79e",
   "metadata": {},
   "outputs": [
    {
     "data": {
      "text/plain": [
       "{'coord': {'lon': 121.5319, 'lat': 25.0478},\n",
       " 'weather': [{'id': 801,\n",
       "   'main': 'Clouds',\n",
       "   'description': 'few clouds',\n",
       "   'icon': '02n'}],\n",
       " 'base': 'stations',\n",
       " 'main': {'temp': 20.32,\n",
       "  'feels_like': 19.84,\n",
       "  'temp_min': 17.07,\n",
       "  'temp_max': 21.66,\n",
       "  'pressure': 1017,\n",
       "  'humidity': 55},\n",
       " 'visibility': 10000,\n",
       " 'wind': {'speed': 2.57, 'deg': 260},\n",
       " 'clouds': {'all': 20},\n",
       " 'dt': 1707907786,\n",
       " 'sys': {'type': 2,\n",
       "  'id': 266033,\n",
       "  'country': 'TW',\n",
       "  'sunrise': 1707863389,\n",
       "  'sunset': 1707903994},\n",
       " 'timezone': 28800,\n",
       " 'id': 1668341,\n",
       " 'name': 'Taipei',\n",
       " 'cod': 200}"
      ]
     },
     "execution_count": 49,
     "metadata": {},
     "output_type": "execute_result"
    }
   ],
   "source": [
    "tpe_weather = json.loads(r.text)\n",
    "tpe_weather"
   ]
  },
  {
   "cell_type": "code",
   "execution_count": 50,
   "id": "3e6bd91c",
   "metadata": {},
   "outputs": [
    {
     "data": {
      "text/plain": [
       "20.32"
      ]
     },
     "execution_count": 50,
     "metadata": {},
     "output_type": "execute_result"
    }
   ],
   "source": [
    "tpe_weather['main']['temp']"
   ]
  },
  {
   "cell_type": "code",
   "execution_count": 9,
   "id": "8f33dfb0",
   "metadata": {},
   "outputs": [],
   "source": [
    "# write your code for question 2 here\n",
    "# hint: use json.loads(r.text) and locate the index of longitude and latitude inside the API documentation"
   ]
  },
  {
   "cell_type": "code",
   "execution_count": 51,
   "id": "86f51439",
   "metadata": {},
   "outputs": [
    {
     "data": {
      "text/plain": [
       "{'lon': 121.5319, 'lat': 25.0478}"
      ]
     },
     "execution_count": 51,
     "metadata": {},
     "output_type": "execute_result"
    }
   ],
   "source": [
    "tpe_weather['coord']"
   ]
  },
  {
   "cell_type": "markdown",
   "id": "5dfc22f2",
   "metadata": {
    "slideshow": {
     "slide_type": "slide"
    }
   },
   "source": [
    "## Example 2: Reddit API\n",
    "\n",
    "[Reddit API](https://www.reddit.com/dev/api/) allows users to automate what they can do manually on the Reddit website with the use of API calls.\n",
    "\n",
    "In this workshop, we will follow the [Quick Start Example](https://github.com/reddit-archive/reddit/wiki/OAuth2-Quick-Start-Example) from Reddit."
   ]
  },
  {
   "cell_type": "markdown",
   "id": "9f15b6fc",
   "metadata": {
    "slideshow": {
     "slide_type": "slide"
    }
   },
   "source": [
    "## Reddit API: Sign up and set up the application\n",
    "\n",
    "1. Sign up and log in to a Reddit account\n",
    "2. Go to https://www.reddit.com/prefs/apps. Hit `are you a developer? create an app...` and enter the details like the following:\n",
    "<center><img src=\"figs/reddit_app.png\" width=\"700\"/></center>\n",
    "You should then get the following:\n",
    "<center><img src=\"figs/reddit_id_secret.png\" width=\"400\"/></center>"
   ]
  },
  {
   "cell_type": "markdown",
   "id": "4cd53bde",
   "metadata": {
    "slideshow": {
     "slide_type": "slide"
    }
   },
   "source": [
    "## Reddit API: Sign up and set up the application\n",
    "\n",
    "3. Go to https://www.reddit.com/wiki/api. Hit `Read the full API terms and sign up for usage` and fill in the form with the app id you have got from (2)\n",
    "4. Update the `keys.json` with your Reddit username, password, app id and app secret from (2)"
   ]
  },
  {
   "cell_type": "markdown",
   "id": "9389360c",
   "metadata": {
    "slideshow": {
     "slide_type": "slide"
    }
   },
   "source": [
    "## Reddit API: Request a token\n",
    "\n",
    "To request a token, we need to:\n",
    "1. Provide the application id and secret (or call the client id and secret) for authentication\n",
    "2. Provide Reddit username and password \n",
    "\n",
    "We first retrieve the required id, secret, etc from `keys.json`:"
   ]
  },
  {
   "cell_type": "code",
   "execution_count": 2,
   "id": "b4d8e05a",
   "metadata": {},
   "outputs": [],
   "source": [
    "import json \n",
    "import requests\n",
    "\n",
    "with open('keys.json') as f:\n",
    "    keys = json.load(f)\n",
    "    \n",
    "app_id = keys['reddit']['app_id']\n",
    "app_secret = keys['reddit']['app_secret']\n",
    "username = keys['reddit']['username']\n",
    "password = keys['reddit']['password']"
   ]
  },
  {
   "cell_type": "markdown",
   "id": "0df69bf1",
   "metadata": {
    "slideshow": {
     "slide_type": "slide"
    }
   },
   "source": [
    "## Reddit API: Request a token (continue)\n",
    "\n",
    "We then follow the example from the [Reddit API github page](https://github.com/reddit-archive/reddit/wiki/OAuth2-Quick-Start-Example#python-example) to request a token:"
   ]
  },
  {
   "cell_type": "code",
   "execution_count": 3,
   "id": "ce03ecc2",
   "metadata": {},
   "outputs": [],
   "source": [
    "import requests.auth\n",
    "\n",
    "client_auth = requests.auth.HTTPBasicAuth(app_id, app_secret)\n",
    "post_data = {'grant_type': 'password', \n",
    "             'username': username, \n",
    "             'password': password}\n",
    "headers = {'User-Agent': f'testing lse/0.0.1 by {username}'}\n",
    "\n",
    "r = requests.post('https://www.reddit.com/api/v1/access_token',\n",
    "                  auth=client_auth, data=post_data, headers=headers)"
   ]
  },
  {
   "cell_type": "markdown",
   "id": "41328062",
   "metadata": {},
   "source": [
    "In this example:\n",
    "* We use post instead of get\n",
    "* Headers are included"
   ]
  },
  {
   "cell_type": "markdown",
   "id": "06de2e1d",
   "metadata": {
    "slideshow": {
     "slide_type": "slide"
    }
   },
   "source": [
    "## Recap: HTTP requests\n",
    "\n",
    "* An HTTP request has the following components:\n",
    "    * Request line, which includes\n",
    "        * URL \n",
    "        * Method (e.g. GET)\n",
    "        * Protocol version\n",
    "    * Headers: meta-information about a request\n",
    "    * Message body (optional)"
   ]
  },
  {
   "cell_type": "markdown",
   "id": "7b0f50f1",
   "metadata": {
    "slideshow": {
     "slide_type": "slide"
    }
   },
   "source": [
    "## Recap: HTTP request methods\n",
    "\n",
    "HTTP request methods indicate the desired action to be performed on the identified resource. \n",
    "* Some example request methods:\n",
    "\n",
    "| Method      |Description                                                                      |\n",
    "|-------------|---------------------------------------------------------------------------------|\n",
    "| GET         | Retrieve information from the specified URL                                    |\n",
    "| HEAD        | Retrieve the meta information from the header of the specified URL             |\n",
    "| POST        | Send the attached information for appending to the source URL                  |\n",
    "| PUT         | Send the attached information for replacing the resource at the specified URL  |\n",
    "| DELETE      | Delete the information identified by the URL                                    |\n"
   ]
  },
  {
   "cell_type": "markdown",
   "id": "5e981dd5",
   "metadata": {
    "slideshow": {
     "slide_type": "slide"
    }
   },
   "source": [
    "## Reddit API: Request a token (continue)\n",
    "\n",
    "Check if we have successfully got the token:"
   ]
  },
  {
   "cell_type": "code",
   "execution_count": 4,
   "id": "11ae9cf2",
   "metadata": {
    "scrolled": true
   },
   "outputs": [
    {
     "data": {
      "text/plain": [
       "<Response [200]>"
      ]
     },
     "execution_count": 4,
     "metadata": {},
     "output_type": "execute_result"
    }
   ],
   "source": [
    "r"
   ]
  },
  {
   "cell_type": "markdown",
   "id": "d00b5ec6",
   "metadata": {},
   "source": [
    "In the response we get the \"access_token\" for which we will use later:"
   ]
  },
  {
   "cell_type": "code",
   "execution_count": 5,
   "id": "35741d37",
   "metadata": {},
   "outputs": [],
   "source": [
    "access_token = json.loads(r.text)['access_token']"
   ]
  },
  {
   "cell_type": "markdown",
   "id": "246ba0a2",
   "metadata": {
    "slideshow": {
     "slide_type": "slide"
    }
   },
   "source": [
    "## Reddit API: use the access token to send a request\n",
    "\n",
    "Now we use the access token to create an API call to show the top posts from the subreddit `datascience`:"
   ]
  },
  {
   "cell_type": "code",
   "execution_count": 6,
   "id": "e3a09d08",
   "metadata": {
    "scrolled": true
   },
   "outputs": [
    {
     "data": {
      "text/plain": [
       "<Response [200]>"
      ]
     },
     "execution_count": 6,
     "metadata": {},
     "output_type": "execute_result"
    }
   ],
   "source": [
    "headers = {\"Authorization\": f\"bearer {access_token}\", \n",
    "           'User-Agent': f'lse/0.0.1 by {username}'}\n",
    "\n",
    "r = requests.get(\"https://oauth.reddit.com/r/datascience/hot?limit=3\",\n",
    "                 headers=headers)\n",
    "r"
   ]
  },
  {
   "cell_type": "markdown",
   "id": "bc40f273",
   "metadata": {},
   "source": [
    "Note:\n",
    "* Here we make use of `headers` to provide the access token\n",
    "* Here we set `limit=3`, which means the maximum number of items to return is 3\n",
    "\n",
    "To learn how to make the API call, See [here](https://www.reddit.com/dev/api/#GET_{sort})."
   ]
  },
  {
   "cell_type": "markdown",
   "id": "8e760b4c",
   "metadata": {
    "slideshow": {
     "slide_type": "slide"
    }
   },
   "source": [
    "## Reddit API: have a look at the data we have got"
   ]
  },
  {
   "cell_type": "code",
   "execution_count": 7,
   "id": "73066448",
   "metadata": {
    "scrolled": false
   },
   "outputs": [
    {
     "name": "stdout",
     "output_type": "stream",
     "text": [
      "Weekly Entering &amp; Transitioning - Thread 19 Feb, 2024 - 26 Feb, 2024 https://www.reddit.com/r/datascience/comments/1auf3jr/weekly_entering_transitioning_thread_19_feb_2024/\n",
      "Which part-time masters for Data Science? https://www.reddit.com/r/datascience/comments/1az3t66/which_parttime_masters_for_data_science/\n",
      "Linear regression vs Regression trees - how would you approach choosing which to use?  https://www.reddit.com/r/datascience/comments/1ayvccw/linear_regression_vs_regression_trees_how_would/\n",
      "Sr product data analyst considering post bacc   https://www.reddit.com/r/datascience/comments/1az574f/sr_product_data_analyst_considering_post_bacc/\n"
     ]
    }
   ],
   "source": [
    "for post in json.loads(r.text)['data']['children']:\n",
    "    print(post['data']['title'], post['data']['url'])"
   ]
  },
  {
   "cell_type": "markdown",
   "id": "49e0411b",
   "metadata": {
    "slideshow": {
     "slide_type": "slide"
    }
   },
   "source": [
    "## Activity 8.2\n",
    "\n",
    "1. Read the first section of https://www.reddit.com/dev/api to understand what `after` / `before`, `limit`, `count`, and `show`\n",
    "2. Read https://www.reddit.com/dev/api/#GET_search and use the API to get the 100 posts related to python from the subreddit `datascience`. Print out the title of the post and the score of the post"
   ]
  },
  {
   "cell_type": "code",
   "execution_count": null,
   "id": "9029dda0",
   "metadata": {},
   "outputs": [],
   "source": [
    "# write your code for question 2 here\n",
    "# hint: use for loop to print out the title and score of the post in parsed_data['data']['children']"
   ]
  },
  {
   "cell_type": "markdown",
   "id": "87a77f4b",
   "metadata": {
    "slideshow": {
     "slide_type": "slide"
    }
   },
   "source": [
    "##  API remark\n",
    "\n",
    "* Providers often decide the API, and clients have to read the documentation to know how to use their API"
   ]
  },
  {
   "cell_type": "markdown",
   "id": "c6c55808",
   "metadata": {
    "slideshow": {
     "slide_type": "slide"
    }
   },
   "source": [
    "## Further examples on API\n",
    "\n",
    "Here I provide 2 more examples of using API to collect data as a _demonstration_. The purpose of the demo is as follows:\n",
    "1. To show how you can get data from Twitter using their API (can be useful for students who analyse Twitter data in their project)\n",
    "2. To show how you can collect real-time financial data through API (can be useful for students who are interested in jobs in the financial industry)\n",
    "\n",
    "The use of the Twitter and Finnhub API will NOT appear in problem set questions. Not to worry if you are not able to run the code from here.\n",
    "* Getting a Twitter developer account can be difficult..."
   ]
  },
  {
   "cell_type": "markdown",
   "id": "a5b8583c",
   "metadata": {
    "slideshow": {
     "slide_type": "slide"
    }
   },
   "source": [
    "## Demo 1: Twitter API\n",
    "\n",
    "Before you can use Twitter API, you need to apply for a developer account. \n",
    "\n",
    "Follow the [link](https://developer.twitter.com/en/docs/tutorials/step-by-step-guide-to-making-your-first-request-to-the-twitter-api-v2) to:\n",
    "1. Sign up for a developer account\n",
    "2. Create a Project and connect to an app\n",
    "    * In this workshop, we will only use the bearer to connect to an app"
   ]
  },
  {
   "cell_type": "markdown",
   "id": "42b252df",
   "metadata": {
    "slideshow": {
     "slide_type": "slide"
    }
   },
   "source": [
    "## Twitter API: demo \n",
    "\n",
    "Get information about a Twitter account:"
   ]
  },
  {
   "cell_type": "code",
   "execution_count": 8,
   "id": "36d1b6d8",
   "metadata": {},
   "outputs": [],
   "source": [
    "bearer_token = keys['twitter']['bearer_token']\n",
    "headers = {\n",
    "    'Authorization': f\"Bearer {bearer_token}\"\n",
    "}\n",
    "r = requests.get('https://api.twitter.com/2/users/by/username/elonmusk', headers=headers)"
   ]
  },
  {
   "cell_type": "code",
   "execution_count": 9,
   "id": "3e4e2608",
   "metadata": {},
   "outputs": [
    {
     "data": {
      "text/plain": [
       "'{\"client_id\":\"28407640\",\"detail\":\"When authenticating requests to the Twitter API v2 endpoints, you must use keys and tokens from a Twitter developer App that is attached to a Project. You can create a project via the developer portal.\",\"registration_url\":\"https://developer.twitter.com/en/docs/projects/overview\",\"title\":\"Client Forbidden\",\"required_enrollment\":\"Appropriate Level of API Access\",\"reason\":\"client-not-enrolled\",\"type\":\"https://api.twitter.com/2/problems/client-forbidden\"}'"
      ]
     },
     "execution_count": 9,
     "metadata": {},
     "output_type": "execute_result"
    }
   ],
   "source": [
    "r.text"
   ]
  },
  {
   "cell_type": "markdown",
   "id": "b024d9cd",
   "metadata": {
    "slideshow": {
     "slide_type": "slide"
    }
   },
   "source": [
    "## Twitter API: demo (continue)\n",
    "\n",
    "Get a few tweets from the given user using the user id:"
   ]
  },
  {
   "cell_type": "code",
   "execution_count": 10,
   "id": "9944034e",
   "metadata": {},
   "outputs": [
    {
     "data": {
      "text/plain": [
       "<Response [403]>"
      ]
     },
     "execution_count": 10,
     "metadata": {},
     "output_type": "execute_result"
    }
   ],
   "source": [
    "r = requests.get('https://api.twitter.com/2/users/44196397/tweets', headers=headers)\n",
    "r"
   ]
  },
  {
   "cell_type": "markdown",
   "id": "bdb2a768",
   "metadata": {
    "slideshow": {
     "slide_type": "slide"
    }
   },
   "source": [
    "## Twitter API: demo (continue)"
   ]
  },
  {
   "cell_type": "code",
   "execution_count": 19,
   "id": "a2a71568",
   "metadata": {},
   "outputs": [
    {
     "data": {
      "text/plain": [
       "{'title': 'Unauthorized',\n",
       " 'type': 'about:blank',\n",
       " 'status': 401,\n",
       " 'detail': 'Unauthorized'}"
      ]
     },
     "execution_count": 19,
     "metadata": {},
     "output_type": "execute_result"
    }
   ],
   "source": [
    "json.loads(r.text)"
   ]
  },
  {
   "cell_type": "markdown",
   "id": "8793f8c2",
   "metadata": {
    "slideshow": {
     "slide_type": "slide"
    }
   },
   "source": [
    "## Twitter API: demo (continue)\n",
    "\n",
    "Get the details of a tweet given its id. \n",
    "* You can specify what field you want under `tweet.fields=...`\n",
    "    * Here we get the `author_id` and `public_metrics` (measure Tweet engagement)\n",
    "    * See [here](https://developer.twitter.com/en/docs/twitter-api/data-dictionary/object-model/tweet) for more details"
   ]
  },
  {
   "cell_type": "code",
   "execution_count": 20,
   "id": "78e39984",
   "metadata": {},
   "outputs": [],
   "source": [
    "r = requests.get('https://api.twitter.com/2/tweets?ids=1501796086255693827&' \\\n",
    "                 'tweet.fields=author_id,public_metrics', \n",
    "                 headers=headers)"
   ]
  },
  {
   "cell_type": "code",
   "execution_count": 21,
   "id": "c0057254",
   "metadata": {
    "scrolled": true
   },
   "outputs": [
    {
     "data": {
      "text/plain": [
       "{'title': 'Unauthorized',\n",
       " 'type': 'about:blank',\n",
       " 'status': 401,\n",
       " 'detail': 'Unauthorized'}"
      ]
     },
     "execution_count": 21,
     "metadata": {},
     "output_type": "execute_result"
    }
   ],
   "source": [
    "json.loads(r.text)"
   ]
  },
  {
   "cell_type": "markdown",
   "id": "6b315047",
   "metadata": {
    "slideshow": {
     "slide_type": "slide"
    }
   },
   "source": [
    "## Twitter API: demo (continue)\n",
    "\n",
    "Get a collection of relevant Tweets matching a specified query - here search for \"elon musk\":"
   ]
  },
  {
   "cell_type": "code",
   "execution_count": 22,
   "id": "9bdd37ba",
   "metadata": {
    "scrolled": true
   },
   "outputs": [
    {
     "data": {
      "text/plain": [
       "<Response [400]>"
      ]
     },
     "execution_count": 22,
     "metadata": {},
     "output_type": "execute_result"
    }
   ],
   "source": [
    "#%20 is a space in a url\n",
    "api_call = 'https://api.twitter.com/1.1/search/tweets.json?q=elon%20musk&count=100' \n",
    "r = requests.get(api_call, \n",
    "                 headers=headers)\n",
    "r"
   ]
  },
  {
   "cell_type": "code",
   "execution_count": 23,
   "id": "2a3a7ad6",
   "metadata": {},
   "outputs": [],
   "source": [
    "tweets = json.loads(r.text)"
   ]
  },
  {
   "cell_type": "code",
   "execution_count": 29,
   "id": "530e0786",
   "metadata": {},
   "outputs": [
    {
     "ename": "KeyError",
     "evalue": "'statuses'",
     "output_type": "error",
     "traceback": [
      "\u001b[1;31m---------------------------------------------------------------------------\u001b[0m",
      "\u001b[1;31mKeyError\u001b[0m                                  Traceback (most recent call last)",
      "Input \u001b[1;32mIn [29]\u001b[0m, in \u001b[0;36m<cell line: 1>\u001b[1;34m()\u001b[0m\n\u001b[1;32m----> 1\u001b[0m \u001b[38;5;28mlen\u001b[39m(\u001b[43mtweets\u001b[49m\u001b[43m[\u001b[49m\u001b[38;5;124;43m'\u001b[39;49m\u001b[38;5;124;43mstatuses\u001b[39;49m\u001b[38;5;124;43m'\u001b[39;49m\u001b[43m]\u001b[49m)\n",
      "\u001b[1;31mKeyError\u001b[0m: 'statuses'"
     ]
    }
   ],
   "source": [
    "len(tweets['statuses'])"
   ]
  },
  {
   "cell_type": "markdown",
   "id": "b3af312d",
   "metadata": {},
   "source": [
    "See [here](https://developer.twitter.com/en/docs/twitter-api/v1/tweets/search/api-reference/get-search-tweets) to learn more about how to get search results using Twitter API, and see [here](https://en.wikipedia.org/wiki/Percent-encoding) to learn about percent encoding."
   ]
  },
  {
   "cell_type": "markdown",
   "id": "4980224e",
   "metadata": {
    "slideshow": {
     "slide_type": "slide"
    }
   },
   "source": [
    "## Twitter API: demo (continue)\n",
    "\n",
    "Get a collection of the most recent Tweets posted by the user - here with the given user id of Elon Musk:"
   ]
  },
  {
   "cell_type": "code",
   "execution_count": 25,
   "id": "9d8d60b6",
   "metadata": {},
   "outputs": [
    {
     "data": {
      "text/plain": [
       "<Response [400]>"
      ]
     },
     "execution_count": 25,
     "metadata": {},
     "output_type": "execute_result"
    }
   ],
   "source": [
    "url='https://api.twitter.com/1.1/statuses/user_timeline.json?user_id=44196397&count=200'\n",
    "r=requests.get(url, headers=headers)\n",
    "r"
   ]
  },
  {
   "cell_type": "code",
   "execution_count": 26,
   "id": "3056074a",
   "metadata": {},
   "outputs": [],
   "source": [
    "tweets = json.loads(r.text)"
   ]
  },
  {
   "cell_type": "code",
   "execution_count": 27,
   "id": "f9864381",
   "metadata": {
    "scrolled": true
   },
   "outputs": [
    {
     "data": {
      "text/plain": [
       "1"
      ]
     },
     "execution_count": 27,
     "metadata": {},
     "output_type": "execute_result"
    }
   ],
   "source": [
    "len(tweets)"
   ]
  },
  {
   "cell_type": "markdown",
   "id": "9be90151",
   "metadata": {},
   "source": [
    "See [here](https://developer.twitter.com/en/docs/twitter-api/v1/tweets/timelines/api-reference/get-statuses-user_timeline) to learn more about how to the most recent Tweets posted from a user."
   ]
  },
  {
   "cell_type": "markdown",
   "id": "87d2594b",
   "metadata": {
    "slideshow": {
     "slide_type": "slide"
    }
   },
   "source": [
    "## Demo 2: receiving real-time financial data\n",
    "\n",
    "The code of the demo is under `finnhub.ipynb`."
   ]
  },
  {
   "cell_type": "markdown",
   "id": "b7a700f4",
   "metadata": {
    "slideshow": {
     "slide_type": "slide"
    }
   },
   "source": [
    "## Select files to submit on GitHub\n",
    "\n",
    "Unselect `keys.json` before commit and push:\n",
    "\n",
    "<center><img src=\"figs/github.png\" width=\"500\"/></center>"
   ]
  },
  {
   "cell_type": "markdown",
   "id": "35a0f464",
   "metadata": {
    "slideshow": {
     "slide_type": "slide"
    }
   },
   "source": [
    "## Summary\n",
    "\n",
    "* API examples and exercises\n",
    "* API demo to:\n",
    "    * Help you to prepare for the project\n",
    "    * See how we can collect real-time data"
   ]
  }
 ],
 "metadata": {
  "celltoolbar": "Slideshow",
  "kernelspec": {
   "display_name": "Python 3 (ipykernel)",
   "language": "python",
   "name": "python3"
  },
  "language_info": {
   "codemirror_mode": {
    "name": "ipython",
    "version": 3
   },
   "file_extension": ".py",
   "mimetype": "text/x-python",
   "name": "python",
   "nbconvert_exporter": "python",
   "pygments_lexer": "ipython3",
   "version": "3.9.12"
  }
 },
 "nbformat": 4,
 "nbformat_minor": 5
}
