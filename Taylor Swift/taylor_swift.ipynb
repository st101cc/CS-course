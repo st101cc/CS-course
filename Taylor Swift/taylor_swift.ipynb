{
 "cells": [
  {
   "cell_type": "code",
   "execution_count": 1,
   "id": "4deca34b",
   "metadata": {},
   "outputs": [],
   "source": [
    "# https://www.kaggle.com/datasets/jarredpriester/taylor-swift-spotify-dataset/code"
   ]
  },
  {
   "cell_type": "code",
   "execution_count": 2,
   "id": "a94c7fc7",
   "metadata": {},
   "outputs": [],
   "source": [
    "import pandas as pd"
   ]
  },
  {
   "cell_type": "code",
   "execution_count": 3,
   "id": "eabdb0fc",
   "metadata": {},
   "outputs": [
    {
     "data": {
      "text/html": [
       "<div>\n",
       "<style scoped>\n",
       "    .dataframe tbody tr th:only-of-type {\n",
       "        vertical-align: middle;\n",
       "    }\n",
       "\n",
       "    .dataframe tbody tr th {\n",
       "        vertical-align: top;\n",
       "    }\n",
       "\n",
       "    .dataframe thead th {\n",
       "        text-align: right;\n",
       "    }\n",
       "</style>\n",
       "<table border=\"1\" class=\"dataframe\">\n",
       "  <thead>\n",
       "    <tr style=\"text-align: right;\">\n",
       "      <th></th>\n",
       "      <th>Unnamed: 0</th>\n",
       "      <th>name</th>\n",
       "      <th>album</th>\n",
       "      <th>release_date</th>\n",
       "      <th>track_number</th>\n",
       "      <th>id</th>\n",
       "      <th>uri</th>\n",
       "      <th>acousticness</th>\n",
       "      <th>danceability</th>\n",
       "      <th>energy</th>\n",
       "      <th>instrumentalness</th>\n",
       "      <th>liveness</th>\n",
       "      <th>loudness</th>\n",
       "      <th>speechiness</th>\n",
       "      <th>tempo</th>\n",
       "      <th>valence</th>\n",
       "      <th>popularity</th>\n",
       "      <th>duration_ms</th>\n",
       "    </tr>\n",
       "  </thead>\n",
       "  <tbody>\n",
       "    <tr>\n",
       "      <th>0</th>\n",
       "      <td>0</td>\n",
       "      <td>Welcome To New York (Taylor's Version)</td>\n",
       "      <td>1989 (Taylor's Version) [Deluxe]</td>\n",
       "      <td>2023-10-27</td>\n",
       "      <td>1</td>\n",
       "      <td>4WUepByoeqcedHoYhSNHRt</td>\n",
       "      <td>spotify:track:4WUepByoeqcedHoYhSNHRt</td>\n",
       "      <td>0.009420</td>\n",
       "      <td>0.757</td>\n",
       "      <td>0.610</td>\n",
       "      <td>0.000037</td>\n",
       "      <td>0.3670</td>\n",
       "      <td>-4.840</td>\n",
       "      <td>0.0327</td>\n",
       "      <td>116.998</td>\n",
       "      <td>0.685</td>\n",
       "      <td>70</td>\n",
       "      <td>212600</td>\n",
       "    </tr>\n",
       "    <tr>\n",
       "      <th>1</th>\n",
       "      <td>1</td>\n",
       "      <td>Blank Space (Taylor's Version)</td>\n",
       "      <td>1989 (Taylor's Version) [Deluxe]</td>\n",
       "      <td>2023-10-27</td>\n",
       "      <td>2</td>\n",
       "      <td>0108kcWLnn2HlH2kedi1gn</td>\n",
       "      <td>spotify:track:0108kcWLnn2HlH2kedi1gn</td>\n",
       "      <td>0.088500</td>\n",
       "      <td>0.733</td>\n",
       "      <td>0.733</td>\n",
       "      <td>0.000000</td>\n",
       "      <td>0.1680</td>\n",
       "      <td>-5.376</td>\n",
       "      <td>0.0670</td>\n",
       "      <td>96.057</td>\n",
       "      <td>0.701</td>\n",
       "      <td>71</td>\n",
       "      <td>231833</td>\n",
       "    </tr>\n",
       "    <tr>\n",
       "      <th>2</th>\n",
       "      <td>2</td>\n",
       "      <td>Style (Taylor's Version)</td>\n",
       "      <td>1989 (Taylor's Version) [Deluxe]</td>\n",
       "      <td>2023-10-27</td>\n",
       "      <td>3</td>\n",
       "      <td>3Vpk1hfMAQme8VJ0SNRSkd</td>\n",
       "      <td>spotify:track:3Vpk1hfMAQme8VJ0SNRSkd</td>\n",
       "      <td>0.000421</td>\n",
       "      <td>0.511</td>\n",
       "      <td>0.822</td>\n",
       "      <td>0.019700</td>\n",
       "      <td>0.0899</td>\n",
       "      <td>-4.785</td>\n",
       "      <td>0.0397</td>\n",
       "      <td>94.868</td>\n",
       "      <td>0.305</td>\n",
       "      <td>72</td>\n",
       "      <td>231000</td>\n",
       "    </tr>\n",
       "    <tr>\n",
       "      <th>3</th>\n",
       "      <td>3</td>\n",
       "      <td>Out Of The Woods (Taylor's Version)</td>\n",
       "      <td>1989 (Taylor's Version) [Deluxe]</td>\n",
       "      <td>2023-10-27</td>\n",
       "      <td>4</td>\n",
       "      <td>1OcSfkeCg9hRC2sFKB4IMJ</td>\n",
       "      <td>spotify:track:1OcSfkeCg9hRC2sFKB4IMJ</td>\n",
       "      <td>0.000537</td>\n",
       "      <td>0.545</td>\n",
       "      <td>0.885</td>\n",
       "      <td>0.000056</td>\n",
       "      <td>0.3850</td>\n",
       "      <td>-5.968</td>\n",
       "      <td>0.0447</td>\n",
       "      <td>92.021</td>\n",
       "      <td>0.206</td>\n",
       "      <td>71</td>\n",
       "      <td>235800</td>\n",
       "    </tr>\n",
       "    <tr>\n",
       "      <th>4</th>\n",
       "      <td>4</td>\n",
       "      <td>All You Had To Do Was Stay (Taylor's Version)</td>\n",
       "      <td>1989 (Taylor's Version) [Deluxe]</td>\n",
       "      <td>2023-10-27</td>\n",
       "      <td>5</td>\n",
       "      <td>2k0ZEeAqzvYMcx9Qt5aClQ</td>\n",
       "      <td>spotify:track:2k0ZEeAqzvYMcx9Qt5aClQ</td>\n",
       "      <td>0.000656</td>\n",
       "      <td>0.588</td>\n",
       "      <td>0.721</td>\n",
       "      <td>0.000000</td>\n",
       "      <td>0.1310</td>\n",
       "      <td>-5.579</td>\n",
       "      <td>0.0317</td>\n",
       "      <td>96.997</td>\n",
       "      <td>0.520</td>\n",
       "      <td>70</td>\n",
       "      <td>193289</td>\n",
       "    </tr>\n",
       "  </tbody>\n",
       "</table>\n",
       "</div>"
      ],
      "text/plain": [
       "   Unnamed: 0                                           name  \\\n",
       "0           0         Welcome To New York (Taylor's Version)   \n",
       "1           1                 Blank Space (Taylor's Version)   \n",
       "2           2                       Style (Taylor's Version)   \n",
       "3           3            Out Of The Woods (Taylor's Version)   \n",
       "4           4  All You Had To Do Was Stay (Taylor's Version)   \n",
       "\n",
       "                              album release_date  track_number  \\\n",
       "0  1989 (Taylor's Version) [Deluxe]   2023-10-27             1   \n",
       "1  1989 (Taylor's Version) [Deluxe]   2023-10-27             2   \n",
       "2  1989 (Taylor's Version) [Deluxe]   2023-10-27             3   \n",
       "3  1989 (Taylor's Version) [Deluxe]   2023-10-27             4   \n",
       "4  1989 (Taylor's Version) [Deluxe]   2023-10-27             5   \n",
       "\n",
       "                       id                                   uri  acousticness  \\\n",
       "0  4WUepByoeqcedHoYhSNHRt  spotify:track:4WUepByoeqcedHoYhSNHRt      0.009420   \n",
       "1  0108kcWLnn2HlH2kedi1gn  spotify:track:0108kcWLnn2HlH2kedi1gn      0.088500   \n",
       "2  3Vpk1hfMAQme8VJ0SNRSkd  spotify:track:3Vpk1hfMAQme8VJ0SNRSkd      0.000421   \n",
       "3  1OcSfkeCg9hRC2sFKB4IMJ  spotify:track:1OcSfkeCg9hRC2sFKB4IMJ      0.000537   \n",
       "4  2k0ZEeAqzvYMcx9Qt5aClQ  spotify:track:2k0ZEeAqzvYMcx9Qt5aClQ      0.000656   \n",
       "\n",
       "   danceability  energy  instrumentalness  liveness  loudness  speechiness  \\\n",
       "0         0.757   0.610          0.000037    0.3670    -4.840       0.0327   \n",
       "1         0.733   0.733          0.000000    0.1680    -5.376       0.0670   \n",
       "2         0.511   0.822          0.019700    0.0899    -4.785       0.0397   \n",
       "3         0.545   0.885          0.000056    0.3850    -5.968       0.0447   \n",
       "4         0.588   0.721          0.000000    0.1310    -5.579       0.0317   \n",
       "\n",
       "     tempo  valence  popularity  duration_ms  \n",
       "0  116.998    0.685          70       212600  \n",
       "1   96.057    0.701          71       231833  \n",
       "2   94.868    0.305          72       231000  \n",
       "3   92.021    0.206          71       235800  \n",
       "4   96.997    0.520          70       193289  "
      ]
     },
     "execution_count": 3,
     "metadata": {},
     "output_type": "execute_result"
    }
   ],
   "source": [
    "df = pd.read_csv(\"taylor_swift_spotify.csv\")\n",
    "df.head()"
   ]
  },
  {
   "cell_type": "code",
   "execution_count": 4,
   "id": "ff600da2",
   "metadata": {},
   "outputs": [
    {
     "data": {
      "text/html": [
       "<div>\n",
       "<style scoped>\n",
       "    .dataframe tbody tr th:only-of-type {\n",
       "        vertical-align: middle;\n",
       "    }\n",
       "\n",
       "    .dataframe tbody tr th {\n",
       "        vertical-align: top;\n",
       "    }\n",
       "\n",
       "    .dataframe thead th {\n",
       "        text-align: right;\n",
       "    }\n",
       "</style>\n",
       "<table border=\"1\" class=\"dataframe\">\n",
       "  <thead>\n",
       "    <tr style=\"text-align: right;\">\n",
       "      <th></th>\n",
       "      <th>Unnamed: 0</th>\n",
       "      <th>track_number</th>\n",
       "      <th>acousticness</th>\n",
       "      <th>danceability</th>\n",
       "      <th>energy</th>\n",
       "      <th>instrumentalness</th>\n",
       "      <th>liveness</th>\n",
       "      <th>loudness</th>\n",
       "      <th>speechiness</th>\n",
       "      <th>tempo</th>\n",
       "      <th>valence</th>\n",
       "      <th>popularity</th>\n",
       "      <th>duration_ms</th>\n",
       "    </tr>\n",
       "  </thead>\n",
       "  <tbody>\n",
       "    <tr>\n",
       "      <th>count</th>\n",
       "      <td>530.000000</td>\n",
       "      <td>530.000000</td>\n",
       "      <td>530.000000</td>\n",
       "      <td>530.000000</td>\n",
       "      <td>530.000000</td>\n",
       "      <td>530.000000</td>\n",
       "      <td>530.000000</td>\n",
       "      <td>530.000000</td>\n",
       "      <td>530.000000</td>\n",
       "      <td>530.000000</td>\n",
       "      <td>530.000000</td>\n",
       "      <td>530.000000</td>\n",
       "      <td>530.000000</td>\n",
       "    </tr>\n",
       "    <tr>\n",
       "      <th>mean</th>\n",
       "      <td>264.500000</td>\n",
       "      <td>11.184906</td>\n",
       "      <td>0.319247</td>\n",
       "      <td>0.585285</td>\n",
       "      <td>0.574609</td>\n",
       "      <td>0.004005</td>\n",
       "      <td>0.163492</td>\n",
       "      <td>-7.505434</td>\n",
       "      <td>0.055889</td>\n",
       "      <td>122.332311</td>\n",
       "      <td>0.397379</td>\n",
       "      <td>62.777358</td>\n",
       "      <td>239978.624528</td>\n",
       "    </tr>\n",
       "    <tr>\n",
       "      <th>std</th>\n",
       "      <td>153.142091</td>\n",
       "      <td>7.981060</td>\n",
       "      <td>0.327043</td>\n",
       "      <td>0.113121</td>\n",
       "      <td>0.191565</td>\n",
       "      <td>0.033163</td>\n",
       "      <td>0.142263</td>\n",
       "      <td>2.939040</td>\n",
       "      <td>0.070300</td>\n",
       "      <td>30.000272</td>\n",
       "      <td>0.199589</td>\n",
       "      <td>15.224702</td>\n",
       "      <td>46119.983031</td>\n",
       "    </tr>\n",
       "    <tr>\n",
       "      <th>min</th>\n",
       "      <td>0.000000</td>\n",
       "      <td>1.000000</td>\n",
       "      <td>0.000184</td>\n",
       "      <td>0.243000</td>\n",
       "      <td>0.118000</td>\n",
       "      <td>0.000000</td>\n",
       "      <td>0.035700</td>\n",
       "      <td>-17.932000</td>\n",
       "      <td>0.023100</td>\n",
       "      <td>68.097000</td>\n",
       "      <td>0.037400</td>\n",
       "      <td>32.000000</td>\n",
       "      <td>83253.000000</td>\n",
       "    </tr>\n",
       "    <tr>\n",
       "      <th>25%</th>\n",
       "      <td>132.250000</td>\n",
       "      <td>5.000000</td>\n",
       "      <td>0.036250</td>\n",
       "      <td>0.516000</td>\n",
       "      <td>0.443000</td>\n",
       "      <td>0.000000</td>\n",
       "      <td>0.096600</td>\n",
       "      <td>-9.222000</td>\n",
       "      <td>0.030325</td>\n",
       "      <td>96.939500</td>\n",
       "      <td>0.230000</td>\n",
       "      <td>50.000000</td>\n",
       "      <td>211813.000000</td>\n",
       "    </tr>\n",
       "    <tr>\n",
       "      <th>50%</th>\n",
       "      <td>264.500000</td>\n",
       "      <td>10.000000</td>\n",
       "      <td>0.165000</td>\n",
       "      <td>0.595500</td>\n",
       "      <td>0.589500</td>\n",
       "      <td>0.000002</td>\n",
       "      <td>0.115000</td>\n",
       "      <td>-7.012000</td>\n",
       "      <td>0.037300</td>\n",
       "      <td>119.030000</td>\n",
       "      <td>0.385500</td>\n",
       "      <td>68.000000</td>\n",
       "      <td>235273.000000</td>\n",
       "    </tr>\n",
       "    <tr>\n",
       "      <th>75%</th>\n",
       "      <td>396.750000</td>\n",
       "      <td>15.000000</td>\n",
       "      <td>0.653000</td>\n",
       "      <td>0.653000</td>\n",
       "      <td>0.729750</td>\n",
       "      <td>0.000056</td>\n",
       "      <td>0.163000</td>\n",
       "      <td>-5.361750</td>\n",
       "      <td>0.055225</td>\n",
       "      <td>143.934250</td>\n",
       "      <td>0.535000</td>\n",
       "      <td>74.000000</td>\n",
       "      <td>260361.000000</td>\n",
       "    </tr>\n",
       "    <tr>\n",
       "      <th>max</th>\n",
       "      <td>529.000000</td>\n",
       "      <td>46.000000</td>\n",
       "      <td>0.971000</td>\n",
       "      <td>0.897000</td>\n",
       "      <td>0.950000</td>\n",
       "      <td>0.488000</td>\n",
       "      <td>0.931000</td>\n",
       "      <td>-1.909000</td>\n",
       "      <td>0.912000</td>\n",
       "      <td>208.918000</td>\n",
       "      <td>0.943000</td>\n",
       "      <td>99.000000</td>\n",
       "      <td>613026.000000</td>\n",
       "    </tr>\n",
       "  </tbody>\n",
       "</table>\n",
       "</div>"
      ],
      "text/plain": [
       "       Unnamed: 0  track_number  acousticness  danceability      energy  \\\n",
       "count  530.000000    530.000000    530.000000    530.000000  530.000000   \n",
       "mean   264.500000     11.184906      0.319247      0.585285    0.574609   \n",
       "std    153.142091      7.981060      0.327043      0.113121    0.191565   \n",
       "min      0.000000      1.000000      0.000184      0.243000    0.118000   \n",
       "25%    132.250000      5.000000      0.036250      0.516000    0.443000   \n",
       "50%    264.500000     10.000000      0.165000      0.595500    0.589500   \n",
       "75%    396.750000     15.000000      0.653000      0.653000    0.729750   \n",
       "max    529.000000     46.000000      0.971000      0.897000    0.950000   \n",
       "\n",
       "       instrumentalness    liveness    loudness  speechiness       tempo  \\\n",
       "count        530.000000  530.000000  530.000000   530.000000  530.000000   \n",
       "mean           0.004005    0.163492   -7.505434     0.055889  122.332311   \n",
       "std            0.033163    0.142263    2.939040     0.070300   30.000272   \n",
       "min            0.000000    0.035700  -17.932000     0.023100   68.097000   \n",
       "25%            0.000000    0.096600   -9.222000     0.030325   96.939500   \n",
       "50%            0.000002    0.115000   -7.012000     0.037300  119.030000   \n",
       "75%            0.000056    0.163000   -5.361750     0.055225  143.934250   \n",
       "max            0.488000    0.931000   -1.909000     0.912000  208.918000   \n",
       "\n",
       "          valence  popularity    duration_ms  \n",
       "count  530.000000  530.000000     530.000000  \n",
       "mean     0.397379   62.777358  239978.624528  \n",
       "std      0.199589   15.224702   46119.983031  \n",
       "min      0.037400   32.000000   83253.000000  \n",
       "25%      0.230000   50.000000  211813.000000  \n",
       "50%      0.385500   68.000000  235273.000000  \n",
       "75%      0.535000   74.000000  260361.000000  \n",
       "max      0.943000   99.000000  613026.000000  "
      ]
     },
     "execution_count": 4,
     "metadata": {},
     "output_type": "execute_result"
    }
   ],
   "source": [
    "df.describe()"
   ]
  },
  {
   "cell_type": "code",
   "execution_count": 5,
   "id": "9cc360a4",
   "metadata": {},
   "outputs": [
    {
     "name": "stdout",
     "output_type": "stream",
     "text": [
      "<class 'pandas.core.frame.DataFrame'>\n",
      "RangeIndex: 530 entries, 0 to 529\n",
      "Data columns (total 18 columns):\n",
      " #   Column            Non-Null Count  Dtype  \n",
      "---  ------            --------------  -----  \n",
      " 0   Unnamed: 0        530 non-null    int64  \n",
      " 1   name              530 non-null    object \n",
      " 2   album             530 non-null    object \n",
      " 3   release_date      530 non-null    object \n",
      " 4   track_number      530 non-null    int64  \n",
      " 5   id                530 non-null    object \n",
      " 6   uri               530 non-null    object \n",
      " 7   acousticness      530 non-null    float64\n",
      " 8   danceability      530 non-null    float64\n",
      " 9   energy            530 non-null    float64\n",
      " 10  instrumentalness  530 non-null    float64\n",
      " 11  liveness          530 non-null    float64\n",
      " 12  loudness          530 non-null    float64\n",
      " 13  speechiness       530 non-null    float64\n",
      " 14  tempo             530 non-null    float64\n",
      " 15  valence           530 non-null    float64\n",
      " 16  popularity        530 non-null    int64  \n",
      " 17  duration_ms       530 non-null    int64  \n",
      "dtypes: float64(9), int64(4), object(5)\n",
      "memory usage: 74.7+ KB\n"
     ]
    }
   ],
   "source": [
    "df.info()"
   ]
  },
  {
   "cell_type": "markdown",
   "id": "e1bdd18d",
   "metadata": {},
   "source": [
    "# Data cleaning"
   ]
  },
  {
   "cell_type": "code",
   "execution_count": 6,
   "id": "e3d3125d",
   "metadata": {},
   "outputs": [
    {
     "data": {
      "text/html": [
       "<div>\n",
       "<style scoped>\n",
       "    .dataframe tbody tr th:only-of-type {\n",
       "        vertical-align: middle;\n",
       "    }\n",
       "\n",
       "    .dataframe tbody tr th {\n",
       "        vertical-align: top;\n",
       "    }\n",
       "\n",
       "    .dataframe thead th {\n",
       "        text-align: right;\n",
       "    }\n",
       "</style>\n",
       "<table border=\"1\" class=\"dataframe\">\n",
       "  <thead>\n",
       "    <tr style=\"text-align: right;\">\n",
       "      <th></th>\n",
       "      <th>name</th>\n",
       "      <th>album</th>\n",
       "      <th>release_date</th>\n",
       "      <th>track_number</th>\n",
       "      <th>id</th>\n",
       "      <th>acousticness</th>\n",
       "      <th>danceability</th>\n",
       "      <th>energy</th>\n",
       "      <th>instrumentalness</th>\n",
       "      <th>liveness</th>\n",
       "      <th>loudness</th>\n",
       "      <th>speechiness</th>\n",
       "      <th>tempo</th>\n",
       "      <th>valence</th>\n",
       "      <th>popularity</th>\n",
       "      <th>duration_ms</th>\n",
       "    </tr>\n",
       "  </thead>\n",
       "  <tbody>\n",
       "    <tr>\n",
       "      <th>0</th>\n",
       "      <td>Welcome To New York (Taylor's Version)</td>\n",
       "      <td>1989 (Taylor's Version) [Deluxe]</td>\n",
       "      <td>2023-10-27</td>\n",
       "      <td>1</td>\n",
       "      <td>4WUepByoeqcedHoYhSNHRt</td>\n",
       "      <td>0.009420</td>\n",
       "      <td>0.757</td>\n",
       "      <td>0.610</td>\n",
       "      <td>0.000037</td>\n",
       "      <td>0.3670</td>\n",
       "      <td>-4.840</td>\n",
       "      <td>0.0327</td>\n",
       "      <td>116.998</td>\n",
       "      <td>0.685</td>\n",
       "      <td>70</td>\n",
       "      <td>212600</td>\n",
       "    </tr>\n",
       "    <tr>\n",
       "      <th>1</th>\n",
       "      <td>Blank Space (Taylor's Version)</td>\n",
       "      <td>1989 (Taylor's Version) [Deluxe]</td>\n",
       "      <td>2023-10-27</td>\n",
       "      <td>2</td>\n",
       "      <td>0108kcWLnn2HlH2kedi1gn</td>\n",
       "      <td>0.088500</td>\n",
       "      <td>0.733</td>\n",
       "      <td>0.733</td>\n",
       "      <td>0.000000</td>\n",
       "      <td>0.1680</td>\n",
       "      <td>-5.376</td>\n",
       "      <td>0.0670</td>\n",
       "      <td>96.057</td>\n",
       "      <td>0.701</td>\n",
       "      <td>71</td>\n",
       "      <td>231833</td>\n",
       "    </tr>\n",
       "    <tr>\n",
       "      <th>2</th>\n",
       "      <td>Style (Taylor's Version)</td>\n",
       "      <td>1989 (Taylor's Version) [Deluxe]</td>\n",
       "      <td>2023-10-27</td>\n",
       "      <td>3</td>\n",
       "      <td>3Vpk1hfMAQme8VJ0SNRSkd</td>\n",
       "      <td>0.000421</td>\n",
       "      <td>0.511</td>\n",
       "      <td>0.822</td>\n",
       "      <td>0.019700</td>\n",
       "      <td>0.0899</td>\n",
       "      <td>-4.785</td>\n",
       "      <td>0.0397</td>\n",
       "      <td>94.868</td>\n",
       "      <td>0.305</td>\n",
       "      <td>72</td>\n",
       "      <td>231000</td>\n",
       "    </tr>\n",
       "    <tr>\n",
       "      <th>3</th>\n",
       "      <td>Out Of The Woods (Taylor's Version)</td>\n",
       "      <td>1989 (Taylor's Version) [Deluxe]</td>\n",
       "      <td>2023-10-27</td>\n",
       "      <td>4</td>\n",
       "      <td>1OcSfkeCg9hRC2sFKB4IMJ</td>\n",
       "      <td>0.000537</td>\n",
       "      <td>0.545</td>\n",
       "      <td>0.885</td>\n",
       "      <td>0.000056</td>\n",
       "      <td>0.3850</td>\n",
       "      <td>-5.968</td>\n",
       "      <td>0.0447</td>\n",
       "      <td>92.021</td>\n",
       "      <td>0.206</td>\n",
       "      <td>71</td>\n",
       "      <td>235800</td>\n",
       "    </tr>\n",
       "    <tr>\n",
       "      <th>4</th>\n",
       "      <td>All You Had To Do Was Stay (Taylor's Version)</td>\n",
       "      <td>1989 (Taylor's Version) [Deluxe]</td>\n",
       "      <td>2023-10-27</td>\n",
       "      <td>5</td>\n",
       "      <td>2k0ZEeAqzvYMcx9Qt5aClQ</td>\n",
       "      <td>0.000656</td>\n",
       "      <td>0.588</td>\n",
       "      <td>0.721</td>\n",
       "      <td>0.000000</td>\n",
       "      <td>0.1310</td>\n",
       "      <td>-5.579</td>\n",
       "      <td>0.0317</td>\n",
       "      <td>96.997</td>\n",
       "      <td>0.520</td>\n",
       "      <td>70</td>\n",
       "      <td>193289</td>\n",
       "    </tr>\n",
       "    <tr>\n",
       "      <th>...</th>\n",
       "      <td>...</td>\n",
       "      <td>...</td>\n",
       "      <td>...</td>\n",
       "      <td>...</td>\n",
       "      <td>...</td>\n",
       "      <td>...</td>\n",
       "      <td>...</td>\n",
       "      <td>...</td>\n",
       "      <td>...</td>\n",
       "      <td>...</td>\n",
       "      <td>...</td>\n",
       "      <td>...</td>\n",
       "      <td>...</td>\n",
       "      <td>...</td>\n",
       "      <td>...</td>\n",
       "      <td>...</td>\n",
       "    </tr>\n",
       "    <tr>\n",
       "      <th>525</th>\n",
       "      <td>Our Song</td>\n",
       "      <td>Taylor Swift</td>\n",
       "      <td>2006-10-24</td>\n",
       "      <td>11</td>\n",
       "      <td>15DeqWWQB4dcEWzJg15VrN</td>\n",
       "      <td>0.111000</td>\n",
       "      <td>0.668</td>\n",
       "      <td>0.672</td>\n",
       "      <td>0.000000</td>\n",
       "      <td>0.3290</td>\n",
       "      <td>-4.931</td>\n",
       "      <td>0.0303</td>\n",
       "      <td>89.011</td>\n",
       "      <td>0.539</td>\n",
       "      <td>76</td>\n",
       "      <td>201106</td>\n",
       "    </tr>\n",
       "    <tr>\n",
       "      <th>526</th>\n",
       "      <td>I'm Only Me When I'm With You</td>\n",
       "      <td>Taylor Swift</td>\n",
       "      <td>2006-10-24</td>\n",
       "      <td>12</td>\n",
       "      <td>0JIdBrXGSJXS72zjF9ss9u</td>\n",
       "      <td>0.004520</td>\n",
       "      <td>0.563</td>\n",
       "      <td>0.934</td>\n",
       "      <td>0.000807</td>\n",
       "      <td>0.1030</td>\n",
       "      <td>-3.629</td>\n",
       "      <td>0.0646</td>\n",
       "      <td>143.964</td>\n",
       "      <td>0.518</td>\n",
       "      <td>62</td>\n",
       "      <td>213053</td>\n",
       "    </tr>\n",
       "    <tr>\n",
       "      <th>527</th>\n",
       "      <td>Invisible</td>\n",
       "      <td>Taylor Swift</td>\n",
       "      <td>2006-10-24</td>\n",
       "      <td>13</td>\n",
       "      <td>5OOd01o2YS1QFwdpVLds3r</td>\n",
       "      <td>0.637000</td>\n",
       "      <td>0.612</td>\n",
       "      <td>0.394</td>\n",
       "      <td>0.000000</td>\n",
       "      <td>0.1470</td>\n",
       "      <td>-5.723</td>\n",
       "      <td>0.0243</td>\n",
       "      <td>96.001</td>\n",
       "      <td>0.233</td>\n",
       "      <td>58</td>\n",
       "      <td>203226</td>\n",
       "    </tr>\n",
       "    <tr>\n",
       "      <th>528</th>\n",
       "      <td>A Perfectly Good Heart</td>\n",
       "      <td>Taylor Swift</td>\n",
       "      <td>2006-10-24</td>\n",
       "      <td>14</td>\n",
       "      <td>1spLfUJxtyVyiKKTegQ2r4</td>\n",
       "      <td>0.003490</td>\n",
       "      <td>0.483</td>\n",
       "      <td>0.751</td>\n",
       "      <td>0.000000</td>\n",
       "      <td>0.1280</td>\n",
       "      <td>-5.726</td>\n",
       "      <td>0.0365</td>\n",
       "      <td>156.092</td>\n",
       "      <td>0.268</td>\n",
       "      <td>57</td>\n",
       "      <td>220146</td>\n",
       "    </tr>\n",
       "    <tr>\n",
       "      <th>529</th>\n",
       "      <td>Teardrops on My Guitar - Pop Version</td>\n",
       "      <td>Taylor Swift</td>\n",
       "      <td>2006-10-24</td>\n",
       "      <td>15</td>\n",
       "      <td>4pJi1rVt9GNegU9kywjg4z</td>\n",
       "      <td>0.040200</td>\n",
       "      <td>0.459</td>\n",
       "      <td>0.753</td>\n",
       "      <td>0.000000</td>\n",
       "      <td>0.0863</td>\n",
       "      <td>-3.827</td>\n",
       "      <td>0.0537</td>\n",
       "      <td>199.997</td>\n",
       "      <td>0.483</td>\n",
       "      <td>57</td>\n",
       "      <td>179066</td>\n",
       "    </tr>\n",
       "  </tbody>\n",
       "</table>\n",
       "<p>530 rows × 16 columns</p>\n",
       "</div>"
      ],
      "text/plain": [
       "                                              name  \\\n",
       "0           Welcome To New York (Taylor's Version)   \n",
       "1                   Blank Space (Taylor's Version)   \n",
       "2                         Style (Taylor's Version)   \n",
       "3              Out Of The Woods (Taylor's Version)   \n",
       "4    All You Had To Do Was Stay (Taylor's Version)   \n",
       "..                                             ...   \n",
       "525                                       Our Song   \n",
       "526                  I'm Only Me When I'm With You   \n",
       "527                                      Invisible   \n",
       "528                         A Perfectly Good Heart   \n",
       "529           Teardrops on My Guitar - Pop Version   \n",
       "\n",
       "                                album release_date  track_number  \\\n",
       "0    1989 (Taylor's Version) [Deluxe]   2023-10-27             1   \n",
       "1    1989 (Taylor's Version) [Deluxe]   2023-10-27             2   \n",
       "2    1989 (Taylor's Version) [Deluxe]   2023-10-27             3   \n",
       "3    1989 (Taylor's Version) [Deluxe]   2023-10-27             4   \n",
       "4    1989 (Taylor's Version) [Deluxe]   2023-10-27             5   \n",
       "..                                ...          ...           ...   \n",
       "525                      Taylor Swift   2006-10-24            11   \n",
       "526                      Taylor Swift   2006-10-24            12   \n",
       "527                      Taylor Swift   2006-10-24            13   \n",
       "528                      Taylor Swift   2006-10-24            14   \n",
       "529                      Taylor Swift   2006-10-24            15   \n",
       "\n",
       "                         id  acousticness  danceability  energy  \\\n",
       "0    4WUepByoeqcedHoYhSNHRt      0.009420         0.757   0.610   \n",
       "1    0108kcWLnn2HlH2kedi1gn      0.088500         0.733   0.733   \n",
       "2    3Vpk1hfMAQme8VJ0SNRSkd      0.000421         0.511   0.822   \n",
       "3    1OcSfkeCg9hRC2sFKB4IMJ      0.000537         0.545   0.885   \n",
       "4    2k0ZEeAqzvYMcx9Qt5aClQ      0.000656         0.588   0.721   \n",
       "..                      ...           ...           ...     ...   \n",
       "525  15DeqWWQB4dcEWzJg15VrN      0.111000         0.668   0.672   \n",
       "526  0JIdBrXGSJXS72zjF9ss9u      0.004520         0.563   0.934   \n",
       "527  5OOd01o2YS1QFwdpVLds3r      0.637000         0.612   0.394   \n",
       "528  1spLfUJxtyVyiKKTegQ2r4      0.003490         0.483   0.751   \n",
       "529  4pJi1rVt9GNegU9kywjg4z      0.040200         0.459   0.753   \n",
       "\n",
       "     instrumentalness  liveness  loudness  speechiness    tempo  valence  \\\n",
       "0            0.000037    0.3670    -4.840       0.0327  116.998    0.685   \n",
       "1            0.000000    0.1680    -5.376       0.0670   96.057    0.701   \n",
       "2            0.019700    0.0899    -4.785       0.0397   94.868    0.305   \n",
       "3            0.000056    0.3850    -5.968       0.0447   92.021    0.206   \n",
       "4            0.000000    0.1310    -5.579       0.0317   96.997    0.520   \n",
       "..                ...       ...       ...          ...      ...      ...   \n",
       "525          0.000000    0.3290    -4.931       0.0303   89.011    0.539   \n",
       "526          0.000807    0.1030    -3.629       0.0646  143.964    0.518   \n",
       "527          0.000000    0.1470    -5.723       0.0243   96.001    0.233   \n",
       "528          0.000000    0.1280    -5.726       0.0365  156.092    0.268   \n",
       "529          0.000000    0.0863    -3.827       0.0537  199.997    0.483   \n",
       "\n",
       "     popularity  duration_ms  \n",
       "0            70       212600  \n",
       "1            71       231833  \n",
       "2            72       231000  \n",
       "3            71       235800  \n",
       "4            70       193289  \n",
       "..          ...          ...  \n",
       "525          76       201106  \n",
       "526          62       213053  \n",
       "527          58       203226  \n",
       "528          57       220146  \n",
       "529          57       179066  \n",
       "\n",
       "[530 rows x 16 columns]"
      ]
     },
     "execution_count": 6,
     "metadata": {},
     "output_type": "execute_result"
    }
   ],
   "source": [
    "df = df.drop(['uri', 'Unnamed: 0'], axis=1)\n",
    "df"
   ]
  },
  {
   "cell_type": "code",
   "execution_count": 7,
   "id": "f1e46613",
   "metadata": {},
   "outputs": [
    {
     "data": {
      "text/html": [
       "<div>\n",
       "<style scoped>\n",
       "    .dataframe tbody tr th:only-of-type {\n",
       "        vertical-align: middle;\n",
       "    }\n",
       "\n",
       "    .dataframe tbody tr th {\n",
       "        vertical-align: top;\n",
       "    }\n",
       "\n",
       "    .dataframe thead th {\n",
       "        text-align: right;\n",
       "    }\n",
       "</style>\n",
       "<table border=\"1\" class=\"dataframe\">\n",
       "  <thead>\n",
       "    <tr style=\"text-align: right;\">\n",
       "      <th></th>\n",
       "      <th>name</th>\n",
       "      <th>album</th>\n",
       "      <th>release_date</th>\n",
       "      <th>track_number</th>\n",
       "      <th>id</th>\n",
       "      <th>acousticness</th>\n",
       "      <th>danceability</th>\n",
       "      <th>energy</th>\n",
       "      <th>instrumentalness</th>\n",
       "      <th>liveness</th>\n",
       "      <th>loudness</th>\n",
       "      <th>speechiness</th>\n",
       "      <th>tempo</th>\n",
       "      <th>valence</th>\n",
       "      <th>popularity</th>\n",
       "      <th>duration_ms</th>\n",
       "      <th>duration_s</th>\n",
       "    </tr>\n",
       "  </thead>\n",
       "  <tbody>\n",
       "    <tr>\n",
       "      <th>0</th>\n",
       "      <td>Welcome To New York (Taylor's Version)</td>\n",
       "      <td>1989 (Taylor's Version) [Deluxe]</td>\n",
       "      <td>2023-10-27</td>\n",
       "      <td>1</td>\n",
       "      <td>4WUepByoeqcedHoYhSNHRt</td>\n",
       "      <td>0.009420</td>\n",
       "      <td>0.757</td>\n",
       "      <td>0.610</td>\n",
       "      <td>0.000037</td>\n",
       "      <td>0.3670</td>\n",
       "      <td>-4.840</td>\n",
       "      <td>0.0327</td>\n",
       "      <td>116.998</td>\n",
       "      <td>0.685</td>\n",
       "      <td>70</td>\n",
       "      <td>212600</td>\n",
       "      <td>212</td>\n",
       "    </tr>\n",
       "    <tr>\n",
       "      <th>1</th>\n",
       "      <td>Blank Space (Taylor's Version)</td>\n",
       "      <td>1989 (Taylor's Version) [Deluxe]</td>\n",
       "      <td>2023-10-27</td>\n",
       "      <td>2</td>\n",
       "      <td>0108kcWLnn2HlH2kedi1gn</td>\n",
       "      <td>0.088500</td>\n",
       "      <td>0.733</td>\n",
       "      <td>0.733</td>\n",
       "      <td>0.000000</td>\n",
       "      <td>0.1680</td>\n",
       "      <td>-5.376</td>\n",
       "      <td>0.0670</td>\n",
       "      <td>96.057</td>\n",
       "      <td>0.701</td>\n",
       "      <td>71</td>\n",
       "      <td>231833</td>\n",
       "      <td>231</td>\n",
       "    </tr>\n",
       "    <tr>\n",
       "      <th>2</th>\n",
       "      <td>Style (Taylor's Version)</td>\n",
       "      <td>1989 (Taylor's Version) [Deluxe]</td>\n",
       "      <td>2023-10-27</td>\n",
       "      <td>3</td>\n",
       "      <td>3Vpk1hfMAQme8VJ0SNRSkd</td>\n",
       "      <td>0.000421</td>\n",
       "      <td>0.511</td>\n",
       "      <td>0.822</td>\n",
       "      <td>0.019700</td>\n",
       "      <td>0.0899</td>\n",
       "      <td>-4.785</td>\n",
       "      <td>0.0397</td>\n",
       "      <td>94.868</td>\n",
       "      <td>0.305</td>\n",
       "      <td>72</td>\n",
       "      <td>231000</td>\n",
       "      <td>231</td>\n",
       "    </tr>\n",
       "    <tr>\n",
       "      <th>3</th>\n",
       "      <td>Out Of The Woods (Taylor's Version)</td>\n",
       "      <td>1989 (Taylor's Version) [Deluxe]</td>\n",
       "      <td>2023-10-27</td>\n",
       "      <td>4</td>\n",
       "      <td>1OcSfkeCg9hRC2sFKB4IMJ</td>\n",
       "      <td>0.000537</td>\n",
       "      <td>0.545</td>\n",
       "      <td>0.885</td>\n",
       "      <td>0.000056</td>\n",
       "      <td>0.3850</td>\n",
       "      <td>-5.968</td>\n",
       "      <td>0.0447</td>\n",
       "      <td>92.021</td>\n",
       "      <td>0.206</td>\n",
       "      <td>71</td>\n",
       "      <td>235800</td>\n",
       "      <td>235</td>\n",
       "    </tr>\n",
       "    <tr>\n",
       "      <th>4</th>\n",
       "      <td>All You Had To Do Was Stay (Taylor's Version)</td>\n",
       "      <td>1989 (Taylor's Version) [Deluxe]</td>\n",
       "      <td>2023-10-27</td>\n",
       "      <td>5</td>\n",
       "      <td>2k0ZEeAqzvYMcx9Qt5aClQ</td>\n",
       "      <td>0.000656</td>\n",
       "      <td>0.588</td>\n",
       "      <td>0.721</td>\n",
       "      <td>0.000000</td>\n",
       "      <td>0.1310</td>\n",
       "      <td>-5.579</td>\n",
       "      <td>0.0317</td>\n",
       "      <td>96.997</td>\n",
       "      <td>0.520</td>\n",
       "      <td>70</td>\n",
       "      <td>193289</td>\n",
       "      <td>193</td>\n",
       "    </tr>\n",
       "  </tbody>\n",
       "</table>\n",
       "</div>"
      ],
      "text/plain": [
       "                                            name  \\\n",
       "0         Welcome To New York (Taylor's Version)   \n",
       "1                 Blank Space (Taylor's Version)   \n",
       "2                       Style (Taylor's Version)   \n",
       "3            Out Of The Woods (Taylor's Version)   \n",
       "4  All You Had To Do Was Stay (Taylor's Version)   \n",
       "\n",
       "                              album release_date  track_number  \\\n",
       "0  1989 (Taylor's Version) [Deluxe]   2023-10-27             1   \n",
       "1  1989 (Taylor's Version) [Deluxe]   2023-10-27             2   \n",
       "2  1989 (Taylor's Version) [Deluxe]   2023-10-27             3   \n",
       "3  1989 (Taylor's Version) [Deluxe]   2023-10-27             4   \n",
       "4  1989 (Taylor's Version) [Deluxe]   2023-10-27             5   \n",
       "\n",
       "                       id  acousticness  danceability  energy  \\\n",
       "0  4WUepByoeqcedHoYhSNHRt      0.009420         0.757   0.610   \n",
       "1  0108kcWLnn2HlH2kedi1gn      0.088500         0.733   0.733   \n",
       "2  3Vpk1hfMAQme8VJ0SNRSkd      0.000421         0.511   0.822   \n",
       "3  1OcSfkeCg9hRC2sFKB4IMJ      0.000537         0.545   0.885   \n",
       "4  2k0ZEeAqzvYMcx9Qt5aClQ      0.000656         0.588   0.721   \n",
       "\n",
       "   instrumentalness  liveness  loudness  speechiness    tempo  valence  \\\n",
       "0          0.000037    0.3670    -4.840       0.0327  116.998    0.685   \n",
       "1          0.000000    0.1680    -5.376       0.0670   96.057    0.701   \n",
       "2          0.019700    0.0899    -4.785       0.0397   94.868    0.305   \n",
       "3          0.000056    0.3850    -5.968       0.0447   92.021    0.206   \n",
       "4          0.000000    0.1310    -5.579       0.0317   96.997    0.520   \n",
       "\n",
       "   popularity  duration_ms  duration_s  \n",
       "0          70       212600         212  \n",
       "1          71       231833         231  \n",
       "2          72       231000         231  \n",
       "3          71       235800         235  \n",
       "4          70       193289         193  "
      ]
     },
     "execution_count": 7,
     "metadata": {},
     "output_type": "execute_result"
    }
   ],
   "source": [
    "df['duration_s'] = df['duration_ms']//1000\n",
    "df.head()"
   ]
  },
  {
   "cell_type": "markdown",
   "id": "395ea2c4",
   "metadata": {},
   "source": [
    "# Data exploration"
   ]
  },
  {
   "cell_type": "markdown",
   "id": "dc5be360",
   "metadata": {},
   "source": [
    "### number of musics per album"
   ]
  },
  {
   "cell_type": "code",
   "execution_count": 8,
   "id": "c7e28a6d",
   "metadata": {},
   "outputs": [
    {
     "data": {
      "text/plain": [
       "27"
      ]
     },
     "execution_count": 8,
     "metadata": {},
     "output_type": "execute_result"
    }
   ],
   "source": [
    "df['album'].nunique()"
   ]
  },
  {
   "cell_type": "code",
   "execution_count": 9,
   "id": "96f0f41a",
   "metadata": {},
   "outputs": [
    {
     "data": {
      "text/plain": [
       "album\n",
       "reputation Stadium Tour Surprise Song Playlist                                         46\n",
       "folklore: the long pond studio sessions (from the Disney+ special) [deluxe edition]    34\n",
       "Red (Taylor's Version)                                                                 30\n",
       "Fearless (Taylor's Version)                                                            26\n",
       "Midnights (The Til Dawn Edition)                                                       23\n",
       "1989 (Taylor's Version) [Deluxe]                                                       22\n",
       "Speak Now (Taylor's Version)                                                           22\n",
       "Red (Deluxe Edition)                                                                   22\n",
       "1989 (Taylor's Version)                                                                21\n",
       "Midnights (3am Edition)                                                                20\n",
       "Speak Now (Deluxe Edition)                                                             20\n",
       "Fearless Platinum Edition                                                              19\n",
       "1989 (Deluxe Edition)                                                                  19\n",
       "Lover                                                                                  18\n",
       "folklore (deluxe version)                                                              17\n",
       "evermore (deluxe version)                                                              17\n",
       "folklore                                                                               16\n",
       "Red                                                                                    16\n",
       "Speak Now World Tour Live                                                              16\n",
       "reputation                                                                             15\n",
       "evermore                                                                               15\n",
       "Taylor Swift                                                                           15\n",
       "Speak Now                                                                              14\n",
       "1989                                                                                   13\n",
       "Midnights                                                                              13\n",
       "Fearless                                                                               13\n",
       "Live From Clear Channel Stripped 2008                                                   8\n",
       "Name: count, dtype: int64"
      ]
     },
     "execution_count": 9,
     "metadata": {},
     "output_type": "execute_result"
    }
   ],
   "source": [
    "df['album'].value_counts()"
   ]
  },
  {
   "cell_type": "code",
   "execution_count": 10,
   "id": "b3869713",
   "metadata": {},
   "outputs": [],
   "source": [
    "import seaborn as sns\n",
    "import matplotlib.pyplot as plt"
   ]
  },
  {
   "cell_type": "code",
   "execution_count": 11,
   "id": "48a2dc43",
   "metadata": {},
   "outputs": [],
   "source": [
    "most_music_albums = df['album'].value_counts().head(10)"
   ]
  },
  {
   "cell_type": "code",
   "execution_count": 12,
   "id": "9d9e37a2",
   "metadata": {},
   "outputs": [
    {
     "data": {
      "text/plain": [
       "<Axes: title={'center': '10 Albums with most tracks'}, xlabel='album', ylabel='count'>"
      ]
     },
     "execution_count": 12,
     "metadata": {},
     "output_type": "execute_result"
    },
    {
     "data": {
      "image/png": "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",
      "text/plain": [
       "<Figure size 1200x600 with 1 Axes>"
      ]
     },
     "metadata": {},
     "output_type": "display_data"
    }
   ],
   "source": [
    "plt.figure(figsize=(12,6))\n",
    "plt.xticks(rotation=90)\n",
    "plt.title(\"10 Albums with most tracks\")\n",
    "sns.barplot(x=most_music_albums.index, y=most_music_albums)"
   ]
  },
  {
   "cell_type": "markdown",
   "id": "da96ca41",
   "metadata": {},
   "source": [
    "### album popularity"
   ]
  },
  {
   "cell_type": "code",
   "execution_count": 13,
   "id": "0beeb496",
   "metadata": {},
   "outputs": [
    {
     "data": {
      "text/html": [
       "<div>\n",
       "<style scoped>\n",
       "    .dataframe tbody tr th:only-of-type {\n",
       "        vertical-align: middle;\n",
       "    }\n",
       "\n",
       "    .dataframe tbody tr th {\n",
       "        vertical-align: top;\n",
       "    }\n",
       "\n",
       "    .dataframe thead th {\n",
       "        text-align: right;\n",
       "    }\n",
       "</style>\n",
       "<table border=\"1\" class=\"dataframe\">\n",
       "  <thead>\n",
       "    <tr style=\"text-align: right;\">\n",
       "      <th></th>\n",
       "      <th>popularity</th>\n",
       "      <th>release_date</th>\n",
       "    </tr>\n",
       "    <tr>\n",
       "      <th>album</th>\n",
       "      <th></th>\n",
       "      <th></th>\n",
       "    </tr>\n",
       "  </thead>\n",
       "  <tbody>\n",
       "    <tr>\n",
       "      <th>1989</th>\n",
       "      <td>61.307692</td>\n",
       "      <td>2014-10-27</td>\n",
       "    </tr>\n",
       "    <tr>\n",
       "      <th>1989 (Deluxe Edition)</th>\n",
       "      <td>53.736842</td>\n",
       "      <td>2014-10-27</td>\n",
       "    </tr>\n",
       "    <tr>\n",
       "      <th>1989 (Taylor's Version)</th>\n",
       "      <td>80.952381</td>\n",
       "      <td>2023-10-26</td>\n",
       "    </tr>\n",
       "    <tr>\n",
       "      <th>1989 (Taylor's Version) [Deluxe]</th>\n",
       "      <td>70.454545</td>\n",
       "      <td>2023-10-27</td>\n",
       "    </tr>\n",
       "    <tr>\n",
       "      <th>Fearless</th>\n",
       "      <td>53.230769</td>\n",
       "      <td>2008-11-11</td>\n",
       "    </tr>\n",
       "    <tr>\n",
       "      <th>Fearless (Taylor's Version)</th>\n",
       "      <td>71.576923</td>\n",
       "      <td>2021-04-09</td>\n",
       "    </tr>\n",
       "    <tr>\n",
       "      <th>Fearless Platinum Edition</th>\n",
       "      <td>45.210526</td>\n",
       "      <td>2008-11-11</td>\n",
       "    </tr>\n",
       "    <tr>\n",
       "      <th>Live From Clear Channel Stripped 2008</th>\n",
       "      <td>38.500000</td>\n",
       "      <td>2008-06-28</td>\n",
       "    </tr>\n",
       "    <tr>\n",
       "      <th>Lover</th>\n",
       "      <td>82.333333</td>\n",
       "      <td>2019-08-23</td>\n",
       "    </tr>\n",
       "    <tr>\n",
       "      <th>Midnights</th>\n",
       "      <td>81.384615</td>\n",
       "      <td>2022-10-21</td>\n",
       "    </tr>\n",
       "    <tr>\n",
       "      <th>Midnights (3am Edition)</th>\n",
       "      <td>70.500000</td>\n",
       "      <td>2022-10-22</td>\n",
       "    </tr>\n",
       "    <tr>\n",
       "      <th>Midnights (The Til Dawn Edition)</th>\n",
       "      <td>70.130435</td>\n",
       "      <td>2023-05-26</td>\n",
       "    </tr>\n",
       "    <tr>\n",
       "      <th>Red</th>\n",
       "      <td>47.312500</td>\n",
       "      <td>2012-10-22</td>\n",
       "    </tr>\n",
       "    <tr>\n",
       "      <th>Red (Deluxe Edition)</th>\n",
       "      <td>45.772727</td>\n",
       "      <td>2012-10-22</td>\n",
       "    </tr>\n",
       "    <tr>\n",
       "      <th>Red (Taylor's Version)</th>\n",
       "      <td>73.566667</td>\n",
       "      <td>2021-11-12</td>\n",
       "    </tr>\n",
       "    <tr>\n",
       "      <th>Speak Now</th>\n",
       "      <td>56.571429</td>\n",
       "      <td>2010-10-25</td>\n",
       "    </tr>\n",
       "    <tr>\n",
       "      <th>Speak Now (Deluxe Edition)</th>\n",
       "      <td>50.850000</td>\n",
       "      <td>2010-10-25</td>\n",
       "    </tr>\n",
       "    <tr>\n",
       "      <th>Speak Now (Taylor's Version)</th>\n",
       "      <td>76.409091</td>\n",
       "      <td>2023-07-07</td>\n",
       "    </tr>\n",
       "    <tr>\n",
       "      <th>Speak Now World Tour Live</th>\n",
       "      <td>48.875000</td>\n",
       "      <td>2010-10-25</td>\n",
       "    </tr>\n",
       "    <tr>\n",
       "      <th>Taylor Swift</th>\n",
       "      <td>62.933333</td>\n",
       "      <td>2006-10-24</td>\n",
       "    </tr>\n",
       "    <tr>\n",
       "      <th>evermore</th>\n",
       "      <td>73.533333</td>\n",
       "      <td>2020-12-11</td>\n",
       "    </tr>\n",
       "    <tr>\n",
       "      <th>evermore (deluxe version)</th>\n",
       "      <td>72.000000</td>\n",
       "      <td>2021-01-07</td>\n",
       "    </tr>\n",
       "    <tr>\n",
       "      <th>folklore</th>\n",
       "      <td>79.437500</td>\n",
       "      <td>2020-07-24</td>\n",
       "    </tr>\n",
       "    <tr>\n",
       "      <th>folklore (deluxe version)</th>\n",
       "      <td>72.470588</td>\n",
       "      <td>2020-08-18</td>\n",
       "    </tr>\n",
       "    <tr>\n",
       "      <th>folklore: the long pond studio sessions (from the Disney+ special) [deluxe edition]</th>\n",
       "      <td>56.235294</td>\n",
       "      <td>2020-11-25</td>\n",
       "    </tr>\n",
       "    <tr>\n",
       "      <th>reputation</th>\n",
       "      <td>82.533333</td>\n",
       "      <td>2017-11-10</td>\n",
       "    </tr>\n",
       "    <tr>\n",
       "      <th>reputation Stadium Tour Surprise Song Playlist</th>\n",
       "      <td>38.130435</td>\n",
       "      <td>2017-11-09</td>\n",
       "    </tr>\n",
       "  </tbody>\n",
       "</table>\n",
       "</div>"
      ],
      "text/plain": [
       "                                                    popularity release_date\n",
       "album                                                                      \n",
       "1989                                                 61.307692   2014-10-27\n",
       "1989 (Deluxe Edition)                                53.736842   2014-10-27\n",
       "1989 (Taylor's Version)                              80.952381   2023-10-26\n",
       "1989 (Taylor's Version) [Deluxe]                     70.454545   2023-10-27\n",
       "Fearless                                             53.230769   2008-11-11\n",
       "Fearless (Taylor's Version)                          71.576923   2021-04-09\n",
       "Fearless Platinum Edition                            45.210526   2008-11-11\n",
       "Live From Clear Channel Stripped 2008                38.500000   2008-06-28\n",
       "Lover                                                82.333333   2019-08-23\n",
       "Midnights                                            81.384615   2022-10-21\n",
       "Midnights (3am Edition)                              70.500000   2022-10-22\n",
       "Midnights (The Til Dawn Edition)                     70.130435   2023-05-26\n",
       "Red                                                  47.312500   2012-10-22\n",
       "Red (Deluxe Edition)                                 45.772727   2012-10-22\n",
       "Red (Taylor's Version)                               73.566667   2021-11-12\n",
       "Speak Now                                            56.571429   2010-10-25\n",
       "Speak Now (Deluxe Edition)                           50.850000   2010-10-25\n",
       "Speak Now (Taylor's Version)                         76.409091   2023-07-07\n",
       "Speak Now World Tour Live                            48.875000   2010-10-25\n",
       "Taylor Swift                                         62.933333   2006-10-24\n",
       "evermore                                             73.533333   2020-12-11\n",
       "evermore (deluxe version)                            72.000000   2021-01-07\n",
       "folklore                                             79.437500   2020-07-24\n",
       "folklore (deluxe version)                            72.470588   2020-08-18\n",
       "folklore: the long pond studio sessions (from t...   56.235294   2020-11-25\n",
       "reputation                                           82.533333   2017-11-10\n",
       "reputation Stadium Tour Surprise Song Playlist       38.130435   2017-11-09"
      ]
     },
     "execution_count": 13,
     "metadata": {},
     "output_type": "execute_result"
    }
   ],
   "source": [
    "popularity = pd.DataFrame({'popularity':df.groupby('album')['popularity'].mean(),\n",
    "                          'release_date':df.groupby('album')['release_date'].first().values})\n",
    "popularity"
   ]
  },
  {
   "cell_type": "code",
   "execution_count": 14,
   "id": "a831367b",
   "metadata": {
    "scrolled": true
   },
   "outputs": [
    {
     "data": {
      "text/html": [
       "<div>\n",
       "<style scoped>\n",
       "    .dataframe tbody tr th:only-of-type {\n",
       "        vertical-align: middle;\n",
       "    }\n",
       "\n",
       "    .dataframe tbody tr th {\n",
       "        vertical-align: top;\n",
       "    }\n",
       "\n",
       "    .dataframe thead th {\n",
       "        text-align: right;\n",
       "    }\n",
       "</style>\n",
       "<table border=\"1\" class=\"dataframe\">\n",
       "  <thead>\n",
       "    <tr style=\"text-align: right;\">\n",
       "      <th></th>\n",
       "      <th>popularity</th>\n",
       "      <th>release_date</th>\n",
       "    </tr>\n",
       "    <tr>\n",
       "      <th>album</th>\n",
       "      <th></th>\n",
       "      <th></th>\n",
       "    </tr>\n",
       "  </thead>\n",
       "  <tbody>\n",
       "    <tr>\n",
       "      <th>Taylor Swift</th>\n",
       "      <td>62.933333</td>\n",
       "      <td>2006-10-24</td>\n",
       "    </tr>\n",
       "    <tr>\n",
       "      <th>Live From Clear Channel Stripped 2008</th>\n",
       "      <td>38.500000</td>\n",
       "      <td>2008-06-28</td>\n",
       "    </tr>\n",
       "    <tr>\n",
       "      <th>Fearless</th>\n",
       "      <td>53.230769</td>\n",
       "      <td>2008-11-11</td>\n",
       "    </tr>\n",
       "    <tr>\n",
       "      <th>Fearless Platinum Edition</th>\n",
       "      <td>45.210526</td>\n",
       "      <td>2008-11-11</td>\n",
       "    </tr>\n",
       "    <tr>\n",
       "      <th>Speak Now World Tour Live</th>\n",
       "      <td>48.875000</td>\n",
       "      <td>2010-10-25</td>\n",
       "    </tr>\n",
       "    <tr>\n",
       "      <th>Speak Now (Deluxe Edition)</th>\n",
       "      <td>50.850000</td>\n",
       "      <td>2010-10-25</td>\n",
       "    </tr>\n",
       "    <tr>\n",
       "      <th>Speak Now</th>\n",
       "      <td>56.571429</td>\n",
       "      <td>2010-10-25</td>\n",
       "    </tr>\n",
       "    <tr>\n",
       "      <th>Red (Deluxe Edition)</th>\n",
       "      <td>45.772727</td>\n",
       "      <td>2012-10-22</td>\n",
       "    </tr>\n",
       "    <tr>\n",
       "      <th>Red</th>\n",
       "      <td>47.312500</td>\n",
       "      <td>2012-10-22</td>\n",
       "    </tr>\n",
       "    <tr>\n",
       "      <th>1989</th>\n",
       "      <td>61.307692</td>\n",
       "      <td>2014-10-27</td>\n",
       "    </tr>\n",
       "    <tr>\n",
       "      <th>1989 (Deluxe Edition)</th>\n",
       "      <td>53.736842</td>\n",
       "      <td>2014-10-27</td>\n",
       "    </tr>\n",
       "    <tr>\n",
       "      <th>reputation Stadium Tour Surprise Song Playlist</th>\n",
       "      <td>38.130435</td>\n",
       "      <td>2017-11-09</td>\n",
       "    </tr>\n",
       "    <tr>\n",
       "      <th>reputation</th>\n",
       "      <td>82.533333</td>\n",
       "      <td>2017-11-10</td>\n",
       "    </tr>\n",
       "    <tr>\n",
       "      <th>Lover</th>\n",
       "      <td>82.333333</td>\n",
       "      <td>2019-08-23</td>\n",
       "    </tr>\n",
       "    <tr>\n",
       "      <th>folklore</th>\n",
       "      <td>79.437500</td>\n",
       "      <td>2020-07-24</td>\n",
       "    </tr>\n",
       "    <tr>\n",
       "      <th>folklore (deluxe version)</th>\n",
       "      <td>72.470588</td>\n",
       "      <td>2020-08-18</td>\n",
       "    </tr>\n",
       "    <tr>\n",
       "      <th>folklore: the long pond studio sessions (from the Disney+ special) [deluxe edition]</th>\n",
       "      <td>56.235294</td>\n",
       "      <td>2020-11-25</td>\n",
       "    </tr>\n",
       "    <tr>\n",
       "      <th>evermore</th>\n",
       "      <td>73.533333</td>\n",
       "      <td>2020-12-11</td>\n",
       "    </tr>\n",
       "    <tr>\n",
       "      <th>evermore (deluxe version)</th>\n",
       "      <td>72.000000</td>\n",
       "      <td>2021-01-07</td>\n",
       "    </tr>\n",
       "    <tr>\n",
       "      <th>Fearless (Taylor's Version)</th>\n",
       "      <td>71.576923</td>\n",
       "      <td>2021-04-09</td>\n",
       "    </tr>\n",
       "    <tr>\n",
       "      <th>Red (Taylor's Version)</th>\n",
       "      <td>73.566667</td>\n",
       "      <td>2021-11-12</td>\n",
       "    </tr>\n",
       "    <tr>\n",
       "      <th>Midnights</th>\n",
       "      <td>81.384615</td>\n",
       "      <td>2022-10-21</td>\n",
       "    </tr>\n",
       "    <tr>\n",
       "      <th>Midnights (3am Edition)</th>\n",
       "      <td>70.500000</td>\n",
       "      <td>2022-10-22</td>\n",
       "    </tr>\n",
       "    <tr>\n",
       "      <th>Midnights (The Til Dawn Edition)</th>\n",
       "      <td>70.130435</td>\n",
       "      <td>2023-05-26</td>\n",
       "    </tr>\n",
       "    <tr>\n",
       "      <th>Speak Now (Taylor's Version)</th>\n",
       "      <td>76.409091</td>\n",
       "      <td>2023-07-07</td>\n",
       "    </tr>\n",
       "    <tr>\n",
       "      <th>1989 (Taylor's Version)</th>\n",
       "      <td>80.952381</td>\n",
       "      <td>2023-10-26</td>\n",
       "    </tr>\n",
       "    <tr>\n",
       "      <th>1989 (Taylor's Version) [Deluxe]</th>\n",
       "      <td>70.454545</td>\n",
       "      <td>2023-10-27</td>\n",
       "    </tr>\n",
       "  </tbody>\n",
       "</table>\n",
       "</div>"
      ],
      "text/plain": [
       "                                                    popularity release_date\n",
       "album                                                                      \n",
       "Taylor Swift                                         62.933333   2006-10-24\n",
       "Live From Clear Channel Stripped 2008                38.500000   2008-06-28\n",
       "Fearless                                             53.230769   2008-11-11\n",
       "Fearless Platinum Edition                            45.210526   2008-11-11\n",
       "Speak Now World Tour Live                            48.875000   2010-10-25\n",
       "Speak Now (Deluxe Edition)                           50.850000   2010-10-25\n",
       "Speak Now                                            56.571429   2010-10-25\n",
       "Red (Deluxe Edition)                                 45.772727   2012-10-22\n",
       "Red                                                  47.312500   2012-10-22\n",
       "1989                                                 61.307692   2014-10-27\n",
       "1989 (Deluxe Edition)                                53.736842   2014-10-27\n",
       "reputation Stadium Tour Surprise Song Playlist       38.130435   2017-11-09\n",
       "reputation                                           82.533333   2017-11-10\n",
       "Lover                                                82.333333   2019-08-23\n",
       "folklore                                             79.437500   2020-07-24\n",
       "folklore (deluxe version)                            72.470588   2020-08-18\n",
       "folklore: the long pond studio sessions (from t...   56.235294   2020-11-25\n",
       "evermore                                             73.533333   2020-12-11\n",
       "evermore (deluxe version)                            72.000000   2021-01-07\n",
       "Fearless (Taylor's Version)                          71.576923   2021-04-09\n",
       "Red (Taylor's Version)                               73.566667   2021-11-12\n",
       "Midnights                                            81.384615   2022-10-21\n",
       "Midnights (3am Edition)                              70.500000   2022-10-22\n",
       "Midnights (The Til Dawn Edition)                     70.130435   2023-05-26\n",
       "Speak Now (Taylor's Version)                         76.409091   2023-07-07\n",
       "1989 (Taylor's Version)                              80.952381   2023-10-26\n",
       "1989 (Taylor's Version) [Deluxe]                     70.454545   2023-10-27"
      ]
     },
     "execution_count": 14,
     "metadata": {},
     "output_type": "execute_result"
    }
   ],
   "source": [
    "popularity = popularity.sort_values('release_date', ascending=True)\n",
    "popularity"
   ]
  },
  {
   "cell_type": "code",
   "execution_count": 15,
   "id": "9cd25a7c",
   "metadata": {},
   "outputs": [
    {
     "data": {
      "text/plain": [
       "<Axes: title={'center': 'Average album popularity'}, xlabel='album', ylabel='popularity'>"
      ]
     },
     "execution_count": 15,
     "metadata": {},
     "output_type": "execute_result"
    },
    {
     "data": {
      "image/png": "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",
      "text/plain": [
       "<Figure size 1200x600 with 1 Axes>"
      ]
     },
     "metadata": {},
     "output_type": "display_data"
    }
   ],
   "source": [
    "plt.figure(figsize=(12,6))\n",
    "plt.xticks(rotation=90)\n",
    "plt.title(\"Average album popularity\")\n",
    "sns.lineplot(x=popularity.index, y=popularity['popularity'], marker='o', markersize=8)"
   ]
  },
  {
   "cell_type": "markdown",
   "id": "4dae3f18",
   "metadata": {},
   "source": [
    "### song duration"
   ]
  },
  {
   "cell_type": "code",
   "execution_count": 16,
   "id": "c2f3897e",
   "metadata": {},
   "outputs": [
    {
     "data": {
      "text/plain": [
       "(array([  3.,  33., 283., 161.,  34.,  11.,   4.,   0.,   0.,   1.]),\n",
       " array([ 1.38333333,  2.26666667,  3.15      ,  4.03333333,  4.91666667,\n",
       "         5.8       ,  6.68333333,  7.56666667,  8.45      ,  9.33333333,\n",
       "        10.21666667]),\n",
       " <BarContainer object of 10 artists>)"
      ]
     },
     "execution_count": 16,
     "metadata": {},
     "output_type": "execute_result"
    },
    {
     "data": {
      "image/png": "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",
      "text/plain": [
       "<Figure size 1200x600 with 1 Axes>"
      ]
     },
     "metadata": {},
     "output_type": "display_data"
    }
   ],
   "source": [
    "plt.figure(figsize=(12,6))\n",
    "plt.title(\"Song duration distribution\")\n",
    "plt.xlabel(\"duration in minutes\")\n",
    "plt.ylabel(\"number of songs\")\n",
    "plt.hist(df['duration_s']/60, color='blue')"
   ]
  },
  {
   "cell_type": "markdown",
   "id": "0bc31c42",
   "metadata": {},
   "source": [
    "## Activity 1"
   ]
  },
  {
   "cell_type": "markdown",
   "id": "0ba1a7c8",
   "metadata": {},
   "source": [
    "### Plot the average popularity over the years"
   ]
  },
  {
   "cell_type": "markdown",
   "id": "f905b158",
   "metadata": {},
   "source": [
    "1. Turn the \"release_date\" column type to datetime using pd.to_datetime(column)"
   ]
  },
  {
   "cell_type": "code",
<<<<<<< Updated upstream
   "execution_count": 37,
=======
   "execution_count": 28,
>>>>>>> Stashed changes
   "id": "3b82f86a",
   "metadata": {},
   "outputs": [
    {
     "ename": "SyntaxError",
     "evalue": "invalid syntax (3954224738.py, line 1)",
     "output_type": "error",
     "traceback": [
      "\u001b[0;36m  Cell \u001b[0;32mIn[28], line 1\u001b[0;36m\u001b[0m\n\u001b[0;31m    turn on release_date\u001b[0m\n\u001b[0m         ^\u001b[0m\n\u001b[0;31mSyntaxError\u001b[0m\u001b[0;31m:\u001b[0m invalid syntax\n"
     ]
    }
   ],
   "source": [
<<<<<<< Updated upstream
    "# write your code here\n",
    "df['release_date'] = pd.to_datetime(df['release_date'])"
=======
    "df"
>>>>>>> Stashed changes
   ]
  },
  {
   "cell_type": "markdown",
   "id": "3074e264",
   "metadata": {},
   "source": [
    "2. Create a new column \"release_year\" by using column.dt.year"
   ]
  },
  {
   "cell_type": "code",
<<<<<<< Updated upstream
   "execution_count": 32,
   "id": "36202b24",
   "metadata": {},
   "outputs": [
    {
     "data": {
      "text/html": [
       "<div>\n",
       "<style scoped>\n",
       "    .dataframe tbody tr th:only-of-type {\n",
       "        vertical-align: middle;\n",
       "    }\n",
       "\n",
       "    .dataframe tbody tr th {\n",
       "        vertical-align: top;\n",
       "    }\n",
       "\n",
       "    .dataframe thead th {\n",
       "        text-align: right;\n",
       "    }\n",
       "</style>\n",
       "<table border=\"1\" class=\"dataframe\">\n",
       "  <thead>\n",
       "    <tr style=\"text-align: right;\">\n",
       "      <th></th>\n",
       "      <th>calories</th>\n",
       "      <th>duration</th>\n",
       "    </tr>\n",
       "  </thead>\n",
       "  <tbody>\n",
       "    <tr>\n",
       "      <th>0</th>\n",
       "      <td>420</td>\n",
       "      <td>50</td>\n",
       "    </tr>\n",
       "    <tr>\n",
       "      <th>1</th>\n",
       "      <td>380</td>\n",
       "      <td>40</td>\n",
       "    </tr>\n",
       "    <tr>\n",
       "      <th>2</th>\n",
       "      <td>390</td>\n",
       "      <td>45</td>\n",
       "    </tr>\n",
       "  </tbody>\n",
       "</table>\n",
       "</div>"
      ],
      "text/plain": [
       "   calories  duration\n",
       "0       420        50\n",
       "1       380        40\n",
       "2       390        45"
      ]
     },
     "execution_count": 32,
     "metadata": {},
     "output_type": "execute_result"
    }
   ],
   "source": [
    "data = {\n",
    "  \"calories\": [420, 380, 390],\n",
    "  \"duration\": [50, 40, 45]\n",
    "}\n",
    "\n",
    "#load data into a DataFrame object:\n",
    "d = pd.DataFrame(data)\n",
    "d"
   ]
  },
  {
   "cell_type": "code",
   "execution_count": 33,
   "id": "00ff89f9",
   "metadata": {},
   "outputs": [
    {
     "data": {
      "text/html": [
       "<div>\n",
       "<style scoped>\n",
       "    .dataframe tbody tr th:only-of-type {\n",
       "        vertical-align: middle;\n",
       "    }\n",
       "\n",
       "    .dataframe tbody tr th {\n",
       "        vertical-align: top;\n",
       "    }\n",
       "\n",
       "    .dataframe thead th {\n",
       "        text-align: right;\n",
       "    }\n",
       "</style>\n",
       "<table border=\"1\" class=\"dataframe\">\n",
       "  <thead>\n",
       "    <tr style=\"text-align: right;\">\n",
       "      <th></th>\n",
       "      <th>calories</th>\n",
       "      <th>duration</th>\n",
       "      <th>index</th>\n",
       "    </tr>\n",
       "  </thead>\n",
       "  <tbody>\n",
       "    <tr>\n",
       "      <th>0</th>\n",
       "      <td>420</td>\n",
       "      <td>50</td>\n",
       "      <td>1</td>\n",
       "    </tr>\n",
       "    <tr>\n",
       "      <th>1</th>\n",
       "      <td>380</td>\n",
       "      <td>40</td>\n",
       "      <td>2</td>\n",
       "    </tr>\n",
       "    <tr>\n",
       "      <th>2</th>\n",
       "      <td>390</td>\n",
       "      <td>45</td>\n",
       "      <td>3</td>\n",
       "    </tr>\n",
       "  </tbody>\n",
       "</table>\n",
       "</div>"
      ],
      "text/plain": [
       "   calories  duration  index\n",
       "0       420        50      1\n",
       "1       380        40      2\n",
       "2       390        45      3"
      ]
     },
     "execution_count": 33,
     "metadata": {},
     "output_type": "execute_result"
    }
   ],
   "source": [
    "d['index'] = [1, 2, 3]\n",
    "d"
   ]
  },
  {
   "cell_type": "code",
   "execution_count": 38,
=======
   "execution_count": 18,
>>>>>>> Stashed changes
   "id": "0d675075",
   "metadata": {},
   "outputs": [],
   "source": [
    "# write your code here\n",
    "df['release_year'] = df['release_date'].dt.year"
   ]
  },
  {
   "cell_type": "code",
   "execution_count": 39,
   "id": "e7d401bc",
   "metadata": {},
   "outputs": [
    {
     "data": {
      "text/html": [
       "<div>\n",
       "<style scoped>\n",
       "    .dataframe tbody tr th:only-of-type {\n",
       "        vertical-align: middle;\n",
       "    }\n",
       "\n",
       "    .dataframe tbody tr th {\n",
       "        vertical-align: top;\n",
       "    }\n",
       "\n",
       "    .dataframe thead th {\n",
       "        text-align: right;\n",
       "    }\n",
       "</style>\n",
       "<table border=\"1\" class=\"dataframe\">\n",
       "  <thead>\n",
       "    <tr style=\"text-align: right;\">\n",
       "      <th></th>\n",
       "      <th>name</th>\n",
       "      <th>album</th>\n",
       "      <th>release_date</th>\n",
       "      <th>track_number</th>\n",
       "      <th>id</th>\n",
       "      <th>acousticness</th>\n",
       "      <th>danceability</th>\n",
       "      <th>energy</th>\n",
       "      <th>instrumentalness</th>\n",
       "      <th>liveness</th>\n",
       "      <th>loudness</th>\n",
       "      <th>speechiness</th>\n",
       "      <th>tempo</th>\n",
       "      <th>valence</th>\n",
       "      <th>popularity</th>\n",
       "      <th>duration_ms</th>\n",
       "      <th>duration_s</th>\n",
       "      <th>relsease_date</th>\n",
       "      <th>release_year</th>\n",
       "    </tr>\n",
       "  </thead>\n",
       "  <tbody>\n",
       "    <tr>\n",
       "      <th>0</th>\n",
       "      <td>Welcome To New York (Taylor's Version)</td>\n",
       "      <td>1989 (Taylor's Version) [Deluxe]</td>\n",
       "      <td>2023-10-27</td>\n",
       "      <td>1</td>\n",
       "      <td>4WUepByoeqcedHoYhSNHRt</td>\n",
       "      <td>0.009420</td>\n",
       "      <td>0.757</td>\n",
       "      <td>0.610</td>\n",
       "      <td>0.000037</td>\n",
       "      <td>0.3670</td>\n",
       "      <td>-4.840</td>\n",
       "      <td>0.0327</td>\n",
       "      <td>116.998</td>\n",
       "      <td>0.685</td>\n",
       "      <td>70</td>\n",
       "      <td>212600</td>\n",
       "      <td>212</td>\n",
       "      <td>2023-10-27</td>\n",
       "      <td>2023</td>\n",
       "    </tr>\n",
       "    <tr>\n",
       "      <th>1</th>\n",
       "      <td>Blank Space (Taylor's Version)</td>\n",
       "      <td>1989 (Taylor's Version) [Deluxe]</td>\n",
       "      <td>2023-10-27</td>\n",
       "      <td>2</td>\n",
       "      <td>0108kcWLnn2HlH2kedi1gn</td>\n",
       "      <td>0.088500</td>\n",
       "      <td>0.733</td>\n",
       "      <td>0.733</td>\n",
       "      <td>0.000000</td>\n",
       "      <td>0.1680</td>\n",
       "      <td>-5.376</td>\n",
       "      <td>0.0670</td>\n",
       "      <td>96.057</td>\n",
       "      <td>0.701</td>\n",
       "      <td>71</td>\n",
       "      <td>231833</td>\n",
       "      <td>231</td>\n",
       "      <td>2023-10-27</td>\n",
       "      <td>2023</td>\n",
       "    </tr>\n",
       "    <tr>\n",
       "      <th>2</th>\n",
       "      <td>Style (Taylor's Version)</td>\n",
       "      <td>1989 (Taylor's Version) [Deluxe]</td>\n",
       "      <td>2023-10-27</td>\n",
       "      <td>3</td>\n",
       "      <td>3Vpk1hfMAQme8VJ0SNRSkd</td>\n",
       "      <td>0.000421</td>\n",
       "      <td>0.511</td>\n",
       "      <td>0.822</td>\n",
       "      <td>0.019700</td>\n",
       "      <td>0.0899</td>\n",
       "      <td>-4.785</td>\n",
       "      <td>0.0397</td>\n",
       "      <td>94.868</td>\n",
       "      <td>0.305</td>\n",
       "      <td>72</td>\n",
       "      <td>231000</td>\n",
       "      <td>231</td>\n",
       "      <td>2023-10-27</td>\n",
       "      <td>2023</td>\n",
       "    </tr>\n",
       "    <tr>\n",
       "      <th>3</th>\n",
       "      <td>Out Of The Woods (Taylor's Version)</td>\n",
       "      <td>1989 (Taylor's Version) [Deluxe]</td>\n",
       "      <td>2023-10-27</td>\n",
       "      <td>4</td>\n",
       "      <td>1OcSfkeCg9hRC2sFKB4IMJ</td>\n",
       "      <td>0.000537</td>\n",
       "      <td>0.545</td>\n",
       "      <td>0.885</td>\n",
       "      <td>0.000056</td>\n",
       "      <td>0.3850</td>\n",
       "      <td>-5.968</td>\n",
       "      <td>0.0447</td>\n",
       "      <td>92.021</td>\n",
       "      <td>0.206</td>\n",
       "      <td>71</td>\n",
       "      <td>235800</td>\n",
       "      <td>235</td>\n",
       "      <td>2023-10-27</td>\n",
       "      <td>2023</td>\n",
       "    </tr>\n",
       "    <tr>\n",
       "      <th>4</th>\n",
       "      <td>All You Had To Do Was Stay (Taylor's Version)</td>\n",
       "      <td>1989 (Taylor's Version) [Deluxe]</td>\n",
       "      <td>2023-10-27</td>\n",
       "      <td>5</td>\n",
       "      <td>2k0ZEeAqzvYMcx9Qt5aClQ</td>\n",
       "      <td>0.000656</td>\n",
       "      <td>0.588</td>\n",
       "      <td>0.721</td>\n",
       "      <td>0.000000</td>\n",
       "      <td>0.1310</td>\n",
       "      <td>-5.579</td>\n",
       "      <td>0.0317</td>\n",
       "      <td>96.997</td>\n",
       "      <td>0.520</td>\n",
       "      <td>70</td>\n",
       "      <td>193289</td>\n",
       "      <td>193</td>\n",
       "      <td>2023-10-27</td>\n",
       "      <td>2023</td>\n",
       "    </tr>\n",
       "  </tbody>\n",
       "</table>\n",
       "</div>"
      ],
      "text/plain": [
       "                                            name  \\\n",
       "0         Welcome To New York (Taylor's Version)   \n",
       "1                 Blank Space (Taylor's Version)   \n",
       "2                       Style (Taylor's Version)   \n",
       "3            Out Of The Woods (Taylor's Version)   \n",
       "4  All You Had To Do Was Stay (Taylor's Version)   \n",
       "\n",
       "                              album release_date  track_number  \\\n",
       "0  1989 (Taylor's Version) [Deluxe]   2023-10-27             1   \n",
       "1  1989 (Taylor's Version) [Deluxe]   2023-10-27             2   \n",
       "2  1989 (Taylor's Version) [Deluxe]   2023-10-27             3   \n",
       "3  1989 (Taylor's Version) [Deluxe]   2023-10-27             4   \n",
       "4  1989 (Taylor's Version) [Deluxe]   2023-10-27             5   \n",
       "\n",
       "                       id  acousticness  danceability  energy  \\\n",
       "0  4WUepByoeqcedHoYhSNHRt      0.009420         0.757   0.610   \n",
       "1  0108kcWLnn2HlH2kedi1gn      0.088500         0.733   0.733   \n",
       "2  3Vpk1hfMAQme8VJ0SNRSkd      0.000421         0.511   0.822   \n",
       "3  1OcSfkeCg9hRC2sFKB4IMJ      0.000537         0.545   0.885   \n",
       "4  2k0ZEeAqzvYMcx9Qt5aClQ      0.000656         0.588   0.721   \n",
       "\n",
       "   instrumentalness  liveness  loudness  speechiness    tempo  valence  \\\n",
       "0          0.000037    0.3670    -4.840       0.0327  116.998    0.685   \n",
       "1          0.000000    0.1680    -5.376       0.0670   96.057    0.701   \n",
       "2          0.019700    0.0899    -4.785       0.0397   94.868    0.305   \n",
       "3          0.000056    0.3850    -5.968       0.0447   92.021    0.206   \n",
       "4          0.000000    0.1310    -5.579       0.0317   96.997    0.520   \n",
       "\n",
       "   popularity  duration_ms  duration_s relsease_date  release_year  \n",
       "0          70       212600         212    2023-10-27          2023  \n",
       "1          71       231833         231    2023-10-27          2023  \n",
       "2          72       231000         231    2023-10-27          2023  \n",
       "3          71       235800         235    2023-10-27          2023  \n",
       "4          70       193289         193    2023-10-27          2023  "
      ]
     },
     "execution_count": 39,
     "metadata": {},
     "output_type": "execute_result"
    }
   ],
   "source": [
    "df.head()"
   ]
  },
  {
   "cell_type": "markdown",
   "id": "6e290433",
   "metadata": {},
   "source": [
    "3. Create a new variable \"yearly_avg_populairty\" by using the df.groupby() function to find the mean of release year popularity"
   ]
  },
  {
   "cell_type": "code",
<<<<<<< Updated upstream
   "execution_count": 41,
=======
   "execution_count": 19,
>>>>>>> Stashed changes
   "id": "ef0f836e",
   "metadata": {},
   "outputs": [
    {
     "data": {
      "text/plain": [
       "release_year\n",
       "2006    62.933333\n",
       "2008    46.475000\n",
       "2010    51.820000\n",
       "2012    46.421053\n",
       "2014    56.812500\n",
       "2017    49.049180\n",
       "2019    82.333333\n",
       "2020    67.292683\n",
       "2021    72.493151\n",
       "2022    74.787879\n",
       "2023    74.363636\n",
       "Name: popularity, dtype: float64"
      ]
     },
     "execution_count": 41,
     "metadata": {},
     "output_type": "execute_result"
    }
   ],
   "source": [
    "# write your code here\n",
    "yearly_avg_popularity = df.groupby(\"release_year\")[\"popularity\"].mean()\n",
    "yearly_avg_popularity"
   ]
  },
  {
   "cell_type": "markdown",
   "id": "575bbfec",
   "metadata": {},
   "source": [
    "4. Use matplotlib.pyplot's plot() function to create a line graph for the average popularity over the year\n",
    "\n",
    "    (Optional: Set the plot marker to 'o')"
   ]
  },
  {
   "cell_type": "code",
<<<<<<< Updated upstream
   "execution_count": 42,
=======
   "execution_count": 20,
>>>>>>> Stashed changes
   "id": "fe0f086e",
   "metadata": {},
   "outputs": [
    {
     "data": {
      "text/plain": [
       "<AxesSubplot:xlabel='release_year'>"
      ]
     },
     "execution_count": 42,
     "metadata": {},
     "output_type": "execute_result"
    },
    {
     "data": {
      "image/png": "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\n",
      "text/plain": [
       "<Figure size 432x288 with 1 Axes>"
      ]
     },
     "metadata": {
      "needs_background": "light"
     },
     "output_type": "display_data"
    }
   ],
   "source": [
    "# write your code here\n",
    "yearly_avg_popularity.plot(marker='o')"
   ]
  },
  {
   "cell_type": "markdown",
   "id": "c3aaae46",
   "metadata": {},
   "source": [
    "5. Make sure to label your title, x-axis, and y-axis with plt.title(), plt.xlabel(), and plt.ylabel() "
   ]
  },
  {
   "cell_type": "code",
<<<<<<< Updated upstream
   "execution_count": 44,
=======
   "execution_count": 21,
>>>>>>> Stashed changes
   "id": "a7664aa8",
   "metadata": {},
   "outputs": [
    {
     "data": {
      "image/png": "iVBORw0KGgoAAAANSUhEUgAAAX4AAAEWCAYAAABhffzLAAAAOXRFWHRTb2Z0d2FyZQBNYXRwbG90bGliIHZlcnNpb24zLjUuMSwgaHR0cHM6Ly9tYXRwbG90bGliLm9yZy/YYfK9AAAACXBIWXMAAAsTAAALEwEAmpwYAABCQ0lEQVR4nO3dd3zU9f3A8dc7exAImxASmSLTIMMB1Vqr1gniwtZRR9Wq3bXV1l9ra622tLXDUbF11AFYRZyVWpzgIgwhgMiUcGGEkUEIZL1/f3y/h0dIwiW5743c+/l43OO+973veN/l8r7vfT6f7/srqooxxpj4kRDpAIwxxoSXJX5jjIkzlviNMSbOWOI3xpg4Y4nfGGPijCV+Y4yJM5b4TdwRkW+KyIJ2rP8zEflHKGOKFiKiIjI40nEYb1nijzEi8raI7BGR1EjHEq9U9beqeh2AiPR3k2VSpONqLfezdF2k4zDhZ4k/hohIf+BLgALne7D9mEte4Rar75GIJEY6Bi/E6t8j0izxx5YrgQ+Bx4GrAEQkVUTKRGSkfyER6Ski1SLSy318rogsc5d7X0RGByy7SUR+KiLLgSoRSRKR20RkvYhUisgqEbkgYPlEEfmjiOwUkY0ickvgEa+IdBGRf4rIVhHxichvmks6InKniDwnIrPdfS0RkWMDnh/mHpWWichKETk/4LnHReTvIvKGu+47InKU+9xhR+EtHd2KyF9EpFhEKkRksYh8qYkYnxKRCuCb7ryn3EXede/LRGSviJwiIrtFZFTANnq5f4+eTew7QUTuEJHPRWSHiPxLRLq4z70uIrc0Wv4TEZnqTh/jvv7dIrJGRC5p9P48JCKviUgVcGqj7dyNcxBxvxv3/QFPf1VE1rq/LB8QEQlY7xoRWe0+N8//njfxul4Vke80mrdcRKYEEfs5IrLU/XsUi8idAc/5/7bXishm4E0RSXP/Prvcz8oiEendVFzGpap2i5EbsA64CRgL1AK93fmPAncHLHcz8Lo7fRywAzgeSMT5wtgEpLrPbwKWAXlAujvvYqAvzoHBpUAVkOM+dyOwCugHdAX+h/MLJMl9fi7wMJAJ9AI+Bm5o5vXc6b6Oi4Bk4MfARnc62X29PwNSgK8AlcBQd93H3ccnA6nAX4AF7nP9A2Ny570NXOdOf9O/rPv4cqA7kAT8CNgGpDWKcYr7fqS7855qYV8PAr8LePw94OVm3oNr3Nc5EOgEzAGedJ+7ElgYsOxwoMx9vZlAMXC1G/dxwE5gRMD7Uw5MdONOa2LfB9+TgHkKvAJkA/lAKfA197kpbqzD3H3eAbzfzOu6BPgo4PGxwC73b3mk2L8MjHLjHg1sB6Y0er//5W4nHbgBeBnIwPmMjwU6R/r/NZpvEQ/AbkH+oWCSm4B6uI8/BX7gTn8V2BCw7ELgSnf6IeCuRttaA5ziTm8CrjnCvpcBk93pNwlI5O6+1f0H7g0cwP0CcZ+/DHirme3eCXwY8DgB2IpzJPolnAScEPD8TOBOd/pxYFbAc52AepwvMH9yCCrxNxHXHuDYgBjfbSLulhL/8W5iS3AfFwKXNLOv+cBNAY+Hun/nJCAL50v3KPe5u4FH3elLgfcabeth4JcB78+/jvB3PfieBMxTYFLA42eB29zp/wDXNvp77fPH12g7qcBuYIj7+A/Ag8HE3sS2/gzc1+j9Hhjw/DXA+8Bor/8PO8rNmnpix1XAf1V1p/v4GXceOMk4XUSOd396FwAvuM8dBfzI/QlcJiJlOMmxb8C2iwN3JCJXyhdNQ2XASKCH+3TfRssHTh+Fc6S+NWDdh3GO/JtzcH1VbQC2uPvoCxS78/w+B3KbWXcvTqIJfF1BEZEfuc0X5W7MXfji9R6yn2Co6kc4CfsUETkGGAy81MzifXFel9/nuF+iqloJvApMc5+bBjztTh8FHN/o7/oNoE9b4w6wLWB6H86Xqn+ffwnY325AOPRvAoCqHsD50rhcRBJwDgCeDCZ293P8loiUikg5zq/MHo12EfjangTmAbNEpEREfi8iyW187XHBOkZigIik4/x0ThQR/z9lKpAtIseq6ici8izOP9d24BU3aYDzD3K3qt7dwi4Olmh1vzgeAU4DPlDVehFZhvMPDs4Reb+AdfMCpotxjvh7qGpdkC/v4PpugugHlPifE5GEgOSfD3zWzLqdgG7uuvvd2RlAhTsdmBAJWO9LwE9xXu9KVW0QkT188Xoh4P1pQnPPPYHThLQNeE5V9zezXAlOIvTLB+pw/o7g/Mr5pYi8i9Os8ZY7vxh4R1VPb0NswT7fmP+z9PQRl3Q8gZOUFwD7VPWDgO20FPszwP3AWaq6X0T+zOGJ/2DsqloL/Ar4lTgDIF7D+VX7zyDjjDt2xB8bpuA0YwzHOZovwGlnfQ+nHRicf5ZLcY6cnglY9xHgRvcoSkQk0+08y2pmX5k4/1SlACJyNc4Rv9+zwPdEJFdEsnGSJgCquhX4L/BHEensdlwOEpFTWnhtY0Vkqjgdsd/H+eL4EPAfNf9ERJJF5MvAecCsgHXPFpFJIpIC3IXTplysqqWAD+doM1FErgEGNbP/LJxEWwokicgvgM4txNtYKdCA00Yf6EngApzk/68W1p8J/EBEBrhfXr8FZgd8cb6G88Xwa3e+/0vwFeBoEbnCfX+SRWS8iAxrRezbm4i7JX8HbheREXCwI//i5hZ2E30D8Ee+ONoPJvYsYLeb9CcAX28pKBE5VURGiTOIoAKnqay+Fa8r7ljijw1XAY+p6mZV3ea/4RwVfUNEkgKaF/ritMUCoKqFwLfcZffgdM59s7kdqeoqnH/UD3ASwyicPgO/R3CS+3JgKU5iquOLf7QrcTrwVrn7ew7IaeG1vYjzhbUHuAKYqqq1qlqDM2T1LJyOvwdx+i0+DVj3GeCXOE0OY3G+9Py+BdyK06E4AqcNuCnzcN6vz3CaWfbTiiYSVd2H0/a+0G22OMGdvwVYgvMl+l4Lm3gUJym+i9OxvR84OBrGbTKZg9OX8kzA/ErgDJzmnxKcXxa/w/klGKy/ABe5I3T+eqSFVfUFdx+zxBnhVITz92nJv3A+Q/5RUMHEfhPwaxGpBH6Bc7DRkj44n7MKYDXwTuD+zOHE7Rwxpk1E5Czg76ra5LC+I6x7JzBYVS9vw7qPA1tU9Y7WrhsuIvIoUBLNMXpNRK4ErlfVSZGOxXzB2vhNq7j9DafiHPX3xjnifqHFleKQ29Y8FRgT4VAiRkQycI7eH4x0LOZQ1tRjWktwOtL24DT1rMb5OW5cInIXTjPIdFXdGOl4IkFEzsTp/9jOoX1OJgpYU48xxsQZO+I3xpg4ExNt/D169ND+/ftHOgxjjIkpixcv3qmqh9WIionE379/fwoLCyMdhjHGxBQR+byp+dbUY4wxccYSvzHGxBlL/MYYE2cs8RtjTJyxxG+MMXEmJkb1GGM6nrlLfUyft4aSsmr6Zqdz65lDmTLmsNL+xgOW+I0xYTd3qY/b56ygutYp6uorq+b2OSsALPmHgTX1GGPCbvq8NQeTvl91bT3T562JUETxxRK/MSbsSsqqWzXfhJYlfmNM2PXNTm/VfBNalviNMWF365lDSUk8NP2kJydy65lDIxRRfLHEb4wJuyljcjltWK+Dj7PTk7ln6ijr2A0TS/zGmIiob1D6d8+gS3oyZ43qY0k/jGw4pzEmIlaWVHDcUV0pr65l6eaySIcTV+yI3xgTdruravCVVTOyb2fG5GXz2fZKqg7URTqsuGGJ3xgTditLygEYmduFgvxsGhSWbymPcFTxwxK/MSbsinwVAIzo25mCftkALC3eE8GI4ou18Rtjwq6opJx+XdPJzkgBYECPTJZZO3/YeHrELyI/EJGVIlIkIjNFJE1EuonIGyKy1r3v6mUMxpjos9JXzsi+XQ4+LsjLZmlxGaoawajih2eJX0Ryge8C41R1JJAITANuA+ar6hBgvvvYGBMnKvbXsmnXPkb1OzTxl1YeoKR8fwQjix9et/EnAekikgRkACXAZOAJ9/kngCkex2CMiSKrSr5o3/cbk58NYM09YeJZ4ldVH/AHYDOwFShX1f8CvVV1q7vMVqBXU+uLyPUiUigihaWlpV6FaYwJsyKfM3pnREBTzzF9OpOSlMDSzdbBGw5eNvV0xTm6HwD0BTJF5PJg11fVGao6TlXH9ezZ06swjTFhtrKkgj6d0+iZlXpwXkpSAiP7dmZZcVnkAosjXjb1fBXYqKqlqloLzAFOAraLSA6Ae7/DwxiMMVGmyFfOyNzOh80fk9+VFb5yausbIhBVfPEy8W8GThCRDBER4DRgNfAScJW7zFXAix7GYIyJIvtq6lhfuveQZh6/grxsDtQ18OnWyghEFl88G8evqh+JyHPAEqAOWArMADoBz4rItThfDhd7FYMxJrqs3lpJgzpn7DZWkJcNwLLiPYeM+DGh5+kJXKr6S+CXjWYfwDn6N8bEmS9KNRze1NOvazo9OqWytLiMK04Md2TxxUo2GGPCpshXTvfMFPp0TjvsORGhIC/bhnSGgSV+Y0zYFPkqGJHbBafb73Bj8rPZsLOK8n21YY4svljiN8aExYG6ej7bXsnIvoc38/iN8bfzbykLT1BxyhK/MSYsPtu2l7oGbbJj129Uvy6IYCdyecwSvzEmLIr8HbtNDOX0y0pL5uheWXYil8cs8RtjwqLIV05WWhJ53dJbXK4gL5tlVqnTU5b4jTFhUVRSwci+zXfs+hXkZ1O2z6ngabxhid8Y47na+gZWb61ocvx+YwcrddoVuTxjid8Y47n1pXupqWtosWPXb0ivLDJTEllq4/k9Y4nfGOO5L66xe+TEn5ggjOrXxTp4PWSJ3xjjuSJfORkpiQzokRnU8mPyu7KqpIL9tfUeRxafLPEbYzxX5CtneE5nEhNa7tj1K8jLpq5BD9b2MaFlid8Y46n6BmXV1oqg2vf9/GfwWju/NyzxG2M8tXFnFftq6g+5xu6R9OqcRm52Okutnd8TlviNMZ76ohRz62rsW6VO71jiN8Z4qshXTkpSAoN7dWrVemPys/GVVbOjcr9HkcUvS/zGGE8V+SoY1ieL5MTWpZuDV+Syo/6Qs8RvjPGMqlJUUs6IVjbzgNM0lJQgNp7fA55delFEhgKzA2YNBH4BZAPfAkrd+T9T1de8isMYEznFu6up3F/XYkXO5qQlJzIsp7Mlfg94dsSvqmtUtUBVC4CxwD7gBffp+/zPWdI3puMqauEau8EoyMvmk+Iy6husUmcohaup5zRgvap+Hqb9GWOiQJGvnKQEYWifrDatX5CXTVVNPet27A1xZN6Zu9THxHvfZMBtrzLx3jeZu9QX6ZAOE67EPw2YGfD4FhFZLiKPikjXMMVgjAmzopIKju6dRWpSYpvWj7VKnXOX+rh9zgp8ZdUo4Cur5vY5K6Iu+Xue+EUkBTgf+Lc76yFgEFAAbAX+2Mx614tIoYgUlpaWNrWIMSaKqSorfeVtbuYBGNAjky7pyTFzBu/0eWuoblRfqLq2nl+8WMSLy3ws2byHnXsPBHWRGS9/OXjWuRvgLGCJqm4H8N8DiMgjwCtNraSqM4AZAOPGjbMGPmNizLaK/eyqqmn1iVuBRIRj3StyRbvy6lp8ZdVNPlexv47vzVp28HF6ciJ53dLJ75ZBv64Z5HfLIK9bBnnd0snrmsEbq7Zz+5wVB79E/L8cAKaMyW13rOFI/JcR0MwjIjmqutV9eAFQFIYYjDFh1ppSzC0Zk5fNX99cy94DdXRKDUfKar0PN+ziR89+0uzzOV3SeOKaCRTv3sfm3fso3l3N5t372LJnHx+s30VVzaG/EhIEGvdnV9fWM33emuhP/CKSAZwO3BAw+/ciUgAosKnRc8aYDqLIV06CwLCctnXs+hXkZ6MKy7eUcdKgHiGKLjRq6hq473+f8fd31nNUtwy+/9UhPPzOhkOae9KTE/np147h6N5ZHN378PdCVdldVUPxnmr3S2Ef0+etaXJ/Jc38omgtTxO/qu4Dujead4WX+zTGRIeVJeUM6tmJjJT2pZmCftkALCuOrsS/bsdevj97KUW+CqaNz+P/zh1OZmoS/btnMn3eGkrKqumbnc6tZw5t8ShdROjeKZXunVIPnq38zEebm2w26pvd8oXqgxWdv5uMMTGvyFfBiYO6H3nBI+iamcKAHplR08Grqjz10WbufnUV6cmJPHzFWM4c0efg81PG5La7OebWM4ce0sYPzi+HW88c2q7t+lniN8aEXGnlAbZV7G9VKeaWFORls2DdTlQVkeAu5uKF0soD/PT55bz56Q5OPronf7hoNL06p4V8P/4vjtb8cmgNS/zGmJBraynm5ozJz+aFpT5KyveTG6Lmjtaav3o7P3luOZUH6rjzvOFceWJ/EoK8olhbhOKXQ3Ms8RtjQm5liTOiZ3gIj/gBlm7eE/bEX11Tz29eXcXTH23mmD5ZzLz+hCY7aWOJJX5jTMgV+crp3z2DzmnJIdneMX06k5KUwLLNZZw7um9IthmMFVvK+d7spWworeL6kwfyozOObvNZyNHEEr8xJuSKSsoZ7Y7GCYWUpARG5Xbx9FKMc5f6Drap52SnMSYvm3krt9OjUyrPXHc8Jw2OnhFF7WX1+I0xIVW+r5bi3dVtKsXckoK8bIp85dTWN4R0u3B4jZ2Ssv28umIbI3M78/r3v9Shkj4EkfhF5FwRsS8IY0xQVrazFHNzCvKyOVDXwKdbK0O6XWi6xg44o3iyM1JCvr9ICyahTwPWisjvRWSY1wEZY2KbvwZ/e0s1NOav1LnUg0qdzZ0RW1LWMa/3e8TEr6qXA2OA9cBjIvKBWzkztru1jTGeKPJVkJudTrfM0B4p52an06NTqifX4M3JbnosfqjOlI02QTXhqGoF8DwwC8jBKa62RES+42FsxpgYVFRSHrITtwKJCGPyvanUOcYdLhoolGfKRptg2vjPF5EXgDeBZGCCqp4FHAv82OP4jDExZO+BOjburArZiVuNFeRls2FnFWX7akK2zc93VfG/1TsYnduZ3Ox0BOfXxT1TR3l2AlWkBTOc8yKca+S+GzhTVfeJyDXehGWMiUWrt1agGvqOXT//kfmy4jK+PLRXu7enqtwxt4jkxARmXDmePl1CX34hGgXT1LO1cdIXkd8BqOp8T6IyxsSkFVvcET0h7tj1G52XjQgha+556ZMS3lu7k1vPHBo3SR+CS/ynNzHvrFAHYoyJfUUl5fTMSvWkcBlAp9Qkju6VFZJKneX7arnrlVUc268Ll59wVPuDiyHNNvWIyLeBm4BBIrI84KksYKHXgRljYs9KXwUjPejYDVSQl83rK7e1u1Lnva9/yp59tTxxzQQSPSy2Fo1aOuJ/BjgPeNG999/GukM8jTHmoOqaetbuqPSsY9dvTH425dW1bNxZ1eZtFG7azcyPN3PNxP4hP98gFrSU+FVVNwE3A5UBN0Skm/ehGWNiyafbKmjQ0J+41ViBeyJXW9v5a+oa+NkLK8jNTuf7Xz06dIHFkCMd8QMsBgrd+8UBj40x5qAitxSzVyN6/Ib0yiIzJbHNif+R9zbw2fa9/HryCDKj9OLtXmv2VavqueI0oJ2iqptbu2ERGQrMDpg1EPgF8C93fn+ci61foqqhPwfbGBNWK33lZGcke14vPzFBGN0vu00dvJ/vquKv89dy1sg+nDasd+iDixEtjupRVQVeaMuGVXWNqhaoagEwFtjnbus2YL6qDgHmu4+NMTGuqKScUbldwnJpxIL8bFZvrWB/E4XVmhM4Zv/O80d4GF30C2Y454ciMr6d+zkNWK+qnwOTgSfc+U8AU9q5bWNMhNXUNbBmW2XYOkrH5GVT16AHK4EGwz9m/ydfG0pvj4abxopgEv+pwAcisl5ElovIikbDO4MxDZjpTvdW1a0A7n2Tp9+5heAKRaSwtLS0lbszxoTTZ9srqa1Xz9v3/fwdvME295Ttq3HG7Odl843j42vMflOC6dlo18laIpICnA/c3pr1VHUGMANg3Lhx2p4YjDHeOliDP0xH/L2y0sjNTg/6ily/Ozhmf2TcjdlvSjBlmT93m2iqAQ24BessYImqbncfbxeRHAD3fkfrQjbGRJsiXwVZqUnkd8sI2z4L8rODKtG8aNNuZn5czLWTBsTlmP2mBFudcy2wEXgHZyTOf1qxj8v4opkH4CXgKnf6KpwTxIwxMayopJzhfTuTEMaj6TF52fjKqtlR2fzFUmrqGvjZHP+Y/SFhiy3aBdPGfxdwAvCZqg7A6agNqmSDiGTg1PqZEzD7XuB098vkdPexMSZG1dU3sHprhedn7DZW4K/U2cJR/yPvbWDtDmfMfkZKfI7Zb0owib9WVXcBCSKSoKpvAQXBbFxV96lqd1UtD5i3S1VPU9Uh7v3utoVujIkGG3ZWsb+2IWwdu34jc7uQlCDNtvNv2umM2T97VHyP2W9KMF+BZSLSCXgXeFpEdgB13oZljIkVRb7wduz6pSUnMiync5NH/P4x+ymJCfzyvPges9+UYI74J+N07P4AeB3n2rvneRmUMSZ2FPkqSEtOYGDPTmHfd0FeNsu3lFHfcOh4kxeXlbBgnY3Zb04wo3qqVLVeVetU9QlV/avb9GOMMU7Hbk7niAyTHJOfTZVbFdTPP2a/IC+br9uY/SY1m/hFpFJEKpq4VYpIRTiDNMZEp4YGZVVJ+Dt2/Zrq4L33P59SVl3Lby8YZWP2m9Fs4lfVLFXt3MQtS1XD24tjjIlKn+/ex94DdWFv3/cb0COTLunJB8/g/XjjbmYtKua6SQMY7vEFYWLZETt3RSS/qfltqdhpjOlY/B27I8I8osdPRCjIy2ZZcdkhdfa/Z2P2WxTMqJ5XA6bTgAHAGsC6yo2Jc0Ul5aQkJjCkV1bEYkhLSmDN9kqOvsM5r/T6Lw2wMftHcMR3R1VHBT4WkeOAGzyLyBgTM1b6KhjaJ4uUpGAGCIbe3KU+3lpzaBHHJz/czPC+XZgyJjciMcWCVv+1VHUJ0N4yzcaYGKeqFJWUh/3ErUDT562hpr7hkHnVtfVMn7cmQhHFhmDa+H8Y8DABOA6wOsnGxDlfWTVl+2ojWvispKy6VfONI5gj/qyAWypOm/9kL4MyxkS/Ip//GruRS/x9m7nMY3PzjSOYNv5fAYhIZ+ehVh5hFWNMHFhZUk5ignBMn8h17N565lBun7OC6oBLMKYnJ3LrmUMjFlMsCKapZxzwGM4RPyJSDlyjqos9js0YE8WKfOUM6dWJtOTEiMXg78CdPm8NJWXV9M1O59Yzh1rH7hEEM+bpUeAmVX0PQEQm4XwRjPYyMGNM9FJVVvgqOOXonpEOhSljci3Rt1IwbfyV/qQPoKoLAGvuMSaO7ag8wM69ByI6ose0XTBH/B+LyMM4V9FS4FLgbXc8v394pzEmjhwsxRzBjl3TdsEk/gL3/peN5p+E80XwlVAGZIyJfkW+CkRgWI4d8ceiYEb1nBqOQIwxsaOopJwBPTLplGqlEWJRMBdb7yIifxKRQvf2RxEJ6vediGSLyHMi8qmIrBaRE0XkThHxicgy93Z2+1+GMSacVvrKI1aR07RfMJ27j+J05l7i3ipwRvUE4y/A66p6DHAssNqdf5+qFri311oZszEmgnbtPUBJ+X5GWft+zArmd9ogVb0w4PGvRGTZkVZyT/g6GfgmgKrWADUidmEEY2LZyhLnjN1IlWI27RfMEX+1O3YfABGZiHMN3iMZiFPT5zERWSoi/xCRTPe5W0RkuYg8KiJdWx+2MSZSikrcGvzW1BOzgkn83wYeEJFNIvI5cD/BlWVOwino9pCqjgGqgNuAh4BBOKOFtgJ/bGplEbne369QWmo14YyJFit9FeR3y6BLenKkQzFtFMzF1pep6rE4Z+qOUtUxqro8iG1vAbao6kfu4+eA41R1u3vx9gbgEWBCM/udoarjVHVcz56RPzvQGOOIdClm037BjOrpLiJ/Bd4G3hKRv4hI9yOtp6rbgGIR8VdLOg1YJSI5AYtdABS1PmxjTCSUV9fy+a591swT44Lp3J0FvAv4O3i/AcwGvhrEut8BnhaRFGADcDXwVxEpwDn5axN2NS9jYsaqksiXYjbtF0zi76aqdwU8/o2ITAlm46q6DBjXaPYVwYVmjIk2Kw927FpTTywLpnP3LRGZJiIJ7u0SDr0AuzEmThT5ysnpkkaPTqmRDsW0QzCJ/wbgGeCAe5sF/FBEKkWkwsvgjDHRpaikwtr3O4BgavVE7vI6xpiosa+mjvWlezl3dM6RFzZRrcNWWJq71GdX5TEmhFZvrUAVq9HTAXTIxD93qe+Q63D6yqq5fc4KAEv+xrRRNFxc3YRGMG38MWf6vDWHXHwZoLq2nunz1kQoImNiX5GvnB6dUujd2Tp2Y11QiV9EJonI1e50TxEZ4G1Y7VNS1nQpoebmG2OOzN+xa4UWY18wZ+7+EvgpcLs7Kxl4ysug2qtvdnqr5htjWra/tp612yutVEMHEcwR/wXA+ThF1lDVEiCqR/rceuZQ0pMTD5mXlpzArWcObWYNY0xLPtteSV2DWsduBxFM526NqqqIKEBAaeWo5e/AnT5vDT63eefisf2sY9eYNrKO3Y4lmMT/rIg8DGSLyLeAa3Cqaka1KWNymTIml4YG5ZQ/vMW6HVWRDsmYmFVUUk7ntCT6dbXm0o4gmLLMf8Apqfw8MBT4har+zevAQiUhQZg2Pp8PNuxi005L/sa0xUpfOSNzrWO3owhqVI+qvqGqt6rqj1X1Da+DCrWLx/YjMUGYtag40qEYE3Nq6xtYva3Smnk6kGBG9VSKSEWjW7GIvCAiA8MRZHv16pzGV47pxXOLi6mpa4h0OMbElHU79lJT12AVOTuQYI74/wTcCuQC/YAf47TxzwIe9S600LpsQh4799Ywf/X2SIdiTEwp8jmlmO2Iv+MIJvF/TVUfVtVKVa1Q1RnA2ao6G4iZC6WfcnQvcrqkMdOae4xplSJfOZkpiQzoHvUD+kyQgkn8DSJySaN6/H7qVWChlpggXDwuj/fWllK8e1+kwzEmZhSVVDC8b2cSEqxjt6MIJvF/A+eqWTuA7e705SKSDtziYWwhd+n4PAD+XWhH/cYEo75BWWU1+DucYIZzblDV81S1h6r2dKfXqWq1qi4IR5ChkpudzilH9+TZwi3U1VsnrzFHsnHnXqpr6619v4MJZlRPmojcLCIPisij/lswGxeRbBF5TkQ+FZHVInKiiHQTkTdEZK17H9Z+gmnj89lWsZ+315SGc7fGxKQvzti1ET0dSTBNPU8CfYAzgXdwRvZUBrn9vwCvq+oxwLHAauA2YL6qDgHmu4/D5rRhvejRKZVZizaHc7fGxKQiXzmpSQkM7tkp0qGYEAom8Q9W1f8DqlT1CeAcYNSRVhKRzsDJwD8BVLVGVcuAycAT7mJPAFNaH3bbJScmcPG4frz56Q62le8P566NiTlFJeUMy+lMUmKHvHRH3Armr1nr3peJyEigC9A/iPUGAqXAYyKyVET+4RZ4662qWwHc+15NrSwi14tIoYgUlpaGtllm2vg8GtQ6eY1pSUODstJXYc08HVAwiX+G2w5/B/ASsAr4XRDrJQHHAQ+p6hicss5BN+uo6gxVHaeq43r27BnsakE5qnsmEwd3Z3ZhMQ0NMTMi1ZiwKt6zj8oDdVaKuQNqMfGLSAJQoap7VPVdVR2oqr1U9eEgtr0F2KKqH7mPn8P5ItguIjnu9nNwhomG3bTx+WzZU82CdTsjsXtjop6VYu64Wkz8qtpAG8fqq+o2oFhE/Fc/OQ3n18JLwFXuvKuAF9uy/fY6Y0RvumYkM/Nj6+Q1pilFJeUkJwpDelvHbkcTTD3+N0Tkx8Bs3KtwAajq7iDW/Q7wtIikABuAq3G+bJ4VkWuBzcDFrY46BFKTErnwuH48/v4mSisP0DPLLiBtTKAiXzlH984iNSnxyAubmBJM4r/Gvb85YJ7idN62SFWXAeOaeOq0IPbruWkT8vjHgo08v2QLN54yKNLhGBM1VJWVJRWcPqx3pEMxHgjmzN0BTdxiohzzkQzulcWE/t2YvagYVevkNcZva/l+dlfV2IieDiqYM3czROQOEZnhPh4iIud6H1p4TJuQx8adVXy4IZiWK2Pig78U8wjr2O2QghnO+RhQA5zkPt4C/MaziMLs7FE5dE5Lsk5eYwIUlVSQIDCsjx3xd0TBJP5Bqvp73BO5VLUa6DD1WdOSE7lgTC6vF21jT1VNpMMxJiqs9JUzuFcn0lOsY7cjCibx17glmBVARAYBBzyNKsymTcinpr6BOUt9kQ7FmKhQVFJuJ251YMEk/juB14E8EXkap7DaT7wMKtyG5XSmIC+bWR9vtk5eE/d2VO5ne8UBa9/vwIIZ1fNfYCrwTWAmME5V3/Y2rPC7bEIea3fsZcnmPZEOxZiIWlninrFrF1fvsIIZ1fMScAbwtqq+oqodssbBuaP7kpmSyMyPrXCbiW8r3RE9wy3xd1jBNPX8EfgSsEpE/i0iF4lImsdxhV1mahLnF+TyyvISyqtrj7yCMR1Uka+CAT0yyUpLjnQoxiPBNPW8o6o34ZypOwO4hAgVVvPaZRPy2F/bwEvLrJM3ns1d6mPivW8y4LZXmXjvm8yNs07/opJyRtjRfocW1NUV3FE9FwI3AuP54kIqHcqo3C4Mz+nMzI/tTN54NXepj9vnrMBXVo0CvrJqbp+zIm6Sf9m+GrbsqbaKnB1cMG38s3EumfgV4AGccf3f8TqwSBARLjs+n1VbK1jhtnOa+DJ93hqqa+sPmVddW8/0eWsiFFF4fdGxa4m/Iwv2zN1Bqnqjqr4JnCgiD3gcV8RMLuhLerJ18sarkrLqVs3vaA6WarCmng4tmDb+14FRIvI7EdmEU67hU68Di5TOacmcMzqHl5b5qDpQF+lwTJj1zU5vcn5yYgKllR3qvMUmFZVUkJudTtfMlEiHYjzUbOIXkaNF5Bcishq4H6dGj6jqqar6t7BFGAGXTcijqqaelz8piXQoJsymHpd72LzkRKFBGzjvbwtYVlwW/qDCaKWv3CpyxoGWjvg/xambf56qTnKTfX0Ly3cYx+V3ZUivTsxcZM098aSmroH/FG0jOz2ZnC5pCJCbnc70i47lxVsmkZQoXPL3D5i9qGMW9KvcX8uGnVXWvh8HWroQy4XANOAtEXkdmEUHKs7WEhHhsgn5/PqVVazeWsGwHDsCigcPv7OedTv28tg3x3PqMb0Oe/7lWybx3VlL+enzK1i+pZxfnjeClKSgBsbFhFX+jl0b0dPhNfupVdUXVPVS4BjgbeAHQG8ReUhEzghTfBEz9bhcUpISmGXlmuPCxp1V/O2tdZwzKqfJpA/QNTOFx6+ewI2nDOLpjzZz2SMfsqNif5gj9U6Rm/hHWFNPhxdM526Vqj6tqucC/YBlwG1eBxZp2RkpnDWyDy8s9VFdExctXHFLVblj7gpSExP4xXnDW1w2MUG47axjeODrx7F6awXn/m0Biz/vGBfxWekrp1dWKr2yOtyJ+aaRVv1OVdXdqvqwqn4lmOVFZJOIrBCRZSJS6M67U0R87rxlInJ2WwIPh2nj86nYX8drK7ZGOhTjobnLfCxct4ufnHUMvTsHl/TOGZ3DCzdNJD0lkWkzPuSpDz+P+ZP+ikrKGWXNPHEhHA2Up6pqgaoGXnT9Pndegaq+FoYY2uSEgd0Y0COTWR20M8/Anqoa7nplNQV52XxjQn6r1h3aJ4uXbp7EpME9uGNuET99fjn7a2Pz12F1TT3rduy1UsxxouP0THlARJg2Po9Fm/awbkdlpMMxHrjnP6upqK7lnqmjSEho/diFLhnJ/POq8Xz3K4N5tnALlz78QUye7LV6WwUNaqWY44XXiV+B/4rIYhG5PmD+LSKyXEQeFZGuTa0oIteLSKGIFJaWlnocZvMuHNuP5ERhlp3J2+F8uGEXzxZu4bovDWzXyK2EBOGHZwzl4SvGsr60ivPvX8BHG3aFMFLv+Usx24ie+OB14p+oqscBZwE3i8jJwEPAIKAA2IpT9vkwqjpDVcep6riePXt6HGbzenRK5fThvXl+yRYO1MXmz3hzuAN19fz8hRX065rO904bEpJtnjmiD3NvPonO6cl84x8f8djCjTHT7l/kq6BbZgo5XaxjNx54mvhVtcS93wG8AExQ1e2qWq+qDcAjwAQvYwiFaePz2bOvlnkrt0c6FBMif397A+tLq7hrysiQXlB8cK8sXrx5Iqce04tfvbyKHz37SUy0+/tLMYvExak6cc+zxC8imSKS5Z/GuYpXkYjkBCx2AVDkVQyhMmlwD/p1Tbcx/R3EhtK9PPDWOs4dncOpQ5ses98eWWnJPHz5WH54+tG8sMzHhQ+9T/HufSHfT6gcqKvns+2V1swTR7w84u8NLBCRT4CPgVfdgm+/d4d4LgdOxTkxLKolJAiXjsvj/fW7+HxXVaTDMe2gqvz8hSJSk488Zr89EhKE7542hH9eNY7Nu/dx/v0LWLguOq9aunb7Xmrr1Uo1xBHPEr+qblDVY93bCFW9251/haqOUtXRqnq+qsbEIPmLx+WRmCDMsvo9MW3OEh8fbNjFbWcdE5YTlb5yTG9eumUSPTqlcsU/P+KRdzdEXbt/0cGOXRvREy9sOGeQ+nRJ49Shvfh34RZq6xsiHY5pg91VNfzm1VUcl5/NZeNbN2a/PQb0yGTuzRP52sg+3P3aar47axn7aqKn5HdRSTlZaUnkd8uIdCgmTCzxt8JlE/LYufcA81d3yEsOd3i/fW01lfvruGfq6DaN2W+PzNQkHvj6cfz0a8fwyvISpj74ftQ0Gxb5KqxjN85Y4m+FU47uSZ/Oacy0Tt6Y88H6XTy3eAvXnzyQoX2yIhKDiPDtLw/i8asnsLV8P+f9bQFvr4nsQURdfQOrt1ZY+36cscTfCkmJCVwyrh/vri1ly57oHaVhDrW/1hmzn98tg+98JTRj9tvjlKN78vItk+ibnc7Vjy/igbfWRazdf31pFQfqGmxET5yxxN9Kl4zPA+DZwi0RjsQE66G317NhZxW/CfGY/fbI757BnJtO4rzRfZk+bw3ffmoJeyNwqU/r2I1PlvhbqV/XDE4e0pN/FxZT3xBdozPM4dbt2MtDb69nckFfTj46cmeANyUjJYm/TCvgjnOG8d9V27jggYVsKN0b1hiKSspJT05kQI9OYd2viSxL/G1w2YQ8tpbv553PrJM3mjlj9leQlpzAHed4N2a/PUSE6740kKeuPZ5dVTVMvn8h81eH7wzxlb4KhvftTGKYO7tNZFnib4PThvWmR6dUnvnIxvRHs38v3sJHG3dz+9nD6JmVGulwWnTS4B68dMtEjuqRwbVPFPLn/31Gg8e/KBsalJUl5VaRMw5Z4m+D5MQELhrbj7fW7GB7jF56b+5SHxPvfZMBt73KxHvfZO5SX6RDCqldew/w29dWM+6orlw6Li/S4QSlX9cMnrvxJKYel8uf/7eW658spGJ/rWf727SriqqaeqvBH4cs8bfRtPF51Dco/y6MvaP+uUt93D5nBb6yahTwlVVz+5wVHSr53/3aaqoO1LW5zn6kpCUn8seLj+VX54/g7TWlTLl/IWu3e3MtCP81dm0oZ/yxxN9G/XtkctKg7swuLPb8J3moTZ+3hupGFSOra+uZPm9NhCIKrffX7WTOEh83nDyIIb0jM2a/PUSEq07qz9PXHU/F/lqmPLCQ14tCX9lkpa+clMQEhvS2jt14Y4m/HaZNyKd4dzUL10dn8a3mNHeFqFi8clRj+2vr+fncIo7qnsEtXxkc6XDa5fiB3Xn5O5MY3DuLG59awvR5n4Z0JFlRSTnH5GSRnGhpIN7YX7wdzhzRm64ZyTF1da6NO6uaHcGRkx37F+F48K11bNxZxd1TRpGWHB1j9tsjp0s6z95wAtPG5/HAW+u55vFFlO9rf7u/qrqlGqyZJx5Z4m+H1KREph7Xj/+u2sbOvQciHc4Rvbe2lMn3LyAlUUhJOvxP3y0jhaoInEQUKut2VPLQO+u5YEwuk4b0iHQ4IZOalMi9F47mtxeM4v31Oznv/gWs3lrRrm1u2VNNeXWtnbgVpyzxt9NlE/KorVeeXxy9Z/KqKo8t3Mg3H1tE3+x05v3gFH5/4Whys9MRIDc7jalj+rJqawUXPvR+TJajaGhQfjaniIyUJH5+zrBIh+OJrx+fz6zrT2R/bT1TH3yflz8pafO2Vpa4Z+zaEX9cSop0ALFucK8sxvfvyuxFxVx/8sCoq3B4oK6eX8xdyezCYs4Y3pv7Li0gMzWJvG4ZTBmTe8iyU8b04+ZnljD5/oU8fMVYxvXvFqGoW+/fi4v5eNNufnfhKHp0iu4x++0x9qiuvPKdSXz76SV8Z+ZSinzl3HrmUJJa2U5f5KsgMUEiVrDORJYd8YfAtPH5bNhZxUcbd0c6lEOUVh7gG498xOzCYr77lcH8/fKxZKY2/11/8tE9eeGmiWSlJXHZIx/GzFDVnXsP8NvXPmXCgG5cEiNj9tujV+c0Zn7rBK444SgefncDVz32Mburalq1jRW+cob06tQh+kFM61niD4GzR+WQlZYUVdfkXVlSzuT7F1BUUs79Xx/DD88YGtR49sG9OjH35olMGNCNW59bzm9fWx31NYnufnU1+2rq+O0FI6PuF5dXUpISuGvKSH5/4WgWbdzDeX9bcLDg2pE4HbvlVpEzjnma+EVkk3t93WUiUujO6yYib4jIWve+q5cxhEN6SiIXjMnltaJtlO1r3ZGXF15dvpWLHvoABZ678STOHd23VetnZ6Tw+NUTuPLEo5jx7ga+9a9CKj08g7Q9FqzdyQtLfXz7lEEM7hV/zRaXjM/j2RtPpEGVCx96nzlLjtzXtL3iALuqaqxUQxwLxxH/qapaoKrj3Me3AfNVdQgw330c86aNz6emroE5SyJ39mtDg/KnNz7j5meWMCwni5dumdTmo7rkxAR+PXkkd00ZyTuflXLhQ++zeVd0dfo6Y/ZXMKBHJjedGttj9tujIC+bl78ziYK8bH747Cf86uWVLV4e1P/LYFQ/O+KPV5Fo6pkMPOFOPwFMiUAMITe8b2eO7deFWYs2R+SiGlUH6rjp6SX8df5aLhrbj5nXnxCSwmRXnHAUT14zge0VB5j8wAI+3LArBNGGxv1vruPzXfu4e8rIuG+r7tEplaeuO56rJ/bnsYWbuPwfHzU7xLiopBwRGJZjR/zxyuvEr8B/RWSxiFzvzuutqlsB3PteTa0oIteLSKGIFJaWlnocZmhcNiGfz7bvZcnmsrDut3j3Pi586H3+u2ob/3fucKZfNJrUpNAlwpMG9+DFmyfSLTOFy//xUVRcevKz7ZU8/O56ph6Xy0mDO86Y/fZITkzgl+eN4L5Lj2VZcRnn/W0BnxSXHbZcka+CQT07kZFig/rildeJf6KqHgecBdwsIicHu6KqzlDVcao6rmfP6LqARnPOO7YvmSmJYe3k/XjjbiY/sBBfWTWPXT2BaycN8KSDs3+PTObcNJGTBvfg9jkr+NXLK6lroTnBSw0NTp39zNQkfn52xxyz3x4XjOnH898+iQQRLn74A55ddOjoLCvFbDxN/Kpa4t7vAF4AJgDbRSQHwL3vMFczyUxN4vyCvryyfKun5XT9Zn68ma8/8iHZGcm8ePNETvH4ClNd0pN59KpxXDNxAI8t3MQ1TxRSXh3+Tt/ZhcUs2rSHn509jO4deMx+e4zM7cLL35nE+P5d+cnzy7lj7gqeKyzmhHvms7V8P2+t2dGhqrGa1vEs8YtIpohk+aeBM4Ai4CXgKnexq4AXvYohEqaNz6e6tp4Xl7X9rMojqa1v4JcvFnH7nBVMHNyDF26ayMCe4amwmJSYwC/OG869U0fxwfqdXPDgQjburArLvsE5N+Ge11Zz/IBuXDy2X9j2G4u6ZabwxNUTuOHkgTz14WZufX4528qd60eUV9d1uFLcJnheHvH3BhaIyCfAx8Crqvo6cC9wuoisBU53H3cYo/t1YVhOZ8+ae/ZU1XDVox/zxAef860vDeDRb46nS3qyJ/tqybQJ+Tx17fHsqaphygMLWbguPBVKf/PqKvbXNnD3BaPiZsx+eyQlJnD72cPompFM4zEHHakUt2kdzxK/qm5Q1WPd2whVvdudv0tVT1PVIe59dJ3u2k4iwtcn5LGypIIVW4I7oSZYn22vZMqDCynctIc/XHwsPz9neESvlXr8wO68dMskendO5cpHP+bJDzZ5ur93PyvlxWUlfPvLgxjcy2rIt0ZZMxU9O0IpbtN6duauByaPySUtOYGZi0J31D9/9XamPvg+VQfqmXn9CVwUJc0ced0yeP7bJ/Hlo3vyfy+u5I65K1ocQ95W1TX13DG3iIE9Mrnp1EEh335H1zc7vVXzTcdmid8DndOSOWdUX15aVtLuMseqykNvr+e6fxUyoEcmL39nImOPiq6TnbPSkplx5ThuOMVpS/7mYx+H/Azmv725ls2793H3BaNCOlQ1Xtx65lDSG53rkJ6cyK1nDo1QRCaSLPF75LIJeew9UMcry9veybu/tp7vz17G717/lHNH9+XZG04kp0t0HqElJgi3nzWMP1x8LIs27mHKAwtZt2NvSLa9ZlslM97dwEVj+3HioO4h2Wa8mTIml3umjgooxZ3OPVNHHVah1cQHicRZpq01btw4LSwsjHQYraKqnH7fu3RKTWLuzRNbvf628v1c/2Qhy7c4ZXdv+vKgmOnMXPz5bm54cjEH6hq4/+vHtWuYaUODcvHDH7ChdC/zf/RlumWmhDBSYzo2EVkcUC7nIDvi94iIcNmEfJYVl/HpttZdLWnp5j2cf/8C1u/Yy4wrxnLzqYNjJukDjD2qG3Nvnki/rhlc/djHPLpgY5vLWMxctJnFn+/hjnOGW9I3JkQs8Xto6phcUhITWnVN3heWbuHSGR+SmpzA8zedxBkj+ngYoXf6dc3guRtP5PThvfn1K6u4fc4Kaupa1+m7o3I/9/7nU04c2J2px1mThDGhYonfQ10zU/jayD7MWbKF/bX1LS5b36Dc89pqfjD7E47Lz+bFmydxTJ/YPq0+MzWJh74xlltOHcysRcVc/s+PWnXBkLteWc2B2gbujqM6+8aEgyV+j02bkEfF/jr+U7S12WUq9tdy3ROLePjdDVx+Qj5PXnt8h2nWSEgQfnzmUP4yrYBlxWVMfmABn22vPOJ6b6/ZwcuflHDzqYPDdlayMfHCEr/HThzYnf7dM5j5UdPNPRt3VnHBAwt5b+1O7poykt9MGUVyK6+fGgsmF+Ty7A0nsr+2gakPvs/81dubXba6pp7/e7GIQT0zufHLA8MYpTHxoeNlmCgjIlw6Pp+PN+0+bHjje2tLmXz/AnZX1fDktcdzxQlHRSjK8CjIy+alWyYyoEcm1/2rkBnvrm+y0/cv89dSvLua39qYfWM8YYk/DC4a24+kBGG2eyavqvLYwo1887FF5HRJ58WbJ8XN+PScLuk8e8OJnD0yh9++9im3PrecA3Vf9H98uq2Cf7y3gUvG9eP4gfHxnhgTbnYlhjDomZXK8L5Z/HPBRv7x3kbSUxLZV1PP6cN7c9+lBXRKja8/Q3pKIvd/fQxHz8/ivv99xsadVUwZ05eH3l5PSdl+EsT5dWCM8UZ8ZZwImbvUx6db99Lgtmrsq6knKUE4e0SfuEv6fiLC9746hMG9OvG9WUtY8vke/I0+DeqM6MlISbIzS43xgDX1hMH0eWuoaVS4rK5B+cMbn0Uoouhxzugcumam0ril30oGG+MdS/xh0FzpWyuJ69hZ2fRFwe39McYblvjDwEritszeH2PCyxJ/GFhJ3JbZ+2NMeMVnz2KY+Tsop89bQ0lZNX2z07n1zKHWcemy98eY8LKyzMYY00FFrCyziCSKyFIRecV9fKeI+ERkmXs72+sYjDHGfCEcTT3fA1YDgaUm71PVP4Rh38YYYxrx9IhfRPoB5wD/8HI/xhhjgud1U8+fgZ8Aja/AcYuILBeRR0WkySuHi8j1IlIoIoWlpaUeh2mMMfHDs8QvIucCO1R1caOnHgIGAQXAVuCPTa2vqjNUdZyqjuvZs+3XbDXGGHMoz0b1iMg9wBVAHZCG08Y/R1UvD1imP/CKqo48wrZKgc89CTS0egA7Ix1EK1nM3ou1eMFiDhevYz5KVQ87cg7LcE4R+TLwY1U9V0RyVHWrO/8HwPGqOs3zIMJARAqbGjoVzSxm78VavGAxh0ukYo7ECVy/F5ECQIFNwA0RiMEYY+JWWBK/qr4NvO1OXxGOfRpjjGma1eoJrRmRDqANLGbvxVq8YDGHS0RijomSDcYYY0LHjviNMSbOWOI3xpg4Y4nfJSJ5IvKWiKwWkZUi8j13fjcReUNE1rr3XQPWuV1E1onIGhE5052XFVCAbpmI7BSRPzexv/4iUh2w3N+9jllEurvL7xWR+xtta6yIrHBfz19FRJrZ52GvORIxi0iGiLwqIp+627m3mf21630O8Xv8tvu++WPp1cw+o+U9jubP8ukistj9zC4Wka8EbCtaP8tNxhyuz/IhVNVuTj9HDnCcO50FfAYMB34P3ObOvw34nTs9HPgESAUGAOuBxCa2uxg4uYn5/YGiMMecCUwCbgTub7Stj4ETAQH+A5zVxP6Ces3hiBnIAE51p1OA95qJuV3vc4jf47eBcUfYX9S8x1H+WR4D9HWnRwK+GPgsNxlzuD7LgTc74nep6lZVXeJOV+JUFM0FJgNPuIs9AUxxpycDs1T1gKpuBNYBEwK3KSJDgF44f8iIx6yqVaq6ANjfKM4coLOqfqDOJ+xffPE6Ax3xNYcrZlXdp6pvudM1wBKgX2tiCWe8rRA173GgKPwsL1XVEnf+SiBNRFKj/LPcZMzh+iwHssTfBHFKSYwBPgJ6q3umsXvv/3meCxQHrLbFnRfoMmC2+wFsygBxrlXwjoh8KQwxNycXJ36/pl6Lf7kjveagtTPmwO1kA+cB85tZJCTvc4jifcz9mf5/zTRBROV7THR/li8ElqrqAWLnsxwYc+B2sgnDZ9kuvdiIiHQCnge+r6oVzTQPgvMzsrHG/xTTcOoVNWUrkK+qu0RkLDBXREaoaoWHMTe7iSbmNfUPHuxyR95h+2P2bycJmAn8VVU3NLFISN7nEMX7DVX1iUiWu60rcI5ID9lVE+tF9D12ReVnWURGAL8DzvDPamKxqPosNxGzf35YPstgR/yHEJFknD/g06o6x5293f356G8S2eHO3wLkBazeDygJ2NaxQJIeXp0UAPcn5i53ejFOG+PRHsfcnC0c+tPykNfSaLlmX3OYY/abAaxV1T839WQo3udQxauqPve+EniGppsWou49jtbPsjjX+3gBuFJV17uzo/qz3EzMfp5/lv0s8bvcn93/BFar6p8CnnoJuMqdvgp4MWD+NLddcQAwBKdTye8ynG/v5vbXU0QS3emB7vpNfcuHMuYmuT9HK0XkBHebVzazzpFec9hidrf1G6AL8P0WlmnX+xyqeEUkSUR6uNPJwLlAUROLRtV77Iq6z7LbJPIqcLuqLvQvHM2f5eZidp/z/LN8CA1BD3FHuOGMalBgObDMvZ0NdMdpb1vr3ncLWOfnON+6a2jUC+/+QY5pNO984Nfu9IU4HTyf4HTmnBemmDcBu4G9OEc9w93543AS0Xrgfr44q/tgzEd6zeGMGecITXE61PzbuS7U73MI483EGRWz3I3nL7ijSKL1PY7mzzJwB1AVsOwyoFc0f5abi5kwfZYDb1aywRhj4ow19RhjTJyxxG+MMXHGEr8xxsQZS/zGGBNnLPEbY0ycscRvYp6I1LtlEIpE5GV3vHRLy98pIj8OU3jGRB1L/KYjqFbVAlUdiTMW/eZIBxQu/hN6jGkNS/ymo/kAt9iWiAwSkdfFqX3+nogc03jh5pYRkfNE5CO3INb/RKS3O/8U+aIe+lK37g4icquILBKR5SLyqyb2c62I3Bfw+Fsi8id3+nIR+djd5sMBZ2c+JCKF4tRo/1XAuptE5BcisgC4OJRvnokTbT3zy252i5YbsNe9TwT+DXzNfTwfGOJOHw+86U7fCfz4CMt05YszPq8D/uhOvwxMdKc74RQ6PAOnzorgHEy9QqO69Thn7q4Hkt3H7wOjgGHuNv3zH8Sp4wJfnPGZiFPLf7T7eBPwk0i/73aL3ZtV5zQdQbqILMO5UMVi4A23YuJJwL8DqiWmBq50hGX6AbPdIlspwEZ3/kLgTyLyNDBHVbeIyBk4yX+pu0wnnDoq7/o3qqpVIvImcK6IrMZJ9CtE5BZgLLDIjSGdL4p6XSIi1+N8ueTglH5Y7j43u7VvkjF+lvhNR1CtqgUi0gXnaPtm4HGgTFULWlgvoYVl/gb8SVVfEpEv4/xKQFXvFZFXcWqyfCgiX8U50r9HVR8+Qpz/AH4GfAo85s4T4AlVvT1wQbdw2I+B8aq6R0QeB9ICFqk6wr6MaZa18ZsOQ1XLge/iJMxqYKOIXAxOJUW3vHDg8hUtLNMF8LnT/kqLiMggVV2hqr8DCoFjgHnANe4vCEQkV5q4nq6qfoRTCvjrfFHtcj5wkX95ca7XehTQGSe5l7v9C2e1460x5hCW+E2HoqpLcaoXTgO+AVwrIp/gVDWc3MQqzS1zJ04T0HvAzoDlv+8OG/0E58vlP6r6X5z6+h+IyArgOZxrsDblWWChqu5x412FU7XxvyKyHHgDyFHVT3CajlYCj+I0MRkTElad05gwEpFXgPtUtblL6xnjOTviNyYMRCRbRD7D6Y+wpG8iyo74jTEmztgRvzHGxBlL/MYYE2cs8RtjTJyxxG+MMXHGEr8xxsSZ/wfjvUTgZQsNfAAAAABJRU5ErkJggg==\n",
      "text/plain": [
       "<Figure size 432x288 with 1 Axes>"
      ]
     },
     "metadata": {
      "needs_background": "light"
     },
     "output_type": "display_data"
    }
   ],
   "source": [
    "# write your code here\n",
    "yearly_avg_popularity.plot(marker='o')\n",
    "plt.title(\"Average popularity over the years\")\n",
    "plt.xlabel(\"Release year\")\n",
    "plt.ylabel(\"Average popularity\")\n",
    "plt.show()"
   ]
  },
  {
   "cell_type": "markdown",
   "id": "0c168f02",
   "metadata": {},
   "source": [
    "# Plot the release years distribution of top songs"
   ]
  },
  {
   "cell_type": "markdown",
   "id": "fdce69ab",
   "metadata": {},
   "source": [
    "1. Use plt.figure() to set the figure size to 10x6"
   ]
  },
  {
   "cell_type": "code",
   "execution_count": 22,
   "id": "77b87d19",
   "metadata": {},
   "outputs": [],
   "source": [
<<<<<<< Updated upstream
    "# write your code here\n",
    "plt.figure(figsize = (10, 6))"
=======
    "df"
>>>>>>> Stashed changes
   ]
  },
  {
   "cell_type": "markdown",
   "id": "e06a82a1",
   "metadata": {},
   "source": [
    "2. Use sns.histplot() to plot the column \"release_year\"\n",
    "\n",
    "    (Hint: Set bins to 20 and kde to True)"
   ]
  },
  {
   "cell_type": "code",
<<<<<<< Updated upstream
   "execution_count": 46,
   "id": "1e517c81",
   "metadata": {},
   "outputs": [
    {
     "data": {
      "text/plain": [
       "<AxesSubplot:xlabel='release_year', ylabel='Count'>"
      ]
     },
     "execution_count": 46,
     "metadata": {},
     "output_type": "execute_result"
    },
    {
     "data": {
      "image/png": "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\n",
      "text/plain": [
       "<Figure size 432x288 with 1 Axes>"
      ]
     },
     "metadata": {
      "needs_background": "light"
     },
     "output_type": "display_data"
    }
   ],
   "source": [
    "sns.histplot(df['release_year'])"
   ]
  },
  {
   "cell_type": "code",
   "execution_count": 45,
=======
   "execution_count": 23,
>>>>>>> Stashed changes
   "id": "f025338a",
   "metadata": {},
   "outputs": [
    {
     "data": {
      "text/plain": [
       "<AxesSubplot:xlabel='release_year', ylabel='Count'>"
      ]
     },
     "execution_count": 45,
     "metadata": {},
     "output_type": "execute_result"
    },
    {
     "data": {
      "image/png": "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\n",
      "text/plain": [
       "<Figure size 432x288 with 1 Axes>"
      ]
     },
     "metadata": {
      "needs_background": "light"
     },
     "output_type": "display_data"
    }
   ],
   "source": [
    "# write your code here\n",
    "sns.histplot(df['release_year'], bins=20, kde=True)"
   ]
  },
  {
   "cell_type": "markdown",
   "id": "21f77410",
   "metadata": {},
   "source": [
    "3. Make sure to label your title, x-axis, and y-axis with plt.title(), plt.xlabel(), and plt.ylabel() "
   ]
  },
  {
   "cell_type": "code",
<<<<<<< Updated upstream
   "execution_count": 47,
=======
   "execution_count": 24,
>>>>>>> Stashed changes
   "id": "a6983938",
   "metadata": {},
   "outputs": [
    {
     "data": {
      "image/png": "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\n",
      "text/plain": [
       "<Figure size 720x432 with 1 Axes>"
      ]
     },
     "metadata": {
      "needs_background": "light"
     },
     "output_type": "display_data"
    }
   ],
   "source": [
    "# write your code here\n",
    "plt.figure(figsize = (10, 6))\n",
    "sns.histplot(df['release_year'], bins=20, kde=True)\n",
    "plt.title(\"Release Yers Distribution of Top Songs\")\n",
    "plt.xlabel(\"Release Year\")\n",
    "plt.ylabel(\"Frequency\")\n",
    "plt.show()"
   ]
  },
  {
   "cell_type": "markdown",
   "id": "8d75a430",
   "metadata": {},
   "source": [
    "## Activity 2 "
   ]
  },
  {
   "cell_type": "markdown",
   "id": "188749c2",
   "metadata": {},
   "source": [
    "### Plot the distribution of danceability"
   ]
  },
  {
   "cell_type": "markdown",
   "id": "e28810aa",
   "metadata": {},
   "source": [
    "1. Use plt.figure() to set the figure size to 10x6"
   ]
  },
  {
   "cell_type": "code",
<<<<<<< Updated upstream
   "execution_count": 25,
=======
   "execution_count": 31,
>>>>>>> Stashed changes
   "id": "64ee0efd",
   "metadata": {},
   "outputs": [
    {
     "data": {
      "image/png": "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",
      "text/plain": [
       "<Figure size 1000x600 with 1 Axes>"
      ]
     },
     "metadata": {},
     "output_type": "display_data"
    }
   ],
   "source": [
    "plt.figure(figsize = (10, 6))\n",
    "sns. histplot(df['danceability'], bins=20, kde=True)\n",
    "plt.title(\"Distribution of danceability\")\n",
    "plt.xlabel(\"release year\")\n",
    "plt.ylabel(\"frequency\")\n",
    "plt.show()"
   ]
  },
  {
   "cell_type": "markdown",
   "id": "550f81cc",
   "metadata": {},
   "source": [
    "2. Use sns.histplot() to plot the column \"danceability\"\n",
    "\n",
    "    (Hint: Set bins to 20 and kde to True)"
   ]
  },
  {
   "cell_type": "code",
   "execution_count": 26,
   "id": "84915a64",
   "metadata": {},
   "outputs": [],
   "source": []
  },
  {
   "cell_type": "markdown",
   "id": "f4bff6ae",
   "metadata": {},
   "source": [
    "3. Make sure to label your title, x-axis, and y-axis with plt.title(), plt.xlabel(), and plt.ylabel() "
   ]
  },
  {
   "cell_type": "code",
   "execution_count": 27,
   "id": "f929d729",
   "metadata": {},
   "outputs": [],
   "source": [
    "# write your code here"
   ]
  },
  {
   "cell_type": "code",
   "execution_count": 48,
   "id": "4f779bab",
   "metadata": {},
   "outputs": [
    {
     "data": {
      "image/png": "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\n",
      "text/plain": [
       "<Figure size 720x432 with 1 Axes>"
      ]
     },
     "metadata": {
      "needs_background": "light"
     },
     "output_type": "display_data"
    }
   ],
   "source": [
    "plt.figure(figsize = (10, 6))\n",
    "sns.histplot(df['danceability'], bins=20, kde=True)\n",
    "plt.title(\"Distribution of Danceability\")\n",
    "plt.xlabel(\"Danceability\")\n",
    "plt.ylabel(\"Frequency\")\n",
    "plt.show()"
   ]
  },
  {
   "cell_type": "code",
   "execution_count": null,
   "id": "69b00118",
   "metadata": {},
   "outputs": [],
   "source": []
  }
 ],
 "metadata": {
  "kernelspec": {
   "display_name": "Python 3 (ipykernel)",
   "language": "python",
   "name": "python3"
  },
  "language_info": {
   "codemirror_mode": {
    "name": "ipython",
    "version": 3
   },
   "file_extension": ".py",
   "mimetype": "text/x-python",
   "name": "python",
   "nbconvert_exporter": "python",
   "pygments_lexer": "ipython3",
   "version": "3.11.5"
  }
 },
 "nbformat": 4,
 "nbformat_minor": 5
}
